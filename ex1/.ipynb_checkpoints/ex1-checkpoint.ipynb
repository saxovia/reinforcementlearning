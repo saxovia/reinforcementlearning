{
 "cells": [
  {
   "cell_type": "markdown",
   "id": "53274fb5",
   "metadata": {
    "deletable": false,
    "editable": false,
    "nbgrader": {
     "cell_type": "markdown",
     "checksum": "7554c3b58a5e75c64308c40a838d6b33",
     "grade": false,
     "grade_id": "cell-36af2f1e65d7b244",
     "locked": true,
     "schema_version": 3,
     "solution": false,
     "task": false
    }
   },
   "source": [
    "\n",
    "<div class=\"alert alert-block alert-info\">\n",
    "   <h2 align=\"center\"> <center><b> Reinforcement Learning Assignment 1 - The Reinforcement Learning Framework</b></center></h2>\n",
    "\n",
    "<br>\n",
    "<center><font size=\"3\">This notebook is a part of teaching material for ELEC-E8125</font></center>\n",
    "<center><font size=\"3\">Sep 4, 2024 - Nov 30, 2024</font></center>\n",
    "<center><font size=\"3\">Aalto University</font></center>\n",
    "</div>\n",
    "\n",
    "\n",
    "<a id='TOC'></a>\n",
    "\n",
    "<div class=\"alert alert-block alert-success\">\n",
    "    \n",
    "# Table of contents\n",
    "* <a href='#1.'> 1. Introduction </a>\n",
    "* <a href='#1.1'> 1.1 Learning Objectives </a>\n",
    "* <a href='#1.2'> 1.2 Code Structure & Files </a>\n",
    "* <a href='#2.'> 2. Cartpole</a>\n",
    "* <a href='#3.'> 3. Reacher</a>\n",
    "* <a href='#4.'> 4. Submitting </a>\n",
    "* <a href='#4.1'> 4.1 Feedback </a>\n",
    "* <a href='#5.'> References</a>\n",
    "\n",
    "<a href='#T1'><b>Student Task 1.</b> Training a Model for Simple Cartpole Environment (10 points)</a>\\\n",
    "<a href='#Q1'><b>Student Question 1.1</b> Learning (10 points)</a>\\\n",
    "<a href='#T2'><b>Student Task 2.</b> Investigating Training Performance (10 points) </a>\\\n",
    "<a href='#Q2'><b>Student Question 2.1</b> Analysis of Training Performance (15 points) </a>\\\n",
    "<a href='#Q3'><b>Student Question 2.2</b> Stochasticity (10 points) </a>\\\n",
    "<a href='#T3'><b>Student Task 3.</b> Reward Functions (20 points) </a>\\\n",
    "<a href='#T4'><b>Student Task 4.</b> Visualizing Behavior (10 points) </a>\\\n",
    "<a href='#Q4'><b>Student Question 4.1</b> Achieved Peformance (5 points)\\\n",
    "<a href='#Q5'><b>Student Question 4.2</b> Analysis of Behaviour (10 points)</a>\n",
    "    \n",
    "**Total Points:** 100\n",
    "\n",
    "**Estimated runtime of all the cells:** 30 minutes "
   ]
  },
  {
   "cell_type": "markdown",
   "id": "44ab28e9",
   "metadata": {
    "deletable": false,
    "editable": false,
    "nbgrader": {
     "cell_type": "markdown",
     "checksum": "ecb4bed28908246a16850b56315b8e8e",
     "grade": false,
     "grade_id": "cell-afbabf910b8ed9fd",
     "locked": true,
     "schema_version": 3,
     "solution": false,
     "task": false
    },
    "tags": []
   },
   "source": [
    "# 1. Introduction <a id='1.'></a>\n",
    "In this exercise we will take a first look at a reinforcement learning environment, its components and modify the reward function of a simple agent.\n",
    "\n",
    "In this notebook two environments are used: Cartpole and Reacher. The cartpole environment is taken from [OpenAI's Gym library](https://www.gymlibrary.dev/). The reacher environment is custom made (and defined in ```reacher.py```) but utilizes the Gym API.\n",
    "\n",
    "## 1.1 Learning Objectives: <a id='1.1'></a>\n",
    "- To become familiar with assignment structure and the agent-environment relationshp\n",
    "- To understand the effects of stochasticity\n",
    "- To understand and explore the effects of task definition\n",
    "\n",
    "## 1.2 Code Structure & Files <a id='1.2'></a>\n",
    "\n",
    "The ```train.py``` file instantiates the environment and the RL agent that acts in it. The ```agent.py``` file contains the implementation of a simple reinforcement learning agent; for the sake of this exercise, you can assume it to be a black box (you don’t need to understand how it works, although you are encouraged to study it in more detail). You don’t have to edit any other file other than ```ex1.ipynb``` to complete this exercise.\n",
    "```\n",
    "├───cfg                  # Config files for environments e.g. define the maximum number of steps in an episode.\n",
    "├───imgs                 # Images used in notebook\n",
    "├───results \n",
    "│   ├───logging          # Contains logged data\n",
    "│   ├───model            # Contains the policies learned\n",
    "│   └───video            # Contains videos for each environment\n",
    "│       └───CartPole-v0\n",
    "│       │  └───test      # Videos saved during testing\n",
    "│       │  └───train     # Videos saved during training\n",
    "│       └───SpinningReacher-v0\n",
    "│           └───test\n",
    "│           └───train\n",
    "│   ex1.ipynb            # Main assignment file containing tasks <---------\n",
    "│   feedback.ipynb       # Please give feedback in here\n",
    "│   README.ipynb         # This file\n",
    "│   agent.py             # Contains functions that govern the policy\n",
    "│   reacher.py           # Defines the reacher environment\n",
    "│   train.py             # Contains training and testing functions\n",
    "│   utils.py             # Contains useful functions \n",
    "```"
   ]
  },
  {
   "cell_type": "markdown",
   "id": "100c1cfb",
   "metadata": {},
   "source": [
    "Please consult ```README.md``` for more details the assignments."
   ]
  },
  {
   "cell_type": "markdown",
   "id": "28556beb",
   "metadata": {},
   "source": [
    "## Warnings:\n",
    "\n",
    "- Don’t copy and paste cells within a notebook. This will mess up the tracking metadata and prevent autograding from working.\n",
    "- Only add new cells using the '+' button in the upper toolbar and do not split cells.\n",
    "- Be cautious about things such as copying the whole notebook to Colab to work on it. This has sometimes resulted in removing all notebook metadata, making autograding impossible."
   ]
  },
  {
   "cell_type": "code",
   "execution_count": 21,
   "id": "f097ab74",
   "metadata": {
    "tags": []
   },
   "outputs": [],
   "source": [
    "skip_training = True  # Set this flag to True before validation and submission"
   ]
  },
  {
   "cell_type": "code",
   "execution_count": null,
   "id": "cc004e57",
   "metadata": {
    "deletable": false,
    "editable": false,
    "nbgrader": {
     "cell_type": "code",
     "checksum": "ecf78d754d0b1f6eb047222f9e14a0e4",
     "grade": true,
     "grade_id": "cell-8fb587d5abdec975",
     "locked": true,
     "points": 0,
     "schema_version": 3,
     "solution": false,
     "task": false
    }
   },
   "outputs": [],
   "source": []
  },
  {
   "cell_type": "code",
   "execution_count": 5,
   "id": "c8cb8a88",
   "metadata": {
    "tags": []
   },
   "outputs": [],
   "source": [
    "from pathlib import Path # to find directory\n",
    "work_dir = Path().cwd()/'results'\n",
    "import os\n",
    "\n",
    "import train as t # for training\n",
    "import utils as u # helper functions\n",
    "\n",
    "import numpy as np # The numpy library can be used for math functions\n",
    "import torch # Used to manage policy and learning\n",
    "from IPython.display import Video, display, HTML # to display videos"
   ]
  },
  {
   "cell_type": "markdown",
   "id": "f5e36a57",
   "metadata": {
    "deletable": false,
    "editable": false,
    "nbgrader": {
     "cell_type": "markdown",
     "checksum": "763e8f96ce1394a2d2996a1b0c44ca50",
     "grade": false,
     "grade_id": "cell-56c1faa5635120ab",
     "locked": true,
     "schema_version": 3,
     "solution": false,
     "task": false
    }
   },
   "source": [
    "# 2. Cartpole <a id='2.'></a>\n",
    "\n",
    "The Cartpole environment consists of a cart and a pole mounted on top of it, as shown in Figure 1. The cart can move either to the left or to the right. The goal is to balance the pole in a vertical position in order to prevent it from falling down. The cart should also stay within limited distance from the center (trying to move outside screen boundaries is considered a failure).\n",
    "\n",
    "<figure>\n",
    "<img src=\"imgs/cartpole.png\" width=\"400px\">\n",
    "<figcaption style=\"text-align: center\"> Figure 1: The Cartpole environment  </figcaption>\n",
    "</figure>\n",
    "\n",
    "The state and the observation are four element vectors:\n",
    "\n",
    "$$\n",
    "o=s=\\left(\\begin{array}{c}\n",
    "x \\\\\n",
    "\\dot{x} \\\\\n",
    "\\theta \\\\\n",
    "\\dot{\\theta}\n",
    "\\end{array}\\right) \\text {, }\n",
    "$$\n",
    "\n",
    "where $x$ is the position of the cart, $\\dot{x}$ is its velocity, $\\theta$ is the angle of the pole w.r.t. the vertical axis, and $\\dot{\\theta}$ is the angular velocity of the pole.\n",
    "\n",
    "In the standard formulation, a reward of 1 is given for every timestep the pole remains balanced. Upon failing (the pole falls) or completing the task, an episode is finished.\n",
    "\n",
    "The training script will record videos of the agent’s learning progress during training, and the recorded videos are saved to ```results/video/CartPole-v0/train```. By default, the training information is saved to ```results/logging/CartPole-v0_{seed}.csv```. When the training is finished, the models are saved to ```results/model/Cartpole-v0_params.pt```. The models can be tested by setting ```testing=true``` in ```cfg_args```, and if the models are saved to a different path, you can use ```model_path=<YOUR MODEL PATH>``` to indicate it. Videos of the agent’s behaviour during testing are saved to ```results/video/CartPole-v0/test```."
   ]
  },
  {
   "cell_type": "markdown",
   "id": "6d5bb7ba",
   "metadata": {
    "deletable": false,
    "editable": false,
    "nbgrader": {
     "cell_type": "markdown",
     "checksum": "eea93d2ec4d7bd487e89079b029811eb",
     "grade": false,
     "grade_id": "cell-4902974772926f28",
     "locked": true,
     "schema_version": 3,
     "solution": false,
     "task": false
    },
    "tags": []
   },
   "source": [
    "<a id='T1'></a>\n",
    "<div class=\" alert alert-warning\">\n",
    "    <h3><b>Student Task 1.</b> Training a Model for Simple Cartpole Environment (10 points) </h3> \n",
    "\n",
    "This task requires you to train a model for the cartpole environment with 100 timesteps per episode and then report the training plot using 'Weights \\& Biases'. Then test the model for 1000 timesteps and report average reward. To do this, you can simply run the code in the cells below. \n",
    "\n",
    "To see a full list of options that can be passed through ```cfg_args``` consult the configuation file found in ```cfg/```.\n",
    "\n",
    "- **1st** Run training over 100 steps per episode by using ```t.train``` function. See the cell below. \n",
    "- **2nd:** Export the training plot ```episodesep_reward``` from logged data (.csv format).\n",
    "- **3rd:** Run testing over 500 steps by using ```t.test``` function. See the cell below. See the cell below. Notice ```max_episode_steps``` parameter. \n",
    "- **4th:** Report the average reward after testing the model.\n",
    "    \n",
    "🔝\t<a href='#TOC'><b>Table of Contents</b></a>\n",
    "</div>\n"
   ]
  },
  {
   "cell_type": "code",
   "execution_count": 5,
   "id": "e0481176",
   "metadata": {
    "tags": []
   },
   "outputs": [
    {
     "name": "stdout",
     "output_type": "stream",
     "text": [
      "Numpy/Torch/Random Seed:  1\n",
      "Configuration Settings: {'exp_name': 'ex1', 'seed': 1, 'env_name': 'CartPole-v1', 'model_name': 'CartPole-v1', 'max_episode_steps': 100, 'train_episodes': 500, 'batch_size': 64, 'min_update_samples': 2000, 'testing': False, 'model_path': 'default', 'save_video': True, 'save_model': True, 'save_logging': True, 'silent': False, 'use_wandb': True, 'run_suffix': 0}\n",
      "Training device: cpu\n",
      "Observation space dimensions: 4\n",
      "Action space dimensions: 2\n",
      "\n"
     ]
    },
    {
     "name": "stderr",
     "output_type": "stream",
     "text": [
      "/opt/software/lib/python3.10/site-packages/gymnasium/wrappers/record_video.py:87: UserWarning: \u001b[33mWARN: Overwriting existing videos at /notebooks/rl2024/ex1/results/video/CartPole-v1/train folder (try specifying a different `video_folder` for the `RecordVideo` wrapper if this is not desired)\u001b[0m\n",
      "  logger.warn(\n"
     ]
    },
    {
     "name": "stdout",
     "output_type": "stream",
     "text": [
      "Episode 0 finished. Total reward: 14.0 (14 timesteps)\n",
      "Episode 5 finished. Total reward: 38.0 (38 timesteps)\n",
      "Episode 10 finished. Total reward: 14.0 (14 timesteps)\n",
      "Episode 15 finished. Total reward: 83.0 (83 timesteps)\n",
      "Episode 20 finished. Total reward: 12.0 (12 timesteps)\n",
      "Episode 25 finished. Total reward: 18.0 (18 timesteps)\n",
      "Episode 30 finished. Total reward: 36.0 (36 timesteps)\n",
      "Episode 35 finished. Total reward: 16.0 (16 timesteps)\n",
      "Episode 40 finished. Total reward: 29.0 (29 timesteps)\n",
      "Episode 45 finished. Total reward: 15.0 (15 timesteps)\n",
      "Episode 50 finished. Total reward: 15.0 (15 timesteps)\n",
      "Episode 55 finished. Total reward: 27.0 (27 timesteps)\n",
      "Episode 60 finished. Total reward: 33.0 (33 timesteps)\n",
      "Episode 65 finished. Total reward: 11.0 (11 timesteps)\n",
      "Episode 70 finished. Total reward: 27.0 (27 timesteps)\n",
      "Episode 75 finished. Total reward: 13.0 (13 timesteps)\n",
      "Episode 80 finished. Total reward: 9.0 (9 timesteps)\n",
      "Episode 85 finished. Total reward: 19.0 (19 timesteps)\n",
      "Updating the policy...\n",
      "Updating finished!\n",
      "Episode 90 finished. Total reward: 58.0 (58 timesteps)\n",
      "Episode 95 finished. Total reward: 13.0 (13 timesteps)\n",
      "Episode 100 finished. Total reward: 17.0 (17 timesteps)\n",
      "Episode 105 finished. Total reward: 17.0 (17 timesteps)\n",
      "Episode 110 finished. Total reward: 27.0 (27 timesteps)\n",
      "Episode 115 finished. Total reward: 9.0 (9 timesteps)\n",
      "Episode 120 finished. Total reward: 17.0 (17 timesteps)\n",
      "Episode 125 finished. Total reward: 13.0 (13 timesteps)\n",
      "Episode 130 finished. Total reward: 26.0 (26 timesteps)\n",
      "Episode 135 finished. Total reward: 9.0 (9 timesteps)\n",
      "Episode 140 finished. Total reward: 89.0 (89 timesteps)\n",
      "Episode 145 finished. Total reward: 14.0 (14 timesteps)\n",
      "Episode 150 finished. Total reward: 30.0 (30 timesteps)\n",
      "Episode 155 finished. Total reward: 27.0 (27 timesteps)\n",
      "Episode 160 finished. Total reward: 23.0 (23 timesteps)\n",
      "Updating the policy...\n",
      "Updating finished!\n",
      "Episode 165 finished. Total reward: 24.0 (24 timesteps)\n",
      "Episode 170 finished. Total reward: 28.0 (28 timesteps)\n",
      "Episode 175 finished. Total reward: 32.0 (32 timesteps)\n",
      "Episode 180 finished. Total reward: 27.0 (27 timesteps)\n",
      "Episode 185 finished. Total reward: 65.0 (65 timesteps)\n",
      "Episode 190 finished. Total reward: 99.0 (99 timesteps)\n",
      "Episode 195 finished. Total reward: 30.0 (30 timesteps)\n",
      "Episode 200 finished. Total reward: 25.0 (25 timesteps)\n",
      "Episode 205 finished. Total reward: 29.0 (29 timesteps)\n",
      "Episode 210 finished. Total reward: 27.0 (27 timesteps)\n",
      "Updating the policy...\n",
      "Updating finished!\n",
      "Episode 215 finished. Total reward: 100.0 (100 timesteps)\n",
      "Episode 220 finished. Total reward: 100.0 (100 timesteps)\n",
      "Episode 225 finished. Total reward: 59.0 (59 timesteps)\n",
      "Episode 230 finished. Total reward: 74.0 (74 timesteps)\n",
      "Episode 235 finished. Total reward: 49.0 (49 timesteps)\n",
      "Episode 240 finished. Total reward: 96.0 (96 timesteps)\n",
      "Episode 245 finished. Total reward: 73.0 (73 timesteps)\n",
      "Updating the policy...\n",
      "Updating finished!\n",
      "Episode 250 finished. Total reward: 100.0 (100 timesteps)\n",
      "Episode 255 finished. Total reward: 100.0 (100 timesteps)\n",
      "Episode 260 finished. Total reward: 52.0 (52 timesteps)\n",
      "Episode 265 finished. Total reward: 100.0 (100 timesteps)\n",
      "Episode 270 finished. Total reward: 18.0 (18 timesteps)\n",
      "Updating the policy...\n",
      "Updating finished!\n",
      "Episode 275 finished. Total reward: 100.0 (100 timesteps)\n",
      "Episode 280 finished. Total reward: 92.0 (92 timesteps)\n",
      "Episode 285 finished. Total reward: 100.0 (100 timesteps)\n",
      "Episode 290 finished. Total reward: 100.0 (100 timesteps)\n",
      "Updating the policy...\n",
      "Updating finished!\n",
      "Episode 295 finished. Total reward: 100.0 (100 timesteps)\n",
      "Episode 300 finished. Total reward: 100.0 (100 timesteps)\n",
      "Episode 305 finished. Total reward: 100.0 (100 timesteps)\n",
      "Episode 310 finished. Total reward: 100.0 (100 timesteps)\n",
      "Updating the policy...\n",
      "Updating finished!\n",
      "Episode 315 finished. Total reward: 97.0 (97 timesteps)\n",
      "Episode 320 finished. Total reward: 100.0 (100 timesteps)\n",
      "Episode 325 finished. Total reward: 100.0 (100 timesteps)\n",
      "Episode 330 finished. Total reward: 100.0 (100 timesteps)\n",
      "Episode 335 finished. Total reward: 100.0 (100 timesteps)\n",
      "Updating the policy...\n",
      "Updating finished!\n",
      "Episode 340 finished. Total reward: 100.0 (100 timesteps)\n",
      "Episode 345 finished. Total reward: 100.0 (100 timesteps)\n",
      "Episode 350 finished. Total reward: 95.0 (95 timesteps)\n",
      "Episode 355 finished. Total reward: 100.0 (100 timesteps)\n",
      "Updating the policy...\n",
      "Updating finished!\n",
      "Episode 360 finished. Total reward: 100.0 (100 timesteps)\n",
      "Episode 365 finished. Total reward: 100.0 (100 timesteps)\n",
      "Episode 370 finished. Total reward: 100.0 (100 timesteps)\n",
      "Episode 375 finished. Total reward: 100.0 (100 timesteps)\n",
      "Updating the policy...\n",
      "Updating finished!\n",
      "Episode 380 finished. Total reward: 100.0 (100 timesteps)\n",
      "Episode 385 finished. Total reward: 100.0 (100 timesteps)\n",
      "Episode 390 finished. Total reward: 100.0 (100 timesteps)\n",
      "Episode 395 finished. Total reward: 100.0 (100 timesteps)\n",
      "Updating the policy...\n",
      "Updating finished!\n",
      "Episode 400 finished. Total reward: 85.0 (85 timesteps)\n",
      "Episode 405 finished. Total reward: 100.0 (100 timesteps)\n",
      "Episode 410 finished. Total reward: 100.0 (100 timesteps)\n",
      "Episode 415 finished. Total reward: 100.0 (100 timesteps)\n",
      "Episode 420 finished. Total reward: 100.0 (100 timesteps)\n",
      "Updating the policy...\n",
      "Updating finished!\n",
      "Episode 425 finished. Total reward: 100.0 (100 timesteps)\n",
      "Episode 430 finished. Total reward: 100.0 (100 timesteps)\n",
      "Episode 435 finished. Total reward: 100.0 (100 timesteps)\n",
      "Episode 440 finished. Total reward: 100.0 (100 timesteps)\n",
      "Updating the policy...\n",
      "Updating finished!\n",
      "Episode 445 finished. Total reward: 100.0 (100 timesteps)\n",
      "Episode 450 finished. Total reward: 100.0 (100 timesteps)\n",
      "Episode 455 finished. Total reward: 100.0 (100 timesteps)\n",
      "Episode 460 finished. Total reward: 100.0 (100 timesteps)\n",
      "Updating the policy...\n",
      "Updating finished!\n",
      "Episode 465 finished. Total reward: 100.0 (100 timesteps)\n",
      "Episode 470 finished. Total reward: 100.0 (100 timesteps)\n",
      "Episode 475 finished. Total reward: 100.0 (100 timesteps)\n",
      "Episode 480 finished. Total reward: 100.0 (100 timesteps)\n",
      "Updating the policy...\n",
      "Updating finished!\n",
      "Episode 485 finished. Total reward: 100.0 (100 timesteps)\n",
      "Episode 490 finished. Total reward: 100.0 (100 timesteps)\n",
      "Episode 495 finished. Total reward: 100.0 (100 timesteps)\n",
      "Episode 500 finished. Total reward: 100.0 (100 timesteps)\n",
      "Model saved to /notebooks/rl2024/ex1/results/model/CartPole-v1_params.pt\n",
      "------Training finished.------\n"
     ]
    }
   ],
   "source": [
    "if not skip_training:\n",
    "    t.train(cfg_path=Path().cwd()/'cfg'/'cartpole_v1.yaml', cfg_args=dict(seed=1, max_episode_steps=100, model_name=\"CartPole-v1\")) # < 5 mins"
   ]
  },
  {
   "cell_type": "code",
   "execution_count": 6,
   "id": "1f8cd415-c26a-44cf-9f76-f80237cdd918",
   "metadata": {
    "tags": []
   },
   "outputs": [
    {
     "data": {
      "image/png": "[encoded data removed]",
      "text/plain": [
       "<Figure size 450x300 with 1 Axes>"
      ]
     },
     "metadata": {},
     "output_type": "display_data"
    }
   ],
   "source": [
    "if not skip_training:\n",
    "    u.plot_reward(Path().cwd()/'results'/'logging'/'CartPole-v1_1.csv', 'CartPole')"
   ]
  },
  {
   "cell_type": "markdown",
   "id": "b0230ba0",
   "metadata": {
    "deletable": false,
    "editable": false,
    "nbgrader": {
     "cell_type": "markdown",
     "checksum": "4b2dc935e91cccb3f0345d4c423e7190",
     "grade": false,
     "grade_id": "cell-64fbeb2b60de708a",
     "locked": true,
     "schema_version": 3,
     "solution": false,
     "task": false
    }
   },
   "source": [
    "The command below will evaluate the trained model in 10 episodes and report the average reward (and episode length) for these 10 episodes. Do not delete the cell below as it is used for grading."
   ]
  },
  {
   "cell_type": "code",
   "execution_count": 7,
   "id": "95418d8d",
   "metadata": {
    "deletable": false,
    "editable": false,
    "nbgrader": {
     "cell_type": "code",
     "checksum": "8b492043c94a6382f5ff92b768d1cc89",
     "grade": true,
     "grade_id": "cell-8b1bd0d092f865b7",
     "locked": true,
     "points": 10,
     "schema_version": 3,
     "solution": false,
     "task": false
    },
    "tags": []
   },
   "outputs": [
    {
     "name": "stdout",
     "output_type": "stream",
     "text": [
      "Numpy/Torch/Random Seed:  688\n",
      "Loading model from /notebooks/rl2024/ex1/results/model/CartPole-v1_params.pt ...\n",
      "Testing...\n",
      "Test ep reward: 123.0 seed: 434\n",
      "Test ep reward: 144.0 seed: 308\n",
      "Test ep reward: 128.0 seed: 922\n",
      "Test ep reward: 127.0 seed: 231\n",
      "Test ep reward: 121.0 seed: 961\n",
      "Test ep reward: 140.0 seed: 363\n",
      "Test ep reward: 128.0 seed: 626\n",
      "Test ep reward: 130.0 seed: 905\n",
      "Test ep reward: 137.0 seed: 497\n",
      "Test ep reward: 134.0 seed: 816\n",
      "Average test reward: 131.2 episode length: 131.2\n"
     ]
    }
   ],
   "source": [
    "%%capture --no-stdout\n",
    "assert t.test(episodes=10, cfg_path=Path().cwd()/'cfg'/'cartpole_v1.yaml', \n",
    "        cfg_args=dict(testing=True, save_video=(not skip_training), save_model=False, seed=None, max_episode_steps=500,model_name=\"CartPole-v1\")) > 100"
   ]
  },
  {
   "cell_type": "markdown",
   "id": "7829f371",
   "metadata": {},
   "source": [
    "Report below the average reward after testing the model"
   ]
  },
  {
   "cell_type": "markdown",
   "id": "18da8596",
   "metadata": {
    "deletable": false,
    "nbgrader": {
     "cell_type": "markdown",
     "checksum": "e556373c147e8173d8451bd1c237691e",
     "grade": true,
     "grade_id": "cell-24f7f8d91599a232",
     "locked": false,
     "points": 0,
     "schema_version": 3,
     "solution": true,
     "task": false
    }
   },
   "source": [
    "131.2"
   ]
  },
  {
   "cell_type": "markdown",
   "id": "65a689b7",
   "metadata": {
    "deletable": false,
    "editable": false,
    "nbgrader": {
     "cell_type": "markdown",
     "checksum": "9f2c06a70d499a71cbcb437b5400a3c1",
     "grade": false,
     "grade_id": "cell-17b4eb8d711f2770",
     "locked": true,
     "schema_version": 3,
     "solution": false,
     "task": false
    }
   },
   "source": [
    "The agent acting in the environment can be seen using the following command. Change the ```path``` to pick the episode you want to visualize. Bear in mind by default video saving for training is taken every 50 episodes."
   ]
  },
  {
   "cell_type": "code",
   "execution_count": 8,
   "id": "ee7bc0ff",
   "metadata": {
    "tags": []
   },
   "outputs": [
    {
     "name": "stdout",
     "output_type": "stream",
     "text": [
      "test/ ex1-episode-0.mp4\n"
     ]
    },
    {
     "data": {
      "text/html": [
       "<div style=\"width: 200px; height: 100px;; border: 1px solid #FF5733;\"><video loop autoplay  width=\"200\"  height=\"100\">\n",
       " <source src=\"data:video/mp4;base64,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\" type=\"video/mp4\">\n",
       " Your browser does not support the video tag.\n",
       " </video></div>"
      ],
      "text/plain": [
       "<IPython.core.display.HTML object>"
      ]
     },
     "metadata": {},
     "output_type": "display_data"
    },
    {
     "name": "stdout",
     "output_type": "stream",
     "text": [
      "test/ ex1-episode-50.mp4\n"
     ]
    },
    {
     "data": {
      "text/html": [
       "<div style=\"width: 200px; height: 100px;; border: 1px solid #FF5733;\"><video loop autoplay  width=\"200\"  height=\"100\">\n",
       " <source src=\"data:video/mp4;base64,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\" type=\"video/mp4\">\n",
       " Your browser does not support the video tag.\n",
       " </video></div>"
      ],
      "text/plain": [
       "<IPython.core.display.HTML object>"
      ]
     },
     "metadata": {},
     "output_type": "display_data"
    },
    {
     "name": "stdout",
     "output_type": "stream",
     "text": [
      "test/ ex1-episode-100.mp4\n"
     ]
    },
    {
     "data": {
      "text/html": [
       "<div style=\"width: 200px; height: 100px;; border: 1px solid #FF5733;\"><video loop autoplay  width=\"200\"  height=\"100\">\n",
       " <source src=\"data:video/mp4;base64,AAAAIGZ0eXBpc29tAAACAGlzb21pc28yYXZjMW1wNDEAAAAIZnJlZQAADERtZGF0AAACrwYF//+r3EXpvebZSLeWLNgg2SPu73gyNjQgLSBjb3JlIDE2NCByMzA5NSBiYWVlNDAwIC0gSC4yNjQvTVBFRy00IEFWQyBjb2RlYyAtIENvcHlsZWZ0IDIwMDMtMjAyMiAtIGh0dHA6Ly93d3cudmlkZW9sYW4ub3JnL3gyNjQuaHRtbCAtIG9wdGlvbnM6IGNhYmFjPTEgcmVmPTMgZGVibG9jaz0xOjA6MCBhbmFseXNlPTB4MzoweDExMyBtZT1oZXggc3VibWU9NyBwc3k9MSBwc3lfcmQ9MS4wMDowLjAwIG1peGVkX3JlZj0xIG1lX3JhbmdlPTE2IGNocm9tYV9tZT0xIHRyZWxsaXM9MSA4eDhkY3Q9MSBjcW09MCBkZWFkem9uZT0yMSwxMSBmYXN0X3Bza2lwPTEgY2hyb21hX3FwX29mZnNldD0tMiB0aHJlYWRzPTEyIGxvb2thaGVhZF90aHJlYWRzPTIgc2xpY2VkX3RocmVhZHM9MCBucj0wIGRlY2ltYXRlPTEgaW50ZXJsYWNlZD0wIGJsdXJheV9jb21wYXQ9MCBjb25zdHJhaW5lZF9pbnRyYT0wIGJmcmFtZXM9MyBiX3B5cmFtaWQ9MiBiX2FkYXB0PTEgYl9iaWFzPTAgZGlyZWN0PTEgd2VpZ2h0Yj0xIG9wZW5fZ29wPTAgd2VpZ2h0cD0yIGtleWludD0yNTAga2V5aW50X21pbj0yNSBzY2VuZWN1dD00MCBpbnRyYV9yZWZyZXNoPTAgcmNfbG9va2FoZWFkPTQwIHJjPWNyZiBtYnRyZWU9MSBjcmY9MjMuMCBxY29tcD0wLjYwIHFwbWluPTAgcXBtYXg9NjkgcXBzdGVwPTQgaXBfcmF0aW89MS40MCBhcT0xOjEuMDAAgAAAAqRliIQAI//+9Sf4FNQS/Evha2Ht1LdJMNFwsS2z0ACHoUAAAAMAB/5MpR0dNau8UAAAEMADgB9BlB5iJirFQJbQWBEM4ALgLKyv+3N6PVptDQHcDjw/bwH/Y6yudaYBNbQ+dWI3vXhPdWGijruug5/U51OFB6Fj/GuFBZF39PmQSD5yWXRywPy9aVOD29tq+SacCJacKGbkHHjjjceuWU/a3wgOygFZYCVhBHWqqgWslqF9SfErd0G2WADD3wiHrw4rp8/Bfj6Yt93m1fJXl7Uz029gIy0MzuRMN6Q2TCZfF6fLnkBOxFP2yKLgTSHZ9SKpQyO43iJkDBjwBFYfEecDEL4O9XLTBvXrGFEbf4f0cNKYnie2hGSFMsKCHq00ZcTReAZtWaku5L6H3jJz8km/DlPcQO+lL71SHxIcHkG82plsZ6BpL0AKrIaAmTXMdsDrjc2SUPn/TuNvI99GpEb/4HwdS86etGoFAK+sh24W+x/KQimhBiZx3QJaomO+aRlCWWY/Os3s45mZ8UR56klec/Ciiv25Zf0mDSbCBu5j3UxUyCCRoi5RUw1YjnMOHAXa9nv6wc+RpdYJ9RwmxrlKx7jCCelqqxgUfSJjyEDIPpxV8b6nDp9f6PAqQTpvRMoT/7eUQCPiRoHCokPJFe7acphPubaEe0Im8J9Pi460Lj+rhSh8EhomkBc9gW61t0amv92m/+N1F3ef24NIBjcYRCk0V8IjpghWPU6/J47WPlfMrzP2ErOtyST98iLQKV80D6VcYZkwghWihwCOznPxjLMzDMVmPxA8AACzkovaAl4yJuJ9ER3VQPoaZEigWX7kEjsmDwoikEpb7uK5pWN0zZV0Yvc8k4+TTrTvR0iwGRYNbKvJiCZ3+gPtAAADAAADAALDAAABDUGaImxCf/3xAAADArXJ9gxDR+i4EboAJ3DzGGI8M/Kpvj6VjmpJGX69yv7vRYu1cFHK0HNLK6n18K/on9yLKzOG4LR2ssqiPT5jquLL/8jrKzjIA8VxT43gBPUMqCSCT9h1wnZfo9WIKt1eB/AmfgvUxUgY27Pu15jxuhw99JpWujITnr9MkS8K2ql+zOZ/GfCPfRL1zQ2fXNwoTuBe0Q+zprlHDGeSZiNA2mv9R9yZoO7WyCL5uj8Ts8Og4NvxwAk/mg4QxEqRpFhkV1qrmg6uwFrxDIt9obgoWFNj+J1Z1QeqL03r20FiH2bN+ISmZZ3ebHkF+paEO53/h/4oExaQpmXIx5TPGR59FzNZAAAAMAGeQXkf/wAAJLHBDcaCXIYtB/3MpZ5MghbPZ8Rq9D08qROxiBCkI6JoYJmh1iUjPwAAAHhBmkY8IZMphCv//jhAAAEM+t8Vdc+pDpAaMFe3gBwjI2w2Wcr036Qc05c0mC+uyL+xVNkObs/nS+790JBb7l+H23xuy57Gz7Sx7QPeqbM9noElgetFaBTfRxs6DZMNI2tlfe6+2Z14wvf4kppP2Fn3v02C6+VQ1WgAAAApQZ5kalPCPwAAFrxQtKvM+Zp3yikmYYLASEPe/iCIdAQtUtCTgytwFJEAAAAsAZ6DdEf/AAANzhNEHENHOC2uEwCZh5xKuvRZAA+41bOKyhSNaNnOaf64om8AAAAdAZ6Fakf/AAAjsisNuyOPw8cP6UttTDGf0slToIEAAAAXQZqKSahBaJlMCP/8hAAAAwAArGhnJekAAAA5QZ6oRREsI/8AAAhthB/UtJ3Sj0pAnHEmEGau7fOmTLywZ/U0o0KALBiCYe8UFmdPuWgL/P8+MGzAAAAAGwGex3RH/wAABRxbeZJPdykkh8fe9ewZtPigYAAAABwBnslqR/8AAAUfNNWxkwvP68AVDV/Nlgs3w2zBAAAAl0Gay0moQWyZTAhP//3xAAADAqC0vQAN1hvdeAenPl1AYISQ74CmWKYjLGYUrl0kmdHR9YAYsFGZpKCqmz4tkSiqAgkhCd1Z7UTCpNje13QrMa0YDy2crdUjbz1NfQaVVtLaIc0jGrWZs7SULfHtiUz+7Wp0MzywYGvELZcXQtyVRGHEO+RLLGVBrQPx/zxJGfWL/vb4aYAAAADQQZrvSeEKUmUwIR/94QAABBNKBe8AcmCUPdOs1b5qw/PtCB7af2tQNwZRAMGcUoXdu4KHH7sT5CYDG3Pf8wkhpmcdd3p0DVkRjt2WYJcEeKuiu5uR94PZ9IbwC5PQIfRO6ttv/9WPdVBuZtEeF8Xhpi9OWr5KlNRKdbvXh8QlY1OBGZ9q2OFdw3Kh3zh6c7csdSzTCgxAuC8UICv332GHUhxQD9fgYVxQwqsBJPrvA903tOLgt+bh2N9Rc12M8FX+ka0iwI+JAcABuzZBNMRYtgAAAFBBnw1FNEwj/wAAFrtfbrRoLcLgBat3YsN8sa74qpJrnEVNzxI500Bj+gwyboct1IlL/nWWbaKCZgw5fqRELDc5MV7/MEj1plmYj5Yal7bluQAAAEABnyx0R/8AACPAuN+/7X6IAC4YPreaQe9qAHCiswQPw6wsR8GhBIrSR7v1in34hhTdCMoR0qERFHhLutq/vVhbAAAARwGfLmpH/wAAI64xL89cjYZa6MkVnsLpbF95T9CzWaVBXgZUEsLVMfqJVb8u6TZMTmLeAF+g/+/JxxJxIb/lSii8giTGnu2vAAAAvUGbM0moQWiZTAj//IQAAA/Tq/hhoWOr3c2SPFBuFrMEFAZ0oAWy2QQn8kQRvayZshwdiIa1LKkGYL+VuZ/lv+iDzbEcjb/esuinVHKoDMyjuKv+OfP+aTFqRHSSgYfmJL6cOtARLvYGY+RAox7ABU8EIlk0QBb42QYai0rH4yqQSumd/+L3CcozsVCV2meYznp18XM+Y18mS3sAVy/JBrMp7LZpf9d8Q5bOmFWEs3UEG1zOgzv9Mf8lMyABgAAAAG1Bn1FFESwj/wAAFrsixGQI0LpxFjfcSoHP784JdMqOLMV+1t0XUpSb2/gS0dlGhjMj3jlJlFmkyAAGtAwjK/1KpXN+kBpXb04T8u9DWWcfKY/Vnt/X3/mPH8HqjXI5t/GdSiaqZ0witK+zmLDaAAAASQGfcHRH/wAAI8AK1qdtY0t50Yqb9Nc7IdibCxju4kdDnCTMs4IHiycjCcMFzOxASLYSbm1ENmt8SE63ZSgKQMJTKUMOrs+hwk0AAAA2AZ9yakf/AAAjsaqJ2wxb7ad18vj99xfrtnaKhzxXyMd0Oaerbhcb1PriUsoJY7kRc+mSdkGwAAAEG21vb3YAAABsbXZoZAAAAAAAAAAAAAAAAAAAA+gAAAGQAAEAAAEAAAAAAAAAAAAAAAABAAAAAAAAAAAAAAAAAAAAAQAAAAAAAAAAAAAAAAAAQAAAAAAAAAAAAAAAAAAAAAAAAAAAAAAAAAAAAAAAAAIAAANFdHJhawAAAFx0a2hkAAAAAwAAAAAAAAAAAAAAAQAAAAAAAAGQAAAAAAAAAAAAAAAAAAAAAAABAAAAAAAAAAAAAAAAAAAAAQAAAAAAAAAAAAAAAAAAQAAAAAJYAAABkAAAAAAAJGVkdHMAAAAcZWxzdAAAAAAAAAABAAABkAAAAgAAAQAAAAACvW1kaWEAAAAgbWRoZAAAAAAAAAAAAAAAAAAAMgAAABQAVcQAAAAAAC1oZGxyAAAAAAAAAAB2aWRlAAAAAAAAAAAAAAAAVmlkZW9IYW5kbGVyAAAAAmhtaW5mAAAAFHZtaGQAAAABAAAAAAAAAAAAAAAkZGluZgAAABxkcmVmAAAAAAAAAAEAAAAMdXJsIAAAAAEAAAIoc3RibAAAALBzdHNkAAAAAAAAAAEAAACgYXZjMQAAAAAAAAABAAAAAAAAAAAAAAAAAAAAAAJYAZAASAAAAEgAAAAAAAAAARVMYXZjNjAuMzEuMTAyIGxpYngyNjQAAAAAAAAAAAAAABj//wAAADZhdmNDAWQAH//hABlnZAAfrNlAmDPl4QAAAwABAAADAGQPGDGWAQAGaOvjyyLA/fj4AAAAABRidHJ0AAAAAAAA9LAAAPSwAAAAGHN0dHMAAAAAAAAAAQAAABQAAAEAAAAAFHN0c3MAAAAAAAAAAQAAAAEAAACwY3R0cwAAAAAAAAAUAAAAAQAAAgAAAAABAAADAAAAAAEAAAEAAAAAAQAABQAAAAABAAACAAAAAAEAAAAAAAAAAQAAAQAAAAABAAAFAAAAAAEAAAIAAAAAAQAAAAAAAAABAAABAAAAAAEAAAIAAAAAAQAABQAAAAABAAACAAAAAAEAAAAAAAAAAQAAAQAAAAABAAAFAAAAAAEAAAIAAAAAAQAAAAAAAAABAAABAAAAABxzdHNjAAAAAAAAAAEAAAABAAAAFAAAAAEAAABkc3RzegAAAAAAAAAAAAAAFAAABVsAAAERAAAANAAAAHwAAAAtAAAAMAAAACEAAAAbAAAAPQAAAB8AAAAgAAAAmwAAANQAAABUAAAARAAAAEsAAADBAAAAcQAAAE0AAAA6AAAAFHN0Y28AAAAAAAAAAQAAADAAAABidWR0YQAAAFptZXRhAAAAAAAAACFoZGxyAAAAAAAAAABtZGlyYXBwbAAAAAAAAAAAAAAAAC1pbHN0AAAAJal0b28AAAAdZGF0YQAAAAEAAAAATGF2ZjYwLjE2LjEwMA==\" type=\"video/mp4\">\n",
       " Your browser does not support the video tag.\n",
       " </video></div>"
      ],
      "text/plain": [
       "<IPython.core.display.HTML object>"
      ]
     },
     "metadata": {},
     "output_type": "display_data"
    },
    {
     "name": "stdout",
     "output_type": "stream",
     "text": [
      "test/ ex1-episode-150.mp4\n"
     ]
    },
    {
     "data": {
      "text/html": [
       "<div style=\"width: 200px; height: 100px;; border: 1px solid #FF5733;\"><video loop autoplay  width=\"200\"  height=\"100\">\n",
       " <source src=\"data:video/mp4;base64,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\" type=\"video/mp4\">\n",
       " Your browser does not support the video tag.\n",
       " </video></div>"
      ],
      "text/plain": [
       "<IPython.core.display.HTML object>"
      ]
     },
     "metadata": {},
     "output_type": "display_data"
    },
    {
     "name": "stdout",
     "output_type": "stream",
     "text": [
      "test/ ex1-episode-200.mp4\n"
     ]
    },
    {
     "data": {
      "text/html": [
       "<div style=\"width: 200px; height: 100px;; border: 1px solid #FF5733;\"><video loop autoplay  width=\"200\"  height=\"100\">\n",
       " <source src=\"data:video/mp4;base64,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\" type=\"video/mp4\">\n",
       " Your browser does not support the video tag.\n",
       " </video></div>"
      ],
      "text/plain": [
       "<IPython.core.display.HTML object>"
      ]
     },
     "metadata": {},
     "output_type": "display_data"
    },
    {
     "name": "stdout",
     "output_type": "stream",
     "text": [
      "test/ ex1-episode-250.mp4\n"
     ]
    },
    {
     "data": {
      "text/html": [
       "<div style=\"width: 200px; height: 100px;; border: 1px solid #FF5733;\"><video loop autoplay  width=\"200\"  height=\"100\">\n",
       " <source src=\"data:video/mp4;base64,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\" type=\"video/mp4\">\n",
       " Your browser does not support the video tag.\n",
       " </video></div>"
      ],
      "text/plain": [
       "<IPython.core.display.HTML object>"
      ]
     },
     "metadata": {},
     "output_type": "display_data"
    },
    {
     "name": "stdout",
     "output_type": "stream",
     "text": [
      "test/ ex1-episode-300.mp4\n"
     ]
    },
    {
     "data": {
      "text/html": [
       "<div style=\"width: 200px; height: 100px;; border: 1px solid #FF5733;\"><video loop autoplay  width=\"200\"  height=\"100\">\n",
       " <source src=\"data:video/mp4;base64,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\" type=\"video/mp4\">\n",
       " Your browser does not support the video tag.\n",
       " </video></div>"
      ],
      "text/plain": [
       "<IPython.core.display.HTML object>"
      ]
     },
     "metadata": {},
     "output_type": "display_data"
    },
    {
     "name": "stdout",
     "output_type": "stream",
     "text": [
      "test/ ex1-episode-350.mp4\n"
     ]
    },
    {
     "data": {
      "text/html": [
       "<div style=\"width: 200px; height: 100px;; border: 1px solid #FF5733;\"><video loop autoplay  width=\"200\"  height=\"100\">\n",
       " <source src=\"data:video/mp4;base64,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\" type=\"video/mp4\">\n",
       " Your browser does not support the video tag.\n",
       " </video></div>"
      ],
      "text/plain": [
       "<IPython.core.display.HTML object>"
      ]
     },
     "metadata": {},
     "output_type": "display_data"
    },
    {
     "name": "stdout",
     "output_type": "stream",
     "text": [
      "test/ ex1-episode-400.mp4\n"
     ]
    },
    {
     "data": {
      "text/html": [
       "<div style=\"width: 200px; height: 100px;; border: 1px solid #FF5733;\"><video loop autoplay  width=\"200\"  height=\"100\">\n",
       " <source src=\"data:video/mp4;base64,AAAAIGZ0eXBpc29tAAACAGlzb21pc28yYXZjMW1wNDEAAAAIZnJlZQAAIM1tZGF0AAACrwYF//+r3EXpvebZSLeWLNgg2SPu73gyNjQgLSBjb3JlIDE2NCByMzA5NSBiYWVlNDAwIC0gSC4yNjQvTVBFRy00IEFWQyBjb2RlYyAtIENvcHlsZWZ0IDIwMDMtMjAyMiAtIGh0dHA6Ly93d3cudmlkZW9sYW4ub3JnL3gyNjQuaHRtbCAtIG9wdGlvbnM6IGNhYmFjPTEgcmVmPTMgZGVibG9jaz0xOjA6MCBhbmFseXNlPTB4MzoweDExMyBtZT1oZXggc3VibWU9NyBwc3k9MSBwc3lfcmQ9MS4wMDowLjAwIG1peGVkX3JlZj0xIG1lX3JhbmdlPTE2IGNocm9tYV9tZT0xIHRyZWxsaXM9MSA4eDhkY3Q9MSBjcW09MCBkZWFkem9uZT0yMSwxMSBmYXN0X3Bza2lwPTEgY2hyb21hX3FwX29mZnNldD0tMiB0aHJlYWRzPTEyIGxvb2thaGVhZF90aHJlYWRzPTIgc2xpY2VkX3RocmVhZHM9MCBucj0wIGRlY2ltYXRlPTEgaW50ZXJsYWNlZD0wIGJsdXJheV9jb21wYXQ9MCBjb25zdHJhaW5lZF9pbnRyYT0wIGJmcmFtZXM9MyBiX3B5cmFtaWQ9MiBiX2FkYXB0PTEgYl9iaWFzPTAgZGlyZWN0PTEgd2VpZ2h0Yj0xIG9wZW5fZ29wPTAgd2VpZ2h0cD0yIGtleWludD0yNTAga2V5aW50X21pbj0yNSBzY2VuZWN1dD00MCBpbnRyYV9yZWZyZXNoPTAgcmNfbG9va2FoZWFkPTQwIHJjPWNyZiBtYnRyZWU9MSBjcmY9MjMuMCBxY29tcD0wLjYwIHFwbWluPTAgcXBtYXg9NjkgcXBzdGVwPTQgaXBfcmF0aW89MS40MCBhcT0xOjEuMDAAgAAAAf5liIQAJ//+9bF8CmrJ84oM6DIu4Zckya62IuJtAMABjhSAAAADABos3+LmQEo1L4AAACEgBqA+gyg8xExVioF90cRJQU5ABQ7ixMfa2zLDK2sc4vVCLbmlqmLCPvYR3BKdQG07LWwE3CHUWNx+p7P0/KejuyZD9u6OFi9xeM8pThpZCcOz14tAEmQ/80JzhMiUeL4nyfzqWJ/jnZs7N96Lt5FFCNij89N7ths5NvL6F/gjg9PXka+aVFuLTkcFoIs8wPlgcqhyddwYV38QQjvySKepoqvD95taCHOY4+s0n4hywyDzLATnFVjPvVexOR0TwtCJWiCiXz6x/zXq4g4oAtvclcOiDcAywPJ/8KnJyhMC/cOVW29StoA5d5o2AFHYQqz+PcS9UAXRRNFjNaN5MP0YkiGwkMNHQmQXGFO51M/9pu+Is8t+J6OpTnvzqOuM7LduOdAVOO6Y8S3XWETzw54nW/N8Eq4KLmJ2Z1kGYBK7WRUDUKlLEowhNNStsBCy5s4t5JupsJuN2aeSRYE3TySvqFUooaLdBGOw5NNSEvjZYoTbgo7Sdserj6BWqz26++ZNMFQ3h7ut7SGrCzG4rcImk/v0lvS2QACbilGJPayHAtfy/7kzbBRP/LkgJ8TrsBMbgOZThZm2xi0AAcsxoz5cgAAAAwAAAwAAWkEAAAGyQZokbEJ//fEAAAMDo+m8BiRxbucWAIRhe9747f60jc3pA82KhATDBH6txg70vpmmaSngOW+Q20nOETtaABMyFeN65Cl1qqFR+YgjG0UBjwaFIjmXdPCcJqORCvMIeDXFY2Tle8s2sB3iYEli6jzwd0eI7MXiQZHzTCOBAb/AniPp8DNVXsXXVS2RpayQQom2tQr+QHx3YS+SNDtrRc4h5wATs25NGeX1G/LhQ9z3g/eDf3IuFXIGEfpbSEnF3LQJ4VOVSkPfAITABvNim7KWlosuP2DYwP2P5zbr8MBjNQaPDbx3Ld9OVItytpVSU4KP/5Pbjj1ibImnRF6D7pJL4YymsJNX4p4GICXaH9Lks8L9w97rT6iNc3E4fNh+O++fQEJ3zuUwHs8WtYbCN2Ob/Boe9XP/pQBAc7BfN2stI6xbcHn+8Wq6Gw0G4hvSOfsuwTN3K9vj+IC3wKv/EclwJE8a2/nxHy20S4KUf5Z10QkG6YcvQq3pI0WriA5y87bq1R+ABX0bZv2MxIplTOOkgde0mVCG+I7cdhGNM2e1mYd14Q9MKjBJLPHR2gOFh6tGBqQAAABHQZ5CeIR/AAAfEDascG11yJIemEkbEjyHoJK4FAEQtPObpyAB+ihESJvhJJ3F3AW88PO1olohbvbHyPWMSlMRQsvQsBBAGfEAAAA3AZ5hdEf/AAAyOHCeBBJ6m7kwHWNNUToDWWbJ32IRJMqY+cBmWh/c2tDFPIixq7o0ZpH938gP8AAAADIBnmNqR/8AABLfghZ46gIUfy1+8EAIs0oY3+ZAYQAD7hH6i076Vm5cNaSJsaxgTyIBDwAAANZBmmhJqEFomUwIT//98QAAAwKguFp69wAolewSNmz6ZdBOL0shdN2RZ7NgEi92+AnrXXUb8Vx9nMCkT1rnhKDJTv03sp/dodazsTw+/JdF01EMt/3D3tAh5lX4ullGGr/WTZ35PkJ783yd3zL102JrlgruLJEC1dkdgZrBUk9TMh+XN8nxxovZes6PMYQ0YkuN32jajtbHcATIZMfwOfajUmwV9qLfJ9bmH1wcn2yRotU7syjzTN67NncN63nsvX/fe3hlafbfa6tWXJJE1pDOY3ujJtX/AAAAPkGehkURLCP/AAAWvEcWud9FcAn/5QMXQUysp7jqZNMDStrdvf3VCVzLhTm5ULgRI63jD56xS3y4cjm56KmBAAAAKwGepXRH/wAADTXvbvp+QSfVVxxLeIwthC+FxFxICG916LFj6jTJ4UmMx00AAAA2AZ6nakf/AAAjvx+MOk9f230tHzW5kyP/WSEZFmKANuHiaGMbE8nVjGvL5vf8V0RnNNtwyUqAAAAAi0GarEmoQWyZTAhP//3xAAADAp/Qt0Ao2N6Jv7O7A12lw9DEJpb+APMPjdV1oTqRz7cpUJF02kDUOii7t20ekHX4VxVyi92X0YBlPYF+fIf6eZhfgWX5O8QjX4AMhjp+Vb/Dqf5CCbDT4c36VCwAu62bWPM/cg3Yn5PMJY3TZsnqz5XJXTr1NFCENNAAAAA6QZ7KRRUsI/8AABa8ULhSCZ7sB5GfwXN2EBuDC5s48OM6LPXZ/ZgNfxm6p0NtfwT0pXnRzYtFhNDylQAAAB4Bnul0R/8AAA3OALEXsyuGZev8i6y2bFHzb8HRzTcAAAAmAZ7rakf/AAAjvx+MN8Ef89w6iIEstgZp508B/KI8cZFrFs8ESoAAAACEQZrwSahBbJlMCE///fEAAAMA+WIp7ANq0ACw7NrcgAon5L53TX7CwFnjJ3dw9VUC/eplI8VuPd9Cms+7oIfuBnqX/cwYPEf1TM8bsRuDjD6rqZ2nzahY42zJv7unGD3gQ9o4W91bU+V6S3qgbpKaLJils7oRv7BMU6DRgNQIaXi6qhLBAAAAIUGfDkUVLCP/AAAIq/rrdVblZV5B7DF/4lonr3w8LqYjPwAAADIBny10R/8AAA3OAovqPpaQL7IfUFqWQvnyrXwtWZacpybYZApe3OYz09YgCEPFF3FRgQAAABIBny9qR/8AAAMACoZskw5xfMAAAAB2QZs0SahBbJlMCE///fEAAAMA+AYW1VACOZb6ZyfvsK/pcVjl8Xja6GNu5YC5XEO66T5ZFucEr5NAFHEgdnVp4IiuIwGLAizHFvJJUvmAd+l0fijZ4eSCn3BsWgfiuUUbrCK9Uz4W0HG9KZp04mo+DlHOuW0ZwAAAACdBn1JFFSwj/wAACK8fW1DRgb648CcyNfIGopUmWcFwJC6iAASAFBEAAAAhAZ9xdEf/AAANWoiXolqYRZ9GMqjg7NZH4pUUhYRe/qVAAAAAGAGfc2pH/wAADdSem3h7jbU2irVntyBDwAAAAKBBm3hJqEFsmUwIT//98QAAAwKe9ubicn1x3unFJFF/IYIPakt8AcnG9xsHWYBnnnredmhbEDi+MwB1iIHXdO821a3oy8lf6tNayXKZ3mZxxGWZe/zOQds2MgWKjfVOqWdqCPJ1O8wGn3R4LkClSigxn4rEDBLvXu5Sh7Zr+nRcmOC5VLSU4r4FQ1D9vtkKbEem5Ix33ju0Csv/7njIk7hhAAAARkGflkUVLCP/AAAWs0iuG/kOgTu4wffHzE3IFDEtDuSnjJz5RBP4AwvfACpb/XGMsLu4bmeSHk6utd+eEe94LD3oTxYwk4AAAAA2AZ+1dEf/AAAjw0cIjzAtF30UvAayT7uJ685If9WMvIvKc8ozAjUmHkdwCyKdnRcT3WD/JwI/AAAAIQGft2pH/wAAI78aznsqjgefqOlMm5Yzal5DdHTraXh2YQAAAJFBm7xJqEFsmUwIR//94QAABDNdVHU0eF6AdBstnj5Epn60PuHjH6J3PnVIZzCvq5cFcnKupTjM5D4PV9Z0e2cFgB14K3cCuiVmvbInmY/2p0z+k/Y38cgbz5sKrNSTx1lovgnr3lT8/Zv5tY28MWayumb2hKiOY5ER70jHqIBE60YcNdxlpZpJeSvNTy96FJTAAAAAPUGf2kUVLCP/AAAXTD0uY1JWG9d0q84YC0ONyKFxl6pyz09TE00Bin59DBbLkSUpBBPif5Qh7sZou31vTcEAAAAeAZ/5dEf/AAAjrDkFq/H834C73Muwl6Zm0LMB7aUqAAAAGgGf+2pH/wAAJLHMCXA8KcADfkI3fzM1a+GBAAAAaUGb/kmoQWyZTBRMI//94QAABDS5bKm+WYmU6KAUWsdlknO5bYAjnUY0wK++ZGCEpltx6qWvCViFT861dN4s2nsIkT9qcBzA4X33YWI3sorYhZxbNN5sijNL8zsbOSFnZJEDxpE/bVzykQAAADgBnh1qR/8AACSxzAlwNpixw9IV1k7QVFgZXYRh2JQ3rGaGArwPP6lJtFABO3QxGJNxYF0bp3Q9mAAAAKVBmgJJ4QpSZTAhP/3xAAADArRvFSgQAecqY1G1Y53VpthLI3Qro6OncjjqVRzM9Wbjy514e9fsiSptAr6agJtL4HsRtExBt2LUNSph4NfsjFU9NaOB3Xe1qbFOWa3HxR5AV+8cLHbyYd9zcNMZswXqltUVl3cWbMTUm3h8HpoDKZZZ/Qn+UK9m67XbmR5zqP5x7DcFE3TcutbivSw/ma/8Y4npMkAAAAA9QZ4gRTRMI/8AABdLipRkjWMe4dObiVTYtItgdfe1OHQffJfj0xCrwdCjEwrA5CAEeBBnojMvC+F/QAES8QAAAC4Bnl90R/8AACTC8H7+utpcIN1iXur9eKZh4zTMfOD8k3rLVuCzqeYWDe5MKM+YAAAAQAGeQWpH/wAAJL8EJZRUjnAQQhfWwNyxesAgaWmS+w8pLI2S+6P1oT5fZScAQCIadl176nGYAS8Zk/shjWra/tkAAABxQZpGSahBaJlMCEf//eEAAAQ0tIyJkgK++/rDrH6LBSbIgLjilhsIZfHctf0OsU4tV0S4rUhyTkt5TuJx39GMM+MjO3o8uMga3SDWO0NcB92afXqwzFj//DUQ1OhZ3pVeLgEwMrl+cAd1lNGKK2APwcAAAAAuQZ5kRREsI/8AABdCq+i0SbeYq+n2aEALfUiDtdWqyDqC+qONHscrz3Sa1ACBgQAAADkBnoN0R/8AACSp6ccV4sANDUXlKV7C/ySFuvxEJQK3v17ZACZDDHcbcu7fNppvUAH7p0LGdpF6STkAAAAzAZ6Fakf/AAAkrl4zgi+0F8TkliEJoASyo50fnS82cSIHV1kqEqd0nnGeCjdzP4u8HR8xAAAAkUGaikmoQWyZTAhH//3hAAAEM0hAPTf61FEguD7DwDuX42+gO0JxDCUte2DuPZzWuEEfCWQEatzxk40gddMRYA27FYVkWDRQQTyXbcx3/Hhqt/0he3WLVTOZ52EiYmZxkqKhFTyL8MQJNIi8l7yK/j51nabU0BT3K70vNtuHUoHmjLrmB2hM3GxtQwdtDy3jMDkAAAAwQZ6oRRUsI/8AABdCq+i0SPPhwiXDwkJIG0rUO29mOAO+sMoSPu8IwYKvTE78YVBAAAAAJgGex3RH/wAAJMCZH85eXQGUtakPy/adZ+H20pvsXDl3Wk5y+5SQAAAAIQGeyWpH/wAAJK5eM4F5Q7PNtkBlJyEBzJEtDoh01ivDFwAAAIJBms5JqEFsmUwIR//94QAABDNIQ6GBqVgoPy2k67Ukc2jzXAHibUNIRhHV7ejyrJ4yQaAABwXw0v1Ld6U9rfMGyZNI7APl7tOfalMuaCOl3Dm8hKGeboCJgWAeAOki8oRrwaCyBm2gvqR15VOgyNRD1yXIYkP+xhGCqEd9J5apOR2cAAAALEGe7EUVLCP/AAAXS4p+X8g8lAB8wknE1cPe2bVwBmNzfxrWNt0/qBoGZeLyAAAAJQGfC3RH/wAAJMMXajY5gCKBHlqhBBGC1rlFDYiqALJCHQ9Nc3sAAAAwAZ8Nakf/AAAkrl/7NTKrVEo0DrsqgUNuwyf9qhEuKy1Qeg4DbE/Ekn/hlbDY8ejZAAAAnUGbEkmoQWyZTAhP//3xAAADAsLwIsc72ZGdQIM/XmILza/T9i3sAOWIXwlP0kess6FUL8hV2u5ElkA3HahPPorS6hBYn9gJQ2gXd4MIjK29C9OZ5et3bJRmVecH4siXPyuRHpuz6fhxZrWUJu5T1YjZxb2b9YA7xmUV81fLsUpjibpMIWpGA+5ZcqJiWKdensw83VXYMq49OR+dGMEAAABIQZ8wRRUsI/8AABffQ9RM9tMycsaGTTi3OjaoU81NPTMA1KP2Gov5D3EZtQxJgW+eiq0X9IFtzPC0kffgmXEVa3MIpQZxsRNwAAAAKgGfT3RH/wAAJcMR5vddcxYUvcMzpKP6wLMlSMGcad/w2mD22evbcCVXwAAAACMBn1FqR/8AACWuXjOBeUO0HKY6znRaV0GtXJuymM2Y/dLXzQAAAHxBm1ZJqEFsmUwIR//94QAABFS3GmKANqLfHnsttamPysXvLywnFOp3DumquCARTF7wc11qBsrewdHWKff/qWTGPrx/O/id5ryc9j4YH9Y0CHBeVIP+WYFlxDYeW9uitgetEqdFe7w9yE1uGf/U0LNwABpTeSguKemtlETgAAAAQkGfdEUVLCP/AAAX6GMr/yeeI+zcMMRRj3zMofIK5S1u/a43DXASjUaVWMYF8f38Ltl6xovRUvL30Mrv1PjLvyHXEAAAADoBn5N0R/8AACXAmdQ/S5UZQkHeYpZndists4DQRWANmZm9q9kF9p3zrTkVAI4WzWzKtTvasI3UX6FtAAAAMgGflWpH/wAAJa5eHj4M7SNSS2B8Antqw8Mqc+OjMtSa9dDATLdp1EXCo+q1ZBG0kp8wAAAAp0GbmkmoQWyZTAhH//3hAAAEc/a8TPUmqtSIu5WCN7SxEGw9sm45Up3j8JSRDnvcpkjTflK4PxeOxKzf3be+8wAP5MQ2hyavrRv3wBSOnwn55pFpk/jUjop0ZC3IYthDbarjQzvnLdwUeN7LC3wmE0+1VUhY1NVmJ+l3qqlV7S1bTbsa72H13pwbVkO0w9cg3siBydWtT8hkRHzL8Luqa6Df0Kq17H/XAAAASUGfuEUVLCP/AAAYiXxOyYLZnvP/Y8UfUFOlILPlXwJZQWjNbEALOAQ1Q8Bl1L7nCHrkISJqcnE75lpON6JNi6gZlpg603St/dEAAAAyAZ/XdEf/AAAlqUzJlWvZ9+FgaJZ23UhgIqRStsZMzUcb8p8vkVBMAJpd9zfVXpA6em4AAAA3AZ/Zakf/AAAmvvRxDU8wvJ9SyD5gq9tVj8usDVZtgVZvEoDonKC+0Ye6KyRbJzs/t7WzFLebUQAAAEFBm95JqEFsmUwIT//98QAAAwLYvBI/e9Fm8Vwy5JbxyOB/WOPbVZ6X75If3Xv9FBWQuFGyPHEHZnPyFSaj7hIkIAAAACdBn/xFFSwj/wAAGH91SQqtuA4RQjvSy1Sxx4w7TNfFMMObpw2NHScAAAA9AZ4bdEf/AAAmqUy/MA7Ro1BtGm2DPRCkO1mj2+sXrfN1sVCvaBNuPFu/r7nQbGudM6gbCMeCvF06mzwgQQAAACgBnh1qR/8AACatW2Zw3zwwYl4BigFVwuCImD1hxvIhoovKWd79IptwAAAAh0GaAkmoQWyZTAhH//3hAAAEk1KVPG7+iSuSQV8ljZ0I5y/zQACIl9N7nQTYeNVPCDxAYxG9BKH7fNSS+fBeVZboDhfzL9vTopj9IvZczHQYAfUV1HwWSGBt7eg15qH1ZR8yVh/lJspq56cUn6kqpcXdXilyvNGv0T35MmTFrJtGY0nU6ry6wAAAAEFBniBFFSwj/wAAGSmCzbZoJknvm9AfvgM4Kr0mNE0p1PqERa0RWGq7y3CBHuAyygLq4UjnGNKQfylFnNFNOy22gQAAACoBnl90R/8AACa/74pyTbrQ0FGv9ADMHjM/imugQ1tvN+yDo8WrcBGeu0AAAAA9AZ5Bakf/AAAn2Wz7lbSrIczknba3ZDSaXhVYo7nkauVXxAmm1Ei2umgwHl1EnAc+0+2nAcAJlE1197il7QAAAINBmkRJqEFsmUwUTH/8hAAAEctWYdbiwwlrrSDgrDiOB+oZ0fi1JUN6sIkOMPqhUyJK8SwvW0Q/97uuGPEj8THg9AKQAudDZpf7NHmpKmNC+GmmHdC5+RC941doQX79mBE2W0MnIoOObZPaV/PQLYd1I5bqAzFjivALd328OM6HCvLi6AAAADQBnmNqR/8AACfEGZmTZQHKFovwmZGwaLf32aBuFVDtM1bs+pEGuVmuW4jGOv1S71PqKPHxAAAAcEGaZUnhClJlMCEf/eEAAASWih0cGgxEQGJcEAVLJCSZ07EyFaUSsGmSSFt+IBNlg7ZZ4ZaymO+OBGkeCRJcPDvSTlyt4VobJNXik0sFbtpJaqs6D59ax/7e8IctzVnX75qrrk7jl8K3T2oIS7xemkEAAAB1QZqJSeEOiZTAhH/94QAABLNTSgRNCB+WGc1p6YB59ZVqwDjNQi9Wb+8UyJULHs8oMeEcJDl8Zq3YoNONOmNOZlPHhdbzh6yQ5Y5pj2CDMi6lrpTh8B1im1iu+yecEsVIMFYFQc2POnaYm+FqcOfsVPy3zRWBAAAAUUGep0URPCP/AAAZyYLNtmgmR45OACgXGbbmoaKawjFYGOiUI82tsR7lQ3n0KvOvNfcmK7JqcbFhga/kXo/9rc35bszUi9aGodVkZwdI3k9u4QAAACsBnsZ0R/8AACfanRjPB8KSieVL9Lb6U9r3gS3eydjGYtlrWPs0OtWa5QyoAAAALQGeyGpH/wAAKPltNXm98h05U3Qu3QMPXuiE4CJcjFWLL4hKB5SjVj0syRz1RgAAAHVBmstJqEFomUwU8I/94QAABLNODL3xFap+S8m/YOE/mEAKBgtiRT60eGMyxrdHZRmH3+uE3ygnPtUdvjYMWbrYin+NPbYiJ/6bHHvrSHGqBhcTvFrT/75LzLnejBnbdFLMDWxsaGAl4ezTuKRgOoQ1BzVVWlUAAAAvAZ7qakf/AAAo4pyf9JPj67JoBf/PGQPLfwPmq7jkUolgE05mGO/KQXugqrPYtsAAAACsQZrvSeEKUmUwIR/94QAABNUVEKzaqg8N4ag5lNgQbznncYMo26ag5cflVCAQOKTRuZ2Yrq6NkXRhZfBCVtQRhV9o4Se3BZ3SyXzV8zgVZN6CMBquHjYg3ZkQdS1jjGngWP73GqQQnPspG0IbyNSStP5+pSCuwnpARJk9Yv4o6huoHSgMai9ZSvS8XMUT5TtJCGb849GdZDtM2WxbxllLtNkgXD29VVH9lEigEAAAAFZBnw1FNEwj/wAAGmmC1y2aB36N7PdL3/rZ0QujbSTTFRxweKNRMoDku8D7zY5Wjbha6jRkhHuck8OgA/msZUot+aLr8ps1Kwdt9RBscjUkq013mG/ptQAAADkBnyx0R/8AACj5tgexnB9uUzEP0A/U2Ijw7ogxQrxAuzg4Eo+u2gJdwO0SWlnWkilv6wtNzsJgB1kAAAA/AZ8uakf/AAAqGWvvcwT4oYBbyOVBQrOlN+Waq1EE52Izmko+F0lA08pZPitVUEWcdT3cvlhW1eOOZ4o39hY9AAAAmkGbM0moQWiZTAhH//3hAAAE9ZXmevnkuluH08NFUhjeZspoj6tR0EDmjJHPj7a2cMaevRvGKqYtV+XzkAVkcqtOkiR//hWXhE0KV+CjGi13qnlKclnWca6f/HgbWH7tzhUhVPQPlhv9JFkJjtrl0b5mL8YShcBnQ1xbufaPwp10PNSWmi/UxMM5FRony1doayAJJYcxTEtuepEAAABsQZ9RRREsI/8AABsJgtsG3aC56ig250uC+sTWq5Dt9E4+tFKObhgZ/S5aDV2GHyIIf8VhN7xH51cFgkmA5tMoYgFMCHFgio8XACE4FoYmOBVA79t/tLmkwklqAWR9q8q2xx8oHtODxK/wc7KAAAAAPQGfcHRH/wAAKf8Dv5jFIoJfTrudgCAHAaYKx9AtyfkLScKkZZeXsfb2UKiBnOQwKmXdGChDC9V7QOpsey0AAABBAZ9yakf/AAArOYDXh4tIzcajGSnSCnnl7eG17hoIeNSSU6IlVGUxjwz02+MuIRMNAzaZbpTP5TW5qXaZvwABbPgAAABpQZt3SahBbJlMCP/8hAAAE0uIdbjar1R4yc8DEV+7gwHtWRREyd/5h6U0KiMEMVL3d4pjgnyUYAhFaCbAjTgnm6LpfY8jaouC6dSD10/RQ+8gvQgOOJyGxB/SIATK5Eeylks5Tj41qwAgAAAAWkGflUUVLCP/AAAa/3xtGttLdxgTNxCsdlru7qgiXQRgNNWkUIKTYyVWsoFtt0ARJQSDaBwi0emx9D6AElmiTVIeqJeLKvsjRUnxlkHIL/HWPWunfM1mUN2pgQAAAEMBn7R0R/8AACsewsGBsTvyh/D2m3+NocpW9mrZZiVMSDXWb/ZOrJBIwO/6LXRES+bQ3DTkeD6JfzKNTmdKsuenWGBAAAAALQGftmpH/wAAKymAYPsFIo9apYNP0J6bPATVAklXURpNfPB9pI3fvyw138ONUQAAB0ttb292AAAAbG12aGQAAAAAAAAAAAAAAAAAAAPoAAAG4AABAAABAAAAAAAAAAAAAAAAAQAAAAAAAAAAAAAAAAAAAAEAAAAAAAAAAAAAAAAAAEAAAAAAAAAAAAAAAAAAAAAAAAAAAAAAAAAAAAAAAAACAAAGdXRyYWsAAABcdGtoZAAAAAMAAAAAAAAAAAAAAAEAAAAAAAAG4AAAAAAAAAAAAAAAAAAAAAAAAQAAAAAAAAAAAAAAAAAAAAEAAAAAAAAAAAAAAAAAAEAAAAACWAAAAZAAAAAAACRlZHRzAAAAHGVsc3QAAAAAAAAAAQAABuAAAAIAAAEAAAAABe1tZGlhAAAAIG1kaGQAAAAAAAAAAAAAAAAAADIAAABYAFXEAAAAAAAtaGRscgAAAAAAAAAAdmlkZQAAAAAAAAAAAAAAAFZpZGVvSGFuZGxlcgAAAAWYbWluZgAAABR2bWhkAAAAAQAAAAAAAAAAAAAAJGRpbmYAAAAcZHJlZgAAAAAAAAABAAAADHVybCAAAAABAAAFWHN0YmwAAACwc3RzZAAAAAAAAAABAAAAoGF2YzEAAAAAAAAAAQAAAAAAAAAAAAAAAAAAAAACWAGQAEgAAABIAAAAAAAAAAEVTGF2YzYwLjMxLjEwMiBsaWJ4MjY0AAAAAAAAAAAAAAAY//8AAAA2YXZjQwFkAB//4QAZZ2QAH6zZQJgz5eEAAAMAAQAAAwBkDxgxlgEABmjr48siwP34+AAAAAAUYnRydAAAAAAAAJTzAACU8wAAABhzdHRzAAAAAAAAAAEAAABYAAABAAAAABRzdHNzAAAAAAAAAAEAAAABAAAC0GN0dHMAAAAAAAAAWAAAAAEAAAIAAAAAAQAABQAAAAABAAACAAAAAAEAAAAAAAAAAQAAAQAAAAABAAAFAAAAAAEAAAIAAAAAAQAAAAAAAAABAAABAAAAAAEAAAUAAAAAAQAAAgAAAAABAAAAAAAAAAEAAAEAAAAAAQAABQAAAAABAAACAAAAAAEAAAAAAAAAAQAAAQAAAAABAAAFAAAAAAEAAAIAAAAAAQAAAAAAAAABAAABAAAAAAEAAAUAAAAAAQAAAgAAAAABAAAAAAAAAAEAAAEAAAAAAQAABQAAAAABAAACAAAAAAEAAAAAAAAAAQAAAQAAAAABAAADAAAAAAEAAAEAAAAAAQAABQAAAAABAAACAAAAAAEAAAAAAAAAAQAAAQAAAAABAAAFAAAAAAEAAAIAAAAAAQAAAAAAAAABAAABAAAAAAEAAAUAAAAAAQAAAgAAAAABAAAAAAAAAAEAAAEAAAAAAQAABQAAAAABAAACAAAAAAEAAAAAAAAAAQAAAQAAAAABAAAFAAAAAAEAAAIAAAAAAQAAAAAAAAABAAABAAAAAAEAAAUAAAAAAQAAAgAAAAABAAAAAAAAAAEAAAEAAAAAAQAABQAAAAABAAACAAAAAAEAAAAAAAAAAQAAAQAAAAABAAAFAAAAAAEAAAIAAAAAAQAAAAAAAAABAAABAAAAAAEAAAUAAAAAAQAAAgAAAAABAAAAAAAAAAEAAAEAAAAAAQAAAwAAAAABAAABAAAAAAEAAAIAAAAAAQAABQAAAAABAAACAAAAAAEAAAAAAAAAAQAAAQAAAAABAAADAAAAAAEAAAEAAAAAAQAABQAAAAABAAACAAAAAAEAAAAAAAAAAQAAAQAAAAABAAAFAAAAAAEAAAIAAAAAAQAAAAAAAAABAAABAAAAAAEAAAUAAAAAAQAAAgAAAAABAAAAAAAAAAEAAAEAAAAAHHN0c2MAAAAAAAAAAQAAAAEAAABYAAAAAQAAAXRzdHN6AAAAAAAAAAAAAABYAAAEtQAAAbYAAABLAAAAOwAAADYAAADaAAAAQgAAAC8AAAA6AAAAjwAAAD4AAAAiAAAAKgAAAIgAAAAlAAAANgAAABYAAAB6AAAAKwAAACUAAAAcAAAApAAAAEoAAAA6AAAAJQAAAJUAAABBAAAAIgAAAB4AAABtAAAAPAAAAKkAAABBAAAAMgAAAEQAAAB1AAAAMgAAAD0AAAA3AAAAlQAAADQAAAAqAAAAJQAAAIYAAAAwAAAAKQAAADQAAAChAAAATAAAAC4AAAAnAAAAgAAAAEYAAAA+AAAANgAAAKsAAABNAAAANgAAADsAAABFAAAAKwAAAEEAAAAsAAAAiwAAAEUAAAAuAAAAQQAAAIcAAAA4AAAAdAAAAHkAAABVAAAALwAAADEAAAB5AAAAMwAAALAAAABaAAAAPQAAAEMAAACeAAAAcAAAAEEAAABFAAAAbQAAAF4AAABHAAAAMQAAABRzdGNvAAAAAAAAAAEAAAAwAAAAYnVkdGEAAABabWV0YQAAAAAAAAAhaGRscgAAAAAAAAAAbWRpcmFwcGwAAAAAAAAAAAAAAAAtaWxzdAAAACWpdG9vAAAAHWRhdGEAAAABAAAAAExhdmY2MC4xNi4xMDA=\" type=\"video/mp4\">\n",
       " Your browser does not support the video tag.\n",
       " </video></div>"
      ],
      "text/plain": [
       "<IPython.core.display.HTML object>"
      ]
     },
     "metadata": {},
     "output_type": "display_data"
    },
    {
     "name": "stdout",
     "output_type": "stream",
     "text": [
      "test/ ex1-episode-450.mp4\n"
     ]
    },
    {
     "data": {
      "text/html": [
       "<div style=\"width: 200px; height: 100px;; border: 1px solid #FF5733;\"><video loop autoplay  width=\"200\"  height=\"100\">\n",
       " <source src=\"data:video/mp4;base64,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\" type=\"video/mp4\">\n",
       " Your browser does not support the video tag.\n",
       " </video></div>"
      ],
      "text/plain": [
       "<IPython.core.display.HTML object>"
      ]
     },
     "metadata": {},
     "output_type": "display_data"
    },
    {
     "name": "stdout",
     "output_type": "stream",
     "text": [
      "test/ ex1-episode-500.mp4\n"
     ]
    },
    {
     "data": {
      "text/html": [
       "<div style=\"width: 200px; height: 100px;; border: 1px solid #FF5733;\"><video loop autoplay  width=\"200\"  height=\"100\">\n",
       " <source src=\"data:video/mp4;base64,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\" type=\"video/mp4\">\n",
       " Your browser does not support the video tag.\n",
       " </video></div>"
      ],
      "text/plain": [
       "<IPython.core.display.HTML object>"
      ]
     },
     "metadata": {},
     "output_type": "display_data"
    }
   ],
   "source": [
    "if not skip_training:\n",
    "    # Train Result\n",
    "    video_dir = work_dir/'video'/'CartPole-v1'/'train'\n",
    "    \n",
    "    # List all MP4 files in the directory\n",
    "    mp4_files = [file for file in os.listdir(video_dir) if file.endswith(\".mp4\")]\n",
    "    frame_colors = ['#FF5733', '#33FF57', '#5733FF', '#FFFF33', '#33FFFF', '#FF33FF']\n",
    "    # Display each MP4 file\n",
    "    for i, mp4_file in enumerate(mp4_files):\n",
    "        video_path = os.path.join(video_dir, mp4_file)\n",
    "        video = Video(video_path, embed=True, html_attributes=\"loop autoplay\", width=200, height=100)\n",
    "        frame_color = frame_colors[i % len(frame_colors)]\n",
    "        video_frame = HTML(f'<div style=\"width: 200px; height: 100px;; border: 1px solid #FF5733;\">{video._repr_html_()}</div>')\n",
    "        print(\"test/\",mp4_file)\n",
    "        display(video_frame)"
   ]
  },
  {
   "cell_type": "code",
   "execution_count": 14,
   "id": "47f0e835-79ad-47c7-9984-bfc705927d7b",
   "metadata": {
    "tags": []
   },
   "outputs": [
    {
     "name": "stdout",
     "output_type": "stream",
     "text": [
      "test/ ex1-episode-0.mp4\n"
     ]
    },
    {
     "data": {
      "text/html": [
       "<div style=\"width: 200px; height: 100px;; border: 1px solid #5733FF;\"><video loop autoplay  width=\"200\"  height=\"100\">\n",
       " <source src=\"data:video/mp4;base64,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\" type=\"video/mp4\">\n",
       " Your browser does not support the video tag.\n",
       " </video></div>"
      ],
      "text/plain": [
       "<IPython.core.display.HTML object>"
      ]
     },
     "metadata": {},
     "output_type": "display_data"
    },
    {
     "name": "stdout",
     "output_type": "stream",
     "text": [
      "test/ ex1-episode-1.mp4\n"
     ]
    },
    {
     "data": {
      "text/html": [
       "<div style=\"width: 200px; height: 100px;; border: 1px solid #5733FF;\"><video loop autoplay  width=\"200\"  height=\"100\">\n",
       " <source src=\"data:video/mp4;base64,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\" type=\"video/mp4\">\n",
       " Your browser does not support the video tag.\n",
       " </video></div>"
      ],
      "text/plain": [
       "<IPython.core.display.HTML object>"
      ]
     },
     "metadata": {},
     "output_type": "display_data"
    },
    {
     "name": "stdout",
     "output_type": "stream",
     "text": [
      "test/ ex1-episode-2.mp4\n"
     ]
    },
    {
     "data": {
      "text/html": [
       "<div style=\"width: 200px; height: 100px;; border: 1px solid #5733FF;\"><video loop autoplay  width=\"200\"  height=\"100\">\n",
       " <source src=\"data:video/mp4;base64,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\" type=\"video/mp4\">\n",
       " Your browser does not support the video tag.\n",
       " </video></div>"
      ],
      "text/plain": [
       "<IPython.core.display.HTML object>"
      ]
     },
     "metadata": {},
     "output_type": "display_data"
    },
    {
     "name": "stdout",
     "output_type": "stream",
     "text": [
      "test/ ex1-episode-3.mp4\n"
     ]
    },
    {
     "data": {
      "text/html": [
       "<div style=\"width: 200px; height: 100px;; border: 1px solid #5733FF;\"><video loop autoplay  width=\"200\"  height=\"100\">\n",
       " <source src=\"data:video/mp4;base64,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\" type=\"video/mp4\">\n",
       " Your browser does not support the video tag.\n",
       " </video></div>"
      ],
      "text/plain": [
       "<IPython.core.display.HTML object>"
      ]
     },
     "metadata": {},
     "output_type": "display_data"
    },
    {
     "name": "stdout",
     "output_type": "stream",
     "text": [
      "test/ ex1-episode-4.mp4\n"
     ]
    },
    {
     "data": {
      "text/html": [
       "<div style=\"width: 200px; height: 100px;; border: 1px solid #5733FF;\"><video loop autoplay  width=\"200\"  height=\"100\">\n",
       " <source src=\"data:video/mp4;base64,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\" type=\"video/mp4\">\n",
       " Your browser does not support the video tag.\n",
       " </video></div>"
      ],
      "text/plain": [
       "<IPython.core.display.HTML object>"
      ]
     },
     "metadata": {},
     "output_type": "display_data"
    },
    {
     "name": "stdout",
     "output_type": "stream",
     "text": [
      "test/ ex1-episode-5.mp4\n"
     ]
    },
    {
     "data": {
      "text/html": [
       "<div style=\"width: 200px; height: 100px;; border: 1px solid #5733FF;\"><video loop autoplay  width=\"200\"  height=\"100\">\n",
       " <source src=\"data:video/mp4;base64,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\" type=\"video/mp4\">\n",
       " Your browser does not support the video tag.\n",
       " </video></div>"
      ],
      "text/plain": [
       "<IPython.core.display.HTML object>"
      ]
     },
     "metadata": {},
     "output_type": "display_data"
    },
    {
     "name": "stdout",
     "output_type": "stream",
     "text": [
      "test/ ex1-episode-6.mp4\n"
     ]
    },
    {
     "data": {
      "text/html": [
       "<div style=\"width: 200px; height: 100px;; border: 1px solid #5733FF;\"><video loop autoplay  width=\"200\"  height=\"100\">\n",
       " <source src=\"data:video/mp4;base64,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\" type=\"video/mp4\">\n",
       " Your browser does not support the video tag.\n",
       " </video></div>"
      ],
      "text/plain": [
       "<IPython.core.display.HTML object>"
      ]
     },
     "metadata": {},
     "output_type": "display_data"
    },
    {
     "name": "stdout",
     "output_type": "stream",
     "text": [
      "test/ ex1-episode-7.mp4\n"
     ]
    },
    {
     "data": {
      "text/html": [
       "<div style=\"width: 200px; height: 100px;; border: 1px solid #5733FF;\"><video loop autoplay  width=\"200\"  height=\"100\">\n",
       " <source src=\"data:video/mp4;base64,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\" type=\"video/mp4\">\n",
       " Your browser does not support the video tag.\n",
       " </video></div>"
      ],
      "text/plain": [
       "<IPython.core.display.HTML object>"
      ]
     },
     "metadata": {},
     "output_type": "display_data"
    },
    {
     "name": "stdout",
     "output_type": "stream",
     "text": [
      "test/ ex1-episode-8.mp4\n"
     ]
    },
    {
     "data": {
      "text/html": [
       "<div style=\"width: 200px; height: 100px;; border: 1px solid #5733FF;\"><video loop autoplay  width=\"200\"  height=\"100\">\n",
       " <source src=\"data:video/mp4;base64,AAAAIGZ0eXBpc29tAAACAGlzb21pc28yYXZjMW1wNDEAAAAIZnJlZQAAKqptZGF0AAACrwYF//+r3EXpvebZSLeWLNgg2SPu73gyNjQgLSBjb3JlIDE2NCByMzA5NSBiYWVlNDAwIC0gSC4yNjQvTVBFRy00IEFWQyBjb2RlYyAtIENvcHlsZWZ0IDIwMDMtMjAyMiAtIGh0dHA6Ly93d3cudmlkZW9sYW4ub3JnL3gyNjQuaHRtbCAtIG9wdGlvbnM6IGNhYmFjPTEgcmVmPTMgZGVibG9jaz0xOjA6MCBhbmFseXNlPTB4MzoweDExMyBtZT1oZXggc3VibWU9NyBwc3k9MSBwc3lfcmQ9MS4wMDowLjAwIG1peGVkX3JlZj0xIG1lX3JhbmdlPTE2IGNocm9tYV9tZT0xIHRyZWxsaXM9MSA4eDhkY3Q9MSBjcW09MCBkZWFkem9uZT0yMSwxMSBmYXN0X3Bza2lwPTEgY2hyb21hX3FwX29mZnNldD0tMiB0aHJlYWRzPTEyIGxvb2thaGVhZF90aHJlYWRzPTIgc2xpY2VkX3RocmVhZHM9MCBucj0wIGRlY2ltYXRlPTEgaW50ZXJsYWNlZD0wIGJsdXJheV9jb21wYXQ9MCBjb25zdHJhaW5lZF9pbnRyYT0wIGJmcmFtZXM9MyBiX3B5cmFtaWQ9MiBiX2FkYXB0PTEgYl9iaWFzPTAgZGlyZWN0PTEgd2VpZ2h0Yj0xIG9wZW5fZ29wPTAgd2VpZ2h0cD0yIGtleWludD0yNTAga2V5aW50X21pbj0yNSBzY2VuZWN1dD00MCBpbnRyYV9yZWZyZXNoPTAgcmNfbG9va2FoZWFkPTQwIHJjPWNyZiBtYnRyZWU9MSBjcmY9MjMuMCBxY29tcD0wLjYwIHFwbWluPTAgcXBtYXg9NjkgcXBzdGVwPTQgaXBfcmF0aW89MS40MCBhcT0xOjEuMDAAgAAAAi1liIQAJ//+9bF8CmrJ84oM6DIu4Zckya62IuJtAMAAJShQAAADABLJlCWzIByZd0AAABMgA4ofQZQeYiYqxUCV4g4GauIAZBjf/AjDKTtpjq4+xwAO2iC1YyIKGwFvB2vZrcDF75mDkso7df0E7j7A4kRIJ5fPxIbHekha7skVV+bCRiXi1wDIaD8FR8Te9rabKfMBD/Er1MI5j3EQrouLZOBVcAzwFakZgMMsytToWYOQRa8tq/0rhbrxUAN0/uD6wjylKdHSdaKxg28crViwZCoL4s6YAb8dS7rcLwziSsN7369Lk08dNMHwTzBDkARnlq16vyPgvPWboQxMeK1bBzEzIdsmKJAK5WpBYyxxyvjiusFbDxnm6IL79L9RTsO9uroc+F48lYMAwIaOWy3+BbyejCVPXE8we4rO9joPnNZvZ5Tsa4WsaA8IHFDuyqFavJGyf6jIFADCgJLOYSNuMKMfwKn+l/Jj7bmn4sd/tbCHv0H2dLhgsqx3nXn65HpdbmLce5p05/dvf5pKM0pRfRL/Hp4NU13l2d9AKL88E2TBXY1eqwMLywp8Fy2JwSSokDEK5Utt/yHb5cuCidsn7qvUrQvIfN+ndP/RNKY/gvbt3FXJIHI7ccKJHMSTT8LcvgB8b4OMGggYTlD6kS/hTBOg6mhlgccsJSZFn/3dkguwVJnBZRs6SEedVWquARuUuxtEjvstuaqX9RVzlgUfIlEFKAAAAwAAAwAgIQAAAG5BmiRsQr/+OEAAAQ339Bm0KX4JiAAJx7wWQHr7tI0OqUAnrzXKZlNtWfDaVwhd5MGs/yw3+eg7iLOr/gmc5jOw4AWH5UVpARmKDkqht0c0cNDT6NKv9/vdnSTNYX+c+zH6YT2piVQk6BflzvWgjAAAAERBnkJ4hH8AABa1KzPb54WsmAAJ2c3HYeX4vFGDBuRen8md9jFQEDkqyc28Bu6iHP+AAbJeUqbu5UbTkPs8KTL0S9EJswAAACQBnmF0R/8AACPDF2ippVPWabcaLWX3v8xCmxAA/T16WR0lhlQAAAAgAZ5jakf/AAAFHTAOG52T3xVRntCQAJabKQfYx8ynYqEAAACVQZpoSahBaJlMCEf//eEAAAQXM1zeQBKnphSQiYNLetfwHYGbgRyLRODzu0Z7ytJud8EdBOrPlj6FuXwCid0RyMkhQY4MpOEtpj+9trK7JQTHgsLTAkvNKeWu7nSpzl+QwoqhpBHcz+XvfP1/eEDbto795s1ZH3GnfoV8bg3Z/Ekjl90Rg6LcyG7aJDBJarRXOSLEJ8EAAAAsQZ6GRREsI/8AABa8Q80eMgMkcyxjKEq5+e1bsMn4IAGZgvlxCk1d2Tyxo58AAAAmAZ6ldEf/AAAFHFcdsWVh03xWMBRuXIy1hCV5tU5l12qIPNHwFvUAAAAdAZ6nakf/AAAjscwJb8ADuc6cwjXp2IdmT2F0tPgAAACdQZqsSahBbJlMCEf//eEAAAQTc0TnlCSOAAbfePF4pUjgM0BFOG4WXd2mIo/CqTaBIZ7rE6jXS/Ee8pgzGXvThMnD4BkaggytpeCCjYs+jUL4Kw96r6LhYQ1bCEqjg65J3OjmkpRIKHBti9UDzldZPc7hhFan7o6e2eBfhCu+52YEqZB0AK+uVipkeGLjEmUacvHWjXTjy7rhm6p9cgAAADpBnspFFSwj/wAAFrxDzcxG9YEWqwkQfQUlQIeb5uHt08ONaLux0HiYAA/m/LcgwI17/NnwsNQx4wTZAAAALAGe6XRH/wAADTe0/mQel1D2/K0EQJx9FOu4cPWIryOeGSnOrhYLGbeuFkCbAAAAGgGe62pH/wAAI78EJxLJaZq4VlMfKD3jGaXKAAAAskGa8EmoQWyZTAhP//3xAAADAqEBPav4gNm24dS3lKlPuSBSxDSsuZbsX32CpqRv3BoYy23V4ReqW+sW2k+ZtAK1RoOB8g8EEZT/RGAfaAj9iVpc6dewx4W6Pb200doPjolfXFojOq/JQaYaU8hiTttoGPNllE+LqXbqd/2wZ1YuR9ZaPIsY41o4z/ySLAIu3u4e28CW82eNrANV1pBLAfdjAALVV7AI4+cCaJ3JWaBZaLEAAABBQZ8ORRUsI/8AABa8UJS3MauhrWfJQZhazdvqUIhNHwWqu9yyzaVHt1i+MU0A8hxiAFvmRZ9kq6ZlraDN3tAVUwsAAAAfAZ8tdEf/AAANfgDTYQpy8ikCBH0phxiKL1g4f0ZOCwAAAB4Bny9qR/8AACO/H0EL3WE9KAqsokgkQWH9tuIWtvQAAAClQZs0SahBbJlMCE///fEAAAMCnvbbI8XPW2x7i6JuHUbZE1ZFo0RY7cZ/rA/BFXsm2UQq6bOKQ6Ef35zyR/nZgxorzJwuse3tBYDA9kOiizia6thrTJMr3cbbV9ZAG/0KOQWftApCebbTPdap+W2XIgsSPOLCl5CjRBWrcm6ZOP6hsY6RiA17qpXXJwArixiHiZWky13ZCEivF570Ur09uyYfShSYAAAAOkGfUkUVLCP/AAAWs0e3DYx9OOemz+RAos0ikSli4FiNBvcl+36Vg+CT7LblA6KDJQQG5gSDH32IcwUAAAAgAZ9xdEf/AAAjwuzhbBV0bPmfVz6sYKeuG2AkTZxsK58AAAAgAZ9zakf/AAAjvwQnEslnDaMkae3P03EoL5EOB9rLKnwAAABVQZt4SahBbJlMCEf//eEAAAQTdBMgPfeCD9DPyww2fnphjmnzaSPX8tRBZLu0w3/nM5E4zlADYvfd5ccv/++aMT7OexxN/N3QtF/CL755yknJ953tiwAAAChBn5ZFFSwj/wAAFrxDzbcVzKyZST4HQotmPRNXV3zuDgExHQ2y7G9AAAAAFwGftXRH/wAAAwAKP7Q9gzo4iZjSSL5VAAAAJwGft2pH/wAAI7HMAZBCwHBqJ34yIjj/yObtyiKAd6bkSf6CmQ1grQAAAH1Bm7xJqEFsmUwIT//98QAAAwKe9ubAKsHXij9Zm9/mRCSEaEvAmaXJUeb6mgVBhZpYOgX36ARt3A9XTM37YKmVpYBNdnBol8vHkhsQswPTFoACNpbLAV4XIDdFYUPTrP6LaRuj93G+Vi3hmIFaJoUyldV+onX61qju2XLzQAAAADNBn9pFFSwj/wAAFrNIhSlg3KMli8ONj06HQvUluKAk8lkS7aMSOkpyzHqBIABFs91TU+EAAAAfAZ/5dEf/AAAjrDj+9JE5he+FydRqsfUF9q6K2lAE2AAAABgBn/tqR/8AACOyKwcDbt+J2fWUcfyWICsAAABjQZvgSahBbJlMCEf//eEAAAQzP5K/SgCDjieMh6zC7c7hsGrvKfCGJAZygwmu7saTH5WbOehjHY1fPW8So9bvHIRjg0WFNVq1vcRmWivDxa28zC4J8UmWADjB729kTI/cERIpAAAAM0GeHkUVLCP/AAAXTELtsARqyO6ODQkn41G67Ay+CAImU67ZpuUqwojcPEbcZ83pn/w7gAAAACMBnj10R/8AACPAmpW88iaHMif7D1h7jGB+lI2FxQ410+cb0AAAADQBnj9qR/8AACS/BCcTsie9l6sMvDWtnFrjAS40GNJW8bbN+FNVh7PprUXkKpI0yVhEqlIDAAAAb0GaJEmoQWyZTAhH//3hAAAEM0gy3+n+y1ul3nXEyNgaocPUOTjh85C7vg9MBfFO09UsSYoAvUm5aYAlQsx5qTqcxSWxNNOg1KI/nQc0aTa5pl5sw+qSplgz5KiD6FYTvUzJfzsWPSwMvUVTQvRigwAAADlBnkJFFSwj/wAAF0KsHqMbZ4jGwmmJXuqAJnmvdc/MrZFCiXdouva9O6a3p8RtM25y9aySgvRqUgMAAAA9AZ5hdEf/AAAkwJnd6V6R3Pu3xdR0TQBN8GnTxM0brASyd/YdWclU5zvUFlAmEt50YASrKqh4TMlCqDOtsAAAACcBnmNqR/8AACSuXjOBc7DHntnA/2JMQVh0ntFoEjgGtVYFCKb22YEAAACJQZpoSahBbJlMCEf//eEAAAQzSDLf6XLIQjfLswe4iLRBJVuWP7y8a9UNOOcgPfYgEcnWy5lJFLHqXyAut0p9iPCUzpSyuMvTrqDrjatutlEhoVT1txA+DKOBeg4LbIZdr4tU5nSnTQSf5vZ+uAqD557FVVV+2TAsPqE+H/qeQJPLgprVZQevDckAAAA0QZ6GRRUsI/8AABdCq+i0PNOc+I2uCiZ9uInqM/u/mNxem1Qz7Q8aN39h1SR83Q+kkVktmQAAADMBnqV0R/8AACTAmd3pXuQvZgpFrvYAqa7mfdhDacHvWPE2cxyjUP/8XQAC2BjZiSO07cEAAAAhAZ6nakf/AAAkrl4zgXlDs822QGVuZ+mRR03LdR0D9FswAAAAZEGarEmoQWyZTAhH//3hAAAEM0vo6GBmI+Lv1g8m2+1aAA4PNxgAGwjvWv3J6ID7QCLMCjhevlbQ+0N+3U40MgecYAoxk+oh6DfEqBsm5HQDKd9U9UqVAPyiQuOsEMA0wala5n8AAABAQZ7KRRUsI/8AABdCrC9ZZ3L4BeFo1P6RlPPtbrE59ErEBwADjpLRQxT/cevMp3R4JU/zZPYxKliaGln++/2YBQAAACsBnul0R/8AACTAmSCkSHWGhVDRs4OgL5zv5QqxkhwYvF/pM5GWK2+V48OBAAAAKAGe62pH/wAAJK5f+zUyPOOHAv89AJS14jmNlHKDucwybL02VTYfdqQAAABrQZrwSahBbJlMCEf//eEAAARTTg16oKUGVKAFild9IGnA0HlpApS9QscOU337RoQhw9HwPv6ZJ7sWVDD3xE7xKx6Q+QqFL+1RnIEjXP9eiax6tBGyPidnGv361XAu3zouUV+UyXQShOeP0BkAAAA5QZ8ORRUsI/8AABffQ9Q4DDigMAFTHu1wRUjqp3g4pFzBQ9ykVnbSnJ3yn/78xYA1TvL3pQUPcXS9AAAAJAGfLXRH/wAAJcMQkWQbhq1YrvMHPqGMo1JLUxX9KCLqQ0khbQAAACwBny9qR/8AACWuXjOBeqjTb6yp519n6jPieoASXwQ8gvAPGwqumDXDpnmsIwAAAKVBmzJJqEFsmUwUTCP//eEAAARWichP3ADX5cuQYIM+ehV9LQz89J2DkSZ9kPS7bYPtXxzbNssm/BwLb3bXWCa5UEgEosLpQBauzz+3y9moCnFNKgz14U5z/uKkQ4dgFAprb/N6JqO19JbedfyVUUM3FexoIYW3OyFtU38J/Jq6MJAszqf06R7fUQc/rjQNgt5WekXxexBtDlGBakhS2pKmhOzni4AAAAAnAZ9Rakf/AAAlrl4zgiDGEgSRuCHlnNhtmcPBqgjvkAJowlW1lBJhAAAAaUGbVknhClJlMCEf/eEAAARZWGsz/KdBub0/VtZA6tbg5tJAAdNrJ8+3SJZdAfsHJjfMecteeibR+APmpKEiCuT6kA5XZ6mr7GW3SEbFOm7VDq8sTtnUtRFPW24MHfc26zWchh2OukJT5AAAACxBn3RFNEwj/wAAF+h0bB/Hg72+h5f0j1d7GIkqQsnr+EX8Pofo/KVIKZt9wAAAAD8Bn5N0R/8AACW/79upFKY0OId6r4LMu6AHGPUBpmJs2TDTz4xgGjCr2RqAJX/KgAnSGbmZVwtm3CwQmvAqIK8AAAA4AZ+Vakf/AAAlrVvmkYZs95qDuKMaB3AHw6/31fWxuzPVWkhKgrMOmyiWAAON1xPaNKjU4efbZ8AAAABLQZuaSahBaJlMCEf//eEAAARzUlzBgpSD1X+rIF7d51DRZOt/0N1rVnYZUd4KSfcforgAVQCqeyKl9Ff3gAwLpgtM6Vyh0W1crNCBAAAAI0GfuEURLCP/AAAYf3U1FouRwv/kN87ChmAk8M055CwdeTNvAAAAJgGf13RH/wAAJsMQkWQbhTtGfA4fq5Dz764o+Kw6mSaw4eWu2kGAAAAAKAGf2WpH/wAAJq1bZnDfPDBialig3Ap/Ljuxiu94yq8KUqQ8iK2lZ8EAAABXQZveSahBbJlMCEf//eEAAARzUmDoYGWxuU0SuIqdVRwKpSJgw4VbAkk9zc9BiTe/iXpaCYKkXMerkwfthdNqueKf9g7rBMMhBqkGb4cuATmQWudxqkNOAAAAKkGf/EUVLCP/AAAYf3UdC15+w/A/eMZgkKG0JMTVShs8eOjtyeWYR/D5qwAAACUBnht0R/8AACa/726dN82vC7T+cO0rLIbCCT2xE9cBskvRkiZ9AAAAIAGeHWpH/wAAJq1b5oaYsQGsW3zyCtY8NkWDeKiVqmj3AAAAbkGaAkmoQWyZTAhH//3hAAAEk1NJNlZVQKKXAd4D8okBBRNQ2wlHxD1G8Toz7VIew9Ydp51P1eo03hk7FuMv91zXsz8muKy1tW/oz/OivbPMpdveod8BE2g6iFV/wiKaCr7GrjaNq3crmkTNK1xAAAAAMUGeIEUVLCP/AAAZH3U1Fo/BWcaEni5eI5lSz6Ae1lB1q5Uz5IuEhz2J7jUr2BRmr3EAAAAtAZ5fdEf/AAAn3liRZBvK0XZ7KmCU0BRPIVkQHm6KsHKIyCdLGnjCjZNHZ6qwAAAAJQGeQWpH/wAAJ8QZMnDfPDBiXfL96tKuPNcY8fwZuW2QfPSY+ZUAAABSQZpGSahBbJlMCEf//eEAAASzU9P8c9/hqKqTQA3Gpwq/ylt+bgZ1KbX9dqxDdtGk0VqE4ezIo1b0LQJZBHZtpGWac56LbVmuHyKt6T+dIY1QgAAAADRBnmRFFSwj/wAAGcl8fLJgtmMrAwAFBoJkpkUuGOs9kUn3G8iZUhcY5EixYz0/eSLekTixAAAAOgGeg3RH/wAAJ9qc7Uldy2gBLDf03eeJY8q4JvrajSgzwT3mlw+Nyk+MlYkzYfvR+CkA0BW/5XE4p3EAAAA2AZ6Fakf/AAAo+YGRSqh4WRT5I/9C4n13jjR0uABtBjv0eAbI34OfZXPJYdktOq1kyKfCo27hAAAARUGaiEmoQWyZTBRMI//94QAABLNL5Xr36UMt7wMNNLAATjlrW3wnPXVh3hy2RcRo1+w2kmem/zVuqL5yVKBFzZO5zL/FmwAAAEYBnqdqR/8AACj3M0VUgurrvh2BIiZO5X770hBBOsnN1XBNUyZPH+1P+5rHDGYZon1KEsLvUZut08AE7dC+T6TArgZI9Zj3AAAAa0GarEnhClJlMCP//IQAABJLhhJqAf0hnDJtV0ksyLEf48TlvSTrgqIQuD73u/nJpgd+MN1bQt3UTznkhHMBFfgo9jFOWO+9Jcf/VhM25wu/mjvA5W/VrjedHvrHfHMO324GE+JbXB0hJcJoAAAAOEGeykU0TCP/AAAZv4WvW5nf3AARD9TBETRYrj2oHYSSt55Eb4p2gO0mJb5HUBq3Qiz58ILXT6bvAAAAMgGe6XRH/wAAKN67SEqEGnUvEYuQ66t8QdAlcQXSDLjlwhFzT4AAndt9ToD16vCp9mO4AAAAMQGe62pH/wAAKPczJz8SzpKcUibQAvnjs7C2imuCmikeDUCGi1Fh4Aq3qKM4JilwdYAAAAB8QZrtSahBaJlMCEf//eEAAATTP5XqgpQZaYDIraJ7E9o58zdb476oYtMLYGf+wNZYKfWOxoayvOdFx9mjJwRYdMtVWeK+HV4WOX2UFYw9C6mN0M1AZgBioPXHl/6bW4mucRY5bRc7v1Xhi+BdjaNzl8U9lVcPM5W9UdBX6QAAAFZBmw9J4QpSZTBREsI//eEAAATUtxchu7lqr1zff6denEiBSzqtDF48ut3du+UiqT8NmCIgw+Budf9TcyOBQVQ/Z8SSgelP8ObH9HBoVkNQQy+YlX1FgQAAADYBny5qR/8AACoCnN/9JYVgyQwmZwQ1hOw9TlwaJcRjfniEcd6fJCXFrt10ySTDhh9QVpl8qYEAAABuQZszSeEOiZTAhH/94QAABPWUXbKx2Tw0qVtEm9M0ABQmnYp9mW7py1euTzJ8UWVzw1/9Ik4518bbyDdIE2nawKTjbexFVqCIdYMPAlJIGW0Riowya1mcYwKettcz/bi0KtdoaQn1MsbTVHsWwFgAAAA9QZ9RRRU8I/8AABsJgtctmgmWjzAAbplVlF9r/gJtOvfmPf3KZOLd5e4ihXuctRbvzcP4XyH2JhKrnRfZQAAAADEBn3B0R/8AACoZtdv82rubIVVdTqgAJjhzhnUAGeUeA71WAAuJ/2cmjfXjiHFDEsJJAAAANgGfcmpH/wAAKzj3GjpIANyR3ai+jP4atxezgTW6AhGfjqkOzTTXfa3kf3xZ+0Q6bVfmHLUbQAAAAEdBm3VJqEFomUwU8I/94QAABPWODp4Yh1qTL7fiRFHHZYEF1S2WFV8SBaEAszortzm6ycta4kw0IeduAKUdMscaQwe4ZDyHMAAAAC0Bn5RqR/8AACsiqENewclf+cv4p3Cjkhv45Zr46UMTe5ypTEDExuxDe6xu/ZUAAABsQZuZSeEKUmUwIR/94QAABRmU5zbJcf8vIuDQGbnuAYHV11AITiGCE8rS0K5/MI/OkMOsAfKfMwW3Ez+zj0yCM3iJS19EysFG/FlwHpySJNP9Q/JIeoETJnuY8c9kkF4wCsn11tuARo0iPSSAAAAAM0Gft0U0TCP/AAAbqXyFUmC51ACo0pX6XG0gc+DrKEiemhdap8CDKDgJBJu14aCpO0pruQAAADUBn9Z0R/8AACsT/OTYQuABaz1A4Lab3oj7rY4yY+5rljNsEEDgw6Gz/Dssp+LznWMrL4rAgQAAAC0Bn9hqR/8AACxCnNjSnvwi/UJ60IfjmL6v7MRVYBvasdYHkxWelREJB+lF6mAAAABmQZvdSahBaJlMCP/8hAAAFGTOiUJP65m90UO5ggCnkV20O/XWCsvMb3pwVvv4+woUhgQMnlMD/cG2JQ5T9ZtSDMMyd8k7K9bp9gbIxhQpQsVoC8ai2R6I/2dlbbix0KhOmG2mqiPBAAAAN0Gf+0URLCP/AAAcWHIRUmC2YyED0CkeYUSpwBs/TY/0qq7LCjHNTsg/rIcoO1E7XlYvSiqaK7oAAAA4AZ4adEf/AAAsWbXbOIsFj7vdBGyQfNurEPKubS/am3baC3ktGqMMrANSyQKjIYHQINCFGp/ZjBkAAAAwAZ4cakf/AAAteWt98wiCKLziTDe6mk3YkdXjpt7oPED7dpOG6J9nIwi6zDzXu/QRAAAAXEGaHkmoQWyZTAhH//3hAAAFPX+Wtd6/biXUkM7vWyPIIIXHlV2oBTFQBJ7wfht9GEYRNGp32559NjZ5gW/gXbgcbCQxObgLLPueewIWPFH7l7+0hNfoVa1JFwxYAAAAWkGaIknhClJlMCEf/eEAAAVjMeTKSb/LvrkNOJTI1NaPgdOQMH3kS+PRxcMmiRsIykD7LA1fdmMyxxzkvZUDb+p0ltXwwU3zEAK4RCIy55nQchY/TXX/pofxgAAAADhBnkBFNEwj/wAAHQhyEVJgudXMMABbQRsoSk1qyqalqwGwC4dFVJrMu4IXyZL36X8yRUm6iOd0wQAAAC8Bnn90R/8AAC1e/6EY5k8Od1yj+7lKjG5aEQKhjbA5tRM+EshUYJwBVtil8cqK8AAAAEABnmFqR/8AAC6Za33zCIIotyew7fn8A0KkFiDHvqDpAyCoLRPXbaRUOntK2gbp6eOggibaBcpcoStULlPZYOZVAAAATUGaZkmoQWiZTAhH//3hAAAFYZX8Oh3fUwf01ADVt6T1MnbCOvPnGVF3bKo2vBnkHoIFpJahjOYzjoOHQvAp620vg7A/uPX2AxFNct5gAAAASkGehEURLCP/AAAdBw5pK9yGITcUbNLR4/PFcREzcGyAdyK8GSOYtorgMZhPrR+r95cAcq1t6q8QZ2gESmxcREXidPzETqSKYDBhAAAAPQGeo3RH/wAALpn82hC17kN1xxAUEBKEAAuhmnKg3u47F/aMoJuloRLEIQlHBDCRLAUvXsJ7dK45+tewp00AAAAqAZ6lakf/AAAugpzzBiK0PQoXsllX0f008+rwxlSQgB+zIZONlhISJqXhAAAAYEGaqEmoQWyZTBRMI//94QAABYWQNMGClFS/mQAR7qU8du4Gm5J2XY38bYTiNAYUqu5xdZ/1/RqD/suu435NoDW9uKIER37uRFg1dRnWQ9t2KTXxi+SQrfvzaygoppokgQAAAC4BnsdqR/8AAC/PKCz4WPeKc8lHPsYlYfh/ZFKYqJWm9J/tzTuK0QZWjUxvgLuAAAAAekGay0nhClJlMCEf/eEAAAWplOdgca8f8vHLjZQCa9STT/Fj9VLq9pog4EOhmDEfQOQ6Gxy51Vg9rh7JxwdNORR7t0zHjzM2aw/ZZcC5lfDT7hYRTPUgsRbBrwe1USKlENeDTdYBlSBsHF1BvPqHifWG3Gt4e+7b5eGQAAAAREGe6UU0TCP/AAAeaHIilQctri4xvMDd8PLwoU5rIc8PCsyg1GXyLbwWsCalhV2I6HAxS78O1Ho1E7Zq60BYbJ0I0oUFAAAANQGfCmpH/wAAMRJREEeK+ZyEMYepbvHrIpMxYp4lPw1hTkrWVLiRIpV6gA+6Xi/Q0cDaHzcnAAAAZ0GbDUmoQWiZTBTwj/3hAAAFqZA1e5vuIErtR83YS4NFy3BxT5Dtueo3tGb1qRqmR7j7aTtbP49YO6IR3v8uxYE1bOzGvkfB+Z1b8PpxiAubbnpeWTU0tUpuqwCdV9itESMmEsTc6OAAAAA6AZ8sakf/AAAw9xe29lXNmD9BgduXH06xQsXPD0gqgBJdqDR+eHFESDAMpyRWA53NUH2KOH9oJ1RlwQAAAHVBmy9J4QpSZTBSwj/94QAABc2SXMGCUHhvNrD1rBUypAATKX5xnYqtZLrBrU6xEg71MhOql+e9yfhKuTmZNRsfJgGkpFfQ9kAIQ/S9cn2H1rXDnCz+87bfgFHdgZ8AeF3WYR4nzGyROwGIn/F1Dm5YhmyLNoEAAAArAZ9Oakf/AAAyUjvuzeHmuUvWM5jscWIkZrQQNjkjgLawem0hULZuWug2fQAAAEhBm1FJ4Q6JlMFEwj/94QAABc2SXMGClUpXBTDAeCVgDVENzP+5PXcr3/lsg+3SyqmQ9LuHZ58VAFlVmtYmKbqnDMO0kisZETAAAAAyAZ9wakf/AAAyN5629k16R3B43oJXZz5AyYfLJLTsupQVhdZ99YK1TEQliAF2wtTYKnAAAABxQZt0SeEPJlMCEf/94QAABfRU5zbJcf8vHK7qb3j6mJiR4ADKSTj06U9TYdaLXb64j2gAIAMT8l5NL+2JEi+Fo3UDgjD1J4wck/y1EU9bbOngJNKFqnTUd2Pdzg2+CdujP8l+SAeaTLcJiDdli1xUyN8AAAAxQZ+SRRE8I/8AAB/IetORatO1xp0/NExVbm1/PwPTpHM9APNos614eWlTXC/viQmJwAAAACUBn7NqR/8AADN3nvr8DpFK6DuGnGFaFD/lo0rwLDimHAd1DsRoAAAAXUGbt0moQWiZTAj//IQAABfQDpYsCMokSiT95MvxG4fMMiUYRsFRT2EpkKhE7nm0xrxGiuVhZFxslxf1lhvqPCHVAnS0Kl9F1bV8A6mG4Wo0d7lC9c0XZLuTUQW7/wAAAEVBn9VFESwj/wAAILyFm1CFL8qazMwu6RyRhyFztHHoC1ALFqCRm+JrbrDVMy1//IfWhgAfl+sh+q7K8oh7t8ctLSAuh3QAAABDAZ/2akf/AAA00jvuzeGweyaC/y1kA2PxFo82gYvozCXyqNfVzCFdl3oc6rKdgIsRHw99xrtdAB62t+2JvZ2zfUIVjwAAAEJBm/hJqEFsmUwIR//94QAABiCBuFEMNAYOY1qnGfyHo7SzIYMNJVvCJKPEIWHfCdGEbndTMt3ukrs0wIjD4qQe6NUAAABiQZobSeEKUmUwIR/94QAABkRVcbPz3Jw1EZHhlq9uYWG0xHonjdB/q3kwPwjhlVVADcRhF2Czq2vCygUnHKyZUvgInbb1ivCwYI2scXOQp2p55w+t3F+Pl6j5c1U5BWssb4AAAAAuQZ45RTRMI/8AACG8hZtSzIQ6E97vtMI1lDA1uoMaPeVGKanbDbJ9EbTKgPvk7QAAADoBnlpqR/8AADYSO+7N4T9ZdrUsOcu59AIUTNHvR+lAliSHnTgbEw+/ipRfv9IqN8AXLCSolq4XsP/AAAAAbkGaXkmoQWiZTAhH//3hAAAGbFX7NxZx/y7d0m24Vy850fS9Oadyx5ILmWHz3ddgGLhE67o+2oAAVVMRaICvLqxByiVyayYbrUM5sATQmu4Msivm+d9281AQcD4qyNQxhSwmjrWwH/7E2WflsKYNAAAAS0GefEURLCP/AAAivIWnVKenySER8ABxlF7EhdauNDj5iKSaZm4rhU8Bj78W8x7wUkVHZ4yNNI0jiGoE6P5xJwof7zK9bYK8YvnkPQAAADIBnp1qR/8AADdSURBHi3FHjt8AQT3tGQY1bqLK7i+895ZdSalKvtaADzgveeMlzvDNfwAAAH9BmoBJqEFsmUwUTCP//eEAAAZwGjxWo9DnQd6xeKFP9m0wn+qV6cxVBCqalHdICTFeLwWkOrM46rfEY9RbDckcs3phO2KgcsU+N8pQBHX9VI0dFj3i1K8zmyH55AE5WUPBet1DFr30W1YVZvUAd2GOrBJJtlkBW4XYIdrvXUXkAAAANgGev2pH/wAAN09AW0ptjstxXvnTp+1pz9eF8ALpO1PM9wmc0fa8gLYcwndgrzYEuYNaYXwocQAAAFNBmqRJ4QpSZTAhH/3hAAAGlFeRO7/w+cKR7xBRVyTgAC2hEcGBzDNr6nY9MhuCi9QqlG7DJBC9aENtEP6Wi91tojx/JWfBtTpFu4Uer8zl1pjIQAAAAD9BnsJFNEwj/wAAI7qVWCsKhtFQYIAic5Gz4j3TEPT4fnuEza3faxREwEVGK/OVbNCh11iAQv4JxZSeT19MHwcAAAA4AZ7hdEf/AAA4jBRA+m3OCmiZ3pGqmAdy8RWUQBQDBarB+IXWdBftYB5eBCZAEYxQtnqh3tre0rAAAAAqAZ7jakf/AAA4rDzKgyitmzua/W9MXdhRumep3Bz6QbkVz/hw1OsDODpBAAAAW0Ga5kmoQWiZTBTwr/44QAABrz4W/ZIMAHFp+V+5gvPVGKmL6OG7E6qh2FhK5HgRrTOaXgIKFQCIcYtAJht3Y0EmJ+JBUcY/KUuA8ytSNrZYO0xxaco7GbMBe0EAAAA3AZ8Fakf/AAA4rE2fKAEX9SdqP3bYel7GEuEGhbos90VAng6WacdMcm+0flssZyE7eWwqtXCJnQAAAFFBmwdJ4QpSZTAhX/44QAABsfUiyAZeLQ+rJTV+vrS8QCNvzRvgM8rm6y5syiGpJxmAE7lDAH2/WR7VubtxgbbPbUldbG/bxpP5IH6Dp51QOkEAAAA1QZsqSeEOiZTAj//8hAAAAwOj6KJy9ioFsIj1Dw0PKmRYOslYg0kY63j0yKlly7oFbWmTGYAAAAAiQZ9IRRE8I/8AAAUd4/egh0IsKKu0etm0TzcqTqknc+SEWAAAABYBn2lqR/8AAAMBJbPwzkE435H+CIWxAAAJf21vb3YAAABsbXZoZAAAAAAAAAAAAAAAAAAAA+gAAArcAAEAAAEAAAAAAAAAAAAAAAABAAAAAAAAAAAAAAAAAAAAAQAAAAAAAAAAAAAAAAAAQAAAAAAAAAAAAAAAAAAAAAAAAAAAAAAAAAAAAAAAAAIAAAipdHJhawAAAFx0a2hkAAAAAwAAAAAAAAAAAAAAAQAAAAAAAArcAAAAAAAAAAAAAAAAAAAAAAABAAAAAAAAAAAAAAAAAAAAAQAAAAAAAAAAAAAAAAAAQAAAAAJYAAABkAAAAAAAJGVkdHMAAAAcZWxzdAAAAAAAAAABAAAK3AAAAgAAAQAAAAAIIW1kaWEAAAAgbWRoZAAAAAAAAAAAAAAAAAAAMgAAAIsAVcQAAAAAAC1oZGxyAAAAAAAAAAB2aWRlAAAAAAAAAAAAAAAAVmlkZW9IYW5kbGVyAAAAB8xtaW5mAAAAFHZtaGQAAAABAAAAAAAAAAAAAAAkZGluZgAAABxkcmVmAAAAAAAAAAEAAAAMdXJsIAAAAAEAAAeMc3RibAAAALBzdHNkAAAAAAAAAAEAAACgYXZjMQAAAAAAAAABAAAAAAAAAAAAAAAAAAAAAAJYAZAASAAAAEgAAAAAAAAAARVMYXZjNjAuMzEuMTAyIGxpYngyNjQAAAAAAAAAAAAAABj//wAAADZhdmNDAWQAH//hABlnZAAfrNlAmDPl4QAAAwABAAADAGQPGDGWAQAGaOvjyyLA/fj4AAAAABRidHJ0AAAAAAAAeq8AAHqvAAAAGHN0dHMAAAAAAAAAAQAAAIsAAAEAAAAAFHN0c3MAAAAAAAAAAQAAAAEAAAQ4Y3R0cwAAAAAAAACFAAAAAQAAAgAAAAABAAAFAAAAAAEAAAIAAAAAAQAAAAAAAAABAAABAAAAAAEAAAUAAAAAAQAAAgAAAAABAAAAAAAAAAEAAAEAAAAAAQAABQAAAAABAAACAAAAAAEAAAAAAAAAAQAAAQAAAAABAAAFAAAAAAEAAAIAAAAAAQAAAAAAAAABAAABAAAAAAEAAAUAAAAAAQAAAgAAAAABAAAAAAAAAAEAAAEAAAAAAQAABQAAAAABAAACAAAAAAEAAAAAAAAAAQAAAQAAAAABAAAFAAAAAAEAAAIAAAAAAQAAAAAAAAABAAABAAAAAAEAAAUAAAAAAQAAAgAAAAABAAAAAAAAAAEAAAEAAAAAAQAABQAAAAABAAACAAAAAAEAAAAAAAAAAQAAAQAAAAABAAAFAAAAAAEAAAIAAAAAAQAAAAAAAAABAAABAAAAAAEAAAUAAAAAAQAAAgAAAAABAAAAAAAAAAEAAAEAAAAAAQAABQAAAAABAAACAAAAAAEAAAAAAAAAAQAAAQAAAAABAAADAAAAAAEAAAEAAAAAAQAABQAAAAABAAACAAAAAAEAAAAAAAAAAQAAAQAAAAABAAAFAAAAAAEAAAIAAAAAAQAAAAAAAAABAAABAAAAAAEAAAUAAAAAAQAAAgAAAAABAAAAAAAAAAEAAAEAAAAAAQAABQAAAAABAAACAAAAAAEAAAAAAAAAAQAAAQAAAAABAAAFAAAAAAEAAAIAAAAAAQAAAAAAAAABAAABAAAAAAEAAAMAAAAAAQAAAQAAAAABAAAFAAAAAAEAAAIAAAAAAQAAAAAAAAABAAABAAAAAAEAAAIAAAAAAQAAAwAAAAABAAABAAAAAAEAAAUAAAAAAQAAAgAAAAABAAAAAAAAAAEAAAEAAAAAAQAAAwAAAAABAAABAAAAAAEAAAUAAAAAAQAAAgAAAAABAAAAAAAAAAEAAAEAAAAAAQAABQAAAAABAAACAAAAAAEAAAAAAAAAAQAAAQAAAAABAAACAAAAAAEAAAUAAAAAAQAAAgAAAAABAAAAAAAAAAEAAAEAAAAAAQAABQAAAAABAAACAAAAAAEAAAAAAAAAAQAAAQAAAAABAAADAAAAAAEAAAEAAAAAAQAABAAAAAACAAABAAAAAAEAAAMAAAAAAQAAAQAAAAABAAADAAAAAAEAAAEAAAAAAQAAAwAAAAABAAABAAAAAAEAAAQAAAAAAgAAAQAAAAABAAAEAAAAAAIAAAEAAAAAAQAAAgAAAAABAAAEAAAAAAIAAAEAAAAAAQAABAAAAAACAAABAAAAAAEAAAMAAAAAAQAAAQAAAAABAAAFAAAAAAEAAAIAAAAAAQAAAAAAAAABAAABAAAAAAEAAAMAAAAAAQAAAQAAAAABAAACAAAAAAEAAAQAAAAAAgAAAQAAAAAcc3RzYwAAAAAAAAABAAAAAQAAAIsAAAABAAACQHN0c3oAAAAAAAAAAAAAAIsAAATkAAAAcgAAAEgAAAAoAAAAJAAAAJkAAAAwAAAAKgAAACEAAAChAAAAPgAAADAAAAAeAAAAtgAAAEUAAAAjAAAAIgAAAKkAAAA+AAAAJAAAACQAAABZAAAALAAAABsAAAArAAAAgQAAADcAAAAjAAAAHAAAAGcAAAA3AAAAJwAAADgAAABzAAAAPQAAAEEAAAArAAAAjQAAADgAAAA3AAAAJQAAAGgAAABEAAAALwAAACwAAABvAAAAPQAAACgAAAAwAAAAqQAAACsAAABtAAAAMAAAAEMAAAA8AAAATwAAACcAAAAqAAAALAAAAFsAAAAuAAAAKQAAACQAAAByAAAANQAAADEAAAApAAAAVgAAADgAAAA+AAAAOgAAAEkAAABKAAAAbwAAADwAAAA2AAAANQAAAIAAAABaAAAAOgAAAHIAAABBAAAANQAAADoAAABLAAAAMQAAAHAAAAA3AAAAOQAAADEAAABqAAAAOwAAADwAAAA0AAAAYAAAAF4AAAA8AAAAMwAAAEQAAABRAAAATgAAAEEAAAAuAAAAZAAAADIAAAB+AAAASAAAADkAAABrAAAAPgAAAHkAAAAvAAAATAAAADYAAAB1AAAANQAAACkAAABhAAAASQAAAEcAAABGAAAAZgAAADIAAAA+AAAAcgAAAE8AAAA2AAAAgwAAADoAAABXAAAAQwAAADwAAAAuAAAAXwAAADsAAABVAAAAOQAAACYAAAAaAAAAFHN0Y28AAAAAAAAAAQAAADAAAABidWR0YQAAAFptZXRhAAAAAAAAACFoZGxyAAAAAAAAAABtZGlyYXBwbAAAAAAAAAAAAAAAAC1pbHN0AAAAJal0b28AAAAdZGF0YQAAAAEAAAAATGF2ZjYwLjE2LjEwMA==\" type=\"video/mp4\">\n",
       " Your browser does not support the video tag.\n",
       " </video></div>"
      ],
      "text/plain": [
       "<IPython.core.display.HTML object>"
      ]
     },
     "metadata": {},
     "output_type": "display_data"
    },
    {
     "name": "stdout",
     "output_type": "stream",
     "text": [
      "test/ ex1-episode-9.mp4\n"
     ]
    },
    {
     "data": {
      "text/html": [
       "<div style=\"width: 200px; height: 100px;; border: 1px solid #5733FF;\"><video loop autoplay  width=\"200\"  height=\"100\">\n",
       " <source src=\"data:video/mp4;base64,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\" type=\"video/mp4\">\n",
       " Your browser does not support the video tag.\n",
       " </video></div>"
      ],
      "text/plain": [
       "<IPython.core.display.HTML object>"
      ]
     },
     "metadata": {},
     "output_type": "display_data"
    }
   ],
   "source": [
    "if not skip_training:\n",
    "    # Test Result\n",
    "    \n",
    "    video_dir = work_dir/'video'/'CartPole-v1'/'test'\n",
    "    \n",
    "    # List all MP4 files in the directory\n",
    "    mp4_files = [file for file in os.listdir(video_dir) if file.endswith(\".mp4\")]\n",
    "    frame_colors = ['#FF5733', '#33FF57', '#5733FF', '#FFFF33', '#33FFFF', '#FF33FF']\n",
    "    # Display each MP4 file\n",
    "    for i, mp4_file in enumerate(mp4_files):\n",
    "        video_path = os.path.join(video_dir, mp4_file)\n",
    "        video = Video(video_path, embed=True, html_attributes=\"loop autoplay\", width=200, height=100)\n",
    "        frame_color = frame_colors[i % len(frame_colors)]\n",
    "        video_frame = HTML(f'<div style=\"width: 200px; height: 100px;; border: 1px solid #5733FF;\">{video._repr_html_()}</div>')\n",
    "        print(\"test/\",mp4_file)\n",
    "        display(video_frame)"
   ]
  },
  {
   "cell_type": "markdown",
   "id": "b9298a34",
   "metadata": {
    "deletable": false,
    "editable": false,
    "nbgrader": {
     "cell_type": "markdown",
     "checksum": "29f3456bbec5bacc9d93ec415d74e5d3",
     "grade": false,
     "grade_id": "cell-9b1e05f80922c2bf",
     "locked": true,
     "schema_version": 3,
     "solution": false,
     "task": false
    },
    "tags": []
   },
   "source": [
    "<a id='Q1'></a>\n",
    "<div class=\" alert alert-warning\">\n",
    "    <h3><b>Student Question 1.1</b> Learning (10 points) </h3> \n",
    "\n",
    "Test the trained model from Task 1 five times with different random seeds. Did the same model, trained to balance for 100 timesteps, learn to always balance the pole for 1000 timesteps? Why/why not?\n",
    "    \n",
    "🔝\t<a href='#TOC'><b>Table of Contents</b></a>\n",
    "</div>\n"
   ]
  },
  {
   "cell_type": "code",
   "execution_count": 11,
   "id": "e76718b1",
   "metadata": {
    "tags": []
   },
   "outputs": [],
   "source": [
    "#Evaluate the trained model by setting 5 different random seeds chosen by you\n",
    "#Type 5 different  random seeds  in eval_seeds array\n",
    "eval_seeds =  [10 , 2 , 5 , 4 , 7 ]"
   ]
  },
  {
   "cell_type": "code",
   "execution_count": 12,
   "id": "1549ae65",
   "metadata": {
    "deletable": false,
    "editable": false,
    "nbgrader": {
     "cell_type": "code",
     "checksum": "55507b4aacb261bb5e0c39e9fb9933f9",
     "grade": true,
     "grade_id": "cell-a885538088286a64",
     "locked": true,
     "points": 0,
     "schema_version": 3,
     "solution": false,
     "task": false
    },
    "tags": []
   },
   "outputs": [],
   "source": [
    "assert len(set(eval_seeds)) == 5"
   ]
  },
  {
   "cell_type": "code",
   "execution_count": 16,
   "id": "8ea940e9",
   "metadata": {
    "deletable": false,
    "editable": false,
    "nbgrader": {
     "cell_type": "code",
     "checksum": "ebb50086ad7448789468612578cd825d",
     "grade": true,
     "grade_id": "cell-2f9ca7392eabd6d2",
     "locked": true,
     "points": 0,
     "schema_version": 3,
     "solution": false,
     "task": false
    },
    "tags": []
   },
   "outputs": [
    {
     "name": "stdout",
     "output_type": "stream",
     "text": [
      "Numpy/Torch/Random Seed:  10\n",
      "Loading model from /notebooks/rl2024/ex1/results/model/CartPole-v1_params.pt ...\n",
      "Testing...\n",
      "Test ep reward: 143.0 seed: 10\n",
      "Average test reward: 143.0 episode length: 143.0\n",
      "Numpy/Torch/Random Seed:  2\n",
      "Loading model from /notebooks/rl2024/ex1/results/model/CartPole-v1_params.pt ...\n",
      "Testing...\n",
      "Test ep reward: 135.0 seed: 2\n",
      "Average test reward: 135.0 episode length: 135.0\n",
      "Numpy/Torch/Random Seed:  5\n",
      "Loading model from /notebooks/rl2024/ex1/results/model/CartPole-v1_params.pt ...\n",
      "Testing...\n",
      "Test ep reward: 138.0 seed: 5\n",
      "Average test reward: 138.0 episode length: 138.0\n",
      "Numpy/Torch/Random Seed:  4\n",
      "Loading model from /notebooks/rl2024/ex1/results/model/CartPole-v1_params.pt ...\n",
      "Testing...\n",
      "Test ep reward: 148.0 seed: 4\n",
      "Average test reward: 148.0 episode length: 148.0\n",
      "Numpy/Torch/Random Seed:  7\n",
      "Loading model from /notebooks/rl2024/ex1/results/model/CartPole-v1_params.pt ...\n",
      "Testing...\n",
      "Test ep reward: 140.0 seed: 7\n",
      "Average test reward: 140.0 episode length: 140.0\n"
     ]
    }
   ],
   "source": [
    "%%capture --no-stdout\n",
    "def question1_1_evaluate1(eval_seeds):\n",
    "    mean_reward = []\n",
    "\n",
    "    for seed in eval_seeds:\n",
    "        acc_rewards = t.test(episodes=1, cfg_path=Path().cwd()/'cfg'/'cartpole_v1.yaml', \n",
    "            cfg_args=dict(testing=True,save_video=False, save_logging=False, save_model=False, \n",
    "            seed=seed, max_episode_steps=1000, model_name=\"CartPole-v1\"))\n",
    "        mean_reward.append(acc_rewards)\n",
    "\n",
    "    return np.mean(mean_reward)\n",
    "\n",
    "assert question1_1_evaluate1(eval_seeds) > 100"
   ]
  },
  {
   "cell_type": "markdown",
   "id": "5d817076",
   "metadata": {
    "deletable": false,
    "editable": false,
    "nbgrader": {
     "cell_type": "markdown",
     "checksum": "f6c1beea3fe0d08543135685a1b18a53",
     "grade": false,
     "grade_id": "cell-34afac26642e2bc4",
     "locked": true,
     "schema_version": 3,
     "solution": false,
     "task": false
    }
   },
   "source": [
    "### Question:\n",
    "Did the same model consistently balance the pole for 1000 timesteps? Select the most appropriate answer.\n",
    "\n",
    "**Options:**\n",
    "Choices:\n",
    "1. No, the agent generally failed around 100-200 timesteps because it encountered unfamiliar states.\n",
    "\n",
    "2. Yes, the agent balanced the pole for 1000 timesteps in every test due to a perfectly learned policy.\n",
    "\n",
    "3. No, although the agent sometimes balanced the pole for 1000 timesteps, it typically failed due to limited generalization to new states.\n",
    "\n",
    "4. Yes, but only with some random seeds; it failed to generalize this behavior across all tests.\n",
    "\n",
    "5. No, the agent frequently moved out of bounds or the pole tilted too much, showing poor adaptation.\n",
    "\n",
    "6. Yes, the agent demonstrated perfect control in all tests due to effective training.\n",
    "\n",
    "7. No, the agent's performance varied significantly with different random seeds, indicating inconsistency in learned behavior.\n",
    "\n",
    "\n"
   ]
  },
  {
   "cell_type": "code",
   "execution_count": 17,
   "id": "3b571667",
   "metadata": {
    "tags": []
   },
   "outputs": [],
   "source": [
    "sq1_1 = 5 #Answer question 1.1 with the appropriate answer number"
   ]
  },
  {
   "cell_type": "code",
   "execution_count": 18,
   "id": "53d85d22",
   "metadata": {
    "deletable": false,
    "editable": false,
    "nbgrader": {
     "cell_type": "code",
     "checksum": "11c62ac2a464b078e231c9be051ec0cc",
     "grade": true,
     "grade_id": "cell-c0b2457bfc16e0b6",
     "locked": true,
     "points": 0,
     "schema_version": 3,
     "solution": false,
     "task": false
    },
    "tags": []
   },
   "outputs": [],
   "source": [
    "assert sq1_1 in range(1,8)"
   ]
  },
  {
   "cell_type": "markdown",
   "id": "d0b1a1ca",
   "metadata": {},
   "source": [
    "The following cells are used for grading"
   ]
  },
  {
   "cell_type": "code",
   "execution_count": null,
   "id": "7799a07e",
   "metadata": {
    "deletable": false,
    "editable": false,
    "nbgrader": {
     "cell_type": "code",
     "checksum": "e0f7503516a3888a3292ce9546eec77f",
     "grade": true,
     "grade_id": "cell-47569346bb4f32fa",
     "locked": true,
     "points": 5,
     "schema_version": 3,
     "solution": false,
     "task": false
    }
   },
   "outputs": [],
   "source": []
  },
  {
   "cell_type": "code",
   "execution_count": null,
   "id": "a14c81c7",
   "metadata": {
    "deletable": false,
    "editable": false,
    "nbgrader": {
     "cell_type": "code",
     "checksum": "c67b46c2518a7daaee9b7ded56f1ccff",
     "grade": true,
     "grade_id": "cell-c5e675812f807564",
     "locked": true,
     "points": 5,
     "schema_version": 3,
     "solution": false,
     "task": false
    }
   },
   "outputs": [],
   "source": []
  },
  {
   "cell_type": "markdown",
   "id": "9f3b5ed9",
   "metadata": {
    "deletable": false,
    "editable": false,
    "nbgrader": {
     "cell_type": "markdown",
     "checksum": "3c7f39f15f26fcd1226ebdec7f666a26",
     "grade": false,
     "grade_id": "cell-6fdccf7da0340917",
     "locked": true,
     "schema_version": 3,
     "solution": false,
     "task": false
    }
   },
   "source": [
    "<a id='T2'></a>\n",
    "<div class=\" alert alert-warning\">\n",
    "    <h3><b>Student Task 2.</b> Investigating Training Performance (10 points) </h3> \n",
    "\n",
    "Repeat the experiment in Task 1 five times, each time training the model from scratch with 100 timesteps and testing it for 1000 timesteps. Use a different seed number for each training/testing cycle. You can use the box below to write a small script to do this. Use the result textbox below to report the average test reward for each repeat. \n",
    "    \n",
    "🔝\t<a href='#TOC'><b>Table of Contents</b></a>\n",
    "</div>\n"
   ]
  },
  {
   "cell_type": "markdown",
   "id": "aa8b9768",
   "metadata": {
    "deletable": false,
    "editable": false,
    "nbgrader": {
     "cell_type": "markdown",
     "checksum": "0e6bbcf84dee7d5a7e4e77f40fef39da",
     "grade": false,
     "grade_id": "cell-52c4064985fce5f1",
     "locked": true,
     "schema_version": 3,
     "solution": false,
     "task": false
    }
   },
   "source": [
    "Make sure to change the model_name for each agent to the ones given and and that the respective parameter file is saved in results/model/\n",
    "\n",
    "In order to get the points for this exercise each of the agents must have a test accuracy of higher than 100."
   ]
  },
  {
   "cell_type": "code",
   "execution_count": 20,
   "id": "01cb1f80",
   "metadata": {
    "tags": []
   },
   "outputs": [
    {
     "name": "stdout",
     "output_type": "stream",
     "text": [
      "Numpy/Torch/Random Seed:  1\n",
      "Configuration Settings: {'exp_name': 'ex1', 'seed': 1, 'env_name': 'CartPole-v1', 'model_name': 'CartPole-v1-model0', 'max_episode_steps': 100, 'train_episodes': 500, 'batch_size': 64, 'min_update_samples': 2000, 'testing': False, 'model_path': 'default', 'save_video': True, 'save_model': True, 'save_logging': True, 'silent': False, 'use_wandb': True, 'run_suffix': 0}\n",
      "Training device: cpu\n",
      "Observation space dimensions: 4\n",
      "Action space dimensions: 2\n",
      "\n"
     ]
    },
    {
     "name": "stderr",
     "output_type": "stream",
     "text": [
      "/opt/software/lib/python3.10/site-packages/gymnasium/wrappers/record_video.py:87: UserWarning: \u001b[33mWARN: Overwriting existing videos at /notebooks/rl2024/ex1/results/video/CartPole-v1/train folder (try specifying a different `video_folder` for the `RecordVideo` wrapper if this is not desired)\u001b[0m\n",
      "  logger.warn(\n"
     ]
    },
    {
     "name": "stdout",
     "output_type": "stream",
     "text": [
      "Episode 0 finished. Total reward: 14.0 (14 timesteps)\n",
      "Episode 5 finished. Total reward: 38.0 (38 timesteps)\n",
      "Episode 10 finished. Total reward: 14.0 (14 timesteps)\n",
      "Episode 15 finished. Total reward: 83.0 (83 timesteps)\n",
      "Episode 20 finished. Total reward: 12.0 (12 timesteps)\n",
      "Episode 25 finished. Total reward: 18.0 (18 timesteps)\n",
      "Episode 30 finished. Total reward: 36.0 (36 timesteps)\n",
      "Episode 35 finished. Total reward: 16.0 (16 timesteps)\n",
      "Episode 40 finished. Total reward: 29.0 (29 timesteps)\n",
      "Episode 45 finished. Total reward: 15.0 (15 timesteps)\n",
      "Episode 50 finished. Total reward: 15.0 (15 timesteps)\n",
      "Episode 55 finished. Total reward: 27.0 (27 timesteps)\n",
      "Episode 60 finished. Total reward: 33.0 (33 timesteps)\n",
      "Episode 65 finished. Total reward: 11.0 (11 timesteps)\n",
      "Episode 70 finished. Total reward: 27.0 (27 timesteps)\n",
      "Episode 75 finished. Total reward: 13.0 (13 timesteps)\n",
      "Episode 80 finished. Total reward: 9.0 (9 timesteps)\n",
      "Episode 85 finished. Total reward: 19.0 (19 timesteps)\n",
      "Updating the policy...\n",
      "Updating finished!\n",
      "Episode 90 finished. Total reward: 58.0 (58 timesteps)\n",
      "Episode 95 finished. Total reward: 13.0 (13 timesteps)\n",
      "Episode 100 finished. Total reward: 17.0 (17 timesteps)\n",
      "Episode 105 finished. Total reward: 17.0 (17 timesteps)\n",
      "Episode 110 finished. Total reward: 27.0 (27 timesteps)\n",
      "Episode 115 finished. Total reward: 9.0 (9 timesteps)\n",
      "Episode 120 finished. Total reward: 17.0 (17 timesteps)\n",
      "Episode 125 finished. Total reward: 13.0 (13 timesteps)\n",
      "Episode 130 finished. Total reward: 26.0 (26 timesteps)\n",
      "Episode 135 finished. Total reward: 9.0 (9 timesteps)\n",
      "Episode 140 finished. Total reward: 89.0 (89 timesteps)\n",
      "Episode 145 finished. Total reward: 14.0 (14 timesteps)\n",
      "Episode 150 finished. Total reward: 30.0 (30 timesteps)\n",
      "Episode 155 finished. Total reward: 27.0 (27 timesteps)\n",
      "Episode 160 finished. Total reward: 23.0 (23 timesteps)\n",
      "Updating the policy...\n",
      "Updating finished!\n",
      "Episode 165 finished. Total reward: 24.0 (24 timesteps)\n",
      "Episode 170 finished. Total reward: 28.0 (28 timesteps)\n",
      "Episode 175 finished. Total reward: 32.0 (32 timesteps)\n",
      "Episode 180 finished. Total reward: 27.0 (27 timesteps)\n",
      "Episode 185 finished. Total reward: 65.0 (65 timesteps)\n",
      "Episode 190 finished. Total reward: 99.0 (99 timesteps)\n",
      "Episode 195 finished. Total reward: 30.0 (30 timesteps)\n",
      "Episode 200 finished. Total reward: 25.0 (25 timesteps)\n",
      "Episode 205 finished. Total reward: 29.0 (29 timesteps)\n",
      "Episode 210 finished. Total reward: 27.0 (27 timesteps)\n",
      "Updating the policy...\n",
      "Updating finished!\n",
      "Episode 215 finished. Total reward: 100.0 (100 timesteps)\n",
      "Episode 220 finished. Total reward: 100.0 (100 timesteps)\n",
      "Episode 225 finished. Total reward: 59.0 (59 timesteps)\n",
      "Episode 230 finished. Total reward: 74.0 (74 timesteps)\n",
      "Episode 235 finished. Total reward: 49.0 (49 timesteps)\n",
      "Episode 240 finished. Total reward: 96.0 (96 timesteps)\n",
      "Episode 245 finished. Total reward: 73.0 (73 timesteps)\n",
      "Updating the policy...\n",
      "Updating finished!\n",
      "Episode 250 finished. Total reward: 100.0 (100 timesteps)\n",
      "Episode 255 finished. Total reward: 100.0 (100 timesteps)\n",
      "Episode 260 finished. Total reward: 52.0 (52 timesteps)\n",
      "Episode 265 finished. Total reward: 100.0 (100 timesteps)\n",
      "Episode 270 finished. Total reward: 18.0 (18 timesteps)\n",
      "Updating the policy...\n",
      "Updating finished!\n",
      "Episode 275 finished. Total reward: 100.0 (100 timesteps)\n",
      "Episode 280 finished. Total reward: 92.0 (92 timesteps)\n",
      "Episode 285 finished. Total reward: 100.0 (100 timesteps)\n",
      "Episode 290 finished. Total reward: 100.0 (100 timesteps)\n",
      "Updating the policy...\n",
      "Updating finished!\n",
      "Episode 295 finished. Total reward: 100.0 (100 timesteps)\n",
      "Episode 300 finished. Total reward: 100.0 (100 timesteps)\n",
      "Episode 305 finished. Total reward: 100.0 (100 timesteps)\n",
      "Episode 310 finished. Total reward: 100.0 (100 timesteps)\n",
      "Updating the policy...\n",
      "Updating finished!\n",
      "Episode 315 finished. Total reward: 97.0 (97 timesteps)\n",
      "Episode 320 finished. Total reward: 100.0 (100 timesteps)\n",
      "Episode 325 finished. Total reward: 100.0 (100 timesteps)\n",
      "Episode 330 finished. Total reward: 100.0 (100 timesteps)\n",
      "Episode 335 finished. Total reward: 100.0 (100 timesteps)\n",
      "Updating the policy...\n",
      "Updating finished!\n",
      "Episode 340 finished. Total reward: 100.0 (100 timesteps)\n",
      "Episode 345 finished. Total reward: 100.0 (100 timesteps)\n",
      "Episode 350 finished. Total reward: 95.0 (95 timesteps)\n",
      "Episode 355 finished. Total reward: 100.0 (100 timesteps)\n",
      "Updating the policy...\n",
      "Updating finished!\n",
      "Episode 360 finished. Total reward: 100.0 (100 timesteps)\n",
      "Episode 365 finished. Total reward: 100.0 (100 timesteps)\n",
      "Episode 370 finished. Total reward: 100.0 (100 timesteps)\n",
      "Episode 375 finished. Total reward: 100.0 (100 timesteps)\n",
      "Updating the policy...\n",
      "Updating finished!\n",
      "Episode 380 finished. Total reward: 100.0 (100 timesteps)\n",
      "Episode 385 finished. Total reward: 100.0 (100 timesteps)\n",
      "Episode 390 finished. Total reward: 100.0 (100 timesteps)\n",
      "Episode 395 finished. Total reward: 100.0 (100 timesteps)\n",
      "Updating the policy...\n",
      "Updating finished!\n",
      "Episode 400 finished. Total reward: 85.0 (85 timesteps)\n",
      "Episode 405 finished. Total reward: 100.0 (100 timesteps)\n",
      "Episode 410 finished. Total reward: 100.0 (100 timesteps)\n",
      "Episode 415 finished. Total reward: 100.0 (100 timesteps)\n",
      "Episode 420 finished. Total reward: 100.0 (100 timesteps)\n",
      "Updating the policy...\n",
      "Updating finished!\n",
      "Episode 425 finished. Total reward: 100.0 (100 timesteps)\n",
      "Episode 430 finished. Total reward: 100.0 (100 timesteps)\n",
      "Episode 435 finished. Total reward: 100.0 (100 timesteps)\n",
      "Episode 440 finished. Total reward: 100.0 (100 timesteps)\n",
      "Updating the policy...\n",
      "Updating finished!\n",
      "Episode 445 finished. Total reward: 100.0 (100 timesteps)\n",
      "Episode 450 finished. Total reward: 100.0 (100 timesteps)\n",
      "Episode 455 finished. Total reward: 100.0 (100 timesteps)\n",
      "Episode 460 finished. Total reward: 100.0 (100 timesteps)\n",
      "Updating the policy...\n",
      "Updating finished!\n",
      "Episode 465 finished. Total reward: 100.0 (100 timesteps)\n",
      "Episode 470 finished. Total reward: 100.0 (100 timesteps)\n",
      "Episode 475 finished. Total reward: 100.0 (100 timesteps)\n",
      "Episode 480 finished. Total reward: 100.0 (100 timesteps)\n",
      "Updating the policy...\n",
      "Updating finished!\n",
      "Episode 485 finished. Total reward: 100.0 (100 timesteps)\n",
      "Episode 490 finished. Total reward: 100.0 (100 timesteps)\n",
      "Episode 495 finished. Total reward: 100.0 (100 timesteps)\n",
      "Episode 500 finished. Total reward: 100.0 (100 timesteps)\n",
      "Model saved to /notebooks/rl2024/ex1/results/model/CartPole-v1-model0_params.pt\n",
      "------Training finished.------\n",
      "Numpy/Torch/Random Seed:  5\n",
      "Configuration Settings: {'exp_name': 'ex1', 'seed': 5, 'env_name': 'CartPole-v1', 'model_name': 'CartPole-v1-model1', 'max_episode_steps': 100, 'train_episodes': 500, 'batch_size': 64, 'min_update_samples': 2000, 'testing': False, 'model_path': 'default', 'save_video': True, 'save_model': True, 'save_logging': True, 'silent': False, 'use_wandb': True, 'run_suffix': 0}\n",
      "Training device: cpu\n",
      "Observation space dimensions: 4\n",
      "Action space dimensions: 2\n",
      "\n",
      "Episode 0 finished. Total reward: 36.0 (36 timesteps)\n",
      "Episode 5 finished. Total reward: 15.0 (15 timesteps)\n",
      "Episode 10 finished. Total reward: 46.0 (46 timesteps)\n",
      "Episode 15 finished. Total reward: 11.0 (11 timesteps)\n",
      "Episode 20 finished. Total reward: 39.0 (39 timesteps)\n",
      "Episode 25 finished. Total reward: 18.0 (18 timesteps)\n",
      "Episode 30 finished. Total reward: 77.0 (77 timesteps)\n",
      "Episode 35 finished. Total reward: 22.0 (22 timesteps)\n",
      "Episode 40 finished. Total reward: 18.0 (18 timesteps)\n",
      "Episode 45 finished. Total reward: 16.0 (16 timesteps)\n",
      "Episode 50 finished. Total reward: 19.0 (19 timesteps)\n",
      "Episode 55 finished. Total reward: 15.0 (15 timesteps)\n",
      "Episode 60 finished. Total reward: 20.0 (20 timesteps)\n",
      "Episode 65 finished. Total reward: 16.0 (16 timesteps)\n",
      "Episode 70 finished. Total reward: 38.0 (38 timesteps)\n",
      "Episode 75 finished. Total reward: 51.0 (51 timesteps)\n",
      "Updating the policy...\n",
      "Updating finished!\n",
      "Episode 80 finished. Total reward: 30.0 (30 timesteps)\n",
      "Episode 85 finished. Total reward: 24.0 (24 timesteps)\n",
      "Episode 90 finished. Total reward: 50.0 (50 timesteps)\n",
      "Episode 95 finished. Total reward: 23.0 (23 timesteps)\n",
      "Episode 100 finished. Total reward: 16.0 (16 timesteps)\n",
      "Episode 105 finished. Total reward: 24.0 (24 timesteps)\n",
      "Episode 110 finished. Total reward: 30.0 (30 timesteps)\n",
      "Episode 115 finished. Total reward: 24.0 (24 timesteps)\n",
      "Episode 120 finished. Total reward: 42.0 (42 timesteps)\n",
      "Episode 125 finished. Total reward: 16.0 (16 timesteps)\n",
      "Episode 130 finished. Total reward: 25.0 (25 timesteps)\n",
      "Episode 135 finished. Total reward: 10.0 (10 timesteps)\n",
      "Episode 140 finished. Total reward: 22.0 (22 timesteps)\n",
      "Episode 145 finished. Total reward: 53.0 (53 timesteps)\n",
      "Updating the policy...\n",
      "Updating finished!\n",
      "Episode 150 finished. Total reward: 76.0 (76 timesteps)\n",
      "Episode 155 finished. Total reward: 38.0 (38 timesteps)\n",
      "Episode 160 finished. Total reward: 39.0 (39 timesteps)\n",
      "Episode 165 finished. Total reward: 28.0 (28 timesteps)\n",
      "Episode 170 finished. Total reward: 77.0 (77 timesteps)\n",
      "Episode 175 finished. Total reward: 30.0 (30 timesteps)\n",
      "Episode 180 finished. Total reward: 74.0 (74 timesteps)\n",
      "Updating the policy...\n",
      "Updating finished!\n",
      "Episode 185 finished. Total reward: 66.0 (66 timesteps)\n",
      "Episode 190 finished. Total reward: 100.0 (100 timesteps)\n",
      "Episode 195 finished. Total reward: 25.0 (25 timesteps)\n",
      "Episode 200 finished. Total reward: 72.0 (72 timesteps)\n",
      "Episode 205 finished. Total reward: 100.0 (100 timesteps)\n",
      "Episode 210 finished. Total reward: 17.0 (17 timesteps)\n",
      "Updating the policy...\n",
      "Updating finished!\n",
      "Episode 215 finished. Total reward: 29.0 (29 timesteps)\n",
      "Episode 220 finished. Total reward: 70.0 (70 timesteps)\n",
      "Episode 225 finished. Total reward: 91.0 (91 timesteps)\n",
      "Episode 230 finished. Total reward: 72.0 (72 timesteps)\n",
      "Episode 235 finished. Total reward: 30.0 (30 timesteps)\n",
      "Updating the policy...\n",
      "Updating finished!\n",
      "Episode 240 finished. Total reward: 73.0 (73 timesteps)\n",
      "Episode 245 finished. Total reward: 96.0 (96 timesteps)\n",
      "Episode 250 finished. Total reward: 100.0 (100 timesteps)\n",
      "Episode 255 finished. Total reward: 66.0 (66 timesteps)\n",
      "Episode 260 finished. Total reward: 100.0 (100 timesteps)\n",
      "Updating the policy...\n",
      "Updating finished!\n",
      "Episode 265 finished. Total reward: 100.0 (100 timesteps)\n",
      "Episode 270 finished. Total reward: 100.0 (100 timesteps)\n",
      "Episode 275 finished. Total reward: 100.0 (100 timesteps)\n",
      "Episode 280 finished. Total reward: 100.0 (100 timesteps)\n",
      "Updating the policy...\n",
      "Updating finished!\n",
      "Episode 285 finished. Total reward: 100.0 (100 timesteps)\n",
      "Episode 290 finished. Total reward: 100.0 (100 timesteps)\n",
      "Episode 295 finished. Total reward: 100.0 (100 timesteps)\n",
      "Episode 300 finished. Total reward: 100.0 (100 timesteps)\n",
      "Updating the policy...\n",
      "Updating finished!\n",
      "Episode 305 finished. Total reward: 100.0 (100 timesteps)\n",
      "Episode 310 finished. Total reward: 51.0 (51 timesteps)\n",
      "Episode 315 finished. Total reward: 95.0 (95 timesteps)\n",
      "Episode 320 finished. Total reward: 90.0 (90 timesteps)\n",
      "Updating the policy...\n",
      "Updating finished!\n",
      "Episode 325 finished. Total reward: 100.0 (100 timesteps)\n",
      "Episode 330 finished. Total reward: 100.0 (100 timesteps)\n",
      "Episode 335 finished. Total reward: 68.0 (68 timesteps)\n",
      "Episode 340 finished. Total reward: 100.0 (100 timesteps)\n",
      "Episode 345 finished. Total reward: 100.0 (100 timesteps)\n",
      "Updating the policy...\n",
      "Updating finished!\n",
      "Episode 350 finished. Total reward: 100.0 (100 timesteps)\n",
      "Episode 355 finished. Total reward: 100.0 (100 timesteps)\n",
      "Episode 360 finished. Total reward: 100.0 (100 timesteps)\n",
      "Episode 365 finished. Total reward: 100.0 (100 timesteps)\n",
      "Updating the policy...\n",
      "Updating finished!\n",
      "Episode 370 finished. Total reward: 66.0 (66 timesteps)\n",
      "Episode 375 finished. Total reward: 100.0 (100 timesteps)\n",
      "Episode 380 finished. Total reward: 99.0 (99 timesteps)\n",
      "Episode 385 finished. Total reward: 100.0 (100 timesteps)\n",
      "Updating the policy...\n",
      "Updating finished!\n",
      "Episode 390 finished. Total reward: 100.0 (100 timesteps)\n",
      "Episode 395 finished. Total reward: 100.0 (100 timesteps)\n",
      "Episode 400 finished. Total reward: 93.0 (93 timesteps)\n",
      "Episode 405 finished. Total reward: 100.0 (100 timesteps)\n",
      "Updating the policy...\n",
      "Updating finished!\n",
      "Episode 410 finished. Total reward: 100.0 (100 timesteps)\n",
      "Episode 415 finished. Total reward: 100.0 (100 timesteps)\n",
      "Episode 420 finished. Total reward: 100.0 (100 timesteps)\n",
      "Episode 425 finished. Total reward: 100.0 (100 timesteps)\n",
      "Updating the policy...\n",
      "Updating finished!\n",
      "Episode 430 finished. Total reward: 100.0 (100 timesteps)\n",
      "Episode 435 finished. Total reward: 100.0 (100 timesteps)\n",
      "Episode 440 finished. Total reward: 100.0 (100 timesteps)\n",
      "Episode 445 finished. Total reward: 100.0 (100 timesteps)\n",
      "Updating the policy...\n",
      "Updating finished!\n",
      "Episode 450 finished. Total reward: 100.0 (100 timesteps)\n",
      "Episode 455 finished. Total reward: 100.0 (100 timesteps)\n",
      "Episode 460 finished. Total reward: 100.0 (100 timesteps)\n",
      "Episode 465 finished. Total reward: 100.0 (100 timesteps)\n",
      "Updating the policy...\n",
      "Updating finished!\n",
      "Episode 470 finished. Total reward: 100.0 (100 timesteps)\n",
      "Episode 475 finished. Total reward: 100.0 (100 timesteps)\n",
      "Episode 480 finished. Total reward: 100.0 (100 timesteps)\n",
      "Episode 485 finished. Total reward: 100.0 (100 timesteps)\n",
      "Updating the policy...\n",
      "Updating finished!\n",
      "Episode 490 finished. Total reward: 100.0 (100 timesteps)\n",
      "Episode 495 finished. Total reward: 100.0 (100 timesteps)\n",
      "Episode 500 finished. Total reward: 100.0 (100 timesteps)\n",
      "Model saved to /notebooks/rl2024/ex1/results/model/CartPole-v1-model1_params.pt\n",
      "------Training finished.------\n",
      "Numpy/Torch/Random Seed:  14\n",
      "Configuration Settings: {'exp_name': 'ex1', 'seed': 14, 'env_name': 'CartPole-v1', 'model_name': 'CartPole-v1-model2', 'max_episode_steps': 100, 'train_episodes': 500, 'batch_size': 64, 'min_update_samples': 2000, 'testing': False, 'model_path': 'default', 'save_video': True, 'save_model': True, 'save_logging': True, 'silent': False, 'use_wandb': True, 'run_suffix': 0}\n",
      "Training device: cpu\n",
      "Observation space dimensions: 4\n",
      "Action space dimensions: 2\n",
      "\n",
      "Episode 0 finished. Total reward: 14.0 (14 timesteps)\n",
      "Episode 5 finished. Total reward: 19.0 (19 timesteps)\n",
      "Episode 10 finished. Total reward: 43.0 (43 timesteps)\n",
      "Episode 15 finished. Total reward: 12.0 (12 timesteps)\n",
      "Episode 20 finished. Total reward: 17.0 (17 timesteps)\n",
      "Episode 25 finished. Total reward: 22.0 (22 timesteps)\n",
      "Episode 30 finished. Total reward: 12.0 (12 timesteps)\n",
      "Episode 35 finished. Total reward: 43.0 (43 timesteps)\n",
      "Episode 40 finished. Total reward: 13.0 (13 timesteps)\n",
      "Episode 45 finished. Total reward: 21.0 (21 timesteps)\n",
      "Episode 50 finished. Total reward: 11.0 (11 timesteps)\n",
      "Episode 55 finished. Total reward: 29.0 (29 timesteps)\n",
      "Episode 60 finished. Total reward: 15.0 (15 timesteps)\n",
      "Episode 65 finished. Total reward: 19.0 (19 timesteps)\n",
      "Episode 70 finished. Total reward: 15.0 (15 timesteps)\n",
      "Episode 75 finished. Total reward: 16.0 (16 timesteps)\n",
      "Episode 80 finished. Total reward: 61.0 (61 timesteps)\n",
      "Episode 85 finished. Total reward: 54.0 (54 timesteps)\n",
      "Updating the policy...\n",
      "Updating finished!\n",
      "Episode 90 finished. Total reward: 24.0 (24 timesteps)\n",
      "Episode 95 finished. Total reward: 20.0 (20 timesteps)\n",
      "Episode 100 finished. Total reward: 42.0 (42 timesteps)\n",
      "Episode 105 finished. Total reward: 33.0 (33 timesteps)\n",
      "Episode 110 finished. Total reward: 15.0 (15 timesteps)\n",
      "Episode 115 finished. Total reward: 37.0 (37 timesteps)\n",
      "Episode 120 finished. Total reward: 16.0 (16 timesteps)\n",
      "Episode 125 finished. Total reward: 34.0 (34 timesteps)\n",
      "Episode 130 finished. Total reward: 26.0 (26 timesteps)\n",
      "Episode 135 finished. Total reward: 9.0 (9 timesteps)\n",
      "Episode 140 finished. Total reward: 35.0 (35 timesteps)\n",
      "Episode 145 finished. Total reward: 24.0 (24 timesteps)\n",
      "Episode 150 finished. Total reward: 42.0 (42 timesteps)\n",
      "Episode 155 finished. Total reward: 12.0 (12 timesteps)\n",
      "Episode 160 finished. Total reward: 39.0 (39 timesteps)\n",
      "Updating the policy...\n",
      "Updating finished!\n",
      "Episode 165 finished. Total reward: 51.0 (51 timesteps)\n",
      "Episode 170 finished. Total reward: 68.0 (68 timesteps)\n",
      "Episode 175 finished. Total reward: 24.0 (24 timesteps)\n",
      "Episode 180 finished. Total reward: 100.0 (100 timesteps)\n",
      "Episode 185 finished. Total reward: 34.0 (34 timesteps)\n",
      "Episode 190 finished. Total reward: 13.0 (13 timesteps)\n",
      "Episode 195 finished. Total reward: 41.0 (41 timesteps)\n",
      "Episode 200 finished. Total reward: 36.0 (36 timesteps)\n",
      "Episode 205 finished. Total reward: 31.0 (31 timesteps)\n",
      "Episode 210 finished. Total reward: 16.0 (16 timesteps)\n",
      "Updating the policy...\n",
      "Updating finished!\n",
      "Episode 215 finished. Total reward: 74.0 (74 timesteps)\n",
      "Episode 220 finished. Total reward: 43.0 (43 timesteps)\n",
      "Episode 225 finished. Total reward: 100.0 (100 timesteps)\n",
      "Episode 230 finished. Total reward: 77.0 (77 timesteps)\n",
      "Episode 235 finished. Total reward: 94.0 (94 timesteps)\n",
      "Episode 240 finished. Total reward: 13.0 (13 timesteps)\n",
      "Updating the policy...\n",
      "Updating finished!\n",
      "Episode 245 finished. Total reward: 100.0 (100 timesteps)\n",
      "Episode 250 finished. Total reward: 23.0 (23 timesteps)\n",
      "Episode 255 finished. Total reward: 32.0 (32 timesteps)\n",
      "Episode 260 finished. Total reward: 100.0 (100 timesteps)\n",
      "Updating the policy...\n",
      "Updating finished!\n",
      "Episode 265 finished. Total reward: 100.0 (100 timesteps)\n",
      "Episode 270 finished. Total reward: 58.0 (58 timesteps)\n",
      "Episode 275 finished. Total reward: 96.0 (96 timesteps)\n",
      "Episode 280 finished. Total reward: 99.0 (99 timesteps)\n",
      "Episode 285 finished. Total reward: 100.0 (100 timesteps)\n",
      "Episode 290 finished. Total reward: 100.0 (100 timesteps)\n",
      "Updating the policy...\n",
      "Updating finished!\n",
      "Episode 295 finished. Total reward: 100.0 (100 timesteps)\n",
      "Episode 300 finished. Total reward: 100.0 (100 timesteps)\n",
      "Episode 305 finished. Total reward: 100.0 (100 timesteps)\n",
      "Episode 310 finished. Total reward: 100.0 (100 timesteps)\n",
      "Updating the policy...\n",
      "Updating finished!\n",
      "Episode 315 finished. Total reward: 100.0 (100 timesteps)\n",
      "Episode 320 finished. Total reward: 100.0 (100 timesteps)\n",
      "Episode 325 finished. Total reward: 100.0 (100 timesteps)\n",
      "Episode 330 finished. Total reward: 100.0 (100 timesteps)\n",
      "Updating the policy...\n",
      "Updating finished!\n",
      "Episode 335 finished. Total reward: 100.0 (100 timesteps)\n",
      "Episode 340 finished. Total reward: 100.0 (100 timesteps)\n",
      "Episode 345 finished. Total reward: 100.0 (100 timesteps)\n",
      "Episode 350 finished. Total reward: 100.0 (100 timesteps)\n",
      "Updating the policy...\n",
      "Updating finished!\n",
      "Episode 355 finished. Total reward: 100.0 (100 timesteps)\n",
      "Episode 360 finished. Total reward: 100.0 (100 timesteps)\n",
      "Episode 365 finished. Total reward: 100.0 (100 timesteps)\n",
      "Episode 370 finished. Total reward: 100.0 (100 timesteps)\n",
      "Episode 375 finished. Total reward: 100.0 (100 timesteps)\n",
      "Updating the policy...\n",
      "Updating finished!\n",
      "Episode 380 finished. Total reward: 100.0 (100 timesteps)\n",
      "Episode 385 finished. Total reward: 99.0 (99 timesteps)\n",
      "Episode 390 finished. Total reward: 100.0 (100 timesteps)\n",
      "Episode 395 finished. Total reward: 100.0 (100 timesteps)\n",
      "Updating the policy...\n",
      "Updating finished!\n",
      "Episode 400 finished. Total reward: 100.0 (100 timesteps)\n",
      "Episode 405 finished. Total reward: 100.0 (100 timesteps)\n",
      "Episode 410 finished. Total reward: 100.0 (100 timesteps)\n",
      "Episode 415 finished. Total reward: 100.0 (100 timesteps)\n",
      "Updating the policy...\n",
      "Updating finished!\n",
      "Episode 420 finished. Total reward: 100.0 (100 timesteps)\n",
      "Episode 425 finished. Total reward: 100.0 (100 timesteps)\n",
      "Episode 430 finished. Total reward: 100.0 (100 timesteps)\n",
      "Episode 435 finished. Total reward: 100.0 (100 timesteps)\n",
      "Updating the policy...\n",
      "Updating finished!\n",
      "Episode 440 finished. Total reward: 100.0 (100 timesteps)\n",
      "Episode 445 finished. Total reward: 28.0 (28 timesteps)\n",
      "Episode 450 finished. Total reward: 100.0 (100 timesteps)\n",
      "Episode 455 finished. Total reward: 100.0 (100 timesteps)\n",
      "Updating the policy...\n",
      "Updating finished!\n",
      "Episode 460 finished. Total reward: 100.0 (100 timesteps)\n",
      "Episode 465 finished. Total reward: 100.0 (100 timesteps)\n",
      "Episode 470 finished. Total reward: 100.0 (100 timesteps)\n",
      "Episode 475 finished. Total reward: 100.0 (100 timesteps)\n",
      "Updating the policy...\n",
      "Updating finished!\n",
      "Episode 480 finished. Total reward: 100.0 (100 timesteps)\n",
      "Episode 485 finished. Total reward: 100.0 (100 timesteps)\n",
      "Episode 490 finished. Total reward: 100.0 (100 timesteps)\n",
      "Episode 495 finished. Total reward: 100.0 (100 timesteps)\n",
      "Updating the policy...\n",
      "Updating finished!\n",
      "Episode 500 finished. Total reward: 100.0 (100 timesteps)\n",
      "Model saved to /notebooks/rl2024/ex1/results/model/CartPole-v1-model2_params.pt\n",
      "------Training finished.------\n",
      "Numpy/Torch/Random Seed:  69\n",
      "Configuration Settings: {'exp_name': 'ex1', 'seed': 69, 'env_name': 'CartPole-v1', 'model_name': 'CartPole-v1-model3', 'max_episode_steps': 100, 'train_episodes': 500, 'batch_size': 64, 'min_update_samples': 2000, 'testing': False, 'model_path': 'default', 'save_video': True, 'save_model': True, 'save_logging': True, 'silent': False, 'use_wandb': True, 'run_suffix': 0}\n",
      "Training device: cpu\n",
      "Observation space dimensions: 4\n",
      "Action space dimensions: 2\n",
      "\n",
      "Episode 0 finished. Total reward: 24.0 (24 timesteps)\n",
      "Episode 5 finished. Total reward: 10.0 (10 timesteps)\n",
      "Episode 10 finished. Total reward: 14.0 (14 timesteps)\n",
      "Episode 15 finished. Total reward: 57.0 (57 timesteps)\n",
      "Episode 20 finished. Total reward: 14.0 (14 timesteps)\n",
      "Episode 25 finished. Total reward: 24.0 (24 timesteps)\n",
      "Episode 30 finished. Total reward: 26.0 (26 timesteps)\n",
      "Episode 35 finished. Total reward: 23.0 (23 timesteps)\n",
      "Episode 40 finished. Total reward: 9.0 (9 timesteps)\n",
      "Episode 45 finished. Total reward: 16.0 (16 timesteps)\n",
      "Episode 50 finished. Total reward: 10.0 (10 timesteps)\n",
      "Episode 55 finished. Total reward: 30.0 (30 timesteps)\n",
      "Episode 60 finished. Total reward: 17.0 (17 timesteps)\n",
      "Episode 65 finished. Total reward: 19.0 (19 timesteps)\n",
      "Episode 70 finished. Total reward: 25.0 (25 timesteps)\n",
      "Episode 75 finished. Total reward: 49.0 (49 timesteps)\n",
      "Episode 80 finished. Total reward: 19.0 (19 timesteps)\n",
      "Episode 85 finished. Total reward: 35.0 (35 timesteps)\n",
      "Episode 90 finished. Total reward: 22.0 (22 timesteps)\n",
      "Updating the policy...\n",
      "Updating finished!\n",
      "Episode 95 finished. Total reward: 14.0 (14 timesteps)\n",
      "Episode 100 finished. Total reward: 17.0 (17 timesteps)\n",
      "Episode 105 finished. Total reward: 78.0 (78 timesteps)\n",
      "Episode 110 finished. Total reward: 13.0 (13 timesteps)\n",
      "Episode 115 finished. Total reward: 13.0 (13 timesteps)\n",
      "Episode 120 finished. Total reward: 35.0 (35 timesteps)\n",
      "Episode 125 finished. Total reward: 13.0 (13 timesteps)\n",
      "Episode 130 finished. Total reward: 36.0 (36 timesteps)\n",
      "Episode 135 finished. Total reward: 45.0 (45 timesteps)\n",
      "Episode 140 finished. Total reward: 100.0 (100 timesteps)\n",
      "Episode 145 finished. Total reward: 67.0 (67 timesteps)\n",
      "Episode 150 finished. Total reward: 12.0 (12 timesteps)\n",
      "Episode 155 finished. Total reward: 27.0 (27 timesteps)\n",
      "Episode 160 finished. Total reward: 23.0 (23 timesteps)\n",
      "Updating the policy...\n",
      "Updating finished!\n",
      "Episode 165 finished. Total reward: 13.0 (13 timesteps)\n",
      "Episode 170 finished. Total reward: 14.0 (14 timesteps)\n",
      "Episode 175 finished. Total reward: 67.0 (67 timesteps)\n",
      "Episode 180 finished. Total reward: 19.0 (19 timesteps)\n",
      "Episode 185 finished. Total reward: 27.0 (27 timesteps)\n",
      "Episode 190 finished. Total reward: 17.0 (17 timesteps)\n",
      "Episode 195 finished. Total reward: 44.0 (44 timesteps)\n",
      "Episode 200 finished. Total reward: 18.0 (18 timesteps)\n",
      "Episode 205 finished. Total reward: 37.0 (37 timesteps)\n",
      "Updating the policy...\n",
      "Updating finished!\n",
      "Episode 210 finished. Total reward: 18.0 (18 timesteps)\n",
      "Episode 215 finished. Total reward: 100.0 (100 timesteps)\n",
      "Episode 220 finished. Total reward: 76.0 (76 timesteps)\n",
      "Episode 225 finished. Total reward: 29.0 (29 timesteps)\n",
      "Episode 230 finished. Total reward: 100.0 (100 timesteps)\n",
      "Updating the policy...\n",
      "Updating finished!\n",
      "Episode 235 finished. Total reward: 86.0 (86 timesteps)\n",
      "Episode 240 finished. Total reward: 100.0 (100 timesteps)\n",
      "Episode 245 finished. Total reward: 18.0 (18 timesteps)\n",
      "Episode 250 finished. Total reward: 100.0 (100 timesteps)\n",
      "Episode 255 finished. Total reward: 100.0 (100 timesteps)\n",
      "Updating the policy...\n",
      "Updating finished!\n",
      "Episode 260 finished. Total reward: 100.0 (100 timesteps)\n",
      "Episode 265 finished. Total reward: 54.0 (54 timesteps)\n",
      "Episode 270 finished. Total reward: 60.0 (60 timesteps)\n",
      "Episode 275 finished. Total reward: 100.0 (100 timesteps)\n",
      "Updating the policy...\n",
      "Updating finished!\n",
      "Episode 280 finished. Total reward: 100.0 (100 timesteps)\n",
      "Episode 285 finished. Total reward: 100.0 (100 timesteps)\n",
      "Episode 290 finished. Total reward: 100.0 (100 timesteps)\n",
      "Episode 295 finished. Total reward: 100.0 (100 timesteps)\n",
      "Episode 300 finished. Total reward: 100.0 (100 timesteps)\n",
      "Updating the policy...\n",
      "Updating finished!\n",
      "Episode 305 finished. Total reward: 100.0 (100 timesteps)\n",
      "Episode 310 finished. Total reward: 25.0 (25 timesteps)\n",
      "Episode 315 finished. Total reward: 100.0 (100 timesteps)\n",
      "Episode 320 finished. Total reward: 100.0 (100 timesteps)\n",
      "Updating the policy...\n",
      "Updating finished!\n",
      "Episode 325 finished. Total reward: 100.0 (100 timesteps)\n",
      "Episode 330 finished. Total reward: 100.0 (100 timesteps)\n",
      "Episode 335 finished. Total reward: 100.0 (100 timesteps)\n",
      "Episode 340 finished. Total reward: 100.0 (100 timesteps)\n",
      "Updating the policy...\n",
      "Updating finished!\n",
      "Episode 345 finished. Total reward: 100.0 (100 timesteps)\n",
      "Episode 350 finished. Total reward: 94.0 (94 timesteps)\n",
      "Episode 355 finished. Total reward: 100.0 (100 timesteps)\n",
      "Episode 360 finished. Total reward: 82.0 (82 timesteps)\n",
      "Updating the policy...\n",
      "Updating finished!\n",
      "Episode 365 finished. Total reward: 100.0 (100 timesteps)\n",
      "Episode 370 finished. Total reward: 100.0 (100 timesteps)\n",
      "Episode 375 finished. Total reward: 100.0 (100 timesteps)\n",
      "Episode 380 finished. Total reward: 87.0 (87 timesteps)\n",
      "Updating the policy...\n",
      "Updating finished!\n",
      "Episode 385 finished. Total reward: 100.0 (100 timesteps)\n",
      "Episode 390 finished. Total reward: 100.0 (100 timesteps)\n",
      "Episode 395 finished. Total reward: 100.0 (100 timesteps)\n",
      "Episode 400 finished. Total reward: 100.0 (100 timesteps)\n",
      "Updating the policy...\n",
      "Updating finished!\n",
      "Episode 405 finished. Total reward: 100.0 (100 timesteps)\n",
      "Episode 410 finished. Total reward: 72.0 (72 timesteps)\n",
      "Episode 415 finished. Total reward: 98.0 (98 timesteps)\n",
      "Episode 420 finished. Total reward: 83.0 (83 timesteps)\n",
      "Updating the policy...\n",
      "Updating finished!\n",
      "Episode 425 finished. Total reward: 100.0 (100 timesteps)\n",
      "Episode 430 finished. Total reward: 100.0 (100 timesteps)\n",
      "Episode 435 finished. Total reward: 100.0 (100 timesteps)\n",
      "Episode 440 finished. Total reward: 100.0 (100 timesteps)\n",
      "Updating the policy...\n",
      "Updating finished!\n",
      "Episode 445 finished. Total reward: 100.0 (100 timesteps)\n",
      "Episode 450 finished. Total reward: 100.0 (100 timesteps)\n",
      "Episode 455 finished. Total reward: 100.0 (100 timesteps)\n",
      "Episode 460 finished. Total reward: 100.0 (100 timesteps)\n",
      "Episode 465 finished. Total reward: 100.0 (100 timesteps)\n",
      "Updating the policy...\n",
      "Updating finished!\n",
      "Episode 470 finished. Total reward: 100.0 (100 timesteps)\n",
      "Episode 475 finished. Total reward: 100.0 (100 timesteps)\n",
      "Episode 480 finished. Total reward: 100.0 (100 timesteps)\n",
      "Episode 485 finished. Total reward: 100.0 (100 timesteps)\n",
      "Updating the policy...\n",
      "Updating finished!\n",
      "Episode 490 finished. Total reward: 100.0 (100 timesteps)\n",
      "Episode 495 finished. Total reward: 100.0 (100 timesteps)\n",
      "Episode 500 finished. Total reward: 100.0 (100 timesteps)\n",
      "Model saved to /notebooks/rl2024/ex1/results/model/CartPole-v1-model3_params.pt\n",
      "------Training finished.------\n",
      "Numpy/Torch/Random Seed:  4\n",
      "Configuration Settings: {'exp_name': 'ex1', 'seed': 4, 'env_name': 'CartPole-v1', 'model_name': 'CartPole-v1-model4', 'max_episode_steps': 100, 'train_episodes': 500, 'batch_size': 64, 'min_update_samples': 2000, 'testing': False, 'model_path': 'default', 'save_video': True, 'save_model': True, 'save_logging': True, 'silent': False, 'use_wandb': True, 'run_suffix': 0}\n",
      "Training device: cpu\n",
      "Observation space dimensions: 4\n",
      "Action space dimensions: 2\n",
      "\n",
      "Episode 0 finished. Total reward: 18.0 (18 timesteps)\n",
      "Episode 5 finished. Total reward: 14.0 (14 timesteps)\n",
      "Episode 10 finished. Total reward: 20.0 (20 timesteps)\n",
      "Episode 15 finished. Total reward: 44.0 (44 timesteps)\n",
      "Episode 20 finished. Total reward: 25.0 (25 timesteps)\n",
      "Episode 25 finished. Total reward: 20.0 (20 timesteps)\n",
      "Episode 30 finished. Total reward: 13.0 (13 timesteps)\n",
      "Episode 35 finished. Total reward: 16.0 (16 timesteps)\n",
      "Episode 40 finished. Total reward: 19.0 (19 timesteps)\n",
      "Episode 45 finished. Total reward: 21.0 (21 timesteps)\n",
      "Episode 50 finished. Total reward: 27.0 (27 timesteps)\n",
      "Episode 55 finished. Total reward: 11.0 (11 timesteps)\n",
      "Episode 60 finished. Total reward: 17.0 (17 timesteps)\n",
      "Episode 65 finished. Total reward: 38.0 (38 timesteps)\n",
      "Episode 70 finished. Total reward: 39.0 (39 timesteps)\n",
      "Episode 75 finished. Total reward: 19.0 (19 timesteps)\n",
      "Episode 80 finished. Total reward: 39.0 (39 timesteps)\n",
      "Updating the policy...\n",
      "Updating finished!\n",
      "Episode 85 finished. Total reward: 40.0 (40 timesteps)\n",
      "Episode 90 finished. Total reward: 46.0 (46 timesteps)\n",
      "Episode 95 finished. Total reward: 48.0 (48 timesteps)\n",
      "Episode 100 finished. Total reward: 42.0 (42 timesteps)\n",
      "Episode 105 finished. Total reward: 24.0 (24 timesteps)\n",
      "Episode 110 finished. Total reward: 11.0 (11 timesteps)\n",
      "Episode 115 finished. Total reward: 29.0 (29 timesteps)\n",
      "Episode 120 finished. Total reward: 38.0 (38 timesteps)\n",
      "Episode 125 finished. Total reward: 28.0 (28 timesteps)\n",
      "Episode 130 finished. Total reward: 48.0 (48 timesteps)\n",
      "Episode 135 finished. Total reward: 14.0 (14 timesteps)\n",
      "Episode 140 finished. Total reward: 20.0 (20 timesteps)\n",
      "Episode 145 finished. Total reward: 27.0 (27 timesteps)\n",
      "Episode 150 finished. Total reward: 13.0 (13 timesteps)\n",
      "Updating the policy...\n",
      "Updating finished!\n",
      "Episode 155 finished. Total reward: 18.0 (18 timesteps)\n",
      "Episode 160 finished. Total reward: 46.0 (46 timesteps)\n",
      "Episode 165 finished. Total reward: 22.0 (22 timesteps)\n",
      "Episode 170 finished. Total reward: 47.0 (47 timesteps)\n",
      "Episode 175 finished. Total reward: 26.0 (26 timesteps)\n",
      "Episode 180 finished. Total reward: 26.0 (26 timesteps)\n",
      "Episode 185 finished. Total reward: 61.0 (61 timesteps)\n",
      "Episode 190 finished. Total reward: 42.0 (42 timesteps)\n",
      "Episode 195 finished. Total reward: 100.0 (100 timesteps)\n",
      "Updating the policy...\n",
      "Updating finished!\n",
      "Episode 200 finished. Total reward: 18.0 (18 timesteps)\n",
      "Episode 205 finished. Total reward: 21.0 (21 timesteps)\n",
      "Episode 210 finished. Total reward: 27.0 (27 timesteps)\n",
      "Episode 215 finished. Total reward: 100.0 (100 timesteps)\n",
      "Episode 220 finished. Total reward: 53.0 (53 timesteps)\n",
      "Episode 225 finished. Total reward: 64.0 (64 timesteps)\n",
      "Episode 230 finished. Total reward: 100.0 (100 timesteps)\n",
      "Updating the policy...\n",
      "Updating finished!\n",
      "Episode 235 finished. Total reward: 100.0 (100 timesteps)\n",
      "Episode 240 finished. Total reward: 100.0 (100 timesteps)\n",
      "Episode 245 finished. Total reward: 100.0 (100 timesteps)\n",
      "Episode 250 finished. Total reward: 83.0 (83 timesteps)\n",
      "Updating the policy...\n",
      "Updating finished!\n",
      "Episode 255 finished. Total reward: 100.0 (100 timesteps)\n",
      "Episode 260 finished. Total reward: 100.0 (100 timesteps)\n",
      "Episode 265 finished. Total reward: 53.0 (53 timesteps)\n",
      "Episode 270 finished. Total reward: 95.0 (95 timesteps)\n",
      "Episode 275 finished. Total reward: 40.0 (40 timesteps)\n",
      "Updating the policy...\n",
      "Updating finished!\n",
      "Episode 280 finished. Total reward: 100.0 (100 timesteps)\n",
      "Episode 285 finished. Total reward: 100.0 (100 timesteps)\n",
      "Episode 290 finished. Total reward: 100.0 (100 timesteps)\n",
      "Episode 295 finished. Total reward: 100.0 (100 timesteps)\n",
      "Updating the policy...\n",
      "Updating finished!\n",
      "Episode 300 finished. Total reward: 100.0 (100 timesteps)\n",
      "Episode 305 finished. Total reward: 100.0 (100 timesteps)\n",
      "Episode 310 finished. Total reward: 100.0 (100 timesteps)\n",
      "Episode 315 finished. Total reward: 100.0 (100 timesteps)\n",
      "Updating the policy...\n",
      "Updating finished!\n",
      "Episode 320 finished. Total reward: 24.0 (24 timesteps)\n",
      "Episode 325 finished. Total reward: 100.0 (100 timesteps)\n",
      "Episode 330 finished. Total reward: 100.0 (100 timesteps)\n",
      "Episode 335 finished. Total reward: 100.0 (100 timesteps)\n",
      "Updating the policy...\n",
      "Updating finished!\n",
      "Episode 340 finished. Total reward: 100.0 (100 timesteps)\n",
      "Episode 345 finished. Total reward: 100.0 (100 timesteps)\n",
      "Episode 350 finished. Total reward: 100.0 (100 timesteps)\n",
      "Episode 355 finished. Total reward: 100.0 (100 timesteps)\n",
      "Updating the policy...\n",
      "Updating finished!\n",
      "Episode 360 finished. Total reward: 100.0 (100 timesteps)\n",
      "Episode 365 finished. Total reward: 100.0 (100 timesteps)\n",
      "Episode 370 finished. Total reward: 100.0 (100 timesteps)\n",
      "Episode 375 finished. Total reward: 100.0 (100 timesteps)\n",
      "Updating the policy...\n",
      "Updating finished!\n",
      "Episode 380 finished. Total reward: 100.0 (100 timesteps)\n",
      "Episode 385 finished. Total reward: 100.0 (100 timesteps)\n",
      "Episode 390 finished. Total reward: 100.0 (100 timesteps)\n",
      "Episode 395 finished. Total reward: 100.0 (100 timesteps)\n",
      "Episode 400 finished. Total reward: 100.0 (100 timesteps)\n",
      "Updating the policy...\n",
      "Updating finished!\n",
      "Episode 405 finished. Total reward: 100.0 (100 timesteps)\n",
      "Episode 410 finished. Total reward: 100.0 (100 timesteps)\n",
      "Episode 415 finished. Total reward: 100.0 (100 timesteps)\n",
      "Episode 420 finished. Total reward: 100.0 (100 timesteps)\n",
      "Updating the policy...\n",
      "Updating finished!\n",
      "Episode 425 finished. Total reward: 100.0 (100 timesteps)\n",
      "Episode 430 finished. Total reward: 100.0 (100 timesteps)\n",
      "Episode 435 finished. Total reward: 100.0 (100 timesteps)\n",
      "Episode 440 finished. Total reward: 100.0 (100 timesteps)\n",
      "Updating the policy...\n",
      "Updating finished!\n",
      "Episode 445 finished. Total reward: 100.0 (100 timesteps)\n",
      "Episode 450 finished. Total reward: 88.0 (88 timesteps)\n",
      "Episode 455 finished. Total reward: 18.0 (18 timesteps)\n",
      "Episode 460 finished. Total reward: 100.0 (100 timesteps)\n",
      "Updating the policy...\n",
      "Updating finished!\n",
      "Episode 465 finished. Total reward: 100.0 (100 timesteps)\n",
      "Episode 470 finished. Total reward: 100.0 (100 timesteps)\n",
      "Episode 475 finished. Total reward: 100.0 (100 timesteps)\n",
      "Episode 480 finished. Total reward: 100.0 (100 timesteps)\n",
      "Episode 485 finished. Total reward: 100.0 (100 timesteps)\n",
      "Updating the policy...\n",
      "Updating finished!\n",
      "Episode 490 finished. Total reward: 100.0 (100 timesteps)\n",
      "Episode 495 finished. Total reward: 100.0 (100 timesteps)\n",
      "Episode 500 finished. Total reward: 100.0 (100 timesteps)\n",
      "Model saved to /notebooks/rl2024/ex1/results/model/CartPole-v1-model4_params.pt\n",
      "------Training finished.------\n"
     ]
    }
   ],
   "source": [
    "# %%capture\n",
    "# uncomment if you want to skip the output\n",
    "\n",
    "if not skip_training:\n",
    "    model_names = [\"CartPole-v1-model0\", \"CartPole-v1-model1\", \"CartPole-v1-model2\", \"CartPole-v1-model3\", \"CartPole-v1-model4\"]\n",
    "    model_seeds = [1, 5, 14, 69, 4]\n",
    "\n",
    "    assert len(set(model_seeds)) == 5\n",
    "    '''\n",
    "    TODO: Repeat the experiment in Task 1 five times\n",
    "    '''\n",
    "    ########## Your code starts here ##########\n",
    "    for i in range(len(model_seeds)):\n",
    "        t.train(cfg_path=Path().cwd()/'cfg'/'cartpole_v1.yaml', cfg_args=dict(seed=model_seeds[i], max_episode_steps=100, model_name=model_names[i]))\n",
    "\n",
    "    ########## Your code ends here ##########\n",
    "\n"
   ]
  },
  {
   "cell_type": "markdown",
   "id": "0106a2db",
   "metadata": {},
   "source": [
    "Do not delete the cell below as it is used for grading."
   ]
  },
  {
   "cell_type": "code",
   "execution_count": 21,
   "id": "3b59f4fd",
   "metadata": {
    "deletable": false,
    "editable": false,
    "nbgrader": {
     "cell_type": "code",
     "checksum": "9b8f3f542f8ea26128cafabbdb2fc39d",
     "grade": true,
     "grade_id": "cell-410200f55bb863ed",
     "locked": true,
     "points": 10,
     "schema_version": 3,
     "solution": false,
     "task": false
    },
    "tags": []
   },
   "outputs": [
    {
     "name": "stdout",
     "output_type": "stream",
     "text": [
      "Numpy/Torch/Random Seed:  700\n",
      "Loading model from /notebooks/rl2024/ex1/results/model/CartPole-v1-model0_params.pt ...\n",
      "Testing...\n",
      "Test ep reward: 139.0 seed: 700\n",
      "Average test reward: 139.0 episode length: 139.0\n",
      "Numpy/Torch/Random Seed:  800\n",
      "Loading model from /notebooks/rl2024/ex1/results/model/CartPole-v1-model0_params.pt ...\n",
      "Testing...\n",
      "Test ep reward: 129.0 seed: 800\n",
      "Average test reward: 129.0 episode length: 129.0\n",
      "Numpy/Torch/Random Seed:  900\n",
      "Loading model from /notebooks/rl2024/ex1/results/model/CartPole-v1-model0_params.pt ...\n",
      "Testing...\n",
      "Test ep reward: 132.0 seed: 900\n",
      "Average test reward: 132.0 episode length: 132.0\n",
      "Numpy/Torch/Random Seed:  1000\n",
      "Loading model from /notebooks/rl2024/ex1/results/model/CartPole-v1-model0_params.pt ...\n",
      "Testing...\n",
      "Test ep reward: 130.0 seed: 1000\n",
      "Average test reward: 130.0 episode length: 130.0\n",
      "Numpy/Torch/Random Seed:  2000\n",
      "Loading model from /notebooks/rl2024/ex1/results/model/CartPole-v1-model0_params.pt ...\n",
      "Testing...\n",
      "Test ep reward: 123.0 seed: 2000\n",
      "Average test reward: 123.0 episode length: 123.0\n",
      "Numpy/Torch/Random Seed:  700\n",
      "Loading model from /notebooks/rl2024/ex1/results/model/CartPole-v1-model1_params.pt ...\n",
      "Testing...\n",
      "Test ep reward: 164.0 seed: 700\n",
      "Average test reward: 164.0 episode length: 164.0\n",
      "Numpy/Torch/Random Seed:  800\n",
      "Loading model from /notebooks/rl2024/ex1/results/model/CartPole-v1-model1_params.pt ...\n",
      "Testing...\n",
      "Test ep reward: 183.0 seed: 800\n",
      "Average test reward: 183.0 episode length: 183.0\n",
      "Numpy/Torch/Random Seed:  900\n",
      "Loading model from /notebooks/rl2024/ex1/results/model/CartPole-v1-model1_params.pt ...\n",
      "Testing...\n",
      "Test ep reward: 171.0 seed: 900\n",
      "Average test reward: 171.0 episode length: 171.0\n",
      "Numpy/Torch/Random Seed:  1000\n",
      "Loading model from /notebooks/rl2024/ex1/results/model/CartPole-v1-model1_params.pt ...\n",
      "Testing...\n",
      "Test ep reward: 181.0 seed: 1000\n",
      "Average test reward: 181.0 episode length: 181.0\n",
      "Numpy/Torch/Random Seed:  2000\n",
      "Loading model from /notebooks/rl2024/ex1/results/model/CartPole-v1-model1_params.pt ...\n",
      "Testing...\n",
      "Test ep reward: 189.0 seed: 2000\n",
      "Average test reward: 189.0 episode length: 189.0\n",
      "Numpy/Torch/Random Seed:  700\n",
      "Loading model from /notebooks/rl2024/ex1/results/model/CartPole-v1-model2_params.pt ...\n",
      "Testing...\n",
      "Test ep reward: 168.0 seed: 700\n",
      "Average test reward: 168.0 episode length: 168.0\n",
      "Numpy/Torch/Random Seed:  800\n",
      "Loading model from /notebooks/rl2024/ex1/results/model/CartPole-v1-model2_params.pt ...\n",
      "Testing...\n",
      "Test ep reward: 187.0 seed: 800\n",
      "Average test reward: 187.0 episode length: 187.0\n",
      "Numpy/Torch/Random Seed:  900\n",
      "Loading model from /notebooks/rl2024/ex1/results/model/CartPole-v1-model2_params.pt ...\n",
      "Testing...\n",
      "Test ep reward: 169.0 seed: 900\n",
      "Average test reward: 169.0 episode length: 169.0\n",
      "Numpy/Torch/Random Seed:  1000\n",
      "Loading model from /notebooks/rl2024/ex1/results/model/CartPole-v1-model2_params.pt ...\n",
      "Testing...\n",
      "Test ep reward: 181.0 seed: 1000\n",
      "Average test reward: 181.0 episode length: 181.0\n",
      "Numpy/Torch/Random Seed:  2000\n",
      "Loading model from /notebooks/rl2024/ex1/results/model/CartPole-v1-model2_params.pt ...\n",
      "Testing...\n",
      "Test ep reward: 209.0 seed: 2000\n",
      "Average test reward: 209.0 episode length: 209.0\n",
      "Numpy/Torch/Random Seed:  700\n",
      "Loading model from /notebooks/rl2024/ex1/results/model/CartPole-v1-model3_params.pt ...\n",
      "Testing...\n",
      "Test ep reward: 144.0 seed: 700\n",
      "Average test reward: 144.0 episode length: 144.0\n",
      "Numpy/Torch/Random Seed:  800\n",
      "Loading model from /notebooks/rl2024/ex1/results/model/CartPole-v1-model3_params.pt ...\n",
      "Testing...\n",
      "Test ep reward: 176.0 seed: 800\n",
      "Average test reward: 176.0 episode length: 176.0\n",
      "Numpy/Torch/Random Seed:  900\n",
      "Loading model from /notebooks/rl2024/ex1/results/model/CartPole-v1-model3_params.pt ...\n",
      "Testing...\n",
      "Test ep reward: 161.0 seed: 900\n",
      "Average test reward: 161.0 episode length: 161.0\n",
      "Numpy/Torch/Random Seed:  1000\n",
      "Loading model from /notebooks/rl2024/ex1/results/model/CartPole-v1-model3_params.pt ...\n",
      "Testing...\n",
      "Test ep reward: 165.0 seed: 1000\n",
      "Average test reward: 165.0 episode length: 165.0\n",
      "Numpy/Torch/Random Seed:  2000\n",
      "Loading model from /notebooks/rl2024/ex1/results/model/CartPole-v1-model3_params.pt ...\n",
      "Testing...\n",
      "Test ep reward: 241.0 seed: 2000\n",
      "Average test reward: 241.0 episode length: 241.0\n",
      "Numpy/Torch/Random Seed:  700\n",
      "Loading model from /notebooks/rl2024/ex1/results/model/CartPole-v1-model4_params.pt ...\n",
      "Testing...\n",
      "Test ep reward: 124.0 seed: 700\n",
      "Average test reward: 124.0 episode length: 124.0\n",
      "Numpy/Torch/Random Seed:  800\n",
      "Loading model from /notebooks/rl2024/ex1/results/model/CartPole-v1-model4_params.pt ...\n",
      "Testing...\n",
      "Test ep reward: 129.0 seed: 800\n",
      "Average test reward: 129.0 episode length: 129.0\n",
      "Numpy/Torch/Random Seed:  900\n",
      "Loading model from /notebooks/rl2024/ex1/results/model/CartPole-v1-model4_params.pt ...\n",
      "Testing...\n",
      "Test ep reward: 130.0 seed: 900\n",
      "Average test reward: 130.0 episode length: 130.0\n",
      "Numpy/Torch/Random Seed:  1000\n",
      "Loading model from /notebooks/rl2024/ex1/results/model/CartPole-v1-model4_params.pt ...\n",
      "Testing...\n",
      "Test ep reward: 128.0 seed: 1000\n",
      "Average test reward: 128.0 episode length: 128.0\n",
      "Numpy/Torch/Random Seed:  2000\n",
      "Loading model from /notebooks/rl2024/ex1/results/model/CartPole-v1-model4_params.pt ...\n",
      "Testing...\n",
      "Test ep reward: 138.0 seed: 2000\n",
      "Average test reward: 138.0 episode length: 138.0\n"
     ]
    }
   ],
   "source": [
    "%%capture --no-stdout\n",
    "test_seeds = [700, 800, 900, 1000, 2000]\n",
    "\n",
    "for i in range(5):\n",
    "    for seed in test_seeds:\n",
    "        assert t.test(episodes=1, cfg_path=Path().cwd()/'cfg'/'cartpole_v1.yaml', \n",
    "            cfg_args=dict(testing=True, seed=seed,save_video=False, save_logging=False, \n",
    "            save_model=False, max_episode_steps=1000, model_name=str(\"CartPole-v1-model\"+str(i)))) > 100\n",
    "\n"
   ]
  },
  {
   "cell_type": "markdown",
   "id": "95ff4274",
   "metadata": {
    "deletable": false,
    "editable": false,
    "nbgrader": {
     "cell_type": "markdown",
     "checksum": "cff59c2da67d408d14f5151d2dee157b",
     "grade": false,
     "grade_id": "cell-7b64e24c45653faa",
     "locked": true,
     "schema_version": 3,
     "solution": false,
     "task": false
    }
   },
   "source": [
    "<a id='Q2'></a>\n",
    "<div class=\" alert alert-warning\">\n",
    "    <h3><b>Student Question 2.1</b> Analysis of Training Performance (15 points) </h3> \n",
    "\n",
    "Are the behavior and performance of the trained models the same every time? Why/why not? Analyze the causes briefly.\n",
    "    \n",
    "🔝\t<a href='#TOC'><b>Table of Contents</b></a>\n",
    "</div>\n"
   ]
  },
  {
   "cell_type": "markdown",
   "id": "eee2bcdb",
   "metadata": {
    "deletable": false,
    "editable": false,
    "nbgrader": {
     "cell_type": "markdown",
     "checksum": "e182f1f667244911d5c375723b971013",
     "grade": false,
     "grade_id": "cell-7af2d94176449236",
     "locked": true,
     "schema_version": 3,
     "solution": false,
     "task": false
    }
   },
   "source": [
    "Select all the correct answers. You can select no more than 6 answers, otherwise you lose all exercise points.\n",
    "\n",
    "1. Yes, because the model has been optimized to always reach the highest possible reward regardless of random seeds or initial conditions.\n",
    "\n",
    "2. No, because the training dynamics and the evaluating dynamics are not the same\n",
    "\n",
    "3. No, because the trained model has stochastic behaviour which may perform differently in different environments\n",
    "\n",
    "4. No, the behaviour and performance are not the same, as shown by the different average rewards in previous Task. \n",
    "\n",
    "5. No, because there’s a lot of stochasticity involved in the training process\n",
    "\n",
    "6. No, because agent explores with random actions during training\n",
    "\n",
    "7. No, because policy is initially randomly initialised with random weights, gradient updates of the policy are noisy. \n",
    "\n",
    "8. No, because the environment may be stochastic: agent is randomly initialised in beginning of each episode, (transitions from one state to next one may follow a probability distribution)\n",
    "\n",
    "9. Yes, all machine learning models perform consistently after training due to the deterministic nature of their algorithms."
   ]
  },
  {
   "cell_type": "code",
   "execution_count": 22,
   "id": "24c0e6d4",
   "metadata": {
    "tags": []
   },
   "outputs": [],
   "source": [
    "sq2_1 = [8, 6, 5, 3] #Answer question 2.1 with the appropriate answer numbers"
   ]
  },
  {
   "cell_type": "code",
   "execution_count": 24,
   "id": "a4f08826",
   "metadata": {
    "deletable": false,
    "editable": false,
    "nbgrader": {
     "cell_type": "code",
     "checksum": "8984880c713f3f91b66fe44e266ed251",
     "grade": true,
     "grade_id": "cell-722a5d335b120083",
     "locked": true,
     "points": 0,
     "schema_version": 3,
     "solution": false,
     "task": false
    },
    "tags": []
   },
   "outputs": [],
   "source": [
    "assert 1 <= len(set(sq2_1)) <= 6\n",
    "assert set(sq2_1) < set(range(1, 10))"
   ]
  },
  {
   "cell_type": "markdown",
   "id": "c5011bb0",
   "metadata": {},
   "source": [
    "Do not remove the following blocks as they are used for grading"
   ]
  },
  {
   "cell_type": "code",
   "execution_count": null,
   "id": "6ea13a03",
   "metadata": {
    "deletable": false,
    "editable": false,
    "nbgrader": {
     "cell_type": "code",
     "checksum": "ecec9d4c828f9bed69a14039122d01f8",
     "grade": true,
     "grade_id": "cell-c78029cac9905a77",
     "locked": true,
     "points": 3,
     "schema_version": 3,
     "solution": false,
     "task": false
    }
   },
   "outputs": [],
   "source": []
  },
  {
   "cell_type": "code",
   "execution_count": null,
   "id": "fa2fbbce",
   "metadata": {
    "deletable": false,
    "editable": false,
    "nbgrader": {
     "cell_type": "code",
     "checksum": "ee347f3560f406aeae33d04d56afa907",
     "grade": true,
     "grade_id": "cell-9d6e251e5ab4caaa",
     "locked": true,
     "points": 3,
     "schema_version": 3,
     "solution": false,
     "task": false
    }
   },
   "outputs": [],
   "source": []
  },
  {
   "cell_type": "code",
   "execution_count": null,
   "id": "cfded39b",
   "metadata": {
    "deletable": false,
    "editable": false,
    "nbgrader": {
     "cell_type": "code",
     "checksum": "b68ba72b4beaba16e6a1a23bd6c7af06",
     "grade": true,
     "grade_id": "cell-0cc6e8153c39e73f",
     "locked": true,
     "points": 3,
     "schema_version": 3,
     "solution": false,
     "task": false
    }
   },
   "outputs": [],
   "source": []
  },
  {
   "cell_type": "code",
   "execution_count": null,
   "id": "5871d663",
   "metadata": {
    "deletable": false,
    "editable": false,
    "nbgrader": {
     "cell_type": "code",
     "checksum": "119a95a042c705feb85c5dc20e6f7143",
     "grade": true,
     "grade_id": "cell-0622d1b37ab64c5f",
     "locked": true,
     "points": 3,
     "schema_version": 3,
     "solution": false,
     "task": false
    }
   },
   "outputs": [],
   "source": []
  },
  {
   "cell_type": "code",
   "execution_count": null,
   "id": "d58c5f09",
   "metadata": {
    "deletable": false,
    "editable": false,
    "nbgrader": {
     "cell_type": "code",
     "checksum": "2482be09b178df1a0623964d5ca75e57",
     "grade": true,
     "grade_id": "cell-cf801ba86d95dc4f",
     "locked": true,
     "points": 3,
     "schema_version": 3,
     "solution": false,
     "task": false
    }
   },
   "outputs": [],
   "source": []
  },
  {
   "cell_type": "markdown",
   "id": "8b248abf",
   "metadata": {
    "deletable": false,
    "editable": false,
    "nbgrader": {
     "cell_type": "markdown",
     "checksum": "160945a6af92cd280f1ac64dfddc0e36",
     "grade": false,
     "grade_id": "cell-e0d965bc4eca7b76",
     "locked": true,
     "schema_version": 3,
     "solution": false,
     "task": false
    }
   },
   "source": [
    "<a id='Q3'></a>\n",
    "<div class=\" alert alert-warning\">\n",
    "    <h3><b>Student Question 2.2</b> Stochasticity (10 points) </h3> \n",
    "\n",
    "What are the implications of this stochasticity, when it comes to comparing reinforcement learning algorithms to each other? Please explain.\n",
    "    \n",
    "🔝\t<a href='#TOC'><b>Table of Contents</b></a>\n",
    "</div>\n"
   ]
  },
  {
   "cell_type": "markdown",
   "id": "b7b41e22",
   "metadata": {
    "deletable": false,
    "editable": false,
    "nbgrader": {
     "cell_type": "markdown",
     "checksum": "6f8d97d020366dc823856f0e1c7e3ca3",
     "grade": false,
     "grade_id": "cell-20eea1ddc122c6c4",
     "locked": true,
     "schema_version": 3,
     "solution": false,
     "task": false
    }
   },
   "source": [
    "Select the correct answer\n",
    "\n",
    "1. It is only necessary to compare the maximum rewards achieved by each algorithm to determine the best one.\n",
    "\n",
    "2. Stochasticity requires that algorithms be trained and evaluated multiple times to obtain a reliable estimate of performance, including measures of variance besides the average reward.\n",
    "\n",
    "3. Algorithms should be trained once under identical conditions to ensure a fair comparison, focusing on the consistency of the training process.\n",
    "\n",
    "4. The best approach is to evaluate algorithms based on their performance in a single, well-designed test to avoid the confounding effects of random variability.\n",
    "\n",
    "5. To effectively compare algorithms, one should calculate the median reward from multiple trials, as this is the most robust measure against outliers.\n"
   ]
  },
  {
   "cell_type": "code",
   "execution_count": null,
   "id": "ddea5e29",
   "metadata": {},
   "outputs": [],
   "source": [
    "sq2_2 = 2 #Answer question 2.2 with the appropriate answer number"
   ]
  },
  {
   "cell_type": "code",
   "execution_count": null,
   "id": "47fb2651",
   "metadata": {
    "deletable": false,
    "editable": false,
    "nbgrader": {
     "cell_type": "code",
     "checksum": "93b0daa059c5695a24ed19d7f2acdd44",
     "grade": true,
     "grade_id": "cell-f97b7298905094bd",
     "locked": true,
     "points": 0,
     "schema_version": 3,
     "solution": false,
     "task": false
    }
   },
   "outputs": [],
   "source": [
    "assert sq2_2 in range(1,6)"
   ]
  },
  {
   "cell_type": "markdown",
   "id": "82d5d136",
   "metadata": {},
   "source": [
    "The following cells are used for grading"
   ]
  },
  {
   "cell_type": "code",
   "execution_count": null,
   "id": "9307e725",
   "metadata": {
    "deletable": false,
    "editable": false,
    "nbgrader": {
     "cell_type": "code",
     "checksum": "e42ca79b6e86e066e25269ca5c72007e",
     "grade": true,
     "grade_id": "cell-270da713465619af",
     "locked": true,
     "points": 5,
     "schema_version": 3,
     "solution": false,
     "task": false
    }
   },
   "outputs": [],
   "source": []
  },
  {
   "cell_type": "code",
   "execution_count": null,
   "id": "1f38a7a5",
   "metadata": {
    "deletable": false,
    "editable": false,
    "nbgrader": {
     "cell_type": "code",
     "checksum": "c349bcb808edc0e15477780e58064484",
     "grade": true,
     "grade_id": "cell-390e4a656c3243a8",
     "locked": true,
     "points": 5,
     "schema_version": 3,
     "solution": false,
     "task": false
    }
   },
   "outputs": [],
   "source": []
  },
  {
   "cell_type": "markdown",
   "id": "842afa68",
   "metadata": {
    "deletable": false,
    "editable": false,
    "nbgrader": {
     "cell_type": "markdown",
     "checksum": "c77d78adb7ac2e8073a9ea95d4ddece4",
     "grade": false,
     "grade_id": "cell-18b846ee50e61942",
     "locked": true,
     "schema_version": 3,
     "solution": false,
     "task": false
    },
    "tags": []
   },
   "source": [
    "# Reacher <a id='3.'></a>\n",
    "\n",
    "Now we will focus on designing a reward function for a different environment, the Reacher environment, where a two-joint manipulator needs to reach a goal (see Figure 2).\n",
    "\n",
    "<figure>\n",
    "<img src=\"imgs/reacher.png\" width=\"200px\">\n",
    "<figcaption style=\"text-align: center\"> Figure 2: The Reacher environment  </figcaption>\n",
    "</figure>\n",
    "\n",
    "The Cartesian ($x$, $y$) position of the end-effector of the manipulator can be determined following the equation:\n",
    "\n",
    "$$\n",
    " x = L_1 \\sin(\\theta_0)+L_2 \\sin(\\theta_0+\\theta_1)\\\\\n",
    " y = -L_1 \\cos(\\theta_0)-L_2 \\cos(\\theta_0+\\theta_1)\n",
    "$$\n",
    "\n",
    "where $L1 = 1$, $L2 = 1$ are the lengths, and $\\theta_0$, $\\theta_1$ the joint angles of the first and second links respectively. The state (and observation) in this environment is the two element vector:\n",
    "\n",
    "$$\n",
    "o=s=\\left(\\begin{array}{c}\n",
    "\\theta_0 \\\\\n",
    "\\theta_1 \\\\\n",
    "\\end{array}\\right) \\text {, }\n",
    "$$\n",
    "\n",
    "The action space now consists of 5 \"options\"; 4 correspond rotating the first/second joint left/right, and the final one performs no motion at all (the configuration doesn’t change). The episode terminates when the agent reaches the target position, marked in red. Now, let us design a custom reward function and use it for training the RL agent."
   ]
  },
  {
   "cell_type": "markdown",
   "id": "e138b75d",
   "metadata": {
    "deletable": false,
    "editable": false,
    "nbgrader": {
     "cell_type": "markdown",
     "checksum": "ff94517d52449f9ad78ed836e8ae5056",
     "grade": false,
     "grade_id": "cell-47ba07fead317fd8",
     "locked": true,
     "schema_version": 3,
     "solution": false,
     "task": false
    }
   },
   "source": [
    "<a id='T3'></a>\n",
    "<div class=\" alert alert-warning\">\n",
    "    <h3><b>Student Task 3.</b> Reward Functions (20 points) </h3> \n",
    "\n",
    "Below two classes are shown that modify the reward function of the reacher function provided in ```reacher.py```. Edit the function ```get_reward``` _below_ (not in ```reacher.py```) in both classes. For each class, write a reward function to incentivise the agent to learn the following behaviors:\n",
    "\n",
    "Class 1) ```SpinningReacherEnv```: Keep the manipulator rotating clockwise continuously (w.r.t. angle θ_0). You can use a lower number of training episodes for this, e.g. train(cfg_args=dict(env_name='SpinningReacher-v0', train_episodes=200), overrides=['env=reacher_v1'])\n",
    "\n",
    "Class 2) ```TargetReacherEnv```: Reach the goal point located in x = [1.0,1.0] (marked in red). Use at least 500 training episodes.\n",
    "    \n",
    "Train one model for each behavior. \n",
    "\n",
    "**Hint:** Use the observation vector to get the quantities required to compute the new reward (such as the position of the manipulator). You can get the Cartesian position of the end-effector with ```self.get_cartesian_pos(state)```.\n",
    "            \n",
    "🔝\t<a href='#TOC'><b>Table of Contents</b></a>\n",
    "</div>\n"
   ]
  },
  {
   "cell_type": "code",
   "execution_count": 6,
   "id": "32bf76fe",
   "metadata": {
    "tags": []
   },
   "outputs": [],
   "source": [
    "from reacher import ReacherEnv\n",
    "from typing import Optional\n",
    "from gymnasium.envs.registration import register\n",
    "\n",
    "class SpinningReacherEnv(ReacherEnv):\n",
    "    def __init__(self, render_mode: Optional[str] = None, max_episode_steps=200):\n",
    "        super().__init__(render_mode=render_mode, max_episode_steps=max_episode_steps)\n",
    "        \n",
    "    def get_reward(self, prev_state, action, next_state):\n",
    "        '''\n",
    "        TODO: Task 3: Implement and test the first reward function\n",
    "        '''\n",
    "        ########## Your code starts here ##########\n",
    "        prev_angle = prev_state[0]\n",
    "        next_angle = next_state[0]\n",
    "        \n",
    "        delta = next_angle - prev_angle\n",
    "        \n",
    "        if delta > np.pi:\n",
    "            delta -= 2* np.pi\n",
    "        elif delta < -np.pi:\n",
    "            delta += 2 * np.pi\n",
    "            \n",
    "            \n",
    "        if abs(delta) > 0.01:\n",
    "            reward = 1\n",
    "        else:\n",
    "            reward = -1\n",
    "        \n",
    "        return reward\n",
    "        ########## Your codes end here ########## \n",
    "        \n",
    "    \n",
    "register(\"SpinningReacher-v0\",\n",
    "        entry_point=\"%s:SpinningReacherEnv\"%__name__,\n",
    "        max_episode_steps=200)\n",
    "\n",
    "class TargetReacherEnv(ReacherEnv):\n",
    "    def __init__(self, render_mode: Optional[str] = None, max_episode_steps=200):\n",
    "        super().__init__(render_mode=render_mode, max_episode_steps=max_episode_steps)\n",
    "        \n",
    "    def get_reward(self, prev_state, action, next_state):\n",
    "        '''\n",
    "        # TODO: Task 3: Implement and test the second reward function\n",
    "        '''\n",
    "        ########## Your code starts here ##########\n",
    "\n",
    "        goal = [1.0, 1.0]\n",
    "        #distance = np.linalg.norm(self.get_cartesian_pos(next_state) - self.get_cartesian_pos(prev_state))\n",
    "        \n",
    "        prev_dist = np.linalg.norm(goal - self.get_cartesian_pos(prev_state))\n",
    "        next_dist = np.linalg.norm(goal - self.get_cartesian_pos(next_state))\n",
    "        reward = prev_dist - next_dist\n",
    "        \n",
    "        if next_dist <= 0.5:\n",
    "            reward += 10\n",
    "        if next_dist > 2.0:\n",
    "            reward -= 1\n",
    "        return reward\n",
    "        ########## Your codes end here ########## \n",
    "        \n",
    "register(\"TargetReacher-v0\",\n",
    "        entry_point=\"%s:TargetReacherEnv\"%__name__,\n",
    "        max_episode_steps=200)"
   ]
  },
  {
   "cell_type": "code",
   "execution_count": 36,
   "id": "765ea45c",
   "metadata": {
    "tags": []
   },
   "outputs": [
    {
     "name": "stdout",
     "output_type": "stream",
     "text": [
      "Numpy/Torch/Random Seed:  1\n",
      "Configuration Settings: {'exp_name': 'ex1', 'seed': 1, 'env_name': 'SpinningReacher-v0', 'model_name': 'SpinningReacher-v0', 'max_episode_steps': 200, 'train_episodes': 200, 'batch_size': 64, 'min_update_samples': 2000, 'testing': False, 'model_path': 'default', 'save_video': True, 'save_model': True, 'save_logging': True, 'silent': False, 'use_wandb': True, 'run_suffix': 0}\n",
      "Training device: cpu\n",
      "Observation space dimensions: 2\n",
      "Action space dimensions: 5\n",
      "\n"
     ]
    },
    {
     "name": "stderr",
     "output_type": "stream",
     "text": [
      "/opt/software/lib/python3.10/site-packages/gymnasium/wrappers/record_video.py:87: UserWarning: \u001b[33mWARN: Overwriting existing videos at /notebooks/rl2024/ex1/results/video/SpinningReacher-v0/train folder (try specifying a different `video_folder` for the `RecordVideo` wrapper if this is not desired)\u001b[0m\n",
      "  logger.warn(\n"
     ]
    },
    {
     "name": "stdout",
     "output_type": "stream",
     "text": [
      "Episode 0 finished. Total reward: -26 (200 timesteps)\n",
      "Episode 5 finished. Total reward: -38 (200 timesteps)\n",
      "Episode 10 finished. Total reward: -34 (200 timesteps)\n",
      "Updating the policy...\n",
      "Updating finished!\n",
      "Episode 15 finished. Total reward: -1 (167 timesteps)\n",
      "Episode 20 finished. Total reward: -6 (200 timesteps)\n",
      "Updating the policy...\n",
      "Updating finished!\n",
      "Episode 25 finished. Total reward: 44 (200 timesteps)\n",
      "Episode 30 finished. Total reward: 16 (200 timesteps)\n",
      "Updating the policy...\n",
      "Updating finished!\n",
      "Episode 35 finished. Total reward: 88 (200 timesteps)\n",
      "Episode 40 finished. Total reward: 47 (115 timesteps)\n",
      "Updating the policy...\n",
      "Updating finished!\n",
      "Episode 45 finished. Total reward: 126 (200 timesteps)\n",
      "Episode 50 finished. Total reward: 84 (140 timesteps)\n",
      "Updating the policy...\n",
      "Updating finished!\n",
      "Episode 55 finished. Total reward: 128 (200 timesteps)\n",
      "Episode 60 finished. Total reward: 166 (200 timesteps)\n",
      "Updating the policy...\n",
      "Updating finished!\n",
      "Episode 65 finished. Total reward: 174 (200 timesteps)\n",
      "Episode 70 finished. Total reward: 170 (200 timesteps)\n",
      "Updating the policy...\n",
      "Updating finished!\n",
      "Episode 75 finished. Total reward: 182 (200 timesteps)\n",
      "Episode 80 finished. Total reward: 174 (200 timesteps)\n",
      "Updating the policy...\n",
      "Updating finished!\n",
      "Episode 85 finished. Total reward: 180 (200 timesteps)\n",
      "Episode 90 finished. Total reward: 180 (200 timesteps)\n",
      "Updating the policy...\n",
      "Updating finished!\n",
      "Episode 95 finished. Total reward: 198 (200 timesteps)\n",
      "Episode 100 finished. Total reward: 194 (200 timesteps)\n",
      "Updating the policy...\n",
      "Updating finished!\n",
      "Episode 105 finished. Total reward: 196 (200 timesteps)\n",
      "Episode 110 finished. Total reward: 190 (200 timesteps)\n",
      "Updating the policy...\n",
      "Updating finished!\n",
      "Episode 115 finished. Total reward: 180 (200 timesteps)\n",
      "Episode 120 finished. Total reward: 184 (200 timesteps)\n",
      "Updating the policy...\n",
      "Updating finished!\n",
      "Episode 125 finished. Total reward: 198 (200 timesteps)\n",
      "Episode 130 finished. Total reward: 200 (200 timesteps)\n",
      "Updating the policy...\n",
      "Updating finished!\n",
      "Episode 135 finished. Total reward: 194 (200 timesteps)\n",
      "Episode 140 finished. Total reward: 180 (200 timesteps)\n",
      "Updating the policy...\n",
      "Updating finished!\n",
      "Episode 145 finished. Total reward: 198 (200 timesteps)\n",
      "Episode 150 finished. Total reward: 200 (200 timesteps)\n",
      "Updating the policy...\n",
      "Updating finished!\n",
      "Episode 155 finished. Total reward: 200 (200 timesteps)\n",
      "Episode 160 finished. Total reward: 200 (200 timesteps)\n",
      "Updating the policy...\n",
      "Updating finished!\n",
      "Episode 165 finished. Total reward: 200 (200 timesteps)\n",
      "Episode 170 finished. Total reward: 196 (200 timesteps)\n",
      "Updating the policy...\n",
      "Updating finished!\n",
      "Episode 175 finished. Total reward: 200 (200 timesteps)\n",
      "Episode 180 finished. Total reward: 198 (200 timesteps)\n",
      "Updating the policy...\n",
      "Updating finished!\n",
      "Episode 185 finished. Total reward: 198 (200 timesteps)\n",
      "Episode 190 finished. Total reward: 200 (200 timesteps)\n",
      "Updating the policy...\n",
      "Updating finished!\n",
      "Episode 195 finished. Total reward: 200 (200 timesteps)\n",
      "Episode 200 finished. Total reward: 196 (200 timesteps)\n",
      "Model saved to /notebooks/rl2024/ex1/results/model/SpinningReacher-v0_params.pt\n",
      "------Training finished.------\n"
     ]
    }
   ],
   "source": [
    "if not skip_training:\n",
    "      t.train(cfg_path=Path().cwd()/'cfg'/'reacher_v1.yaml', \n",
    "      cfg_args=dict(env_name='SpinningReacher-v0',model_name='SpinningReacher-v0', train_episodes=200, seed=1)) # < 5 mins"
   ]
  },
  {
   "cell_type": "code",
   "execution_count": 37,
   "id": "2d4cb332",
   "metadata": {
    "tags": []
   },
   "outputs": [
    {
     "name": "stdout",
     "output_type": "stream",
     "text": [
      "Numpy/Torch/Random Seed:  323\n",
      "Loading model from /notebooks/rl2024/ex1/results/model/SpinningReacher-v0_params.pt ...\n",
      "Testing...\n"
     ]
    },
    {
     "name": "stderr",
     "output_type": "stream",
     "text": [
      "/opt/software/lib/python3.10/site-packages/gymnasium/wrappers/record_video.py:87: UserWarning: \u001b[33mWARN: Overwriting existing videos at /notebooks/rl2024/ex1/results/video/SpinningReacher-v0/test folder (try specifying a different `video_folder` for the `RecordVideo` wrapper if this is not desired)\u001b[0m\n",
      "  logger.warn(\n"
     ]
    },
    {
     "name": "stdout",
     "output_type": "stream",
     "text": [
      "Test ep reward: 200 seed: 185\n",
      "Test ep reward: 200 seed: 231\n",
      "Test ep reward: 200 seed: 49\n",
      "Test ep reward: 200 seed: 301\n",
      "Test ep reward: 200 seed: 943\n",
      "Test ep reward: 200 seed: 741\n",
      "Test ep reward: 200 seed: 708\n",
      "Test ep reward: 200 seed: 195\n",
      "Test ep reward: 200 seed: 564\n",
      "Test ep reward: 200 seed: 827\n",
      "Average test reward: 200.0 episode length: 200.0\n"
     ]
    }
   ],
   "source": [
    "if not skip_training:\n",
    "       t.test(episodes=10, cfg_path=Path().cwd()/'cfg'/'reacher_v1.yaml', \n",
    "       cfg_args=dict(env_name='SpinningReacher-v0',model_name='SpinningReacher-v0', testing=True,seed=None))"
   ]
  },
  {
   "cell_type": "markdown",
   "id": "383507bc",
   "metadata": {
    "deletable": false,
    "editable": false,
    "nbgrader": {
     "cell_type": "markdown",
     "checksum": "ae28a94ff0891a34fcdffc954b90cda2",
     "grade": false,
     "grade_id": "cell-06f756f42a921878",
     "locked": true,
     "schema_version": 3,
     "solution": false,
     "task": false
    }
   },
   "source": [
    "The agent acting in the environment can be seen using the following command. Change the ```path``` to pick the episode you want to visualize. Bear in mind by default video saving for training is taken every 50 episodes."
   ]
  },
  {
   "cell_type": "code",
   "execution_count": 38,
   "id": "555bc002",
   "metadata": {
    "tags": []
   },
   "outputs": [
    {
     "data": {
      "text/html": [
       "<video loop autoplay  >\n",
       " <source src=\"data:video/mp4;base64,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\" type=\"video/mp4\">\n",
       " Your browser does not support the video tag.\n",
       " </video>"
      ],
      "text/plain": [
       "<IPython.core.display.Video object>"
      ]
     },
     "metadata": {},
     "output_type": "display_data"
    }
   ],
   "source": [
    "if not skip_training:\n",
    "      video = Video(work_dir/'video'/'SpinningReacher-v0'/'test'/f'ex1-episode-0.mp4',\n",
    "      embed=True, html_attributes=\"loop autoplay\") # Set html_attributes=\"controls\" for video control\n",
    "      display(video)"
   ]
  },
  {
   "cell_type": "code",
   "execution_count": 41,
   "id": "663c258a",
   "metadata": {
    "tags": []
   },
   "outputs": [
    {
     "name": "stdout",
     "output_type": "stream",
     "text": [
      "Numpy/Torch/Random Seed:  1\n",
      "Configuration Settings: {'exp_name': 'ex1', 'seed': 1, 'env_name': 'TargetReacher-v0', 'model_name': 'TargetReacher-v0', 'max_episode_steps': 200, 'train_episodes': 500, 'batch_size': 64, 'min_update_samples': 2000, 'testing': False, 'model_path': 'default', 'save_video': True, 'save_model': True, 'save_logging': True, 'silent': False, 'use_wandb': True, 'run_suffix': 0}\n",
      "Training device: cpu\n",
      "Observation space dimensions: 2\n",
      "Action space dimensions: 5\n",
      "\n",
      "Episode 0 finished. Total reward: -187.31044373251103 (200 timesteps)\n",
      "Episode 5 finished. Total reward: -167.77281630468053 (200 timesteps)\n",
      "Episode 10 finished. Total reward: -199.9841175151543 (200 timesteps)\n",
      "Updating the policy...\n",
      "Updating finished!\n",
      "Episode 15 finished. Total reward: 23.95710358047115 (41 timesteps)\n",
      "Episode 20 finished. Total reward: -35.09986426057582 (191 timesteps)\n",
      "Updating the policy...\n",
      "Updating finished!\n",
      "Episode 25 finished. Total reward: 12.883460019689073 (46 timesteps)\n",
      "Episode 30 finished. Total reward: -34.927786597081074 (77 timesteps)\n",
      "Episode 35 finished. Total reward: -31.21314428509971 (200 timesteps)\n",
      "Updating the policy...\n",
      "Updating finished!\n",
      "Episode 40 finished. Total reward: 50.957103580471156 (47 timesteps)\n",
      "Episode 45 finished. Total reward: 87.17421689297483 (200 timesteps)\n",
      "Episode 50 finished. Total reward: -58.24521691673917 (200 timesteps)\n",
      "Episode 55 finished. Total reward: -63.072796810996834 (193 timesteps)\n",
      "Updating the policy...\n",
      "Updating finished!\n",
      "Episode 60 finished. Total reward: 19.957103580471145 (43 timesteps)\n",
      "Episode 65 finished. Total reward: 17.95710358047115 (31 timesteps)\n",
      "Episode 70 finished. Total reward: -17.10859658632828 (127 timesteps)\n",
      "Episode 75 finished. Total reward: 32.88646542134167 (31 timesteps)\n",
      "Updating the policy...\n",
      "Updating finished!\n",
      "Episode 80 finished. Total reward: 79.88691341213602 (120 timesteps)\n",
      "Episode 85 finished. Total reward: 14.957103580471149 (24 timesteps)\n",
      "Episode 90 finished. Total reward: -40.03581157063016 (160 timesteps)\n",
      "Episode 95 finished. Total reward: 14.883460019689075 (17 timesteps)\n",
      "Updating the policy...\n",
      "Updating finished!\n",
      "Episode 100 finished. Total reward: -21.054126135935967 (191 timesteps)\n",
      "Episode 105 finished. Total reward: 92.88691341213597 (102 timesteps)\n",
      "Episode 110 finished. Total reward: 13.883460019689073 (17 timesteps)\n",
      "Episode 115 finished. Total reward: -14.113086587863956 (106 timesteps)\n",
      "Episode 120 finished. Total reward: 45.072213402918926 (19 timesteps)\n",
      "Episode 125 finished. Total reward: 21.900135858062498 (23 timesteps)\n",
      "Updating the policy...\n"
     ]
    },
    {
     "name": "stderr",
     "output_type": "stream",
     "text": [
      "/opt/software/lib/python3.10/site-packages/gymnasium/wrappers/monitoring/video_recorder.py:182: UserWarning: \u001b[33mWARN: Unable to save last video! Did you call close()?\u001b[0m\n",
      "  logger.warn(\"Unable to save last video! Did you call close()?\")\n"
     ]
    },
    {
     "name": "stdout",
     "output_type": "stream",
     "text": [
      "Updating finished!\n",
      "Episode 130 finished. Total reward: 14.883460019689075 (16 timesteps)\n",
      "Episode 135 finished. Total reward: 65.95710358047116 (23 timesteps)\n",
      "Episode 140 finished. Total reward: 23.883460019689075 (38 timesteps)\n",
      "Episode 145 finished. Total reward: 12.883460019689075 (20 timesteps)\n",
      "Episode 150 finished. Total reward: 14.957103580471149 (19 timesteps)\n",
      "Episode 155 finished. Total reward: -56.1162537581245 (200 timesteps)\n",
      "Episode 160 finished. Total reward: 28.079775011474343 (105 timesteps)\n",
      "Updating the policy...\n",
      "Updating finished!\n",
      "Episode 165 finished. Total reward: 19.054977759241993 (133 timesteps)\n",
      "Episode 170 finished. Total reward: -9.035811570630129 (143 timesteps)\n",
      "Episode 175 finished. Total reward: 26.95710358047115 (17 timesteps)\n",
      "Episode 180 finished. Total reward: 33.88646542134167 (22 timesteps)\n",
      "Episode 185 finished. Total reward: -5.984135563607534 (146 timesteps)\n",
      "Episode 190 finished. Total reward: 22.023081547127028 (178 timesteps)\n",
      "Updating the policy...\n",
      "Updating finished!\n",
      "Episode 195 finished. Total reward: -47.581092514027915 (200 timesteps)\n",
      "Episode 200 finished. Total reward: 20.95710358047115 (24 timesteps)\n",
      "Episode 205 finished. Total reward: 45.883460019689075 (21 timesteps)\n",
      "Episode 210 finished. Total reward: 45.89928634831224 (100 timesteps)\n",
      "Episode 215 finished. Total reward: 26.9001358580625 (15 timesteps)\n",
      "Updating the policy...\n",
      "Updating finished!\n",
      "Episode 220 finished. Total reward: 15.883460019689075 (21 timesteps)\n",
      "Episode 225 finished. Total reward: 11.95710358047115 (20 timesteps)\n",
      "Episode 230 finished. Total reward: -24.962405075136473 (200 timesteps)\n",
      "Episode 235 finished. Total reward: 26.072213402918923 (17 timesteps)\n",
      "Episode 240 finished. Total reward: 25.95710358047115 (18 timesteps)\n",
      "Episode 245 finished. Total reward: 53.95091921986976 (51 timesteps)\n",
      "Updating the policy...\n",
      "Updating finished!\n",
      "Episode 250 finished. Total reward: 15.883460019689075 (15 timesteps)\n",
      "Episode 255 finished. Total reward: 48.90645451250193 (154 timesteps)\n",
      "Episode 260 finished. Total reward: 26.883460019689075 (17 timesteps)\n",
      "Episode 265 finished. Total reward: 16.883460019689075 (17 timesteps)\n",
      "Episode 270 finished. Total reward: 16.072213402918923 (16 timesteps)\n",
      "Episode 275 finished. Total reward: 37.89928634831223 (112 timesteps)\n",
      "Episode 280 finished. Total reward: 22.883460019689075 (20 timesteps)\n",
      "Updating the policy...\n",
      "Updating finished!\n",
      "Episode 285 finished. Total reward: 15.957103580471149 (20 timesteps)\n",
      "Episode 290 finished. Total reward: 20.900135858062505 (24 timesteps)\n",
      "Episode 295 finished. Total reward: 15.957103580471149 (16 timesteps)\n",
      "Episode 300 finished. Total reward: 37.07221340291892 (21 timesteps)\n",
      "Episode 305 finished. Total reward: 22.075898814772223 (103 timesteps)\n",
      "Episode 310 finished. Total reward: 12.883460019689078 (22 timesteps)\n",
      "Updating the policy...\n",
      "Updating finished!\n",
      "Episode 315 finished. Total reward: 36.9001358580625 (22 timesteps)\n",
      "Episode 320 finished. Total reward: 16.883460019689075 (14 timesteps)\n",
      "Episode 325 finished. Total reward: 26.95710358047115 (16 timesteps)\n",
      "Episode 330 finished. Total reward: 46.900135858062505 (19 timesteps)\n",
      "Episode 335 finished. Total reward: 25.9001358580625 (17 timesteps)\n",
      "Episode 340 finished. Total reward: 16.904250316564752 (126 timesteps)\n",
      "Episode 345 finished. Total reward: -3.1200783974830006 (128 timesteps)\n",
      "Updating the policy...\n",
      "Updating finished!\n",
      "Episode 350 finished. Total reward: 10.886043962153618 (197 timesteps)\n",
      "Episode 355 finished. Total reward: -33.196185074877015 (200 timesteps)\n",
      "Episode 360 finished. Total reward: 26.9001358580625 (36 timesteps)\n",
      "Episode 365 finished. Total reward: 15.883460019689075 (19 timesteps)\n",
      "Updating the policy...\n",
      "Updating finished!\n",
      "Episode 370 finished. Total reward: 13.883460019689075 (19 timesteps)\n",
      "Episode 375 finished. Total reward: 37.072213402918926 (17 timesteps)\n",
      "Episode 380 finished. Total reward: 22.95710358047115 (18 timesteps)\n",
      "Episode 385 finished. Total reward: 36.9001358580625 (24 timesteps)\n",
      "Episode 390 finished. Total reward: 16.883460019689075 (14 timesteps)\n",
      "Episode 395 finished. Total reward: 76.90013573942421 (23 timesteps)\n",
      "Episode 400 finished. Total reward: 15.95710358047115 (19 timesteps)\n",
      "Updating the policy...\n",
      "Updating finished!\n",
      "Episode 405 finished. Total reward: 5.90425031656476 (151 timesteps)\n",
      "Episode 410 finished. Total reward: 27.9001358580625 (25 timesteps)\n",
      "Episode 415 finished. Total reward: 97.90013573942421 (24 timesteps)\n",
      "Episode 420 finished. Total reward: 44.900135858062505 (27 timesteps)\n",
      "Episode 425 finished. Total reward: 135.89140341367172 (116 timesteps)\n",
      "Updating the policy...\n",
      "Updating finished!\n",
      "Episode 430 finished. Total reward: 57.95091921986978 (63 timesteps)\n",
      "Episode 435 finished. Total reward: 37.95710358047115 (27 timesteps)\n",
      "Episode 440 finished. Total reward: 105.90013573942423 (31 timesteps)\n",
      "Episode 445 finished. Total reward: -25.10859658632826 (143 timesteps)\n",
      "Episode 450 finished. Total reward: 35.9001358580625 (21 timesteps)\n",
      "Episode 455 finished. Total reward: 27.9001358580625 (22 timesteps)\n",
      "Episode 460 finished. Total reward: 2.87992160251701 (124 timesteps)\n",
      "Updating the policy...\n",
      "Updating finished!\n",
      "Episode 465 finished. Total reward: 165.9509192198698 (192 timesteps)\n",
      "Episode 470 finished. Total reward: 16.072213402918926 (21 timesteps)\n",
      "Episode 475 finished. Total reward: 37.072213402918926 (27 timesteps)\n",
      "Episode 480 finished. Total reward: 16.883460019689075 (15 timesteps)\n",
      "Episode 485 finished. Total reward: 31.4593947712157 (200 timesteps)\n",
      "Updating the policy...\n",
      "Updating finished!\n",
      "Episode 490 finished. Total reward: 234.37687680585253 (200 timesteps)\n",
      "Episode 495 finished. Total reward: 155.91766134494915 (86 timesteps)\n",
      "Episode 500 finished. Total reward: 57.9001358580625 (18 timesteps)\n",
      "Model saved to /notebooks/rl2024/ex1/results/model/TargetReacher-v0_params.pt\n",
      "------Training finished.------\n"
     ]
    }
   ],
   "source": [
    "if not skip_training:\n",
    "      t.train(cfg_path=Path().cwd()/'cfg'/'reacher_v1.yaml', \n",
    "      cfg_args=dict(env_name='TargetReacher-v0',model_name='TargetReacher-v0', train_episodes=500, seed=1)) # < 5 mins"
   ]
  },
  {
   "cell_type": "code",
   "execution_count": 42,
   "id": "4714194c",
   "metadata": {
    "tags": []
   },
   "outputs": [
    {
     "name": "stdout",
     "output_type": "stream",
     "text": [
      "Numpy/Torch/Random Seed:  323\n",
      "Loading model from /notebooks/rl2024/ex1/results/model/TargetReacher-v0_params.pt ...\n",
      "Testing...\n",
      "Test ep reward: 58.09153217758933 seed: 185\n",
      "Test ep reward: 57.91739563484526 seed: 231\n",
      "Test ep reward: 67.99031331503089 seed: 49\n",
      "Test ep reward: 57.98109244233843 seed: 301\n",
      "Test ep reward: 57.90912528497286 seed: 943\n",
      "Test ep reward: 57.08072958920844 seed: 741\n",
      "Test ep reward: 57.911776015463445 seed: 708\n",
      "Test ep reward: 67.00985783279563 seed: 195\n",
      "Test ep reward: 57.90274745253661 seed: 564\n",
      "Test ep reward: 47.930256692430234 seed: 827\n",
      "Average test reward: 58.772482643721105 episode length: 38.5\n"
     ]
    }
   ],
   "source": [
    "if not skip_training:\n",
    "       t.test(episodes=10, cfg_path=Path().cwd()/'cfg'/'reacher_v1.yaml', \n",
    "       cfg_args=dict(env_name='TargetReacher-v0',model_name='TargetReacher-v0', seed=None, testing=True,))"
   ]
  },
  {
   "cell_type": "code",
   "execution_count": 43,
   "id": "67152513",
   "metadata": {
    "tags": []
   },
   "outputs": [
    {
     "data": {
      "text/html": [
       "<video loop autoplay  >\n",
       " <source src=\"data:video/mp4;base64,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\" type=\"video/mp4\">\n",
       " Your browser does not support the video tag.\n",
       " </video>"
      ],
      "text/plain": [
       "<IPython.core.display.Video object>"
      ]
     },
     "metadata": {},
     "output_type": "display_data"
    }
   ],
   "source": [
    "if not skip_training:\n",
    "      video = Video(work_dir/'video'/'TargetReacher-v0'/'test'/f'ex1-episode-0.mp4',\n",
    "      embed=True, html_attributes=\"loop autoplay\") # Set html_attributes=\"controls\" for video control\n",
    "      display(video)"
   ]
  },
  {
   "cell_type": "markdown",
   "id": "947add89",
   "metadata": {
    "deletable": false,
    "editable": false,
    "nbgrader": {
     "cell_type": "markdown",
     "checksum": "24b4e1b132030de471dd3ab7d7d89a7b",
     "grade": false,
     "grade_id": "cell-8fbe6b6920b12c52",
     "locked": true,
     "schema_version": 3,
     "solution": false,
     "task": false
    }
   },
   "source": [
    "Do not delete the following cells as they are used for grading. Make sure to test that both agents work correctly for the selected set of seeds [860, 241, 73, 543, 582, 211, 524, 484, 954, 656]."
   ]
  },
  {
   "cell_type": "code",
   "execution_count": 44,
   "id": "141e44fe",
   "metadata": {
    "deletable": false,
    "editable": false,
    "nbgrader": {
     "cell_type": "code",
     "checksum": "8d262615dcd66ffad7534f4c0c2a5424",
     "grade": true,
     "grade_id": "cell-626f99384bd58109",
     "locked": true,
     "points": 10,
     "schema_version": 3,
     "solution": false,
     "task": false
    },
    "tags": []
   },
   "outputs": [],
   "source": [
    "%%capture --no-stdout\n",
    "\"TEST CELL\""
   ]
  },
  {
   "cell_type": "code",
   "execution_count": 45,
   "id": "0ee03e99",
   "metadata": {
    "deletable": false,
    "editable": false,
    "nbgrader": {
     "cell_type": "code",
     "checksum": "80c6477f2fe781715a9c816f5434d617",
     "grade": true,
     "grade_id": "cell-233242cce6bb1187",
     "locked": true,
     "points": 10,
     "schema_version": 3,
     "solution": false,
     "task": false
    },
    "tags": []
   },
   "outputs": [],
   "source": [
    "%%capture --no-stdout\n",
    "\"TEST CELL\""
   ]
  },
  {
   "cell_type": "markdown",
   "id": "c384e863",
   "metadata": {
    "deletable": false,
    "editable": false,
    "nbgrader": {
     "cell_type": "markdown",
     "checksum": "f2f484cdc7ececdfcdeb734e9133f0d8",
     "grade": false,
     "grade_id": "cell-54aa2850dfdfb7d1",
     "locked": true,
     "schema_version": 3,
     "solution": false,
     "task": false
    }
   },
   "source": [
    "<a id='T4'></a>\n",
    "<div class=\" alert alert-warning\">\n",
    "    <h3><b>Student Task 4.</b> Visualizing Behavior (10 points) </h3> \n",
    "\n",
    "Now, let us visualize the reward function for the second behavior (reaching the goal [1,1]). Plot the values of the second reward function from Task 3 and the learned best action as a function of the state (the joint positions). Use the code below as a starting point. After plotting, answer the questions below.\n",
    "            \n",
    "🔝\t<a href='#TOC'><b>Table of Contents</b></a>\n",
    "</div>\n"
   ]
  },
  {
   "cell_type": "code",
   "execution_count": 1,
   "id": "139b3387",
   "metadata": {
    "tags": []
   },
   "outputs": [],
   "source": [
    "import matplotlib.pyplot as plt\n",
    "import seaborn as sns\n",
    "import gymnasium as gym\n",
    "from agent import Agent, Policy"
   ]
  },
  {
   "cell_type": "code",
   "execution_count": 7,
   "id": "0035a7f8",
   "metadata": {
    "tags": []
   },
   "outputs": [
    {
     "name": "stdout",
     "output_type": "stream",
     "text": [
      "Loading policy from /notebooks/rl2024/ex1/results/model/TargetReacher-v0_params.pt\n"
     ]
    }
   ],
   "source": [
    "env_name = \"TargetReacher-v0\" \n",
    "resolution = 101  # Resolution of the policy/reward image\n",
    "\n",
    "# Load policy from default path to plot\n",
    "policy_dir = Path().cwd()/'results'/'model'/f'{env_name}_params.pt'\n",
    "\n",
    "sns.set()\n",
    "\n",
    "# Create a gym environment\n",
    "env = gym.make(env_name)\n",
    "\n",
    "action_space_dim = u.get_space_dim(env.action_space)\n",
    "observation_space_dim = u.get_space_dim(env.observation_space)\n",
    "policy = Policy(observation_space_dim, action_space_dim)\n",
    "\n",
    "if policy_dir:\n",
    "    policy.load_state_dict(torch.load(policy_dir))\n",
    "    print(\"Loading policy from\", policy_dir)\n",
    "else:\n",
    "    print(\"Plotting a random policy\")"
   ]
  },
  {
   "cell_type": "code",
   "execution_count": 8,
   "id": "170a06be",
   "metadata": {
    "tags": []
   },
   "outputs": [],
   "source": [
    "# Create a grid and initialize arrays to store rewards and actions\n",
    "npoints = resolution\n",
    "state_range = np.linspace(-np.pi, np.pi, npoints)\n",
    "rewards = np.zeros((npoints, npoints))\n",
    "actions = np.zeros((npoints, npoints), dtype=np.int32)\n",
    "\n",
    "# Loop through state[0] and state[1]\n",
    "for i,th1 in enumerate(state_range):\n",
    "    for j,th2 in enumerate(state_range):\n",
    "        # Create the state vector from th1, th2\n",
    "        state = np.array([th1, th2])\n",
    "\n",
    "        # Query the policy and find the most probable action\n",
    "        with torch.no_grad():\n",
    "            action_dist, _ = policy(torch.from_numpy(state).float().unsqueeze(0))\n",
    "        action_probs = action_dist.probs.numpy()\n",
    "\n",
    "        '''\n",
    "        # TODO: Task 4: \n",
    "        # 1. What's the best action, according to the policy?\n",
    "        # 2. Compute the reward given state\n",
    "        '''\n",
    "        ########## Your code starts here ##########\n",
    "        # Use the action probabilities in the action_probs vector\n",
    "        # (it's a numpy array)\n",
    "        best_a = np.argmax(action_probs)\n",
    "        reward = env.get_reward(state, best_a, state)\n",
    "        actions[i, j] = best_a\n",
    "        \n",
    "        rewards[i,j] = reward\n",
    "        ########## Your code ends here ##########\n"
   ]
  },
  {
   "cell_type": "code",
   "execution_count": 9,
   "id": "ea36aa9a",
   "metadata": {
    "tags": []
   },
   "outputs": [
    {
     "data": {
      "image/png": "[encoded data removed]",
      "text/plain": [
       "<Figure size 640x480 with 2 Axes>"
      ]
     },
     "metadata": {},
     "output_type": "display_data"
    }
   ],
   "source": [
    "# Create the reward plot\n",
    "num_ticks = 10\n",
    "tick_skip = max(1, npoints // num_ticks)\n",
    "tick_shift = 2*np.pi/npoints/2\n",
    "tick_points = np.arange(npoints)[::tick_skip] + tick_shift\n",
    "tick_labels = state_range.round(2)[::tick_skip]\n",
    "\n",
    "sns.heatmap(rewards)\n",
    "plt.xticks(tick_points, tick_labels, rotation=45)\n",
    "plt.yticks(tick_points, tick_labels, rotation=45)\n",
    "plt.xlabel(\"J2\")\n",
    "plt.ylabel(\"J1\")\n",
    "plt.title(\"Reward\")\n",
    "plt.suptitle(\"Rewards in %s\" % env_name)\n",
    "plt.show()\n"
   ]
  },
  {
   "cell_type": "code",
   "execution_count": 10,
   "id": "99f6c89a",
   "metadata": {
    "tags": []
   },
   "outputs": [
    {
     "data": {
      "image/png": "[encoded data removed]",
      "text/plain": [
       "<Figure size 640x480 with 2 Axes>"
      ]
     },
     "metadata": {},
     "output_type": "display_data"
    }
   ],
   "source": [
    "# # Create the policy plot\n",
    "cmap = sns.color_palette(\"deep\", action_space_dim)\n",
    "sns.heatmap(actions, cmap=cmap, vmin=0, vmax=action_space_dim-1)\n",
    "plt.xticks(tick_points, tick_labels, rotation=45)\n",
    "plt.yticks(tick_points, tick_labels, rotation=45)\n",
    "colorbar = plt.gca().collections[0].colorbar\n",
    "ticks = np.array(range(action_space_dim))*((action_space_dim-1)/action_space_dim)+0.5\n",
    "colorbar.set_ticks(ticks)\n",
    "if env.spec.id == \"Reacher-v1\":\n",
    "    # In Reacher, we can replace 0..4 with more readable labels\n",
    "    labels = [\"J1+\", \"J1-\", \"J2+\", \"J2-\", \"Stop\"]\n",
    "else:\n",
    "    labels = list(map(str, range(action_space_dim)))\n",
    "colorbar.set_ticklabels(labels)\n",
    "plt.xlabel(\"J2\")\n",
    "plt.ylabel(\"J1\")\n",
    "plt.title(\"Best action\")\n",
    "plt.suptitle(\"Best action in %s\" % env_name)\n",
    "plt.show()"
   ]
  },
  {
   "cell_type": "markdown",
   "id": "7c2187e8-19c3-43a3-8854-7c20a9c73f9d",
   "metadata": {
    "deletable": false,
    "editable": false,
    "nbgrader": {
     "cell_type": "markdown",
     "checksum": "8a786bb3b1a68bc06adae81775588814",
     "grade": false,
     "grade_id": "cell-29064556f36a3c80",
     "locked": true,
     "points": 10,
     "schema_version": 3,
     "solution": false,
     "task": true
    }
   },
   "source": [
    "Do not remove this cell as it is used for grading"
   ]
  },
  {
   "cell_type": "markdown",
   "id": "c45dc911",
   "metadata": {
    "deletable": false,
    "editable": false,
    "nbgrader": {
     "cell_type": "markdown",
     "checksum": "805285f759f30f2c40335586f3b3a6be",
     "grade": false,
     "grade_id": "cell-a90e3e94423fcb0c",
     "locked": true,
     "schema_version": 3,
     "solution": false,
     "task": false
    }
   },
   "source": [
    "<a id='3.2.1'></a>\n",
    "<div class=\" alert alert-warning\">\n",
    "    <h3><b>Student Question 4.1</b> Achieved Performance (5 points) </h3> \n",
    "\n",
    "Where are the highest and lowest reward achieved?\n",
    "            \n",
    "🔝\t<a href='#TOC'><b>Table of Contents</b></a>\n",
    "</div>\n"
   ]
  },
  {
   "cell_type": "markdown",
   "id": "7011e57b",
   "metadata": {
    "deletable": false,
    "nbgrader": {
     "cell_type": "markdown",
     "checksum": "0151f821d750a97b7d38442f319f371e",
     "grade": true,
     "grade_id": "cell-e19d78f23a6643a3",
     "locked": false,
     "points": 5,
     "schema_version": 3,
     "solution": true,
     "task": false
    }
   },
   "source": [
    "One instance/example:\n",
    "Highest: (-1,88, -3.14)\n",
    "Lowest: (0.0, 0.0)"
   ]
  },
  {
   "cell_type": "markdown",
   "id": "f77cbd95",
   "metadata": {
    "deletable": false,
    "editable": false,
    "nbgrader": {
     "cell_type": "markdown",
     "checksum": "71e236f9aab831df339f717afeb56013",
     "grade": false,
     "grade_id": "cell-4346eec80fe675af",
     "locked": true,
     "schema_version": 3,
     "solution": false,
     "task": false
    }
   },
   "source": [
    "<a id='Q5'></a>\n",
    "<div class=\" alert alert-warning\">\n",
    "    <h3><b>Student Question 4.2</b> Analysis of Behaviour (10 points) </h3> \n",
    "\n",
    "Did the policy learn to reach the goal from every possible state (manipulator configuration) in an optimal way (i.e. with lowest possible number of steps)? Why/why not?\n",
    "            \n",
    "🔝\t<a href='#TOC'><b>Table of Contents</b></a>\n",
    "</div>"
   ]
  },
  {
   "cell_type": "markdown",
   "id": "f5b2b7fd",
   "metadata": {
    "deletable": false,
    "editable": false,
    "nbgrader": {
     "cell_type": "markdown",
     "checksum": "94b370c7ab8e151a80925317aa768e4c",
     "grade": false,
     "grade_id": "cell-44ab862bff7d27bf",
     "locked": true,
     "schema_version": 3,
     "solution": false,
     "task": false
    }
   },
   "source": [
    "Select all the correct answers.You can select no more than 4 answers, otherwise you lose all exercise points:\n",
    "\n",
    "1. Yes, the policy efficiently learns to reach the goal from every state due to comprehensive state exploration.\n",
    "\n",
    "2. No, the policy fails to explore all states adequately because the initial and goal states are nearly constant, leading to limited exploration ability.\n",
    "\n",
    "3. Yes, the model is trained to always find the shortest path due to advanced algorithmic efficiency.\n",
    "\n",
    "4. No, because the policy often chooses longer paths for certain initial states , not exploiting shorter alternatives.\n",
    "\n",
    "5. Yes, continuous training ensures the policy adapts to find the best route from any state over time.\n",
    "\n",
    "6. No, optimal paths are not always found because the exploration phase is limited, causing repeated suboptimal actions.\n",
    "\n",
    "7. No, the policy sometimes achieves the goal optimally, but not consistently across all trials and configurations.\n",
    "\n",
    "8. Yes, the training regime guarantees that all possible configurations are optimally addressed by the final model.\n",
    "\n",
    "9. No, the policy cannot reach from all state because the policy has stochastic behavior.\n",
    "\n",
    "10. No, bacause the policy overfits to the online it collects.\n",
    "\n",
    "11. No, bacause the the reward function is not defined in an optimal way for this task."
   ]
  },
  {
   "cell_type": "code",
   "execution_count": null,
   "id": "1621dc20",
   "metadata": {},
   "outputs": [],
   "source": [
    "sq4_2 = [7, 6, 2] #Answer question 4.2 with the appropriate answer numbers"
   ]
  },
  {
   "cell_type": "code",
   "execution_count": null,
   "id": "fcc40e62",
   "metadata": {
    "deletable": false,
    "editable": false,
    "nbgrader": {
     "cell_type": "code",
     "checksum": "d036db91e2228e5f4ac16c460b609890",
     "grade": true,
     "grade_id": "cell-44c69f0bc8c72e3f",
     "locked": true,
     "points": 1,
     "schema_version": 3,
     "solution": false,
     "task": false
    }
   },
   "outputs": [],
   "source": [
    "assert 1 <= len(set(sq4_2)) <= 4\n",
    "assert set(sq4_2) < set(range(1, 12))"
   ]
  },
  {
   "cell_type": "markdown",
   "id": "3eaeb40d",
   "metadata": {
    "deletable": false,
    "editable": false,
    "nbgrader": {
     "cell_type": "markdown",
     "checksum": "b652e7d56b0faeab487f22b14f619240",
     "grade": false,
     "grade_id": "cell-c1270f97d5ec1f3d",
     "locked": true,
     "schema_version": 3,
     "solution": false,
     "task": false
    }
   },
   "source": [
    "Do not remove the following blocks as they are used for grading"
   ]
  },
  {
   "cell_type": "code",
   "execution_count": null,
   "id": "05031d7b",
   "metadata": {
    "deletable": false,
    "editable": false,
    "nbgrader": {
     "cell_type": "code",
     "checksum": "363e721a50466efc4a48b8eb31060bfc",
     "grade": true,
     "grade_id": "cell-5a73a8d6f1e62a4c",
     "locked": true,
     "points": 3,
     "schema_version": 3,
     "solution": false,
     "task": false
    }
   },
   "outputs": [],
   "source": []
  },
  {
   "cell_type": "code",
   "execution_count": null,
   "id": "75c7b426",
   "metadata": {
    "deletable": false,
    "editable": false,
    "nbgrader": {
     "cell_type": "code",
     "checksum": "7ac4e9f13a548e2d539bd454d10ee8b0",
     "grade": true,
     "grade_id": "cell-b18c9cd3dfeb8639",
     "locked": true,
     "points": 3,
     "schema_version": 3,
     "solution": false,
     "task": false
    }
   },
   "outputs": [],
   "source": []
  },
  {
   "cell_type": "code",
   "execution_count": null,
   "id": "db031f32",
   "metadata": {
    "deletable": false,
    "editable": false,
    "nbgrader": {
     "cell_type": "code",
     "checksum": "27bd6747e4d994a69c36e743a49c9e70",
     "grade": true,
     "grade_id": "cell-20401f4d0e76b565",
     "locked": true,
     "points": 3,
     "schema_version": 3,
     "solution": false,
     "task": false
    }
   },
   "outputs": [],
   "source": []
  },
  {
   "cell_type": "markdown",
   "id": "4c50da4d",
   "metadata": {},
   "source": [
    "# 4. Submitting <a id='4.'></a>\n",
    "Ensure all tasks and questions (in ```ex1.ipynb```) are answered and the relevant plots are recorded in the relevant places. Details about attaching images and figures can be found below. The relevant graphs to be included for this assignment are:\n",
    "- Task 1, CartPole ```episodesep_reward``` plot from logged csv file\n",
    "- x2 Task 4 reward plots\n",
    "\n",
    "Ensure the correct model files are saved:\n",
    "- results/model/CartPole-v1_params.pt\n",
    "- results/model/CartPole-v1-model{0-4}_params.pt\n",
    "- results/model/SpinningReacher-v0_params.pt\n",
    "- results/model/TargetReacher-v0_params.pt\n"
   ]
  },
  {
   "cell_type": "code",
   "execution_count": 22,
   "id": "27d551ec",
   "metadata": {
    "deletable": false,
    "editable": false,
    "nbgrader": {
     "cell_type": "code",
     "checksum": "ec29d723e13463965e0cd445e8d76d21",
     "grade": true,
     "grade_id": "cell-b0b285ad316b6cdf",
     "locked": true,
     "points": 0,
     "schema_version": 3,
     "solution": false,
     "task": false
    },
    "tags": []
   },
   "outputs": [],
   "source": [
    "# Make sure that skip training is set to True before submission\n",
    "assert skip_training == True"
   ]
  },
  {
   "cell_type": "markdown",
   "id": "d4c3b7e3-49a1-4ca6-8484-e9fd422271be",
   "metadata": {},
   "source": [
    "## 4.1 Feedback <a id='4.1'></a>\n",
    "\n",
    "In order to help the staff of the course as well as the forthcoming students, it would be great if you could answer to the following questions in your submission:"
   ]
  },
  {
   "cell_type": "markdown",
   "id": "29381b17-ce64-4a1c-b16c-e82ea2a0af96",
   "metadata": {},
   "source": [
    "1) How much time did you spend solving this exercise? (change the ```hrs``` variable below to a floating point number representing the number of hours taken e.g. 5.43)\n"
   ]
  },
  {
   "cell_type": "code",
   "execution_count": 19,
   "id": "cbc91b59-0048-475d-a679-8e976ba0c7b7",
   "metadata": {
    "tags": []
   },
   "outputs": [],
   "source": [
    "hrs = 6 #although i'm unsure of this"
   ]
  },
  {
   "cell_type": "markdown",
   "id": "4dbefa77-e4a4-48ec-8049-e52b40fff463",
   "metadata": {},
   "source": [
    "2) Difficulty of each task/question from 1-5 (int or float)"
   ]
  },
  {
   "cell_type": "code",
   "execution_count": null,
   "id": "35321f8a-a156-4953-ba84-689b6e53a0b8",
   "metadata": {},
   "outputs": [],
   "source": [
    "T1 = None # Student Task 1. Implementing Q-Learning (25 points)\n",
    "T2 = None # Student Task 2. Visualizing the Value Function (10 points)\n",
    "Q2_1 = None # Student Question 2.1 Analyzing the Value Function Heatmap (15 points)\n",
    "T3 = None # Student Task 3. Investigating Initial Values (10 points)\n",
    "Q3_1 = None # Student Question 3.1 Analyzing Initial Values (5 points)\n",
    "Q3_2 = None # Student Question 3.2 Exploration (15 points)\n",
    "T4 = None # Student Task 4. Using Q-Learning on the Lunar Lander Environment (5 points)\n",
    "Q4_1 = None # Student Question 4.1 Lunar Lander Performance (15 points)"
   ]
  },
  {
   "cell_type": "markdown",
   "id": "ce4983ba-5031-460d-bdb3-e7cd708ed203",
   "metadata": {},
   "source": [
    "3) How well did you understand the content of the task/question from 1-5? (int or float)\n"
   ]
  },
  {
   "cell_type": "code",
   "execution_count": null,
   "id": "6ed5d535-89b1-4852-81ef-541a0e1d6dcd",
   "metadata": {},
   "outputs": [],
   "source": [
    "T1 = None # Student Task 1. Implementing Q-Learning (25 points)\n",
    "T2 = None # Student Task 2. Visualizing the Value Function (10 points)\n",
    "Q2_1 = None # Student Question 2.1 Analyzing the Value Function Heatmap (15 points)\n",
    "T3 = None # Student Task 3. Investigating Initial Values (10 points)\n",
    "Q3_1 = None # Student Question 3.1 Analyzing Initial Values (5 points)\n",
    "Q3_2 = None # Student Question 3.2 Exploration (15 points)\n",
    "T4 = None # Student Task 4. Using Q-Learning on the Lunar Lander Environment (5 points)\n",
    "Q4_1 = None # Student Question 4.1 Lunar Lander Performance (15 points)"
   ]
  },
  {
   "cell_type": "markdown",
   "id": "f7670bd2-6bff-418a-bf25-fabf1a3e5396",
   "metadata": {},
   "source": [
    "4) General feedback. Consider questions like:\n",
    "\n",
    "    - Did the content of the lecture relate well with the assignment?\n",
    "    - To what extent did you find the material to be potentially useful for your research and studies?\n",
    "    \n",
    "And other feedback you think is worth including. Type in the box below"
   ]
  },
  {
   "cell_type": "markdown",
   "id": "e4330ed5-2f15-4580-bf05-34e9aaf0004c",
   "metadata": {
    "tags": []
   },
   "source": [
    "Please use the following section to record references.\n",
    "# References <a id='5.'></a>\n",
    "\n",
    "[1] Sutton, Richard S., and Andrew G. Barto. \"Reinforcement Learning: An Introduction (in progress).\" London, England (2017). http://incompleteideas.net/book/RLbook2018.pdf"
   ]
  }
 ],
 "metadata": {
  "kernelspec": {
   "display_name": "Python 3",
   "language": "python",
   "name": "python3"
  },
  "language_info": {
   "codemirror_mode": {
    "name": "ipython",
    "version": 3
   },
   "file_extension": ".py",
   "mimetype": "text/x-python",
   "name": "python",
   "nbconvert_exporter": "python",
   "pygments_lexer": "ipython3",
   "version": "3.10.12"
  }
 },
 "nbformat": 4,
 "nbformat_minor": 5
}
