{
 "cells": [
  {
   "cell_type": "markdown",
   "id": "53274fb5",
   "metadata": {
    "deletable": false,
    "editable": false,
    "jp-MarkdownHeadingCollapsed": true,
    "nbgrader": {
     "cell_type": "markdown",
     "checksum": "f8a4eb5b52572512594ce9f767e784ef",
     "grade": false,
     "grade_id": "cell-4b5bc7c2e51c6d03",
     "locked": true,
     "schema_version": 3,
     "solution": false,
     "task": false
    },
    "tags": []
   },
   "source": [
    "\n",
    "<div class=\"alert alert-block alert-info\">\n",
    "   <h2 align=\"center\"> <center><b> Reinforcement Learning Assignment 3 - Q Learning </b></center></h2>\n",
    "\n",
    "<br>\n",
    "<center><font size=\"3\">This notebook is a part of teaching material for ELEC-E8125</font></center>\n",
    "<center><font size=\"3\">Sep 4, 2024 - Nov 30, 2024</font></center>\n",
    "<center><font size=\"3\">Aalto University</font></center>\n",
    "</div>\n",
    "\n",
    "\n",
    "<a id='TOC'></a>\n",
    "\n",
    "<div class=\"alert alert-block alert-success\">\n",
    "    \n",
    "# Table of contents\n",
    "* <a href='#1.'> 1. Introduction </a>\n",
    "* <a href='#1.1'> 1.1 Learning Objectives </a>\n",
    "* <a href='#1.2'> 1.2 Code Structure & Files </a>\n",
    "* <a href='#2.'> 2. Cartpole </a>\n",
    "* <a href='#2.'> 3. Lunar Lander </a> \n",
    "* <a href='#4.'> 4. Submitting </a>\n",
    "* <a href='#4.1'> 4.1 Feedback </a>\n",
    "* <a href='#5.'> References</a>\n",
    "\n",
    "<a href='#T1'><b>Student Task 1.</b> Implementing Q-Learning  (25 points) </a>\\\n",
    "<a href='#T2'><b>Student Task 2.</b> Visualizing the Value Function (10 points) </a>\\\n",
    "<a href='#Q1'><b>Student Question 2.1</b> Analyzing the Value Function Heatmap (15 points) </a>\\\n",
    "<a href='#T3'><b>Student Task 3.</b> Investigating Initial Values (10 points) </a>\\\n",
    "<a href='#Q2'><b>Student Question 3.1</b> Analyzing Initial Values (5 points) </a>\\\n",
    "<a href='#Q3'><b>Student Question 3.2</b> Exploration (15 points) </a>\\\n",
    "<a href='#T4'><b>Student Task 4.</b> Using Q-Learning on the Lunar Lander Environment (5 points) </a>\\\n",
    "<a href='#Q4'><b>Student Question 4.1</b> Lunar Lander Performance (15 points) </a>\n",
    "\n",
    "**Total Points:** 100\n",
    "\n",
    "**Estimated runtime of all the cells:** 2 hour "
   ]
  },
  {
   "cell_type": "markdown",
   "id": "e845acab",
   "metadata": {
    "deletable": false,
    "editable": false,
    "nbgrader": {
     "cell_type": "markdown",
     "checksum": "b83672bf7f3be091f160f135ae78d22c",
     "grade": false,
     "grade_id": "cell-0ecccf891e2408d9",
     "locked": true,
     "schema_version": 3,
     "solution": false,
     "task": false
    },
    "tags": []
   },
   "source": [
    "# 1. Introduction <a id='1.'></a>\n",
    "\n",
    "In this exercise, you'll be applying grid-based Q-learning to the **Cartpole** and **LunarLander** environments.\n",
    "\n",
    "## 1.1 Learning Objectives: <a id='1.1'></a>\n",
    "- To understand and develop intuition about Q-learning.\n",
    "- To understand simple exploration methods like GLIE and how exploration effects learning\n",
    "\n",
    "## 1.2 Code Structure & Files <a id='1.2'></a>\n",
    "\n",
    "You don’t have to edit any other file other than ```ex3.ipynb``` to complete this exercise.\n",
    "\n",
    "```\n",
    "├───cfg                           # Config files for environments e.g. define the maximum number of steps in an episode.\n",
    "├───imgs                          # Images used in notebook\n",
    "├───results\n",
    "│   ├───CartPole-v1\n",
    "│   │   └───video                  # Videos saved\n",
    "│   │   │   logging.pkl            # Contains logged data\n",
    "│   │   │   *q_table_e.pkl         # Contains qtable data for epsilon fixed\n",
    "│   │   │   *q_table_glie.pkl      # Contains qtable data for glie\n",
    "│   │   │   *e.png                 # Contains training performance plot for epsilon fixed\n",
    "│   │   │   *glie.png              # Contains training performance plot for glie\n",
    "│   ├───LunarLander-v2\n",
    "│   │   └───video\n",
    "│   │   │   logging.pkl\n",
    "│   │   │   *q_table_e.pkl\n",
    "│   │   │   *q_table_glie.pkl\n",
    "│   │   │   *e.png                 \n",
    "│   │   │   *glie.png              \n",
    "│   ex3.ipynb                      # Main assignment file containing tasks <---------\n",
    "│   setup.py                       # Contains setup function\n",
    "│   utils.py                       # Contains useful functions \n",
    "```\n"
   ]
  },
  {
   "cell_type": "markdown",
   "id": "ff36c86f",
   "metadata": {},
   "source": [
    "## Warnings:\n",
    "\n",
    "- Don’t copy and paste cells within a notebook. This will mess up the tracking metadata and prevent autograding from working.\n",
    "- Only add new cells using the '+' button in the upper toolbar and do not split cells.\n",
    "- Be cautious about things such as copying the whole notebook to Colab to work on it. This has sometimes resulted in removing all notebook metadata, making autograding impossible."
   ]
  },
  {
   "cell_type": "markdown",
   "id": "0c999cc7",
   "metadata": {
    "deletable": false,
    "editable": false,
    "nbgrader": {
     "cell_type": "markdown",
     "checksum": "15066d1f084603d0367d637a21c41cef",
     "grade": false,
     "grade_id": "cell-c2117ccc1c4199d3",
     "locked": true,
     "schema_version": 3,
     "solution": false,
     "task": false
    },
    "tags": []
   },
   "source": [
    "# 2. Cartpole <a id='2.'></a>\n",
    "\n",
    "Recall the Cartpole environment from Exercise 1.\n"
   ]
  },
  {
   "cell_type": "markdown",
   "id": "88cfe17b",
   "metadata": {
    "deletable": false,
    "editable": false,
    "nbgrader": {
     "cell_type": "markdown",
     "checksum": "2524f28d2ba6329fe80ca41bedc61ea5",
     "grade": false,
     "grade_id": "cell-83fe844e90e20c9e",
     "locked": true,
     "schema_version": 3,
     "solution": false,
     "task": false
    },
    "tags": []
   },
   "source": [
    "<a id='T1'></a>\n",
    "<div class=\" alert alert-warning\">\n",
    "    <h3><b>Student Task 1.</b> Implementing Q-Learning  (25 points) </h3> \n",
    "\n",
    "Implement Q-learning as presented in [Sutton and Barto, 2017, Section 6.5][1] for the Cartpole environment. Once you've successfully implemented the `get_action` and `update_q_value` functions,\n",
    "you can compare the two exploration methods:\n",
    "\n",
    "1. Use a constant value of $\\epsilon = 0.1$:\n",
    "    \n",
    "- Training:\n",
    "    ```python\n",
    "    # Training with constant epsilon 0.1\n",
    "    cfg_args = dict(epsilon=0.1, save_video=False)\n",
    "    train(cfg_path=Path().cwd()/'cfg'/'cartpole_v1.yaml', cfg_args=cfg_args)\n",
    "    ```\n",
    "- Testing:\n",
    "    ```python\n",
    "    # Testing with constant epsilon 0.1\n",
    "    cfg_args=dict(epsilon=0.1, save_video=True)\n",
    "    test(cfg_path=Path().cwd()/'cfg'/'cartpole_v1.yaml', cfg_args=cfg_args)\n",
    "    ```\n",
    "- Visualization: To record and visualize the agent's performance, you could set `save_video=True` and run the following:\n",
    "\n",
    "    ```python\n",
    "    Video(Path().cwd()/'results'/'CartPole-v1'/'video'/'test'/'ex3-episode-0.mp4', embed=True, html_attributes=\"loop autoplay\")\n",
    "    ```\n",
    "\n",
    "2. Implement **GLIE** (i.e., *Greedy in the Limit with Infinite Exploration*), which reduces the value of $\\epsilon$ over time. For details on the formula, refer to **[Lecture 3]**.\n",
    "    \n",
    "- Training (Ensure you've determined the correct value for `glie_b`):  \n",
    "    ```python\n",
    "    # Training with GLIE\n",
    "    cfg_args=dict(epsilon='glie', glie_b=<insert-correct-value>, save_video=False) # insert correct value for glie_b\n",
    "    train(cfg_path=Path().cwd()/'cfg'/'cartpole_v1.yaml', cfg_args=cfg_args) # < 30 mins\n",
    "    ```\n",
    "- Testing:\n",
    " \n",
    "    ```python\n",
    "    # Testing with GLIE\n",
    "    cfg_args=dict(epsilon='glie', save_video=True)\n",
    "    test(cfg_path=Path().cwd()/'cfg'/'cartpole_v1.yaml', cfg_args=cfg_args)\n",
    "    ```\n",
    "- Visualization: To record and visualize the agent's performance, you could set `save_video=True` and run the following:\n",
    "\n",
    "    ```python\n",
    "    Video(Path().cwd()/'results'/'CartPole-v1'/'video'/'test'/'ex3-episode-0.mp4', embed=True, html_attributes=\"loop autoplay\")\n",
    "    ```\n",
    "    \n",
    "These videos will be stored in the **results** folder.\n",
    "\n",
    "**Note:** Before you proceed with the \"Training with GLIE\" method, ensure you have completed the \"Training with a constant epsilon\" steps. Since the video save path is the same, the results will be overwritten.\n",
    "\n",
    "---\n",
    "\n",
    "**Please attach the following files to your submission:**\n",
    "\n",
    "- Training performance plots:\n",
    "  - `task1_e.png`: This file represents the episode versus the smoothed episodic reward for the constant exploration rate.\n",
    "  - `task1_glie.png`: This file represents the episode versus the smoothed episodic reward for GLIE.\n",
    "\n",
    "- Q-table files:\n",
    "  - `task1_q_table_e.pkl`: Q-table for the constant exploration rate.\n",
    "  - `task1_q_table_glie.pkl`: Q-table for GLIE.\n",
    "\n",
    "Ensure all files are correctly named and included.\n",
    "\n",
    "\n",
    "<figure style=\"text-align: center\">\n",
    "<img src=\"imgs/ep_reward.png\" width=\"600px\">\n",
    "<figcaption style=\"text-align: center\"> Figure 1: The training performance plot should look similar to the one presented here when using GLIE  </figcaption>\n",
    "</figure>\n",
    "\n",
    "### References\n",
    "[1]: http://incompleteideas.net/book/RLbook2018.pdf\n",
    "[Sutton and Barto, 2017]: Sutton, Richard S., and Andrew G. Barto. \"Reinforcement Learning: An Introduction (in progress).\" London, England (2017).\n",
    "    \n",
    "🔝\t<a href='#TOC'><b>Table of Contents</b></a>\n",
    "</div>\n",
    "\n"
   ]
  },
  {
   "cell_type": "code",
   "execution_count": 1,
   "id": "4375e55b",
   "metadata": {
    "tags": []
   },
   "outputs": [],
   "source": [
    "skip_training = True  # Set this flag to True before validation and submission"
   ]
  },
  {
   "cell_type": "code",
   "execution_count": null,
   "id": "db1eacb1",
   "metadata": {
    "deletable": false,
    "editable": false,
    "nbgrader": {
     "cell_type": "code",
     "checksum": "92d6d673e50350c2b0b437bc2a2803a9",
     "grade": true,
     "grade_id": "cell-6d789f0e8b41dcd4",
     "locked": true,
     "points": 0,
     "schema_version": 3,
     "solution": false,
     "task": false
    }
   },
   "outputs": [],
   "source": []
  },
  {
   "cell_type": "code",
   "execution_count": 2,
   "id": "47d6ce86",
   "metadata": {
    "tags": []
   },
   "outputs": [],
   "source": [
    "# --- Standard Libraries ---\n",
    "from pathlib import Path\n",
    "from collections import deque\n",
    "import warnings\n",
    "import os\n",
    "\n",
    "# --- Third-party Libraries ---\n",
    "import numpy as np  # Fundamental package for scientific computing\n",
    "from IPython.display import Video  # For displaying videos in the notebook\n",
    "import seaborn as sns\n",
    "import matplotlib.pyplot as plt\n",
    "import pandas as pd\n",
    "\n",
    "# --- Custom Modules ---\n",
    "from setup import setup  # Setup functions for training\n",
    "import utils as u  # Helper functions for the notebook\n",
    "\n",
    "# --- Configurations ---\n",
    "# Set working directory to 'results'\n",
    "work_dir = Path().cwd() / 'results'\n",
    "\n",
    "# Suppress DeprecationWarnings\n",
    "warnings.filterwarnings(\"ignore\", category=DeprecationWarning)"
   ]
  },
  {
   "cell_type": "code",
   "execution_count": 3,
   "id": "b91287ed",
   "metadata": {
    "tags": []
   },
   "outputs": [],
   "source": [
    "def init_q_table(observation_space, action_dim, discr, bool_position=None, init_q=0.):\n",
    "    \"\"\"\n",
    "    Initialize a Q-table for the given observation space and actions.\n",
    "    \n",
    "    Parameters:\n",
    "    - observation_space: The state space of the environment.\n",
    "    - action_dim: The number of possible actions.\n",
    "    - discr: The number of divisions for discretization.\n",
    "    - bool_position: Indexes where the observation space has boolean values.\n",
    "    - init_q: Initial value for the Q-table.\n",
    "    \n",
    "    Returns:\n",
    "    - axis: A list of numpy arrays representing the discrete states. \n",
    "            Each array's length corresponds to either 'discr' or 2 (for boolean values).\n",
    "    - q_table: The initialized Q-table. Its shape is determined by [*axis dimensions, action_dim].\n",
    "               For example, if the axis dimensions were [10, 10] and action_dim was 3, \n",
    "               the q_table shape would be [10, 10, 3].\n",
    "    \"\"\"\n",
    "    high_values = observation_space.high\n",
    "    low_values = observation_space.low\n",
    "    axis = []\n",
    "    for idx, (low_val, high_val) in enumerate(zip(low_values, high_values)):\n",
    "        # here to avoid inf boundary, we truncate the value to [-4, 4] \n",
    "        if low_val < -1e10: low_val = -4\n",
    "        if high_val > 1e10: high_val = 4\n",
    "        \n",
    "        if (bool_position is not None) and (idx in bool_position):\n",
    "            axis.append(np.linspace(low_val, high_val, 2, dtype=np.float32)) # for boolean, we only have two values: 1., 0.\n",
    "        else:\n",
    "            axis.append(np.linspace(low_val, high_val, discr, dtype=np.float32))\n",
    "    _shape = [ax.shape[0] for ax in axis] + [action_dim]\n",
    "    q_table = np.zeros(_shape) + init_q\n",
    "    return axis, q_table\n",
    "\n",
    "def get_table_idx(state, axis):\n",
    "    \"\"\"\n",
    "    Give a state, discretize it, and return the index in each dimension (axis). \n",
    "    With the returned index, you can access q(s,.) with q_table[idx].\n",
    "    \n",
    "    Parameters:\n",
    "    - state: The state to be discretized. \n",
    "    - axis: The discrete state space as a list of numpy arrays. \n",
    "    \n",
    "    Returns:\n",
    "    - idx: A tuple representing the index of the discretized state in the Q-table. \n",
    "           Its shape matches the dimensions of the provided 'axis'.\n",
    "    \"\"\"\n",
    "    def _get_ax_idx(ax, value):\n",
    "        return np.argmin(np.abs(ax - value))\n",
    "    return tuple([_get_ax_idx(ax, value) for ax, value in zip(axis, state)])"
   ]
  },
  {
   "cell_type": "code",
   "execution_count": 4,
   "id": "a6b139b4",
   "metadata": {
    "tags": []
   },
   "outputs": [],
   "source": [
    "def get_action(state, q_axis, q_table, epsilon=0.0):\n",
    "    \"\"\"\n",
    "    Determine the action to take based on epsilon-greedy strategy.\n",
    "    \n",
    "    Parameters:\n",
    "    - state: The current state of the agent.\n",
    "    - q_axis: The discrete state space as a list of numpy arrays.\n",
    "    - q_table: The Q-table with learned values.\n",
    "    - epsilon: The probability with which a random action is taken (exploration). \n",
    "               Default is 0 (purely greedy).\n",
    "    \n",
    "    Returns:\n",
    "    - action: The chosen action, either greedily or randomly based on epsilon.\n",
    "    \"\"\"\n",
    "    # if epsilon == 0.0, the policy will be greedy -- always choose the best action\n",
    "    '''\n",
    "    # TODO: Task 1, implement epsilon-greedy\n",
    "    # 1. Discretize the given state by using the get_table_idx(state, axis) function\n",
    "    # 2. Use the discretized state's index to access the Q-table\n",
    "    # 3. Generate a random number between 0 and 1.\n",
    "    # 4. Compare this number to `epsilon`\n",
    "    # 5. If the random number is less than `epsilon`, choose a random action.\n",
    "    # 6. Otherwise, choose the best action (greedy action)\n",
    "    '''\n",
    "    ########## Your code starts here ##########\n",
    "    \n",
    "    givenstate = get_table_idx(state, q_axis)\n",
    "    givenaction = q_table[givenstate]\n",
    "    \n",
    "    rand = np.random.random()\n",
    "    if epsilon > rand:\n",
    "        action = np.random.choice(range(givenaction.shape[0]))\n",
    "    else:\n",
    "        action = np.argmax(givenaction)\n",
    "    \n",
    "    \n",
    "    \n",
    "    ########## Your code ends here #########\n",
    "    return action\n",
    "\n",
    "\n",
    "def update_q_value(old_state, action, new_state, gamma, reward, done, alpha, q_axis, q_table):\n",
    "    \"\"\"\n",
    "    Update the Q-value for a state-action pair based on the Q-learning update rule.\n",
    "    \n",
    "    Parameters:\n",
    "    - old_state: The original state before taking the action.\n",
    "    - action: The action taken.\n",
    "    - new_state: The state after taking the action.\n",
    "    - gamma: Discount factor.\n",
    "    - reward: Immediate reward for taking the action.\n",
    "    - done: Boolean indicating if the episode is done.\n",
    "    - alpha: Learning rate.\n",
    "    - q_axis: The discrete state space as a list of numpy arrays.\n",
    "    - q_table: The Q-table with learned values.\n",
    "    \n",
    "    Returns:\n",
    "    - q_table: Updated Q-table.\n",
    "    \"\"\"\n",
    "\n",
    "    # q_table contains discretized state-action space (16, 16, 16, 16, 2) values\n",
    "    # Each observation is discritized 16 times and the last dimension are the two\n",
    "    # actions that can be taken. \n",
    "    '''\n",
    "    # TODO: Task 1, update q value\n",
    "    # 1. Retrieve Old Q-Value\n",
    "    # 2. Determine the Next Action\n",
    "    # 3. Retrieve New Q-Value\n",
    "    #     If the episode isn't done, get the Q-value for the new_state and next_action.\n",
    "    #     If the episode is done, set the new Q-value to zero.\n",
    "    # 4. Compute the Updated Q-Value\n",
    "    # 5. Update the Q-Table \n",
    "    # 6. Return the Updated Q-Table\n",
    "    '''\n",
    "    old_table_idx = get_table_idx(old_state, q_axis) # idx of q(s_old, *)\n",
    "    new_table_idx = get_table_idx(new_state, q_axis) # idx of q(s_new, *)  \n",
    "    ########## Your code starts here ########## \n",
    "    \n",
    "    \n",
    "    old_qvalue = q_table[old_table_idx][action]\n",
    "    next_action = get_action(new_state ,q_axis, q_table, 0.0)\n",
    "    \n",
    "    if done:\n",
    "        new_qvalue = 0\n",
    "    else:\n",
    "        new_qvalue = q_table[new_table_idx][next_action]\n",
    "    q_table[old_table_idx][action] = old_qvalue + alpha * (reward+gamma*new_qvalue - old_qvalue)\n",
    "    \n",
    "    ########### Your code ends here ########## \n",
    "    return q_table"
   ]
  },
  {
   "cell_type": "code",
   "execution_count": 5,
   "id": "7d0d958b",
   "metadata": {
    "deletable": false,
    "editable": false,
    "nbgrader": {
     "cell_type": "code",
     "checksum": "dc16991d5ec22369589192a57b098e56",
     "grade": true,
     "grade_id": "cell-b84fd8ddc27262ad",
     "locked": true,
     "points": 5,
     "schema_version": 3,
     "solution": false,
     "task": false
    },
    "tags": []
   },
   "outputs": [],
   "source": [
    "# test the get_action function \n",
    "\n",
    "def test_get_action():\n",
    "    test_state = [1,0]\n",
    "    test_qaxis = np.array([-4.,3.]), np.array([-4. ,-6. ])\n",
    "\n",
    "    test_qtable = np.array([[[0.49364422, 0.83209827],[0.987027,  0.48691833]],[[0.40560464, 0.26888288],[0.90825581, 0.88758134]]])\n",
    "    assert get_action(test_state, test_qaxis, test_qtable, epsilon=0) == 0\n",
    "    test_qtable = np.array([[[0.49364422, 0.83209827],[0.987027,  0.48691833]],[[-0.40560464, 0.26888288],[0.90825581, 0.88758134]]])\n",
    "    assert get_action(test_state, test_qaxis, test_qtable, epsilon=0) == 1\n",
    "\n",
    "\n",
    "# test update_q_value function\n",
    "def test_update_q_value():\n",
    "    test_state = [1,0]\n",
    "    test_qaxis = np.array([-4.,3.]), np.array([-4. ,-6. ])\n",
    "    test_qtable = np.array([[[0.49364422, 0.83209827],[0.987027,  0.48691833]],[[-0.40560464, 0.26888288],[0.90825581, 0.88758134]]])\n",
    "    new_test_state = [0,1]\n",
    "    reward = 1\n",
    "    gamma = 0.9\n",
    "    done = False\n",
    "    action = 0\n",
    "    alpha = 1\n",
    "    updated_q_value = update_q_value(test_state, action, new_test_state, gamma, reward, done, alpha, test_qaxis, test_qtable)\n",
    "    assert np.allclose(updated_q_value, np.array([[[0.49364422, 0.83209827],[0.987027  , 0.48691833]],[[1.24199459, 0.26888288],[0.90825581, 0.88758134]]]), 0.001)\n",
    "\n",
    "test_get_action()\n",
    "test_update_q_value()"
   ]
  },
  {
   "cell_type": "code",
   "execution_count": 6,
   "id": "62297b95-5f55-4dcc-827b-ff984ae99bd2",
   "metadata": {
    "tags": []
   },
   "outputs": [],
   "source": [
    "def plot_training_data(training_data, save_path):\n",
    "    df = pd.DataFrame(training_data)\n",
    "    plt.figure(figsize=(5, 3.5))\n",
    "    sns.lineplot(data=df, x='episode', y='ep_reward_avg')\n",
    "    plt.title('Training Performance')\n",
    "    plt.savefig(save_path)\n",
    "    plt.show()\n",
    "\n",
    "def train(cfg_path, cfg_args={}):\n",
    "    env, cfg = setup(cfg_path, cfg_args=cfg_args)\n",
    "    performance_data = []\n",
    "\n",
    "    # init q_table with zeros\n",
    "    q_axis, q_table = init_q_table(env.observation_space, \n",
    "        env.action_space.n, cfg.discr, bool_position=cfg.bool_position, init_q=cfg.initial_q)\n",
    "\n",
    "    # begin training and testing\n",
    "    ep_reward_deque = deque([], maxlen=500)  # used to calculate the smoothed (avg over recent 500 episodes) ep_reward\n",
    "    for ep in range(cfg.train_episodes + 1):\n",
    "        # set epsilon value\n",
    "        if cfg.epsilon == 'glie':\n",
    "            epsilon = cfg.glie_b / (cfg.glie_b + ep)  \n",
    "        elif isinstance(cfg.epsilon, (int, float)):\n",
    "            epsilon = cfg.epsilon\n",
    "        else: \n",
    "            raise ValueError\n",
    "        \n",
    "        (state, _), done, ep_reward, timesteps = env.reset(), False, 0, 0\n",
    "        while not done:\n",
    "            action = get_action(state, q_axis, q_table, epsilon=epsilon) \n",
    "            new_state, reward, done, _, _ = env.step(action)\n",
    "            q_table = update_q_value(state, action, new_state, cfg.gamma, reward, done, cfg.alpha,\n",
    "                                        q_axis, q_table)\n",
    "    \n",
    "            state = new_state\n",
    "            ep_reward += reward\n",
    "            timesteps += 1\n",
    "            if timesteps >= env.spec.max_episode_steps:\n",
    "                done = True\n",
    "                \n",
    "        ep_reward_deque.append(ep_reward)\n",
    "        info = {\n",
    "            'episode': ep,\n",
    "            'epsilon': epsilon,\n",
    "            'ep_reward': ep_reward,\n",
    "            'timesteps': timesteps,\n",
    "            'ep_reward_avg': np.mean(list(ep_reward_deque))\n",
    "        }\n",
    "\n",
    "        performance_data.append(info)\n",
    "        \n",
    "\n",
    "        if (not cfg.silent) and (ep % 500 == 0): print(info)\n",
    "    \n",
    "    work_dir = Path().cwd()/'results'/f'{cfg.env_name}'\n",
    "      \n",
    "    # save the q-value table and q_axis\n",
    "    file_pre = f\"{cfg.task_no}_\" if hasattr(cfg, 'task_no') else \"\"\n",
    "    file = file_pre + 'q_table_glie.pkl' if cfg.epsilon == 'glie' else file_pre + 'q_table_e.pkl'\n",
    "    u.save_object({'q_table': q_table, 'axis': q_axis},\n",
    "                        work_dir/file)\n",
    "    png_file = file_pre + '_glie.png' if cfg.epsilon == 'glie' else file_pre + '_e.png'\n",
    "    plot_training_data(performance_data, work_dir/png_file)\n",
    "    print('Training done!')\n",
    "\n",
    "    \n",
    "def test(cfg_path, cfg_args={'testing':True}):\n",
    "    \n",
    "    cfg_args.update({'testing':True})\n",
    "    env, cfg = setup(cfg_path, cfg_args=cfg_args)\n",
    "    \n",
    "    work_dir = Path().cwd()/'results'/f'{cfg.env_name}'\n",
    "    \n",
    "    # load q_table\n",
    "    file_pre = f\"{cfg.task_no}_\" if hasattr(cfg, 'task_no') else \"\"\n",
    "    file = file_pre + 'q_table_glie.pkl' if cfg.epsilon == 'glie' else file_pre + 'q_table_e.pkl'\n",
    "    data = u.load_object(work_dir/file)\n",
    "    q_axis, q_table = data['axis'], data['q_table']\n",
    "\n",
    "    # begin testing\n",
    "    for ep in range(cfg.test_episodes):\n",
    "        (state, _), done, ep_reward, timesteps = env.reset(), False, 0, 0\n",
    "        while not done:\n",
    "            action = get_action(state, q_axis, q_table, epsilon=0.0) # be greedy during testing\n",
    "            new_state, reward, done, _, _ = env.step(action)\n",
    "\n",
    "            state = new_state\n",
    "            ep_reward += reward\n",
    "            timesteps += 1\n",
    "        \n",
    "        info = {\n",
    "            'test_episode': ep,\n",
    "            'test_ep_reward': ep_reward,\n",
    "            'timesteps': timesteps,\n",
    "        }\n",
    "\n",
    "        if not cfg.silent: print(info)\n",
    "    \n",
    "    print('Testing done!')\n",
    "\n"
   ]
  },
  {
   "cell_type": "code",
   "execution_count": 7,
   "id": "dace84a6-031e-4b0d-9d99-511af93202eb",
   "metadata": {
    "tags": []
   },
   "outputs": [
    {
     "name": "stdout",
     "output_type": "stream",
     "text": [
      "Numpy/Torch/Random Seed:  408\n",
      "{'episode': 0, 'epsilon': 0.1, 'ep_reward': 12.0, 'timesteps': 12, 'ep_reward_avg': 12.0}\n",
      "{'episode': 500, 'epsilon': 0.1, 'ep_reward': 14.0, 'timesteps': 14, 'ep_reward_avg': 16.862}\n",
      "{'episode': 1000, 'epsilon': 0.1, 'ep_reward': 75.0, 'timesteps': 75, 'ep_reward_avg': 23.246}\n",
      "{'episode': 1500, 'epsilon': 0.1, 'ep_reward': 162.0, 'timesteps': 162, 'ep_reward_avg': 55.848}\n",
      "{'episode': 2000, 'epsilon': 0.1, 'ep_reward': 308.0, 'timesteps': 308, 'ep_reward_avg': 147.128}\n",
      "{'episode': 2500, 'epsilon': 0.1, 'ep_reward': 182.0, 'timesteps': 182, 'ep_reward_avg': 206.25}\n",
      "{'episode': 3000, 'epsilon': 0.1, 'ep_reward': 151.0, 'timesteps': 151, 'ep_reward_avg': 175.05}\n",
      "{'episode': 3500, 'epsilon': 0.1, 'ep_reward': 144.0, 'timesteps': 144, 'ep_reward_avg': 187.21}\n",
      "{'episode': 4000, 'epsilon': 0.1, 'ep_reward': 86.0, 'timesteps': 86, 'ep_reward_avg': 199.758}\n",
      "{'episode': 4500, 'epsilon': 0.1, 'ep_reward': 286.0, 'timesteps': 286, 'ep_reward_avg': 212.988}\n",
      "{'episode': 5000, 'epsilon': 0.1, 'ep_reward': 344.0, 'timesteps': 344, 'ep_reward_avg': 236.75}\n",
      "{'episode': 5500, 'epsilon': 0.1, 'ep_reward': 124.0, 'timesteps': 124, 'ep_reward_avg': 250.492}\n",
      "{'episode': 6000, 'epsilon': 0.1, 'ep_reward': 95.0, 'timesteps': 95, 'ep_reward_avg': 228.81}\n",
      "{'episode': 6500, 'epsilon': 0.1, 'ep_reward': 277.0, 'timesteps': 277, 'ep_reward_avg': 288.908}\n",
      "{'episode': 7000, 'epsilon': 0.1, 'ep_reward': 65.0, 'timesteps': 65, 'ep_reward_avg': 284.078}\n",
      "{'episode': 7500, 'epsilon': 0.1, 'ep_reward': 351.0, 'timesteps': 351, 'ep_reward_avg': 265.152}\n",
      "{'episode': 8000, 'epsilon': 0.1, 'ep_reward': 184.0, 'timesteps': 184, 'ep_reward_avg': 258.564}\n",
      "{'episode': 8500, 'epsilon': 0.1, 'ep_reward': 204.0, 'timesteps': 204, 'ep_reward_avg': 280.174}\n",
      "{'episode': 9000, 'epsilon': 0.1, 'ep_reward': 477.0, 'timesteps': 477, 'ep_reward_avg': 304.976}\n",
      "{'episode': 9500, 'epsilon': 0.1, 'ep_reward': 380.0, 'timesteps': 380, 'ep_reward_avg': 294.836}\n",
      "{'episode': 10000, 'epsilon': 0.1, 'ep_reward': 500.0, 'timesteps': 500, 'ep_reward_avg': 351.746}\n",
      "{'episode': 10500, 'epsilon': 0.1, 'ep_reward': 500.0, 'timesteps': 500, 'ep_reward_avg': 294.938}\n",
      "{'episode': 11000, 'epsilon': 0.1, 'ep_reward': 341.0, 'timesteps': 341, 'ep_reward_avg': 318.01}\n",
      "{'episode': 11500, 'epsilon': 0.1, 'ep_reward': 105.0, 'timesteps': 105, 'ep_reward_avg': 290.62}\n",
      "{'episode': 12000, 'epsilon': 0.1, 'ep_reward': 231.0, 'timesteps': 231, 'ep_reward_avg': 337.362}\n",
      "{'episode': 12500, 'epsilon': 0.1, 'ep_reward': 500.0, 'timesteps': 500, 'ep_reward_avg': 329.612}\n",
      "{'episode': 13000, 'epsilon': 0.1, 'ep_reward': 185.0, 'timesteps': 185, 'ep_reward_avg': 341.24}\n",
      "{'episode': 13500, 'epsilon': 0.1, 'ep_reward': 500.0, 'timesteps': 500, 'ep_reward_avg': 380.852}\n",
      "{'episode': 14000, 'epsilon': 0.1, 'ep_reward': 437.0, 'timesteps': 437, 'ep_reward_avg': 382.022}\n",
      "{'episode': 14500, 'epsilon': 0.1, 'ep_reward': 267.0, 'timesteps': 267, 'ep_reward_avg': 399.478}\n",
      "{'episode': 15000, 'epsilon': 0.1, 'ep_reward': 352.0, 'timesteps': 352, 'ep_reward_avg': 311.198}\n",
      "{'episode': 15500, 'epsilon': 0.1, 'ep_reward': 500.0, 'timesteps': 500, 'ep_reward_avg': 404.188}\n",
      "{'episode': 16000, 'epsilon': 0.1, 'ep_reward': 500.0, 'timesteps': 500, 'ep_reward_avg': 359.27}\n",
      "{'episode': 16500, 'epsilon': 0.1, 'ep_reward': 313.0, 'timesteps': 313, 'ep_reward_avg': 399.162}\n",
      "{'episode': 17000, 'epsilon': 0.1, 'ep_reward': 299.0, 'timesteps': 299, 'ep_reward_avg': 283.346}\n",
      "{'episode': 17500, 'epsilon': 0.1, 'ep_reward': 397.0, 'timesteps': 397, 'ep_reward_avg': 266.48}\n",
      "{'episode': 18000, 'epsilon': 0.1, 'ep_reward': 256.0, 'timesteps': 256, 'ep_reward_avg': 387.716}\n",
      "{'episode': 18500, 'epsilon': 0.1, 'ep_reward': 228.0, 'timesteps': 228, 'ep_reward_avg': 364.432}\n",
      "{'episode': 19000, 'epsilon': 0.1, 'ep_reward': 500.0, 'timesteps': 500, 'ep_reward_avg': 400.528}\n",
      "{'episode': 19500, 'epsilon': 0.1, 'ep_reward': 366.0, 'timesteps': 366, 'ep_reward_avg': 425.218}\n",
      "{'episode': 20000, 'epsilon': 0.1, 'ep_reward': 500.0, 'timesteps': 500, 'ep_reward_avg': 315.088}\n"
     ]
    },
    {
     "data": {
      "image/png": "[encoded data removed]",
      "text/plain": [
       "<Figure size 500x350 with 1 Axes>"
      ]
     },
     "metadata": {},
     "output_type": "display_data"
    },
    {
     "name": "stdout",
     "output_type": "stream",
     "text": [
      "Training done!\n"
     ]
    }
   ],
   "source": [
    "# Training with constant epsilon 0.1\n",
    "if not skip_training:\n",
    "    cfg_args=dict(epsilon=0.1, save_video=False)\n",
    "    train(cfg_path=Path().cwd()/'cfg'/'cartpole_v1.yaml', cfg_args=cfg_args) # < 30 mins"
   ]
  },
  {
   "cell_type": "code",
   "execution_count": 8,
   "id": "8d603c2a-5582-4a7b-a04b-7b6ba03fc89d",
   "metadata": {
    "tags": []
   },
   "outputs": [
    {
     "name": "stdout",
     "output_type": "stream",
     "text": [
      "Numpy/Torch/Random Seed:  408\n"
     ]
    },
    {
     "name": "stderr",
     "output_type": "stream",
     "text": [
      "/opt/software/lib/python3.10/site-packages/gymnasium/wrappers/record_video.py:87: UserWarning: \u001b[33mWARN: Overwriting existing videos at /notebooks/rl2024/ex3/results/CartPole-v1/video/test folder (try specifying a different `video_folder` for the `RecordVideo` wrapper if this is not desired)\u001b[0m\n",
      "  logger.warn(\n"
     ]
    },
    {
     "name": "stdout",
     "output_type": "stream",
     "text": [
      "{'test_episode': 0, 'test_ep_reward': 351.0, 'timesteps': 351}\n",
      "{'test_episode': 1, 'test_ep_reward': 705.0, 'timesteps': 705}\n",
      "{'test_episode': 2, 'test_ep_reward': 1187.0, 'timesteps': 1187}\n",
      "{'test_episode': 3, 'test_ep_reward': 420.0, 'timesteps': 420}\n",
      "{'test_episode': 4, 'test_ep_reward': 344.0, 'timesteps': 344}\n",
      "{'test_episode': 5, 'test_ep_reward': 356.0, 'timesteps': 356}\n",
      "{'test_episode': 6, 'test_ep_reward': 360.0, 'timesteps': 360}\n",
      "{'test_episode': 7, 'test_ep_reward': 324.0, 'timesteps': 324}\n",
      "{'test_episode': 8, 'test_ep_reward': 165.0, 'timesteps': 165}\n",
      "{'test_episode': 9, 'test_ep_reward': 337.0, 'timesteps': 337}\n",
      "Testing done!\n"
     ]
    }
   ],
   "source": [
    "# Testing with constant epsilon 0.1\n",
    "if not skip_training:\n",
    "    cfg_args=dict(epsilon=0.1, save_video=True)\n",
    "    test(cfg_path=Path().cwd()/'cfg'/'cartpole_v1.yaml', cfg_args=cfg_args)"
   ]
  },
  {
   "cell_type": "code",
   "execution_count": null,
   "id": "0c840efe",
   "metadata": {
    "deletable": false,
    "editable": false,
    "nbgrader": {
     "cell_type": "code",
     "checksum": "ad7d05103e53861c49975c1d2361488a",
     "grade": true,
     "grade_id": "cell-847ab0bf4eb63619",
     "locked": true,
     "points": 0,
     "schema_version": 3,
     "solution": false,
     "task": false
    }
   },
   "outputs": [],
   "source": []
  },
  {
   "cell_type": "code",
   "execution_count": null,
   "id": "c3ea5fd1",
   "metadata": {
    "deletable": false,
    "editable": false,
    "nbgrader": {
     "cell_type": "code",
     "checksum": "d0564f2e3a7abff5b2e4abdb8d16932e",
     "grade": true,
     "grade_id": "cell-dd274e845abca949",
     "locked": true,
     "points": 20,
     "schema_version": 3,
     "solution": false,
     "task": false
    }
   },
   "outputs": [],
   "source": []
  },
  {
   "cell_type": "markdown",
   "id": "2f6dd079-2502-4c2c-bd8e-0ac321b5826d",
   "metadata": {},
   "source": [
    "To visualize how the agent acts within the environment, execute the cell below. **Modify the path** to select the episode you'd like to observe. Remember, by default, videos are saved every 500 episodes during training."
   ]
  },
  {
   "cell_type": "code",
   "execution_count": 9,
   "id": "356b9226-601e-4ba3-ae3b-05f5ea36d3ca",
   "metadata": {
    "tags": []
   },
   "outputs": [
    {
     "data": {
      "text/html": [
       "<video loop autoplay  >\n",
       " <source src=\"data:video/mp4;base64,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\" type=\"video/mp4\">\n",
       " Your browser does not support the video tag.\n",
       " </video>"
      ],
      "text/plain": [
       "<IPython.core.display.Video object>"
      ]
     },
     "metadata": {},
     "output_type": "display_data"
    }
   ],
   "source": [
    "# Visualizing the results with constant epsilon 0.1\n",
    "if not skip_training:\n",
    "      video = Video(Path().cwd()/'results'/'CartPole-v1'/'video'/'test'/'ex3-episode-0.mp4',\n",
    "      embed=True, html_attributes=\"loop autoplay\") # Set html_attributes=\"controls\" for video control\n",
    "      display(video)"
   ]
  },
  {
   "cell_type": "markdown",
   "id": "9f187979-feb2-4833-a11a-68cfacc62080",
   "metadata": {},
   "source": [
    "\n",
    "**Important Reminder:** Before initiating the \"Training with GLIE\" process, make sure you've fully executed the steps under \"Training with a constant epsilon\". Be cautious, as the video save path remains identical; thus, any previous results will be overwritten.\n"
   ]
  },
  {
   "cell_type": "code",
   "execution_count": 13,
   "id": "4f5da29e-f3f3-4b23-b879-a7786eb25c94",
   "metadata": {
    "tags": []
   },
   "outputs": [
    {
     "name": "stdout",
     "output_type": "stream",
     "text": [
      "Numpy/Torch/Random Seed:  408\n",
      "{'episode': 0, 'epsilon': 1.0, 'ep_reward': 20.0, 'timesteps': 20, 'ep_reward_avg': 20.0}\n",
      "{'episode': 500, 'epsilon': 0.0001999600079984003, 'ep_reward': 24.0, 'timesteps': 24, 'ep_reward_avg': 19.06}\n",
      "{'episode': 1000, 'epsilon': 9.999000099990002e-05, 'ep_reward': 12.0, 'timesteps': 12, 'ep_reward_avg': 19.21}\n",
      "{'episode': 1500, 'epsilon': 6.666222251849878e-05, 'ep_reward': 11.0, 'timesteps': 11, 'ep_reward_avg': 18.758}\n",
      "{'episode': 2000, 'epsilon': 4.9997500124993755e-05, 'ep_reward': 11.0, 'timesteps': 11, 'ep_reward_avg': 19.124}\n",
      "{'episode': 2500, 'epsilon': 3.9998400063997445e-05, 'ep_reward': 21.0, 'timesteps': 21, 'ep_reward_avg': 19.592}\n",
      "{'episode': 3000, 'epsilon': 3.333222225925803e-05, 'ep_reward': 15.0, 'timesteps': 15, 'ep_reward_avg': 18.408}\n",
      "{'episode': 3500, 'epsilon': 2.857061226822091e-05, 'ep_reward': 85.0, 'timesteps': 85, 'ep_reward_avg': 19.416}\n",
      "{'episode': 4000, 'epsilon': 2.4999375015624612e-05, 'ep_reward': 23.0, 'timesteps': 23, 'ep_reward_avg': 19.1}\n",
      "{'episode': 4500, 'epsilon': 2.2221728406035422e-05, 'ep_reward': 8.0, 'timesteps': 8, 'ep_reward_avg': 17.564}\n",
      "{'episode': 5000, 'epsilon': 1.999960000799984e-05, 'ep_reward': 9.0, 'timesteps': 9, 'ep_reward_avg': 19.37}\n",
      "{'episode': 5500, 'epsilon': 1.8181487609316193e-05, 'ep_reward': 23.0, 'timesteps': 23, 'ep_reward_avg': 18.472}\n",
      "{'episode': 6000, 'epsilon': 1.666638889351844e-05, 'ep_reward': 10.0, 'timesteps': 10, 'ep_reward_avg': 18.146}\n",
      "{'episode': 6500, 'epsilon': 1.5384378701866124e-05, 'ep_reward': 43.0, 'timesteps': 43, 'ep_reward_avg': 18.002}\n",
      "{'episode': 7000, 'epsilon': 1.4285510206997042e-05, 'ep_reward': 16.0, 'timesteps': 16, 'ep_reward_avg': 18.246}\n",
      "{'episode': 7500, 'epsilon': 1.3333155557925894e-05, 'ep_reward': 12.0, 'timesteps': 12, 'ep_reward_avg': 18.078}\n",
      "{'episode': 8000, 'epsilon': 1.24998437519531e-05, 'ep_reward': 8.0, 'timesteps': 8, 'ep_reward_avg': 17.984}\n",
      "{'episode': 8500, 'epsilon': 1.1764567475676756e-05, 'ep_reward': 18.0, 'timesteps': 18, 'ep_reward_avg': 17.96}\n",
      "{'episode': 9000, 'epsilon': 1.1110987655692714e-05, 'ep_reward': 20.0, 'timesteps': 20, 'ep_reward_avg': 17.92}\n",
      "{'episode': 9500, 'epsilon': 1.0526204987315923e-05, 'ep_reward': 10.0, 'timesteps': 10, 'ep_reward_avg': 17.822}\n",
      "{'episode': 10000, 'epsilon': 9.99990000099999e-06, 'ep_reward': 10.0, 'timesteps': 10, 'ep_reward_avg': 18.99}\n",
      "{'episode': 10500, 'epsilon': 9.523718821725508e-06, 'ep_reward': 37.0, 'timesteps': 37, 'ep_reward_avg': 17.606}\n",
      "{'episode': 11000, 'epsilon': 9.0908264470323e-06, 'ep_reward': 10.0, 'timesteps': 10, 'ep_reward_avg': 18.088}\n",
      "{'episode': 11500, 'epsilon': 8.695576560203825e-06, 'ep_reward': 18.0, 'timesteps': 18, 'ep_reward_avg': 19.158}\n",
      "{'episode': 12000, 'epsilon': 8.333263889467588e-06, 'ep_reward': 10.0, 'timesteps': 10, 'ep_reward_avg': 19.162}\n",
      "{'episode': 12500, 'epsilon': 7.999936000511995e-06, 'ep_reward': 8.0, 'timesteps': 8, 'ep_reward_avg': 19.736}\n",
      "{'episode': 13000, 'epsilon': 7.692248521165222e-06, 'ep_reward': 15.0, 'timesteps': 15, 'ep_reward_avg': 19.128}\n",
      "{'episode': 13500, 'epsilon': 7.407352538129347e-06, 'ep_reward': 72.0, 'timesteps': 72, 'ep_reward_avg': 18.328}\n",
      "{'episode': 14000, 'epsilon': 7.142806122813409e-06, 'ep_reward': 10.0, 'timesteps': 10, 'ep_reward_avg': 19.894}\n",
      "{'episode': 14500, 'epsilon': 6.896504162040262e-06, 'ep_reward': 18.0, 'timesteps': 18, 'ep_reward_avg': 17.63}\n",
      "{'episode': 15000, 'epsilon': 6.6666222225185165e-06, 'ep_reward': 48.0, 'timesteps': 48, 'ep_reward_avg': 18.708}\n",
      "{'episode': 15500, 'epsilon': 6.4515712801852895e-06, 'ep_reward': 18.0, 'timesteps': 18, 'ep_reward_avg': 19.714}\n",
      "{'episode': 16000, 'epsilon': 6.249960937744139e-06, 'ep_reward': 9.0, 'timesteps': 9, 'ep_reward_avg': 19.612}\n",
      "{'episode': 16500, 'epsilon': 6.06056932988285e-06, 'ep_reward': 12.0, 'timesteps': 12, 'ep_reward_avg': 19.226}\n",
      "{'episode': 17000, 'epsilon': 5.882318339303888e-06, 'ep_reward': 8.0, 'timesteps': 8, 'ep_reward_avg': 19.454}\n",
      "{'episode': 17500, 'epsilon': 5.714253061411078e-06, 'ep_reward': 16.0, 'timesteps': 16, 'ep_reward_avg': 19.77}\n",
      "{'episode': 18000, 'epsilon': 5.5555246915294925e-06, 'ep_reward': 8.0, 'timesteps': 8, 'ep_reward_avg': 19.216}\n",
      "{'episode': 18500, 'epsilon': 5.405376187155746e-06, 'ep_reward': 19.0, 'timesteps': 19, 'ep_reward_avg': 19.158}\n",
      "{'episode': 19000, 'epsilon': 5.263130194051611e-06, 'ep_reward': 29.0, 'timesteps': 29, 'ep_reward_avg': 18.418}\n",
      "{'episode': 19500, 'epsilon': 5.1281788298521554e-06, 'ep_reward': 29.0, 'timesteps': 29, 'ep_reward_avg': 17.992}\n",
      "{'episode': 20000, 'epsilon': 4.999975000125e-06, 'ep_reward': 9.0, 'timesteps': 9, 'ep_reward_avg': 18.864}\n"
     ]
    },
    {
     "data": {
      "image/png": "[encoded data removed]",
      "text/plain": [
       "<Figure size 500x350 with 1 Axes>"
      ]
     },
     "metadata": {},
     "output_type": "display_data"
    },
    {
     "name": "stdout",
     "output_type": "stream",
     "text": [
      "Training done!\n"
     ]
    }
   ],
   "source": [
    "# Training with GLIE\n",
    "if not skip_training:\n",
    "    cfg_args=dict(epsilon='glie', glie_b=0.1, save_video=False) # insert correct value for glie_b\n",
    "    train(cfg_path=Path().cwd()/'cfg'/'cartpole_v1.yaml', cfg_args=cfg_args) # < 30 mins"
   ]
  },
  {
   "cell_type": "code",
   "execution_count": 14,
   "id": "a77aea8d-2c8c-4e8f-baec-a3fd68fead5b",
   "metadata": {
    "tags": []
   },
   "outputs": [
    {
     "name": "stdout",
     "output_type": "stream",
     "text": [
      "Numpy/Torch/Random Seed:  408\n"
     ]
    },
    {
     "name": "stderr",
     "output_type": "stream",
     "text": [
      "/opt/software/lib/python3.10/site-packages/gymnasium/wrappers/record_video.py:87: UserWarning: \u001b[33mWARN: Overwriting existing videos at /notebooks/rl2024/ex3/results/CartPole-v1/video/test folder (try specifying a different `video_folder` for the `RecordVideo` wrapper if this is not desired)\u001b[0m\n",
      "  logger.warn(\n"
     ]
    },
    {
     "name": "stdout",
     "output_type": "stream",
     "text": [
      "{'test_episode': 0, 'test_ep_reward': 11.0, 'timesteps': 11}\n",
      "{'test_episode': 1, 'test_ep_reward': 32.0, 'timesteps': 32}\n",
      "{'test_episode': 2, 'test_ep_reward': 12.0, 'timesteps': 12}\n",
      "{'test_episode': 3, 'test_ep_reward': 75.0, 'timesteps': 75}\n",
      "{'test_episode': 4, 'test_ep_reward': 29.0, 'timesteps': 29}\n",
      "{'test_episode': 5, 'test_ep_reward': 14.0, 'timesteps': 14}\n",
      "{'test_episode': 6, 'test_ep_reward': 10.0, 'timesteps': 10}\n",
      "{'test_episode': 7, 'test_ep_reward': 10.0, 'timesteps': 10}\n",
      "{'test_episode': 8, 'test_ep_reward': 36.0, 'timesteps': 36}\n",
      "{'test_episode': 9, 'test_ep_reward': 87.0, 'timesteps': 87}\n",
      "Testing done!\n"
     ]
    }
   ],
   "source": [
    "# Testing with GLIE\n",
    "if not skip_training:\n",
    "    cfg_args=dict(epsilon='glie', save_video=True)\n",
    "    test(cfg_path=Path().cwd()/'cfg'/'cartpole_v1.yaml', cfg_args=cfg_args)"
   ]
  },
  {
   "cell_type": "markdown",
   "id": "bdec32a0-acec-46fb-80cb-72bf8b6c5843",
   "metadata": {},
   "source": [
    "Just as in the \"visualize the results with constant epsilon 0.1\" section, **modify the path** to select the episode you'd like to observe. Remember, videos are saved every 500 episodes during training."
   ]
  },
  {
   "cell_type": "code",
   "execution_count": 15,
   "id": "c6204544",
   "metadata": {
    "tags": []
   },
   "outputs": [
    {
     "data": {
      "text/html": [
       "<video loop autoplay  >\n",
       " <source src=\"data:video/mp4;base64,AAAAIGZ0eXBpc29tAAACAGlzb21pc28yYXZjMW1wNDEAAAAIZnJlZQAACSBtZGF0AAACrwYF//+r3EXpvebZSLeWLNgg2SPu73gyNjQgLSBjb3JlIDE2NCByMzA5NSBiYWVlNDAwIC0gSC4yNjQvTVBFRy00IEFWQyBjb2RlYyAtIENvcHlsZWZ0IDIwMDMtMjAyMiAtIGh0dHA6Ly93d3cudmlkZW9sYW4ub3JnL3gyNjQuaHRtbCAtIG9wdGlvbnM6IGNhYmFjPTEgcmVmPTMgZGVibG9jaz0xOjA6MCBhbmFseXNlPTB4MzoweDExMyBtZT1oZXggc3VibWU9NyBwc3k9MSBwc3lfcmQ9MS4wMDowLjAwIG1peGVkX3JlZj0xIG1lX3JhbmdlPTE2IGNocm9tYV9tZT0xIHRyZWxsaXM9MSA4eDhkY3Q9MSBjcW09MCBkZWFkem9uZT0yMSwxMSBmYXN0X3Bza2lwPTEgY2hyb21hX3FwX29mZnNldD0tMiB0aHJlYWRzPTEyIGxvb2thaGVhZF90aHJlYWRzPTIgc2xpY2VkX3RocmVhZHM9MCBucj0wIGRlY2ltYXRlPTEgaW50ZXJsYWNlZD0wIGJsdXJheV9jb21wYXQ9MCBjb25zdHJhaW5lZF9pbnRyYT0wIGJmcmFtZXM9MyBiX3B5cmFtaWQ9MiBiX2FkYXB0PTEgYl9iaWFzPTAgZGlyZWN0PTEgd2VpZ2h0Yj0xIG9wZW5fZ29wPTAgd2VpZ2h0cD0yIGtleWludD0yNTAga2V5aW50X21pbj0yNSBzY2VuZWN1dD00MCBpbnRyYV9yZWZyZXNoPTAgcmNfbG9va2FoZWFkPTQwIHJjPWNyZiBtYnRyZWU9MSBjcmY9MjMuMCBxY29tcD0wLjYwIHFwbWluPTAgcXBtYXg9NjkgcXBzdGVwPTQgaXBfcmF0aW89MS40MCBhcT0xOjEuMDAAgAAAAdNliIQAK//+9nN8CmtHM5UuBXb3ZqPl0JLl+xBg+tAAAAMAAAMAAE3FRM6LCmPE2QAAAwBcQBHgsAjwlQthIR9jpXB7rnBMSIEFQsAfu+ZtXP9PN6eh2wVe0UHHP4pyC06/r6ZlOCz57GVcIxJRq4FxJS/AsI4+SZqfYsPw/KvJfFDAACzCLXIP0xikQtso2lHccAl1QAAtaY7SzFPjlcQLobmlpjUpvlqIX3klkhCkIGQXwAIeOekfWLKnKXDGM6sdMt9jTEF7C71PrWyYAj1cxok73v3UyhmN5ni6SjuwC6AzlE+2wEO+XcXHGYCviC0jnL+AAZkRClezBf5WmgW8TqeUc3BaiqEZF3Y0queh9L9WBJwYrn1PYh3ibW91P2JnOAlk1vrgOEMH97wMwJbiPw7tCO1iPy441Bg5CrF6tvbaAMe54da3OViKiZbpthb2Gla7ZE7Q6MkTcWmNxmT1arzKzWy8bmSGS2yvhs+d9RKvD8YrOpikyD4QBeQC5Zw3Mh7Z83vUfyAQ1Uwtrh4tZFjhSKF2XjAAAB5rSx3FYEfBZstEW9T7OZLJrq3fdWFV6MI07dGyK/u3ajXHK0FH+u0AgYBy2AAAAwAAAwAAAwACWwAAAIxBmiRsQn/98QAAAwKfXGope0QiUHzXRTlt92R8K7fobqVzZ4gHQrXX7yrWLrLvJqfMHr32S0FNA5yLBOjmi83jNT4ACix+nInMdYNiJ3DdkXO018FoIk9fRT9xtPGvdipUdDAuV9/xwJjywTygaPODM3MpCKBNHA4SH3qzcAvsuRONiK5fpYEZpOTkQAAAAEpBnkJ4hH8AABa1WR6uFG9c7sVrMNt9QvLZXvKcgJt1j4whMhLxePSqGc9IU7kOiAEj4drgCqTl0SanWAYzJPJF6t3mXAuSSLvajwAAACEBnmF0R/8AACPDPggIN2LX+BoWKKrG2Y0SMBcc+hBlZMAAAAAwAZ5jakf/AAANf63IjfG3nBwDZCkzezUJp0/+Fq+8DR0RjEBx84Y/ixpLiIadbdxxAAAA50GaaEmoQWiZTAhH//3hAAAEE0fTtlKiC76uQmSgBYAgiyxD7TEbNow+LhgA9H/S5eT8drtJYUDQT6RcmWM/ctmTgACSfZ2bYRPhA9MVPRmPSU3x864q6Xb9bc3Ee2Qj+BbN9Z6dAVr/TV7FkNxbAul4B9vg811wTM0R3Kb4EmYoq1WwDdor+t1fowpwKvN85O0t3IxrHkeMca/2uoJ1m9ZlbjmbIh+/uFRCRbSHuO2KAkzVR4lOHnvQubc5z353ShK/I6IQhjIjr1hQMnuE1czMNoqSf9UVhOKeePKOC0gG8WNDEwdygQAAAGhBnoZFESwj/wAAFrtfbrRdyHVE+8X5jMoarpdjw40IAnxn0+JD9YZVnFf64U8zEiatg5VNUFprajPxAaAwWmIdU8/z22lqVPM9kABxm9FYuG55Z6V2t9JELRvAmfMGb2pHKgkhcF0XkQAAADYBnqV0R/8AACPAuN+/+LyIOoe/jhehBbsR1hNTYcb1H7aOujzC1VNdbv68Vw6K/EoEnfSgh4EAAABBAZ6nakf/AAAjrpC7zONval9RlvRvMeNmaz00UR9vcCIAKMbQFswttFKZM0yhZr4aAxh6cY6GBEr62djbhKqt8CAAAACcQZqqSahBbJlMFEx//IQAAA/TihXtqgfQLACwsiLeosjriv1FF5oIR/FY0Fg+B2wPISs+o0KPjz/95kLklJ1ydp/k2ajRHOZdYzqq0Rv3GphssKSfqBhBqrsJ+P6mzDkIa9XjPYj81O9FQiK8CMgPCA9XXJYGXNnsviIEv/m7EymbTLy2TYHmqytNxaEPTYqZwKbZXH5jc/L1Hk5AAAAAVwGeyWpH/wAAI6N0f+/eAZ4bwRyhBIDgGWgB8DFfeBfhr6kcCPEnUqPhog8F+vo0bg02pwACwzA79xmZY/WgwQvllLulUQyrxQ8xkuYPX+n+1E5zjDJtcQAAAIJBmstJ4QpSZTAj//yEAAAP0+tsdOfPwYRQpkUnNMVw5gAXFVEGg860K4BPSSSVctalprShnmICpq62GLkyFba8TA/iZJ2OXD+ucMjPGiCPwdUqNUAcFupLZslkQuT+gOuMYX9MvvjTs53q8kyGkVV43zT9982Lotp8Y8znsTziA6XyAAADu21vb3YAAABsbXZoZAAAAAAAAAAAAAAAAAAAA+gAAADwAAEAAAEAAAAAAAAAAAAAAAABAAAAAAAAAAAAAAAAAAAAAQAAAAAAAAAAAAAAAAAAQAAAAAAAAAAAAAAAAAAAAAAAAAAAAAAAAAAAAAAAAAIAAALldHJhawAAAFx0a2hkAAAAAwAAAAAAAAAAAAAAAQAAAAAAAADwAAAAAAAAAAAAAAAAAAAAAAABAAAAAAAAAAAAAAAAAAAAAQAAAAAAAAAAAAAAAAAAQAAAAAJYAAABkAAAAAAAJGVkdHMAAAAcZWxzdAAAAAAAAAABAAAA8AAAAgAAAQAAAAACXW1kaWEAAAAgbWRoZAAAAAAAAAAAAAAAAAAAMgAAAAwAVcQAAAAAAC1oZGxyAAAAAAAAAAB2aWRlAAAAAAAAAAAAAAAAVmlkZW9IYW5kbGVyAAAAAghtaW5mAAAAFHZtaGQAAAABAAAAAAAAAAAAAAAkZGluZgAAABxkcmVmAAAAAAAAAAEAAAAMdXJsIAAAAAEAAAHIc3RibAAAALBzdHNkAAAAAAAAAAEAAACgYXZjMQAAAAAAAAABAAAAAAAAAAAAAAAAAAAAAAJYAZAASAAAAEgAAAAAAAAAARVMYXZjNjAuMzEuMTAyIGxpYngyNjQAAAAAAAAAAAAAABj//wAAADZhdmNDAWQAH//hABlnZAAfrNlAmDPl4QAAAwABAAADAGQPGDGWAQAGaOvjyyLA/fj4AAAAABRidHJ0AAAAAAABLyAAAS8gAAAAGHN0dHMAAAAAAAAAAQAAAAwAAAEAAAAAFHN0c3MAAAAAAAAAAQAAAAEAAABwY3R0cwAAAAAAAAAMAAAAAQAAAgAAAAABAAAFAAAAAAEAAAIAAAAAAQAAAAAAAAABAAABAAAAAAEAAAUAAAAAAQAAAgAAAAABAAAAAAAAAAEAAAEAAAAAAQAAAwAAAAABAAABAAAAAAEAAAIAAAAAHHN0c2MAAAAAAAAAAQAAAAEAAAAMAAAAAQAAAERzdHN6AAAAAAAAAAAAAAAMAAAEigAAAJAAAABOAAAAJQAAADQAAADrAAAAbAAAADoAAABFAAAAoAAAAFsAAACGAAAAFHN0Y28AAAAAAAAAAQAAADAAAABidWR0YQAAAFptZXRhAAAAAAAAACFoZGxyAAAAAAAAAABtZGlyYXBwbAAAAAAAAAAAAAAAAC1pbHN0AAAAJal0b28AAAAdZGF0YQAAAAEAAAAATGF2ZjYwLjE2LjEwMA==\" type=\"video/mp4\">\n",
       " Your browser does not support the video tag.\n",
       " </video>"
      ],
      "text/plain": [
       "<IPython.core.display.Video object>"
      ]
     },
     "metadata": {},
     "output_type": "display_data"
    }
   ],
   "source": [
    "# Visualizing the results with GLIE\n",
    "if not skip_training:\n",
    "      video = Video(Path().cwd()/'results'/'CartPole-v1'/'video'/'test'/'ex3-episode-0.mp4',\n",
    "      embed=True, html_attributes=\"loop autoplay\") # Set html_attributes=\"controls\" for video control\n",
    "      display(video)"
   ]
  },
  {
   "cell_type": "code",
   "execution_count": null,
   "id": "13721787",
   "metadata": {
    "deletable": false,
    "editable": false,
    "nbgrader": {
     "cell_type": "code",
     "checksum": "4729db952ef44314e885465232bd3c7b",
     "grade": true,
     "grade_id": "cell-a49c5defa1c9854f",
     "locked": true,
     "points": 0,
     "schema_version": 3,
     "solution": false,
     "task": false
    }
   },
   "outputs": [],
   "source": []
  },
  {
   "cell_type": "markdown",
   "id": "c86e2e61",
   "metadata": {
    "tags": []
   },
   "source": [
    "<a id='T2'></a>\n",
    "<div class=\" alert alert-warning\">\n",
    "    <h3><b>Student Task 2.</b> Visualizing the Value Function (10 points) </h3> \n",
    "\n",
    "Use your Q-function values estimated with GLIE to calculate the optimal value function of each state. Complete the ```display_heatmap_vf()``` function below to plot the heatmap of the value function in terms of $x$ and $\\theta$, such that $\\theta$ is on horizontal and $x$ is on vertical axis. For plotting, average the values over $\\dot{x}$ and $\\dot{\\theta}$. Attach the heatmap in your report.\n",
    "\n",
    "**Hint:** For plotting the heatmap you can use Matplotlib-pyplot: ```pyplot.imshow(values_array)``` or Seaborn: ```seaborn.heatmap(values_array)```\n",
    "    \n",
    "🔝\t<a href='#TOC'><b>Table of Contents</b></a>\n",
    "</div>\n"
   ]
  },
  {
   "cell_type": "code",
   "execution_count": 16,
   "id": "a4e7567c",
   "metadata": {
    "tags": []
   },
   "outputs": [],
   "source": [
    "# --- Standard Libraries ---\n",
    "from pathlib import Path    # For handling filesystem paths in a more intuitive way\n",
    "\n",
    "# --- Third-party Libraries ---\n",
    "import matplotlib.pyplot as plt  # For creating static, interactive, and animated visualizations\n",
    "import seaborn as sns            # A data visualization library based on matplotlib"
   ]
  },
  {
   "cell_type": "code",
   "execution_count": 34,
   "id": "d18d44fc",
   "metadata": {
    "tags": []
   },
   "outputs": [],
   "source": [
    "def display_heatmap_vf(env_name=\"CartPole-v1\", q_table_name='task1_q_table_glie.pkl'):\n",
    "    \"\"\"\n",
    "    Displays a heatmap of the value function for a given environment and Q-table.\n",
    "\n",
    "    Input:\n",
    "    - env_name (str): Name of the environment, default is \"CartPole-v1\".\n",
    "    - q_table_name (str): Name of the saved Q-table file, default is 'q_table_glie.pkl'.\n",
    "\n",
    "    Output:\n",
    "    - Visual display of the heatmap.\n",
    "\n",
    "    \"\"\"\n",
    "    \n",
    "    # load the Q-value array\n",
    "    work_dir = Path().cwd()/'results'/f'{env_name}'\n",
    "    \n",
    "    data = u.load_object(work_dir/q_table_name) # load q_table \n",
    "    q_axis, q_table = data['axis'], data['q_table'] \n",
    "    x_axis, th_axis = q_axis[0], q_axis[2]  # get the axis for x and \\theta\n",
    "\n",
    "    discr = q_table.shape[0] # get the number of discretized bins for a state variable in the Q-table\n",
    "    '''\n",
    "    # TODO: Task 2 Plot the heatmap of the value function\n",
    "    # 1. Compute the maximum Q-value for each state, which gives the value function of that state\n",
    "    # 2. Uses Seaborn and Matplotlib to display the heatmap.  \n",
    "    '''\n",
    "    \n",
    "    ########## Your code begins here. ##########\n",
    "    \n",
    "    maxvalue = np.max(q_table, axis=-1)\n",
    "\n",
    "    heatmap = sns.heatmap(maxvalue.mean(axis=1).mean(axis=2),cmap=\"coolwarm\")\n",
    "\n",
    "\n",
    "\n",
    "    plt.show()\n",
    "    \n",
    "\n",
    "    ########## Your code ends here. ##########\n",
    "\n",
    "        \n",
    "    "
   ]
  },
  {
   "cell_type": "code",
   "execution_count": 35,
   "id": "eab4bd9c",
   "metadata": {
    "tags": []
   },
   "outputs": [
    {
     "data": {
      "image/png": "[encoded data removed]",
      "text/plain": [
       "<Figure size 640x480 with 2 Axes>"
      ]
     },
     "metadata": {},
     "output_type": "display_data"
    }
   ],
   "source": [
    "# Visual display of the heatmap of the value function\n",
    "if not skip_training:\n",
    "    display_heatmap_vf()"
   ]
  },
  {
   "cell_type": "markdown",
   "id": "6752c4c4-f909-41e0-8eae-10f80055dbc3",
   "metadata": {
    "deletable": false,
    "editable": false,
    "nbgrader": {
     "cell_type": "markdown",
     "checksum": "f367a81d85146d63beb807550992c62b",
     "grade": false,
     "grade_id": "cell-88d5a81a7f1ca9f1",
     "locked": true,
     "points": 10,
     "schema_version": 3,
     "solution": false,
     "task": true
    }
   },
   "source": [
    "Do not remove this cell as it is used for grading"
   ]
  },
  {
   "cell_type": "markdown",
   "id": "bbba1c47",
   "metadata": {},
   "source": [
    "<a id='Q1'></a>\n",
    "<div class=\" alert alert-warning\">\n",
    "    <h3><b>Student Question 2.1</b> Analyzing the Value Function Heatmap (15 points) </h3> \n",
    "\n",
    "What do you think the heatmap of the Q-values would have looked like at different stages of training? Select all accurate description for each stage.\n",
    "\n",
    "    \n",
    "🔝\t<a href='#TOC'><b>Table of Contents</b></a>\n",
    "</div>\n"
   ]
  },
  {
   "cell_type": "markdown",
   "id": "a1e8cdcf-f604-4889-992d-46498e5852b7",
   "metadata": {
    "deletable": false,
    "editable": false,
    "nbgrader": {
     "cell_type": "markdown",
     "checksum": "4edd89e48f7b49d0ae8b49da370f0320",
     "grade": false,
     "grade_id": "cell-25b468ecabec94c0",
     "locked": true,
     "schema_version": 3,
     "solution": false,
     "task": false
    },
    "tags": []
   },
   "source": [
    "Options\n",
    "\n",
    "1. Before training, the heatmap is all zeros (assuming Q-values are initialized as zeros)\n",
    "2. Before training, the heatmap has random values between -1 and 1\n",
    "3. After a single episode, the Q-values of visited states are updated with non-zero values\n",
    "4. After a single episode, there is a horizontal line in the middle of the heatmap\n",
    "5. After a single episode, the heatmap shows a vertical line in the middle of the heatmap\n",
    "6. Halfway through training, the heatmap already looks quite similar to the final optimal heatmap\n",
    "7. Halfway through training, the heatmap looks quite similar to the heatmap of after a single episode\n",
    "8. The cart's limited movement in the x direction and the pole's fall create a distinct pattern after one episode\n",
    "9. Random exploration in the first episode leads to scattered non-zero values throughout the heatmap"
   ]
  },
  {
   "cell_type": "code",
   "execution_count": 31,
   "id": "784b9f86-27a9-4ab3-ac13-d49d83de414a",
   "metadata": {
    "tags": []
   },
   "outputs": [],
   "source": [
    "# Answer question 2.1 with appropriate option numbers\n",
    "sq2_1 = [1,3,6,4] "
   ]
  },
  {
   "cell_type": "markdown",
   "id": "6fb1b80b-b12d-4667-a741-2193212d257c",
   "metadata": {
    "tags": []
   },
   "source": [
    "The following cells are used for grading."
   ]
  },
  {
   "cell_type": "code",
   "execution_count": null,
   "id": "917b8c7b-1435-4cdd-adb5-d662b311d527",
   "metadata": {
    "deletable": false,
    "editable": false,
    "nbgrader": {
     "cell_type": "code",
     "checksum": "9ccc46773ce96275d3bcc395e75d607e",
     "grade": true,
     "grade_id": "cell-bb1012fd2db43f6a",
     "locked": true,
     "points": 3,
     "schema_version": 3,
     "solution": false,
     "task": false
    },
    "tags": []
   },
   "outputs": [],
   "source": []
  },
  {
   "cell_type": "code",
   "execution_count": null,
   "id": "c7fd2c43-b826-44f2-9d3b-0405d81fe0c3",
   "metadata": {
    "deletable": false,
    "editable": false,
    "nbgrader": {
     "cell_type": "code",
     "checksum": "417a5911e76674561db02fbdd5b7b78d",
     "grade": true,
     "grade_id": "cell-11cd549484cdb161",
     "locked": true,
     "points": 3,
     "schema_version": 3,
     "solution": false,
     "task": false
    },
    "tags": []
   },
   "outputs": [],
   "source": []
  },
  {
   "cell_type": "code",
   "execution_count": null,
   "id": "c36a9c61-4e3d-4c65-9bde-31a81ec2867e",
   "metadata": {
    "deletable": false,
    "editable": false,
    "nbgrader": {
     "cell_type": "code",
     "checksum": "1f34f3b13b4c2a3fe4ca1f135730d1cf",
     "grade": true,
     "grade_id": "cell-d8599b1b7d33f525",
     "locked": true,
     "points": 3,
     "schema_version": 3,
     "solution": false,
     "task": false
    },
    "tags": []
   },
   "outputs": [],
   "source": []
  },
  {
   "cell_type": "code",
   "execution_count": null,
   "id": "7d6173bf-6ecd-49e1-bbc5-dae35b1b6ab0",
   "metadata": {
    "deletable": false,
    "editable": false,
    "nbgrader": {
     "cell_type": "code",
     "checksum": "f4ca7de9d9a4bf53f7f4e2fa172fd6b8",
     "grade": true,
     "grade_id": "cell-2d90b464f8c0a6c1",
     "locked": true,
     "points": 3,
     "schema_version": 3,
     "solution": false,
     "task": false
    },
    "tags": []
   },
   "outputs": [],
   "source": []
  },
  {
   "cell_type": "code",
   "execution_count": null,
   "id": "3b8a4978-38b4-45fa-bb0c-b69f39b912ce",
   "metadata": {
    "deletable": false,
    "editable": false,
    "nbgrader": {
     "cell_type": "code",
     "checksum": "ed7234c17738c018ba5bd268dafb2a95",
     "grade": true,
     "grade_id": "cell-896fa45927fb7575",
     "locked": true,
     "points": 3,
     "schema_version": 3,
     "solution": false,
     "task": false
    },
    "tags": []
   },
   "outputs": [],
   "source": []
  },
  {
   "cell_type": "markdown",
   "id": "87fb7b90",
   "metadata": {
    "tags": []
   },
   "source": [
    "<a id='T3'></a>\n",
    "<div class=\" alert alert-warning\">\n",
    "    <h3><b>Student Task 3.</b> Investigating Initial Values (10 points) </h3> \n",
    "\n",
    "Set $\\epsilon$ to zero, effectively making the policy greedy w.r.t. current Q-value estimates. Run the training again while\n",
    "1) keeping the initial estimates of the Q function at 0,\n",
    "2) setting the initial estimates of the Q function to 50 for all states and actions.\n",
    "\n",
    "You can change the initial Q value estimates by passing ```initial_q=<value>``` in the following cells. \n",
    "\n",
    "**Attach training performance plots of both initializations in your report.**\n",
    "\n",
    "🔝\t<a href='#TOC'><b>Table of Contents</b></a>\n",
    "</div>\n"
   ]
  },
  {
   "cell_type": "code",
   "execution_count": 32,
   "id": "39cf3dd6",
   "metadata": {
    "tags": []
   },
   "outputs": [
    {
     "name": "stdout",
     "output_type": "stream",
     "text": [
      "Numpy/Torch/Random Seed:  408\n",
      "{'episode': 0, 'epsilon': 0, 'ep_reward': 10.0, 'timesteps': 10, 'ep_reward_avg': 10.0}\n",
      "{'episode': 500, 'epsilon': 0, 'ep_reward': 11.0, 'timesteps': 11, 'ep_reward_avg': 9.324}\n",
      "{'episode': 1000, 'epsilon': 0, 'ep_reward': 11.0, 'timesteps': 11, 'ep_reward_avg': 9.31}\n",
      "{'episode': 1500, 'epsilon': 0, 'ep_reward': 11.0, 'timesteps': 11, 'ep_reward_avg': 9.432}\n",
      "{'episode': 2000, 'epsilon': 0, 'ep_reward': 9.0, 'timesteps': 9, 'ep_reward_avg': 9.334}\n",
      "{'episode': 2500, 'epsilon': 0, 'ep_reward': 10.0, 'timesteps': 10, 'ep_reward_avg': 9.312}\n",
      "{'episode': 3000, 'epsilon': 0, 'ep_reward': 9.0, 'timesteps': 9, 'ep_reward_avg': 9.362}\n",
      "{'episode': 3500, 'epsilon': 0, 'ep_reward': 10.0, 'timesteps': 10, 'ep_reward_avg': 9.314}\n",
      "{'episode': 4000, 'epsilon': 0, 'ep_reward': 10.0, 'timesteps': 10, 'ep_reward_avg': 9.382}\n",
      "{'episode': 4500, 'epsilon': 0, 'ep_reward': 8.0, 'timesteps': 8, 'ep_reward_avg': 9.346}\n",
      "{'episode': 5000, 'epsilon': 0, 'ep_reward': 10.0, 'timesteps': 10, 'ep_reward_avg': 9.292}\n",
      "{'episode': 5500, 'epsilon': 0, 'ep_reward': 10.0, 'timesteps': 10, 'ep_reward_avg': 9.302}\n",
      "{'episode': 6000, 'epsilon': 0, 'ep_reward': 9.0, 'timesteps': 9, 'ep_reward_avg': 9.356}\n",
      "{'episode': 6500, 'epsilon': 0, 'ep_reward': 8.0, 'timesteps': 8, 'ep_reward_avg': 9.324}\n",
      "{'episode': 7000, 'epsilon': 0, 'ep_reward': 9.0, 'timesteps': 9, 'ep_reward_avg': 9.316}\n",
      "{'episode': 7500, 'epsilon': 0, 'ep_reward': 8.0, 'timesteps': 8, 'ep_reward_avg': 9.388}\n",
      "{'episode': 8000, 'epsilon': 0, 'ep_reward': 10.0, 'timesteps': 10, 'ep_reward_avg': 9.368}\n",
      "{'episode': 8500, 'epsilon': 0, 'ep_reward': 9.0, 'timesteps': 9, 'ep_reward_avg': 9.312}\n",
      "{'episode': 9000, 'epsilon': 0, 'ep_reward': 9.0, 'timesteps': 9, 'ep_reward_avg': 9.338}\n",
      "{'episode': 9500, 'epsilon': 0, 'ep_reward': 10.0, 'timesteps': 10, 'ep_reward_avg': 9.336}\n",
      "{'episode': 10000, 'epsilon': 0, 'ep_reward': 9.0, 'timesteps': 9, 'ep_reward_avg': 9.32}\n",
      "{'episode': 10500, 'epsilon': 0, 'ep_reward': 9.0, 'timesteps': 9, 'ep_reward_avg': 9.352}\n",
      "{'episode': 11000, 'epsilon': 0, 'ep_reward': 8.0, 'timesteps': 8, 'ep_reward_avg': 9.314}\n",
      "{'episode': 11500, 'epsilon': 0, 'ep_reward': 10.0, 'timesteps': 10, 'ep_reward_avg': 9.384}\n",
      "{'episode': 12000, 'epsilon': 0, 'ep_reward': 9.0, 'timesteps': 9, 'ep_reward_avg': 9.434}\n",
      "{'episode': 12500, 'epsilon': 0, 'ep_reward': 9.0, 'timesteps': 9, 'ep_reward_avg': 9.378}\n",
      "{'episode': 13000, 'epsilon': 0, 'ep_reward': 9.0, 'timesteps': 9, 'ep_reward_avg': 9.356}\n",
      "{'episode': 13500, 'epsilon': 0, 'ep_reward': 9.0, 'timesteps': 9, 'ep_reward_avg': 9.346}\n",
      "{'episode': 14000, 'epsilon': 0, 'ep_reward': 10.0, 'timesteps': 10, 'ep_reward_avg': 9.35}\n",
      "{'episode': 14500, 'epsilon': 0, 'ep_reward': 10.0, 'timesteps': 10, 'ep_reward_avg': 9.41}\n",
      "{'episode': 15000, 'epsilon': 0, 'ep_reward': 10.0, 'timesteps': 10, 'ep_reward_avg': 9.292}\n",
      "{'episode': 15500, 'epsilon': 0, 'ep_reward': 9.0, 'timesteps': 9, 'ep_reward_avg': 9.368}\n",
      "{'episode': 16000, 'epsilon': 0, 'ep_reward': 9.0, 'timesteps': 9, 'ep_reward_avg': 9.384}\n",
      "{'episode': 16500, 'epsilon': 0, 'ep_reward': 10.0, 'timesteps': 10, 'ep_reward_avg': 9.392}\n",
      "{'episode': 17000, 'epsilon': 0, 'ep_reward': 8.0, 'timesteps': 8, 'ep_reward_avg': 9.35}\n",
      "{'episode': 17500, 'epsilon': 0, 'ep_reward': 8.0, 'timesteps': 8, 'ep_reward_avg': 9.378}\n",
      "{'episode': 18000, 'epsilon': 0, 'ep_reward': 10.0, 'timesteps': 10, 'ep_reward_avg': 9.364}\n",
      "{'episode': 18500, 'epsilon': 0, 'ep_reward': 9.0, 'timesteps': 9, 'ep_reward_avg': 9.338}\n",
      "{'episode': 19000, 'epsilon': 0, 'ep_reward': 10.0, 'timesteps': 10, 'ep_reward_avg': 9.318}\n",
      "{'episode': 19500, 'epsilon': 0, 'ep_reward': 9.0, 'timesteps': 9, 'ep_reward_avg': 9.36}\n",
      "{'episode': 20000, 'epsilon': 0, 'ep_reward': 10.0, 'timesteps': 10, 'ep_reward_avg': 9.314}\n"
     ]
    },
    {
     "data": {
      "image/png": "[encoded data removed]",
      "text/plain": [
       "<Figure size 500x350 with 1 Axes>"
      ]
     },
     "metadata": {},
     "output_type": "display_data"
    },
    {
     "name": "stdout",
     "output_type": "stream",
     "text": [
      "Training done!\n"
     ]
    }
   ],
   "source": [
    "# Initialize the Q function with a value of 0 and begin training\n",
    "if not skip_training:\n",
    "    cfg_args=dict(epsilon=0, initial_q=0, task_no='task3.1') # set the initial estimates of the Q function to 0\n",
    "    train(cfg_path=Path().cwd()/'cfg'/'cartpole_v1.yaml', cfg_args=cfg_args)"
   ]
  },
  {
   "cell_type": "code",
   "execution_count": 36,
   "id": "ee238f34",
   "metadata": {
    "tags": []
   },
   "outputs": [
    {
     "data": {
      "image/png": "[encoded data removed]",
      "text/plain": [
       "<Figure size 640x480 with 2 Axes>"
      ]
     },
     "metadata": {},
     "output_type": "display_data"
    }
   ],
   "source": [
    "# Visual display of the heatmap of the value function\n",
    "if not skip_training:\n",
    "    display_heatmap_vf('CartPole-v1', 'task3.1_q_table_e.pkl')"
   ]
  },
  {
   "cell_type": "code",
   "execution_count": 38,
   "id": "3cc746ac",
   "metadata": {
    "tags": []
   },
   "outputs": [
    {
     "name": "stdout",
     "output_type": "stream",
     "text": [
      "Numpy/Torch/Random Seed:  408\n",
      "{'episode': 0, 'epsilon': 0, 'ep_reward': 9.0, 'timesteps': 9, 'ep_reward_avg': 9.0}\n",
      "{'episode': 500, 'epsilon': 0, 'ep_reward': 22.0, 'timesteps': 22, 'ep_reward_avg': 134.406}\n",
      "{'episode': 1000, 'epsilon': 0, 'ep_reward': 251.0, 'timesteps': 251, 'ep_reward_avg': 184.276}\n",
      "{'episode': 1500, 'epsilon': 0, 'ep_reward': 500.0, 'timesteps': 500, 'ep_reward_avg': 233.008}\n",
      "{'episode': 2000, 'epsilon': 0, 'ep_reward': 214.0, 'timesteps': 214, 'ep_reward_avg': 213.882}\n",
      "{'episode': 2500, 'epsilon': 0, 'ep_reward': 135.0, 'timesteps': 135, 'ep_reward_avg': 224.464}\n",
      "{'episode': 3000, 'epsilon': 0, 'ep_reward': 500.0, 'timesteps': 500, 'ep_reward_avg': 410.636}\n",
      "{'episode': 3500, 'epsilon': 0, 'ep_reward': 453.0, 'timesteps': 453, 'ep_reward_avg': 496.59}\n",
      "{'episode': 4000, 'epsilon': 0, 'ep_reward': 500.0, 'timesteps': 500, 'ep_reward_avg': 497.214}\n",
      "{'episode': 4500, 'epsilon': 0, 'ep_reward': 500.0, 'timesteps': 500, 'ep_reward_avg': 497.088}\n",
      "{'episode': 5000, 'epsilon': 0, 'ep_reward': 500.0, 'timesteps': 500, 'ep_reward_avg': 495.764}\n",
      "{'episode': 5500, 'epsilon': 0, 'ep_reward': 500.0, 'timesteps': 500, 'ep_reward_avg': 490.134}\n",
      "{'episode': 6000, 'epsilon': 0, 'ep_reward': 500.0, 'timesteps': 500, 'ep_reward_avg': 495.344}\n",
      "{'episode': 6500, 'epsilon': 0, 'ep_reward': 500.0, 'timesteps': 500, 'ep_reward_avg': 496.094}\n",
      "{'episode': 7000, 'epsilon': 0, 'ep_reward': 500.0, 'timesteps': 500, 'ep_reward_avg': 487.822}\n",
      "{'episode': 7500, 'epsilon': 0, 'ep_reward': 500.0, 'timesteps': 500, 'ep_reward_avg': 494.228}\n",
      "{'episode': 8000, 'epsilon': 0, 'ep_reward': 500.0, 'timesteps': 500, 'ep_reward_avg': 495.746}\n",
      "{'episode': 8500, 'epsilon': 0, 'ep_reward': 500.0, 'timesteps': 500, 'ep_reward_avg': 495.382}\n",
      "{'episode': 9000, 'epsilon': 0, 'ep_reward': 500.0, 'timesteps': 500, 'ep_reward_avg': 494.224}\n",
      "{'episode': 9500, 'epsilon': 0, 'ep_reward': 498.0, 'timesteps': 498, 'ep_reward_avg': 497.464}\n",
      "{'episode': 10000, 'epsilon': 0, 'ep_reward': 500.0, 'timesteps': 500, 'ep_reward_avg': 494.76}\n",
      "{'episode': 10500, 'epsilon': 0, 'ep_reward': 500.0, 'timesteps': 500, 'ep_reward_avg': 497.042}\n",
      "{'episode': 11000, 'epsilon': 0, 'ep_reward': 500.0, 'timesteps': 500, 'ep_reward_avg': 498.32}\n",
      "{'episode': 11500, 'epsilon': 0, 'ep_reward': 500.0, 'timesteps': 500, 'ep_reward_avg': 497.79}\n",
      "{'episode': 12000, 'epsilon': 0, 'ep_reward': 500.0, 'timesteps': 500, 'ep_reward_avg': 497.01}\n",
      "{'episode': 12500, 'epsilon': 0, 'ep_reward': 500.0, 'timesteps': 500, 'ep_reward_avg': 492.58}\n",
      "{'episode': 13000, 'epsilon': 0, 'ep_reward': 500.0, 'timesteps': 500, 'ep_reward_avg': 494.052}\n",
      "{'episode': 13500, 'epsilon': 0, 'ep_reward': 500.0, 'timesteps': 500, 'ep_reward_avg': 498.124}\n",
      "{'episode': 14000, 'epsilon': 0, 'ep_reward': 500.0, 'timesteps': 500, 'ep_reward_avg': 496.68}\n",
      "{'episode': 14500, 'epsilon': 0, 'ep_reward': 500.0, 'timesteps': 500, 'ep_reward_avg': 499.828}\n",
      "{'episode': 15000, 'epsilon': 0, 'ep_reward': 500.0, 'timesteps': 500, 'ep_reward_avg': 498.43}\n",
      "{'episode': 15500, 'epsilon': 0, 'ep_reward': 500.0, 'timesteps': 500, 'ep_reward_avg': 496.536}\n",
      "{'episode': 16000, 'epsilon': 0, 'ep_reward': 500.0, 'timesteps': 500, 'ep_reward_avg': 498.592}\n",
      "{'episode': 16500, 'epsilon': 0, 'ep_reward': 500.0, 'timesteps': 500, 'ep_reward_avg': 498.202}\n",
      "{'episode': 17000, 'epsilon': 0, 'ep_reward': 500.0, 'timesteps': 500, 'ep_reward_avg': 492.616}\n",
      "{'episode': 17500, 'epsilon': 0, 'ep_reward': 500.0, 'timesteps': 500, 'ep_reward_avg': 449.088}\n",
      "{'episode': 18000, 'epsilon': 0, 'ep_reward': 500.0, 'timesteps': 500, 'ep_reward_avg': 482.276}\n",
      "{'episode': 18500, 'epsilon': 0, 'ep_reward': 500.0, 'timesteps': 500, 'ep_reward_avg': 491.878}\n",
      "{'episode': 19000, 'epsilon': 0, 'ep_reward': 500.0, 'timesteps': 500, 'ep_reward_avg': 494.65}\n",
      "{'episode': 19500, 'epsilon': 0, 'ep_reward': 500.0, 'timesteps': 500, 'ep_reward_avg': 493.286}\n",
      "{'episode': 20000, 'epsilon': 0, 'ep_reward': 465.0, 'timesteps': 465, 'ep_reward_avg': 491.81}\n"
     ]
    },
    {
     "data": {
      "image/png": "[encoded data removed]",
      "text/plain": [
       "<Figure size 500x350 with 1 Axes>"
      ]
     },
     "metadata": {},
     "output_type": "display_data"
    },
    {
     "name": "stdout",
     "output_type": "stream",
     "text": [
      "Training done!\n"
     ]
    }
   ],
   "source": [
    "# Initialize the Q function with a value of 50 and begin training\n",
    "if not skip_training:\n",
    "    cfg_args=dict(epsilon=0, initial_q=50,task_no='task3.2') # set the initial estimates of the Q function to 50\n",
    "    train(cfg_path=Path().cwd()/'cfg'/'cartpole_v1.yaml', cfg_args=cfg_args)"
   ]
  },
  {
   "cell_type": "code",
   "execution_count": 40,
   "id": "d9ed3aaf",
   "metadata": {
    "tags": []
   },
   "outputs": [
    {
     "data": {
      "image/png": "[encoded data removed]",
      "text/plain": [
       "<Figure size 640x480 with 2 Axes>"
      ]
     },
     "metadata": {},
     "output_type": "display_data"
    }
   ],
   "source": [
    "# Visual display of the heatmap of the value function\n",
    "if not skip_training:\n",
    "    display_heatmap_vf('CartPole-v1', 'task3.2_q_table_e.pkl')"
   ]
  },
  {
   "cell_type": "code",
   "execution_count": null,
   "id": "09514150",
   "metadata": {
    "deletable": false,
    "editable": false,
    "nbgrader": {
     "cell_type": "code",
     "checksum": "f9ab1fd48e4583a37a4c80bea1298d51",
     "grade": true,
     "grade_id": "cell-f3641856fbc277ec",
     "locked": true,
     "points": 5,
     "schema_version": 3,
     "solution": false,
     "task": false
    }
   },
   "outputs": [],
   "source": []
  },
  {
   "cell_type": "code",
   "execution_count": null,
   "id": "35d54874-22c9-4367-a262-10399f81c0a2",
   "metadata": {
    "deletable": false,
    "editable": false,
    "nbgrader": {
     "cell_type": "code",
     "checksum": "620e26ec411953c00ef7617e63c34d79",
     "grade": true,
     "grade_id": "cell-1f7e70d287bd137d",
     "locked": true,
     "points": 5,
     "schema_version": 3,
     "solution": false,
     "task": false
    }
   },
   "outputs": [],
   "source": []
  },
  {
   "cell_type": "markdown",
   "id": "fbea9f8b",
   "metadata": {},
   "source": [
    "Based on the results you observed in Task 3, answer the following questions:"
   ]
  },
  {
   "cell_type": "markdown",
   "id": "2f97da87",
   "metadata": {},
   "source": [
    "<a id='Q2'></a>\n",
    "<div class=\" alert alert-warning\">\n",
    "    <h3><b>Student Question 3.1</b> Analyzing Initial Values (5 points) </h3> \n",
    "\n",
    "In which case does the model perform better?\n",
    "    \n",
    "🔝\t<a href='#TOC'><b>Table of Contents</b></a>\n",
    "</div>\n"
   ]
  },
  {
   "cell_type": "markdown",
   "id": "bb220423-a43b-4bd0-a74f-08dc8b992895",
   "metadata": {
    "deletable": false,
    "editable": false,
    "nbgrader": {
     "cell_type": "markdown",
     "checksum": "d749a507f2d6d209cb694f7f837870e5",
     "grade": false,
     "grade_id": "cell-a8f1edecd8ad4cf1",
     "locked": true,
     "schema_version": 3,
     "solution": false,
     "task": false
    },
    "tags": []
   },
   "source": [
    "Options\n",
    "1. The model performs better with initial Q-values of 0\n",
    "2. The model performs better with initial Q-values of 50"
   ]
  },
  {
   "cell_type": "code",
   "execution_count": 41,
   "id": "186bc4b0-0956-41b9-b0d8-4c2ca2702010",
   "metadata": {
    "tags": []
   },
   "outputs": [],
   "source": [
    "# Answer question 3.1 with appropriate option number\n",
    "sq3_1 = 2"
   ]
  },
  {
   "cell_type": "markdown",
   "id": "7d749faf-4b6a-4aaa-9391-385676023219",
   "metadata": {
    "tags": []
   },
   "source": [
    "The following cells are used for grading."
   ]
  },
  {
   "cell_type": "code",
   "execution_count": null,
   "id": "d9de696f-a080-4681-a4fc-adfa09f8290e",
   "metadata": {
    "deletable": false,
    "editable": false,
    "nbgrader": {
     "cell_type": "code",
     "checksum": "275c853e31cbf78906be57b98ca1fd90",
     "grade": true,
     "grade_id": "cell-4ea4b3ce9d0c8a9d",
     "locked": true,
     "points": 5,
     "schema_version": 3,
     "solution": false,
     "task": false
    },
    "tags": []
   },
   "outputs": [],
   "source": []
  },
  {
   "cell_type": "markdown",
   "id": "9a200626",
   "metadata": {},
   "source": [
    "<a id='Q3'></a>\n",
    "<div class=\" alert alert-warning\">\n",
    "    <h3><b>Student Question 3.2</b> Exploration (15 points) </h3> \n",
    "\n",
    "Why is this the case, and how does the initialization of Q values affect exploration?\n",
    "    \n",
    "🔝\t<a href='#TOC'><b>Table of Contents</b></a>\n",
    "</div>\n"
   ]
  },
  {
   "cell_type": "markdown",
   "id": "b505f300-8926-49da-9d75-efcff37e36d3",
   "metadata": {
    "deletable": false,
    "editable": false,
    "nbgrader": {
     "cell_type": "markdown",
     "checksum": "efdab8492c8f43508387a5f41f0c1f28",
     "grade": false,
     "grade_id": "cell-5d5a551743c4c795",
     "locked": true,
     "schema_version": 3,
     "solution": false,
     "task": false
    },
    "tags": []
   },
   "source": [
    "Options\n",
    "\n",
    "1. Higher initial Q-values encourage exploration by making unexplored actions seem more attractive.\n",
    "2. Q-values of 0 make the agent indifferent to all actions initially, leading to diverse exploration.\n",
    "3. Initializing Q-values to 50 creates an \"optimistic\" prior that encourages trying new actions.\n",
    "4. Q-values of 0 promote exploration because the agent needs to try all actions to differentiate their values.\n",
    "5. Higher initial Q-values allow the agent to overcome local optima more easily.\n",
    "6. Initializing to 0 encourages exploration as the agent is more willing to try actions with unknown outcomes.\n",
    "7. Q-values of 0 cause the agent to be overly cautious, avoiding potentially risky but rewarding actions.\n",
    "8. Higher initial Q-values compensate for the lack of explicit exploration in a greedy policy.\n",
    "9. Initializing to 0 promotes a \"blank slate\" approach, allowing the agent to explore without bias.\n",
    "10. With Q-values initialized to 0, the agent tends to stick with the first action it tries due to non-negative rewards.\n",
    "\n"
   ]
  },
  {
   "cell_type": "code",
   "execution_count": 43,
   "id": "deeda856-b1b9-4846-83ad-f3300ab01172",
   "metadata": {
    "tags": []
   },
   "outputs": [],
   "source": [
    "# Answer question 3.2 with appropriate option numbers\n",
    "sq3_2 = [1,3,5,10,8,9]"
   ]
  },
  {
   "cell_type": "markdown",
   "id": "35c51db4-8115-4ed9-b6c6-bea755169295",
   "metadata": {
    "tags": []
   },
   "source": [
    "The following cells are used for grading."
   ]
  },
  {
   "cell_type": "code",
   "execution_count": null,
   "id": "2f3cfa3c-4288-4737-b146-3e6b2b2c4812",
   "metadata": {
    "deletable": false,
    "editable": false,
    "nbgrader": {
     "cell_type": "code",
     "checksum": "9e17ad844248d51df28cd57f9355952d",
     "grade": true,
     "grade_id": "cell-d2fc4c748d4c501f",
     "locked": true,
     "points": 4,
     "schema_version": 3,
     "solution": false,
     "task": false
    },
    "tags": []
   },
   "outputs": [],
   "source": []
  },
  {
   "cell_type": "code",
   "execution_count": null,
   "id": "0b8d7567-3414-4570-a070-def2d5bc5f93",
   "metadata": {
    "deletable": false,
    "editable": false,
    "nbgrader": {
     "cell_type": "code",
     "checksum": "4be9b3f2ea3ba051fe031309d036d678",
     "grade": true,
     "grade_id": "cell-c8e8a3fb8886bcf8",
     "locked": true,
     "points": 4,
     "schema_version": 3,
     "solution": false,
     "task": false
    },
    "tags": []
   },
   "outputs": [],
   "source": []
  },
  {
   "cell_type": "code",
   "execution_count": null,
   "id": "fbf1646f-e247-46fb-bb5c-3e9027d41340",
   "metadata": {
    "deletable": false,
    "editable": false,
    "nbgrader": {
     "cell_type": "code",
     "checksum": "0a3b206426459f462c2faecbd69e1d58",
     "grade": true,
     "grade_id": "cell-b335c5b754e65353",
     "locked": true,
     "points": 4,
     "schema_version": 3,
     "solution": false,
     "task": false
    },
    "tags": []
   },
   "outputs": [],
   "source": []
  },
  {
   "cell_type": "code",
   "execution_count": null,
   "id": "cd959222-2cf3-4553-ad7d-b354e805a92e",
   "metadata": {
    "deletable": false,
    "editable": false,
    "nbgrader": {
     "cell_type": "code",
     "checksum": "b391c37af6f5a1e6afcda83d42141f71",
     "grade": true,
     "grade_id": "cell-ed54ceb0160e9dae",
     "locked": true,
     "points": 3,
     "schema_version": 3,
     "solution": false,
     "task": false
    },
    "tags": []
   },
   "outputs": [],
   "source": []
  },
  {
   "cell_type": "markdown",
   "id": "6176d62f",
   "metadata": {},
   "source": [
    "# 3. Lunar lander <a id='3.'></a>"
   ]
  },
  {
   "cell_type": "markdown",
   "id": "95724c44",
   "metadata": {},
   "source": [
    "<figure style=\"text-align: center\">\n",
    "<img src=\"imgs/lunar_lander.png\" width=\"600px\">\n",
    "<figcaption style=\"text-align: center\"> Figure 2: The Lunar lander environment. </figcaption>\n",
    "</figure>\n",
    "\n",
    "The ***Lunar lander*** environment is shown in Figure 2. The goal is to make the lunar lander land on the ground between two flag poles. The agent receives a positive reward for moving towards the landing pad, landing, etc. A negative reward is given for firing the main engine (more fuel-efficient policies are better) and for crashing. Four actions are available: firing the left/right/main engines, or doing nothing (free fall). The observation vector consists of 6 continuous and 2 discrete values:\n",
    "\n",
    "$$\n",
    "o=\\left(\\begin{array}{llllllll}\n",
    "x & y & \\dot{x} & \\dot{y} & \\theta & \\dot{\\theta} & c_l & c_r\n",
    "\\end{array}\\right)^T,\n",
    "$$\n",
    "\n",
    "where $x$ and $y$ are the coordinates of the lander, $\\dot{x}$ and $\\dot{y}$ its velocities, $\\theta$ represents the rotation angle and $\\dot{\\theta}$ the angular velocity of the lander. Two discrete values $c_l$ and $c_r$  indicate whether the lander’s legs are in contact with the ground (0 or 1).\n"
   ]
  },
  {
   "cell_type": "markdown",
   "id": "3636f10e",
   "metadata": {},
   "source": [
    "<a id='T4'></a>\n",
    "<div class=\" alert alert-warning\">\n",
    "    <h3><b>Student Task 4.</b> Using Q-Learning on the Lunar Lander Environment (5 points) </h3> \n",
    "\n",
    "Run the training for Lunar Lander environment by executing cell ```Training on the Lunar Lander Environment```. Run it for 20000 episodes (which was enough for the Cartpole to learn). **Attach the training performance plot in your submission.**\n",
    "\n",
    "**Heads Up:** The generated file `task4_q_table.pkl` is sizeable, approximately 2 GB. Ensure you **delete** it before submitting. But do not delete the `task4__glie.png` file.\n",
    "    \n",
    "🔝\t<a href='#TOC'><b>Table of Contents</b></a>\n",
    "</div>\n"
   ]
  },
  {
   "cell_type": "code",
   "execution_count": 45,
   "id": "ec43485e",
   "metadata": {
    "tags": []
   },
   "outputs": [
    {
     "name": "stdout",
     "output_type": "stream",
     "text": [
      "Numpy/Torch/Random Seed:  408\n",
      "{'episode': 0, 'epsilon': 1.0, 'ep_reward': -94.54789272433139, 'timesteps': 71, 'ep_reward_avg': -94.54789272433139}\n",
      "{'episode': 500, 'epsilon': 0.0001999600079984003, 'ep_reward': -272.4460736553594, 'timesteps': 117, 'ep_reward_avg': -116.72684020838737}\n",
      "{'episode': 1000, 'epsilon': 9.999000099990002e-05, 'ep_reward': -103.7391337293418, 'timesteps': 397, 'ep_reward_avg': -53.860224921353215}\n",
      "{'episode': 1500, 'epsilon': 6.666222251849878e-05, 'ep_reward': -28.208366000583666, 'timesteps': 85, 'ep_reward_avg': -54.888645238743194}\n",
      "{'episode': 2000, 'epsilon': 4.9997500124993755e-05, 'ep_reward': -69.14415720280678, 'timesteps': 214, 'ep_reward_avg': -53.26366482577508}\n",
      "{'episode': 2500, 'epsilon': 3.9998400063997445e-05, 'ep_reward': -29.090171959039566, 'timesteps': 104, 'ep_reward_avg': -36.382664762956075}\n",
      "{'episode': 3000, 'epsilon': 3.333222225925803e-05, 'ep_reward': -4.936744405159786, 'timesteps': 109, 'ep_reward_avg': -37.64915344257743}\n",
      "{'episode': 3500, 'epsilon': 2.857061226822091e-05, 'ep_reward': -14.041900205696109, 'timesteps': 217, 'ep_reward_avg': -63.535119303639775}\n",
      "{'episode': 4000, 'epsilon': 2.4999375015624612e-05, 'ep_reward': -13.742564675960466, 'timesteps': 150, 'ep_reward_avg': -53.502840984303056}\n",
      "{'episode': 4500, 'epsilon': 2.2221728406035422e-05, 'ep_reward': -13.857524135893456, 'timesteps': 178, 'ep_reward_avg': -67.79985537752685}\n",
      "{'episode': 5000, 'epsilon': 1.999960000799984e-05, 'ep_reward': -90.77252649364237, 'timesteps': 767, 'ep_reward_avg': -56.82188127421873}\n",
      "{'episode': 5500, 'epsilon': 1.8181487609316193e-05, 'ep_reward': -43.7928845661889, 'timesteps': 172, 'ep_reward_avg': -68.76140833848223}\n",
      "{'episode': 6000, 'epsilon': 1.666638889351844e-05, 'ep_reward': -78.96032053158261, 'timesteps': 246, 'ep_reward_avg': -56.33891846559878}\n",
      "{'episode': 6500, 'epsilon': 1.5384378701866124e-05, 'ep_reward': -70.1289708342621, 'timesteps': 165, 'ep_reward_avg': -68.80775032220961}\n",
      "{'episode': 7000, 'epsilon': 1.4285510206997042e-05, 'ep_reward': -83.07095360913974, 'timesteps': 665, 'ep_reward_avg': -61.29639352042928}\n",
      "{'episode': 7500, 'epsilon': 1.3333155557925894e-05, 'ep_reward': -150.7934407917482, 'timesteps': 234, 'ep_reward_avg': -58.613911693933055}\n",
      "{'episode': 8000, 'epsilon': 1.24998437519531e-05, 'ep_reward': 2.1785783339842624, 'timesteps': 86, 'ep_reward_avg': -53.4297435809859}\n",
      "{'episode': 8500, 'epsilon': 1.1764567475676756e-05, 'ep_reward': -83.61451729032137, 'timesteps': 170, 'ep_reward_avg': -45.900368585062026}\n",
      "{'episode': 9000, 'epsilon': 1.1110987655692714e-05, 'ep_reward': -33.55317089207753, 'timesteps': 156, 'ep_reward_avg': -65.00690510304034}\n",
      "{'episode': 9500, 'epsilon': 1.0526204987315923e-05, 'ep_reward': -75.37023698106577, 'timesteps': 162, 'ep_reward_avg': -60.87160859846872}\n",
      "{'episode': 10000, 'epsilon': 9.99990000099999e-06, 'ep_reward': -87.34549211148877, 'timesteps': 266, 'ep_reward_avg': -89.62961896709199}\n",
      "{'episode': 10500, 'epsilon': 9.523718821725508e-06, 'ep_reward': -73.33435399216646, 'timesteps': 361, 'ep_reward_avg': -74.89407459437754}\n",
      "{'episode': 11000, 'epsilon': 9.0908264470323e-06, 'ep_reward': -204.58859358542043, 'timesteps': 282, 'ep_reward_avg': -61.876439910265454}\n",
      "{'episode': 11500, 'epsilon': 8.695576560203825e-06, 'ep_reward': -31.37496352088118, 'timesteps': 150, 'ep_reward_avg': -71.74128484062285}\n",
      "{'episode': 12000, 'epsilon': 8.333263889467588e-06, 'ep_reward': -21.231216130688452, 'timesteps': 571, 'ep_reward_avg': -54.3947952429712}\n",
      "{'episode': 12500, 'epsilon': 7.999936000511995e-06, 'ep_reward': -217.46550934533033, 'timesteps': 365, 'ep_reward_avg': -66.90733601660357}\n",
      "{'episode': 13000, 'epsilon': 7.692248521165222e-06, 'ep_reward': 167.26133272782187, 'timesteps': 943, 'ep_reward_avg': -66.134753389808}\n",
      "{'episode': 13500, 'epsilon': 7.407352538129347e-06, 'ep_reward': -86.49474400986335, 'timesteps': 261, 'ep_reward_avg': -63.942113056594536}\n",
      "{'episode': 14000, 'epsilon': 7.142806122813409e-06, 'ep_reward': 250.85989353761562, 'timesteps': 479, 'ep_reward_avg': -64.91224118318}\n",
      "{'episode': 14500, 'epsilon': 6.896504162040262e-06, 'ep_reward': -96.26483235617529, 'timesteps': 603, 'ep_reward_avg': -73.17614214048177}\n",
      "{'episode': 15000, 'epsilon': 6.6666222225185165e-06, 'ep_reward': -48.75416908585881, 'timesteps': 1000, 'ep_reward_avg': -57.34565981154899}\n",
      "{'episode': 15500, 'epsilon': 6.4515712801852895e-06, 'ep_reward': -108.6737381562729, 'timesteps': 266, 'ep_reward_avg': -71.88965283107848}\n",
      "{'episode': 16000, 'epsilon': 6.249960937744139e-06, 'ep_reward': 179.0895193433954, 'timesteps': 757, 'ep_reward_avg': -64.58248127127507}\n",
      "{'episode': 16500, 'epsilon': 6.06056932988285e-06, 'ep_reward': -116.31034463552264, 'timesteps': 487, 'ep_reward_avg': -66.37613220430052}\n",
      "{'episode': 17000, 'epsilon': 5.882318339303888e-06, 'ep_reward': -70.12824518772601, 'timesteps': 446, 'ep_reward_avg': -57.810166406304}\n",
      "{'episode': 17500, 'epsilon': 5.714253061411078e-06, 'ep_reward': -47.30127981871682, 'timesteps': 325, 'ep_reward_avg': -66.79723447959185}\n",
      "{'episode': 18000, 'epsilon': 5.5555246915294925e-06, 'ep_reward': 16.902087574707295, 'timesteps': 227, 'ep_reward_avg': -66.62310307417938}\n",
      "{'episode': 18500, 'epsilon': 5.405376187155746e-06, 'ep_reward': -179.1868317336698, 'timesteps': 992, 'ep_reward_avg': -64.2916200183661}\n",
      "{'episode': 19000, 'epsilon': 5.263130194051611e-06, 'ep_reward': -204.3717338447936, 'timesteps': 277, 'ep_reward_avg': -66.1683305042748}\n",
      "{'episode': 19500, 'epsilon': 5.1281788298521554e-06, 'ep_reward': -13.93382925057449, 'timesteps': 176, 'ep_reward_avg': -47.89263359023915}\n",
      "{'episode': 20000, 'epsilon': 4.999975000125e-06, 'ep_reward': -81.42261304138448, 'timesteps': 168, 'ep_reward_avg': -49.434485805481664}\n"
     ]
    },
    {
     "data": {
      "image/png": "[encoded data removed]",
      "text/plain": [
       "<Figure size 500x350 with 1 Axes>"
      ]
     },
     "metadata": {},
     "output_type": "display_data"
    },
    {
     "name": "stdout",
     "output_type": "stream",
     "text": [
      "Training done!\n"
     ]
    }
   ],
   "source": [
    "# Training on the Lunar Lander Environment\n",
    "if not skip_training:\n",
    "    cfg_args=dict(epsilon='glie', glie_b=0.1, save_video=False, discr=12) # insert correct value for glie_b\n",
    "    train(cfg_path=Path().cwd()/'cfg'/'lunarlander_v2.yaml', cfg_args=cfg_args) # "
   ]
  },
  {
   "cell_type": "code",
   "execution_count": 50,
   "id": "d7d4481f",
   "metadata": {
    "tags": []
   },
   "outputs": [
    {
     "name": "stdout",
     "output_type": "stream",
     "text": [
      "Numpy/Torch/Random Seed:  408\n"
     ]
    },
    {
     "name": "stderr",
     "output_type": "stream",
     "text": [
      "/opt/software/lib/python3.10/site-packages/gymnasium/wrappers/record_video.py:87: UserWarning: \u001b[33mWARN: Overwriting existing videos at /notebooks/rl2024/ex3/results/LunarLander-v2/video/test folder (try specifying a different `video_folder` for the `RecordVideo` wrapper if this is not desired)\u001b[0m\n",
      "  logger.warn(\n"
     ]
    },
    {
     "ename": "FileNotFoundError",
     "evalue": "[Errno 2] No such file or directory: '/notebooks/rl2024/ex3/results/LunarLander-v2/task4_q_table_glie.pkl'",
     "output_type": "error",
     "traceback": [
      "\u001b[0;31m---------------------------------------------------------------------------\u001b[0m",
      "\u001b[0;31mFileNotFoundError\u001b[0m                         Traceback (most recent call last)",
      "Cell \u001b[0;32mIn[50], line 3\u001b[0m\n\u001b[1;32m      1\u001b[0m \u001b[38;5;28;01mif\u001b[39;00m \u001b[38;5;129;01mnot\u001b[39;00m skip_training:\n\u001b[1;32m      2\u001b[0m     cfg_args\u001b[38;5;241m=\u001b[39m\u001b[38;5;28mdict\u001b[39m(epsilon\u001b[38;5;241m=\u001b[39m\u001b[38;5;124m'\u001b[39m\u001b[38;5;124mglie\u001b[39m\u001b[38;5;124m'\u001b[39m, save_video\u001b[38;5;241m=\u001b[39m\u001b[38;5;28;01mTrue\u001b[39;00m, test_episodes\u001b[38;5;241m=\u001b[39m\u001b[38;5;241m5\u001b[39m)\n\u001b[0;32m----> 3\u001b[0m     \u001b[43mtest\u001b[49m\u001b[43m(\u001b[49m\u001b[43mcfg_path\u001b[49m\u001b[38;5;241;43m=\u001b[39;49m\u001b[43mPath\u001b[49m\u001b[43m(\u001b[49m\u001b[43m)\u001b[49m\u001b[38;5;241;43m.\u001b[39;49m\u001b[43mcwd\u001b[49m\u001b[43m(\u001b[49m\u001b[43m)\u001b[49m\u001b[38;5;241;43m/\u001b[39;49m\u001b[38;5;124;43m'\u001b[39;49m\u001b[38;5;124;43mcfg\u001b[39;49m\u001b[38;5;124;43m'\u001b[39;49m\u001b[38;5;241;43m/\u001b[39;49m\u001b[38;5;124;43m'\u001b[39;49m\u001b[38;5;124;43mlunarlander_v2.yaml\u001b[39;49m\u001b[38;5;124;43m'\u001b[39;49m\u001b[43m,\u001b[49m\u001b[43m \u001b[49m\u001b[43mcfg_args\u001b[49m\u001b[38;5;241;43m=\u001b[39;49m\u001b[43mcfg_args\u001b[49m\u001b[43m)\u001b[49m\n",
      "Cell \u001b[0;32mIn[6], line 77\u001b[0m, in \u001b[0;36mtest\u001b[0;34m(cfg_path, cfg_args)\u001b[0m\n\u001b[1;32m     75\u001b[0m file_pre \u001b[38;5;241m=\u001b[39m \u001b[38;5;124mf\u001b[39m\u001b[38;5;124m\"\u001b[39m\u001b[38;5;132;01m{\u001b[39;00mcfg\u001b[38;5;241m.\u001b[39mtask_no\u001b[38;5;132;01m}\u001b[39;00m\u001b[38;5;124m_\u001b[39m\u001b[38;5;124m\"\u001b[39m \u001b[38;5;28;01mif\u001b[39;00m \u001b[38;5;28mhasattr\u001b[39m(cfg, \u001b[38;5;124m'\u001b[39m\u001b[38;5;124mtask_no\u001b[39m\u001b[38;5;124m'\u001b[39m) \u001b[38;5;28;01melse\u001b[39;00m \u001b[38;5;124m\"\u001b[39m\u001b[38;5;124m\"\u001b[39m\n\u001b[1;32m     76\u001b[0m file \u001b[38;5;241m=\u001b[39m file_pre \u001b[38;5;241m+\u001b[39m \u001b[38;5;124m'\u001b[39m\u001b[38;5;124mq_table_glie.pkl\u001b[39m\u001b[38;5;124m'\u001b[39m \u001b[38;5;28;01mif\u001b[39;00m cfg\u001b[38;5;241m.\u001b[39mepsilon \u001b[38;5;241m==\u001b[39m \u001b[38;5;124m'\u001b[39m\u001b[38;5;124mglie\u001b[39m\u001b[38;5;124m'\u001b[39m \u001b[38;5;28;01melse\u001b[39;00m file_pre \u001b[38;5;241m+\u001b[39m \u001b[38;5;124m'\u001b[39m\u001b[38;5;124mq_table_e.pkl\u001b[39m\u001b[38;5;124m'\u001b[39m\n\u001b[0;32m---> 77\u001b[0m data \u001b[38;5;241m=\u001b[39m \u001b[43mu\u001b[49m\u001b[38;5;241;43m.\u001b[39;49m\u001b[43mload_object\u001b[49m\u001b[43m(\u001b[49m\u001b[43mwork_dir\u001b[49m\u001b[38;5;241;43m/\u001b[39;49m\u001b[43mfile\u001b[49m\u001b[43m)\u001b[49m\n\u001b[1;32m     78\u001b[0m q_axis, q_table \u001b[38;5;241m=\u001b[39m data[\u001b[38;5;124m'\u001b[39m\u001b[38;5;124maxis\u001b[39m\u001b[38;5;124m'\u001b[39m], data[\u001b[38;5;124m'\u001b[39m\u001b[38;5;124mq_table\u001b[39m\u001b[38;5;124m'\u001b[39m]\n\u001b[1;32m     80\u001b[0m \u001b[38;5;66;03m# begin testing\u001b[39;00m\n",
      "File \u001b[0;32m/notebooks/rl2024/ex3/utils.py:9\u001b[0m, in \u001b[0;36mload_object\u001b[0;34m(filename)\u001b[0m\n\u001b[1;32m      8\u001b[0m \u001b[38;5;28;01mdef\u001b[39;00m \u001b[38;5;21mload_object\u001b[39m(filename):\n\u001b[0;32m----> 9\u001b[0m     \u001b[38;5;28;01mwith\u001b[39;00m \u001b[38;5;28;43mopen\u001b[39;49m\u001b[43m(\u001b[49m\u001b[43mfilename\u001b[49m\u001b[43m,\u001b[49m\u001b[43m \u001b[49m\u001b[38;5;124;43m'\u001b[39;49m\u001b[38;5;124;43mrb\u001b[39;49m\u001b[38;5;124;43m'\u001b[39;49m\u001b[43m)\u001b[49m \u001b[38;5;28;01mas\u001b[39;00m f:\n\u001b[1;32m     10\u001b[0m         data \u001b[38;5;241m=\u001b[39m pickle\u001b[38;5;241m.\u001b[39mload(f)\n\u001b[1;32m     11\u001b[0m     \u001b[38;5;28;01mreturn\u001b[39;00m data\n",
      "\u001b[0;31mFileNotFoundError\u001b[0m: [Errno 2] No such file or directory: '/notebooks/rl2024/ex3/results/LunarLander-v2/task4_q_table_glie.pkl'"
     ]
    }
   ],
   "source": [
    "if not skip_training:\n",
    "    cfg_args=dict(epsilon='glie', save_video=True, test_episodes=5)\n",
    "    test(cfg_path=Path().cwd()/'cfg'/'lunarlander_v2.yaml', cfg_args=cfg_args)"
   ]
  },
  {
   "cell_type": "code",
   "execution_count": 47,
   "id": "05937429-abca-4681-b88a-f5f3f63eb8d5",
   "metadata": {
    "tags": []
   },
   "outputs": [],
   "source": [
    "# deleting Q-table due to its size as it's not needed for grading.\n",
    "q_table_path = Path().cwd()/'results'/'LunarLander-v2'/'task4_q_table_glie.pkl'\n",
    "if os.path.exists(q_table_path):\n",
    "    os.remove(q_table_path)"
   ]
  },
  {
   "cell_type": "code",
   "execution_count": 48,
   "id": "b2f33113",
   "metadata": {
    "tags": []
   },
   "outputs": [
    {
     "data": {
      "text/html": [
       "<video loop autoplay  >\n",
       " <source src=\"data:video/mp4;base64,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\" type=\"video/mp4\">\n",
       " Your browser does not support the video tag.\n",
       " </video>"
      ],
      "text/plain": [
       "<IPython.core.display.Video object>"
      ]
     },
     "metadata": {},
     "output_type": "display_data"
    }
   ],
   "source": [
    "if not skip_training:\n",
    "      video = Video(Path().cwd()/'results'/'LunarLander-v2'/'video'/'test'/'ex3-episode-4.mp4',\n",
    "      embed=True, html_attributes=\"loop autoplay\") # Set html_attributes=\"controls\" for video control\n",
    "      display(video)"
   ]
  },
  {
   "cell_type": "code",
   "execution_count": null,
   "id": "9ff0a252",
   "metadata": {
    "deletable": false,
    "editable": false,
    "nbgrader": {
     "cell_type": "code",
     "checksum": "650c9f3243d0a1d2956190dcf3759aa0",
     "grade": true,
     "grade_id": "cell-d29073ccaa4d44b2",
     "locked": true,
     "points": 5,
     "schema_version": 3,
     "solution": false,
     "task": false
    }
   },
   "outputs": [],
   "source": []
  },
  {
   "cell_type": "markdown",
   "id": "39cd6a58",
   "metadata": {
    "deletable": false,
    "editable": false,
    "nbgrader": {
     "cell_type": "markdown",
     "checksum": "7a0f5b818b10379e790e0b2d75e9484d",
     "grade": false,
     "grade_id": "cell-a471f8bfee9e6a17",
     "locked": true,
     "schema_version": 3,
     "solution": false,
     "task": false
    },
    "tags": []
   },
   "source": [
    "<a id='Q4'></a>\n",
    "<div class=\" alert alert-warning\">\n",
    "    <h3><b>Student Question 4.1</b> Lunar Lander Performance (15 points) </h3> \n",
    "\n",
    "Why doesn't the Lunar Lander learn to land consistently between the flag poles after 20,000 episodes? Select all that apply.\n",
    "\n",
    "    \n",
    "🔝\t<a href='#TOC'><b>Table of Contents</b></a>\n",
    "</div>\n"
   ]
  },
  {
   "cell_type": "markdown",
   "id": "8dd97212-ad22-4953-9a22-35d8133b9738",
   "metadata": {
    "deletable": false,
    "editable": false,
    "nbgrader": {
     "cell_type": "markdown",
     "checksum": "a2574c891d50448fac57514f8f74d7c6",
     "grade": false,
     "grade_id": "cell-908548faad54e815",
     "locked": true,
     "schema_version": 3,
     "solution": false,
     "task": false
    },
    "tags": []
   },
   "source": [
    "Options\n",
    "1. The lunar lander's dynamics are too complex for a simple Q-learning approach\n",
    "2. The discretization of continuous states causes loss of crucial information\n",
    "3. The Q-learning algorithm struggles with high-dimensional state spaces\n",
    "4. The reward function may not provide enough guidance for precise landing\n",
    "5. The epsilon-greedy strategy may not provide sufficient exploration for Q-learning\n",
    "6. 20,000 episodes is insufficient for the Q-learning algorithm to converge in lunar lander\n",
    "7. The state space is too large for efficient exploration\n",
    "8. The combination of continuous state space and discrete action space is challenging"
   ]
  },
  {
   "cell_type": "code",
   "execution_count": 49,
   "id": "d7e70b5a-f9df-4ca7-bb0f-c42937027d86",
   "metadata": {
    "tags": []
   },
   "outputs": [],
   "source": [
    "# Answer question 4.2 with appropriate option numbers\n",
    "sq4_2 = [6, 7, 3, 5, 1]"
   ]
  },
  {
   "cell_type": "markdown",
   "id": "edb8fc54-59b1-4ecc-b56f-bab48c1d2964",
   "metadata": {},
   "source": [
    "The following cells are used for grading."
   ]
  },
  {
   "cell_type": "code",
   "execution_count": null,
   "id": "fb6e71fd-4f1a-4087-afbe-6a52c162832b",
   "metadata": {
    "deletable": false,
    "editable": false,
    "nbgrader": {
     "cell_type": "code",
     "checksum": "c4acdc343437df35b85f1eb5bfd75de1",
     "grade": true,
     "grade_id": "cell-40dbcf45474410e7",
     "locked": true,
     "points": 4,
     "schema_version": 3,
     "solution": false,
     "task": false
    },
    "tags": []
   },
   "outputs": [],
   "source": []
  },
  {
   "cell_type": "code",
   "execution_count": null,
   "id": "2a7d0d12-166c-4c4c-ae24-1d10d4488b3e",
   "metadata": {
    "deletable": false,
    "editable": false,
    "nbgrader": {
     "cell_type": "code",
     "checksum": "1eed6ae7a6b2fd0e983742243c77a37a",
     "grade": true,
     "grade_id": "cell-6667bcd9d943e6f3",
     "locked": true,
     "points": 4,
     "schema_version": 3,
     "solution": false,
     "task": false
    },
    "tags": []
   },
   "outputs": [],
   "source": []
  },
  {
   "cell_type": "code",
   "execution_count": null,
   "id": "d61efda9-0a20-4005-99f9-8cfe30fe0874",
   "metadata": {
    "deletable": false,
    "editable": false,
    "nbgrader": {
     "cell_type": "code",
     "checksum": "f4d89233545978970fc3c3fd99372c4a",
     "grade": true,
     "grade_id": "cell-13d4526e844ef54e",
     "locked": true,
     "points": 4,
     "schema_version": 3,
     "solution": false,
     "task": false
    },
    "tags": []
   },
   "outputs": [],
   "source": []
  },
  {
   "cell_type": "code",
   "execution_count": null,
   "id": "d82da6a3-4931-4749-a8ef-eb24d190b917",
   "metadata": {
    "deletable": false,
    "editable": false,
    "nbgrader": {
     "cell_type": "code",
     "checksum": "c96eabd6af98e4108d2b2ccd70cd94ef",
     "grade": true,
     "grade_id": "cell-a705852648c0ce3b",
     "locked": true,
     "points": 3,
     "schema_version": 3,
     "solution": false,
     "task": false
    },
    "tags": []
   },
   "outputs": [],
   "source": []
  },
  {
   "cell_type": "markdown",
   "id": "98e534eb",
   "metadata": {},
   "source": [
    "# 4. Submitting <a id='4.'></a>\n",
    "Ensure all tasks and questions (in ```ex3.ipynb```) are answered and the relevant plots are recorded in the relevant places. Details about attaching images and figures can be found below. The relevant graphs to be included for this assignment are:\n",
    "\n",
    "\n",
    "- Training performance plots:\n",
    "  - `task1_e.png`: Cartpole, constant value of $\\epsilon$ training performance plots in terms of episode and smoothed episodic reward\n",
    "  - `task1_glie.png`: Cartpole, GLIE training performance plots in terms of episode and smoothed episodic reward\n",
    "  - `task3.1_e.png`: Cartpole, training performance plots of the initial estimates of the Q function at 0 \n",
    "  - `task3.2_e.png`: Cartpole, training performance plots of the initial estimates of the Q function at 50\n",
    "  - `task4_glie.png`: Luner Lander, training performance plots in terms of episode and smoothed episodic reward\n",
    "- Q-table files:\n",
    "  - `task1_q_table_e.pkl`: Cartpole, Q-table for the constant exploration rate.\n",
    "  - `task1_q_table_glie.pkl`: Cartpole, Q-table for GLIE.\n",
    "\n",
    "\n",
    "Ensure the correct model files and plots are saved:\n",
    "- ```results/CartPole-v1/task1_e.png``` From Task 1\n",
    "- ```results/CartPole-v1/task1_glie.png``` From Task 1\n",
    "- ```results/CartPole-v1/task1_q_table_e.pkl``` From Task 1\n",
    "- ```results/CartPole-v1/task1_q_table_glie.pkl``` From Task 1\n",
    "- ```results/CartPole-v1/task3.1__e.png``` From Task 3\n",
    "- ```results/CartPole-v1/task3.2__e.png``` From Task 3\n",
    "- ```results/LunarLander-v2/task4__glie.png``` From Task 4\n"
   ]
  },
  {
   "cell_type": "code",
   "execution_count": null,
   "id": "15c6c5b4",
   "metadata": {},
   "outputs": [],
   "source": [
    "# Make sure that skip training is set to True before submission\n",
    "assert skip_training == True"
   ]
  },
  {
   "cell_type": "markdown",
   "id": "4fdb3823",
   "metadata": {},
   "source": [
    "## 4.1 Feedback <a id='4.1'></a>\n",
    "\n",
    "In order to help the staff of the course as well as the forthcoming students, it would be great if you could answer to the following questions in your submission:"
   ]
  },
  {
   "cell_type": "markdown",
   "id": "1a19aa8d-6ce6-4688-b6f8-db0ae3caa596",
   "metadata": {},
   "source": [
    "1) How much time did you spend solving this exercise? (change the ```hrs``` variable below to a floating point number representing the number of hours taken e.g. 5.43)"
   ]
  },
  {
   "cell_type": "code",
   "execution_count": null,
   "id": "5b7c8370-ff84-4dc9-aab8-596782c55d62",
   "metadata": {
    "tags": []
   },
   "outputs": [],
   "source": [
    "hrs = None"
   ]
  },
  {
   "cell_type": "markdown",
   "id": "75d254d1-ad16-4c10-87a6-72afb79d49fe",
   "metadata": {},
   "source": [
    "2) Difficulty of each task/question from 1-5 (int or float)"
   ]
  },
  {
   "cell_type": "code",
   "execution_count": null,
   "id": "58193777-64de-4d7c-be84-249d34e1c027",
   "metadata": {
    "tags": []
   },
   "outputs": [],
   "source": [
    "T1 = None   # Student Task 1. Implementing Q-Learning (25 points)\n",
    "T2 = None   # Student Task 2. Visualizing the Value Function (10 points)\n",
    "Q2_1 = None # Student Question 2.1 Analyzing the Value Function Heatmap (15 points)\n",
    "T3 = None   # Student Task 3. Investigating Initial Values (10 points)\n",
    "Q3_1 = None # Student Question 3.1 Analyzing Initial Values (5 points)\n",
    "Q3_2 = None # Student Question 3.2 Exploration (15 points)\n",
    "T4 = None   # Student Task 4. Using Q-Learning on the Lunar Lander Environment (5 points)\n",
    "Q4_1 = None # Student Question 4.1 Lunar Lander Performance (15 points)"
   ]
  },
  {
   "cell_type": "markdown",
   "id": "af146c4d-9475-4c0b-8b43-823fc345a584",
   "metadata": {},
   "source": [
    "3) How well did you understand the content of the task/question from 1-5? (int or float)"
   ]
  },
  {
   "cell_type": "code",
   "execution_count": null,
   "id": "0f5a460a-eb5b-45e4-a091-7153416dbd43",
   "metadata": {
    "tags": []
   },
   "outputs": [],
   "source": [
    "T1 = None   # Student Task 1. Implementing Q-Learning (25 points)\n",
    "T2 = None   # Student Task 2. Visualizing the Value Function (10 points)\n",
    "Q2_1 = None # Student Question 2.1 Analyzing the Value Function Heatmap (15 points)\n",
    "T3 = None   # Student Task 3. Investigating Initial Values (10 points)\n",
    "Q3_1 = None # Student Question 3.1 Analyzing Initial Values (5 points)\n",
    "Q3_2 = None # Student Question 3.2 Exploration (15 points)\n",
    "T4 = None   # Student Task 4. Using Q-Learning on the Lunar Lander Environment (5 points)\n",
    "Q4_1 = None # Student Question 4.1 Lunar Lander Performance (15 points)"
   ]
  },
  {
   "cell_type": "markdown",
   "id": "3de4ebe0-4012-42fd-90ae-2c8e386afa4f",
   "metadata": {},
   "source": [
    "4) General feedback. Consider questions like:\n",
    "\n",
    "    - Did the content of the lecture relate well with the assignment?\n",
    "    - To what extent did you find the material to be potentially useful for your research and studies?\n",
    "    \n",
    "And other feedback you think is worth including. Type in the box below"
   ]
  },
  {
   "cell_type": "markdown",
   "id": "d67c9543-3652-4311-ad4d-6b6a087e5587",
   "metadata": {
    "tags": []
   },
   "source": [
    "DOUBLE CLICK HERE TO EDIT, CLEAR THIS TEXT AND ANSWER HERE"
   ]
  }
 ],
 "metadata": {
  "kernelspec": {
   "display_name": "Python 3",
   "language": "python",
   "name": "python3"
  },
  "language_info": {
   "codemirror_mode": {
    "name": "ipython",
    "version": 3
   },
   "file_extension": ".py",
   "mimetype": "text/x-python",
   "name": "python",
   "nbconvert_exporter": "python",
   "pygments_lexer": "ipython3",
   "version": "3.10.12"
  }
 },
 "nbformat": 4,
 "nbformat_minor": 5
}
