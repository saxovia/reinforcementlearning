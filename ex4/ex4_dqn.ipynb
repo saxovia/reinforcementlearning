{
 "cells": [
  {
   "cell_type": "markdown",
   "id": "53274fb5",
   "metadata": {
    "deletable": false,
    "editable": false,
    "nbgrader": {
     "cell_type": "markdown",
     "checksum": "5bba742b91375ed640d206a3c9f351e5",
     "grade": false,
     "grade_id": "cell-7dd133571740e15f",
     "locked": true,
     "schema_version": 3,
     "solution": false,
     "task": false
    }
   },
   "source": [
    "\n",
    "<div class=\"alert alert-block alert-info\">\n",
    "   <h2 align=\"center\"> <center><b> Reinforcement Learning Assignment 4 - Function Approximators Part 2: Deep Q Network </b></center></h2>\n",
    "\n",
    "<br>\n",
    "<center><font size=\"3\">This notebook is a part of teaching material for ELEC-E8125</font></center>\n",
    "<center><font size=\"3\">Aalto University</font></center>\n",
    "</div>\n",
    "\n",
    "\n",
    "<a id='TOC'></a>\n",
    "\n",
    "<div class=\"alert alert-block alert-success\">\n",
    "    \n",
    "# Table of contents\n",
    "* <a href='#1.'> 1. Introduction </a>\n",
    "* <a href='#1.1'> 1.1 Task environments </a>\n",
    "* <a href='#1.2'> 1.2 Learning Objectives </a>\n",
    "* <a href='#1.3'> 1.3 Code Structure & Files </a>\n",
    "* <a href='#1.4'> 1.4 Execution time </a>\n",
    "* <a href='#2.'> 2. A (not-so-)deep Q-network</a>\n",
    "* <a href='#3.'> 3. Submitting </a>\n",
    "* <a href='#3.1'> 3.1 Feedback </a>\n",
    "\n",
    "<a href='#T1'><b>Student Task 1.</b> Implementing DQN (10 points) </a>\\\n",
    "<a href='#Q1'><b>Student Question 1.1</b> Considering Continuous Action Spaces (5 points) </a>\\\n",
    "<a href='#Q2'><b>Student Question 1.2</b> Continuous Action Spaces Part 1 (15 points) </a>\\\n",
    "<a href='#Q3'><b>Student Question 1.3</b> The Target Network (10 points) </a>\n",
    " \n",
    "\n",
    "**Total Points:** 40\n",
    "\n",
    "**Estimated runtime of all the cells:** 2 hours"
   ]
  },
  {
   "cell_type": "markdown",
   "id": "9fb3bd96",
   "metadata": {
    "deletable": false,
    "editable": false,
    "nbgrader": {
     "cell_type": "markdown",
     "checksum": "2ccf0d452335e813bfc82782639cf8f7",
     "grade": false,
     "grade_id": "cell-ebc6fa2d1ab8fcf9",
     "locked": true,
     "schema_version": 3,
     "solution": false,
     "task": false
    }
   },
   "source": [
    "# 1. Introduction <a id='1.'></a>\n",
    "\n",
    "In various real-world scenarios, dealing with high-dimensional state spaces makes it impractical to compute and store Q-values for every possible state-action pair in a Q-table. To address this challenge, we turn to function approximators. In this assignment, you will progress creating a basic Deep Q-Network (DQN) in the **Cartpole** and **LunarLander** environment.\n",
    "\n",
    "**Please start working on this assignment early since the DQN will take some time to train.**\n",
    "\n",
    "\n",
    "<div style=\"display:flex\">\n",
    "     <div style=\"flex:1;padding-left:100px;\">\n",
    "          <img src=\"imgs/cartpole.png\" width=\"300\"/>\n",
    "         <figcaption style=\"flex:1;padding-left:20px;\">  Figure 1: The Cartpole environment. </figcaption>\n",
    "     </div>\n",
    "     <div style=\"flex:1;padding-left:70px;\">\n",
    "          <img src=\"imgs/lunar_lander.png\" width=\"300\"/>\n",
    "         <figcaption style=\"flex:1;padding-left:20px;\">  Figure 2: The Lunarlander environment. </figcaption>\n",
    "     </div>\n",
    "\n",
    "</div>\n",
    "\n",
    "Useful Sources:\n",
    "\n",
    "- Mnih, Volodymyr, et al. \"Playing atari with deep reinforcement learning.\" arXiv preprint arXiv:1312.5602 (2013). https://arxiv.org/pdf/1312.5602.pdf\n",
    "\n",
    "\n",
    "## 1.1 Task environments: <a id='1.1'></a>\n",
    "In this excercise, we will mainly use DQN for two tasks:\n",
    "- Cartpole(https://gymnasium.farama.org/environments/classic_control/cart_pole/): This environment corresponds to the version of the cart-pole problem described by Barto, Sutton, and Anderson in “Neuronlike Adaptive Elements That Can Solve Difficult Learning Control Problem”. A pole is attached by an un-actuated joint to a cart, which moves along a frictionless track. The pendulum is placed upright on the cart and the goal is to balance the pole by applying forces in the left and right direction on the cart.\n",
    "\n",
    "- Lunar Lander (https://gymnasium.farama.org/environments/box2d/lunar_lander/): This environment is a classic rocket trajectory optimization problem. According to Pontryagin’s maximum principle, it is optimal to fire the engine at full throttle or turn it off. This is the reason why this environment has discrete actions: engine on or off.\n",
    "\n",
    "## 1.2 Learning Objectives: <a id='1.1'></a>\n",
    "- Understand why and how function approximators can be used for Q-learning\n",
    "- Understand the Deep Q-Network RL algorithm\n",
    "\n",
    "## 1.3 Code Structure & Files <a id='1.2'></a>\n",
    "\n",
    "```ex4_dqn.ipynb``` is the file needed to be modified for this part of the assignment.  \n",
    "\n",
    "<span style=\"color:red\"> **# IMPORTANT: DO NOT FORGET ANOTHER TASK IN ```ex4_rbf.ipynb```** </span>\n",
    "\n",
    "```\n",
    "├───cfg                            # Config files for environments\n",
    "├───imgs                           # Images used in notebook\n",
    "├───results\n",
    "│   └───CartPole-v1\n",
    "│   │   ├───logging                \n",
    "│   │   │    └───logging.pkl        # Contains logged data\n",
    "│   │   ├───model              \n",
    "│   │   │    └───*dqn.pt            # Contains trained model\n",
    "│   │   └───video                   # Videos saved\n",
    "│   │   └───*cartpole_dqn.png       # Contains training performance plot\n",
    "│   └───LunarLander-v2\n",
    "│   │   ├───logging                \n",
    "│   │   │    └───logging.pkl        # Contains logged data\n",
    "│   │   ├───model              \n",
    "│   │   │    └───*dqn.pt            # Contains trained model\n",
    "│   │   └───video                   # Videos saved\n",
    "│   │   └───*lunarlander_dqn.png    # Contains training performance plot\n",
    "│   ex4_dqn.ipynb                   # 2nd assignment file containing tasks <---------This task\n",
    "│   ex4_rbf.ipynb                   # 1st assignment file containing tasks <---------\n",
    "│   train.py                        # Contains train and test functions \n",
    "│   utils.py                        # Contains useful functions \n",
    "└───buffer.py                       # Contains buffer functions\n",
    "```\n",
    "\n",
    "## 1.4 Execution time <a id='1.4'></a>\n",
    "\n",
    "The training of these methods might take more than 40 mins depends on the server. If you have problem of experiment running takes too much time, you can download the jupyter notebook and test it locally."
   ]
  },
  {
   "cell_type": "markdown",
   "id": "c6968238",
   "metadata": {
    "deletable": false,
    "editable": false,
    "nbgrader": {
     "cell_type": "markdown",
     "checksum": "47530e48db6901812adae6ba0239bc2d",
     "grade": false,
     "grade_id": "cell-fdd24e05653d4a99",
     "locked": true,
     "schema_version": 3,
     "solution": false,
     "task": false
    }
   },
   "source": [
    "## Warnings:\n",
    "\n",
    "- Don’t copy and paste cells within a notebook. This will mess up the tracking metadata and prevent autograding from working.\n",
    "- Only add new cells using the '+' button in the upper toolbar and do not split cells.\n",
    "- Be cautious about things such as copying the whole notebook to Colab to work on it. This has sometimes resulted in removing all notebook metadata, making autograding impossible."
   ]
  },
  {
   "cell_type": "markdown",
   "id": "2cba7612-914b-4860-b019-7dc32b075b6b",
   "metadata": {
    "deletable": false,
    "editable": false,
    "nbgrader": {
     "cell_type": "markdown",
     "checksum": "8ead3054091bb4a4807d085110e4ebc7",
     "grade": false,
     "grade_id": "cell-3c7108bbf5fe22bf",
     "locked": true,
     "schema_version": 3,
     "solution": false,
     "task": false
    },
    "tags": []
   },
   "source": [
    "# 2. A (not-so-)deep Q-network <a id='2.'></a>"
   ]
  },
  {
   "cell_type": "markdown",
   "id": "00b2f2ea",
   "metadata": {
    "deletable": false,
    "editable": false,
    "nbgrader": {
     "cell_type": "markdown",
     "checksum": "a84e8c7719f42c54880e4a2a07f85574",
     "grade": false,
     "grade_id": "cell-af25de8f4a4da8d9",
     "locked": true,
     "schema_version": 3,
     "solution": false,
     "task": false
    }
   },
   "source": [
    "<a id='T1'></a>\n",
    "<div class=\" alert alert-warning\">\n",
    "    <h3><b>Student Task 1.</b> Implementing DQN (10 points) </h3> \n",
    "\n",
    "Finish the incomplete code in DQNAgent (functions ```update``` and ```get_action```, marked with ```TODO```) to implement a DQN agent.\n",
    "\n",
    "**See Figure 3 for an example training performance plot for cartpole. Save the training performance plots, and check if they are in the right place (the paths please refer to <a href='#3.'>Submitting<a>).**\n",
    "\n",
    "<figure style=\"text-align: center\">\n",
    "<img src=\"imgs/dqn.png\" width=\"300px\">\n",
    "<figcaption style=\"text-align: center\"> Figure 3: The training performance plot for cartpole-dqn might look something like this. </figcaption>\n",
    "</figure>\n",
    "    \n",
    "🔝\t<a href='#TOC'><b>Table of Contents</b></a>\n",
    "</div>\n"
   ]
  },
  {
   "cell_type": "code",
   "execution_count": 49,
   "id": "4284bfc0",
   "metadata": {
    "tags": []
   },
   "outputs": [],
   "source": [
    "skip_training = True  # Set this flag to True before validation and submission"
   ]
  },
  {
   "cell_type": "code",
   "execution_count": null,
   "id": "6c9a2760",
   "metadata": {
    "deletable": false,
    "editable": false,
    "nbgrader": {
     "cell_type": "code",
     "checksum": "578a265f70c27c97dcec1ac8b16d4362",
     "grade": true,
     "grade_id": "cell-6421cfde6887e896",
     "locked": true,
     "points": 0,
     "schema_version": 3,
     "solution": false,
     "task": false
    }
   },
   "outputs": [],
   "source": []
  },
  {
   "cell_type": "code",
   "execution_count": 9,
   "id": "ec1d14d1",
   "metadata": {
    "tags": []
   },
   "outputs": [],
   "source": [
    "import sys, os\n",
    "sys.path.insert(0, os.path.abspath(\"..\"))\n",
    "from typing import List\n",
    "import numpy as np\n",
    "import torch, random, copy, yaml, time\n",
    "import torch.nn as nn\n",
    "import torch.optim as optim\n",
    "import torch.nn.functional as F\n",
    "from pathlib import Path\n",
    "\n",
    "import utils as u\n",
    "import train as t\n",
    "\n",
    "from IPython.display import Video # to display videos\n",
    "\n",
    "device = 'cpu'"
   ]
  },
  {
   "cell_type": "code",
   "execution_count": 10,
   "id": "b2c93182",
   "metadata": {
    "tags": []
   },
   "outputs": [],
   "source": [
    "def mlp(in_dim, mlp_dims: List[int], out_dim, act_fn=nn.ReLU, out_act=nn.Identity):\n",
    "    \"\"\"Returns an MLP.\"\"\"\n",
    "    if isinstance(mlp_dims, int): raise ValueError(\"mlp dimensions should be list, but got int.\")\n",
    "\n",
    "    layers = [nn.Linear(in_dim, mlp_dims[0]), act_fn()]\n",
    "    for i in range(len(mlp_dims)-1):\n",
    "        layers += [nn.Linear(mlp_dims[i], mlp_dims[i+1]), act_fn()]\n",
    "    # the output layer\n",
    "    layers += [nn.Linear(mlp_dims[-1], out_dim), out_act()]\n",
    "    return nn.Sequential(*layers)"
   ]
  },
  {
   "cell_type": "code",
   "execution_count": 20,
   "id": "6c01a546",
   "metadata": {
    "tags": []
   },
   "outputs": [],
   "source": [
    "class DQNAgent(object):\n",
    "    def __init__(self, state_shape, n_actions,\n",
    "                 batch_size=32, hidden_dims=[12], gamma=0.98, lr=1e-3, grad_clip_norm=1000, tau=0.001):\n",
    "        self.n_actions = n_actions\n",
    "        self.state_dim = state_shape[0]\n",
    "        self.policy_net = mlp(self.state_dim, hidden_dims, n_actions).to(device)\n",
    "        self.target_net = copy.deepcopy(self.policy_net)\n",
    "        self.target_net.eval()\n",
    "        self.optimizer = optim.Adam(self.policy_net.parameters(), lr=float(lr))\n",
    "\n",
    "        self.batch_size = batch_size\n",
    "        self.gamma = gamma\n",
    "        self.grad_clip_norm = grad_clip_norm\n",
    "        self.tau = tau\n",
    "        \n",
    "        self.counter = 0\n",
    "\n",
    "    def update(self, buffer):\n",
    "        \"\"\" One gradient step, update the policy net.\"\"\"\n",
    "        start = time.perf_counter()\n",
    "        self.counter += 1\n",
    "        # Do one step gradient update\n",
    "        batch = buffer.sample(self.batch_size, device=device)\n",
    "        # Hint:\n",
    "        #    state = batch.state\n",
    "        #    action = batch.action \n",
    "        #    next_state = batch.next_state\n",
    "        #    reward = batch.reward \n",
    "        #    not_done = batch.not_done \n",
    "        \n",
    "        # TODO: Task 3: Finish the DQN implementation.\n",
    "        # Hints: 1. You can use torch.gather() to gather values along an axis specified by dim. \n",
    "        #        2. torch.max returns a namedtuple (values, indices) where values is the maximum \n",
    "        #           value of each row of the input tensor in the given dimension dim.\n",
    "        #           And indices is the index location of each maximum value found (argmax).\n",
    "        #        3.  batch is a namedtuple, which has state, action, next_state, not_done, reward\n",
    "        #           you can access the value be batch.<name>, e.g, batch.state\n",
    "        #        4. check torch.nn.utils.clip_grad_norm_() to know how to clip grad norm\n",
    "        #        5. You can go throught the PyTorch Tutorial given on MyCourses if you are not familiar with it. \n",
    "        # calculate the q(s,a)\n",
    "        ########## You code starts here #########\n",
    "     \n",
    "        #1\n",
    "        #temp = self.policy_net(batch.state)\n",
    "        qs = torch.gather(self.policy_net(batch.state),1, batch.action.type(torch.int64))\n",
    "        #2\n",
    "        vals = torch.max(self.target_net(batch.next_state), dim=1)[0].unsqueeze(-1) * batch.not_done\n",
    "        \n",
    "        targetq = batch.reward+ self.gamma * vals\n",
    "        \n",
    "        #3\n",
    "        loss = ((qs - targetq)**2 * 0.5).sum()\n",
    "        self.optimizer.zero_grad()\n",
    "        \n",
    "        loss.backward()\n",
    "        #4\n",
    "        torch.nn.utils.clip_grad_norm_(self.policy_net.parameters(), self.grad_clip_norm)\n",
    "        self.optimizer.step()\n",
    "        \n",
    "        ########## You code ends here #########\n",
    "\n",
    "        # update the target network\n",
    "        u.soft_update_params(self.policy_net, self.target_net, self.tau)\n",
    "        \n",
    "        end = time.perf_counter()\n",
    "        update_time = end - start\n",
    "        return {'loss': loss.item(), \n",
    "                'q_mean': qs.mean().item(),\n",
    "                'num_update': self.counter,\n",
    "                'update_time': update_time}\n",
    "\n",
    "\n",
    "    @torch.no_grad()\n",
    "    def get_action(self, state, epsilon=0.05):\n",
    "        # TODO:  Task 3: implement epsilon-greedy action selection\n",
    "        ########## You code starts here #########\n",
    "        p = np.random.uniform(0, 1)\n",
    "        if p < epsilon:\n",
    "            action = np.random.randint(0,self.n_actions)\n",
    "        else:\n",
    "            q = self.policy_net(torch.tensor(state))\n",
    "            indices = torch.argmax(q).unsqueeze(0)\n",
    "            action = indices.detach().cpu().numpy()\n",
    "        ########## You code ends here #########\n",
    "        return action\n",
    "\n",
    "\n",
    "    def save(self, fp):\n",
    "        path = fp/'dqn.pt'\n",
    "        torch.save({\n",
    "            'policy': self.policy_net.state_dict(),\n",
    "            'policy_target': self.target_net.state_dict()\n",
    "        }, path)\n",
    "\n",
    "    def load(self, fp):\n",
    "        path = fp/'dqn.pt'\n",
    "        d = torch.load(path)\n",
    "        self.policy_net.load_state_dict(d['policy'])\n",
    "        self.target_net.load_state_dict(d['policy_target'])"
   ]
  },
  {
   "cell_type": "code",
   "execution_count": 21,
   "id": "d1d97e7d",
   "metadata": {
    "tags": []
   },
   "outputs": [],
   "source": [
    "# init agent\n",
    "with open(Path().cwd()/'cfg'/'cartpole_dqn.yaml', 'r') as f:\n",
    "    cfg = t.Struct(**yaml.safe_load(f))\n",
    "    \n",
    "agent = DQNAgent(state_shape=cfg.state_shape, n_actions=cfg.n_actions, batch_size=cfg.batch_size, hidden_dims=cfg.hidden_dims,\n",
    "                 gamma=cfg.gamma, lr=cfg.lr, tau=cfg.tau)"
   ]
  },
  {
   "cell_type": "code",
   "execution_count": 22,
   "id": "35fc3169",
   "metadata": {
    "tags": []
   },
   "outputs": [
    {
     "name": "stdout",
     "output_type": "stream",
     "text": [
      "Numpy/Torch/Random Seed:  436\n",
      "{'ep_reward': 13.0, 'episode': 0, 'epsilon': 1.0, 'ep_avr': 0.001481384038925171, 'ts_avr': 9.277348334972675e-05}\n",
      "{'ep_reward': 18.0, 'episode': 100, 'epsilon': 0.6666666666666666, 'ep_avr': 0.027651198953390122, 'ts_avr': 0.001366106721431636, 'loss': 53.8318977355957, 'q_mean': 0.9204049706459045, 'num_update': 1798, 'update_time': 0.0013535916805267334}\n",
      "{'ep_reward': 11.0, 'episode': 200, 'epsilon': 0.5, 'ep_avr': 0.023982358723878862, 'ts_avr': 0.0015527351927772715, 'loss': 26.39044952392578, 'q_mean': 2.0953171253204346, 'num_update': 3341, 'update_time': 0.0013520419597625732}\n",
      "{'ep_reward': 12.0, 'episode': 300, 'epsilon': 0.4, 'ep_avr': 0.02035183794796467, 'ts_avr': 0.0015649381764032365, 'loss': 31.16131591796875, 'q_mean': 3.058079481124878, 'num_update': 4640, 'update_time': 0.001350201666355133}\n",
      "{'ep_reward': 12.0, 'episode': 400, 'epsilon': 0.3333333333333333, 'ep_avr': 0.018617039248347282, 'ts_avr': 0.0015622290367839718, 'loss': 53.990177154541016, 'q_mean': 3.888618230819702, 'num_update': 5830, 'update_time': 0.001368895173072815}\n",
      "{'ep_reward': 9.0, 'episode': 500, 'epsilon': 0.2857142857142857, 'ep_avr': 0.017097616121172905, 'ts_avr': 0.0015649809873399113, 'loss': 47.463863372802734, 'q_mean': 4.556814193725586, 'num_update': 6921, 'update_time': 0.0013473108410835266}\n",
      "{'ep_reward': 9.0, 'episode': 600, 'epsilon': 0.25, 'ep_avr': 0.016945324912667273, 'ts_avr': 0.0015814316537335654, 'loss': 88.904541015625, 'q_mean': 5.188913345336914, 'num_update': 7991, 'update_time': 0.0013682693243026733}\n",
      "{'ep_reward': 10.0, 'episode': 700, 'epsilon': 0.2222222222222222, 'ep_avr': 0.017452805191278457, 'ts_avr': 0.001575985589952193, 'loss': 106.85835266113281, 'q_mean': 5.8914079666137695, 'num_update': 9097, 'update_time': 0.0013711154460906982}\n",
      "{'ep_reward': 11.0, 'episode': 800, 'epsilon': 0.2, 'ep_avr': 0.016624332070350648, 'ts_avr': 0.0015722175806083462, 'loss': 165.63182067871094, 'q_mean': 6.3493123054504395, 'num_update': 10153, 'update_time': 0.0013785213232040405}\n",
      "{'ep_reward': 48.0, 'episode': 900, 'epsilon': 0.18181818181818182, 'ep_avr': 0.02181689292192459, 'ts_avr': 0.0015977327151994202, 'loss': 156.8265380859375, 'q_mean': 7.104093551635742, 'num_update': 11517, 'update_time': 0.001386098563671112}\n",
      "{'ep_reward': 64.0, 'episode': 1000, 'epsilon': 0.16666666666666666, 'ep_avr': 0.0921837954968214, 'ts_avr': 0.0015727981922466954, 'loss': 276.6398620605469, 'q_mean': 9.98912239074707, 'num_update': 17375, 'update_time': 0.0013815462589263916}\n",
      "{'ep_reward': 182.0, 'episode': 1100, 'epsilon': 0.15384615384615385, 'ep_avr': 0.1428020828217268, 'ts_avr': 0.0015794862549402841, 'loss': 268.9630126953125, 'q_mean': 15.748437881469727, 'num_update': 26412, 'update_time': 0.001347757875919342}\n",
      "{'ep_reward': 101.0, 'episode': 1200, 'epsilon': 0.14285714285714285, 'ep_avr': 0.21015411727130412, 'ts_avr': 0.0015951556023681287, 'loss': 116.39695739746094, 'q_mean': 23.2086181640625, 'num_update': 39581, 'update_time': 0.001360572874546051}\n",
      "{'ep_reward': 200.0, 'episode': 1300, 'epsilon': 0.13333333333333333, 'ep_avr': 0.2645888524502516, 'ts_avr': 0.0016014071208032173, 'loss': 89.3428955078125, 'q_mean': 32.270931243896484, 'num_update': 56097, 'update_time': 0.0014096945524215698}\n",
      "{'ep_reward': 182.0, 'episode': 1400, 'epsilon': 0.125, 'ep_avr': 0.29295241191983223, 'ts_avr': 0.0015983216662963085, 'loss': 19.061552047729492, 'q_mean': 40.5468635559082, 'num_update': 74419, 'update_time': 0.0013785585761070251}\n",
      "{'ep_reward': 200.0, 'episode': 1500, 'epsilon': 0.11764705882352941, 'ep_avr': 0.3197463928163052, 'ts_avr': 0.0016016953879223245, 'loss': 10.091362953186035, 'q_mean': 52.04399871826172, 'num_update': 94375, 'update_time': 0.0013747066259384155}\n",
      "{'ep_reward': 200.0, 'episode': 1600, 'epsilon': 0.1111111111111111, 'ep_avr': 0.31754753850400447, 'ts_avr': 0.0015871704567223788, 'loss': 3.124246835708618, 'q_mean': 63.630252838134766, 'num_update': 114375, 'update_time': 0.0013614222407341003}\n",
      "{'ep_reward': 200.0, 'episode': 1700, 'epsilon': 0.10526315789473684, 'ep_avr': 0.31979456029832365, 'ts_avr': 0.0016106468839709772, 'loss': 1.9410609006881714, 'q_mean': 71.8448715209961, 'num_update': 134223, 'update_time': 0.0013689249753952026}\n",
      "{'ep_reward': 200.0, 'episode': 1800, 'epsilon': 0.1, 'ep_avr': 0.3212783594429493, 'ts_avr': 0.0016058189485222102, 'loss': 0.3968677520751953, 'q_mean': 77.26341247558594, 'num_update': 154223, 'update_time': 0.0013832449913024902}\n",
      "{'ep_reward': 200.0, 'episode': 1900, 'epsilon': 0.09523809523809523, 'ep_avr': 0.3187071043998003, 'ts_avr': 0.0015929599788039922, 'loss': 0.2228107750415802, 'q_mean': 83.19332885742188, 'num_update': 174223, 'update_time': 0.00136537104845047}\n",
      "{'ep_reward': 200.0, 'episode': 2000, 'epsilon': 0.09090909090909091, 'ep_avr': 0.3180419859290123, 'ts_avr': 0.0016065924694071978, 'loss': 0.19322876632213593, 'q_mean': 86.75926208496094, 'num_update': 194012, 'update_time': 0.0013852640986442566}\n",
      "{'ep_reward': 200.0, 'episode': 2100, 'epsilon': 0.08695652173913043, 'ep_avr': 0.3209656924754381, 'ts_avr': 0.0016042647793889045, 'loss': 0.27234792709350586, 'q_mean': 89.3980712890625, 'num_update': 214012, 'update_time': 0.0015366226434707642}\n",
      "{'ep_reward': 200.0, 'episode': 2200, 'epsilon': 0.08333333333333333, 'ep_avr': 0.32265961438417434, 'ts_avr': 0.0016127024449408055, 'loss': 0.13269704580307007, 'q_mean': 91.5240478515625, 'num_update': 234012, 'update_time': 0.001352563500404358}\n",
      "{'ep_reward': 200.0, 'episode': 2300, 'epsilon': 0.08, 'ep_avr': 0.31784498132765293, 'ts_avr': 0.0015886582504957914, 'loss': 0.043490804731845856, 'q_mean': 93.31684875488281, 'num_update': 254012, 'update_time': 0.0013457834720611572}\n",
      "{'ep_reward': 200.0, 'episode': 2400, 'epsilon': 0.07692307692307693, 'ep_avr': 0.315285863801837, 'ts_avr': 0.0015908299555880553, 'loss': 0.12975820899009705, 'q_mean': 94.61334228515625, 'num_update': 273824, 'update_time': 0.0013713166117668152}\n",
      "{'ep_reward': 200.0, 'episode': 2500, 'epsilon': 0.07407407407407407, 'ep_avr': 0.32150886952877045, 'ts_avr': 0.001606945538148284, 'loss': 0.050983868539333344, 'q_mean': 95.638427734375, 'num_update': 293824, 'update_time': 0.0013822168111801147}\n",
      "{'ep_reward': 200.0, 'episode': 2600, 'epsilon': 0.07142857142857142, 'ep_avr': 0.31899952702224255, 'ts_avr': 0.0015944270212203263, 'loss': 0.010092237964272499, 'q_mean': 96.4824447631836, 'num_update': 313824, 'update_time': 0.0013656318187713623}\n",
      "{'ep_reward': 200.0, 'episode': 2700, 'epsilon': 0.06896551724137931, 'ep_avr': 0.31825136780738833, 'ts_avr': 0.001590691850334406, 'loss': 0.006316849961876869, 'q_mean': 97.14840698242188, 'num_update': 333824, 'update_time': 0.001374572515487671}\n",
      "{'ep_reward': 200.0, 'episode': 2800, 'epsilon': 0.06666666666666667, 'ep_avr': 0.3218693570047617, 'ts_avr': 0.0016213375360757286, 'loss': 0.10410267859697342, 'q_mean': 97.78239440917969, 'num_update': 353669, 'update_time': 0.0013905242085456848}\n",
      "{'ep_reward': 162.0, 'episode': 2900, 'epsilon': 0.06451612903225806, 'ep_avr': 0.30813443191349504, 'ts_avr': 0.0016244322414382352, 'loss': 0.6085692644119263, 'q_mean': 98.6977767944336, 'num_update': 372631, 'update_time': 0.001793406903743744}\n",
      "{'ep_reward': 189.0, 'episode': 3000, 'epsilon': 0.0625, 'ep_avr': 0.2392303691804409, 'ts_avr': 0.0016103546813080207, 'loss': 12.47741985321045, 'q_mean': 98.90884399414062, 'num_update': 387481, 'update_time': 0.0013661161065101624}\n",
      "{'ep_reward': 167.0, 'episode': 3100, 'epsilon': 0.06060606060606061, 'ep_avr': 0.26238205038011075, 'ts_avr': 0.0016012245836930397, 'loss': 4048.737548828125, 'q_mean': 93.86911010742188, 'num_update': 403861, 'update_time': 0.0013755857944488525}\n",
      "{'ep_reward': 200.0, 'episode': 3200, 'epsilon': 0.058823529411764705, 'ep_avr': 0.2853385490179062, 'ts_avr': 0.0016062299205196482, 'loss': 318.07720947265625, 'q_mean': 90.72441864013672, 'num_update': 421619, 'update_time': 0.0018806755542755127}\n",
      "{'ep_reward': 200.0, 'episode': 3300, 'epsilon': 0.05714285714285714, 'ep_avr': 0.32057030975818634, 'ts_avr': 0.0016159426839273147, 'loss': 30.54167366027832, 'q_mean': 100.44792175292969, 'num_update': 441450, 'update_time': 0.001394607126712799}\n",
      "{'ep_reward': 200.0, 'episode': 3400, 'epsilon': 0.05555555555555555, 'ep_avr': 0.318035134896636, 'ts_avr': 0.0016183325256152019, 'loss': 23.26432991027832, 'q_mean': 113.164306640625, 'num_update': 461095, 'update_time': 0.0014005601406097412}\n",
      "{'ep_reward': 200.0, 'episode': 3500, 'epsilon': 0.05405405405405406, 'ep_avr': 0.3024525035172701, 'ts_avr': 0.0016013889202563946, 'loss': 11.355040550231934, 'q_mean': 124.24354553222656, 'num_update': 479975, 'update_time': 0.0013788864016532898}\n",
      "{'ep_reward': 200.0, 'episode': 3600, 'epsilon': 0.05263157894736842, 'ep_avr': 0.3201872207224369, 'ts_avr': 0.0016003738228231668, 'loss': 4.419590950012207, 'q_mean': 126.73423767089844, 'num_update': 499975, 'update_time': 0.0013503879308700562}\n",
      "{'ep_reward': 200.0, 'episode': 3700, 'epsilon': 0.05128205128205128, 'ep_avr': 0.3225484757870436, 'ts_avr': 0.001612173044681549, 'loss': 2.0203263759613037, 'q_mean': 125.1535873413086, 'num_update': 519975, 'update_time': 0.001365065574645996}\n",
      "{'ep_reward': 200.0, 'episode': 3800, 'epsilon': 0.05, 'ep_avr': 0.3161489835381508, 'ts_avr': 0.0016268634919181096, 'loss': 1.4381150007247925, 'q_mean': 121.39532470703125, 'num_update': 539401, 'update_time': 0.0013624951243400574}\n",
      "{'ep_reward': 200.0, 'episode': 3900, 'epsilon': 0.05, 'ep_avr': 0.31863933607935907, 'ts_avr': 0.001592641181498766, 'loss': 4.178009510040283, 'q_mean': 117.67588806152344, 'num_update': 559401, 'update_time': 0.0013769939541816711}\n",
      "------ Training Finished ------\n"
     ]
    }
   ],
   "source": [
    "# Trainig takes approximately 40 mins,depends on server\n",
    "if not skip_training:\n",
    "    t.train(agent,  cfg_path=Path().cwd()/'cfg'/'cartpole_dqn.yaml',) "
   ]
  },
  {
   "cell_type": "code",
   "execution_count": 30,
   "id": "9a9a1164-6330-4e45-ba52-1a84d8a91001",
   "metadata": {
    "tags": []
   },
   "outputs": [
    {
     "name": "stdout",
     "output_type": "stream",
     "text": [
      "Numpy/Torch/Random Seed:  436\n"
     ]
    },
    {
     "data": {
      "image/png": "[encoded data removed]",
      "text/plain": [
       "<Figure size 640x480 with 1 Axes>"
      ]
     },
     "metadata": {},
     "output_type": "display_data"
    }
   ],
   "source": [
    "# Visualize the DQN training plots for the cartpole \n",
    "if not skip_training:\n",
    "    t.plot(save_name='cartpole_dqn.png', cfg_path=Path().cwd()/'cfg'/'cartpole_dqn.yaml',)"
   ]
  },
  {
   "cell_type": "markdown",
   "id": "adf80e71",
   "metadata": {},
   "source": [
    "In order to get full points from the task make sure most of the test episodes give a reward of 200, given the seeds below (at least 50% of episodes)."
   ]
  },
  {
   "cell_type": "code",
   "execution_count": 31,
   "id": "09736f3b",
   "metadata": {
    "tags": []
   },
   "outputs": [
    {
     "name": "stdout",
     "output_type": "stream",
     "text": [
      "Numpy/Torch/Random Seed:  436\n",
      "{'episode': 0, 'ep_reward': 200.0}\n",
      "{'episode': 1, 'ep_reward': 200.0}\n",
      "{'episode': 2, 'ep_reward': 200.0}\n",
      "{'episode': 3, 'ep_reward': 200.0}\n",
      "{'episode': 4, 'ep_reward': 200.0}\n",
      "{'episode': 5, 'ep_reward': 200.0}\n",
      "{'episode': 6, 'ep_reward': 200.0}\n",
      "{'episode': 7, 'ep_reward': 200.0}\n",
      "{'episode': 8, 'ep_reward': 200.0}\n",
      "{'episode': 9, 'ep_reward': 200.0}\n"
     ]
    }
   ],
   "source": [
    "if not skip_training:\n",
    "    t.test(agent, cfg_path=Path().cwd()/'cfg'/'cartpole_dqn.yaml', cfg_args=dict(save_video=True), seeds=[67, 23, 89, 12, 45, 78, 34, 90, 21, 56])"
   ]
  },
  {
   "cell_type": "code",
   "execution_count": 32,
   "id": "e3658eb5",
   "metadata": {
    "deletable": false,
    "editable": false,
    "nbgrader": {
     "cell_type": "code",
     "checksum": "38a43041b8d9d7219c1c55d322617d12",
     "grade": true,
     "grade_id": "cell-3ef5a6f870ccd026",
     "locked": true,
     "points": 5,
     "schema_version": 3,
     "solution": false,
     "task": false
    }
   },
   "outputs": [],
   "source": [
    "%%capture --no-stdout\n",
    "\"TEST\""
   ]
  },
  {
   "cell_type": "code",
   "execution_count": 33,
   "id": "6c63b5ce",
   "metadata": {
    "tags": []
   },
   "outputs": [
    {
     "data": {
      "text/html": [
       "<video loop autoplay  >\n",
       " <source src=\"data:video/mp4;base64,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\" type=\"video/mp4\">\n",
       " Your browser does not support the video tag.\n",
       " </video>"
      ],
      "text/plain": [
       "<IPython.core.display.Video object>"
      ]
     },
     "metadata": {},
     "output_type": "display_data"
    }
   ],
   "source": [
    "if not skip_training:\n",
    "      video = Video(Path().cwd()/'results'/'CartPole-v1'/'video'/'test'/'ex4_dqn-episode-0.mp4',\n",
    "      embed=True, html_attributes=\"loop autoplay\") # Set html_attributes=\"controls\" for video control\n",
    "      display(video)"
   ]
  },
  {
   "cell_type": "code",
   "execution_count": 34,
   "id": "004fa76f",
   "metadata": {
    "tags": []
   },
   "outputs": [],
   "source": [
    "# init agent\n",
    "with open(Path().cwd()/'cfg'/'lunarlander_dqn.yaml', 'r') as f:\n",
    "    cfg = t.Struct(**yaml.safe_load(f))\n",
    "    \n",
    "agent = DQNAgent(state_shape=cfg.state_shape, n_actions=cfg.n_actions, batch_size=cfg.batch_size, hidden_dims=cfg.hidden_dims,\n",
    "                 gamma=cfg.gamma, lr=cfg.lr, tau=cfg.tau)"
   ]
  },
  {
   "cell_type": "code",
   "execution_count": 35,
   "id": "d3775e17",
   "metadata": {
    "tags": []
   },
   "outputs": [
    {
     "name": "stdout",
     "output_type": "stream",
     "text": [
      "Numpy/Torch/Random Seed:  436\n",
      "{'ep_reward': -126.49454179266154, 'episode': 0, 'epsilon': 1.0, 'ep_avr': 0.013227231800556183, 'ts_avr': 0.00015178190756447708}\n",
      "{'ep_reward': -132.60666079924505, 'episode': 100, 'epsilon': 0.6666666666666666, 'ep_avr': 0.2568867763131857, 'ts_avr': 0.0022554732328354528, 'loss': 12812.4150390625, 'q_mean': -6.680088996887207, 'num_update': 10478, 'update_time': 0.002243943512439728}\n",
      "{'ep_reward': -74.79876512009383, 'episode': 200, 'epsilon': 0.5, 'ep_avr': 0.3712139095366001, 'ts_avr': 0.002488603375092947, 'loss': 10410.0234375, 'q_mean': -1.1406556367874146, 'num_update': 25376, 'update_time': 0.002260275185108185}\n",
      "{'ep_reward': 51.384753824962985, 'episode': 300, 'epsilon': 0.4, 'ep_avr': 0.745709040388465, 'ts_avr': 0.002449246825782086, 'loss': 1670.451171875, 'q_mean': 4.32435941696167, 'num_update': 55800, 'update_time': 0.0021936818957328796}\n",
      "{'ep_reward': 108.28962790416425, 'episode': 400, 'epsilon': 0.3333333333333333, 'ep_avr': 1.1493333161622286, 'ts_avr': 0.0024683595815065663, 'loss': 5226.60205078125, 'q_mean': 12.369769096374512, 'num_update': 102338, 'update_time': 0.0022054538130760193}\n",
      "{'ep_reward': 74.23895904508066, 'episode': 500, 'epsilon': 0.2857142857142857, 'ep_avr': 1.2215493205189705, 'ts_avr': 0.002473987056352416, 'loss': 3073.76123046875, 'q_mean': 26.82185173034668, 'num_update': 151689, 'update_time': 0.0021867305040359497}\n",
      "{'ep_reward': 92.89242856844506, 'episode': 600, 'epsilon': 0.25, 'ep_avr': 1.2539072073996067, 'ts_avr': 0.0025065337158739565, 'loss': 3689.20361328125, 'q_mean': 35.8051872253418, 'num_update': 201689, 'update_time': 0.002139560878276825}\n",
      "{'ep_reward': 135.71929482952055, 'episode': 700, 'epsilon': 0.2222222222222222, 'ep_avr': 1.2428733917325736, 'ts_avr': 0.0025047987600053416, 'loss': 1419.658203125, 'q_mean': 41.40866470336914, 'num_update': 251282, 'update_time': 0.0022576600313186646}\n",
      "{'ep_reward': 70.04855147546394, 'episode': 800, 'epsilon': 0.2, 'ep_avr': 1.2712804716825485, 'ts_avr': 0.0025612799774293454, 'loss': 690.2130126953125, 'q_mean': 48.42866516113281, 'num_update': 300891, 'update_time': 0.0027214959263801575}\n",
      "{'ep_reward': 28.926519915248754, 'episode': 900, 'epsilon': 0.18181818181818182, 'ep_avr': 1.3877286361902952, 'ts_avr': 0.0028237473735414527, 'loss': 2457.2314453125, 'q_mean': 48.076759338378906, 'num_update': 350012, 'update_time': 0.0022910237312316895}\n",
      "{'ep_reward': 100.79450150358085, 'episode': 1000, 'epsilon': 0.16666666666666666, 'ep_avr': 1.2579375357925893, 'ts_avr': 0.002585675567771598, 'loss': 522.7951049804688, 'q_mean': 47.258148193359375, 'num_update': 398637, 'update_time': 0.0022633522748947144}\n",
      "{'ep_reward': 23.514798168637725, 'episode': 1100, 'epsilon': 0.15384615384615385, 'ep_avr': 1.283791770786047, 'ts_avr': 0.002599641218141655, 'loss': 1471.6446533203125, 'q_mean': 45.874488830566406, 'num_update': 447988, 'update_time': 0.0022735074162483215}\n",
      "{'ep_reward': 160.32333560162175, 'episode': 1200, 'epsilon': 0.14285714285714285, 'ep_avr': 1.287303376123309, 'ts_avr': 0.0025948128146762325, 'loss': 434.92193603515625, 'q_mean': 47.35301971435547, 'num_update': 497574, 'update_time': 0.002306438982486725}\n",
      "{'ep_reward': 122.59961979763975, 'episode': 1300, 'epsilon': 0.13333333333333333, 'ep_avr': 1.2604499637335538, 'ts_avr': 0.00269338458776474, 'loss': 538.0172119140625, 'q_mean': 41.31388473510742, 'num_update': 544349, 'update_time': 0.0023321062326431274}\n",
      "{'ep_reward': 176.94295195469812, 'episode': 1400, 'epsilon': 0.125, 'ep_avr': 1.1590744254738092, 'ts_avr': 0.002613924636378766, 'loss': 542.2196044921875, 'q_mean': 42.566402435302734, 'num_update': 588668, 'update_time': 0.002286292612552643}\n",
      "{'ep_reward': 221.03622546111978, 'episode': 1500, 'epsilon': 0.11764705882352941, 'ep_avr': 1.1756503082066774, 'ts_avr': 0.0026578804703211592, 'loss': 486.9715270996094, 'q_mean': 43.056705474853516, 'num_update': 632876, 'update_time': 0.0023294687271118164}\n",
      "{'ep_reward': 119.04197613160476, 'episode': 1600, 'epsilon': 0.1111111111111111, 'ep_avr': 1.1454821356385947, 'ts_avr': 0.0026407309561182818, 'loss': 3366.292724609375, 'q_mean': 44.264400482177734, 'num_update': 676230, 'update_time': 0.002503432333469391}\n",
      "{'ep_reward': 240.80604269078933, 'episode': 1700, 'epsilon': 0.10526315789473684, 'ep_avr': 1.1357208389043807, 'ts_avr': 0.002686550145026385, 'loss': 379.0372314453125, 'q_mean': 45.24024200439453, 'num_update': 718481, 'update_time': 0.002280496060848236}\n",
      "{'ep_reward': 276.3931449484128, 'episode': 1800, 'epsilon': 0.1, 'ep_avr': 0.9935194984078407, 'ts_avr': 0.0026491086409835664, 'loss': 5767.1806640625, 'q_mean': 47.18370819091797, 'num_update': 755963, 'update_time': 0.0023277774453163147}\n",
      "{'ep_reward': -152.34806626789413, 'episode': 1900, 'epsilon': 0.09523809523809523, 'ep_avr': 0.7571958707273007, 'ts_avr': 0.002633522123982112, 'loss': 361.938232421875, 'q_mean': 48.417518615722656, 'num_update': 784695, 'update_time': 0.002331376075744629}\n",
      "------ Training Finished ------\n"
     ]
    }
   ],
   "source": [
    "# Trainig takes approximately 60 mins,depends on server\n",
    "if not skip_training:\n",
    "    t.train(agent, cfg_path=Path().cwd()/'cfg'/'lunarlander_dqn.yaml', cfg_args=dict()) "
   ]
  },
  {
   "cell_type": "code",
   "execution_count": 38,
   "id": "3e2a7511-d1aa-4691-be76-406dbccdc739",
   "metadata": {
    "tags": []
   },
   "outputs": [
    {
     "name": "stdout",
     "output_type": "stream",
     "text": [
      "Numpy/Torch/Random Seed:  436\n"
     ]
    },
    {
     "data": {
      "image/png": "[encoded data removed]",
      "text/plain": [
       "<Figure size 640x480 with 1 Axes>"
      ]
     },
     "metadata": {},
     "output_type": "display_data"
    }
   ],
   "source": [
    "# Visualize the DQN training plots for the lunarlander task\n",
    "if not skip_training:\n",
    "    t.plot(save_name='lunarlander_dqn.png', cfg_path=Path().cwd()/'cfg'/'lunarlander_dqn.yaml', cfg_args=dict())"
   ]
  },
  {
   "cell_type": "markdown",
   "id": "74030fd2",
   "metadata": {},
   "source": [
    "In order to get full points from the task make sure most of the test episodes give a reward of 200, given the seeds below (at least 50% of episodes)."
   ]
  },
  {
   "cell_type": "code",
   "execution_count": 39,
   "id": "ba2808d4",
   "metadata": {
    "tags": []
   },
   "outputs": [
    {
     "name": "stdout",
     "output_type": "stream",
     "text": [
      "Numpy/Torch/Random Seed:  436\n",
      "{'episode': 0, 'ep_reward': 128.4220142863716}\n",
      "{'episode': 1, 'ep_reward': 43.12665471048575}\n",
      "{'episode': 2, 'ep_reward': 10.009693266505579}\n",
      "{'episode': 3, 'ep_reward': 46.924669003531505}\n",
      "{'episode': 4, 'ep_reward': 246.24152868914425}\n",
      "{'episode': 5, 'ep_reward': 242.37746719299244}\n",
      "{'episode': 6, 'ep_reward': 265.35151401445466}\n",
      "{'episode': 7, 'ep_reward': 241.13234451294397}\n",
      "{'episode': 8, 'ep_reward': -53.5172953852681}\n",
      "{'episode': 9, 'ep_reward': 264.2454632991896}\n"
     ]
    }
   ],
   "source": [
    "if not skip_training:\n",
    "    t.test(agent, cfg_path=Path().cwd()/'cfg'/'lunarlander_dqn.yaml', cfg_args=dict(save_video=True),seeds=[67, 23, 89, 12, 45, 78, 34, 90, 21, 56])"
   ]
  },
  {
   "cell_type": "code",
   "execution_count": 40,
   "id": "85204079",
   "metadata": {
    "deletable": false,
    "editable": false,
    "nbgrader": {
     "cell_type": "code",
     "checksum": "5b145c58866764ca02e0b5c4729621a0",
     "grade": true,
     "grade_id": "cell-7c41d50955488cf2",
     "locked": true,
     "points": 5,
     "schema_version": 3,
     "solution": false,
     "task": false
    }
   },
   "outputs": [],
   "source": [
    "%%capture --no-stdout\n",
    "\"TEST\""
   ]
  },
  {
   "cell_type": "code",
   "execution_count": 41,
   "id": "e34889d9",
   "metadata": {
    "tags": []
   },
   "outputs": [
    {
     "data": {
      "text/html": [
       "<video loop autoplay  >\n",
       " <source src=\"data:video/mp4;base64,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\" type=\"video/mp4\">\n",
       " Your browser does not support the video tag.\n",
       " </video>"
      ],
      "text/plain": [
       "<IPython.core.display.Video object>"
      ]
     },
     "metadata": {},
     "output_type": "display_data"
    }
   ],
   "source": [
    "if not skip_training:\n",
    "  video = Video(Path().cwd()/'results'/'LunarLander-v2'/'video'/'test'/'ex4_dqn-episode-8.mp4',\n",
    "  embed=True, html_attributes=\"loop autoplay\") # Set html_attributes=\"controls\" for video control\n",
    "  display(video)"
   ]
  },
  {
   "cell_type": "markdown",
   "id": "55896461",
   "metadata": {},
   "source": [
    "<a id='Q1'></a>\n",
    "<div class=\" alert alert-warning\">\n",
    "    <h3><b>Student Question 1.1</b> Considering Continuous Action Spaces (5 points) </h3> \n",
    "    \n",
    "🔝\t<a href='#TOC'><b>Table of Contents</b></a>\n",
    "</div>\n"
   ]
  },
  {
   "cell_type": "markdown",
   "id": "9b95154b-026f-4e95-9492-20782e8aa24d",
   "metadata": {},
   "source": [
    "### 1.1.1 Question (5 points):\n",
    "Can Q-learning be used directly in environments with continuous action spaces?\n",
    "\n",
    "**Select one:**\n",
    "\n",
    "1. Yes, Q-learning can be used directly without any modifications.\n",
    "2. No, Q-learning cannot be used directly because it only works with a discrete set of actions.\n",
    "3. No, Q-learning cannot be used directly in continuous action spaces, but it can be adapted with certain modifications.\n",
    "4. Yes, Q-learning can be used directly, but it is less efficient than in discrete action spaces."
   ]
  },
  {
   "cell_type": "code",
   "execution_count": 24,
   "id": "22025c94-158f-4ee7-834a-1248eb189d1a",
   "metadata": {
    "tags": []
   },
   "outputs": [],
   "source": [
    "sq_1_1_1 = 3 # Replace with the appropriate answer number"
   ]
  },
  {
   "cell_type": "markdown",
   "id": "29c2290f-67a7-4fe8-9a55-7db7bb6c88f6",
   "metadata": {},
   "source": [
    "The following cells are used for grading"
   ]
  },
  {
   "cell_type": "code",
   "execution_count": 25,
   "id": "abdf5784-303d-4aa9-b036-75219830d49d",
   "metadata": {
    "deletable": false,
    "editable": false,
    "nbgrader": {
     "cell_type": "code",
     "checksum": "85bc371a65d530f9fc963804e483295d",
     "grade": true,
     "grade_id": "cell-9b579c6ba03d991a",
     "locked": true,
     "points": 0,
     "schema_version": 3,
     "solution": false,
     "task": false
    },
    "tags": []
   },
   "outputs": [],
   "source": [
    "assert sq_1_1_1 in range(1, 5)"
   ]
  },
  {
   "cell_type": "code",
   "execution_count": null,
   "id": "42005b40-9ed9-4977-bcbf-8420c8d177b4",
   "metadata": {
    "deletable": false,
    "editable": false,
    "nbgrader": {
     "cell_type": "code",
     "checksum": "0cca2254b439447f716776ca19336a27",
     "grade": true,
     "grade_id": "cell-254ea90497e5d82c",
     "locked": true,
     "points": 5,
     "schema_version": 3,
     "solution": false,
     "task": false
    },
    "tags": []
   },
   "outputs": [],
   "source": []
  },
  {
   "cell_type": "markdown",
   "id": "1395f3d1",
   "metadata": {},
   "source": [
    "<a id='Q2'></a>\n",
    "<div class=\" alert alert-warning\">\n",
    "    <h3><b>Student Question 1.2</b> Continuous Action Spaces Part 1 (15 points) </h3> \n",
    "    \n",
    "🔝\t<a href='#TOC'><b>Table of Contents</b></a>\n",
    "</div>\n"
   ]
  },
  {
   "cell_type": "markdown",
   "id": "f5ee6c44-ca32-4620-85c5-204a4ef2646d",
   "metadata": {},
   "source": [
    "### 1.2.1 Question (5 points):\n",
    "\n",
    "What is the primary challenge when applying DQN to a continuous action space? Hint: select the one that describes the main issue.\n",
    "\n",
    "**Select one:**\n",
    "\n",
    "1. Updating the Q values\n",
    "2. Storing the Q values\n",
    "3. Performing the maximization (argmax) operation\n",
    "4. Calculating the loss function\n",
    "5. Calculating the reward"
   ]
  },
  {
   "cell_type": "code",
   "execution_count": 26,
   "id": "4e8f0ef2-5e19-41d8-bf49-3c8f38ffe645",
   "metadata": {},
   "outputs": [],
   "source": [
    "sq_1_2_1 = 3 # Replace with the appropriate answer number"
   ]
  },
  {
   "cell_type": "markdown",
   "id": "88c67c7f-cabd-40df-97a6-8ddbcfa9a8d6",
   "metadata": {},
   "source": [
    "### 1.2.2 Question (5 points):\n",
    "\n",
    "Which one of the following methods does NOT address the continuous action space problem in DQN?\n",
    "\n",
    "**Select one:**\n",
    "\n",
    "1. Learn a function approximation for the maximum of the Q-function\n",
    "2. Use a policy to draw samples of Q(s,a) and select the action with the highest Q-value (e.g., MPO)\n",
    "3. Approximate the Q-function as a convex function\n",
    "4. Use a Deep Deterministic Policy Gradient (DDPG) approach to learn a policy and Q-function simultaneously\n",
    "5. Use a Double DQN approach with two separate networks to estimate Q-values for continuous actions\n",
    "6. Discretize the action space with fine-grained intervals"
   ]
  },
  {
   "cell_type": "code",
   "execution_count": null,
   "id": "9f1ae7de-289e-44ab-bfed-437273e38cf4",
   "metadata": {},
   "outputs": [],
   "source": [
    "sq_1_2_2 = 1 # Replace with the appropriate answer number"
   ]
  },
  {
   "cell_type": "markdown",
   "id": "dbbf50e1-f1d0-4735-a614-adffd7574619",
   "metadata": {},
   "source": [
    "### 1.2.3 Question (5 points):\n",
    "\n",
    "Discretization is one approach to address the continuous action space problem. What is a **significant** limitation of discretizing the action space to address the continuous action space problem in DQN?\n",
    "\n",
    "**Select one:**\n",
    "\n",
    "1. It may not generalize well to actions outside the discrete set\n",
    "2. It increases the size of the state space exponentially\n",
    "3. It requires modifying the neural network architecture\n",
    "4. It can lead to unstable learning in the early stages of training\n",
    "5. It makes the reward function non-differentiable"
   ]
  },
  {
   "cell_type": "code",
   "execution_count": null,
   "id": "134ba924-6705-4982-8477-93f27336b475",
   "metadata": {},
   "outputs": [],
   "source": [
    "sq_1_2_3 = 1 # Replace with the appropriate answer number"
   ]
  },
  {
   "cell_type": "markdown",
   "id": "3695dc82-6d20-4051-9e8e-1e256a5bf8fb",
   "metadata": {},
   "source": [
    "The following cells are used for grading"
   ]
  },
  {
   "cell_type": "code",
   "execution_count": null,
   "id": "7edf9407-26e1-4b81-910f-a877ebd3d68e",
   "metadata": {
    "deletable": false,
    "editable": false,
    "nbgrader": {
     "cell_type": "code",
     "checksum": "4e70d5f938adbf449599993ed8984ee7",
     "grade": true,
     "grade_id": "cell-b7c78664ec74ec2a",
     "locked": true,
     "points": 0,
     "schema_version": 3,
     "solution": false,
     "task": false
    },
    "tags": []
   },
   "outputs": [],
   "source": [
    "assert sq_1_2_1 in range(1, 6)\n",
    "assert sq_1_2_2 in range(1, 7)\n",
    "assert sq_1_2_3 in range(1, 6)"
   ]
  },
  {
   "cell_type": "code",
   "execution_count": null,
   "id": "d1c89084-b34b-4b3b-bb23-6d84d3b17180",
   "metadata": {
    "deletable": false,
    "editable": false,
    "nbgrader": {
     "cell_type": "code",
     "checksum": "261ad454b4494ded2716bb3ea7da00f4",
     "grade": true,
     "grade_id": "cell-cee299bf0c9ac8e4",
     "locked": true,
     "points": 5,
     "schema_version": 3,
     "solution": false,
     "task": false
    },
    "tags": []
   },
   "outputs": [],
   "source": []
  },
  {
   "cell_type": "code",
   "execution_count": null,
   "id": "9c4eeeb7-aa75-49f5-b69a-3a157060ef58",
   "metadata": {
    "deletable": false,
    "editable": false,
    "nbgrader": {
     "cell_type": "code",
     "checksum": "a0166d8f9297188b4711c3a925bf6006",
     "grade": true,
     "grade_id": "cell-bd84024a26ba389c",
     "locked": true,
     "points": 5,
     "schema_version": 3,
     "solution": false,
     "task": false
    },
    "tags": []
   },
   "outputs": [],
   "source": []
  },
  {
   "cell_type": "code",
   "execution_count": null,
   "id": "11daf090-e4f1-4ca7-bd2a-9e786c3d794b",
   "metadata": {
    "deletable": false,
    "editable": false,
    "nbgrader": {
     "cell_type": "code",
     "checksum": "b14e5eefe2c878d41a5c63ece44a2ab4",
     "grade": true,
     "grade_id": "cell-42e6f022fdf27684",
     "locked": true,
     "points": 5,
     "schema_version": 3,
     "solution": false,
     "task": false
    },
    "tags": []
   },
   "outputs": [],
   "source": []
  },
  {
   "cell_type": "markdown",
   "id": "f10e680f",
   "metadata": {},
   "source": [
    "<a id='Q3'></a>\n",
    "<div class=\" alert alert-warning\">\n",
    "    <h3><b>Student Question 1.3</b> The Target Network (10 points) </h3> \n",
    "    \n",
    "🔝\t<a href='#TOC'><b>Table of Contents</b></a>\n",
    "</div>\n"
   ]
  },
  {
   "cell_type": "markdown",
   "id": "11f15fdf-5b08-469f-a0d5-f63f6a969aff",
   "metadata": {
    "tags": []
   },
   "source": [
    "### 1.3.1 Question (5 points):\n",
    "\n",
    "Why do we use a separate target network in DQN instead of using the same network for both Q(s,a) and max_a(Q(s', ·))?\n",
    "\n",
    "**Select one:**\n",
    "\n",
    "1. To prevent the network from overfitting to the most recent transitions\n",
    "2. To ensure that the Q-values are always within a specific range\n",
    "3. To stabilize the training process by preventing frequent changes in target values\n",
    "4. To enable the network to learn from both on-policy and off-policy data"
   ]
  },
  {
   "cell_type": "code",
   "execution_count": 46,
   "id": "559704b6-23fd-4973-92ba-6492923011e2",
   "metadata": {},
   "outputs": [],
   "source": [
    "sq_1_3_1 = 3 # Replace with the appropriate answer number"
   ]
  },
  {
   "cell_type": "markdown",
   "id": "aa24ade0-0094-401f-820d-956a237e2247",
   "metadata": {
    "tags": []
   },
   "source": [
    "### 1.3.2 Question (5 points):\n",
    "\n",
    "What would happen if we don't stop the gradient of the target Q-value in DQN?\n",
    "\n",
    "**Select one:**\n",
    "\n",
    "1. The optimization process would become more stable due to the joint updates\n",
    "2. The target network updates would be synchronized with the main network updates\n",
    "3. Both the current Q-values and the target Q-values would be updated during optimization\n",
    "4. The algorithm would effectively switch to an on-policy learning method"
   ]
  },
  {
   "cell_type": "code",
   "execution_count": 47,
   "id": "e7714624-1df2-4e67-aa6a-0b248f69981e",
   "metadata": {},
   "outputs": [],
   "source": [
    "sq_1_3_2 = 3 # Replace with the appropriate answer number"
   ]
  },
  {
   "cell_type": "markdown",
   "id": "de0dd848-e39f-4fa8-bd6c-4b4c38396412",
   "metadata": {},
   "source": [
    "The following cells are used for grading"
   ]
  },
  {
   "cell_type": "code",
   "execution_count": 48,
   "id": "92b45bf0-c052-4b1c-b19c-750b371a6cf4",
   "metadata": {
    "deletable": false,
    "editable": false,
    "nbgrader": {
     "cell_type": "code",
     "checksum": "738fa24b9d702b770e751fa6df17c2a3",
     "grade": true,
     "grade_id": "cell-7427871eee3676e5",
     "locked": true,
     "points": 0,
     "schema_version": 3,
     "solution": false,
     "task": false
    },
    "tags": []
   },
   "outputs": [],
   "source": [
    "assert sq_1_3_1 in range(1, 5)\n",
    "assert sq_1_3_2 in range(1, 5)"
   ]
  },
  {
   "cell_type": "code",
   "execution_count": null,
   "id": "08be39cf-a443-4ce7-b709-4701b5b9d187",
   "metadata": {
    "deletable": false,
    "editable": false,
    "nbgrader": {
     "cell_type": "code",
     "checksum": "1f7a58a67e676406e37624e5050e1132",
     "grade": true,
     "grade_id": "cell-06da3985fcfd8e51",
     "locked": true,
     "points": 5,
     "schema_version": 3,
     "solution": false,
     "task": false
    },
    "tags": []
   },
   "outputs": [],
   "source": []
  },
  {
   "cell_type": "code",
   "execution_count": null,
   "id": "5b6fd766-1305-43dd-8a4f-756ad0457882",
   "metadata": {
    "deletable": false,
    "editable": false,
    "nbgrader": {
     "cell_type": "code",
     "checksum": "6a767e7d006960d5cd4bf0181c632ea3",
     "grade": true,
     "grade_id": "cell-a8c5938cdf0dfd2c",
     "locked": true,
     "points": 5,
     "schema_version": 3,
     "solution": false,
     "task": false
    },
    "tags": []
   },
   "outputs": [],
   "source": []
  },
  {
   "cell_type": "markdown",
   "id": "4266d794-008d-4d2c-9a9e-0e18d9b6e354",
   "metadata": {
    "tags": []
   },
   "source": [
    "# 3. Submitting <a id='3.'></a>\n",
    "Ensure all tasks and questions (in ```ex4_dpn.ipynb``` and ```ex4_rbf.ipynb```) are answered and and that the necessary plots are saved in the appropriate locations. The relevant plots and files needed to be submitted for this assignment are:\n",
    "\n",
    "\n",
    "- Training performance plots:\n",
    "  - `cartpole_dqn.png`: Cartpole, training performance plots in terms of episode and episodic reward\n",
    "  - `lunarlander_dqn.png`: Lunarlander, training performance plots in terms of episode and episodic reward \n",
    "<br>\n",
    "<br>\n",
    "\n",
    "  \n",
    "\n",
    "- Model files:\n",
    "  - `dqn.pt`: Trained model\n",
    "\n",
    "\n",
    "Ensure the model files and plots are saved in correct paths:\n",
    "- ```results/CartPole-v1/cartpole_dqn``` Training result for Cartpole environment\n",
    "- ```results/CartPole-v1/model/dqn.pt``` Model for Cartpole environment\n",
    "- ```results/LunarLander-v2/lunarlander_dqn.png``` Training result for LunarLander environment\n",
    "- ```results/LunarLander-v2/model/dqn.pt``` Model for LunarLander environment\n",
    "\n",
    "\n",
    "<span style=\"color:red\"> **# IMPORTANT: DO NOT FORGET ANOTHER TASK IN ```ex4_rbf.ipynb```** </span>"
   ]
  },
  {
   "cell_type": "code",
   "execution_count": null,
   "id": "40c8536b",
   "metadata": {
    "deletable": false,
    "editable": false,
    "nbgrader": {
     "cell_type": "code",
     "checksum": "cc73e5f68adbc298f70feabf9026032d",
     "grade": true,
     "grade_id": "cell-c97f1e23824070fc",
     "locked": true,
     "points": 0,
     "schema_version": 3,
     "solution": false,
     "task": false
    }
   },
   "outputs": [],
   "source": [
    "# Make sure that skip training is set to True before submission\n",
    "assert skip_training == True"
   ]
  },
  {
   "cell_type": "markdown",
   "id": "2ec40b02-69c6-401a-ad79-2f67a8a660e9",
   "metadata": {
    "tags": []
   },
   "source": [
    "## 3.1 Feedback <a id='3.1'></a>\n",
    "\n",
    "In order to help the staff of the course as well as the forthcoming students, it would be great if you could answer to the following questions in your submission:"
   ]
  },
  {
   "cell_type": "markdown",
   "id": "d0a8baf6-b860-4338-b655-b28ec4fac282",
   "metadata": {},
   "source": [
    "1) How much time did you spend solving this exercise? (change the ```hrs``` variable below to a floating point number representing the number of hours taken e.g. 5.43)"
   ]
  },
  {
   "cell_type": "code",
   "execution_count": null,
   "id": "ed94026d-ad80-4148-8e02-5bcfd4b33e98",
   "metadata": {
    "tags": []
   },
   "outputs": [],
   "source": [
    "hrs = None"
   ]
  },
  {
   "cell_type": "markdown",
   "id": "732e1e56-4c4f-4bdf-95b3-f4efcc4c053a",
   "metadata": {},
   "source": [
    "2) Difficulty of each task/question from 1-5 (int or float)"
   ]
  },
  {
   "cell_type": "code",
   "execution_count": null,
   "id": "161f647d-4cf5-4cf8-abbf-1c0d285c5f40",
   "metadata": {
    "tags": []
   },
   "outputs": [],
   "source": [
    "T1 = None   # Implementing DQN (10 points)\n",
    "Q1_1 = None # Question 1.1 Considering Continuous Action Spaces (5 points)\n",
    "Q1_2 = None # Question 1.2 Continuous Action Spaces Part 1 (15 points)\n",
    "Q1_3 = None # Question 1.3 The Target Network (10 points)"
   ]
  },
  {
   "cell_type": "markdown",
   "id": "4fb4a6d0-4ff1-4705-93af-493eed829e4e",
   "metadata": {},
   "source": [
    "3) How well did you understand the content of the task/question from 1-5? (int or float)"
   ]
  },
  {
   "cell_type": "code",
   "execution_count": null,
   "id": "eb003431-4a23-4350-86ec-34444a64ee9d",
   "metadata": {
    "tags": []
   },
   "outputs": [],
   "source": [
    "T1 = None   # Implementing DQN (10 points)\n",
    "Q1_1 = None # Question 1.1 Considering Continuous Action Spaces (5 points)\n",
    "Q1_2 = None # Question 1.2 Continuous Action Spaces Part 1 (15 points)\n",
    "Q1_3 = None # Question 1.3 The Target Network (10 points)"
   ]
  },
  {
   "cell_type": "markdown",
   "id": "c2fa9a62-dcf9-41fe-8d56-a852b2582efa",
   "metadata": {},
   "source": [
    "4) General feedback. Consider questions like:\n",
    "\n",
    "    - Did the content of the lecture relate well with the assignment?\n",
    "    - To what extent did you find the material to be potentially useful for your research and studies?\n",
    "    \n",
    "Please share any additional feedback, suggestions, or comments you have about the lecture, assignment, or course content. Your input is valuable in helping us improve the learning experience."
   ]
  },
  {
   "cell_type": "markdown",
   "id": "77edf97b-6cd9-48a9-bbc9-a075e6c15abb",
   "metadata": {
    "tags": []
   },
   "source": [
    "DOUBLE CLICK HERE TO EDIT, CLEAR THIS TEXT AND ANSWER HERE"
   ]
  }
 ],
 "metadata": {
  "kernelspec": {
   "display_name": "Python 3",
   "language": "python",
   "name": "python3"
  },
  "language_info": {
   "codemirror_mode": {
    "name": "ipython",
    "version": 3
   },
   "file_extension": ".py",
   "mimetype": "text/x-python",
   "name": "python",
   "nbconvert_exporter": "python",
   "pygments_lexer": "ipython3",
   "version": "3.10.12"
  }
 },
 "nbformat": 4,
 "nbformat_minor": 5
}
