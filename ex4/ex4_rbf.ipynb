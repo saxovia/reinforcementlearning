{
 "cells": [
  {
   "cell_type": "markdown",
   "id": "53274fb5",
   "metadata": {
    "deletable": false,
    "editable": false,
    "nbgrader": {
     "cell_type": "markdown",
     "checksum": "42aa8ce65cf2808c1df90efc58a0a546",
     "grade": false,
     "grade_id": "cell-d0c446e141ba6217",
     "locked": true,
     "schema_version": 3,
     "solution": false,
     "task": false
    }
   },
   "source": [
    "\n",
    "<div class=\"alert alert-block alert-info\">\n",
    "   <h2 align=\"center\"> <center><b> Reinforcement Learning Assignment 4 - Function Approximators Part 1: Radial Basis Functions </b></center></h2>\n",
    "\n",
    "<br>\n",
    "<center><font size=\"3\">This notebook is a part of teaching material for ELEC-E8125</font></center>\n",
    "<center><font size=\"3\">Aalto University</font></center>\n",
    "</div>\n",
    "\n",
    "\n",
    "<a id='TOC'></a>\n",
    "\n",
    "<div class=\"alert alert-block alert-success\">\n",
    "    \n",
    "# Table of contents\n",
    "* <a href='#1.'> 1. Introduction </a>\n",
    "* <a href='#1.1'> 1.1 Task environments </a>\n",
    "* <a href='#1.2'> 1.2 Learning Objectives </a>\n",
    "* <a href='#1.3'> 1.3 Code Structure & Files </a>\n",
    "* <a href='#2.'> 2. Approximate with non-linear features</a>\n",
    "* <a href='#2.1'> 2.1 Radial Basis Functions</a>\n",
    "* <a href='#2.2'> 2.2 Sklearn RBF function</a>\n",
    "* <a href='#3.'> 3. Submitting </a>\n",
    "* <a href='#3.1'> 3.1 Feedback </a>\n",
    "\n",
    "<a href='#T1'><b>Student Task 1.</b> Implementing Q-learning using Function Approximation (20 points) </a>\\\n",
    "<a href='#Q1'><b>Student Question 1.1</b> Considering Linear Features (10 points) </a>\\\n",
    "<a href='#Q2'><b>Student Question 1.2</b> Experience Replay Buffer (10 points) </a>\\\n",
    "<a href='#Q3'><b>Student Question 1.3</b> Grid-based vs Function Approximators (10 points) </a>\\\n",
    "<a href='#T2'><b>Student Task 2.</b> Visualizing the Policy (10 points)</a>\n",
    "    \n",
    "**Total Points:** 60\n",
    "\n",
    "**Estimated runtime of all the cells:** 2 - 3 hours"
   ]
  },
  {
   "cell_type": "markdown",
   "id": "c30395ea",
   "metadata": {
    "deletable": false,
    "editable": false,
    "nbgrader": {
     "cell_type": "markdown",
     "checksum": "7a2b0a701ed47cff056b5cb211ab235e",
     "grade": false,
     "grade_id": "cell-e08152dda643a700",
     "locked": true,
     "schema_version": 3,
     "solution": false,
     "task": false
    }
   },
   "source": [
    "# 1. Introduction <a id='1.'></a>\n",
    "\n",
    "In many real world scenarios, the dimensionality of the state space may be too high to compute and store the Q-values for each possible state and action in a Q-table. Instead, the state value and action value functions can be learned by using a function approximator, such as a radial basis functions (RBFs). In this exercise, you will start with handcrafted features and then move to radial basis functions in the **Cartpole** environment.\n",
    "\n",
    "\n",
    "<figure style=\"text-align: center\">\n",
    "<img src=\"imgs/cartpole.png\" width=\"300px\">\n",
    "<figcaption style=\"text-align: center\"> Figure 1: The Cartpole environment. </figcaption>\n",
    "</figure>\n",
    "\n",
    "Useful Sources:\n",
    "\n",
    "- Sutton, Richard S., and Andrew G. Barto. \"Reinforcement Learning: An Introduction (2nd Edition).\" London, England (2017). http://incompleteideas.net/book/RLbook2018.pdf\n",
    "- Lecture 4: Function Approximation (Sutton & Barto Ch. 9-9.3, 10-10.1)\n",
    "\n",
    "## 1.1 Task environments <a id='1.1'></a>\n",
    "\n",
    "In this part, we will specifically use RBF-based Q-learning to solve cartpole task. In this environment, a pole is attached by an un-actuated joint to a cart, which moves along a frictionless track. The pendulum is placed upright on the cart and the goal is to balance the pole by applying forces in the left and right direction on the cart. \n",
    "\n",
    "You can find the detailed description of the task through this link: https://gymnasium.farama.org/environments/classic_control/cart_pole/\n",
    "\n",
    "\n",
    "## 1.2 Learning Objectives: <a id='1.2'></a>\n",
    "- Understand why and how function approximators can be used for Q-learning\n",
    "- Develop intuition behind function approximators: radial basis functions\n",
    "\n",
    "## 1.3 Code Structure & Files <a id='1.3'></a>\n",
    "\n",
    "```ex4_rbf.ipynb``` is the file needed to be modified for this part of the assignment. \n",
    "\n",
    "<span style=\"color:red\"> **# IMPORTANT: DO NOT FORGET ANOTHER TASK IN ```ex4_dqn.ipynb```** </span>\n",
    "\n",
    "```\n",
    "├───cfg                            # Config files for environments\n",
    "├───imgs                           # Images used in notebook\n",
    "├───results\n",
    "│   └───CartPole-v1\n",
    "│   │   ├───logging                \n",
    "│   │   │    └───logging.pkl        # Contains logged data\n",
    "│   │   ├───model              \n",
    "│   │   │    └───*dqn.pt            # Contains trained model for dqn task\n",
    "│   │   │    └───*rbf.pkl           # Contains trained model for rbf task\n",
    "│   │   └───video                   # Videos saved\n",
    "│   │   └───*cartpole_rbf.png       # Contains training performance plot for rbd\n",
    "│   │   └───*cartpole_hd.png        # Contains training performance plot for handcrafted feature\n",
    "│   └───LunarLander-v2\n",
    "│   ex4_dqn.ipynb                   # 2nd assignment file containing tasks <---------\n",
    "│   ex4_rbf.ipynb                   # 1st assignment file containing tasks <---------This task\n",
    "│   train.py                        # Contains train and test functions \n",
    "│   utils.py                        # Contains useful functions \n",
    "└───buffer.py                       # Contains buffer functions\n",
    "```\n",
    "\n"
   ]
  },
  {
   "cell_type": "markdown",
   "id": "5b3c5f5c",
   "metadata": {
    "deletable": false,
    "editable": false,
    "nbgrader": {
     "cell_type": "markdown",
     "checksum": "36b40a9e7e6f787b1b792f5f3a7e224a",
     "grade": false,
     "grade_id": "cell-ab51a95c38cfeb41",
     "locked": true,
     "schema_version": 3,
     "solution": false,
     "task": false
    },
    "tags": []
   },
   "source": [
    "# 2. Approximate with non-linear features <a id='2.'></a>\n",
    "## 2.1 Radial Basis Functions <a id='2.1'></a>\n",
    "A radial basis function (RBF) is a real-valued function $\\phi$ that maps a vector $\\boldsymbol{x} \\in \\mathbb{R}^d$ into a real-value $\\phi : \\mathbb{R}^d \\mapsto \\mathbb{R}$. The RBF $\\phi(\\boldsymbol{x} )$ = $\\phi(||\\boldsymbol{x} ||)$ acts on a distance (radial) and a basis function $\\phi$ (e.g. Gaussian function). The RBFs are commonly used as kernels in machine learning. The RBF kernel is defined as a $K(\\boldsymbol{x} , \\boldsymbol{x} ′) = 〈\\phi(\\boldsymbol{x}),\\phi(\\boldsymbol{x}′)〉$, where $\\phi$ is the Gaussian function. Therefore, the RBF kernel is defined as\n",
    "\n",
    "$$\n",
    "K\\left(\\boldsymbol{x}, \\boldsymbol{x}^{\\prime}\\right)=\\exp \\left(-\\frac{\\left\\|\\boldsymbol{x}-\\boldsymbol{x}^{\\prime}\\right\\|^2}{2 \\sigma^2}\\right)\n",
    "$$\n",
    "\n",
    "where the parameter $\\sigma^2$ is the variance and gives shape to the Gaussian function. \n",
    "\n",
    "On the exercise you are given a ```featurizer``` which uses an ```RBFSampler```. The ```RBFSampler``` uses a Monte Carlo approximation of the RBF kernel and generates samples with the specified variance. The ```RBFSampler``` has been trained on a predefined dataset. Thus, the RBF kernel will map the state $x \\in \\mathbb{R}$ d to the distance to the trained dataset. Therefore, an input state will be transformed to as many features as samples $N$ are specified in the ```RBFSampler``` $\\phi : \\mathbb{R}^d \\mapsto \\mathbb{R}^N $. \n",
    "\n",
    "In a nutshell, the ```featurizer``` function maps low-dimensional states to a high-dimensional representation, which reveals properties that haven’t been shown in the original low-dimensional space, e.g., for the Cartpole environment, it maps the original four-dimensional states to a 230-dimensional vector.\n",
    "\n",
    "## 2.2 Sklearn RBF function<a id='2.2'></a>\n",
    "In this excercise, we use scikit-learn library to implement the RBF approximation by doing following steps:\n",
    "\n",
    "- RBFSampler: A RBF kernel will map feature into higher dimensions using random Fourier features.\n",
    "- FeatureUnion: Concatenates results of multiple transformer objects.\n",
    "- SGDRegressor: Linear model fitted by minimizing a regularized empirical loss with SGD.\n",
    "\n",
    "\n"
   ]
  },
  {
   "cell_type": "markdown",
   "id": "7c8cedc4-14e0-4fb1-b3ba-f26009fa02a4",
   "metadata": {
    "deletable": false,
    "editable": false,
    "nbgrader": {
     "cell_type": "markdown",
     "checksum": "47530e48db6901812adae6ba0239bc2d",
     "grade": false,
     "grade_id": "cell-fdd24e05653d4a99",
     "locked": true,
     "schema_version": 3,
     "solution": false,
     "task": false
    }
   },
   "source": [
    "## Warnings:\n",
    "\n",
    "- Don’t copy and paste cells within a notebook. This will mess up the tracking metadata and prevent autograding from working.\n",
    "- Only add new cells using the '+' button in the upper toolbar and do not split cells.\n",
    "- Be cautious about things such as copying the whole notebook to Colab to work on it. This has sometimes resulted in removing all notebook metadata, making autograding impossible."
   ]
  },
  {
   "cell_type": "markdown",
   "id": "5511d36c",
   "metadata": {
    "deletable": false,
    "editable": false,
    "nbgrader": {
     "cell_type": "markdown",
     "checksum": "d50ae4772484f424d02f23d09e82d04f",
     "grade": false,
     "grade_id": "cell-102128ef6321fb44",
     "locked": true,
     "schema_version": 3,
     "solution": false,
     "task": false
    }
   },
   "source": [
    "<a id='T1'></a>\n",
    "<div class=\" alert alert-warning\">\n",
    "    <h3><b>Student Task 1.</b> Implementing Q-learning using Function Approximation (20 points) </h3> \n",
    "\n",
    "Implement Q-learning using function approximation. Also implement $\\epsilon$-greedy action selection. Test two different features for state representations:\n",
    "\n",
    "&nbsp;&nbsp;&nbsp;&nbsp;&nbsp;(a) handcrafted feature vector $\\phi(s) = [s, |s|]^T$,(use the ```featurizer``` inside the ```RBFAgent``` class).\n",
    "\n",
    "&nbsp;&nbsp;&nbsp;&nbsp;&nbsp;(b) radial basis function representations (use the ```featurizer``` inside the ```RBFAgent``` class).\n",
    "\n",
    "For this task you need to modify functions ```featurize```, ```get_action```, and ```update``` inside the ```RBFAgent``` class. Test the implementation on the Cartpole environment by running the ```train(agent)``` script with default configs. You can test the trained model with the ```test(agent, cfg_args=dict(save_video=true))``` script. \n",
    "    \n",
    "**See Figure 2 for an example training performance plot for Task1(b). Save the training performance plots for both (a) and (b), and check if they are in the right place (the paths please refer to <a href='#3.'>Submitting<a>).**\n",
    "\n",
    "<figure style=\"text-align: center\">\n",
    "<img src=\"imgs/rbf.png\" width=\"300px\">\n",
    "<figcaption style=\"text-align: center\">Figure 2: The training performance plot for Task 1 (b) might look something like this.</figcaption>\n",
    "</figure>\n",
    "    \n",
    "🔝\t<a href='#TOC'><b>Table of Contents</b></a>\n",
    "</div>\n"
   ]
  },
  {
   "cell_type": "code",
   "execution_count": 19,
   "id": "57105930",
   "metadata": {
    "tags": []
   },
   "outputs": [],
   "source": [
    "skip_training = True  # Set this flag to True before validation and submission"
   ]
  },
  {
   "cell_type": "code",
   "execution_count": null,
   "id": "fd6ed5fa",
   "metadata": {
    "deletable": false,
    "editable": false,
    "nbgrader": {
     "cell_type": "code",
     "checksum": "8292581c94100e7cfcfa56cb34739b65",
     "grade": true,
     "grade_id": "cell-21f05aed2ce5f313",
     "locked": true,
     "points": 0,
     "schema_version": 3,
     "solution": false,
     "task": false
    }
   },
   "outputs": [],
   "source": []
  },
  {
   "cell_type": "code",
   "execution_count": 3,
   "id": "62817342",
   "metadata": {
    "tags": []
   },
   "outputs": [],
   "source": [
    "import sys, os\n",
    "sys.path.insert(0, os.path.abspath(\"..\"))\n",
    "\n",
    "import yaml\n",
    "import numpy as np\n",
    "from pathlib import Path\n",
    "\n",
    "from sklearn.linear_model import SGDRegressor\n",
    "from sklearn.kernel_approximation import RBFSampler\n",
    "from sklearn.preprocessing import StandardScaler\n",
    "from sklearn.pipeline import FeatureUnion\n",
    "\n",
    "from buffer import Batch\n",
    "import utils as u\n",
    "import train as t\n",
    "\n",
    "from IPython.display import Video # to display videos"
   ]
  },
  {
   "cell_type": "code",
   "execution_count": 4,
   "id": "9ee3fb4e",
   "metadata": {
    "tags": []
   },
   "outputs": [],
   "source": [
    "class RBFAgent(object):\n",
    "    def __init__(self, n_actions, gamma=0.98, batch_size=32):\n",
    "        self.scaler = None\n",
    "        self.featurizer = None\n",
    "        self.q_functions = None\n",
    "        self.gamma = gamma\n",
    "        self.batch_size = batch_size\n",
    "        self.n_actions = n_actions\n",
    "        self._initialize_model()\n",
    "\n",
    "    def _initialize_model(self):\n",
    "        # Draw some samples from the observation range and initialize the scaler (used to normalize data)\n",
    "        obs_limit = np.array([4.8, 5, 0.5, 5],\n",
    "                             dtype=np.float32)\n",
    "        samples = np.random.uniform(-obs_limit, obs_limit,\n",
    "                                    (1000, obs_limit.shape[0])).astype(np.float32)\n",
    "        \n",
    "        # calculate the mean and var of samples, used later to normalize training data\n",
    "        self.scaler = StandardScaler().fit(samples) \n",
    "\n",
    "        # Initialize the RBF featurizer\n",
    "        self.featurizer = FeatureUnion([\n",
    "            (\"rbf1\", RBFSampler(gamma=5.0, n_components=100)),\n",
    "            (\"rbf2\", RBFSampler(gamma=2.0, n_components=80)),\n",
    "            (\"rbf3\", RBFSampler(gamma=1.0, n_components=50)),\n",
    "        ])\n",
    "        self.featurizer.fit(self.scaler.transform(samples))\n",
    "\n",
    "        # Create a value approximator for each action dimension\n",
    "        self.q_functions = [SGDRegressor(learning_rate=\"constant\", max_iter=500, tol=1e-3)\n",
    "                           for _ in range(self.n_actions)]\n",
    "\n",
    "        # Initialize it to whatever values; implementation detail\n",
    "        for q_a in self.q_functions:\n",
    "            q_a.partial_fit(self.featurize(samples), \n",
    "                            np.zeros((samples.shape[0],), dtype=np.float32))\n",
    "\n",
    "    def featurize(self, state):\n",
    "        \"\"\" Map state to a higher dimension for better representation.\"\"\"\n",
    "        if len(state.shape) == 1:\n",
    "            state = state.reshape(1, -1)\n",
    "        \n",
    "        # TODO: Task 1, choose which feature to use. \n",
    "        # Task 1a: implement the manual features here \n",
    "        ########## You code starts here #########\n",
    "        manual_feature = self.scaler.transform(state)\n",
    "        ########## You code ends here #########\n",
    "\n",
    "        # Task 1b: implement the RBF features transformation here \n",
    "        # it will map a state to a higher dimension (100+80+50)\n",
    "        ########## You code starts here #########\n",
    "        rbf_feature = self.featurizer.transform(self.scaler.transform(state))\n",
    "        ########## You code ends here #########\n",
    "\n",
    "        #Task 1: return manual_feature or return rbf_feature\n",
    "        ########## You code starts here #########\n",
    "        #feature = manual_feature #(task 1 a)\n",
    "        feature = rbf_feature #(task 1 b)\n",
    "        ########## You code ends here #########\n",
    "        \n",
    "        return feature\n",
    "    \n",
    "    def get_action(self, state, epsilon=0.0):\n",
    "        # TODO: Task 1: Implement epsilon-greedy policy\n",
    "        # Hints:\n",
    "        # 1. self.q_functions is a list which defines a q function for each action dimension\n",
    "        # 2. for each q function, use predict(feature) to obtain the q value\n",
    "        ########## Your code starts here ##########\n",
    "        p = np.random.uniform(0, 1)\n",
    "        \n",
    "        feature = self.featurize(state)\n",
    "        q_values = np.zeros(self.n_actions)\n",
    "        for a in range(self.n_actions):\n",
    "            q_values[a] = self.q_functions[a].predict(feature)[0]\n",
    "        \n",
    "        if p < epsilon:\n",
    "            action = np.random.choice(self.n_actions)\n",
    "        else:\n",
    "            action = np.argmax(q_values)\n",
    "        ########## Your code ends here #########\n",
    "        return action\n",
    "\n",
    "    def _to_squeezed_np(self, batch:Batch) -> Batch:\n",
    "        \"\"\" A simple helper function squeeze data dimension and cover data format from tensor to np.ndarray.\"\"\"\n",
    "        _ret = {}\n",
    "        for name, value in batch._asdict().items():\n",
    "            if isinstance(value, dict): # this is for extra, which is a dict\n",
    "                for k, v in value.items():\n",
    "                    value[k] = v.squeeze().numpy()\n",
    "                _ret[name] = value\n",
    "            else:\n",
    "                _ret[name] = value.squeeze().numpy()\n",
    "        return Batch(**_ret)\n",
    "        \n",
    "    def update(self, buffer):\n",
    "        # batch is a namedtuple, which has state, action, next_state, not_done, reward\n",
    "        # you can access the value be batch.<name>, e.g, batch.state\n",
    "        batch = buffer.sample(self.batch_size) \n",
    "        # Hint:\n",
    "        #    state = batch.state\n",
    "        #    action = batch.action \n",
    "        #    next_state = batch.next_state\n",
    "        #    reward = batch.reward \n",
    "        #    not_done = batch.not_done \n",
    "        \n",
    "        # the returned batch is a namedtuple, where the data is torch.Tensor\n",
    "        # we first squeeze dim and then covert it to Numpy array.\n",
    "        batch = self._to_squeezed_np(batch)\n",
    "\n",
    "        # TODO: Task 1, update q_functions\n",
    "        # Hints: \n",
    "        # 1. featurize the state and next_state\n",
    "        # 2. calculate q_target (check q-learning)\n",
    "        # 3. self.q_functions is a list which defines a q function for each action dimension\n",
    "        #    for each q function, use q.predict(featurized_state) to obtain the q value \n",
    "        # 4. remember to use not_done to mask out the q values at terminal states (treat them as 0)\n",
    "        ########## You code starts here #########\n",
    "        f_state = self.featurize(batch.state)\n",
    "        f_next_state = self.featurize(batch.next_state)\n",
    "        \n",
    "        # Check the Hints to finish the rest ;)\n",
    "        q_next = np.zeros((self.n_actions, f_next_state.shape[0]))\n",
    "        for a in range(self.n_actions):\n",
    "            q_next[a, :] = self.q_functions[a].predict(f_next_state)\n",
    "        q_next_max= np.max(q_next, axis=0)\n",
    "        q_tar = batch.reward+ self.gamma * q_next_max * batch.not_done\n",
    "        \n",
    "        ########## You code ends here #########\n",
    "        \n",
    "        # Get new weights for each action separately\n",
    "        for a in range(self.n_actions):\n",
    "            # Find states where `a` was taken\n",
    "            idx = batch.action == a\n",
    "\n",
    "            # If a not present in the batch, skip and move to the next action\n",
    "            if np.any(idx):\n",
    "                act_states = f_state[idx]\n",
    "                act_targets = q_tar[idx]\n",
    "\n",
    "                # Perform a single SGD step on the Q-function params to update the q_function corresponding to action a\n",
    "                self.q_functions[a].partial_fit(act_states, act_targets)\n",
    "\n",
    "        return {}\n",
    "\n",
    "    def save(self, fp):\n",
    "        path = fp/'rbf.pkl'\n",
    "        u.save_object(\n",
    "            {'q': self.q_functions, 'featurizer': self.featurizer},\n",
    "            path\n",
    "        )\n",
    "\n",
    "    def load(self, fp):\n",
    "        path = fp/'rbf.pkl'\n",
    "        d = u.load_object(path)\n",
    "\n",
    "        self.q_functions = d['q']\n",
    "        self.featurizer = d['featurizer']"
   ]
  },
  {
   "cell_type": "markdown",
   "id": "bb219433-160a-4c5b-b1bf-6c654a57e703",
   "metadata": {
    "deletable": false,
    "editable": false,
    "nbgrader": {
     "cell_type": "markdown",
     "checksum": "d198c51b373df885c3794fef8724caf0",
     "grade": false,
     "grade_id": "cell-f9705dbb63754c13",
     "locked": true,
     "schema_version": 3,
     "solution": false,
     "task": false
    },
    "tags": []
   },
   "source": [
    "<a id='T1'></a>\n",
    "<div class=\" alert alert-warning\">\n",
    "    <h4><b>Student Task 1.(a)</b> Linear model with handcraft feature </h4> \n",
    "\n",
    "First, let's test Q-learning with handcrafted features. We define the feature as :\n",
    "    \n",
    "&nbsp;&nbsp;&nbsp;&nbsp;&nbsp;&nbsp;&nbsp;&nbsp;&nbsp;&nbsp;&nbsp;&nbsp;&nbsp;&nbsp;&nbsp;&nbsp;&nbsp;&nbsp;&nbsp;&nbsp;&nbsp;&nbsp;&nbsp;&nbsp;&nbsp;&nbsp;&nbsp;&nbsp;&nbsp;&nbsp;$\\phi(s) = [s, |s|]^T$\n",
    "\n",
    "Then we will feed this feature into a linear model to predict corresponding Q-values.\n",
    "\n",
    "For this Task, implement the code in ```class RBFAgent```:\n",
    "    \n",
    "1. First, you need to modify functions ```featurize```, to convert the state $s$ from encironment to $[s, |s|]^T$.\n",
    "2. Modify the function ```get_action```, use ```self.q_functions``` to select the action has the highest return.\n",
    "3. Modify the function ```update```, based on the Q-learning objective to update the Q-function (linear models).\n",
    "\n",
    "After the modifying, test the implementation on the Cartpole environment by running the ```train(agent)``` script with default configs. You can test the trained model with the ```test(agent, cfg_args=dict(save_video=true))``` script. \n",
    "</div>"
   ]
  },
  {
   "cell_type": "code",
   "execution_count": 7,
   "id": "d9dd6467",
   "metadata": {
    "tags": []
   },
   "outputs": [],
   "source": [
    "# After the modifying, run\n",
    "# init agent\n",
    "with open(Path().cwd()/'cfg'/'cartpole_rbf.yaml', 'r') as f:\n",
    "    cfg = t.Struct(**yaml.safe_load(f))\n",
    "        \n",
    "agent = RBFAgent(n_actions=cfg.n_actions, gamma=cfg.gamma, batch_size=cfg.batch_size)"
   ]
  },
  {
   "cell_type": "code",
   "execution_count": 8,
   "id": "d78c6566",
   "metadata": {
    "tags": []
   },
   "outputs": [
    {
     "name": "stdout",
     "output_type": "stream",
     "text": [
      "Numpy/Torch/Random Seed:  436\n",
      "{'ep_reward': 40.0, 'episode': 0, 'epsilon': 1.0, 'ep_avr': 0.027815960347652435, 'ts_avr': 0.0006840139627456665}\n",
      "{'ep_reward': 15.0, 'episode': 100, 'epsilon': 0.3333333333333333, 'ep_avr': 0.041663968786597255, 'ts_avr': 0.0020631509653049845}\n",
      "{'ep_reward': 11.0, 'episode': 200, 'epsilon': 0.2, 'ep_avr': 0.04953739456832409, 'ts_avr': 0.002277387845867143}\n",
      "{'ep_reward': 23.0, 'episode': 300, 'epsilon': 0.14285714285714285, 'ep_avr': 0.03267357334494591, 'ts_avr': 0.0022927695895764936}\n",
      "{'ep_reward': 11.0, 'episode': 400, 'epsilon': 0.1111111111111111, 'ep_avr': 0.028960300385951997, 'ts_avr': 0.0022839820975380427}\n",
      "{'ep_reward': 11.0, 'episode': 500, 'epsilon': 0.09090909090909091, 'ep_avr': 0.024942855015397072, 'ts_avr': 0.0022802457199768526}\n",
      "{'ep_reward': 9.0, 'episode': 600, 'epsilon': 0.07692307692307693, 'ep_avr': 0.024326729103922844, 'ts_avr': 0.0022758522772052315}\n",
      "{'ep_reward': 9.0, 'episode': 700, 'epsilon': 0.06666666666666667, 'ep_avr': 0.024087086766958237, 'ts_avr': 0.0023028925560307843}\n",
      "{'ep_reward': 13.0, 'episode': 800, 'epsilon': 0.058823529411764705, 'ep_avr': 0.04148730181157589, 'ts_avr': 0.003871333372303529}\n",
      "{'ep_reward': 11.0, 'episode': 900, 'epsilon': 0.05263157894736842, 'ep_avr': 0.023705942183732988, 'ts_avr': 0.00231971466196856}\n",
      "{'ep_reward': 10.0, 'episode': 1000, 'epsilon': 0.05, 'ep_avr': 0.023243878111243246, 'ts_avr': 0.002272353188632286}\n",
      "{'ep_reward': 12.0, 'episode': 1100, 'epsilon': 0.05, 'ep_avr': 0.02401285372674465, 'ts_avr': 0.0022805291564405644}\n",
      "{'ep_reward': 10.0, 'episode': 1200, 'epsilon': 0.05, 'ep_avr': 0.02351117953658104, 'ts_avr': 0.002276272830632768}\n",
      "{'ep_reward': 10.0, 'episode': 1300, 'epsilon': 0.05, 'ep_avr': 0.02387802928686142, 'ts_avr': 0.002280876980684911}\n",
      "{'ep_reward': 10.0, 'episode': 1400, 'epsilon': 0.05, 'ep_avr': 0.023045872077345847, 'ts_avr': 0.002281944087463753}\n",
      "{'ep_reward': 10.0, 'episode': 1500, 'epsilon': 0.05, 'ep_avr': 0.023712705895304678, 'ts_avr': 0.0023000285174082785}\n",
      "{'ep_reward': 10.0, 'episode': 1600, 'epsilon': 0.05, 'ep_avr': 0.023980338722467423, 'ts_avr': 0.002283978031804382}\n",
      "{'ep_reward': 10.0, 'episode': 1700, 'epsilon': 0.05, 'ep_avr': 0.023590530529618264, 'ts_avr': 0.0022927793286421885}\n",
      "{'ep_reward': 10.0, 'episode': 1800, 'epsilon': 0.05, 'ep_avr': 0.02376983270049095, 'ts_avr': 0.002287872810354582}\n",
      "{'ep_reward': 10.0, 'episode': 1900, 'epsilon': 0.05, 'ep_avr': 0.024694502428174017, 'ts_avr': 0.0023977444502656267}\n",
      "------ Training Finished ------\n"
     ]
    }
   ],
   "source": [
    "if not skip_training:\n",
    "    t.train(agent, cfg_path=Path().cwd()/'cfg'/'cartpole_rbf.yaml', cfg_args={}) # >= 20 mins"
   ]
  },
  {
   "cell_type": "code",
   "execution_count": 9,
   "id": "4d57a812",
   "metadata": {
    "tags": []
   },
   "outputs": [
    {
     "name": "stdout",
     "output_type": "stream",
     "text": [
      "Numpy/Torch/Random Seed:  436\n",
      "{'episode': 0, 'ep_reward': 9.0}\n",
      "{'episode': 1, 'ep_reward': 10.0}\n",
      "{'episode': 2, 'ep_reward': 10.0}\n",
      "{'episode': 3, 'ep_reward': 10.0}\n",
      "{'episode': 4, 'ep_reward': 10.0}\n",
      "{'episode': 5, 'ep_reward': 10.0}\n",
      "{'episode': 6, 'ep_reward': 10.0}\n",
      "{'episode': 7, 'ep_reward': 9.0}\n",
      "{'episode': 8, 'ep_reward': 10.0}\n",
      "{'episode': 9, 'ep_reward': 11.0}\n"
     ]
    }
   ],
   "source": [
    "if not skip_training:\n",
    "    t.test(agent, cfg_path=Path().cwd()/'cfg'/'cartpole_rbf.yaml', cfg_args=dict(save_video=True), seeds=[67, 23, 89, 12, 45, 78, 34, 90, 21, 56]) "
   ]
  },
  {
   "cell_type": "code",
   "execution_count": 10,
   "id": "4e9ba558-6057-4142-804b-d6bc43d0d709",
   "metadata": {
    "tags": []
   },
   "outputs": [
    {
     "name": "stdout",
     "output_type": "stream",
     "text": [
      "Numpy/Torch/Random Seed:  436\n"
     ]
    },
    {
     "data": {
      "image/png": "[encoded data removed]",
      "text/plain": [
       "<Figure size 640x480 with 1 Axes>"
      ]
     },
     "metadata": {},
     "output_type": "display_data"
    }
   ],
   "source": [
    "if not skip_training:\n",
    "    t.plot(save_name='cartpole_hd.png', cfg_path=Path().cwd()/'cfg'/'cartpole_rbf.yaml', cfg_args={}) # < 15 mins"
   ]
  },
  {
   "cell_type": "markdown",
   "id": "05fb6b18",
   "metadata": {},
   "source": [
    "The agent acting in the environment can be seen using the following command. Change the path to pick the episode you want to visualize. Bear in mind by default video saving for training is taken every 500 episodes"
   ]
  },
  {
   "cell_type": "code",
   "execution_count": 11,
   "id": "69b48c8a",
   "metadata": {
    "tags": []
   },
   "outputs": [
    {
     "data": {
      "text/html": [
       "<video loop autoplay  >\n",
       " <source src=\"data:video/mp4;base64,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\" type=\"video/mp4\">\n",
       " Your browser does not support the video tag.\n",
       " </video>"
      ],
      "text/plain": [
       "<IPython.core.display.Video object>"
      ]
     },
     "metadata": {},
     "output_type": "display_data"
    }
   ],
   "source": [
    "if not skip_training:\n",
    "    video = Video(Path().cwd()/'results'/'CartPole-v1'/'video'/'test'/'ex4_rbf-episode-0.mp4',\n",
    "    embed=True, html_attributes=\"loop autoplay\") # Set html_attributes=\"controls\" for video control\n",
    "    display(video)"
   ]
  },
  {
   "cell_type": "markdown",
   "id": "571f48c8-9ab6-43fb-bce0-19719ce2c9e2",
   "metadata": {
    "tags": []
   },
   "source": [
    "<a id='T1'></a>\n",
    "<div class=\" alert alert-warning\">\n",
    "    <h4><b>Student Task 1.(b)</b> RBF approximation </h4> \n",
    "\n",
    "Now, let's test Q-learning with RBF approximation. In this task, we will do a feature transform using the Radial Basis Function. An input state will be transformed to as many features as samples $N$ are specified in the ```RBFSampler``` $\\phi : \\mathbb{R}^d \\mapsto \\mathbb{R}^N $. Then we will feed this $\\mathbb{R}^N $ feature into a linear model to predict corresponding Q-values.\n",
    "\n",
    "For this Task:\n",
    "    \n",
    "1. You need to modify functions ```featurize```, to **convert the state $s$ to a higher dimensional feature using** ```RBFSampler```.\n",
    "\n",
    "2. Run the cell of ```class RBFAgent``` to update the class function\n",
    "\n",
    "3. <span style=\"color:red\"> **IMPORTANT: Directly come to this cell after the modifications, DO NOT RUN the handcraft feature cells again!!!** </span>\n",
    "\n",
    "4. Run the cells below to check the performances of Q-learning with RBF approximation.\n",
    "    \n",
    "After the modifying, test the implementation on the Cartpole environment by running the ```train(agent)``` script with default configs. You can test the trained model with the ```test(agent, cfg_args=dict(save_video=true))``` script. \n",
    "</div>"
   ]
  },
  {
   "cell_type": "code",
   "execution_count": 14,
   "id": "ab43c155-a9a9-4d7c-8829-0b472d25314e",
   "metadata": {
    "tags": []
   },
   "outputs": [],
   "source": [
    "# After modifying the function 'featurize', \n",
    "# 1. run the cell of class RBFAgent(object) to update the class\n",
    "# 2. After update the class, directly run this cell (Skip the cells above of training hadncraft feature) \n",
    "# 2. now let's rerun the agent\n",
    "\n",
    "with open(Path().cwd()/'cfg'/'cartpole_rbf.yaml', 'r') as f:\n",
    "    cfg = t.Struct(**yaml.safe_load(f))        \n",
    "agent = RBFAgent(n_actions=cfg.n_actions, gamma=cfg.gamma, batch_size=cfg.batch_size)"
   ]
  },
  {
   "cell_type": "code",
   "execution_count": 15,
   "id": "793f3d51-0bc1-469e-a889-86f217668c02",
   "metadata": {
    "tags": []
   },
   "outputs": [
    {
     "name": "stdout",
     "output_type": "stream",
     "text": [
      "Numpy/Torch/Random Seed:  436\n",
      "{'ep_reward': 20.0, 'episode': 0, 'epsilon': 1.0, 'ep_avr': 0.0036546513438224792, 'ts_avr': 0.00015987306833267211}\n",
      "{'ep_reward': 200.0, 'episode': 100, 'epsilon': 0.3333333333333333, 'ep_avr': 0.24695576816797257, 'ts_avr': 0.002268081815844016}\n",
      "{'ep_reward': 200.0, 'episode': 200, 'epsilon': 0.2, 'ep_avr': 0.40708810575306414, 'ts_avr': 0.002308979400096599}\n",
      "{'ep_reward': 200.0, 'episode': 300, 'epsilon': 0.14285714285714285, 'ep_avr': 0.43387290693819525, 'ts_avr': 0.0023073612235887195}\n",
      "{'ep_reward': 200.0, 'episode': 400, 'epsilon': 0.1111111111111111, 'ep_avr': 0.44637159511446955, 'ts_avr': 0.0023372747534348955}\n",
      "{'ep_reward': 200.0, 'episode': 500, 'epsilon': 0.09090909090909091, 'ep_avr': 0.4640708062052727, 'ts_avr': 0.0023220891567381535}\n",
      "{'ep_reward': 200.0, 'episode': 600, 'epsilon': 0.07692307692307693, 'ep_avr': 0.4598825094848871, 'ts_avr': 0.0023107348482602924}\n",
      "{'ep_reward': 200.0, 'episode': 700, 'epsilon': 0.06666666666666667, 'ep_avr': 0.4639917853474617, 'ts_avr': 0.002325181378831242}\n",
      "{'ep_reward': 200.0, 'episode': 800, 'epsilon': 0.058823529411764705, 'ep_avr': 0.46624188631772995, 'ts_avr': 0.0023306176342070104}\n",
      "{'ep_reward': 200.0, 'episode': 900, 'epsilon': 0.05263157894736842, 'ep_avr': 0.46532270550727844, 'ts_avr': 0.0023260306369513274}\n",
      "{'ep_reward': 200.0, 'episode': 1000, 'epsilon': 0.05, 'ep_avr': 0.46360842682421205, 'ts_avr': 0.002317459213733673}\n",
      "{'ep_reward': 200.0, 'episode': 1100, 'epsilon': 0.05, 'ep_avr': 0.4638818696886301, 'ts_avr': 0.0023188194293528794}\n",
      "{'ep_reward': 200.0, 'episode': 1200, 'epsilon': 0.05, 'ep_avr': 0.4635418792814016, 'ts_avr': 0.0023171252120286227}\n",
      "{'ep_reward': 200.0, 'episode': 1300, 'epsilon': 0.05, 'ep_avr': 0.46379360504448414, 'ts_avr': 0.002318397903814912}\n",
      "{'ep_reward': 200.0, 'episode': 1400, 'epsilon': 0.05, 'ep_avr': 0.4665029113739729, 'ts_avr': 0.002331917868927121}\n",
      "{'ep_reward': 200.0, 'episode': 1500, 'epsilon': 0.05, 'ep_avr': 0.47808734580874446, 'ts_avr': 0.002389842510968447}\n",
      "{'ep_reward': 200.0, 'episode': 1600, 'epsilon': 0.05, 'ep_avr': 0.47334212318062785, 'ts_avr': 0.002366087382286787}\n",
      "{'ep_reward': 200.0, 'episode': 1700, 'epsilon': 0.05, 'ep_avr': 0.46582071647047996, 'ts_avr': 0.0023284901201725008}\n",
      "{'ep_reward': 200.0, 'episode': 1800, 'epsilon': 0.05, 'ep_avr': 0.46805115446448325, 'ts_avr': 0.0023396494939923284}\n",
      "{'ep_reward': 200.0, 'episode': 1900, 'epsilon': 0.05, 'ep_avr': 0.48020552679896356, 'ts_avr': 0.0024004031050950288}\n",
      "------ Training Finished ------\n"
     ]
    }
   ],
   "source": [
    "# Takes more time to train :)\n",
    "if not skip_training:\n",
    "    t.train(agent, cfg_path=Path().cwd()/'cfg'/'cartpole_rbf.yaml', cfg_args={}) # >= 60 mins"
   ]
  },
  {
   "cell_type": "markdown",
   "id": "8b602bfa",
   "metadata": {},
   "source": [
    "In order to get full points from the task make sure most of the test episodes give a reward of 200, given the seeds below (at least 50% of episodes)."
   ]
  },
  {
   "cell_type": "code",
   "execution_count": 21,
   "id": "88396eef-a80e-41dd-bdc7-c5cb67a2e75f",
   "metadata": {
    "tags": []
   },
   "outputs": [
    {
     "name": "stdout",
     "output_type": "stream",
     "text": [
      "Numpy/Torch/Random Seed:  436\n",
      "{'episode': 0, 'ep_reward': 200.0}\n",
      "{'episode': 1, 'ep_reward': 200.0}\n",
      "{'episode': 2, 'ep_reward': 200.0}\n",
      "{'episode': 3, 'ep_reward': 200.0}\n",
      "{'episode': 4, 'ep_reward': 200.0}\n",
      "{'episode': 5, 'ep_reward': 200.0}\n",
      "{'episode': 6, 'ep_reward': 200.0}\n",
      "{'episode': 7, 'ep_reward': 200.0}\n",
      "{'episode': 8, 'ep_reward': 200.0}\n",
      "{'episode': 9, 'ep_reward': 200.0}\n"
     ]
    }
   ],
   "source": [
    "if not skip_training:\n",
    "    t.test(agent, cfg_path=Path().cwd()/'cfg'/'cartpole_rbf.yaml', cfg_args=dict(save_video=True), seeds=[67, 23, 89, 12, 45, 78, 34, 90, 21, 56]) "
   ]
  },
  {
   "cell_type": "code",
   "execution_count": 23,
   "id": "4b5fd3b7-ee1d-46c7-830f-54b295ececa3",
   "metadata": {
    "tags": []
   },
   "outputs": [
    {
     "name": "stdout",
     "output_type": "stream",
     "text": [
      "Numpy/Torch/Random Seed:  436\n"
     ]
    },
    {
     "data": {
      "image/png": "[encoded data removed]",
      "text/plain": [
       "<Figure size 640x480 with 1 Axes>"
      ]
     },
     "metadata": {},
     "output_type": "display_data"
    }
   ],
   "source": [
    "if not skip_training:\n",
    "    t.plot(save_name='cartpole_rbf.png', cfg_path=Path().cwd()/'cfg'/'cartpole_rbf.yaml', cfg_args={}) # < 5 mins"
   ]
  },
  {
   "cell_type": "markdown",
   "id": "445eb823-f602-442f-b4b3-ed6806c18ffe",
   "metadata": {
    "tags": []
   },
   "source": [
    "The agent acting in the environment can be seen using the following command. Change the path to pick the episode you want to visualize. Bear in mind by default video saving for training is taken every 500 episodes"
   ]
  },
  {
   "cell_type": "code",
   "execution_count": 24,
   "id": "cd524780-6930-4de3-ae4b-9157e89760d7",
   "metadata": {
    "tags": []
   },
   "outputs": [
    {
     "data": {
      "text/html": [
       "<video loop autoplay  >\n",
       " <source src=\"data:video/mp4;base64,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\" type=\"video/mp4\">\n",
       " Your browser does not support the video tag.\n",
       " </video>"
      ],
      "text/plain": [
       "<IPython.core.display.Video object>"
      ]
     },
     "metadata": {},
     "output_type": "display_data"
    }
   ],
   "source": [
    "if not skip_training:\n",
    "    video = Video(Path().cwd()/'results'/'CartPole-v1'/'video'/'test'/'ex4_rbf-episode-0.mp4',\n",
    "    embed=True, html_attributes=\"loop autoplay\") # Set html_attributes=\"controls\" for video control\n",
    "    display(video)"
   ]
  },
  {
   "cell_type": "code",
   "execution_count": 25,
   "id": "34862517",
   "metadata": {
    "deletable": false,
    "editable": false,
    "nbgrader": {
     "cell_type": "code",
     "checksum": "930235c2e6039ea417917618e7bfb84c",
     "grade": true,
     "grade_id": "cell-b8217caa685dddf5",
     "locked": true,
     "points": 20,
     "schema_version": 3,
     "solution": false,
     "task": false
    },
    "tags": []
   },
   "outputs": [],
   "source": [
    "%%capture --no-stdout\n",
    "\"TEST\""
   ]
  },
  {
   "cell_type": "markdown",
   "id": "8f725b2e",
   "metadata": {},
   "source": [
    "<a id='Q1'></a>\n",
    "<div class=\" alert alert-warning\">\n",
    "    <h3><b>Student Question 1.1</b> Considering Linear Features (10 points) </h3> \n",
    "    \n",
    "**Hint:** directly return 'state' in function 'featurize'\n",
    "    \n",
    "🔝\t<a href='#TOC'><b>Table of Contents</b></a>\n",
    "</div>\n"
   ]
  },
  {
   "cell_type": "markdown",
   "id": "5635de8e-3bdb-4856-a21e-20381601edbe",
   "metadata": {},
   "source": [
    "### 1.1.1 Question (4 points):\n",
    "Which of the following best describes why linear approximation of Q-values in the Cartpole problem is inaccurate?\n",
    "\n",
    "**Select one:**\n",
    "\n",
    "1. The environment dynamics are non-linear\n",
    "2. The Q-function is inherently non-linear\n",
    "3. The state space is too large\n",
    "4. The action space is continuous\n"
   ]
  },
  {
   "cell_type": "code",
   "execution_count": 17,
   "id": "7903b02f-aae1-4b91-bd55-fee1f72129fa",
   "metadata": {
    "tags": []
   },
   "outputs": [],
   "source": [
    "sq_1_1_1 = 2 # Replace with the appropriate answer number"
   ]
  },
  {
   "cell_type": "markdown",
   "id": "f058dca0-e5d7-4890-a4e8-a26a1f3bea00",
   "metadata": {},
   "source": [
    "### 1.1.2 Question (2 points):\n",
    "What does the Q-function represent?\n",
    "\n",
    "**Select one:**\n",
    "\n",
    "1. The immediate reward for taking an action\n",
    "2. The probability of the pole falling\n",
    "3. The expected cumulative reward for taking an action and then following the optimal policy\n",
    "4. The linear transformation of the current state\n"
   ]
  },
  {
   "cell_type": "code",
   "execution_count": 18,
   "id": "7a93ee55-0e47-4a1a-b3d5-6d8e8dde720b",
   "metadata": {
    "tags": []
   },
   "outputs": [],
   "source": [
    "sq_1_1_2 = 3 # Replace with the appropriate answer number"
   ]
  },
  {
   "cell_type": "markdown",
   "id": "5a783f6e-c95b-445e-9f7f-27ba47eab902",
   "metadata": {},
   "source": [
    "### 1.1.3 Question (4 points):\n",
    "If the environment dynamics of Cartpole were perfectly linear, which statement would be true?\n",
    "\n",
    "**Select one:**\n",
    "\n",
    "1. The Q-function would also be linear\n",
    "2. Linear approximation of the Q-function would be accurate\n",
    "3. The Q-function could still be non-linear\n",
    "4. Reinforcement learning would not be necessary\n"
   ]
  },
  {
   "cell_type": "code",
   "execution_count": 19,
   "id": "223f8512-2231-4eb8-b8db-16cd6d62d420",
   "metadata": {
    "tags": []
   },
   "outputs": [],
   "source": [
    "sq_1_1_3 = 2 # Replace with the appropriate answer number"
   ]
  },
  {
   "cell_type": "markdown",
   "id": "5253364e-6e75-4729-8e00-cb606b48dae9",
   "metadata": {},
   "source": [
    "The following cells are used for grading"
   ]
  },
  {
   "cell_type": "code",
   "execution_count": 20,
   "id": "2af865cb-688d-4e9a-b93d-44cb625bebcd",
   "metadata": {
    "deletable": false,
    "editable": false,
    "nbgrader": {
     "cell_type": "code",
     "checksum": "a1b5c33652bada8565e4ee5fb2c1175d",
     "grade": true,
     "grade_id": "cell-b4096a96472e5562",
     "locked": true,
     "points": 0,
     "schema_version": 3,
     "solution": false,
     "task": false
    },
    "tags": []
   },
   "outputs": [],
   "source": [
    "assert sq_1_1_1 in range(1, 5)\n",
    "assert sq_1_1_2 in range(1, 5)\n",
    "assert sq_1_1_3 in range(1, 5)"
   ]
  },
  {
   "cell_type": "code",
   "execution_count": null,
   "id": "4fd02bb8-7933-4647-9993-c19ab6518f54",
   "metadata": {
    "deletable": false,
    "editable": false,
    "nbgrader": {
     "cell_type": "code",
     "checksum": "39cdd7a5d517d956028c7800288c1eab",
     "grade": true,
     "grade_id": "cell-83357309429acbcd",
     "locked": true,
     "points": 4,
     "schema_version": 3,
     "solution": false,
     "task": false
    },
    "tags": []
   },
   "outputs": [],
   "source": []
  },
  {
   "cell_type": "code",
   "execution_count": null,
   "id": "cac21b47-cf94-4da5-bbeb-a39a7abdaca2",
   "metadata": {
    "deletable": false,
    "editable": false,
    "nbgrader": {
     "cell_type": "code",
     "checksum": "e8a92c0c561551cfe15d0aa2c1d00ae0",
     "grade": true,
     "grade_id": "cell-3ed323aa17884686",
     "locked": true,
     "points": 2,
     "schema_version": 3,
     "solution": false,
     "task": false
    },
    "tags": []
   },
   "outputs": [],
   "source": []
  },
  {
   "cell_type": "code",
   "execution_count": null,
   "id": "f9ab2f9f-aff6-4258-abe9-7e21c6270ba6",
   "metadata": {
    "deletable": false,
    "editable": false,
    "nbgrader": {
     "cell_type": "code",
     "checksum": "40a67f2521eabb810cf0e07e83a93bc7",
     "grade": true,
     "grade_id": "cell-4284778ad9d19593",
     "locked": true,
     "points": 4,
     "schema_version": 3,
     "solution": false,
     "task": false
    },
    "tags": []
   },
   "outputs": [],
   "source": []
  },
  {
   "cell_type": "markdown",
   "id": "c5a8edc7",
   "metadata": {},
   "source": [
    "<a id='Q2'></a>\n",
    "<div class=\" alert alert-warning\">\n",
    "    <h3><b>Student Question 1.2</b> Experience Replay Buffer (10 points) </h3> \n",
    "\n",
    "**Hint:** In machine learning, when training a model, we usually assume dataset includes i.i.d(independent and identically distributed) samples from a unknown distribution.\n",
    "    \n",
    "🔝\t<a href='#TOC'><b>Table of Contents</b></a>\n",
    "</div>\n"
   ]
  },
  {
   "cell_type": "markdown",
   "id": "d92584a0-e8d6-4a49-86bc-7d14d2c958d0",
   "metadata": {},
   "source": [
    "### 1.2.1 Question (5 points):\n",
    "Why do we use the experience replay buffer in reinforcement learning? Select two answers.\n",
    "\n",
    "**Select two:**\n",
    "\n",
    "1. To prioritize the most recent experiences over older ones\n",
    "2. To make the learning process faster by re-using previous data and improving sample efficiency\n",
    "3. To ensure that the agent only learns from highly rewarding experiences\n",
    "4. To prevent the agent from learning negative experiences\n",
    "5. To break the correlation between consecutive experiences"
   ]
  },
  {
   "cell_type": "code",
   "execution_count": 22,
   "id": "4bbf9062-d94b-40f2-a486-930af53ae3c6",
   "metadata": {
    "tags": []
   },
   "outputs": [],
   "source": [
    "sq_1_2_1 = [5, 2] # Write the appropriate answer number(s) inside the list"
   ]
  },
  {
   "cell_type": "markdown",
   "id": "78f7f3c6-c8f0-487c-bece-850f2fa9e087",
   "metadata": {},
   "source": [
    "### 1.2.2 Question (5 points):\n",
    "Which of the following best describes the benefit of randomly sampling mini-batches from the experience replay buffer?\n",
    "\n",
    "**Select one:**\n",
    "\n",
    "1. It helps the agent to focus on learning from consecutive experiences\n",
    "2. It creates a more diverse and less correlated set of training data, leading to more stable learning\n",
    "3. It allows the agent to forget irrelevant or outdated information more quickly\n",
    "4. It reduces the computational complexity of the learning algorithm\n",
    "5. It simulates exploration by introducing randomness into the learning process"
   ]
  },
  {
   "cell_type": "code",
   "execution_count": 27,
   "id": "f182a02a-15a0-4e09-ac15-f067203d64f7",
   "metadata": {
    "tags": []
   },
   "outputs": [],
   "source": [
    "sq_1_2_2 = 2 # Replace with the appropriate answer number"
   ]
  },
  {
   "cell_type": "markdown",
   "id": "5c53ffaa-6c4f-48b8-bfda-9af54c05b908",
   "metadata": {},
   "source": [
    "The following cells are used for grading"
   ]
  },
  {
   "cell_type": "code",
   "execution_count": 28,
   "id": "f368aba2-5019-4950-aaa0-94a77e5395a1",
   "metadata": {
    "deletable": false,
    "editable": false,
    "nbgrader": {
     "cell_type": "code",
     "checksum": "982d06f1f15e6f7860fe56d3104b7ed1",
     "grade": true,
     "grade_id": "cell-f26d8fd34a084fd7",
     "locked": true,
     "points": 0,
     "schema_version": 3,
     "solution": false,
     "task": false
    },
    "tags": []
   },
   "outputs": [],
   "source": [
    "assert len(set(sq_1_2_1)) == 2\n",
    "assert set(sq_1_2_1) < set(range(1, 6))\n",
    "assert sq_1_2_2 in range(1, 6)"
   ]
  },
  {
   "cell_type": "code",
   "execution_count": null,
   "id": "5f9dab76-57dd-4d3a-b848-ee30279be4a4",
   "metadata": {
    "deletable": false,
    "editable": false,
    "nbgrader": {
     "cell_type": "code",
     "checksum": "f754b47cbd9544158e573e576826d00a",
     "grade": true,
     "grade_id": "cell-0b9fd7282d23eb21",
     "locked": true,
     "points": 5,
     "schema_version": 3,
     "solution": false,
     "task": false
    },
    "tags": []
   },
   "outputs": [],
   "source": []
  },
  {
   "cell_type": "code",
   "execution_count": null,
   "id": "f264ce3c-6958-4880-95d2-efa9aef31f11",
   "metadata": {
    "deletable": false,
    "editable": false,
    "nbgrader": {
     "cell_type": "code",
     "checksum": "d64fb124439dc4825762417ec6d95155",
     "grade": true,
     "grade_id": "cell-0c6e6e9c7d9037fa",
     "locked": true,
     "points": 5,
     "schema_version": 3,
     "solution": false,
     "task": false
    },
    "tags": []
   },
   "outputs": [],
   "source": []
  },
  {
   "cell_type": "markdown",
   "id": "2a4793b0",
   "metadata": {},
   "source": [
    "<a id='Q3'></a>\n",
    "<div class=\" alert alert-warning\">\n",
    "    <h3><b>Student Question 1.3</b> Grid-based vs Function Approximators (10 points) </h3> \n",
    "\n",
    "**Hint:** An algorithm is said to be sample-efficient when it requires less samples (data) to reach\n",
    "an optimal performance\n",
    "    \n",
    "🔝\t<a href='#TOC'><b>Table of Contents</b></a>\n",
    "</div>\n"
   ]
  },
  {
   "cell_type": "markdown",
   "id": "e88bdee4-990f-4af4-816d-0fc869e720fe",
   "metadata": {
    "tags": []
   },
   "source": [
    "### 1.3.1 Question (10 points):\n",
    "In Exercise 3, we used grid-based Q-learning to balance the Cartpole. Compared to RBF function approximation methods, grid-based methods are:\n",
    "\n",
    "**Select one:**\n",
    "\n",
    "1. More sample-efficient because they take similarities between states into account, making them highly efficient.\n",
    "\n",
    "2. Less sample-efficient because they don't take similarities between states into account and require exploration of all discretized states.\n",
    "\n",
    "3. More robust to noise in the environment and require discretization of continuous state spaces, leading to fewer states to explore.\n",
    "\n",
    "4. Better at generalizing to unseen states because they always simplify the state space, making them more efficient.\n",
    "\n",
    "5. Equally sample-efficient as RBF methods, but less flexible in handling non-uniform state distributions."
   ]
  },
  {
   "cell_type": "code",
   "execution_count": 30,
   "id": "5e40d8ca-e43a-48e8-8421-11a3c4c82374",
   "metadata": {
    "tags": []
   },
   "outputs": [],
   "source": [
    "sq_1_3_1 = 2 # Replace with the appropriate answer number"
   ]
  },
  {
   "cell_type": "markdown",
   "id": "e86df44e-111e-4879-9e61-6cf0ddfe0237",
   "metadata": {},
   "source": [
    "The following cells are used for grading"
   ]
  },
  {
   "cell_type": "code",
   "execution_count": 31,
   "id": "1c91c3fe-5414-4a22-ace9-fd9d4dbbba25",
   "metadata": {
    "deletable": false,
    "editable": false,
    "nbgrader": {
     "cell_type": "code",
     "checksum": "8d0bf530ec49953542f230deb6eda721",
     "grade": true,
     "grade_id": "cell-e5a1f15f82928287",
     "locked": true,
     "points": 0,
     "schema_version": 3,
     "solution": false,
     "task": false
    },
    "tags": []
   },
   "outputs": [],
   "source": [
    "assert sq_1_3_1 in range(1, 6)"
   ]
  },
  {
   "cell_type": "code",
   "execution_count": null,
   "id": "901bf613-0613-4551-8d0d-d91d3b4c13f2",
   "metadata": {
    "deletable": false,
    "editable": false,
    "nbgrader": {
     "cell_type": "code",
     "checksum": "7ef41072134244695dccd85c5ef126f8",
     "grade": true,
     "grade_id": "cell-ac160ae349b95d4c",
     "locked": true,
     "points": 10,
     "schema_version": 3,
     "solution": false,
     "task": false
    },
    "tags": []
   },
   "outputs": [],
   "source": []
  },
  {
   "cell_type": "markdown",
   "id": "223b9e0c",
   "metadata": {},
   "source": [
    "<a id='T2'></a>\n",
    "<div class=\" alert alert-warning\">\n",
    "    <h3><b>Student Task 2.</b> Visualizing the Policy (10 points) </h3> \n",
    "\n",
    "Create a 2D plot of policy (best action in terms of state) learned with RBF in terms of $x$ and θ for $\\dot{x} = 0$ and $\\dot{\\theta} = 0$, such that θ is on the horizontal axis and $x$ is on the vertical axis. The plot will be visualized below.\n",
    "\n",
    "**Hint 1 :** You can fix $\\dot{x} = 0$ and $\\dot{\\theta} = 0$ and discretize the state-space for $x$ and $\\theta$.\n",
    "\n",
    "**Hint 2 :** You can directly use the code in ***excercise 1 Task 4*** to visualize the policy.\n",
    "    \n",
    "**Hint 3 :** For CartPole environment state specifications, find them here https://gymnasium.farama.org/environments/classic_control/cart_pole/\n",
    "    \n",
    "🔝\t<a href='#TOC'><b>Table of Contents</b></a>\n",
    "</div>\n"
   ]
  },
  {
   "cell_type": "code",
   "execution_count": 15,
   "id": "797754bd-2a91-4b68-ab12-84dab27f100a",
   "metadata": {
    "tags": []
   },
   "outputs": [
    {
     "data": {
      "image/png": "[encoded data removed]",
      "text/plain": [
       "<Figure size 1000x800 with 2 Axes>"
      ]
     },
     "metadata": {},
     "output_type": "display_data"
    }
   ],
   "source": [
    "import matplotlib.pyplot as plt\n",
    "import seaborn as sns\n",
    "import utils as u\n",
    "\n",
    "# define and reload the RBF agent, which is trained with RBF feature!!!!\n",
    "with open(Path().cwd()/'cfg'/'cartpole_rbf.yaml', 'r') as f:\n",
    "    cfg = t.Struct(**yaml.safe_load(f))        \n",
    "agent = RBFAgent(n_actions=cfg.n_actions, gamma=cfg.gamma, batch_size=cfg.batch_size)\n",
    "agent.load(Path().cwd()/'results/CartPole-v1/model/')\n",
    "\n",
    "########## Your code starts here ##########\n",
    "import gym\n",
    "\n",
    "env_name = \"CartPole-v1\"\n",
    "resolution = 101\n",
    "env = gym.make(env_name)\n",
    "\n",
    "xlim = (-2.5, 2.5)\n",
    "thetalim = (-0.5, 0.5)\n",
    "\n",
    "npoints = resolution\n",
    "x_range = np.linspace(xlim[0], xlim[1], npoints)\n",
    "theta_range = np.linspace(thetalim[0], thetalim[1], npoints)\n",
    "\n",
    "actions = np.zeros((npoints, npoints), dtype=np.int32)\n",
    "vel = np.array([0, 0], dtype=np.float32)\n",
    "\n",
    "for i, x in enumerate(x_range):\n",
    "    for j, theta in enumerate(theta_range):\n",
    "        state = np.array([x, vel[0], theta, vel[1]])\n",
    "        best_action = agent.get_action(state, epsilon=0.0)\n",
    "        actions[i, j] = best_action\n",
    "\n",
    "\n",
    "plt.figure(figsize=(10, 8))\n",
    "cmap = sns.color_palette(\"deep\", env.action_space.n)\n",
    "heatmap = sns.heatmap(actions, cmap=cmap, xticklabels=False, yticklabels=False)\n",
    "\n",
    "num_ticks = 10\n",
    "x_tick_positions = np.linspace(0, npoints - 1, num_ticks)\n",
    "x_tick_labels = np.linspace(xlim[0], xlim[1], num_ticks)\n",
    "theta_tick_positions = np.linspace(0, npoints - 1, num_ticks)\n",
    "theta_tick_labels = np.linspace(thetalim[0], thetalim[1], num_ticks)\n",
    "\n",
    "plt.xticks(x_tick_positions, np.round(x_tick_labels, 2), rotation=45)\n",
    "plt.yticks(theta_tick_positions, np.round(theta_tick_labels, 2), rotation=45)\n",
    "colorbar = heatmap.collections[0].colorbar\n",
    "ticks = np.array(range(env.action_space.n)) * ((env.action_space.n - 1) / env.action_space.n) + 0.5\n",
    "colorbar.set_ticks(ticks)\n",
    "\n",
    "plt.xlabel(\"Theta\")\n",
    "plt.ylabel(\"x\")\n",
    "plt.show()\n",
    "\n",
    "\n",
    "\n",
    "########## Your code ends here #############\n",
    "\n"
   ]
  },
  {
   "cell_type": "markdown",
   "id": "25abcff7-fe09-4151-b343-f0e246725125",
   "metadata": {
    "deletable": false,
    "editable": false,
    "nbgrader": {
     "cell_type": "markdown",
     "checksum": "8b26591fe5462716bc0054bce44c792d",
     "grade": false,
     "grade_id": "cell-ff09aacaf4dcf0a0",
     "locked": true,
     "points": 10,
     "schema_version": 3,
     "solution": false,
     "task": true
    }
   },
   "source": [
    "Do not remove this cell as it is used for grading"
   ]
  },
  {
   "cell_type": "markdown",
   "id": "c88aa5e4-757d-49c8-9bec-3f23e7bc2f9f",
   "metadata": {
    "tags": []
   },
   "source": [
    "# 3. Submitting <a id='3.'></a>\n",
    "Ensure all tasks and questions (in ```ex4_dpn.ipynb``` and ```ex4_rbf.ipynb```) are answered and the necessary plots are saved in the appropriate locations. The relevant plots and files need to be included for this part of assignment are:\n",
    "\n",
    "\n",
    "- Training performance plots:\n",
    "  - `cartpole_hd.png`: Training performance of handcrafted feature plots in terms of episode and episodic reward\n",
    "  - `cartpole_rbf.png`: training performance of rbf feature plots in terms of episode and episodic reward \n",
    "<br>\n",
    "<br>\n",
    "\n",
    "  \n",
    "\n",
    "- Model files:\n",
    "  - `rbf.kpl`: Trained model\n",
    "\n",
    "\n",
    "Ensure the correct model files and plots are saved in paths:\n",
    "- ```results/CartPole-v1/cartpole_rbf.png``` Training result for Cartpole environment\n",
    "- ```results/CartPole-v1/cartpole_hd.png```  Training result for Cartpole environment\n",
    "- ```results/CartPole-v1/model/rbf.kpl``` Model for Cartpole environment\n",
    "\n",
    "\n",
    "<span style=\"color:red\"> **# IMPORTANT: DO NOT FORGET ANOTHER TASK IN ```ex4_dqn.ipynb```** </span>"
   ]
  },
  {
   "cell_type": "code",
   "execution_count": 20,
   "id": "6fa5830a",
   "metadata": {
    "deletable": false,
    "editable": false,
    "nbgrader": {
     "cell_type": "code",
     "checksum": "0df485c3a518d54d556aa23bfd41b439",
     "grade": true,
     "grade_id": "cell-2c6ecd048a50b678",
     "locked": true,
     "points": 0,
     "schema_version": 3,
     "solution": false,
     "task": false
    },
    "tags": []
   },
   "outputs": [],
   "source": [
    "# Make sure that skip training is set to True before submission\n",
    "assert skip_training == True"
   ]
  },
  {
   "cell_type": "markdown",
   "id": "7dbc83ca-dbb0-4024-868e-6718a83e9bb2",
   "metadata": {
    "tags": []
   },
   "source": [
    "## 3.1 Feedback <a id='3.1'></a>\n",
    "\n",
    "In order to help the staff of the course as well as the forthcoming students, it would be great if you could answer to the following questions in your submission:"
   ]
  },
  {
   "cell_type": "markdown",
   "id": "eee27da8-ac20-488b-9d05-c03ed1f0f837",
   "metadata": {},
   "source": [
    "1) How much time did you spend solving this exercise? (change the ```hrs``` variable below to a floating point number representing the number of hours taken e.g. 5.43)"
   ]
  },
  {
   "cell_type": "code",
   "execution_count": null,
   "id": "f4a4e19d-39b6-466a-8fea-b63f91916cf5",
   "metadata": {
    "tags": []
   },
   "outputs": [],
   "source": [
    "hrs = None"
   ]
  },
  {
   "cell_type": "markdown",
   "id": "dc128a60-a227-41b5-b6e0-531de2c3df1b",
   "metadata": {},
   "source": [
    "2) Difficulty of each task/question from 1-5 (int or float)"
   ]
  },
  {
   "cell_type": "code",
   "execution_count": null,
   "id": "c797f06b-bf2d-4305-abe2-e2773c6fb3d8",
   "metadata": {
    "tags": []
   },
   "outputs": [],
   "source": [
    "T1_a = None   # Implementing Hand feature \n",
    "T2_b = None   # Implementing RBF feature \n",
    "Q1_1 = None # Question 1.1 Considering linear features (10 points)\n",
    "Q1_2 = None # Question 1.2 Experience replay (10 points)\n",
    "Q1_3 = None # Question 1.3 Grid vs Function (10 points)\n",
    "Q2 = None # Question 2 Policy visualization (10 points)"
   ]
  },
  {
   "cell_type": "markdown",
   "id": "e6612842-e130-4658-adef-181218023449",
   "metadata": {},
   "source": [
    "3) How well did you understand the content of the task/question from 1-5? (int or float)"
   ]
  },
  {
   "cell_type": "code",
   "execution_count": null,
   "id": "5a5ea255-ca3f-4ee2-860c-147ff88373f7",
   "metadata": {
    "tags": []
   },
   "outputs": [],
   "source": [
    "T1_a = None   # Implementing Hand feature \n",
    "T2_b = None   # Implementing RBF feature \n",
    "Q1_1 = None # Question 1.1 Considering linear features (10 points)\n",
    "Q1_2 = None # Question 1.2 Experience replay (10 points)\n",
    "Q1_3 = None # Question 1.3 Grid vs Function (10 points)\n",
    "Q2 = None # Question 2 Policy visualization (10 points)"
   ]
  },
  {
   "cell_type": "markdown",
   "id": "77831fe1-f18d-4036-97a9-ad6d1adadfa2",
   "metadata": {},
   "source": [
    "4) General feedback. Consider questions like:\n",
    "\n",
    "    - Did the content of the lecture relate well with the assignment?\n",
    "    - To what extent did you find the material to be potentially useful for your research and studies?\n",
    "    \n",
    "Please share any additional feedback, suggestions, or comments you have about the lecture, assignment, or course content. Your input is valuable in helping us improve the learning experience."
   ]
  },
  {
   "cell_type": "markdown",
   "id": "6c8038fb-e038-4eac-87f3-ff28e0f94e9d",
   "metadata": {
    "tags": []
   },
   "source": [
    "DOUBLE CLICK HERE TO EDIT, CLEAR THIS TEXT AND ANSWER HERE"
   ]
  }
 ],
 "metadata": {
  "kernelspec": {
   "display_name": "Python 3",
   "language": "python",
   "name": "python3"
  },
  "language_info": {
   "codemirror_mode": {
    "name": "ipython",
    "version": 3
   },
   "file_extension": ".py",
   "mimetype": "text/x-python",
   "name": "python",
   "nbconvert_exporter": "python",
   "pygments_lexer": "ipython3",
   "version": "3.10.12"
  }
 },
 "nbformat": 4,
 "nbformat_minor": 5
}
