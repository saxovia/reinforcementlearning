{
 "cells": [
  {
   "cell_type": "markdown",
   "id": "e9b29c9b",
   "metadata": {
    "deletable": false,
    "editable": false,
    "nbgrader": {
     "cell_type": "markdown",
     "checksum": "24cdaedcd4b5dfe347328615bb32c2c1",
     "grade": false,
     "grade_id": "cell-afd59c116a3ed810",
     "locked": true,
     "schema_version": 3,
     "solution": false,
     "task": false
    }
   },
   "source": [
    "\n",
    "<div class=\"alert alert-block alert-info\">\n",
    "   <h2 align=\"center\"> <center><b> Reinforcement Learning Assignment 5 - Policy Gradient </b></center></h2>\n",
    "\n",
    "<br>\n",
    "<center><font size=\"3\">This notebook is a part of teaching material for ELEC-E8125</font></center>\n",
    "<center><font size=\"3\">Sep 4, 2024 - Nov 30, 2024</font></center>\n",
    "<center><font size=\"3\">Aalto University</font></center>\n",
    "</div>\n",
    "\n",
    "\n",
    "<a id='TOC'></a>\n",
    "\n",
    "<div class=\"alert alert-block alert-success\">\n",
    " \n",
    "# Table of contents\n",
    "* <a href='#1.'> 1. Introduction </a>\n",
    "* <a href='#1.1'> 1.1 Learning Objectives </a>\n",
    "* <a href='#1.2'> 1.2 Code Structure & Files </a>\n",
    "* <a href='#2.'> 2. Policy gradient with and without baseline</a>\n",
    "* <a href='#2.1'> 2.1 Training Loop</a>\n",
    "* <a href='#2.2'> 2.2 Policy with Fixed Variance </a>\n",
    "* <a href='#2.3'> 2.3 PG Objects</a>\n",
    "* <a href='#3.'> 3. Choosing the value of variance </a>\n",
    "* <a href='#3.1'> 3.1 Policy with Learned Variance </a>\n",
    "* <a href='#4.'> 4. PG and experience replay </a>\n",
    "* <a href='#5.'> 5. Real-world control problems </a>\n",
    "* <a href='#6.'> 6. Discrete action spaces </a>\n",
    "* <a href='#7.'> 7. Submitting </a>\n",
    "* <a href='#7.1'> 7.1 Feedback </a>\n",
    "* <a href='#8.'> References</a>\n",
    "\n",
    "<a href='#T1'><b>Student Task 1.</b> Implementing Reinforce PG algorithm </a>\\\n",
    "<a href='#T1a'><b>Student Task 1a.</b> Basic REINFORCE without baseline (15 points) </a>\\\n",
    "<a href='#T1b'><b>Student Task 1b.</b> REINFORCE with a constant baseline b = 20 (5 points) </a>\\\n",
    "<a href='#T1c'><b>Student Task 1c.</b> REINFORCE with discounted rewards normalized to zero mean and unit variance (5 points) </a>\\\n",
    "<a href='#Q1'><b>Student Question 1.1</b> A good baseline (15 points) </a>\\\n",
    "<a href='#T2'><b>Student Task 2.</b> Making Variance a Learnable Parameter (10 points) </a>\\\n",
    "<a href='#Q2'><b>Student Question 2.1</b> Constant vs Learnable Variance (5 points) </a>\\\n",
    "<a href='#Q3'><b>Student Question 2.2</b> Learnable Variance Initial Performance (5 points) </a> \\\n",
    "<a href='#Q4'><b>Student Question 3.</b> Considering a experience reply buffer (15 points)</a>\\\n",
    "<a href='#Q5'><b>Student Question 4.1</b> Considering an unbounded continuous action space part 1(5 points) </a>\\\n",
    "<a href='#Q6'><b>Student Question 4.2</b> Considering an unbounded continuous action space part 2 (10 points) </a>\\\n",
    "<a href='#Q7'><b>Student Question 5.</b> Considering discrete action spaces (10 points)</a>\n",
    "    \n",
    "**Total Points:** 100\n",
    "\n",
    "**Estimated runtime of all the cells:** 2 hours"
   ]
  },
  {
   "cell_type": "markdown",
   "id": "50c043fb",
   "metadata": {
    "deletable": false,
    "editable": false,
    "nbgrader": {
     "cell_type": "markdown",
     "checksum": "82ec0ae01bfbd06b245720b831476b14",
     "grade": false,
     "grade_id": "cell-ad52c038bf5d1c50",
     "locked": true,
     "schema_version": 3,
     "solution": false,
     "task": false
    }
   },
   "source": [
    "# 1. Introduction <a id='1.'></a>\n",
    "In this exercise, we will implement the REINFORCE policy gradient algorithm for [InvertedPendulum environment](https://gymnasium.farama.org/environments/mujoco/inverted_pendulum/). The InvertedPendulum is similar to the previously used CartPole environment, except it has a continuous action space: the action can now have values in a range of [−3,3]. The action value represents a numerical force applied to the cart, with magnitude representing the amount of force and sign representing the direction.\n",
    "\n",
    "## 1.2 Learning Objectives <a id='1.2'></a>\n",
    "- To understand how policy gradient works\n",
    "- To implement the REINFORCE policy gradient algorithm\n",
    "- To understand the limits and use cases of policy gradient\n",
    "\n",
    "## 1.3 Code Structure and Files <a id='1.3'></a>\n",
    "You don’t have to edit any other file other than ```ex5.ipynb``` to complete this exercise.\n",
    "\n",
    "```\n",
    "├───cfg                  # Config files for environments e.g. define the maximum number of steps in an episode.\n",
    "├───imgs                 # Images used in notebook\n",
    "├───results \n",
    "│   ├───logging          # Contains logged data\n",
    "│   ├───model            # Contains the policies learned\n",
    "│   └───video            # Contains videos for each environment\n",
    "│       └───InvertedPendulum-v4\n",
    "│       │  └───test      # Videos saved during testing\n",
    "│       │  └───train     # Videos saved during training\n",
    "│   ex5.ipynb            # Main assignment file containing tasks <---------\n",
    "│   setup.py             # Contains setup function\n",
    "│   utils.py             # Contains useful functions \n",
    "```\n",
    "---\n",
    "The foundational class, `PG`, stands as the base class for the Policy Gradient. Three additional classes - `PGNoBase(PG)`, `PGBase20(PG)`, and `PGGamma(PG)` - inherit from this base class. Each class corresponds to a different variant of the policy gradient:\n",
    "\n",
    "- `PGNoBase(PG)`: Implements the vanilla Policy Gradient without a baseline.\n",
    "- `PGBase20(PG)`: Utilizes a baseline of 20.\n",
    "- `PGGamma(PG)`: Employs PG gamma with discounted rewards normalized to zero mean and unit variance.\n",
    "\n",
    "# 2. Policy gradient with and without baseline <a id='2.'></a>"
   ]
  },
  {
   "cell_type": "markdown",
   "id": "298df828",
   "metadata": {
    "deletable": false,
    "editable": false,
    "nbgrader": {
     "cell_type": "markdown",
     "checksum": "8e9d507428e153788d3bffa9d165dc4e",
     "grade": false,
     "grade_id": "cell-46a132ec9dcfe4ac",
     "locked": true,
     "schema_version": 3,
     "solution": false,
     "task": false
    }
   },
   "source": [
    "## Warnings:\n",
    "\n",
    "- Don’t copy and paste cells within a notebook. This will mess up the tracking metadata and prevent autograding from working.\n",
    "- Only add new cells using the '+' button in the upper toolbar and do not split cells.\n",
    "- Be cautious about things such as copying the whole notebook to Colab to work on it. This has sometimes resulted in removing all notebook metadata, making autograding impossible."
   ]
  },
  {
   "cell_type": "markdown",
   "id": "7aabd7b5",
   "metadata": {
    "deletable": false,
    "editable": false,
    "nbgrader": {
     "cell_type": "markdown",
     "checksum": "46cf9e8cd6b3dfa2c69dcf9ebd86720f",
     "grade": false,
     "grade_id": "cell-f93aed21b4a0d27f",
     "locked": true,
     "schema_version": 3,
     "solution": false,
     "task": false
    },
    "tags": []
   },
   "source": [
    "<a id='T1'></a>\n",
    "<div class=\" alert alert-warning\">\n",
    "    <h3><b>Student Task 1.</b> Implementing Reinforce PG algorithm (25 points) </h3> \n",
    "\n",
    "Implement the REINFORCE policy gradient algorithm to balance the InvertedPendulum. \n",
    "<br> Use constant standard deviation $\\sigma = 1$ (i.e. $\\log(\\sigma) = 0$) for the output action distribution throughout the training. Implement:\n",
    "\n",
    "&nbsp;&nbsp;&nbsp;&nbsp;&nbsp;&nbsp; (a) basic REINFORCE without baseline (15 points),\n",
    "\n",
    "&nbsp;&nbsp;&nbsp;&nbsp;&nbsp;&nbsp; (b) REINFORCE with a constant baseline b = 20 (5 points),\n",
    "\n",
    "&nbsp;&nbsp;&nbsp;&nbsp;&nbsp;&nbsp; (c) REINFORCE with discounted rewards normalized to zero mean and unit variance (5 points),\n",
    "    \n",
    "**Complete the all the unfinished implementation in following cells (marked with ```TODOs```)**. \n",
    "    \n",
    "1. **Train Loop Function**: Finalize the `train_iteration(agent, env)` function to establish the training loop, similarly to how it was done in Exercise 1.\n",
    "2. **Policy Class with Fixed Variance**: Complete the `PolicyFixedVar(nn.Module)` class to generate a policy with a fixed variance.\n",
    "3. **Get Action Method**: Finish the `get_action(self, observation, evaluation=False)` method within the `PG` class, ensuring it can be inherited effectively.\n",
    "4. **Complete PG Classes**: Implepment the `PGNoBase(PG)`, `PGBase20(PG)`, and `PGGamma(PG)` classes, each tailored with a different baseline.\n",
    "\n",
    "**Hint:** The ```class PolicyFixedVar(nn.Module)```  contains a basic neural network structure. And we include reasonable\n",
    "hyperparameters in the ```cfg``` folder.\n",
    "\n",
    "**Hint:** Your policy should output a probability distribution over actions. A suitable and straightforward choice is to use a normal distribution (`from torch.distributions import Normal`). Compute log probabilities using the `log_prob` function of the distribution. We strongly recommend you to read the official PyTorch documentation to learn how to use the distributions and related functions.\n",
    "    \n",
    "🔝\t<a href='#TOC'><b>Table of Contents</b></a>\n",
    "</div>\n"
   ]
  },
  {
   "cell_type": "code",
   "execution_count": 46,
   "id": "0ca4ce4c",
   "metadata": {
    "tags": []
   },
   "outputs": [],
   "source": [
    "skip_training = True  # Set this flag to True before validation and submission"
   ]
  },
  {
   "cell_type": "code",
   "execution_count": null,
   "id": "9140b77c",
   "metadata": {
    "deletable": false,
    "editable": false,
    "nbgrader": {
     "cell_type": "code",
     "checksum": "414e47f15fa3b52031225c1d85f7c4ad",
     "grade": true,
     "grade_id": "cell-b087b63d5c88b12c",
     "locked": true,
     "points": 0,
     "schema_version": 3,
     "solution": false,
     "task": false
    }
   },
   "outputs": [],
   "source": []
  },
  {
   "cell_type": "code",
   "execution_count": 3,
   "id": "46471b1e-91d6-48bb-bb0d-f3de4be1aa79",
   "metadata": {
    "tags": []
   },
   "outputs": [],
   "source": [
    "# Importing system and path-related modules\n",
    "import sys\n",
    "import os\n",
    "sys.path.insert(0, os.path.abspath(\"..\"))\n",
    "\n",
    "# Importing PyTorch related modules\n",
    "import torch\n",
    "from torch import nn\n",
    "from torch.distributions import Normal\n",
    "import torch.nn.functional as F\n",
    "\n",
    "# Importing other third-party modules\n",
    "import numpy as np\n",
    "import yaml\n",
    "from pathlib import Path\n",
    "from IPython.display import Video  # to display videos\n",
    "\n",
    "# Importing local utility modules\n",
    "import utils as u\n",
    "from setup import setup\n",
    "\n",
    "# Setting the device for storing tensors/calculations\n",
    "device = 'cpu'"
   ]
  },
  {
   "cell_type": "markdown",
   "id": "a55e45ae",
   "metadata": {
    "tags": []
   },
   "source": [
    "## 2.1 Training Loop <a id='2.1'></a>\n",
    "\n",
    "In the subsequent cell, a foundational framework is provided for training a Reinforcement Learning (RL) agent employing the REINFORCE algorithm. It is constructed to efficiently monitor the agent's progress and performance throughout the training phase. Please complete the training loop, marked with `TODO`, to finalize the setup for the agent’s training process."
   ]
  },
  {
   "cell_type": "code",
   "execution_count": 4,
   "id": "428ff872",
   "metadata": {
    "tags": []
   },
   "outputs": [],
   "source": [
    "def to_numpy(tensor):\n",
    "    \"\"\"\n",
    "    Convert a PyTorch tensor to a NumPy array.\n",
    "\n",
    "    :param tensor: A PyTorch tensor.\n",
    "    :return: The converted NumPy array.\n",
    "    \"\"\"\n",
    "    # Squeeze the tensor, move it to CPU and convert to NumPy array\n",
    "    return tensor.squeeze(0).cpu().numpy()\n",
    "\n",
    "\n",
    "def train_iteration(agent, env):\n",
    "    # Policy training function\n",
    "\n",
    "    # Reset the environment and observe the initial state\n",
    "    reward_sum, timesteps, done = 0, 0, False\n",
    "    obs, _ = env.reset(seed=409)\n",
    "\n",
    "    while not done:\n",
    "        # TODO: Task 1: finish the train loop, including \n",
    "        # 1. Call agent.get_action to get action and log prob of the action\n",
    "        # 2. Call env.step with the action (note: you need to convert the action into a numpy array -- use the function to_numpy for this)\n",
    "        #   (Steps 1. and 2. you can also find from the 'test' function below)\n",
    "        # 3. Store the log prob of action and reward by calling agent.record\n",
    "        # 4. Update reward_sum by adding the reward received from env.step, and increase timesteps by one\n",
    "        # 5. Use the observation you receive from env.step to call agent.get_action for the next timestep \n",
    "        #   (Hint: ensure to use the `.copy()` method to avoid unexpected behavior due to aliasing.)\n",
    "\n",
    "        ########### Your code starts here ###########\n",
    "        # Get action from the agent\n",
    "        action, log_prob = agent.get_action(obs, evaluation=False)\n",
    "        # Perform the action on the environment, get new state and reward\n",
    "        action_detached = action.detach()\n",
    "        obs, reward, done, _, info = env.step(to_numpy(action_detached))\n",
    "        # Store agent's and env's outcome (so that the agent can improve its policy)\n",
    "        agent.record(log_prob, reward)\n",
    "        # Store total episode reward\n",
    "        reward_sum += reward\n",
    "        timesteps += 1\n",
    "        # update observation\n",
    "        ########## Your codes ends here. ##########\n",
    "        if timesteps >= 1000:\n",
    "            done = True\n",
    "        #agent.get_action(obs.copy())\n",
    "        obs = obs.copy()\n",
    "            \n",
    "    # Update the policy after one episode\n",
    "    info = agent.update()\n",
    "\n",
    "    # Return stats of training\n",
    "    info.update({'timesteps': timesteps,\n",
    "                'ep_reward': reward_sum,})\n",
    "    return info\n",
    "\n",
    "\n",
    "def train(agent_class, cfg_path, cfg_args={}):\n",
    "    env, cfg = setup(cfg_path, cfg_args=cfg_args)\n",
    "    performance_data = []\n",
    "    \n",
    "    if cfg.save_logging: \n",
    "        u.make_dir(Path().cwd()/'results'/cfg.env_name/\"logging\")\n",
    "        L = u.Logger() # create a simple logger to record stats\n",
    "        \n",
    "    # Get state and action dimensionality\n",
    "    state_dim = env.observation_space.shape[0]\n",
    "    action_dim = env.action_space.shape[0]\n",
    "\n",
    "    # Initialise the policy gradient agent\n",
    "    agent = agent_class(state_dim, action_dim, float(cfg.lr), float(cfg.gamma))\n",
    "    \n",
    "    for ep in range(cfg.train_episodes):\n",
    "        # collect data and update the policy\n",
    "        train_info = train_iteration(agent, env)\n",
    "        train_info.update({'episodes': ep})\n",
    "\n",
    "        if cfg.save_logging:\n",
    "            L.log(**train_info)\n",
    "        if (not cfg.silent) and (ep % 100 == 0):\n",
    "            print({\"ep\": ep, **train_info})\n",
    "\n",
    "        performance_data.append(train_info)\n",
    "        \n",
    "    u.plot_training_data(performance_data)\n",
    "    if cfg.save_model:\n",
    "        agent.save(cfg.model_path)\n",
    "    \n",
    "    print(\"Training complete!\")\n",
    "    \n",
    "\n",
    "# Function to test a trained policy\n",
    "@torch.no_grad()\n",
    "def test(agent_class, cfg_path, cfg_args={}, num_episodes=10, seeds=None):\n",
    "    env, cfg = setup(cfg_path, cfg_args=cfg_args)\n",
    "    \n",
    "    # Get state and action dimensionality\n",
    "    state_dim = env.observation_space.shape[0]\n",
    "    action_dim = env.action_space.shape[0]\n",
    "\n",
    "    # Initialise the policy gradient agent\n",
    "    agent = agent_class(state_dim, action_dim, float(cfg.lr), float(cfg.gamma))\n",
    "    \n",
    "    print(\"Loading model from\", cfg.model_path, \"...\")\n",
    "    agent.load(cfg.model_path)\n",
    "        \n",
    "    test_rewards = []\n",
    "    for ep in range(num_episodes):\n",
    "\n",
    "        if seeds != None:\n",
    "            test_seed = seeds[ep % len(seeds)]\n",
    "            print(\"Episode seed: \", test_seed)\n",
    "            (obs, _)  = env.reset(seed=test_seed)\n",
    "        else :\n",
    "            (obs, _)  = env.reset()\n",
    "        done=  False\n",
    "        test_reward = 0\n",
    "        timesteps = 0\n",
    "        \n",
    "        while not done:\n",
    "            # Similar to the training loop above -\n",
    "            # get the action, act on the environment, save total reward\n",
    "            # (evaluation=True makes the agent always return what it thinks to be\n",
    "            # the best action - there is no exploration at this point)\n",
    "            action, _ = agent.get_action(obs, evaluation=True)\n",
    "\n",
    "            \n",
    "            obs, reward, done, _, info = env.step(to_numpy(action))\n",
    "            timesteps += 1\n",
    "            test_reward += reward\n",
    "            \n",
    "            if timesteps >= 1000:\n",
    "                done = True\n",
    "        test_rewards.append(test_reward)\n",
    "\n",
    "        print(\"Test ep_reward:\", test_reward)\n",
    "\n",
    "    print(\"Median test reward:\", np.median(test_rewards))"
   ]
  },
  {
   "cell_type": "markdown",
   "id": "ac054ea1",
   "metadata": {},
   "source": [
    "## 2.2 Policy with Fixed Variance <a id='2.2'></a>\n",
    "\n",
    "This code is designed to establish a neural network policy where the variance is constant. The `PolicyFixedVar` class, which is a subclass of `nn.Module`, defines this policy. The policy uses a neural network to map states to actions, outputting a normal distribution with a mean and a standard deviation. \n",
    "\n",
    "#### Task:\n",
    "1. **Implementing actor_logstd:**\n",
    "   - Initialize `self.actor_logstd` as a torch tensor with zeros, ensuring to set the `device` parameter for appropriate storage.\n",
    "\n",
    "2. **Create and Return Distribution:**\n",
    "   - In the `forward` method, create a Normal distribution (`probs`) with the computed `action_mean` and `action_std`. This distribution represents the policy’s output given a state input."
   ]
  },
  {
   "cell_type": "code",
   "execution_count": 5,
   "id": "77a5cc6b",
   "metadata": {
    "tags": []
   },
   "outputs": [],
   "source": [
    "# Initialisation function for neural network layers\n",
    "def layer_init(layer, std=np.sqrt(2), bias_const=0.0):\n",
    "    torch.nn.init.orthogonal_(layer.weight, std)\n",
    "    torch.nn.init.constant_(layer.bias, bias_const)\n",
    "    return layer\n",
    "\n",
    "\n",
    "# This class defines the neural network policy\n",
    "class PolicyFixedVar(nn.Module):\n",
    "    def __init__(self, state_dim, action_dim):\n",
    "        super(PolicyFixedVar, self).__init__()\n",
    "\n",
    "        # Initialise a neural network with two hidden layers (64 neurons per layer)\n",
    "        self.actor_mean = nn.Sequential(\n",
    "            layer_init(nn.Linear(state_dim, 64)),\n",
    "            nn.Tanh(),\n",
    "            layer_init(nn.Linear(64, 64)),\n",
    "            nn.Tanh(),\n",
    "            layer_init(nn.Linear(64, action_dim), std=0.01),\n",
    "        )\n",
    "\n",
    "        # TODO: Task 1: Implement actor_logstd as a torch tensor. \n",
    "        # Hint: when creating the torch tensor, remember to set the parameter device=device \n",
    "        #       so the tensor is stored correctly on CUDA (if applicable) \n",
    "        ########## Your code starts here. ###########\n",
    "        \n",
    "        self.actor_logstd = torch.zeros(1, device=device)\n",
    "        \n",
    "        ########## Your code ends here. ##########\n",
    "\n",
    "    # Do a forward pass to map state to action\n",
    "    def forward(self, state):\n",
    "        # Get mean of a Normal distribution (the output of the neural network)\n",
    "        action_mean = self.actor_mean(state)\n",
    "\n",
    "        # Make sure action_logstd matches dimension of action_mean\n",
    "        action_logstd = self.actor_logstd.expand_as(action_mean)\n",
    "\n",
    "        # Exponentiate the log std to get actual std\n",
    "        action_std = torch.exp(action_logstd)\n",
    "\n",
    "        # TODO: Task 1: Create a Normal distribution with mean of 'action_mean' and standard deviation of 'action_std', and return the distribution\n",
    "        # Use the torch.distributions class\n",
    "        ########## Your code starts here. ###########\n",
    "\n",
    "        probs = torch.distributions.Normal(loc=action_mean, scale=action_std) \n",
    "        \n",
    "        ########## Your code ends here. ##########\n",
    "        return probs"
   ]
  },
  {
   "cell_type": "code",
   "execution_count": 6,
   "id": "b677a295",
   "metadata": {
    "deletable": false,
    "editable": false,
    "nbgrader": {
     "cell_type": "code",
     "checksum": "e673d7a1cb02204c75f9b5ea389b7d84",
     "grade": true,
     "grade_id": "cell-8e7d3a4799495ca0",
     "locked": true,
     "points": 0,
     "schema_version": 3,
     "solution": false,
     "task": false
    },
    "tags": []
   },
   "outputs": [],
   "source": [
    "# Test Policy\n",
    "def test_return_class():\n",
    "    policy = PolicyFixedVar(4, 1)\n",
    "    x = torch.Tensor((1.,2.,3.,4.)).reshape((1,4))\n",
    "    assert isinstance( policy.forward(x),Normal)\n",
    "\n",
    "test_return_class()"
   ]
  },
  {
   "cell_type": "markdown",
   "id": "4de05f7e",
   "metadata": {},
   "source": [
    "## 2.3 PG Objects <a id='2.3'></a>\n",
    "\n",
    "The `PG` class is defined as the Policy Gradient base class. This class forms the foundation for implementing policy gradient algorithms, providing a structured format and placeholders for essential functions and variables used in these algorithms. The methods within this class will be used to interact with, update, and manage the policy used by the agent to make decisions in the environment.\n",
    "\n",
    "Task: Implementing the `get_action` Method."
   ]
  },
  {
   "cell_type": "code",
   "execution_count": 7,
   "id": "7e300959",
   "metadata": {
    "tags": []
   },
   "outputs": [],
   "source": [
    "# Class for the Policy Gradient algorithm\n",
    "class PG(object):\n",
    "    def __init__(self, state_dim, action_dim, lr, gamma):\n",
    "        # Define the neural network policy with fixed variance \n",
    "        self.policy = PolicyFixedVar(state_dim, action_dim).to(device)\n",
    "\n",
    "        # Create an optimizer\n",
    "        self.optimizer = torch.optim.Adam(self.policy.parameters(), lr=lr)\n",
    "\n",
    "        # Set discount factor value\n",
    "        self.gamma = gamma\n",
    "\n",
    "        # Simple buffers for action probabilities and rewards\n",
    "        self.action_probs = []\n",
    "        self.rewards = []\n",
    "\n",
    "    def update(self):\n",
    "        pass\n",
    "\n",
    "    def record(self, action_prob, reward):\n",
    "        \"\"\" Store agent's and env's outcomes to update the agent.\"\"\"\n",
    "        self.action_probs.append(action_prob)\n",
    "        self.rewards.append(torch.tensor([reward]))\n",
    "\n",
    "    def save(self, filepath):\n",
    "        torch.save(self.policy.state_dict(), filepath)\n",
    "\n",
    "    def load(self, filepath):\n",
    "        self.policy.load_state_dict(torch.load(filepath))\n",
    "    \n",
    "    def get_action(self, observation, evaluation=False):\n",
    "        \"\"\"Return action and logprob of this action.\"\"\"\n",
    "\n",
    "        # Add batch dimension if necessary\n",
    "        if observation.ndim == 1: \n",
    "            observation = observation[None]\n",
    "\n",
    "        # Convert observation to a torch tensor\n",
    "        x = torch.from_numpy(observation).float().to(device)\n",
    "\n",
    "        # TODO: Task 1: Calculate action and its log_prob\n",
    "        ########## Your code starts here. ###########\n",
    "        # Hint: \n",
    "        #   1. when evaluation=True, return mean, otherwise return samples from the distribution created in self.policy.forward() function.\n",
    "        #   2. notice the shape of action and act_logprob.\n",
    "        \n",
    "        # Pass state x through the policy network (T1)\n",
    "        \n",
    "        distribution = self.policy.forward(x)\n",
    "        \n",
    "        # Return mean if evaluation, else sample from the distribution\n",
    "        if evaluation:\n",
    "            action = distribution.mean\n",
    "        else:\n",
    "            action = distribution.sample()\n",
    "        # Calculate the log probability of the action (T1)\n",
    "        \n",
    "        act_logprob = distribution.log_prob(action)\n",
    "        if len(act_logprob.shape) > 1:\n",
    "            act_logprob = act_logprob.sum(dim=-1)\n",
    "        ########## Your code ends here. ##########\n",
    "        \n",
    "        if observation.ndim == 1: \n",
    "            action = action[0]\n",
    "\n",
    "        return action, act_logprob"
   ]
  },
  {
   "cell_type": "markdown",
   "id": "61981975",
   "metadata": {},
   "source": [
    "<a id='T1a'></a>\n",
    "<div class=\" alert alert-warning\">\n",
    "    <h3><b>Student Task 1a.</b> Basic REINFORCE without baseline (15 points) </h3> \n",
    "The training performance plot might look like Figure 1a. \n",
    "    <figure style=\"text-align: center\">\n",
    "    <img src=\"imgs/PGNoBase.svg\" width=\"600px\">\n",
    "    <figcaption style=\"text-align: center\"> Figure 1a: REINFORCE without baseline. </figcaption>\n",
    "    </figure>\n",
    "    \n",
    "🔝\t<a href='#TOC'><b>Table of Contents</b></a>\n",
    "</div>\n"
   ]
  },
  {
   "cell_type": "code",
   "execution_count": 12,
   "id": "e164da7c",
   "metadata": {
    "tags": []
   },
   "outputs": [],
   "source": [
    "class PGNoBase(PG):\n",
    "    def __init__(self, state_dim, action_dim, lr, gamma):\n",
    "        super().__init__(state_dim, action_dim, lr, gamma)\n",
    "\n",
    "    # TODO: Task 1: Implement the policy gradient\n",
    "    # Complete the following 2 functions\n",
    "    # Hints:\n",
    "    #   1. compute discounted rewards (use the discount_rewards function offered in common.helper)\n",
    "    #   2. compute the policy gradient loss\n",
    "    \n",
    "    # Compute discounted rewards \n",
    "    def calculate_discounted_rewards(self, rewards):\n",
    "        ########## Your code starts here. ##########\n",
    "        discounted_rewards = u.discount_rewards(rewards, self.gamma)\n",
    "\n",
    "        ########## Your code ends here. ##########\n",
    "        return discounted_rewards\n",
    "\n",
    "    # Calculate the PG loss\n",
    "    def calculate_loss(self, action_probs, discounted_rewards):\n",
    "        ########## Your code starts here. ##########\n",
    "        loss = -torch.mean(action_probs * discounted_rewards)\n",
    "        ########## Your code ends here. ##########\n",
    "        return loss\n",
    "    \n",
    "    def update(self):\n",
    "        # Prepare dataset used to update policy\n",
    "        action_probs = torch.stack(self.action_probs, dim=0).to(device).squeeze(-1) # shape: [batch_size,]\n",
    "        rewards = torch.stack(self.rewards, dim=0).to(device).squeeze(-1) # shape [batch_size,]\n",
    "        self.action_probs, self.rewards = [], [] # clean buffers\n",
    "        \n",
    "        # Task 1: Implement the policy gradient\n",
    "        \n",
    "        # Compute discounted rewards \n",
    "        discounted_rewards = self.calculate_discounted_rewards(rewards)\n",
    "\n",
    "        # Calculate the PG loss\n",
    "        loss = self.calculate_loss(action_probs, discounted_rewards)\n",
    "\n",
    "        # Backprop gradients\n",
    "        loss.backward()  \n",
    "\n",
    "        # Do the optimizer step \n",
    "        self.optimizer.step() \n",
    "        self.optimizer.zero_grad() \n",
    "\n",
    "        # if you want to log something in wandb, you can put them inside the {}, otherwise, just leave it empty.\n",
    "        return {'logstd': self.policy.actor_logstd.cpu().detach().numpy()}"
   ]
  },
  {
   "cell_type": "code",
   "execution_count": 13,
   "id": "63656ac2",
   "metadata": {
    "deletable": false,
    "editable": false,
    "nbgrader": {
     "cell_type": "code",
     "checksum": "58227601cec76e5daee3bee9f5cb8f0c",
     "grade": true,
     "grade_id": "cell-170a359e31be5be6",
     "locked": true,
     "points": 0,
     "schema_version": 3,
     "solution": false,
     "task": false
    },
    "tags": []
   },
   "outputs": [
    {
     "name": "stdout",
     "output_type": "stream",
     "text": [
      "Numpy/Torch/Random Seed:  43\n"
     ]
    }
   ],
   "source": [
    "%%capture --no-stdout\n",
    "\"TEST CELL\"\n",
    "#Test get_action method\n",
    "def test_get_action_1():\n",
    "    cfg_path=Path().cwd()/'cfg'/'inverted_pendulum.yaml'\n",
    "    env, cfg = setup(cfg_path, cfg_args={\"model_name\":\"PG\",\"seed\": 43})\n",
    "    state_dim = env.observation_space.shape[0]\n",
    "    action_dim = env.action_space.shape[0]\n",
    "    agent = PG(state_dim, action_dim, float(cfg.lr), float(cfg.gamma))\n",
    "    obs = np.array( [0.00565713,  0.00385536, -0.09085017,  0.20961052] )\n",
    "    action = -0.0009746950818225741\n",
    "    assert np.allclose(agent.get_action(obs,True)[0].item(),action,0.001)\n",
    "    \n",
    "    agent2 = PG(state_dim, 3, float(cfg.lr), float(cfg.gamma))\n",
    "    assert tuple(agent2.get_action(obs,True)[1].shape) == (1,)\n",
    "\n",
    "test_get_action_1()"
   ]
  },
  {
   "cell_type": "code",
   "execution_count": 14,
   "id": "d27e7ee9",
   "metadata": {
    "deletable": false,
    "editable": false,
    "nbgrader": {
     "cell_type": "code",
     "checksum": "5e264785d47b98f7c755dac88b8a7a3d",
     "grade": true,
     "grade_id": "cell-01beb3c8be62ffc0",
     "locked": true,
     "points": 10,
     "schema_version": 3,
     "solution": false,
     "task": false
    },
    "tags": []
   },
   "outputs": [],
   "source": [
    "%%capture --no-stdout\n",
    "\"TEST CELL\""
   ]
  },
  {
   "cell_type": "code",
   "execution_count": 15,
   "id": "2f72fee2",
   "metadata": {
    "tags": []
   },
   "outputs": [
    {
     "name": "stdout",
     "output_type": "stream",
     "text": [
      "Numpy/Torch/Random Seed:  409\n",
      "{'ep': 0, 'logstd': array([0.], dtype=float32), 'timesteps': 5, 'ep_reward': 5.0, 'episodes': 0}\n",
      "{'ep': 100, 'logstd': array([0.], dtype=float32), 'timesteps': 58, 'ep_reward': 58.0, 'episodes': 100}\n",
      "{'ep': 200, 'logstd': array([0.], dtype=float32), 'timesteps': 13, 'ep_reward': 13.0, 'episodes': 200}\n",
      "{'ep': 300, 'logstd': array([0.], dtype=float32), 'timesteps': 70, 'ep_reward': 70.0, 'episodes': 300}\n",
      "{'ep': 400, 'logstd': array([0.], dtype=float32), 'timesteps': 46, 'ep_reward': 46.0, 'episodes': 400}\n",
      "{'ep': 500, 'logstd': array([0.], dtype=float32), 'timesteps': 98, 'ep_reward': 98.0, 'episodes': 500}\n",
      "{'ep': 600, 'logstd': array([0.], dtype=float32), 'timesteps': 88, 'ep_reward': 88.0, 'episodes': 600}\n",
      "{'ep': 700, 'logstd': array([0.], dtype=float32), 'timesteps': 1000, 'ep_reward': 1000.0, 'episodes': 700}\n",
      "{'ep': 800, 'logstd': array([0.], dtype=float32), 'timesteps': 68, 'ep_reward': 68.0, 'episodes': 800}\n",
      "{'ep': 900, 'logstd': array([0.], dtype=float32), 'timesteps': 393, 'ep_reward': 393.0, 'episodes': 900}\n"
     ]
    },
    {
     "data": {
      "image/png": "[encoded data removed]",
      "text/plain": [
       "<Figure size 450x350 with 1 Axes>"
      ]
     },
     "metadata": {},
     "output_type": "display_data"
    },
    {
     "name": "stdout",
     "output_type": "stream",
     "text": [
      "Training complete!\n"
     ]
    }
   ],
   "source": [
    "if not skip_training:\n",
    "    train(PGNoBase, cfg_path=Path().cwd() / 'cfg' / 'inverted_pendulum.yaml', cfg_args=dict(model_name=\"PGNoBase\")) # < 7 mins"
   ]
  },
  {
   "cell_type": "code",
   "execution_count": 16,
   "id": "09ab5a2e",
   "metadata": {
    "tags": []
   },
   "outputs": [
    {
     "name": "stdout",
     "output_type": "stream",
     "text": [
      "Numpy/Torch/Random Seed:  409\n",
      "Loading model from /notebooks/rl2024/ex5/results/InvertedPendulum-v4/model/PGNoBase_params.pt ...\n",
      "Test ep_reward: 1000.0\n",
      "Test ep_reward: 1000.0\n",
      "Test ep_reward: 1000.0\n",
      "Test ep_reward: 1000.0\n",
      "Test ep_reward: 1000.0\n",
      "Test ep_reward: 1000.0\n",
      "Test ep_reward: 1000.0\n",
      "Test ep_reward: 1000.0\n",
      "Test ep_reward: 1000.0\n",
      "Test ep_reward: 1000.0\n",
      "Median test reward: 1000.0\n"
     ]
    }
   ],
   "source": [
    "if not skip_training:\n",
    "    test(PGNoBase, cfg_path=Path().cwd() / 'cfg' / 'inverted_pendulum.yaml', cfg_args=dict(model_name=\"PGNoBase\", save_video=True, testing=True)) "
   ]
  },
  {
   "cell_type": "code",
   "execution_count": null,
   "id": "2714f3db",
   "metadata": {
    "deletable": false,
    "editable": false,
    "nbgrader": {
     "cell_type": "code",
     "checksum": "6c2e40d8dc91bbf04c0c774bcec4807f",
     "grade": true,
     "grade_id": "cell-88ff36aa060ed0d0",
     "locked": true,
     "points": 1,
     "schema_version": 3,
     "solution": false,
     "task": false
    }
   },
   "outputs": [],
   "source": []
  },
  {
   "cell_type": "code",
   "execution_count": 30,
   "id": "e5178279",
   "metadata": {
    "deletable": false,
    "editable": false,
    "nbgrader": {
     "cell_type": "code",
     "checksum": "f1773f5d1773107777dffbcfb71019cf",
     "grade": true,
     "grade_id": "cell-9efc8886a62a7f68",
     "locked": true,
     "points": 2,
     "schema_version": 3,
     "solution": false,
     "task": false
    },
    "tags": []
   },
   "outputs": [
    {
     "name": "stdout",
     "output_type": "stream",
     "text": [
      "Numpy/Torch/Random Seed:  43\n"
     ]
    }
   ],
   "source": [
    "%%capture --no-stdout\n",
    "\"TEST CELL\"\n",
    "def test_pgnobase_update_1():\n",
    "    agent_class = PGNoBase\n",
    "    cfg_path=Path().cwd() / 'cfg' / 'inverted_pendulum.yaml'\n",
    "    cfg_args=dict(model_name=\"PGNoBase\", seed=43)\n",
    "    env, cfg = setup(cfg_path, cfg_args=cfg_args)\n",
    "\n",
    "    state_dim = env.observation_space.shape[0]\n",
    "    action_dim = env.action_space.shape[0]\n",
    "\n",
    "    agent = agent_class(state_dim, action_dim, float(cfg.lr), float(cfg.gamma))\n",
    "\n",
    "    test_reward = torch.Tensor([1., 1., 1., 1., 1., 1., 1., 1.])\n",
    "    test_action_prob = torch.Tensor([-2.4205, -2.1635, -1.2791, -1.2655, -0.9205, -0.9366, -4.9679, -2.1623])\n",
    "    test_discounted_reward = torch.Tensor([7.7255, 6.7935, 5.8520, 4.9010, 3.9404, 2.9701, 1.9900, 1.0000])\n",
    "\n",
    "    assert torch.allclose(agent.calculate_discounted_rewards(test_reward), test_discounted_reward, 0.001)\n",
    "    assert torch.allclose(agent.calculate_loss(test_action_prob, test_discounted_reward), torch.tensor(8.1928), 0.001)\n",
    "\n",
    "test_pgnobase_update_1()"
   ]
  },
  {
   "cell_type": "code",
   "execution_count": 18,
   "id": "3a39f4ea",
   "metadata": {
    "deletable": false,
    "editable": false,
    "nbgrader": {
     "cell_type": "code",
     "checksum": "a71971cc15d36173098a756d78fa1f2e",
     "grade": true,
     "grade_id": "cell-327283bf9249663a",
     "locked": true,
     "points": 2,
     "schema_version": 3,
     "solution": false,
     "task": false
    },
    "tags": []
   },
   "outputs": [],
   "source": [
    "%%capture --no-stdout\n",
    "\"TEST CELL\""
   ]
  },
  {
   "cell_type": "code",
   "execution_count": 19,
   "id": "8ff999fb",
   "metadata": {
    "tags": []
   },
   "outputs": [
    {
     "data": {
      "text/html": [
       "<video loop autoplay  >\n",
       " <source src=\"data:video/mp4;base64,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\" type=\"video/mp4\">\n",
       " Your browser does not support the video tag.\n",
       " </video>"
      ],
      "text/plain": [
       "<IPython.core.display.Video object>"
      ]
     },
     "metadata": {},
     "output_type": "display_data"
    }
   ],
   "source": [
    "if not skip_training:\n",
    "      video = Video(Path().cwd()/'results'/'InvertedPendulum-v4'/'video'/'test'/'ex5-episode-5.mp4',\n",
    "      embed=True, html_attributes=\"loop autoplay\") # Set html_attributes=\"controls\" for video control\n",
    "      display(video)"
   ]
  },
  {
   "cell_type": "code",
   "execution_count": 20,
   "id": "e39a2410-d8ea-4e1f-b10a-e112816124e7",
   "metadata": {
    "tags": []
   },
   "outputs": [
    {
     "data": {
      "text/html": [
       "<video loop autoplay  >\n",
       " <source src=\"data:video/mp4;base64,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\" type=\"video/mp4\">\n",
       " Your browser does not support the video tag.\n",
       " </video>"
      ],
      "text/plain": [
       "<IPython.core.display.Video object>"
      ]
     },
     "metadata": {},
     "output_type": "display_data"
    }
   ],
   "source": [
    "if not skip_training:\n",
    "      video = Video(Path().cwd()/'results'/'InvertedPendulum-v4'/'video'/'test'/'ex5-episode-0.mp4',\n",
    "      embed=True, html_attributes=\"loop autoplay\") # Set html_attributes=\"controls\" for video control\n",
    "      display(video)"
   ]
  },
  {
   "cell_type": "markdown",
   "id": "ea079dc7",
   "metadata": {},
   "source": [
    "<a id='T1b'></a>\n",
    "<div class=\" alert alert-warning\">\n",
    "    <h3><b>Student Task 1b.</b> REINFORCE with a constant baseline b = 20 (5 points) </h3> \n",
    "    The training performance plot might look like Figure 1b.\n",
    "    <figure style=\"text-align: center\" id=\"figure-1b\">\n",
    "        <img src=\"imgs/PGBase20.svg\" width=\"600px\">\n",
    "        <figcaption style=\"text-align: center\"> Figure 1b: REINFORCE with a constant baseline 20. </figcaption>\n",
    "    </figure>\n",
    "    \n",
    "🔝 <a href='#TOC'><b>Table of Contents</b></a>\n",
    "</div>\n",
    "\n"
   ]
  },
  {
   "cell_type": "code",
   "execution_count": 28,
   "id": "3c57e167",
   "metadata": {
    "tags": []
   },
   "outputs": [],
   "source": [
    "class PGBase20(PG):\n",
    "    def __init__(self, state_dim, action_dim, lr, gamma):\n",
    "        super().__init__(state_dim, action_dim, lr, gamma)\n",
    "\n",
    "    # TODO: Task 1: Implement the policy gradient\n",
    "    # Complete the following 2 functions\n",
    "    # Hints:\n",
    "    #   1. compute discounted rewards (use the discount_rewards function offered in common.helper)\n",
    "    #   2. compute the policy gradient loss with the baseline\n",
    "    \n",
    "    # Compute discounted rewards \n",
    "    def calculate_discounted_rewards(self, rewards):\n",
    "        ########## Your code starts here. ##########\n",
    "        discounted_rewards = u.discount_rewards(rewards, self.gamma)\n",
    "        \n",
    "        ########## Your code ends here. ##########\n",
    "        return discounted_rewards\n",
    "\n",
    "    # Calculate the PG loss with the baseline\n",
    "    def calculate_loss(self, action_probs, discounted_rewards):\n",
    "        ########## Your code starts here. ##########\n",
    "        baseline = 20.0\n",
    "        normalized_rewards = (discounted_rewards - baseline)\n",
    "        loss = -torch.mean(action_probs * normalized_rewards)\n",
    "        ########## Your code ends here. ##########\n",
    "        return loss\n",
    "\n",
    "    def update(self):\n",
    "        # Prepare dataset used to update policy\n",
    "        action_probs = torch.stack(self.action_probs, dim=0).to(device).squeeze(-1) # shape: [batch_size,]\n",
    "        rewards = torch.stack(self.rewards, dim=0).to(device).squeeze(-1) # shape [batch_size,]\n",
    "        self.action_probs, self.rewards = [], [] # clean buffers\n",
    "        \n",
    "        # TODO: Task 1: Implement the policy gradient\n",
    "\n",
    "        # Compute discounted rewards \n",
    "        discounted_rewards = self.calculate_discounted_rewards(rewards)\n",
    "        # Calculate the PG loss with the baseline\n",
    "        loss = self.calculate_loss(action_probs, discounted_rewards)\n",
    "        # Backprop gradients\n",
    "        loss.backward()\n",
    "        # Do the optimizer step\n",
    "        self.optimizer.step()\n",
    "        self.optimizer.zero_grad()\n",
    "\n",
    "        # if you want to log something in wandb, you can put them inside the {}, otherwise, just leave it empty.\n",
    "        return {'logstd': self.policy.actor_logstd.cpu().detach().numpy()}"
   ]
  },
  {
   "cell_type": "code",
   "execution_count": 106,
   "id": "8aa4d283",
   "metadata": {
    "tags": []
   },
   "outputs": [
    {
     "name": "stdout",
     "output_type": "stream",
     "text": [
      "Numpy/Torch/Random Seed:  409\n",
      "{'ep': 0, 'logstd': array([0.], dtype=float32), 'timesteps': 5, 'ep_reward': 5.0, 'episodes': 0}\n",
      "{'ep': 100, 'logstd': array([0.], dtype=float32), 'timesteps': 50, 'ep_reward': 50.0, 'episodes': 100}\n",
      "{'ep': 200, 'logstd': array([0.], dtype=float32), 'timesteps': 52, 'ep_reward': 52.0, 'episodes': 200}\n",
      "{'ep': 300, 'logstd': array([0.], dtype=float32), 'timesteps': 42, 'ep_reward': 42.0, 'episodes': 300}\n",
      "{'ep': 400, 'logstd': array([0.], dtype=float32), 'timesteps': 1000, 'ep_reward': 1000.0, 'episodes': 400}\n",
      "{'ep': 500, 'logstd': array([0.], dtype=float32), 'timesteps': 19, 'ep_reward': 19.0, 'episodes': 500}\n",
      "{'ep': 600, 'logstd': array([0.], dtype=float32), 'timesteps': 1000, 'ep_reward': 1000.0, 'episodes': 600}\n",
      "{'ep': 700, 'logstd': array([0.], dtype=float32), 'timesteps': 1000, 'ep_reward': 1000.0, 'episodes': 700}\n",
      "{'ep': 800, 'logstd': array([0.], dtype=float32), 'timesteps': 1000, 'ep_reward': 1000.0, 'episodes': 800}\n",
      "{'ep': 900, 'logstd': array([0.], dtype=float32), 'timesteps': 360, 'ep_reward': 360.0, 'episodes': 900}\n"
     ]
    },
    {
     "data": {
      "image/png": "[encoded data removed]",
      "text/plain": [
       "<Figure size 450x350 with 1 Axes>"
      ]
     },
     "metadata": {},
     "output_type": "display_data"
    },
    {
     "name": "stdout",
     "output_type": "stream",
     "text": [
      "Training complete!\n"
     ]
    }
   ],
   "source": [
    "if not skip_training:\n",
    "    train(PGBase20, cfg_path=Path().cwd() / 'cfg' / 'inverted_pendulum.yaml', cfg_args=dict(model_name=\"PGBase20\")) # < 7 mins"
   ]
  },
  {
   "cell_type": "code",
   "execution_count": 107,
   "id": "48f26f40-49c9-48f3-8543-cae81be8185f",
   "metadata": {
    "tags": []
   },
   "outputs": [
    {
     "name": "stdout",
     "output_type": "stream",
     "text": [
      "Numpy/Torch/Random Seed:  409\n",
      "Loading model from /notebooks/rl2024/ex5/results/InvertedPendulum-v4/model/PGBase20_params.pt ...\n",
      "Test ep_reward: 1000.0\n",
      "Test ep_reward: 1000.0\n",
      "Test ep_reward: 1000.0\n",
      "Test ep_reward: 1000.0\n",
      "Test ep_reward: 1000.0\n",
      "Test ep_reward: 1000.0\n",
      "Test ep_reward: 1000.0\n",
      "Test ep_reward: 1000.0\n",
      "Test ep_reward: 1000.0\n",
      "Test ep_reward: 1000.0\n",
      "Median test reward: 1000.0\n"
     ]
    }
   ],
   "source": [
    "if not skip_training:\n",
    "    test(PGBase20, cfg_path=Path().cwd() / 'cfg' / 'inverted_pendulum.yaml', cfg_args=dict(model_name=\"PGBase20\", save_video=True, testing=True)) "
   ]
  },
  {
   "cell_type": "code",
   "execution_count": null,
   "id": "af4ac907",
   "metadata": {
    "deletable": false,
    "editable": false,
    "nbgrader": {
     "cell_type": "code",
     "checksum": "e67902311730193101e4741111bbf0b2",
     "grade": true,
     "grade_id": "cell-62d1b98f11dcd94b",
     "locked": true,
     "points": 1,
     "schema_version": 3,
     "solution": false,
     "task": false
    }
   },
   "outputs": [],
   "source": []
  },
  {
   "cell_type": "code",
   "execution_count": 31,
   "id": "6074d987",
   "metadata": {
    "deletable": false,
    "editable": false,
    "nbgrader": {
     "cell_type": "code",
     "checksum": "11f6f2b5baa3638d6d0deedc0eee29fe",
     "grade": true,
     "grade_id": "cell-3bcb1eace5908e1d",
     "locked": true,
     "points": 2,
     "schema_version": 3,
     "solution": false,
     "task": false
    },
    "tags": []
   },
   "outputs": [
    {
     "name": "stdout",
     "output_type": "stream",
     "text": [
      "Numpy/Torch/Random Seed:  43\n"
     ]
    }
   ],
   "source": [
    "%%capture --no-stdout\n",
    "\"TEST CELL\"\n",
    "def test_pgbase20_update_1():\n",
    "    \n",
    "    agent_class = PGBase20\n",
    "    cfg_path=Path().cwd() / 'cfg' / 'inverted_pendulum.yaml'\n",
    "    cfg_args=dict(model_name=\"PGBase20\", seed=43)\n",
    "    env, cfg = setup(cfg_path, cfg_args=cfg_args)\n",
    "\n",
    "    state_dim = env.observation_space.shape[0]\n",
    "    action_dim = env.action_space.shape[0]\n",
    "\n",
    "    agent = agent_class(state_dim, action_dim, float(cfg.lr), float(cfg.gamma))\n",
    "\n",
    "    test_reward = torch.Tensor([1., 1., 1., 1., 1., 1., 1., 1.])\n",
    "    test_action_prob = torch.Tensor([-2.4205, -2.1635, -1.2791, -1.2655, -0.9205, -0.9366, -4.9679, -2.1623])\n",
    "    test_discounted_reward = torch.Tensor([7.7255, 6.7935, 5.8520, 4.9010, 3.9404, 2.9701, 1.9900, 1.0000])\n",
    "\n",
    "    assert torch.allclose(agent.calculate_discounted_rewards(test_reward), test_discounted_reward, 0.001)\n",
    "    assert torch.allclose(agent.calculate_loss(test_action_prob, test_discounted_reward), torch.tensor(-32.0970), 0.001)\n",
    "\n",
    "test_pgbase20_update_1()"
   ]
  },
  {
   "cell_type": "code",
   "execution_count": 31,
   "id": "42de046f",
   "metadata": {
    "deletable": false,
    "editable": false,
    "nbgrader": {
     "cell_type": "code",
     "checksum": "bd3eaf1021b2d35e4bac9eb0a6515439",
     "grade": true,
     "grade_id": "cell-7c3853783c05c900",
     "locked": true,
     "points": 2,
     "schema_version": 3,
     "solution": false,
     "task": false
    },
    "tags": []
   },
   "outputs": [],
   "source": [
    "%%capture --no-stdout\n",
    "\"TEST CELL\""
   ]
  },
  {
   "cell_type": "code",
   "execution_count": 32,
   "id": "a434d9ef-523c-482a-a2e8-441ac66e15e5",
   "metadata": {
    "tags": []
   },
   "outputs": [
    {
     "data": {
      "text/html": [
       "<video loop autoplay  >\n",
       " <source src=\"data:video/mp4;base64,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\" type=\"video/mp4\">\n",
       " Your browser does not support the video tag.\n",
       " </video>"
      ],
      "text/plain": [
       "<IPython.core.display.Video object>"
      ]
     },
     "metadata": {},
     "output_type": "display_data"
    }
   ],
   "source": [
    "if not skip_training:\n",
    "      video = Video(Path().cwd() / 'results' / 'InvertedPendulum-v4' / 'video' / 'test' / 'ex5-episode-0.mp4',\n",
    "      embed=True, html_attributes=\"loop autoplay\") # Set html_attributes=\"controls\" for video control\n",
    "      display(video)"
   ]
  },
  {
   "cell_type": "markdown",
   "id": "e31c7d2e",
   "metadata": {
    "tags": []
   },
   "source": [
    "<a id='T1c'></a>\n",
    "<div class=\" alert alert-warning\">\n",
    "    <h3><b>Student Task 1c.</b> REINFORCE with discounted rewards normalized to zero mean and unit variance (5 points) </h3> \n",
    "    The training performance plot might look like Figure 1c. \n",
    "    <figure style=\"text-align: center\" id=\"figure-1c\">\n",
    "        <img src=\"imgs/PGGamma.svg\" width=\"600px\">\n",
    "        <figcaption style=\"text-align: center\"> Figure 1c: REINFORCE with discounted rewards normalized to zero mean and unit variance. </figcaption>\n",
    "    </figure>\n",
    "    \n",
    "🔝 <a href='#TOC'><b>Table of Contents</b></a>\n",
    "</div>\n",
    "\n"
   ]
  },
  {
   "cell_type": "code",
   "execution_count": 45,
   "id": "d76bcc3c",
   "metadata": {
    "tags": []
   },
   "outputs": [],
   "source": [
    "class PGNormalized(PG):\n",
    "    def __init__(self, state_dim, action_dim, lr, gamma):\n",
    "        super().__init__(state_dim, action_dim, lr, gamma)\n",
    "\n",
    "    # TODO: Task 1: Implement the policy gradient\n",
    "    # Complete the following 2 functions\n",
    "    # Hints:\n",
    "    #   1. compute discounted rewards (use the discount_rewards function offered in utils.py)\n",
    "    #   2. compute the policy gradient loss\n",
    "    \n",
    "    # Compute discounted rewards \n",
    "    def calculate_discounted_rewards(self, rewards):\n",
    "        ########## Your code starts here. ##########\n",
    "        \n",
    "        discounted_rewards = u.discount_rewards(rewards, self.gamma)\n",
    "        mean = discounted_rewards.mean()\n",
    "        std = discounted_rewards.std()\n",
    "        if std > 0:\n",
    "            discounted_rewards = (discounted_rewards - mean) / std\n",
    "        else:\n",
    "            discounted_rewards = discounted_rewards - mean\n",
    "        ########## Your code ends here. ##########\n",
    "        return discounted_rewards\n",
    "\n",
    "    # Calculate the PG loss with the baseline\n",
    "    def calculate_loss(self, action_probs, discounted_rewards):\n",
    "        ########## Your code starts here. ##########\n",
    "        \n",
    "        normalized_rewards = discounted_rewards\n",
    "        loss = -torch.mean(action_probs * normalized_rewards)\n",
    "        ########## Your code ends here. ##########\n",
    "        return loss\n",
    "\n",
    "\n",
    "\n",
    "    def update(self):\n",
    "        # Prepare dataset used to update policy\n",
    "        action_probs = torch.stack(self.action_probs, dim=0).to(device).squeeze(-1) # shape: [batch_size,]\n",
    "        rewards = torch.stack(self.rewards, dim=0).to(device).squeeze(-1) # shape [batch_size,]\n",
    "        self.action_probs, self.rewards = [], [] # clean buffers\n",
    "        \n",
    "        # TODO: Task 1: Implement the policy gradient\n",
    "        \n",
    "        # Compute discounted rewards and normalize them\n",
    "        discounted_rewards = self.calculate_discounted_rewards(rewards)\n",
    "        # Calculate the PG loss\n",
    "        loss = self.calculate_loss(action_probs, discounted_rewards)\n",
    "        # Backprop gradients\n",
    "        loss.backward()\n",
    "        # Do the optimizer step\n",
    "        self.optimizer.step()\n",
    "        self.optimizer.zero_grad()    \n",
    "\n",
    "        # if you want to log something in wandb, you can put them inside the {}, otherwise, just leave it empty.\n",
    "        return {'logstd': self.policy.actor_logstd.cpu().detach().numpy()}"
   ]
  },
  {
   "cell_type": "code",
   "execution_count": 40,
   "id": "8e236519-8afb-4ec7-ba87-3181bf822576",
   "metadata": {
    "tags": []
   },
   "outputs": [
    {
     "name": "stdout",
     "output_type": "stream",
     "text": [
      "Numpy/Torch/Random Seed:  409\n",
      "{'ep': 0, 'logstd': array([0.], dtype=float32), 'timesteps': 5, 'ep_reward': 5.0, 'episodes': 0}\n",
      "{'ep': 100, 'logstd': array([0.], dtype=float32), 'timesteps': 77, 'ep_reward': 77.0, 'episodes': 100}\n",
      "{'ep': 200, 'logstd': array([0.], dtype=float32), 'timesteps': 144, 'ep_reward': 144.0, 'episodes': 200}\n",
      "{'ep': 300, 'logstd': array([0.], dtype=float32), 'timesteps': 1000, 'ep_reward': 1000.0, 'episodes': 300}\n",
      "{'ep': 400, 'logstd': array([0.], dtype=float32), 'timesteps': 1000, 'ep_reward': 1000.0, 'episodes': 400}\n",
      "{'ep': 500, 'logstd': array([0.], dtype=float32), 'timesteps': 1000, 'ep_reward': 1000.0, 'episodes': 500}\n",
      "{'ep': 600, 'logstd': array([0.], dtype=float32), 'timesteps': 1000, 'ep_reward': 1000.0, 'episodes': 600}\n",
      "{'ep': 700, 'logstd': array([0.], dtype=float32), 'timesteps': 1000, 'ep_reward': 1000.0, 'episodes': 700}\n",
      "{'ep': 800, 'logstd': array([0.], dtype=float32), 'timesteps': 1000, 'ep_reward': 1000.0, 'episodes': 800}\n",
      "{'ep': 900, 'logstd': array([0.], dtype=float32), 'timesteps': 1000, 'ep_reward': 1000.0, 'episodes': 900}\n"
     ]
    },
    {
     "data": {
      "image/png": "[encoded data removed]",
      "text/plain": [
       "<Figure size 450x350 with 1 Axes>"
      ]
     },
     "metadata": {},
     "output_type": "display_data"
    },
    {
     "name": "stdout",
     "output_type": "stream",
     "text": [
      "Training complete!\n"
     ]
    }
   ],
   "source": [
    "if not skip_training:\n",
    "    train(PGNormalized, cfg_path=Path().cwd() / 'cfg' / 'inverted_pendulum.yaml', cfg_args=dict(model_name=\"PGNormalized\")) # < 10 mins"
   ]
  },
  {
   "cell_type": "code",
   "execution_count": 41,
   "id": "9aab775f-bc7e-475f-ac41-7bbf0227bc1a",
   "metadata": {
    "tags": []
   },
   "outputs": [
    {
     "name": "stdout",
     "output_type": "stream",
     "text": [
      "Numpy/Torch/Random Seed:  409\n",
      "Loading model from /notebooks/rl2024/ex5/results/InvertedPendulum-v4/model/PGNormalized_params.pt ...\n",
      "Test ep_reward: 1000.0\n",
      "Test ep_reward: 1000.0\n",
      "Test ep_reward: 1000.0\n",
      "Test ep_reward: 1000.0\n",
      "Test ep_reward: 1000.0\n",
      "Test ep_reward: 1000.0\n",
      "Test ep_reward: 1000.0\n",
      "Test ep_reward: 1000.0\n",
      "Test ep_reward: 1000.0\n",
      "Test ep_reward: 1000.0\n",
      "Median test reward: 1000.0\n"
     ]
    }
   ],
   "source": [
    "if not skip_training:\n",
    "    test(PGNormalized, cfg_path=Path().cwd() / 'cfg' / 'inverted_pendulum.yaml', cfg_args=dict(model_name=\"PGNormalized\", save_video=True, testing=True))"
   ]
  },
  {
   "cell_type": "code",
   "execution_count": null,
   "id": "fc850792",
   "metadata": {
    "deletable": false,
    "editable": false,
    "nbgrader": {
     "cell_type": "code",
     "checksum": "c2419c79f89c4ca692b669552b27e124",
     "grade": true,
     "grade_id": "cell-03e739e487933e6e",
     "locked": true,
     "points": 1,
     "schema_version": 3,
     "solution": false,
     "task": false
    }
   },
   "outputs": [],
   "source": []
  },
  {
   "cell_type": "code",
   "execution_count": 42,
   "id": "ef8fb1c0",
   "metadata": {
    "deletable": false,
    "editable": false,
    "nbgrader": {
     "cell_type": "code",
     "checksum": "106d897f0caa69b7eb88435c2b1b3043",
     "grade": true,
     "grade_id": "cell-a90ba2f2bac40f9c",
     "locked": true,
     "points": 2,
     "schema_version": 3,
     "solution": false,
     "task": false
    },
    "tags": []
   },
   "outputs": [
    {
     "name": "stdout",
     "output_type": "stream",
     "text": [
      "Numpy/Torch/Random Seed:  43\n"
     ]
    },
    {
     "ename": "AssertionError",
     "evalue": "",
     "output_type": "error",
     "traceback": [
      "\u001b[0;31m---------------------------------------------------------------------------\u001b[0m",
      "\u001b[0;31mAssertionError\u001b[0m                            Traceback (most recent call last)",
      "Cell \u001b[0;32mIn[42], line 21\u001b[0m\n\u001b[1;32m     18\u001b[0m     \u001b[38;5;28;01massert\u001b[39;00m torch\u001b[38;5;241m.\u001b[39mallclose(agent\u001b[38;5;241m.\u001b[39mcalculate_discounted_rewards(test_reward), test_discounted_reward, \u001b[38;5;241m0.001\u001b[39m)\n\u001b[1;32m     19\u001b[0m     \u001b[38;5;28;01massert\u001b[39;00m torch\u001b[38;5;241m.\u001b[39mallclose(agent\u001b[38;5;241m.\u001b[39mcalculate_loss(test_action_prob, test_discounted_reward), torch\u001b[38;5;241m.\u001b[39mtensor(\u001b[38;5;241m-\u001b[39m\u001b[38;5;241m0.2822\u001b[39m), \u001b[38;5;241m0.001\u001b[39m)\n\u001b[0;32m---> 21\u001b[0m \u001b[43mtest_pgnormalized_update_1\u001b[49m\u001b[43m(\u001b[49m\u001b[43m)\u001b[49m\n",
      "Cell \u001b[0;32mIn[42], line 18\u001b[0m, in \u001b[0;36mtest_pgnormalized_update_1\u001b[0;34m()\u001b[0m\n\u001b[1;32m     15\u001b[0m test_action_prob \u001b[38;5;241m=\u001b[39m torch\u001b[38;5;241m.\u001b[39mTensor([\u001b[38;5;241m-\u001b[39m\u001b[38;5;241m2.4205\u001b[39m, \u001b[38;5;241m-\u001b[39m\u001b[38;5;241m2.1635\u001b[39m, \u001b[38;5;241m-\u001b[39m\u001b[38;5;241m1.2791\u001b[39m, \u001b[38;5;241m-\u001b[39m\u001b[38;5;241m1.2655\u001b[39m, \u001b[38;5;241m-\u001b[39m\u001b[38;5;241m0.9205\u001b[39m, \u001b[38;5;241m-\u001b[39m\u001b[38;5;241m0.9366\u001b[39m, \u001b[38;5;241m-\u001b[39m\u001b[38;5;241m4.9679\u001b[39m, \u001b[38;5;241m-\u001b[39m\u001b[38;5;241m2.1623\u001b[39m])\n\u001b[1;32m     16\u001b[0m test_discounted_reward \u001b[38;5;241m=\u001b[39m torch\u001b[38;5;241m.\u001b[39mTensor([\u001b[38;5;241m7.7255\u001b[39m, \u001b[38;5;241m6.7935\u001b[39m, \u001b[38;5;241m5.8520\u001b[39m, \u001b[38;5;241m4.9010\u001b[39m, \u001b[38;5;241m3.9404\u001b[39m, \u001b[38;5;241m2.9701\u001b[39m, \u001b[38;5;241m1.9900\u001b[39m, \u001b[38;5;241m1.0000\u001b[39m])\n\u001b[0;32m---> 18\u001b[0m \u001b[38;5;28;01massert\u001b[39;00m torch\u001b[38;5;241m.\u001b[39mallclose(agent\u001b[38;5;241m.\u001b[39mcalculate_discounted_rewards(test_reward), test_discounted_reward, \u001b[38;5;241m0.001\u001b[39m)\n\u001b[1;32m     19\u001b[0m \u001b[38;5;28;01massert\u001b[39;00m torch\u001b[38;5;241m.\u001b[39mallclose(agent\u001b[38;5;241m.\u001b[39mcalculate_loss(test_action_prob, test_discounted_reward), torch\u001b[38;5;241m.\u001b[39mtensor(\u001b[38;5;241m-\u001b[39m\u001b[38;5;241m0.2822\u001b[39m), \u001b[38;5;241m0.001\u001b[39m)\n",
      "\u001b[0;31mAssertionError\u001b[0m: "
     ]
    }
   ],
   "source": [
    "%%capture --no-stdout\n",
    "\"TEST CELL\"\n",
    "def test_pgnormalized_update_1():\n",
    "    \n",
    "    agent_class = PGNormalized\n",
    "    cfg_path=Path().cwd() / 'cfg' / 'inverted_pendulum.yaml'\n",
    "    cfg_args=dict(model_name=\"PGNormalized\", seed=43)\n",
    "    env, cfg = setup(cfg_path, cfg_args=cfg_args)\n",
    "\n",
    "    state_dim = env.observation_space.shape[0]\n",
    "    action_dim = env.action_space.shape[0]\n",
    "\n",
    "    agent = agent_class(state_dim, action_dim, float(cfg.lr), float(cfg.gamma))\n",
    "\n",
    "    test_reward = torch.Tensor([1., 1., 1., 1., 1., 1., 1., 1.])\n",
    "    test_action_prob = torch.Tensor([-2.4205, -2.1635, -1.2791, -1.2655, -0.9205, -0.9366, -4.9679, -2.1623])\n",
    "    test_discounted_reward = torch.Tensor([7.7255, 6.7935, 5.8520, 4.9010, 3.9404, 2.9701, 1.9900, 1.0000])\n",
    "\n",
    "    assert torch.allclose(agent.calculate_discounted_rewards(test_reward), test_discounted_reward, 0.001)\n",
    "    assert torch.allclose(agent.calculate_loss(test_action_prob, test_discounted_reward), torch.tensor(-0.2822), 0.001)\n",
    "\n",
    "test_pgnormalized_update_1()"
   ]
  },
  {
   "cell_type": "code",
   "execution_count": 43,
   "id": "b36fae08",
   "metadata": {
    "deletable": false,
    "editable": false,
    "nbgrader": {
     "cell_type": "code",
     "checksum": "8d2fb6c9e677aa86435b3c7b06302512",
     "grade": true,
     "grade_id": "cell-a4862f110550460f",
     "locked": true,
     "points": 2,
     "schema_version": 3,
     "solution": false,
     "task": false
    },
    "tags": []
   },
   "outputs": [],
   "source": [
    "%%capture --no-stdout\n",
    "\"TEST CELL\""
   ]
  },
  {
   "cell_type": "code",
   "execution_count": 44,
   "id": "9e3bbe30-5d8f-426d-9a76-806e6586a23b",
   "metadata": {
    "tags": []
   },
   "outputs": [
    {
     "data": {
      "text/html": [
       "<video loop autoplay  >\n",
       " <source src=\"data:video/mp4;base64,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\" type=\"video/mp4\">\n",
       " Your browser does not support the video tag.\n",
       " </video>"
      ],
      "text/plain": [
       "<IPython.core.display.Video object>"
      ]
     },
     "metadata": {},
     "output_type": "display_data"
    }
   ],
   "source": [
    "if not skip_training:\n",
    "      video = Video(Path().cwd() / 'results' / 'InvertedPendulum-v4' / 'video' / 'test' / 'ex5-episode-0.mp4',\n",
    "      embed=True, html_attributes=\"loop autoplay\") # Set html_attributes=\"controls\" for video control\n",
    "      display(video)"
   ]
  },
  {
   "cell_type": "markdown",
   "id": "f856d17c",
   "metadata": {
    "deletable": false,
    "editable": false,
    "nbgrader": {
     "cell_type": "markdown",
     "checksum": "5344618e774be27b6e56107827fe9e38",
     "grade": false,
     "grade_id": "cell-970e68431aa3a7cd",
     "locked": true,
     "schema_version": 3,
     "solution": false,
     "task": false
    }
   },
   "source": [
    "<a id='Q1'></a>\n",
    "<div class=\" alert alert-warning\">\n",
    "    <h3><b>Student Question 1.1</b> A good baseline (15 points) </h3> \n",
    "\n",
    "Which of the following statements correctly describe how to choose a good baseline and why it makes training more stable? **Select 5 options.**\n",
    "            \n",
    "🔝\t<a href='#TOC'><b>Table of Contents</b></a>\n",
    "</div>"
   ]
  },
  {
   "cell_type": "markdown",
   "id": "0c46c994-d93c-4188-adef-ef82dabe437c",
   "metadata": {
    "deletable": false,
    "editable": false,
    "nbgrader": {
     "cell_type": "markdown",
     "checksum": "b1eed5810b36c7aaf8e100f5b08c77b2",
     "grade": false,
     "grade_id": "cell-cfe2a992cab77b22",
     "locked": true,
     "schema_version": 3,
     "solution": false,
     "task": false
    },
    "tags": []
   },
   "source": [
    "Options:\n",
    "\n",
    "1. A good baseline doesn't affect the expectation (doesn't introduce bias) but reduces variance of the estimated gradients. \n",
    "2. The baseline should be dependent on both the state and the action to provide the most accurate estimates.\n",
    "3. The optimal baseline can be theoretically derived, but it is too expensive to calculate in practice. \n",
    "4.  A good baseline should be a constant value to ensure consistency across all states. \n",
    "5.  The lower variance estimates lead to more stable training. \n",
    "6.  A good choice of baseline is an estimate of the state value, or the empirical mean (when doing Monte Carlo roll-outs). \n",
    "7.  The idea with both is that we increase the probability of actions that lead to higher returns than what our current estimate of the expected return is. \n",
    "8.  A proper baseline eliminates the need for exploration in reinforcement learning algorithms. \n",
    "9.  The choice of baseline has no impact on the convergence speed of the algorithm.\n"
   ]
  },
  {
   "cell_type": "code",
   "execution_count": 38,
   "id": "d71bb55e-e23e-48ee-b9d5-da004df72b27",
   "metadata": {
    "tags": []
   },
   "outputs": [],
   "source": [
    "# Answer question 1.1 with appropriate option numbers\n",
    "sq1_1 = [1,3,5,7,6] "
   ]
  },
  {
   "cell_type": "markdown",
   "id": "89b0074d-e8b9-4106-9155-bcc44fafd967",
   "metadata": {},
   "source": [
    "The following cells are used for grading."
   ]
  },
  {
   "cell_type": "code",
   "execution_count": null,
   "id": "7c1438ee-92e4-4123-99ae-bd989bfe1b81",
   "metadata": {
    "deletable": false,
    "editable": false,
    "nbgrader": {
     "cell_type": "code",
     "checksum": "068bab37656d0f1f76a988a2d372cdbe",
     "grade": true,
     "grade_id": "cell-4710481b388d34ce",
     "locked": true,
     "points": 3,
     "schema_version": 3,
     "solution": false,
     "task": false
    },
    "tags": []
   },
   "outputs": [],
   "source": []
  },
  {
   "cell_type": "code",
   "execution_count": null,
   "id": "c385229f-7736-4fb2-92d4-c2c62d7ae1ac",
   "metadata": {
    "deletable": false,
    "editable": false,
    "nbgrader": {
     "cell_type": "code",
     "checksum": "5fcbf26c4ff358b5eaf69cab8b563bc5",
     "grade": true,
     "grade_id": "cell-fdd8262ca17746aa",
     "locked": true,
     "points": 3,
     "schema_version": 3,
     "solution": false,
     "task": false
    },
    "tags": []
   },
   "outputs": [],
   "source": []
  },
  {
   "cell_type": "code",
   "execution_count": null,
   "id": "431586b5-619b-43e8-9045-ad0f3f828b05",
   "metadata": {
    "deletable": false,
    "editable": false,
    "nbgrader": {
     "cell_type": "code",
     "checksum": "5c2bba5cef04af5c1c243114c256376d",
     "grade": true,
     "grade_id": "cell-a0a1d58190a1e0f1",
     "locked": true,
     "points": 3,
     "schema_version": 3,
     "solution": false,
     "task": false
    },
    "tags": []
   },
   "outputs": [],
   "source": []
  },
  {
   "cell_type": "code",
   "execution_count": null,
   "id": "6e1699f5-73ef-4eac-9a5a-17708c1d6ccd",
   "metadata": {
    "deletable": false,
    "editable": false,
    "nbgrader": {
     "cell_type": "code",
     "checksum": "c576e4932e49fe2c4cf243edd4035915",
     "grade": true,
     "grade_id": "cell-3343cc12855e6f15",
     "locked": true,
     "points": 3,
     "schema_version": 3,
     "solution": false,
     "task": false
    },
    "tags": []
   },
   "outputs": [],
   "source": []
  },
  {
   "cell_type": "code",
   "execution_count": null,
   "id": "3d789840-2b3e-4a5b-ba87-f9cc01adb538",
   "metadata": {
    "deletable": false,
    "editable": false,
    "nbgrader": {
     "cell_type": "code",
     "checksum": "1414b678f26986c875a98c0184021ba9",
     "grade": true,
     "grade_id": "cell-86090270df654ed6",
     "locked": true,
     "points": 3,
     "schema_version": 3,
     "solution": false,
     "task": false
    },
    "tags": []
   },
   "outputs": [],
   "source": []
  },
  {
   "cell_type": "markdown",
   "id": "bda4d734",
   "metadata": {},
   "source": [
    "# 3. Choosing the value of variance <a id='3.'></a>"
   ]
  },
  {
   "cell_type": "markdown",
   "id": "c34d6f9d",
   "metadata": {},
   "source": [
    "<a id='T2'></a>\n",
    "<div class=\" alert alert-warning\">\n",
    "    <h3><b>Student Task 2.</b> Making Variance a Learnable Parameter (10 points) </h3> \n",
    "\n",
    "Implement the policy’s variance as a learnable parameter of the network and update it during training. Set the initial value $\\sigma_0^2$ to 1. REINFORCE with normalized discounted returns is used for this task.\n",
    "\n",
    "**Complete the unfinished implementation in ```PolicyLearnedVar(nn.Module)``` class (marked with ```TODOs```)**. \n",
    "    \n",
    "    \n",
    "**Hint:** To make your learned variance automatically updated by the optimizer, declare your variable inside the ```__init__``` function of the model using ```torch.nn.Parameter(some_tensor)```. \n",
    "    \n",
    "🔝\t<a href='#TOC'><b>Table of Contents</b></a>\n",
    "</div>\n"
   ]
  },
  {
   "cell_type": "markdown",
   "id": "bbc8f47f",
   "metadata": {},
   "source": [
    "## 3.1 Policy with Learned Variance <a id='3.1'></a>"
   ]
  },
  {
   "cell_type": "code",
   "execution_count": 60,
   "id": "5f38d70b",
   "metadata": {
    "tags": []
   },
   "outputs": [],
   "source": [
    "# Initialisation function for neural network layers\n",
    "def layer_init(layer, std=np.sqrt(2), bias_const=0.0):\n",
    "    torch.nn.init.orthogonal_(layer.weight, std)\n",
    "    torch.nn.init.constant_(layer.bias, bias_const)\n",
    "    return layer\n",
    "\n",
    "\n",
    "# This class defines the neural network policy with learned variance\n",
    "class PolicyLearnedVar(nn.Module):\n",
    "    def __init__(self, state_dim, action_dim):\n",
    "        super(PolicyLearnedVar, self).__init__()\n",
    "\n",
    "        # Initialise a neural network with two hidden layers (64 neurons per layer)\n",
    "        self.actor_mean = nn.Sequential(\n",
    "            layer_init(nn.Linear(state_dim, 64)),\n",
    "            nn.Tanh(),\n",
    "            layer_init(nn.Linear(64, 64)),\n",
    "            nn.Tanh(),\n",
    "            layer_init(nn.Linear(64, action_dim), std=0.01),\n",
    "        )\n",
    "\n",
    "        # TODO: Task 2: Implement actor_logstd as a learnable parameter\n",
    "        # Use log of std to make sure std doesn't become negative during training\n",
    "        ########## Your code starts here. ###########    \n",
    "        self.actor_logstd = torch.nn.Parameter(torch.zeros(action_dim))\n",
    "        ########## Your code ends here. ##########\n",
    "        \n",
    "    # Do a forward pass to map state to action\n",
    "    def forward(self, state):\n",
    "        # Get mean of a Normal distribution (the output of the neural network)\n",
    "        action_mean = self.actor_mean(state)\n",
    "\n",
    "        # Make sure action_logstd matches dimension of action_mean\n",
    "        action_logstd = self.actor_logstd.expand_as(action_mean)\n",
    "\n",
    "        # Exponentiate the log std to get actual std\n",
    "        action_std = torch.exp(action_logstd)\n",
    "\n",
    "        # TODO: Task 1: Create a Normal distribution with mean of 'action_mean' and standard deviation of 'action_std', and return the distribution\n",
    "        ########## Your code starts here. ###########\n",
    "\n",
    "        probs = torch.distributions.Normal(action_mean,action_std)\n",
    "        \n",
    "        ########## Your code ends here. ##########\n",
    "        return probs"
   ]
  },
  {
   "cell_type": "markdown",
   "id": "cbe99408-3caa-43d6-aa52-652c9e1b88fe",
   "metadata": {},
   "source": [
    "Initialize the `PG` class to construct the neural network policy. Continue to employ the `get_action` function, as outlined in Task 1."
   ]
  },
  {
   "cell_type": "code",
   "execution_count": 61,
   "id": "304d7def-5ad3-461e-a2c6-216157833223",
   "metadata": {
    "tags": []
   },
   "outputs": [],
   "source": [
    "# Class for the Policy Gradient algorithm\n",
    "class PGLearnedVar(PGNormalized):\n",
    "    def __init__(self, state_dim, action_dim, lr, gamma):\n",
    "        super().__init__(state_dim, action_dim, lr, gamma)\n",
    "        \n",
    "        # TODO: Task 2: Define the neural network policy (self.policy) with learned variance.\n",
    "        self.policy = None\n",
    "        ########## Your code starts here. ###########  \n",
    "        self.policy = PolicyLearnedVar(state_dim, action_dim)\n",
    "        ########## Your code ends here. ##########\n",
    "\n",
    "        # Create an optimizer\n",
    "        self.optimizer = torch.optim.Adam(self.policy.parameters(), lr=lr)"
   ]
  },
  {
   "cell_type": "code",
   "execution_count": 62,
   "id": "6b7c5cac-1e2f-4224-a503-bc1e27871a09",
   "metadata": {
    "tags": []
   },
   "outputs": [
    {
     "name": "stdout",
     "output_type": "stream",
     "text": [
      "Numpy/Torch/Random Seed:  409\n",
      "{'ep': 0, 'logstd': array([0.002], dtype=float32), 'timesteps': 4, 'ep_reward': 4.0, 'episodes': 0}\n",
      "{'ep': 100, 'logstd': array([-0.0072515], dtype=float32), 'timesteps': 22, 'ep_reward': 22.0, 'episodes': 100}\n",
      "{'ep': 200, 'logstd': array([-0.01993263], dtype=float32), 'timesteps': 23, 'ep_reward': 23.0, 'episodes': 200}\n",
      "{'ep': 300, 'logstd': array([-0.0314422], dtype=float32), 'timesteps': 1000, 'ep_reward': 1000.0, 'episodes': 300}\n",
      "{'ep': 400, 'logstd': array([-0.04134916], dtype=float32), 'timesteps': 230, 'ep_reward': 230.0, 'episodes': 400}\n",
      "{'ep': 500, 'logstd': array([-0.0420561], dtype=float32), 'timesteps': 119, 'ep_reward': 119.0, 'episodes': 500}\n",
      "{'ep': 600, 'logstd': array([-0.02281072], dtype=float32), 'timesteps': 133, 'ep_reward': 133.0, 'episodes': 600}\n",
      "{'ep': 700, 'logstd': array([-0.04492748], dtype=float32), 'timesteps': 67, 'ep_reward': 67.0, 'episodes': 700}\n",
      "{'ep': 800, 'logstd': array([-0.04687777], dtype=float32), 'timesteps': 271, 'ep_reward': 271.0, 'episodes': 800}\n",
      "{'ep': 900, 'logstd': array([-0.04621742], dtype=float32), 'timesteps': 38, 'ep_reward': 38.0, 'episodes': 900}\n"
     ]
    },
    {
     "data": {
      "image/png": "[encoded data removed]",
      "text/plain": [
       "<Figure size 450x350 with 1 Axes>"
      ]
     },
     "metadata": {},
     "output_type": "display_data"
    },
    {
     "name": "stdout",
     "output_type": "stream",
     "text": [
      "Training complete!\n"
     ]
    }
   ],
   "source": [
    "if not skip_training:\n",
    "    train(PGLearnedVar, cfg_path=Path().cwd() / 'cfg' / 'inverted_pendulum.yaml', cfg_args=dict(model_name=\"PGLearnedVar\")) # < 10 mins"
   ]
  },
  {
   "cell_type": "code",
   "execution_count": 63,
   "id": "6b3d4bbd-9d79-4e23-a92a-d593a192a2c7",
   "metadata": {
    "tags": []
   },
   "outputs": [
    {
     "name": "stdout",
     "output_type": "stream",
     "text": [
      "Numpy/Torch/Random Seed:  409\n",
      "Loading model from /notebooks/rl2024/ex5/results/InvertedPendulum-v4/model/PGLearnedVar_params.pt ...\n",
      "Test ep_reward: 8.0\n",
      "Test ep_reward: 11.0\n",
      "Test ep_reward: 8.0\n",
      "Test ep_reward: 14.0\n",
      "Test ep_reward: 8.0\n",
      "Test ep_reward: 11.0\n",
      "Test ep_reward: 11.0\n",
      "Test ep_reward: 45.0\n",
      "Test ep_reward: 11.0\n",
      "Test ep_reward: 8.0\n",
      "Median test reward: 11.0\n"
     ]
    }
   ],
   "source": [
    "if not skip_training:\n",
    "    test(PGLearnedVar, cfg_path=Path().cwd() / 'cfg' / 'inverted_pendulum.yaml', cfg_args=dict(model_name=\"PGLearnedVar\", save_video=True, testing=True))"
   ]
  },
  {
   "cell_type": "code",
   "execution_count": null,
   "id": "1afce7ed",
   "metadata": {
    "deletable": false,
    "editable": false,
    "nbgrader": {
     "cell_type": "code",
     "checksum": "488b0594c6a0bc7114212e08886456da",
     "grade": true,
     "grade_id": "cell-b30e0b4e722242a6",
     "locked": true,
     "points": 2,
     "schema_version": 3,
     "solution": false,
     "task": false
    }
   },
   "outputs": [],
   "source": []
  },
  {
   "cell_type": "code",
   "execution_count": null,
   "id": "c765232f",
   "metadata": {
    "deletable": false,
    "editable": false,
    "nbgrader": {
     "cell_type": "code",
     "checksum": "3ab5d3ddd4f03fbc59870f78a083f9bf",
     "grade": true,
     "grade_id": "cell-cfe147d31b546e45",
     "locked": true,
     "points": 8,
     "schema_version": 3,
     "solution": false,
     "task": false
    }
   },
   "outputs": [],
   "source": []
  },
  {
   "cell_type": "code",
   "execution_count": 64,
   "id": "da748d77-46d5-4597-b2f9-d9885ca24e6a",
   "metadata": {
    "tags": []
   },
   "outputs": [
    {
     "data": {
      "text/html": [
       "<video loop autoplay  >\n",
       " <source src=\"data:video/mp4;base64,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\" type=\"video/mp4\">\n",
       " Your browser does not support the video tag.\n",
       " </video>"
      ],
      "text/plain": [
       "<IPython.core.display.Video object>"
      ]
     },
     "metadata": {},
     "output_type": "display_data"
    }
   ],
   "source": [
    "if not skip_training:\n",
    "    video = Video(Path().cwd() / 'results' / 'InvertedPendulum-v4' / 'video' / 'test' / 'ex5-episode-0.mp4',\n",
    "    embed=True, html_attributes=\"loop autoplay\") # Set html_attributes=\"controls\" for video control\n",
    "    display(video)"
   ]
  },
  {
   "cell_type": "markdown",
   "id": "6b3294a4",
   "metadata": {
    "deletable": false,
    "editable": false,
    "nbgrader": {
     "cell_type": "markdown",
     "checksum": "fab39c6fa2607a23e24d1db8c8081c5a",
     "grade": false,
     "grade_id": "cell-f5cbd8946325f4b7",
     "locked": true,
     "schema_version": 3,
     "solution": false,
     "task": false
    }
   },
   "source": [
    "<a id='Q2'></a>\n",
    "<div class=\" alert alert-warning\">\n",
    "    <h3><b>Student Question 2.1</b> Constant vs Learnable Variance (5 points) </h3> \n",
    "\n",
    "Which of the following statements accurately describe the strengths and weaknesses of using constant variance vs. learning the variance during training? **Select 5 options.**      \n",
    "🔝\t<a href='#TOC'><b>Table of Contents</b></a>\n",
    "</div>"
   ]
  },
  {
   "cell_type": "markdown",
   "id": "ebc0af92-69e2-4092-8e09-d070351e2fde",
   "metadata": {
    "deletable": false,
    "editable": false,
    "nbgrader": {
     "cell_type": "markdown",
     "checksum": "9f9b59308ffd6714780a24779a21a972",
     "grade": false,
     "grade_id": "cell-5e9bfdef15f9a0fb",
     "locked": true,
     "schema_version": 3,
     "solution": false,
     "task": false
    },
    "tags": []
   },
   "source": [
    "Options:\n",
    "\n",
    "1. Variance is directly tied to exploration, with greater variance leading to more random actions and more exploration. \n",
    "2.  Learned variance always leads to better results than constant variance. \n",
    "3.  Constant variance is a simple solution that guarantees a certain level of exploration throughout training. \n",
    "4.  If constant variance is set too low, it can result in faster convergence to the optimal policy. \n",
    "5.  If the constant variance is set too high, it can handle very challenging environments by seeing through the randomness in selected actions.\n",
    "6.  Learning the variance allows the agent to adapt its exploration needs throughout training. \n",
    "7. Constant variance makes it possible for the agent to explore more at the beginning and less as the policy improves. \n",
    "8. Learning the variance can potentially reduce variance when actions are good and increase it when actions are bad. \n",
    "9. Understanding how learned variance behaves during optimization can be challenging.\n",
    "10. Constant variance is computationally more expensive than learned variance.\n"
   ]
  },
  {
   "cell_type": "code",
   "execution_count": 76,
   "id": "43eb71f9-232a-4ab7-97e3-31972a7cb343",
   "metadata": {
    "tags": []
   },
   "outputs": [],
   "source": [
    "# Answer question 2.1 with appropriate option numbers\n",
    "sq2_1 = [1,6,3,8,9] "
   ]
  },
  {
   "cell_type": "markdown",
   "id": "296320f9-3b14-4edc-b5f2-597a094e171d",
   "metadata": {
    "deletable": false,
    "editable": false,
    "nbgrader": {
     "cell_type": "markdown",
     "checksum": "d13eefd0d63d1ff18a00323cef460153",
     "grade": false,
     "grade_id": "cell-4cf801eac92a3b19",
     "locked": true,
     "schema_version": 3,
     "solution": false,
     "task": false
    },
    "tags": []
   },
   "source": [
    "The following cells are used for grading."
   ]
  },
  {
   "cell_type": "code",
   "execution_count": null,
   "id": "c2333a4c-697c-4875-9885-e63284af3f2c",
   "metadata": {
    "deletable": false,
    "editable": false,
    "nbgrader": {
     "cell_type": "code",
     "checksum": "683b1f0671b478fec843b6e7163a15ca",
     "grade": true,
     "grade_id": "cell-ae37e0b98565323f",
     "locked": true,
     "points": 1,
     "schema_version": 3,
     "solution": false,
     "task": false
    },
    "tags": []
   },
   "outputs": [],
   "source": []
  },
  {
   "cell_type": "code",
   "execution_count": null,
   "id": "2d053c6e-6e65-4aec-ae9d-45ddb4cc3f13",
   "metadata": {
    "deletable": false,
    "editable": false,
    "nbgrader": {
     "cell_type": "code",
     "checksum": "ae84c5dba0956a86e0f1a806c86e0af1",
     "grade": true,
     "grade_id": "cell-a72089ecec4f5632",
     "locked": true,
     "points": 1,
     "schema_version": 3,
     "solution": false,
     "task": false
    },
    "tags": []
   },
   "outputs": [],
   "source": []
  },
  {
   "cell_type": "code",
   "execution_count": null,
   "id": "71edfd5d-e17f-4eda-a717-9e44120af0e1",
   "metadata": {
    "deletable": false,
    "editable": false,
    "nbgrader": {
     "cell_type": "code",
     "checksum": "c189d5b475c6cced735a5314611c4f21",
     "grade": true,
     "grade_id": "cell-9e5f8847acea74a7",
     "locked": true,
     "points": 1,
     "schema_version": 3,
     "solution": false,
     "task": false
    },
    "tags": []
   },
   "outputs": [],
   "source": []
  },
  {
   "cell_type": "code",
   "execution_count": null,
   "id": "e55b5584-6503-4fdb-8114-cc405a144043",
   "metadata": {
    "deletable": false,
    "editable": false,
    "nbgrader": {
     "cell_type": "code",
     "checksum": "115d571744e4b698680e42ef44a6a9f1",
     "grade": true,
     "grade_id": "cell-2be5408389da2f22",
     "locked": true,
     "points": 1,
     "schema_version": 3,
     "solution": false,
     "task": false
    },
    "tags": []
   },
   "outputs": [],
   "source": []
  },
  {
   "cell_type": "code",
   "execution_count": null,
   "id": "be5d5f33-0196-4a05-ab15-c14611e24329",
   "metadata": {
    "deletable": false,
    "editable": false,
    "nbgrader": {
     "cell_type": "code",
     "checksum": "bff3925d27a08b1abb8436e8f9a2087a",
     "grade": true,
     "grade_id": "cell-e990636f285b1fc3",
     "locked": true,
     "points": 1,
     "schema_version": 3,
     "solution": false,
     "task": false
    },
    "tags": []
   },
   "outputs": [],
   "source": []
  },
  {
   "cell_type": "markdown",
   "id": "0f701ff9",
   "metadata": {
    "deletable": false,
    "editable": false,
    "nbgrader": {
     "cell_type": "markdown",
     "checksum": "c782d710199b9b152f240bc37bc10069",
     "grade": false,
     "grade_id": "cell-e68f1d1241b5f955",
     "locked": true,
     "schema_version": 3,
     "solution": false,
     "task": false
    }
   },
   "source": [
    "<a id='Q3'></a>\n",
    "<div class=\" alert alert-warning\">\n",
    "    <h3><b>Student Question 2.2</b> Learnable Variance Initial Performance (5 points) </h3> \n",
    "\n",
    "In the case of learned variance, what are the impacts of initialization on the training performance? **Select 4 options.**\n",
    "\n",
    "🔝\t<a href='#TOC'><b>Table of Contents</b></a>\n",
    "</div>"
   ]
  },
  {
   "cell_type": "markdown",
   "id": "80ffb191-91ed-411a-84db-cdba261fabb1",
   "metadata": {
    "deletable": false,
    "editable": false,
    "nbgrader": {
     "cell_type": "markdown",
     "checksum": "c5d5279967303ed7150ab5b034687350",
     "grade": false,
     "grade_id": "cell-0b76bf2aa4735495",
     "locked": true,
     "schema_version": 3,
     "solution": false,
     "task": false
    },
    "tags": []
   },
   "source": [
    "Options:\n",
    "    \n",
    "1. A larger initial value allows for more exploration at the beginning of training. \n",
    "2. A lower initial value tends to favor exploitation over exploration initially. \n",
    "3. The initial variance value has no impact on the final performance of the trained policy. \n",
    "4. If the initial value is too low or too high, training can be slower and may require more data. \n",
    "5. A high initial variance leads to better final performance regardless of the task. \n",
    "6. The impact of the initial variance diminishes as training progresses and the variance is learned. \n",
    "7. The optimal initial variance can be theoretically calculated for any given task. \n",
    "8. If the variance decreases too rapidly, the optimizer might become trapped in a local minimum.\n",
    "9. Changing the initial variance is equivalent to adjusting the learning rate of the optimizer. \n",
    "10. The initial variance affects only the beginning of training.\n"
   ]
  },
  {
   "cell_type": "code",
   "execution_count": 78,
   "id": "1ffebac0-8432-44a4-bfde-7b985e21fec2",
   "metadata": {
    "tags": []
   },
   "outputs": [],
   "source": [
    "# Answer question 2.2 with appropriate option numbers\n",
    "sq2_2 = [1,2,6,4] "
   ]
  },
  {
   "cell_type": "markdown",
   "id": "4be1c98b-8e1a-45a0-988d-d9b386a24f39",
   "metadata": {
    "deletable": false,
    "editable": false,
    "nbgrader": {
     "cell_type": "markdown",
     "checksum": "d825ca8e2bb7a90eac70fa0a503f7cb4",
     "grade": false,
     "grade_id": "cell-76f57b4b47186121",
     "locked": true,
     "schema_version": 3,
     "solution": false,
     "task": false
    },
    "tags": []
   },
   "source": [
    "The following cells are used for grading."
   ]
  },
  {
   "cell_type": "code",
   "execution_count": null,
   "id": "52fc11d0-fd01-463d-8283-5af574797c1d",
   "metadata": {
    "deletable": false,
    "editable": false,
    "nbgrader": {
     "cell_type": "code",
     "checksum": "f38b6c0f01a00ce34763c3d48b24ca73",
     "grade": true,
     "grade_id": "cell-09b718ecfbe32325",
     "locked": true,
     "points": 1,
     "schema_version": 3,
     "solution": false,
     "task": false
    },
    "tags": []
   },
   "outputs": [],
   "source": []
  },
  {
   "cell_type": "code",
   "execution_count": null,
   "id": "2709dfb7-56be-495d-803e-852110f47093",
   "metadata": {
    "deletable": false,
    "editable": false,
    "nbgrader": {
     "cell_type": "code",
     "checksum": "2a50c0ba4f2bf587aa935a79073d06e1",
     "grade": true,
     "grade_id": "cell-763f34edc660252e",
     "locked": true,
     "points": 1,
     "schema_version": 3,
     "solution": false,
     "task": false
    },
    "tags": []
   },
   "outputs": [],
   "source": []
  },
  {
   "cell_type": "code",
   "execution_count": null,
   "id": "bff6107a-023d-461e-968d-1e17449f64d7",
   "metadata": {
    "deletable": false,
    "editable": false,
    "nbgrader": {
     "cell_type": "code",
     "checksum": "32452fdda00d718cc0baaa7fb394651e",
     "grade": true,
     "grade_id": "cell-98c29f8b68e66232",
     "locked": true,
     "points": 1,
     "schema_version": 3,
     "solution": false,
     "task": false
    },
    "tags": []
   },
   "outputs": [],
   "source": []
  },
  {
   "cell_type": "code",
   "execution_count": null,
   "id": "25bbc19b-e340-42d0-a7ee-ab05a2ad92b8",
   "metadata": {
    "deletable": false,
    "editable": false,
    "nbgrader": {
     "cell_type": "code",
     "checksum": "5785645c12767d416dc6ddfed99efa21",
     "grade": true,
     "grade_id": "cell-9c9e78138da8d51d",
     "locked": true,
     "points": 2,
     "schema_version": 3,
     "solution": false,
     "task": false
    },
    "tags": []
   },
   "outputs": [],
   "source": []
  },
  {
   "cell_type": "markdown",
   "id": "e341103b",
   "metadata": {},
   "source": [
    "# 4. PG and experience replay <a id='4.'></a>"
   ]
  },
  {
   "cell_type": "markdown",
   "id": "6112bc95",
   "metadata": {
    "deletable": false,
    "editable": false,
    "nbgrader": {
     "cell_type": "markdown",
     "checksum": "6a68688c7ef8e04344930af37d7c63f2",
     "grade": false,
     "grade_id": "cell-6cb5eeda51f1d4eb",
     "locked": true,
     "schema_version": 3,
     "solution": false,
     "task": false
    },
    "tags": []
   },
   "source": [
    "<a id='Q4'></a>\n",
    "<div class=\" alert alert-warning\">\n",
    "    <h3><b>Student Question 3.</b> Considering an experience replay buffer (15 points) </h3> \n",
    "\n",
    "Why can't the REINFORCE method implemented in this exercise be directly used with experience replay? Which steps of the algorithm would be problematic, and how could these issues potentially be resolved? **Select 4 options.**\n",
    "\n",
    "🔝\t<a href='#TOC'><b>Table of Contents</b></a>\n",
    "</div>"
   ]
  },
  {
   "cell_type": "markdown",
   "id": "ea0ea7f0-69a6-47f8-a46a-bb010300d0e1",
   "metadata": {
    "deletable": false,
    "editable": false,
    "nbgrader": {
     "cell_type": "markdown",
     "checksum": "698fb1e0819100c4f301814e570244df",
     "grade": false,
     "grade_id": "cell-adb8f569068522a3",
     "locked": true,
     "schema_version": 3,
     "solution": false,
     "task": false
    },
    "tags": []
   },
   "source": [
    "Options:\n",
    "\n",
    "1.  REINFORCE is inherently off-policy and can be directly used with experience replay without modifications. \n",
    "2.  REINFORCE is an on-policy method, making it incompatible with off-policy data from a replay buffer. \n",
    "3. The problematic step is in the policy evaluation process, as the stored rewards may not reflect the current policy's performance.\n",
    "4.  The problem can be mitigated by frequently updating the replay buffer with experiences from more recent policies.\n",
    "5.  The expectation of the gradient must be calculated over the current policy in REINFORCE. \n",
    "6.  REINFORCE requires sequential data, which is disrupted by the random sampling in experience replay. \n",
    "7.  Computing the expectation term is difficult with experiences from policies other than the current one. \n",
    "8.  There is no way to use REINFORCE with experience replay under any circumstances.\n",
    "9.  Importance sampling can be used to estimate the gradients and potentially resolve the issue. \n"
   ]
  },
  {
   "cell_type": "code",
   "execution_count": 84,
   "id": "00d2bf15-930e-4689-898b-d6a529174d21",
   "metadata": {
    "tags": []
   },
   "outputs": [],
   "source": [
    "# Answer question 3 with appropriate option numbers\n",
    "sq3 = [2,5,3,9] "
   ]
  },
  {
   "cell_type": "markdown",
   "id": "5c820539-91be-40c3-9721-f3aecf0d7c71",
   "metadata": {
    "deletable": false,
    "editable": false,
    "nbgrader": {
     "cell_type": "markdown",
     "checksum": "3f9f72a20005df02b60eacdf9cd800a1",
     "grade": false,
     "grade_id": "cell-a7b8cbb0c7ee79bf",
     "locked": true,
     "schema_version": 3,
     "solution": false,
     "task": false
    },
    "tags": []
   },
   "source": [
    "The following cells are used for grading."
   ]
  },
  {
   "cell_type": "code",
   "execution_count": null,
   "id": "a395615e-0977-42fc-97b2-0067d9daf743",
   "metadata": {
    "deletable": false,
    "editable": false,
    "nbgrader": {
     "cell_type": "code",
     "checksum": "4413fbf9a4117123de48bdff40d8edb5",
     "grade": true,
     "grade_id": "cell-888f793f50035df5",
     "locked": true,
     "points": 4,
     "schema_version": 3,
     "solution": false,
     "task": false
    },
    "tags": []
   },
   "outputs": [],
   "source": []
  },
  {
   "cell_type": "code",
   "execution_count": null,
   "id": "62f6467d-1b3e-4990-8d6b-5710d8f43cd4",
   "metadata": {
    "deletable": false,
    "editable": false,
    "nbgrader": {
     "cell_type": "code",
     "checksum": "82a27507e21e239487f9dbc71b70113f",
     "grade": true,
     "grade_id": "cell-c1e5b1ebabd15135",
     "locked": true,
     "points": 4,
     "schema_version": 3,
     "solution": false,
     "task": false
    },
    "tags": []
   },
   "outputs": [],
   "source": []
  },
  {
   "cell_type": "code",
   "execution_count": null,
   "id": "7f2e6daf-15bb-44b9-8613-ad1c420f248a",
   "metadata": {
    "deletable": false,
    "editable": false,
    "nbgrader": {
     "cell_type": "code",
     "checksum": "3151594ac1e83351cd877b808e0b3c67",
     "grade": true,
     "grade_id": "cell-a4e0e03a88560f44",
     "locked": true,
     "points": 4,
     "schema_version": 3,
     "solution": false,
     "task": false
    },
    "tags": []
   },
   "outputs": [],
   "source": []
  },
  {
   "cell_type": "code",
   "execution_count": null,
   "id": "ac8de0c6-3e96-477f-a6f2-f14ba043f29d",
   "metadata": {
    "deletable": false,
    "editable": false,
    "nbgrader": {
     "cell_type": "code",
     "checksum": "fb61e4be1d3786c02d82e25aa17d5550",
     "grade": true,
     "grade_id": "cell-89819ab91b6882b0",
     "locked": true,
     "points": 3,
     "schema_version": 3,
     "solution": false,
     "task": false
    },
    "tags": []
   },
   "outputs": [],
   "source": []
  },
  {
   "cell_type": "markdown",
   "id": "a7b67d36",
   "metadata": {},
   "source": [
    "# 5. Real-world control problems <a id='5.'></a>"
   ]
  },
  {
   "cell_type": "markdown",
   "id": "3731e57a",
   "metadata": {
    "deletable": false,
    "editable": false,
    "nbgrader": {
     "cell_type": "markdown",
     "checksum": "b0ba52a4c04c3e5a61b1b086f6e08642",
     "grade": false,
     "grade_id": "cell-4cf495dce20c4b84",
     "locked": true,
     "schema_version": 3,
     "solution": false,
     "task": false
    }
   },
   "source": [
    "<a id='Q5'></a>\n",
    "<div class=\" alert alert-warning\">\n",
    "    <h3><b>Student Question 4.1</b> Considering an unbounded continuous action space part 1 (5 points) </h3> \n",
    "\n",
    "What could go wrong when a model with an **unbounded** continuous action space and a reward function like the one used here (+1 for survival) were to be used with a physical system? **Select 5 options.**\n",
    "\n",
    "\n",
    "🔝\t<a href='#TOC'><b>Table of Contents</b></a>\n",
    "</div>"
   ]
  },
  {
   "cell_type": "markdown",
   "id": "490748e0-4af6-46c7-8c1f-bd49b17b4988",
   "metadata": {
    "deletable": false,
    "editable": false,
    "nbgrader": {
     "cell_type": "markdown",
     "checksum": "55f365842c25299d768ad29135696fc7",
     "grade": false,
     "grade_id": "cell-bd5793f602cb1128",
     "locked": true,
     "schema_version": 3,
     "solution": false,
     "task": false
    },
    "tags": []
   },
   "source": [
    "Options:\n",
    "    \n",
    "1. The agent would always converge to the most energy-efficient actions to ensure long-term survival. \n",
    "2. The agent might take extreme actions that could damage the physical hardware. \n",
    "3. The simple reward function would lead to slow learning but no physical dangers. \n",
    "4.  The model would naturally avoid extreme actions due to the survival instinct encoded in the reward. \n",
    "5.  The model could apply unrealistically large inputs (e.g., voltages) to system components. \n",
    "6.  The main issue would be the computational cost of handling unlimited actions, not physical dangers.\n",
    "7.  The agent might cause damage to the surroundings of the physical system. \n",
    "8.  The unbounded action space could lead to unsafe operating conditions for the system. \n",
    "9.  The model might learn to exploit the reward function by finding unintended shortcuts to survival. \n",
    "10.  Unbounded continuous action spaces guarantee optimal performance in physical systems. \n"
   ]
  },
  {
   "cell_type": "code",
   "execution_count": 86,
   "id": "097190c7-adc7-4ffa-9acb-600981bdfe4a",
   "metadata": {
    "tags": []
   },
   "outputs": [],
   "source": [
    "# Answer question 4.1 with appropriate option numbers\n",
    "sq4_1 = [2,5,7,8,9] "
   ]
  },
  {
   "cell_type": "markdown",
   "id": "d1502a88-ef13-4b1b-b258-b8f79173b5f2",
   "metadata": {
    "deletable": false,
    "editable": false,
    "nbgrader": {
     "cell_type": "markdown",
     "checksum": "638469d35f910bd89d7923f1d4d54b79",
     "grade": false,
     "grade_id": "cell-b43da332879b800b",
     "locked": true,
     "schema_version": 3,
     "solution": false,
     "task": false
    },
    "tags": []
   },
   "source": [
    "The following cells are used for grading."
   ]
  },
  {
   "cell_type": "code",
   "execution_count": null,
   "id": "db8826d1-9986-46e4-85e5-cf27196e83e3",
   "metadata": {
    "deletable": false,
    "editable": false,
    "nbgrader": {
     "cell_type": "code",
     "checksum": "546aecc1550081b14b1522050105c6bf",
     "grade": true,
     "grade_id": "cell-d5a8ec81fd0d66b1",
     "locked": true,
     "points": 1,
     "schema_version": 3,
     "solution": false,
     "task": false
    },
    "tags": []
   },
   "outputs": [],
   "source": []
  },
  {
   "cell_type": "code",
   "execution_count": null,
   "id": "e479588a-4204-4439-a472-3f42e28a074c",
   "metadata": {
    "deletable": false,
    "editable": false,
    "nbgrader": {
     "cell_type": "code",
     "checksum": "4aa68a722fdde09a0f14b1cc2beca952",
     "grade": true,
     "grade_id": "cell-dd21e01105b76141",
     "locked": true,
     "points": 1,
     "schema_version": 3,
     "solution": false,
     "task": false
    },
    "tags": []
   },
   "outputs": [],
   "source": []
  },
  {
   "cell_type": "code",
   "execution_count": null,
   "id": "d1ddda5c-62d7-4972-8499-b366c33180d9",
   "metadata": {
    "deletable": false,
    "editable": false,
    "nbgrader": {
     "cell_type": "code",
     "checksum": "86c6d11ddefd70ca91ca251f95336b79",
     "grade": true,
     "grade_id": "cell-1fcee280857bec9d",
     "locked": true,
     "points": 1,
     "schema_version": 3,
     "solution": false,
     "task": false
    },
    "tags": []
   },
   "outputs": [],
   "source": []
  },
  {
   "cell_type": "code",
   "execution_count": null,
   "id": "be07e454-ef17-49f7-9bb6-bc8cea0f33b1",
   "metadata": {
    "deletable": false,
    "editable": false,
    "nbgrader": {
     "cell_type": "code",
     "checksum": "4c33a96b244d47f6d295480d7c250f1e",
     "grade": true,
     "grade_id": "cell-8047c00c583ed0b5",
     "locked": true,
     "points": 1,
     "schema_version": 3,
     "solution": false,
     "task": false
    },
    "tags": []
   },
   "outputs": [],
   "source": []
  },
  {
   "cell_type": "code",
   "execution_count": null,
   "id": "11aa6875-27b5-4493-9bbc-947210f76997",
   "metadata": {
    "deletable": false,
    "editable": false,
    "nbgrader": {
     "cell_type": "code",
     "checksum": "3568917e141d50f586181ced3a278c15",
     "grade": true,
     "grade_id": "cell-bd91fc42a27e31c6",
     "locked": true,
     "points": 1,
     "schema_version": 3,
     "solution": false,
     "task": false
    },
    "tags": []
   },
   "outputs": [],
   "source": []
  },
  {
   "cell_type": "markdown",
   "id": "fb45baf8",
   "metadata": {
    "deletable": false,
    "editable": false,
    "nbgrader": {
     "cell_type": "markdown",
     "checksum": "67b760375ed0a6a2b94dfb07ea65d28e",
     "grade": false,
     "grade_id": "cell-7efb2faf02c622ca",
     "locked": true,
     "schema_version": 3,
     "solution": false,
     "task": false
    }
   },
   "source": [
    "<a id='Q6'></a>\n",
    "<div class=\" alert alert-warning\">\n",
    "    <h3><b>Student Question 4.2</b> Considering an unbounded continuous action space part 2 (10 points) </h3> \n",
    "\n",
    "How could the problems appearing in Question 4.1 be mitigated without putting a hard limit on the actions? **Select 3 options.**\n",
    "\n",
    "🔝\t<a href='#TOC'><b>Table of Contents</b></a>\n",
    "</div>"
   ]
  },
  {
   "cell_type": "markdown",
   "id": "0fd8de8b-0921-4e92-99a7-bf716b05d958",
   "metadata": {
    "deletable": false,
    "editable": false,
    "nbgrader": {
     "cell_type": "markdown",
     "checksum": "27fc63402758fa9596a3e25808be10f6",
     "grade": false,
     "grade_id": "cell-aa619f6370139c43",
     "locked": true,
     "schema_version": 3,
     "solution": false,
     "task": false
    },
    "tags": []
   },
   "source": [
    "Options:\n",
    "    \n",
    "1. Only need to add a cost for constraining the state-space of the system\n",
    "2. Implement a reward function with a cost on extreme actions. \n",
    "3. Increase the frequency of agent updates to react more quickly to potential dangers.\n",
    "4.  Penalize actions that lead to unsafe states in the reward function. \n",
    "5.  Train the agent for more episodes to ensure it learns to avoid dangerous actions.\n",
    "6.  Modify the reward function to encourage safer behavior. \n",
    "7.  Increase the exploration rate to ensure the agent finds safe actions more quickly.\n",
    "8. Use a larger neural network to better approximate the optimal policy.\n"
   ]
  },
  {
   "cell_type": "code",
   "execution_count": 87,
   "id": "8c7a8af1-1828-430d-8c93-b066c8c06290",
   "metadata": {
    "tags": []
   },
   "outputs": [],
   "source": [
    "# Answer question 4.2 with appropriate option numbers\n",
    "sq4_2 = [2,6,4] "
   ]
  },
  {
   "cell_type": "markdown",
   "id": "7180cb44-e7f8-46c3-a998-82b8ca735e52",
   "metadata": {
    "deletable": false,
    "editable": false,
    "nbgrader": {
     "cell_type": "markdown",
     "checksum": "a6805e89aea5be8794bf596d54fa3a4b",
     "grade": false,
     "grade_id": "cell-3b450e8fc52b5fde",
     "locked": true,
     "schema_version": 3,
     "solution": false,
     "task": false
    },
    "tags": []
   },
   "source": [
    "The following cells are used for grading."
   ]
  },
  {
   "cell_type": "code",
   "execution_count": null,
   "id": "b91768e7-c369-4f8b-8775-05b643ca6a18",
   "metadata": {
    "deletable": false,
    "editable": false,
    "nbgrader": {
     "cell_type": "code",
     "checksum": "3652e018ac01e53271b7629acbc23b13",
     "grade": true,
     "grade_id": "cell-f9c4479f99666417",
     "locked": true,
     "points": 3,
     "schema_version": 3,
     "solution": false,
     "task": false
    },
    "tags": []
   },
   "outputs": [],
   "source": []
  },
  {
   "cell_type": "code",
   "execution_count": null,
   "id": "00ebbea3-f23d-401e-8aeb-66509850c935",
   "metadata": {
    "deletable": false,
    "editable": false,
    "nbgrader": {
     "cell_type": "code",
     "checksum": "2e999e719e7e4b1c084cb7824d3d757a",
     "grade": true,
     "grade_id": "cell-25d8dcd46c0a0aad",
     "locked": true,
     "points": 3,
     "schema_version": 3,
     "solution": false,
     "task": false
    },
    "tags": []
   },
   "outputs": [],
   "source": []
  },
  {
   "cell_type": "code",
   "execution_count": null,
   "id": "4c207fd7-f8ad-4faf-a3e6-bae40bce0ae0",
   "metadata": {
    "deletable": false,
    "editable": false,
    "nbgrader": {
     "cell_type": "code",
     "checksum": "d8f37ba4a5b559d2961d11bccb39f025",
     "grade": true,
     "grade_id": "cell-ad280a1aceb1fe48",
     "locked": true,
     "points": 4,
     "schema_version": 3,
     "solution": false,
     "task": false
    },
    "tags": []
   },
   "outputs": [],
   "source": []
  },
  {
   "cell_type": "markdown",
   "id": "0eacb159",
   "metadata": {},
   "source": [
    "# 6. Discrete action spaces <a id='6.'></a>"
   ]
  },
  {
   "cell_type": "markdown",
   "id": "078ceb81",
   "metadata": {
    "deletable": false,
    "editable": false,
    "nbgrader": {
     "cell_type": "markdown",
     "checksum": "66dcd9987ec7c4e5ebda97a81438d820",
     "grade": false,
     "grade_id": "cell-ef7074d497b36665",
     "locked": true,
     "schema_version": 3,
     "solution": false,
     "task": false
    },
    "tags": []
   },
   "source": [
    "<a id='Q7'></a>\n",
    "<div class=\" alert alert-warning\">\n",
    "    <h3><b>Student Question 5.</b> Considering discrete action spaces (10 points) </h3> \n",
    "\n",
    "Can policy gradient methods be used with discrete action spaces? If so, how would they be implemented? **Select 5 options.**\n",
    "    \n",
    "🔝\t<a href='#TOC'><b>Table of Contents</b></a>\n",
    "</div>"
   ]
  },
  {
   "cell_type": "markdown",
   "id": "c9d9c3ec-d223-452d-8a47-4f8073e3066a",
   "metadata": {
    "deletable": false,
    "editable": false,
    "nbgrader": {
     "cell_type": "markdown",
     "checksum": "26f3c4738d927b2de66b599a486ba532",
     "grade": false,
     "grade_id": "cell-7f1aac4a2b0a31e4",
     "locked": true,
     "schema_version": 3,
     "solution": false,
     "task": false
    },
    "tags": []
   },
   "source": [
    "Options:\n",
    "    \n",
    "1. Yes, policy gradient methods can be used with discrete action spaces. \n",
    "2. The gradient can still be computed and used to update the policy in discrete action spaces. \n",
    "3. Policy gradient methods are fundamentally incompatible with discrete action spaces. \n",
    "4. In discrete action spaces, the policy network would output probabilities for each action instead of means and variances. \n",
    "5. No changes to the algorithm are needed; it works identically for continuous and discrete spaces. \n",
    "6. A categorical (softmax) distribution is typically used for the policy in discrete action spaces. \n",
    "7. In discrete spaces, the policy gradient is computed using the log-probability of the chosen action. \n",
    "8. Discrete action spaces require a completely different class of algorithms and cannot use policy gradients. \n",
    "9. The main challenge is in defining a continuous approximation of the discrete action space. \n"
   ]
  },
  {
   "cell_type": "code",
   "execution_count": 91,
   "id": "97cd5abb-dd0a-43ea-b413-d2ce26fdab5d",
   "metadata": {
    "tags": []
   },
   "outputs": [],
   "source": [
    "# Answer question 5 with appropriate option numbers\n",
    "sq5 = [1,2,4,6,7] "
   ]
  },
  {
   "cell_type": "markdown",
   "id": "a457fc65-a43e-4bc2-ac20-6f5304cf9dfa",
   "metadata": {
    "deletable": false,
    "editable": false,
    "nbgrader": {
     "cell_type": "markdown",
     "checksum": "dce09cff7bd5d1047689ababaef90649",
     "grade": false,
     "grade_id": "cell-93982c40108e75aa",
     "locked": true,
     "schema_version": 3,
     "solution": false,
     "task": false
    },
    "tags": []
   },
   "source": [
    "The following cells are used for grading."
   ]
  },
  {
   "cell_type": "code",
   "execution_count": null,
   "id": "eae4646c-26ee-456b-a791-ffdaf1dea484",
   "metadata": {
    "deletable": false,
    "editable": false,
    "nbgrader": {
     "cell_type": "code",
     "checksum": "ae1a9141639c916b8df9810c7041bb4b",
     "grade": true,
     "grade_id": "cell-455629eb8ff429fc",
     "locked": true,
     "points": 2,
     "schema_version": 3,
     "solution": false,
     "task": false
    },
    "tags": []
   },
   "outputs": [],
   "source": []
  },
  {
   "cell_type": "code",
   "execution_count": null,
   "id": "c15dc545-4698-489b-a49c-3413cf70a548",
   "metadata": {
    "deletable": false,
    "editable": false,
    "nbgrader": {
     "cell_type": "code",
     "checksum": "b21d5d93a5b584d204404eb34b889116",
     "grade": true,
     "grade_id": "cell-ccd64746d61c21fe",
     "locked": true,
     "points": 2,
     "schema_version": 3,
     "solution": false,
     "task": false
    },
    "tags": []
   },
   "outputs": [],
   "source": []
  },
  {
   "cell_type": "code",
   "execution_count": null,
   "id": "1aa9a214-e0c3-42c8-bba9-28898f3a9758",
   "metadata": {
    "deletable": false,
    "editable": false,
    "nbgrader": {
     "cell_type": "code",
     "checksum": "4b411904077d2218347dba63d31cc773",
     "grade": true,
     "grade_id": "cell-3b1379631af22fbe",
     "locked": true,
     "points": 2,
     "schema_version": 3,
     "solution": false,
     "task": false
    },
    "tags": []
   },
   "outputs": [],
   "source": []
  },
  {
   "cell_type": "code",
   "execution_count": null,
   "id": "00222dd3-06b1-436c-93f4-f6b60147bb2a",
   "metadata": {
    "deletable": false,
    "editable": false,
    "nbgrader": {
     "cell_type": "code",
     "checksum": "86b3c8b0c452ce715cc376a7b4172974",
     "grade": true,
     "grade_id": "cell-a58c487d6d744df5",
     "locked": true,
     "points": 2,
     "schema_version": 3,
     "solution": false,
     "task": false
    },
    "tags": []
   },
   "outputs": [],
   "source": []
  },
  {
   "cell_type": "code",
   "execution_count": null,
   "id": "82c97890-ddd1-4824-bb2b-2e5be84291f4",
   "metadata": {
    "deletable": false,
    "editable": false,
    "nbgrader": {
     "cell_type": "code",
     "checksum": "8ed761b8c0d3a85b2b576a6e3ca8296a",
     "grade": true,
     "grade_id": "cell-6f7c8a46592ca476",
     "locked": true,
     "points": 2,
     "schema_version": 3,
     "solution": false,
     "task": false
    },
    "tags": []
   },
   "outputs": [],
   "source": []
  },
  {
   "cell_type": "markdown",
   "id": "4c50da4d",
   "metadata": {
    "deletable": false,
    "editable": false,
    "nbgrader": {
     "cell_type": "markdown",
     "checksum": "9965fc6e7758f8a420963a52b936f443",
     "grade": false,
     "grade_id": "cell-8d4be4c9092a091c",
     "locked": true,
     "schema_version": 3,
     "solution": false,
     "task": false
    },
    "tags": []
   },
   "source": [
    "# 7. Submitting <a id='7.'></a>\n",
    "\n",
    "Ensure all tasks and questions in `ex5.ipynb` are thoroughly answered and that all the relevant plots are displayed correctly (there is no need to save the plots in the results folder). \n",
    "\n",
    "The training performance plots are as follows:\n",
    "\n",
    "- **Task 1a, REINFORCE without baseline**: Ensure the implementation is correct and the plot is similar to the expected plot shown in the task description. Refer to [Figure 1a](#figure-1a).\n",
    "  \n",
    "- **Task 1b, REINFORCE with constant baseline b = 20**: Properly implement the algorithm with a constant baseline and plot the training performance. Refer to [Figure 1b](#figure-1b).\n",
    "  \n",
    "- **Task 1c, REINFORCE with discounted rewards normalized to zero mean and unit variance**: Implement and plot the performance ensuring the rewards are normalized correctly. Refer to [Figure 1c](#figure-1c).\n",
    "  \n",
    "- **Task 2, REINFORCE with learned variance**: Ensure that the variance is being learned and adjusted during training, and plot the training performance.\n",
    "\n",
    "No model files need to be saved for this assignment.\n",
    "\n",
    "🔝 [Back to Table of Contents](#TOC)\n"
   ]
  },
  {
   "cell_type": "code",
   "execution_count": 22,
   "id": "ed2a8428",
   "metadata": {
    "deletable": false,
    "editable": false,
    "nbgrader": {
     "cell_type": "code",
     "checksum": "0f2a35dca22d4e6a91f7259550809999",
     "grade": true,
     "grade_id": "cell-26f0fb23212021f6",
     "locked": true,
     "points": 0,
     "schema_version": 3,
     "solution": false,
     "task": false
    },
    "tags": []
   },
   "outputs": [],
   "source": [
    "# Make sure that skip training is set to True before submission\n",
    "assert skip_training == True"
   ]
  },
  {
   "cell_type": "markdown",
   "id": "ad098b5f",
   "metadata": {},
   "source": [
    "## 7.1 Feedback <a id='7.1'></a>\n",
    "\n",
    "In order to help the staff of the course as well as the forthcoming students, it would be great if you could answer to the following questions in your submission:"
   ]
  },
  {
   "cell_type": "markdown",
   "id": "5ed5c6d1-c83a-4d62-9b4f-5ed33f0f6aea",
   "metadata": {},
   "source": [
    "1) How much time did you spend solving this exercise? (change the ```hrs``` variable below to a floating point number representing the number of hours taken e.g. 5.43)\n",
    "\n"
   ]
  },
  {
   "cell_type": "code",
   "execution_count": null,
   "id": "216bc97b-e49b-4c18-8c41-1c45711b90cd",
   "metadata": {},
   "outputs": [],
   "source": [
    "hrs = None"
   ]
  },
  {
   "cell_type": "markdown",
   "id": "0d26d7a7-acc4-48db-84a8-e366ea68a709",
   "metadata": {},
   "source": [
    "2) Difficulty of each task/question from 1-5 (int or float)"
   ]
  },
  {
   "cell_type": "code",
   "execution_count": null,
   "id": "5eeb90fa-9f33-49c1-aca3-55f9a9a00d6a",
   "metadata": {},
   "outputs": [],
   "source": [
    "T1a = None   # Task 1a. basic REINFORCE without baseline (15 points)\n",
    "T1b = None   # Task 1b. REINFORCE with a constant baseline b = 20 (5 points)\n",
    "T1c = None   # Task 1c. REINFORCE with discounted rewards normalized to zero mean and unit variance (5 points)\n",
    "Q1_1 = None  # Question 1.1 A good baseline (15 points)\n",
    "T2 = None    # Task 2. Making Variance a Learnable Parameter (10 points)\n",
    "Q2_1 = None  # Question 2.1 Constant vs Learnable Variance (5 points)\n",
    "Q2_2 = None  # Question 2.2 Learnable Variance Initial Performance (5 points)\n",
    "Q3 = None    # Question 3. Considering a experience reply buffer (15 points)\n",
    "Q4_1 = None  # Question 4.1 Considering an unbounded continuous action space part 1 (5 points)\n",
    "Q4_2 = None  # Question 4.2 Considering an unbounded continuous action space part 2 (10 points)\n",
    "Q5 = None    # Question 5. Considering discrete action spaces (10 points)"
   ]
  },
  {
   "cell_type": "markdown",
   "id": "fe9387c6-00de-4414-86eb-801485a59ec7",
   "metadata": {},
   "source": [
    "3) How well did you understand the content of the task/question from 1-5? (int or float)"
   ]
  },
  {
   "cell_type": "code",
   "execution_count": null,
   "id": "d5a53120-fcf2-4dbf-b6ad-87e5aff7dee0",
   "metadata": {},
   "outputs": [],
   "source": [
    "T1a = None   # Task 1a. basic REINFORCE without baseline (15 points)\n",
    "T1b = None   # Task 1b. REINFORCE with a constant baseline b = 20 (5 points)\n",
    "T1c = None   # Task 1c. REINFORCE with discounted rewards normalized to zero mean and unit variance (5 points)\n",
    "Q1_1 = None  # Question 1.1 A good baseline (15 points)\n",
    "T2 = None    # Task 2. Making Variance a Learnable Parameter (10 points)\n",
    "Q2_1 = None  # Question 2.1 Constant vs Learnable Variance (5 points)\n",
    "Q2_2 = None  # Question 2.2 Learnable Variance Initial Performance (5 points)\n",
    "Q3 = None    # Question 3. Considering a experience reply buffer (15 points)\n",
    "Q4_1 = None  # Question 4.1 Considering an unbounded continuous action space part 1 (5 points)\n",
    "Q4_2 = None  # Question 4.2 Considering an unbounded continuous action space part 2 (10 points)\n",
    "Q5 = None    # Question 5. Considering discrete action spaces (10 points)"
   ]
  },
  {
   "cell_type": "markdown",
   "id": "7595057e-8666-486a-bd8c-788b4de828a7",
   "metadata": {},
   "source": [
    "4) General feedback. Consider questions like:\n",
    "\n",
    "    - Did the content of the lecture relate well with the assignment?\n",
    "    - To what extent did you find the material to be potentially useful for your research and studies?\n",
    "    \n",
    "And other feedback you think is worth including. Type in the box below"
   ]
  },
  {
   "cell_type": "code",
   "execution_count": null,
   "id": "6e53a93d-a13e-4ced-bf49-2c5b406b8653",
   "metadata": {},
   "outputs": [],
   "source": [
    "DOUBLE CLICK HERE TO EDIT, CLEAR THIS TEXT AND ANSWER HERE"
   ]
  },
  {
   "cell_type": "markdown",
   "id": "e3f5f8d4",
   "metadata": {
    "tags": []
   },
   "source": [
    "\n",
    "# References <a id='8.'></a>"
   ]
  }
 ],
 "metadata": {
  "kernelspec": {
   "display_name": "Python 3",
   "language": "python",
   "name": "python3"
  },
  "language_info": {
   "codemirror_mode": {
    "name": "ipython",
    "version": 3
   },
   "file_extension": ".py",
   "mimetype": "text/x-python",
   "name": "python",
   "nbconvert_exporter": "python",
   "pygments_lexer": "ipython3",
   "version": "3.10.12"
  }
 },
 "nbformat": 4,
 "nbformat_minor": 5
}
