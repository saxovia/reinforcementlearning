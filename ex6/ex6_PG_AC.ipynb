{
 "cells": [
  {
   "cell_type": "markdown",
   "id": "8323a86e",
   "metadata": {
    "deletable": false,
    "editable": false,
    "nbgrader": {
     "cell_type": "markdown",
     "checksum": "968ecb4cb3b8623792cd5938edc4ea1b",
     "grade": false,
     "grade_id": "cell-47bfc0ea1447f571",
     "locked": true,
     "schema_version": 3,
     "solution": false,
     "task": false
    }
   },
   "source": [
    "\n",
    "<div class=\"alert alert-block alert-info\">\n",
    "   <h2 align=\"center\"> <center><b> Reinforcement Learning Assignment 6 - Actor Critic part 1 </b></center></h2>\n",
    "\n",
    "<br>\n",
    "<center><font size=\"3\">This notebook is part of the teaching material for ELEC-E8125</font></center>\n",
    "<center><font size=\"3\">Aalto University</font></center>\n",
    "</div>\n",
    "\n",
    "\n",
    "<a id='TOC'></a>\n",
    "\n",
    "<div class=\"alert alert-block alert-success\">\n",
    "    \n",
    "# Table of contents\n",
    "* <a href='#1.'> 1. Introduction </a>\n",
    "* <a href='#1.1'> 1.1 Learning Objectives </a>\n",
    "* <a href='#1.2'> 1.2 Code Structure & Files </a>\n",
    "* <a href='#2.'> 2. Policy Gradient with a Critic </a>\n",
    "* <a href='#3.'> 3. Submitting </a>\n",
    "* <a href='#3.1'> 3.1 Feedback </a>\n",
    "* <a href='#4.'> References</a>\n",
    "\n",
    "<a href='#T1'><b>Student Task 1.</b> Implementing PG with critic (20 points)</a>\\\n",
    "<a href='#Q1'><b>Student Question 1.1</b> Relationship between actor-critic and REINFORCE with baseline (10 points)</a>\\\n",
    "<a href='#Q2'><b>Student Question 1.2</b> Advantage (5 points)  </a>\\\n",
    "<a href='#Q3'><b>Student Question 1.3</b> Bias and Variance Analysis (10 points) </a>\\\n",
    "<a href='#Q4'><b>Student Question 1.4</b> Controlling bias-variance tradeoff (10 points)</a>\n",
    "    \n",
    "**Total Points:** 55\n",
    "\n",
    "**Estimated runtime of all the cells:** 1 hour"
   ]
  },
  {
   "cell_type": "markdown",
   "id": "ab53631b",
   "metadata": {
    "deletable": false,
    "editable": false,
    "nbgrader": {
     "cell_type": "markdown",
     "checksum": "a4ce01f58b207f5715f395b180619b9e",
     "grade": false,
     "grade_id": "cell-6ef87fd4c2d2cc44",
     "locked": true,
     "schema_version": 3,
     "solution": false,
     "task": false
    }
   },
   "source": [
    "# 1. Introduction <a id='1.'></a>\n",
    "\n",
    "In this assignment, we will implement an actor-critic reinforcement learning algorithm which combines elements of both value-based methods (critic) and policy-based methods (actor) to improve learning and stability in the **InvertedPendulum-v4**  environment.\n",
    "\n",
    "## 1.1 Task environments: <a id='1.1'></a>\n",
    "\n",
    "In this exercise, we will focus on InvertedPendulum-v4 tasks:\n",
    "- InvertedPendulum-v4(https://gymnasium.farama.org/environments/mujoco/inverted_pendulum/): This environment is similar to the cartpole environment but now powered by the Mujoco physics simulator - allowing for more complex experiments (such as varying the effects of gravity). This environment involves a cart that moves horizontally, with a pole fixed on the cart at one end and the other end of the pole moving freely. The cart can be pushed left or right. The goal is to move the pole such that it is vertically above the cart pointing straight up by applying horizontal forces on the cart.\n",
    "<figure style=\"text-align: center\">\n",
    "    <img src=\"imgs/InvertedPendulum.png\" width=\"300\"/>\n",
    "    <figcaption style=\"text-align: center\">  Figure 1: The InvertedPendulum-v4 environment. </figcaption>\n",
    "</figure>\n",
    "\n",
    "## 1.2 Learning Objectives: <a id='1.1'></a>\n",
    "\n",
    "- Understand the idea of actor-critic algorithms\n",
    "- Understand the limits and use cases of actor-critics\n",
    "\n",
    "## 1.3 Code Structure & Files <a id='1.2'></a>\n",
    "\n",
    "```ex6_PG_AC.ipynb``` is the file needed to be modified for this part of the assignment.  \n",
    "\n",
    "<span style=\"color:red\"> **# IMPORTANT: DO NOT FORGET ANOTHER PART IN ```ex6_DDPG.ipynb```** </span>\n",
    "\n",
    "```\n",
    "├───cfg                            # Config files for environments\n",
    "├───imgs                           # Images used in notebook\n",
    "├───results\n",
    "│   └───HalfCheetah-v4\n",
    "│   │   ├───logging                \n",
    "│   │   │    └───logging.pkl        # Contains logged data\n",
    "│   │   ├───model              \n",
    "│   │   │    └───*HalfCheetah-v4_params.pt    # Contains trained model\n",
    "│   │   └───video                   # Videos saved\n",
    "│   │   └───*ddpg.png               # Contains training performance plot\n",
    "│   └───InvertedPendulum-v4\n",
    "│   │   ├───logging                \n",
    "│   │   │    └───logging.pkl        # Contains logged data\n",
    "│   │   ├───model              \n",
    "│   │   │    └───*InvertedPendulum-v4_params.pt      # Contains trained model\n",
    "│   │   └───video                   # Videos saved\n",
    "│   │   └───*pg_ac.png              # Contains training performance plot\n",
    "│   ex6_DDPG.ipynb                  # 2nd assignment file containing tasks <---------\n",
    "│   ex6_PG_AC.ipynb                 # 1st assignment file containing tasks <---------This task\n",
    "│   train.py                        # Contains train and test functions \n",
    "│   utils.py                        # Contains useful functions \n",
    "└───buffer.py                       # Contains buffer functions\n",
    "```\n",
    "\n",
    "## 1.4 Execution time <a id='1.4'></a>\n",
    "\n",
    "The training of Actor-Critic may take more than 30 mins depending on the server load. If you have problems with the training time, you can train locally."
   ]
  },
  {
   "cell_type": "markdown",
   "id": "36ef1c90",
   "metadata": {
    "deletable": false,
    "editable": false,
    "nbgrader": {
     "cell_type": "markdown",
     "checksum": "e2a4fdb4406c82cbf0924a4ae9fd56ca",
     "grade": false,
     "grade_id": "cell-76eb1e3dcf217198",
     "locked": true,
     "schema_version": 3,
     "solution": false,
     "task": false
    }
   },
   "source": [
    "## Warnings:\n",
    "\n",
    "- Don’t copy and paste cells within a notebook. This will mess up the tracking metadata and prevent autograding from working.\n",
    "- Only add new cells using the '+' button in the upper toolbar and do not split cells.\n",
    "- Be cautious about things such as copying the whole notebook to Colab to work on it. This has sometimes resulted in removing all notebook metadata, making autograding impossible."
   ]
  },
  {
   "cell_type": "markdown",
   "id": "eb79df48",
   "metadata": {
    "deletable": false,
    "editable": false,
    "nbgrader": {
     "cell_type": "markdown",
     "checksum": "dd4a8717cd49c894ce9a4aa3a1895148",
     "grade": false,
     "grade_id": "cell-78fdf22a73920722",
     "locked": true,
     "schema_version": 3,
     "solution": false,
     "task": false
    }
   },
   "source": [
    "\n",
    "# 2. Policy Gradient with a Critic <a id='2.'></a>"
   ]
  },
  {
   "cell_type": "markdown",
   "id": "c584d11d",
   "metadata": {
    "deletable": false,
    "editable": false,
    "nbgrader": {
     "cell_type": "markdown",
     "checksum": "0439bebaa3d0d286f254868ab55e9939",
     "grade": false,
     "grade_id": "cell-61899a5dd880417b",
     "locked": true,
     "schema_version": 3,
     "solution": false,
     "task": false
    }
   },
   "source": [
    "<a id='T1'></a>\n",
    "<div class=\" alert alert-warning\">\n",
    "    <h3><b>Student Task 1.</b> Implement policy gradient (PG) with critic (20 points) </h3> \n",
    "\n",
    "Revisit the policy gradient solution for the InvertedPendulum from Exercise 5 with learned sigma if needed. Implement the actor-critic algorithm below. Perform TD(0) updates at the end of each episode. You can check the training performance plot in the result folder after running the plot cell. Take Figure 2 as a reference training plot. \n",
    "    \n",
    "**Hint:** Check out the PyTorch tutorial from [here](https://pytorch.org/tutorials/beginner/basics/autogradqs_tutorial.html) to see how to calculate the $A_\\theta \\Delta_\\theta \\log \\pi_\\theta(a_i|s_i)$ term using the ```detach()``` function. \n",
    "\n",
    "<figure style=\"text-align: center\">\n",
    "<img src=\"imgs/pg_ac.png\" width=\"400px\">\n",
    "<figcaption style=\"text-align: center\"> Figure 2: Training plot of the policy gradient with a critic.\n",
    "</figcaption>\n",
    "</figure>\n",
    "     \n",
    "**Complete the all the unfinished implementation in `PG` class (marked with ```TODOs```)**. \n",
    "    \n",
    "1. **Policy Network**: Finish the `__init__(self, state_dim, action_dim)` function and `forward(self, state)` function within the `Policy` class\n",
    "2. **Agent Update Function**: Finish the `update(self, )` function within the `PG` class\n",
    "3. **Get Action Method**: Finish the `get_action(self, observation, evaluation=False)` function within the `PG` class.\n",
    "    \n",
    "🔝\t<a href='#TOC'><b>Table of Contents</b></a>\n",
    "</div>\n"
   ]
  },
  {
   "cell_type": "code",
   "execution_count": 16,
   "id": "9dc0d42e",
   "metadata": {
    "tags": []
   },
   "outputs": [],
   "source": [
    "skip_training = True  # Set this flag to True before validation and submission"
   ]
  },
  {
   "cell_type": "code",
   "execution_count": null,
   "id": "489df71f",
   "metadata": {
    "deletable": false,
    "editable": false,
    "nbgrader": {
     "cell_type": "code",
     "checksum": "e4a46183e22c508d922baebfefbe6a0a",
     "grade": true,
     "grade_id": "cell-f54b5f40d174d5b2",
     "locked": true,
     "points": 0,
     "schema_version": 3,
     "solution": false,
     "task": false
    }
   },
   "outputs": [],
   "source": []
  },
  {
   "cell_type": "code",
   "execution_count": 2,
   "id": "fad4384f",
   "metadata": {
    "tags": []
   },
   "outputs": [],
   "source": [
    "import sys, os\n",
    "sys.path.insert(0, os.path.abspath(\"..\"))\n",
    "\n",
    "import numpy as np\n",
    "from pathlib import Path\n",
    "from IPython.display import Video\n",
    "\n",
    "import torch, yaml\n",
    "from torch import nn\n",
    "import torch.nn.functional as F\n",
    "from torch.distributions import Normal\n",
    "\n",
    "import train as t\n",
    "import utils as u\n",
    "\n",
    "device = 'cpu'"
   ]
  },
  {
   "cell_type": "code",
   "execution_count": 3,
   "id": "a6634d41",
   "metadata": {
    "tags": []
   },
   "outputs": [],
   "source": [
    "# Actor-critic agent\n",
    "def layer_init(layer, std=np.sqrt(2), bias_const=0.0):\n",
    "    torch.nn.init.orthogonal_(layer.weight, std)\n",
    "    torch.nn.init.constant_(layer.bias, bias_const)\n",
    "    return layer\n",
    "\n",
    "\n",
    "class Policy(nn.Module):\n",
    "    def __init__(self, state_dim, action_dim):\n",
    "        super().__init__()\n",
    "        # Create a neural network and use it for the mean of the policy.\n",
    "        # The size of the neural network here has been chosen such that \n",
    "        # it is not too big but should perform well in the tasks we want to look at.\n",
    "        self.actor_mean = nn.Sequential(\n",
    "            layer_init(nn.Linear(state_dim, 64)), nn.Tanh(),\n",
    "            layer_init(nn.Linear(64, 64)), nn.Tanh(),\n",
    "            layer_init(nn.Linear(64, action_dim), std=0.01),\n",
    "        )\n",
    "        \n",
    "        \"\"\"\n",
    "        # TODO: Implement actor_logstd as a learnable parameter\n",
    "        # Use log of std to make sure std (standard deviation) of the policy\n",
    "        # doesn't become negative during training\n",
    "        \"\"\"\n",
    "        self.actor_logstd = torch.nn.Parameter(torch.zeros(action_dim))\n",
    "        \n",
    "    def forward(self, state):\n",
    "        # Get mean of a Normal distribution (the output of the neural network)\n",
    "        action_mean = self.actor_mean(state)\n",
    "\n",
    "        # Make sure action_logstd matches dimensions of action_mean\n",
    "        action_logstd = self.actor_logstd.expand_as(action_mean)\n",
    "\n",
    "        # Exponentiate the log std to get actual std\n",
    "        action_std = torch.exp(action_logstd)\n",
    "        \n",
    "        \"\"\"\n",
    "        # TODO: Create a Normal distribution with mean of 'action_mean' & standard deviation of 'action_logstd' \n",
    "        # and return the distribution. You should be using the torch.distributions.Normal class to create the distribution.\n",
    "        \"\"\"\n",
    "        probs = torch.distributions.Normal(action_mean,action_std)\n",
    "\n",
    "        return probs\n",
    "\n",
    "    \n",
    "class Value(nn.Module):\n",
    "    def __init__(self, state_dim):\n",
    "        super().__init__()\n",
    "        self.value = nn.Sequential(\n",
    "            layer_init(nn.Linear(state_dim, 64)), nn.Tanh(),\n",
    "            layer_init(nn.Linear(64, 64)), nn.Tanh(),\n",
    "            layer_init(nn.Linear(64, 1)))\n",
    "    \n",
    "    def forward(self, x):\n",
    "        return self.value(x).squeeze(1) # output shape [batch,]\n",
    "\n",
    "\n",
    "class PG(object):\n",
    "    def __init__(self, state_dim, action_dim, lr, gamma):\n",
    "        self.name = 'pg'\n",
    "        self.policy = Policy(state_dim, action_dim).to(device)\n",
    "        self.value = Value(state_dim).to(device)\n",
    "        self.optimizer = torch.optim.Adam(list(self.policy.parameters()) + list(self.value.parameters()), \n",
    "                                         lr=float(lr),)\n",
    "\n",
    "        self.gamma = gamma\n",
    "\n",
    "        # a simple buffer\n",
    "        self.states = []\n",
    "        self.action_probs = []\n",
    "        self.rewards = []\n",
    "        self.dones = []\n",
    "        self.next_states = []\n",
    "\n",
    "    '''\n",
    "    TODO: Task 1\n",
    "    # Complete the following 4 functions\n",
    "    # Hints: 1. calculate the target values as well as the MSE loss between the predicted value and the target values\n",
    "    #        2. calculate the policy loss (similar to ex5) with advantage calculated from the value function. Normalise\n",
    "    #           the advantage to zero mean and unit variance.\n",
    "    #        3. Use mean to calculate the actor (policy) loss ;)\n",
    "    #           - https://discuss.pytorch.org/t/loss-reduction-sum-vs-mean-when-to-use-each/115641/2\n",
    "    '''\n",
    "    \n",
    "    # 1. Calculate the target values, you should not modify the gradient of the variables\n",
    "    def calculate_target_values(self, rewards, next_states, dones):\n",
    "        ########## Your code starts here. ##########\n",
    "        with torch.no_grad():\n",
    "            next_values = self.value(next_states)\n",
    "            target_values = rewards + self.gamma * next_values * (1 - dones)\n",
    "        ########## Your code ends here. ##########\n",
    "        return target_values\n",
    "\n",
    "    # 2. Calculate the critic loss\n",
    "    def calculate_critic_loss(self, values, target_values):\n",
    "        ########## Your code starts here. ##########\n",
    "        critic_loss = torch.nn.functional.mse_loss(values, target_values)\n",
    "        ########## Your code ends here. ##########\n",
    "        return critic_loss\n",
    "    \n",
    "    # 3. Advantage estimation, you should not modify the gradient of the variables\n",
    "    def calculate_advantage(self, values, target_values):\n",
    "        ########## Your code starts here. ##########\n",
    "        with torch.no_grad():\n",
    "            advantage = target_values - values\n",
    "            advantage = (advantage - advantage.mean()) /  advantage.std()\n",
    "        ########## Your code ends here. ##########\n",
    "        return advantage\n",
    "    \n",
    "    # 4. Calculate the actor (policy) loss \n",
    "    def calculate_actor_loss(self, action_probs, advantage):\n",
    "        ########## Your code starts here. ##########\n",
    "        weighted_probs = action_probs * advantage\n",
    "        actor_loss = -weighted_probs.mean()\n",
    "        ########## Your code ends here. ##########\n",
    "        return actor_loss\n",
    "\n",
    "    def update(self,):\n",
    "        action_probs = torch.stack(self.action_probs, dim=0) \\\n",
    "                .to(device).squeeze(-1)\n",
    "        rewards = torch.stack(self.rewards, dim=0).to(device).squeeze(-1)\n",
    "        states = torch.stack(self.states, dim=0).to(device).squeeze(-1)\n",
    "        next_states = torch.stack(self.next_states, dim=0).to(device).squeeze(-1)\n",
    "        dones = torch.stack(self.dones, dim=0).to(device).squeeze(-1)\n",
    "        # clear buffer\n",
    "        self.states, self.action_probs, self.rewards, self.dones, self.next_states = [], [], [], [], []\n",
    "\n",
    "        \"\"\"\n",
    "        # TODO: Compute the current state value estimates using the value function network\n",
    "        \"\"\"\n",
    "        values = self.value(states)\n",
    "        \n",
    "        target_values = self.calculate_target_values(rewards, next_states, dones)        \n",
    "        critic_loss = self.calculate_critic_loss(values, target_values)        \n",
    "        advantage = self.calculate_advantage(values, target_values)\n",
    "        actor_loss = self.calculate_actor_loss(action_probs, advantage)\n",
    "\n",
    "        \"\"\"\n",
    "        # TODO: Compute the gradients of the joint loss w.r.t network parameters\n",
    "        \"\"\"\n",
    "        loss = actor_loss + critic_loss\n",
    "        loss.backward()\n",
    "\n",
    "        # Update network parameters using self.optimizer and zero gradients \n",
    "        self.optimizer.step()  \n",
    "        nn.utils.clip_grad_norm_(list(self.policy.parameters())+ list(self.value.parameters()), 1.0)\n",
    "        self.optimizer.zero_grad() \n",
    "\n",
    "        return {}\n",
    "\n",
    "    def get_action(self, observation, evaluation=False):\n",
    "        \"\"\"Return action (np.ndarray) and logprob (torch.Tensor) of this action.\"\"\"\n",
    "        if observation.ndim == 1: observation = observation[None] # add the batch dimension\n",
    "        x = torch.from_numpy(observation).float().to(device)\n",
    "        \n",
    "        '''\n",
    "        # TODO: Task 1\n",
    "        # Hints: 1. the self.policy returns a normal distribution, check the PyTorch documentation to see \n",
    "        #           how to calculate the log_prob of an action and how to sample.\n",
    "        #        2. if evaluating the policy, return policy mean, otherwise, return a sample\n",
    "        #        3. the returned action and the act_logprob should be torch.Tensors.\n",
    "        #           Please always make sure the shape of variables is as you expected.\n",
    "        '''\n",
    "        ########## Your code starts here. ##########\n",
    "        dist = self.policy(x)\n",
    "        if evaluation:\n",
    "            action = dist.mean\n",
    "        else:\n",
    "            action = dist.sample()\n",
    "        \n",
    "        # compute the log probability of the action\n",
    "        act_logprob = dist.log_prob(action).sum()\n",
    "        ########## Your code ends here. ###########\n",
    "\n",
    "        return action, act_logprob\n",
    "\n",
    "    def record(self, observation, action_prob, next_observation, reward, done):\n",
    "        self.states.append(torch.tensor(observation, dtype=torch.float32))\n",
    "        self.action_probs.append(action_prob)\n",
    "        self.rewards.append(torch.tensor([reward], dtype=torch.float32))\n",
    "        self.dones.append(torch.tensor([done], dtype=torch.float32))\n",
    "        self.next_states.append(torch.tensor(next_observation, dtype=torch.float32))\n",
    "\n",
    "    def load(self, filepath):\n",
    "        d = torch.load(filepath)\n",
    "        self.policy.load_state_dict(d['policy'])\n",
    "        self.value.load_state_dict(d['value'])\n",
    "    \n",
    "    def save(self, filepath):\n",
    "        torch.save({\n",
    "            'policy': self.policy.state_dict(),\n",
    "            'value': self.value.state_dict(),\n",
    "        }, filepath)"
   ]
  },
  {
   "cell_type": "code",
   "execution_count": 4,
   "id": "c970385d",
   "metadata": {
    "deletable": false,
    "editable": false,
    "nbgrader": {
     "cell_type": "code",
     "checksum": "5af7194a025f5c6a09d1e4bd68084daa",
     "grade": true,
     "grade_id": "cell-9122872aaa786a57",
     "locked": true,
     "points": 2,
     "schema_version": 3,
     "solution": false,
     "task": false
    },
    "tags": []
   },
   "outputs": [],
   "source": [
    "# Test Policy\n",
    "def test_policy_class():\n",
    "    policy = Policy(4, 1)\n",
    "    x = torch.Tensor((1.,2.,3.,4.)).reshape((1,4))\n",
    "    assert isinstance( policy.forward(x),Normal)\n",
    "    assert policy.actor_logstd.requires_grad\n",
    "\n",
    "test_policy_class()"
   ]
  },
  {
   "cell_type": "code",
   "execution_count": 5,
   "id": "1267fbc6",
   "metadata": {
    "deletable": false,
    "editable": false,
    "nbgrader": {
     "cell_type": "code",
     "checksum": "5febcc7f2101dfdefd5cc2c30d37ae57",
     "grade": true,
     "grade_id": "cell-43cbda8b39fe293e",
     "locked": true,
     "points": 2,
     "schema_version": 3,
     "solution": false,
     "task": false
    },
    "tags": []
   },
   "outputs": [
    {
     "name": "stdout",
     "output_type": "stream",
     "text": [
      "Numpy/Torch/Random Seed:  43\n"
     ]
    }
   ],
   "source": [
    "#Test get_action method\n",
    "def test_get_action_1():\n",
    "    cfg_path=Path().cwd()/'cfg'/'pg_ac.yaml'\n",
    "    cfg_args=dict(save_video=False,testing=False,seed=43)\n",
    "    env, cfg = t.setup(cfg_path, cfg_args=cfg_args)\n",
    "    agent = PG(cfg.state_shape[0], cfg.action_dim, cfg.lr, cfg.gamma)\n",
    "    obs = np.array([ 0.00978977, -0.00972236, -0.00706408,  0.00517535])\n",
    "    action = -2.0871510059805587e-05\n",
    "    assert np.allclose(agent.get_action(obs,True)[0].item(),action,atol=1e-03)\n",
    "\n",
    "    agent2 = PG(cfg.state_shape[0], cfg.action_dim, cfg.lr, cfg.gamma)\n",
    "    assert tuple(agent2.get_action(obs,True)[1].shape) == ()\n",
    "\n",
    "test_get_action_1()"
   ]
  },
  {
   "cell_type": "code",
   "execution_count": 6,
   "id": "f1baa5e6",
   "metadata": {
    "deletable": false,
    "editable": false,
    "nbgrader": {
     "cell_type": "code",
     "checksum": "70ac43e68631b7ae6e31f11b62e2eece",
     "grade": true,
     "grade_id": "cell-5bfa2cf43da8fc00",
     "locked": true,
     "points": 2,
     "schema_version": 3,
     "solution": false,
     "task": false
    },
    "tags": []
   },
   "outputs": [
    {
     "name": "stdout",
     "output_type": "stream",
     "text": [
      "Numpy/Torch/Random Seed:  43\n"
     ]
    }
   ],
   "source": [
    "def test_update_function_1():\n",
    "    cfg_path=Path().cwd()/'cfg'/'pg_ac.yaml'\n",
    "    cfg_args=dict(save_video=False,testing=False,seed=43)\n",
    "    env, cfg = t.setup(cfg_path, cfg_args=cfg_args)\n",
    "    agent = PG(4, cfg.action_dim, cfg.lr, cfg.gamma)\n",
    "\n",
    "    rewards = torch.tensor([1., 1., 1., 1.])\n",
    "    action_probs = torch.tensor([-0.9286, -1.1687, -1.2360, -1.7127])\n",
    "    next_states = torch.tensor([[-0.0079,  0.0071, -0.1703,  0.4061],\n",
    "                                [-0.0274,  0.0524, -0.8029,  1.8464],\n",
    "                                [-0.0633,  0.1342, -0.9942,  2.2525],\n",
    "                                [-0.0931,  0.2017, -0.4978,  1.1568]])\n",
    "    dones = torch.tensor([0., 0., 0., 1.])\n",
    "    states = torch.tensor([[-4.6008e-03, -1.0801e-03,  7.1437e-03, -1.4543e-03],\n",
    "                           [-7.8743e-03,  7.0946e-03, -1.7034e-01,  4.0608e-01],\n",
    "                           [-2.7371e-02,  5.2385e-02, -8.0292e-01,  1.8464e+00],\n",
    "                           [-6.3307e-02,  1.3419e-01, -9.9422e-01,  2.2525e+00]])\n",
    "    values = torch.tensor([-0.0013, -0.0137, -0.0187, -0.0289])\n",
    "\n",
    "    target_values = agent.calculate_target_values(rewards, next_states, dones)        \n",
    "    critic_loss = agent.calculate_critic_loss(values, target_values)        \n",
    "    adv = agent.calculate_advantage(values, target_values)\n",
    "    actor_loss = agent.calculate_actor_loss(action_probs, adv)\n",
    "\n",
    "    assert torch.allclose(target_values, torch.tensor([0.9864, 0.9815, 0.9714, 1.0000]), atol = 0.001)\n",
    "    assert torch.allclose(critic_loss, torch.tensor(1.0012), atol = 0.001)\n",
    "    assert torch.allclose(adv, torch.tensor([-0.6645, -0.2767, -0.5391,  1.4803]), atol = 0.001)\n",
    "    assert torch.allclose(actor_loss, torch.tensor(0.2321), atol = 0.001)\n",
    "\n",
    "test_update_function_1()"
   ]
  },
  {
   "cell_type": "code",
   "execution_count": 7,
   "id": "04b263dd",
   "metadata": {
    "deletable": false,
    "editable": false,
    "nbgrader": {
     "cell_type": "code",
     "checksum": "47065bb40c58f45827cb38b377996854",
     "grade": true,
     "grade_id": "cell-dcf55b2136722f26",
     "locked": true,
     "points": 5,
     "schema_version": 3,
     "solution": false,
     "task": false
    },
    "tags": []
   },
   "outputs": [],
   "source": [
    "%%capture --no-stdout\n",
    "\"TEST\""
   ]
  },
  {
   "cell_type": "code",
   "execution_count": 8,
   "id": "d39c60f7",
   "metadata": {
    "deletable": false,
    "editable": false,
    "nbgrader": {
     "cell_type": "code",
     "checksum": "c35464679797db9e10ee0bb6646ff6e0",
     "grade": true,
     "grade_id": "cell-289c24f5539ad5d3",
     "locked": true,
     "points": 7,
     "schema_version": 3,
     "solution": false,
     "task": false
    },
    "tags": []
   },
   "outputs": [],
   "source": [
    "%%capture --no-stdout\n",
    "\"TEST\""
   ]
  },
  {
   "cell_type": "code",
   "execution_count": 10,
   "id": "8c6b02f2-891d-40c1-b01a-9bd370009a3a",
   "metadata": {
    "tags": []
   },
   "outputs": [],
   "source": [
    "# init agent\n",
    "with open(Path().cwd()/'cfg'/'pg_ac.yaml', 'r') as f:\n",
    "    cfg = u.Struct(**yaml.safe_load(f))\n",
    "    \n",
    "agent = PG(cfg.state_shape[0], cfg.action_dim, cfg.lr, cfg.gamma)"
   ]
  },
  {
   "cell_type": "code",
   "execution_count": 28,
   "id": "5fad7389",
   "metadata": {
    "tags": []
   },
   "outputs": [
    {
     "name": "stdout",
     "output_type": "stream",
     "text": [
      "Numpy/Torch/Random Seed:  837\n",
      "{'episode': 0, 'timesteps': 5, 'ep_reward': 5.0}\n",
      "{'episode': 50, 'timesteps': 4, 'ep_reward': 4.0}\n",
      "{'episode': 100, 'timesteps': 8, 'ep_reward': 8.0}\n",
      "{'episode': 150, 'timesteps': 8, 'ep_reward': 8.0}\n",
      "{'episode': 200, 'timesteps': 35, 'ep_reward': 35.0}\n",
      "{'episode': 250, 'timesteps': 16, 'ep_reward': 16.0}\n",
      "{'episode': 300, 'timesteps': 42, 'ep_reward': 42.0}\n",
      "{'episode': 350, 'timesteps': 91, 'ep_reward': 91.0}\n",
      "{'episode': 400, 'timesteps': 133, 'ep_reward': 133.0}\n",
      "{'episode': 450, 'timesteps': 188, 'ep_reward': 188.0}\n",
      "{'episode': 500, 'timesteps': 195, 'ep_reward': 195.0}\n",
      "{'episode': 550, 'timesteps': 113, 'ep_reward': 113.0}\n",
      "{'episode': 600, 'timesteps': 123, 'ep_reward': 123.0}\n",
      "{'episode': 650, 'timesteps': 150, 'ep_reward': 150.0}\n",
      "{'episode': 700, 'timesteps': 21, 'ep_reward': 21.0}\n",
      "{'episode': 750, 'timesteps': 74, 'ep_reward': 74.0}\n",
      "{'episode': 800, 'timesteps': 212, 'ep_reward': 212.0}\n",
      "{'episode': 850, 'timesteps': 733, 'ep_reward': 733.0}\n",
      "{'episode': 900, 'timesteps': 799, 'ep_reward': 799.0}\n",
      "{'episode': 950, 'timesteps': 263, 'ep_reward': 263.0}\n",
      "{'episode': 1000, 'timesteps': 114, 'ep_reward': 114.0}\n",
      "{'episode': 1050, 'timesteps': 25, 'ep_reward': 25.0}\n",
      "{'episode': 1100, 'timesteps': 17, 'ep_reward': 17.0}\n",
      "{'episode': 1150, 'timesteps': 8, 'ep_reward': 8.0}\n",
      "{'episode': 1200, 'timesteps': 10, 'ep_reward': 10.0}\n",
      "{'episode': 1250, 'timesteps': 9, 'ep_reward': 9.0}\n",
      "{'episode': 1300, 'timesteps': 21, 'ep_reward': 21.0}\n",
      "{'episode': 1350, 'timesteps': 18, 'ep_reward': 18.0}\n",
      "{'episode': 1400, 'timesteps': 15, 'ep_reward': 15.0}\n",
      "{'episode': 1450, 'timesteps': 23, 'ep_reward': 23.0}\n",
      "{'episode': 1500, 'timesteps': 33, 'ep_reward': 33.0}\n",
      "{'episode': 1550, 'timesteps': 37, 'ep_reward': 37.0}\n",
      "{'episode': 1600, 'timesteps': 41, 'ep_reward': 41.0}\n",
      "{'episode': 1650, 'timesteps': 121, 'ep_reward': 121.0}\n",
      "{'episode': 1700, 'timesteps': 145, 'ep_reward': 145.0}\n",
      "{'episode': 1750, 'timesteps': 188, 'ep_reward': 188.0}\n",
      "{'episode': 1800, 'timesteps': 717, 'ep_reward': 717.0}\n",
      "{'episode': 1850, 'timesteps': 871, 'ep_reward': 871.0}\n",
      "{'episode': 1900, 'timesteps': 209, 'ep_reward': 209.0}\n",
      "{'episode': 1950, 'timesteps': 1000, 'ep_reward': 1000.0}\n",
      "{'episode': 2000, 'timesteps': 263, 'ep_reward': 263.0}\n",
      "Saving model to /notebooks/rl2024/ex6/results/InvertedPendulum-v4/model/InvertedPendulum-v4_params.pt\n",
      "------ Training Finished ------\n",
      "Total traning time is 3.037037820617358mins\n"
     ]
    }
   ],
   "source": [
    "if not skip_training:\n",
    "    t.train(agent, cfg_path=Path().cwd()/'cfg'/'pg_ac.yaml', cfg_args={})"
   ]
  },
  {
   "cell_type": "code",
   "execution_count": 29,
   "id": "f8041f0c-73f8-4f23-bbd2-4a976a8b842a",
   "metadata": {
    "tags": []
   },
   "outputs": [
    {
     "name": "stdout",
     "output_type": "stream",
     "text": [
      "Numpy/Torch/Random Seed:  625\n"
     ]
    },
    {
     "data": {
      "image/png": "[encoded data removed]",
      "text/plain": [
       "<Figure size 640x480 with 1 Axes>"
      ]
     },
     "metadata": {},
     "output_type": "display_data"
    }
   ],
   "source": [
    "if not skip_training:\n",
    "    t.plot(cfg_path=Path().cwd()/'cfg'/'pg_ac.yaml',)"
   ]
  },
  {
   "cell_type": "code",
   "execution_count": 11,
   "id": "91d4922b",
   "metadata": {
    "tags": []
   },
   "outputs": [
    {
     "name": "stdout",
     "output_type": "stream",
     "text": [
      "Numpy/Torch/Random Seed:  837\n",
      "Loading model from /notebooks/rl2024/ex6/results/InvertedPendulum-v4/model/InvertedPendulum-v4_params.pt ...\n",
      "Testing ...\n",
      "Moviepy - Building video /notebooks/rl2024/ex6/results/InvertedPendulum-v4/video/test/ex6-episode-0.mp4.\n",
      "Moviepy - Writing video /notebooks/rl2024/ex6/results/InvertedPendulum-v4/video/test/ex6-episode-0.mp4\n",
      "\n"
     ]
    },
    {
     "name": "stderr",
     "output_type": "stream",
     "text": [
      "                                                                \r"
     ]
    },
    {
     "name": "stdout",
     "output_type": "stream",
     "text": [
      "Moviepy - Done !\n",
      "Moviepy - video ready /notebooks/rl2024/ex6/results/InvertedPendulum-v4/video/test/ex6-episode-0.mp4\n",
      "Ep0: Test ep_reward is 1000.0\n",
      "Ep1: Test ep_reward is 1000.0\n",
      "Ep2: Test ep_reward is 1000.0\n",
      "Ep3: Test ep_reward is 1000.0\n",
      "Ep4: Test ep_reward is 1000.0\n",
      "Ep5: Test ep_reward is 1000.0\n",
      "Ep6: Test ep_reward is 1000.0\n",
      "Ep7: Test ep_reward is 1000.0\n",
      "Ep8: Test ep_reward is 1000.0\n",
      "Moviepy - Building video /notebooks/rl2024/ex6/results/InvertedPendulum-v4/video/test/ex6-episode-9.mp4.\n",
      "Moviepy - Writing video /notebooks/rl2024/ex6/results/InvertedPendulum-v4/video/test/ex6-episode-9.mp4\n",
      "\n"
     ]
    },
    {
     "name": "stderr",
     "output_type": "stream",
     "text": [
      "                                                                "
     ]
    },
    {
     "name": "stdout",
     "output_type": "stream",
     "text": [
      "Moviepy - Done !\n",
      "Moviepy - video ready /notebooks/rl2024/ex6/results/InvertedPendulum-v4/video/test/ex6-episode-9.mp4\n",
      "Ep9: Test ep_reward is 1000.0\n",
      "Average test reward: 1000.0\n"
     ]
    },
    {
     "name": "stderr",
     "output_type": "stream",
     "text": [
      "\r"
     ]
    }
   ],
   "source": [
    "if not skip_training:\n",
    "    t.test(agent, cfg_path=Path().cwd()/'cfg'/'pg_ac.yaml', cfg_args=dict(save_video=True,testing=True))"
   ]
  },
  {
   "cell_type": "code",
   "execution_count": 12,
   "id": "2edb556b-187c-4662-a1df-60dc87917930",
   "metadata": {
    "tags": []
   },
   "outputs": [
    {
     "data": {
      "text/html": [
       "<video loop autoplay  >\n",
       " <source src=\"data:video/mp4;base64,AAAAIGZ0eXBpc29tAAACAGlzb21pc28yYXZjMW1wNDEAAAAIZnJlZQAAvoRtZGF0AAACrwYF//+r3EXpvebZSLeWLNgg2SPu73gyNjQgLSBjb3JlIDE2NCByMzA5NSBiYWVlNDAwIC0gSC4yNjQvTVBFRy00IEFWQyBjb2RlYyAtIENvcHlsZWZ0IDIwMDMtMjAyMiAtIGh0dHA6Ly93d3cudmlkZW9sYW4ub3JnL3gyNjQuaHRtbCAtIG9wdGlvbnM6IGNhYmFjPTEgcmVmPTMgZGVibG9jaz0xOjA6MCBhbmFseXNlPTB4MzoweDExMyBtZT1oZXggc3VibWU9NyBwc3k9MSBwc3lfcmQ9MS4wMDowLjAwIG1peGVkX3JlZj0xIG1lX3JhbmdlPTE2IGNocm9tYV9tZT0xIHRyZWxsaXM9MSA4eDhkY3Q9MSBjcW09MCBkZWFkem9uZT0yMSwxMSBmYXN0X3Bza2lwPTEgY2hyb21hX3FwX29mZnNldD0tMiB0aHJlYWRzPTE1IGxvb2thaGVhZF90aHJlYWRzPTIgc2xpY2VkX3RocmVhZHM9MCBucj0wIGRlY2ltYXRlPTEgaW50ZXJsYWNlZD0wIGJsdXJheV9jb21wYXQ9MCBjb25zdHJhaW5lZF9pbnRyYT0wIGJmcmFtZXM9MyBiX3B5cmFtaWQ9MiBiX2FkYXB0PTEgYl9iaWFzPTAgZGlyZWN0PTEgd2VpZ2h0Yj0xIG9wZW5fZ29wPTAgd2VpZ2h0cD0yIGtleWludD0yNTAga2V5aW50X21pbj0yNSBzY2VuZWN1dD00MCBpbnRyYV9yZWZyZXNoPTAgcmNfbG9va2FoZWFkPTQwIHJjPWNyZiBtYnRyZWU9MSBjcmY9MjMuMCBxY29tcD0wLjYwIHFwbWluPTAgcXBtYXg9NjkgcXBzdGVwPTQgaXBfcmF0aW89MS40MCBhcT0xOjEuMDAAgAAABLZliIQAL//+9q78yyt0fpUuHVl7s1Hy6Ely/YgwfWgAStCgAABZA6R8FinnePAAAAMCSgAa8pPgHhfVjw6Gaj2768mS/2kSUoYR+pkOlbrFqYujuRfKoW4GfmW+MJ/LeUUZAVL9On2/BXjTrcOUEeXep2lHcJJVKAF2rv+V1Wwjp+Zt/jq3q2vZPM/qtQT7+NMaIXKkZGOGHi4nfkcY2MPK6MBQPfcPBfUUKstvIyg/pBJl6DCj8EiD7WFUzaYzr4kjH339m5Hfc/sPtBsA6JqIxzeyGyb4dgDKQ0v+J+cKf5y/rDSEfhTgKpK7VkJaVHNoxt6uY7OxVDC0fgHprC52pMFisZA819RziNkpmRCOQwEP9wMSrItF4v8pp6MFvmY6unCJETen5SeVslKaJLzTbzU5xzbjZmiX617yuzhu/jfMJNlIRlmyc77oX32Ygo4EXUDR+Ti2Ttxeca7Ui334pPevONzciLSFla/tXd29tV/ARYJlckGXP7T0ACJEVlCeZQcOAWKUWv/8a/Oe3H3cKpEZSlayQWJ3ryJT5+X4R14dGPGT4zumC8gqwhdCJTlYLGYytfzhVWBvM+vexsq6vV7ddZhppsc8HCeFyuso09pSU9pjlWNoYtKSDQDWoFPtqz5nsuJ3KiLZN0UOEnjj/ulT3AtNvdD2bItp+1ZOuh2sctP8OJ28I4u4sC1oebUpIevVEBr+m+hA81CGZ53j9lgidmTZRKLSYIECEIYj1t2LyuKxwX2/vjYsM+iy6YfUte+vvflne/FgggTf75wPSW+VrmVgXeQVFzn55+TmQDgqoF5EpwoTbJqdQTGyCGD8YugXpgiGPYAYRa9bNwKQUxnVW3YWtDimRkJBW8dvXjkwtSiTcPDzAxr+gjXAcgeaQrNTQhvH/3+NnM2TqHJQkDaZIMGUaddzQVvdLuw4Bacsr6dcXhmn52AwCoD1bDHU1/rzmKb3g10Zi6rpyStWocNYe4yhwBDFO5n0dSnE501u3+NbiOvNjPuSnwTyXpVdipffyayA0NJkD6uNBX3zySuQLqNUVZWDVXEJZVQJRJJQJvFRftb0mkErDGoAgjNaZ5duTxuR5Xu3U9sWK5brTHQZFZKnkzrBIVOM5s3iyFXpTcAJcCdqAd8I6qestHp2+ApFfw8q6VcCkeTIfO95I6hHP7O+bKv8Cm0juUR5X0+g4STrntaVIydBmrHeDGhEqpJo92WFO/rr4ty3WgtXNbMCcexCxcRRdddoWo9X0x654IsXvz+2VdgBQNU28g8V9GGkOqWrPcj/JlGgGfPDTprCRhUzn1IVYlOsVcc48PeV1untU+9e1Vcm0zrCPn83TvenvLTxF36SLRY6vXCp5jwrhVI578zV5rqYnTqt0WwzO15lo5E8kJDU8QHOqJc5RI+skaDwupMzNOWHGh5TUcI+OMjplIjWkXi6af1rWEdTPZ1V1OKnIUuGrQgICkHYsoJTcItatcwdWeeFR4PbMylLltQtj3/v8hdXqpq+ft+Kv4Mm2SisPSAjFAoCh4HL93h8AzNN5q6h9MeJVK49sAAAJADBAKxigAAAAwAAAwAAAwAAAwAAAwAAAwAAAwAAAwAAD4kAAAC1QZokbEL//oywAPSu+4VrffqEdx2pwMFn9CPx4KZLc73G31oXIQ4cytoOqJ2SLYqvi8fifhI+/2HfJUDKSQHGt8nQSdLeiuzAdLJsK2kyodO1NKVbatL7hewfND+akdqwBwRvcK56mdKJOI8GLadzLqNl1VdEiclqERjcKl9B0yFQlRG0TrwmdKTfOXWH2jdZWK/CoU7nAUNa+mdSKEgUK2xO4Sb82Q4a7WFpQL1uJv9ASKX1gAAAAEpBnkJ4hf8ATqk7Paa/Fum9X9xHqiQcjeYf6feDbbB7c1lJ099immKCjV5BfHpCPLfuFHgdIQzlmW3e0DDslgucV7K4QGKu7JoBDwAAADgBnmF0Qr8Aa/+xbnsgXMesSvLwutYl7HjQeUGtMeqEIe3VYqEJ6YJd53FVspV8RxWfz5ShhAA6YAAAADsBnmNqQr8AbB0xUN8S+/wqp4ROieCyYW9qK9o8NLFOdzpc0D/R5KqsKE5WXo4fLj1afd6SZ/KHP5gBnwAAAMRBmmhJqEFomUwIX//+jLAA9PpKdIvhu0A+c2E52GhWWz5/S8jaY09wMmPMB1w0tGncGDj1qN8Dzoo6eonk0+aYN01AN3v/ffrOnnDoUD8iggd89oQcgvbjvNAbqMmuW1+dPf5llcBL8SXl173OBAN54SyN3DCSB4tcBLav+Fd13K7KxfDGkgy2ai09mLc1EseTrgHIK8tyHYWxHtGS8n8YTdCkjko75sDuwd7lhp4nHdrxoPXZZQ3tNE0vet72tJ05mxLBAAAARUGehkURLC//AE+yMLq6Kb/mh9mqjFRDiOcoaknMxw3x6gDvBpH84nD2ODytQvAi/vO0mXywDuivWYIITKSHbTl+EoCTgQAAADABnqV0Qr8Aa/+w4O9NTF7TKsLU9tJ6D0fRy1eqBz807QOs2UEproGq9SJUoWmAA48AAAAyAZ6nakK/AGwdMcusnWqfQ+39UMfWuFgNyKSyij6qQ8QfQqGab2abr7QbAlX8G2gAI+AAAACRQZqsSahBbJlMCG///qeEAIN8jYUXaI5j9yOvQOeOcS1QDvmOyGiesUrLBOQeFmk/P+9sf69PDoQ7/GNYJhGeqGjzXJ5JrIWP+fu99FkqEHRGcLX4uksDfMoyruEXb/91AMzv6WLkGDUBg8L22B9f+pn61+Ac5RGRrqEf3DvMNMyK+dn8wpy8kSvH3VXVEH6cgAAAAEJBnspFFSwv/wBPmHZdWWj0Jv4i9yE8XXCQW4odzw9ocni7xeaL2xVoaywBkBzRrXOZlJ18AMDW6aaYQyCPPsgATcEAAAA+AZ7pdEK/AGv/sWs2vH3nyNfGc6SnCxl0jaZNlhYheo2bzHVKBhEIdg3bUjJy537H8tarHJS0+E9LGergDugAAAA0AZ7rakK/ADN/2K1pwvkQVO4hsejtero9FA9Z65AwOg9z+W7a/C5Faxsg8NZgwQd0c4ATcAAAALtBmvBJqEFsmUwIb//+p4QAP2DoN4NSqg+gFcwvg3CeXRWy1C06ZlfZ8ysPmG27y9UdDBeKuuMAkohwW6eWjQnZs4ut2EUC9VlAu7EXy3T3wgi+a7x6xwezAg4Q3lEJKJeRmPahQKI43DnefqTaCVS7bMWejrJ6kCLMrw5EMXfF5WtOSMAWnvCNp2ZBOK9KWLO7iE/Wha3Flmj3I+MDjqls+PhjsNQC1+BLeQHr71XRZvLrGEsIuB8Bq+V1AAAATUGfDkUVLC//AFHnmzHzsn5DMleVDZLHmlStvIgCfXZmqZs5z3siLTtFYgJE00gT8NhMETDHTRSntIWUIWNOno+5IsQ6KFI1EWOEAAPTAAAAOQGfLXRCvwA00by8CIgehmwp7TsNvHB4TCLRX2pwIWwzzKS5QHjyK4ldxBsxjEuR5o+MqQ3JREAd0QAAAD0Bny9qQr8Abp0xxF0eNM5VFUevgOwMO66IxK14WpyStwuj/kVGcRUdZrlP9IJWrsR3jLHrIyaI3TfXABlQAAAA4UGbNEmoQWyZTAhf//6MsAEAByPM65PFgIDw2/LrY9wegX57okjw8+kmSPP8ZOXyCvNFFDawg7xzTUgmR3PpnRxXZZusAFaYG60/DOCx4xXRqgdGT3vIDOtY6uvjzBI4qWqN2J1y7PX8CsAsK+BI2LGO8DksjwmHA4AtHlXnlxN9cFNXsWGrzH0knGOQo4Tf2Z0yNSrGQggHj4xEYLuLFQnVsX8H+ZRu3npH2C1FydkzaT85z1VHEBSLuVX+YwzCBNC0UIeHcrWqHeIq9/++OPH1bFy3/zGAFIJpgHkT50iKswAAAE1Bn1JFFSwv/wBR8jDasrK+gGlVGP4o72hflfnXOpO0ctTEhMzwiYNHj6uEcNw15FcHRN8nUhtIwtFRTJhyLOmd1ZPNHGFOqPCbbxAB3QAAAD4Bn3F0Qr8Abn+x/JTNrPhbHUpHv95XRXqLL4468axuUGFBxPlcnUADwNAfTb87kvFzkl+8C0DbpDdmwwBSQAAAAD4Bn3NqQr8Abp0yRHPi/sfEAOKXgOSTM8ZPyVWvRSLxKlyO+YBjkqWzAuqCnCiVlbdzzk8z63ogIw+9rlAScAAAAQFBm3hJqEFsmUwIb//+p4QAQ2Tw4XSuqzlAjjeBbFg12evRRDfxZ1m0BUGsS2u5WJqwzLqV//CaJsc89DCRzXJmRRRioZuaUyEkul6NArE/tQKyV3GcDtHYvv6K8VOl93TQmG+cT2C1CsPf1+OfNniCeqQfZTqH8JsBRyOZP3ijyfdFK2Oyvdj1ruIVUORnj7jkmtawumFvSH5Z1hhtZLIXrX73ZeoNZ4pt94QuqGLVCIvPI5CqwuCxR89s5C5WuEzh4nXviyU6kptVy2KjJorMyEDlzm+z+oX0SDLUD3ULiZTVzlsTp3SxGHPjqHQRqTYiD4+XrNyhNmdA4dd0UxLaQQAAAExBn5ZFFSwv/wBR8jD5MJhOxcN3gRmRCP9C1LoUkKL0e2vuNy/KgUCZbitdGsn86YVpmPIbzhhWdV5OJOSJC0cY9O2YHyURkMGlgCHgAAAARgGftXRCvwBuf7KMlN4D4W24yD7hC0pTt5/84Tw4fFcwWNk4+NeETI6KI89H9OWTvD148SIghdiS1aaiBX/TUTKcsdoAqYEAAAA5AZ+3akK/AG6dMsR37wTXM62p5du9qX9g4JOjyuL0gYG9Oz9qZicY3FMfR7uVjsUIPOX3Ahd34AHpAAABAEGbvEmoQWyZTAhn//6eEAEVEPU5+CXVXtqwfzsgfGkLNGJ269kbOZNkbPe/OdFzO5+ENqAvnWvxMzFretbQDlA70PCLE+gmdK9QGtDfI8FBidjQEW3MVoZWD7KULGeYTuq+UxPMFDYlcbHbw0knxDDwXc5ubN84OcxelZqzEfNsOo/couXGuAitvSjy4VrgXHdoPeKqrQLUqxHLoXzjz64paiUZ5JodagqYtkvpQs/rhTZ6I3pGKcwJeN8tOoKdtKUHvyzhwNpptGDl96zHiThRrdDwya0uksUtep3Wj8ScCzrNu1E9Bnav9MNwljvUgVVbJqY5HAeo7WBp7l+SzcAAAABEQZ/aRRUsL/8AUfIxOuO5cF35cmxB/TBIkaP3gq+S2+FoQRjjJ2fERAdW6ti9vu7XnV0sNG6zFNURQ5R3hGMigGG0Au8AAABFAZ/5dEK/AG5/sxdwLFfKDaBOYFa3s9kk8T9+Nmhuu8CgCw97xCEmmfUtcO3xCSXuJ6Ckg+/PrnL0XgGTcQbbcN8sADjgAAAAOAGf+2pCvwBunTPMWCzCPd5gLA2lSW2VpkChyBaht0WhUes+x/lAAZ0gD/G73n3CivNRsQimgN6BAAABN0Gb4EmoQWyZTAhf//6MsAEgByjNGVstuCBkfBTNlWixEWq61jyV5tx+Kpv9+p7/ED2NgU/wssxy/1n6XXpjAf5qhe13YusxKBD74OVMfho17wgRtEDaNuYAwOYu8vlG89iMU6+wDFQbX1vuwMWCS5JUBkV6ZbuMYuxmhC6fxxSF6ARSt9cTCvcXnHOPNfWQPme7244VzOmDwqisDC64A77/7piAMtraT9PwNsTpan8a+cHar2KldlxFtqz/3UvCqxYQxvp2uR1LUq7IfH3m4h7QVXft6lrUobEbwGrIhbKVKHeSPzytd/wNyktFUCx3DVvR+OIJoszs6xNqoUHsOPyiT5WXJ9wlc2vltqu1vkO9weLLe14aZUw9Z9Hrtkv1GUz4ZmmVIR6FUDx6qnkoXO69MwhMHFvRAAAAUUGeHkUVLC//AFHyMVri2DMIrMspuj27pMfSPg36dDl9/t9AasX2soKl1p1PgcKIUnSQHpujGJdABVvUknmhBOSuOBsyeS4aiRg3WhlawADpgAAAAEABnj10Qr8Abn+zoRkoWipYt01kPJ5CReps4QO0FgyJthvm7kMoeTyF6rubOqdKadbjFj60yVdMECDtQYeWhAQ8AAAAOgGeP2pCvwBunTRm3ksmhDx7slqzKSz6r8OhqaxTfO2JzEmkSlEBwnCvxvHtvJIWwP9BAmDB4RzGAf8AAAEJQZokSahBbJlMCF///oywASgG/S2DxFhgHvzBEOU6MM+N60vaTvmSvirRPRKSGTSOVmDXxIMGSKUcgaogrBkNgOgPZzZVa2bOelaApn/XWenigTLWbpOZnVzAkrIJ9m630JtyK51AaAihtyA+Zsmud75M5ZqfHyaeTmC8wgSV+pTGFisb7biLoyOuOymNjIgxJG4HvidxwkDU2vkEOfiJUJzZqhiXr8kEKwx79t5Yq4mBz8v+70VEqf4l1HekzC4I9Wci8EnJ30ewTCoOHeTtWwJUBEzBeCoRBMpFJVIMP3nbSWGtP+jKAA2K78P3zxLnF9UjR3AAHvCX68ckYEs+s6W6imvlYVQNYAAAAElBnkJFFSwv/wBR8jGBKmBMkL8LHIJjT3TjNF9ef3+txxMJlFvwLdBpz8u6AeTVKTTyRyUUbZ7Lw+FydMYt5urTqAycY5MtQAdNAAAAPwGeYXRCvwBuf7RW6QsvT4LARBCCO8zzwHkwMTALYZZMdxWyDFbJces0ZkvBthIfyik999cl3tv92LCSurQLOAAAADoBnmNqQr8Abp01BtgQJFYlMvazMU8bFsLXONtIzYtxZsLG6BSJRTAcYuAM85m9eoxDjh8111SRAG9BAAAA8kGaaEmoQWyZTAhf//6MsAEoBrIteHf+gH71pie82ZorDc8WaRyUc2TGkX1Ktq/+hTz/0DLYqgqrEtadNeec8vQ4QfACneYb/GAvRqJmwD7eIyzPVxETyO/eeVmyAiedJ0eCDjpjXyhGV/msxLryBeYisDFIvjJIA7TtKRblTCgNwXX1KI34Ec+zxRTMs8MJOvRU2CqgP0qfBHBpT1kqQnLqC0q8w2l+FoypdtKZfvZmbgXHTrafsym1jhNnHcZ1TKgdES+K4schxBkD6/sz0DI8BZMnlZ6U7wDbbN0zv7VN9oNz6D4ttuNIT7uupeEBl9kRAAAAUkGehkUVLC//AFHyMYDv2F5QLCxsDQeqEn9VOaiiywcx54ICv2yaCoDB0fGpg9kH3Vg/rrLaai2rJoWXhpnw0zNhi0Pp/SNvWY/nZkdkatoAA+cAAABFAZ6ldEK/AG5/tQDfQmTf054k7PnnT4oFwJ5tDjhcumxZh03CTribWjfU7WOI1Dj1LxxRZXNbRP1TPaXcmNT4sFKXAO6BAAAAPgGep2pCvwBunTT8qmWbx4EDCHMXEoZ1j30Pjx7S4HLB+j3QmTCY8lOn32FqYQai2LxjZrZt+kzfxzrTgH+AAAAA70GarEmoQWyZTAhf//6MsAEwBfaXwi9dt+p+WvcoQJuuCJe28m8m/1/IxoZN/qkDK1uOTlWIvv8LoOJM5qK98PKK+A+t7kyrMEkcEKlXnBiZ5Eihm1q16fcUxEv2jAubn3MPKXPG4ed1jgp6r8BXiEMCUafjTleNKrgZ5nJ/RDQAFdQT3J98PMmoONobdwwDysZZ/6Q5Tbs6Jm9lIsYFQat2qNl0RI9RioUBYKqOfmatlqk+wUKoJKruporss5QCCWVe5jYWRRwLYlhKiZ5DGHJKeBUXBe2kdc92jpUY6e5YL5ceO2JC1cFm2gZdZCvIAAAAVUGeykUVLC//AFHyMaxyRpLD/snXv0b/KakIaLPbOQwGanIzGnl6RJ8IKPdoUWSmjdt27pYK4LEnM8uxtnkkvK4jv9zWpRQ+Vs27Ik1wzmnvv7KAKCEAAABAAZ7pdEK/AG5/tdNJ1hdY/E+B06QRbAaDRftflABZiGee/WCytJ/lKMPm95XQz8Lj+db6djl43oUA1p9gAACZgAAAADUBnutqQr8Abp01tNz0ta2QS7yJ28Vp8EIo45h5EcuvmR3wrA43EZIsKd3jPp18UtIAoAAOOAAAALxBmvBJqEFsmUwIX//+jLABMAUNDDstvbejI/3VdgB1OZFg6T9pzjF5HlTde20HaD21+UCKRiz6EM/m5DdBNzedcHXG7AGJVs2Ozebzgd+/m2my0282XDe5RRtymm/14eUCJk4lzC64o3yNmbeCybfIYKBaXfhEgxYINRDyyXzk6/V3gMmq0CvkXOs5/jxy7KQeYyM9z07AEuN0Jw4g+RDyfoFq5dppc3rEPf4S4v9ca2SCsVWH39At8GTwQQAAAEZBnw5FFSwv/wBiIjaRnOFd0OiXHE7IzRZ9gTNOXw1JSV0Q06ZotC+qL4L79B/t1a2OIGMuG+Ug6SobuACQTxMtf+6AAH3BAAAAMwGfLXRCvwBuf7XReZ+UtyT0vq2Ur1G3uAdrc2ImXzzgiwOlDoIkAVO+em81BQNXSwAXcQAAACIBny9qQr8Abp01q2vSYlaKEjyM70baBsKWZCZWlWxkACbgAAAAoUGbNEmoQWyZTAhv//6nhABNUtizarGipKD2G60Dt3A6bgDe2icSTDLw+BbMWOjhsiiK5+h4QkMi47fAcolF8dnfFiuENvzlzaUTlJ8UQ4bTqfqJUHJSaLFDKXCfbaBPUPOQW8LHkXRGCPHv/ga+vABwMFbhZuSUdCABUd2boxgH1LOoMs6UfBXy/zs6X78fhkbGcO9c7evykC7gUsFVD86AAAAAP0GfUkUVLC//AGIiNpGc4W9ZJ2zvaaVml2so2oR/3ei7nQavXFtWeAcsomQP0pnJPztcVyI8CPpPwwZbYAAMqQAAAB0Bn3F0Qr8Abn+uSv2STKoU9nT38DqrnPno+2ACpgAAAB4Bn3NqQr8Abp01qWgkNcG51R6isF5JR6cIgwAAUEAAAAB8QZt4SahBbJlMCF///oywATAHxpUlEADvBFdDoxtNblGgH6gBjYtaLVr8c5QKwollQDRxi/0zIWNlz8JblhfsACf9rJ/IT2FH4zf6BL50k2LfcpmAM0/ff+l/Pt2kjMFd160D72RpqewCHcP463OLuteS0E5smDfbd4QD5wAAAExBn5ZFFSwv/wBR8jGrDTTjG3jgyZXaewYbuCG0qWCsAEVEKksu3O1pabpsy87bE954wtTisvIwRnKnxNG7yhUwm7QRTIL/2E5qAA7oAAAAGAGftXRCvwBuf6sa4aK22Oa+hR6m/uAGVQAAACQBn7dqQr8Abp01rBUf5QH3g1SdAV6bS5W9KIbDgvLoERAAAeEAAAC9QZu8SahBbJlMCF///oywATGRqQF+9AUALHy/fWtFgaGFGF5WujMjgcRWZfbjMjC4G2uY/mvD3Lw1UOZB+q60FJJeROAmzVOL6z8VLAMqkryNYNkr1msbhYwOtPfBM3VoE2OKxmQGC/FkNgHSUwO7zDVKjgd01fAWTmMtb5Dox7174meP5Kuv9+tBdhfyNPqmsDpYvx8uTVyDYv09/KKJ4fZK2yNZk+GCrYJS5HcyS35JS8EFowjZlA8VXUGrAAAASUGf2kUVLC//AFHyMaz7QQhWkiXBHZ57CdvC+frZz5E0X8R8lM3TMUFiv+HDIMCIJH/YRhP5PSGVUztxM+v+M3muJhPTM0AA2YEAAAAyAZ/5dEK/AG5/tdHH9aP6dZX1nDqldD9NwuKomZbFHFUCbgBkB0FZWO1zWdvJW7tADugAAABBAZ/7akK/AG6dNbUTK8/unaLmtTJzYNdm52jC/EQzuiP5uAjLa/GIbQ3CiOGkSmL64bxqQx1sVuN9kOudedCAD/EAAADFQZvgSahBbJlMCF///oywATgFVc+D0ySh/ZFfVkBWCChy6lU5nmUO0uMkMvO7oWN9q0u/ei09y+UNLSsCs/iC4C3OIIEpgS1BVU2p1EjCUlYHL3TnlG9vpeGzKhj16FskgMNSQoDV7yRWyLAf9Q160OCs8oRdlyYOPfbj2qm9Xt8YJuhPp+9+L3SAxGEUVvJqBvqsa4JG94K7Q5jgh23qkwpcUWAiVyFCioWtuLjLOVP4AZyR4YtNUBnEMVUGJECBNdBVxEEAAABPQZ4eRRUsL/8AUfIx1sfbFqdGgzL61RXkbNrOIWTBf1d11TiUpBgzbyMuZrEQBmU5Kwz0Cbya6nqqEchxPww++VknkQWo7YXKnp180AAYUAAAADYBnj10Qr8Abn+2ohVdaCwynp6P2y72Axc5wbUwGli29Pj6H6LPGJPiA6u0Dw6NeF9AHJCAK+AAAABDAZ4/akK/AG6dNlr5jGMyvk58m7pEj5uDhD1x0f0UJI+VoV4IpdQ9kb0LfDFaHEDkrKtRo8N4+IHx9qKXNWn8cQAMqQAAAM5BmiRJqEFsmUwIX//+jLABOAXMtH7zIJoMI2072GbRAYeF7u0g46bjuDCUvwr9VQkTyAqxM7LIzCRPkFHtGEpQHqnYXm8d8S9KiNtnHQ8184OsoIdCyF/ZpMj2PzYzWFa2RW5RO+zs9gZzp8NNa7HSzncU8vzhHAhkaI1QejAtE/KGoHUaOQZw0yEr+xFeC8Q4zNBm3xEdPi8GVuc7YubL5rTWXSaRIqcpxGLN5LTgkFqE0Vrun9vJQSeu2Z8zEHzluHnZF+kJADnY00kQygAAAFtBnkJFFSwv/wBR8jHWzNskSJ9bV18meAAVJxlVDOnSXj4LUABX6DEQQya10pUlBKU1GSB1vGMrGK272F4JUpLk3y8GUC2aV3DWsA64m+cqwBhGzCA9DU3QANaBAAAARAGeYXRCvwBuf7ahWxP8h2JfmpC7WvH/2uure4xoc1oRqDLJjIyhRzU+vTkv0lNY8/0kxuRQxlm+7UFUFMx4DnkiAAJuAAAARgGeY2pCvwBunTZa4QVWgGCHfMWt5/NaHw/7ZFjeP9rqOPpmqjEITSyszrI1/af+cE9Ev684iLjq3KgxIu+gyB/t3eRAI+EAAAEUQZpoSahBbJlMCF///oywAUDHVNShMTU0m8b21SkXCNVlXe1JcDbadRuOQ6QjcAzMxnE09PLLJY0BuLMi4KqNi6UecL0X04qryXDoHNPyuVzDDd7arMdDeyh7sh/V/vhRYth+L3ZAbgDR7laTCt3UlBjRqHogI9ioG5HHoGpCFErDUVEJ+kamCS76CEWodt7aSqWXqo3yKnvMlemDr7AOh+r3P1E+xPNWD0Gu4mi/A0PDpPUPM3/I3CvrxRjE0Cmp+1r47d9oFQJRjwUvDLCEhiQLwtRo5r711WU2Luz44SMrUkneF8Oq68KaaTaF0npO7fXh0s+VX9e2ECZe+Qy9YFhfClcGTTzfNX/J0bjMCp69SE/JAAAAT0GehkUVLC//AFHyMgUqWfA+FQczH2dBKihXrVVA3CessqiabBkj5dw6XW3tGdwZqQ9txwZWyekxlr65cFUAPtm6q0hGq+2BkFQKekuAXcEAAABEAZ6ldEK/AG5/tpGOpKFRf85V+iYBrWJtamkkoD2W9XuGeg/gDe1XTvcScMoS8+mMxNIyeABiEdJ779eFv/L8cTkQAW0AAABDAZ6nakK/AG6dNxXd1d6mELJoK8U5Plh66OXB3L50StHoqOBYVh9GQs2INBz8TkPctFfMjaSQkq0UFYgBoKd8EZgD0gAAAOpBmqxJqEFsmUwIX//+jLABQQsOZadD7/YCFyf8LLLj/eoLs/tFLzPvKhyPiFwAMt6BKdeOpuN2apbn01Vrzw8WOQcB25CpECyrKfckvAlbfQLkNKrr+h5LpenxWlDlnS83O1i7IReNzNstcARy2lPvvvXGSFfSPY/xVLBNnARz43PQcyAEfOG+QDoWhge80povJVIYZtEyoUEVJz9HPFCmf4oIdPWwf+UUKqcVsHFKXdpV+q30wc4t80y/+SDomJYCytJXVvas065cMVd9GXdSTHUzwTwPRvBwpmAKwFFM4F8BCwpTAoYNYkAAAABWQZ7KRRUsL/8AUfIyAtHbOJaaq2fQPul27Ut3dP+djNhAGs/eHbh6I4j2tb9x7GSSFeGbYAJm+s1iS2zaNyHCxeQrjEIq36Ja2a6ilYTJpbzduSIATcEAAABIAZ7pdEK/AG5/t3FB2Amels7FcC6nmesBjO6oHCggk0l6KAaW5s4DUMDJwD8B3Y5n1WzA0AQj9Fbxl3JiNWfH8r8RMAIAAAi4AAAAQQGe62pCvwBunTcKtVgtylmUP1rsSq3UJzy1Zq00VLOB8/YhJKAVUsqTiwb617ddCPfMtTuha1iQZWfHGDUgAAwIAAABAUGa8EmoQWyZTAhf//6MsAFBTy2SawtY57v215UHJbjOaH9tcwAt9Z/gK+YwMe6H/NaGhOOBRiEhispwF9gRe6Y5nFVPPBfvcocWI88gVCmFKQ5FPKCkcIDapPrchc1iDITCXwtfQRFL9gXKuJaQ/Hu5+sP6GS+a6hSjA5UvDNnZPeypUygmdTSwfAjDQAExGV5aqqPpD8c97liCV6MsUYyQuZPQDeAO/+uoYfWdHZjBHlUMSV/5681gdu58oR1uAwqLfF7kFR0SnK6/QGY5N1SK0n/N/tdLprXbEFKbqHbhMSS64I2uWoudqVwrGRWuNln5cV2IJCXQcUdO5F9QHnxZAAAARUGfDkUVLC//AFHyMgLM2yQydj+J7r2TcRNNaU32m0LVWqTLzWnQ//rzBtmJK1tbbgA9F8IKxhOf9cPdFx3kPjkkCNgA/wAAAEIBny10Qr8Abn+3YY6koVBUKjQsEjnL8/ylUYT/3vSNVx5Tu6vTYeEK85DNXIPhFiIRu2Yx6wn/WeTiKV6rZGpAAk8AAAA8AZ8vakK/AG6dNwr7H+7LDTofuZoktAapTIlAwYlDuAz0H1jA2SB+wPMkGJdgiFnbG7GkcgTL4gE5gAtoAAAA6UGbNEmoQWyZTAhf//6MsAFJqHLSJwS/gqw3zlDZBFvopjUUEgCdfxZnyRaJmAnCFUMcaEl/sfzch+YAX9iRhezjYGsZYFMeqNXXZalzGUC5ZAQc4e+/SJMXCC/AAvcOzibWit2oTxXymaRIjOPM1OpHwk35EqFbTndZWD/AW0ueOlqUA0QktPlsuQbdPbi2h+x707+ow1iwnbs4SNNsgnx4DZkahhNykOhx+a2yokwUE9wrVPTdth3LIGkftNecN40QeWOvKxlOzgYkgJuzdSdbM2AIfJuAQMoqVbdF9LZLi3DOkubcnIfYAAAATUGfUkUVLC//AFHyMjDA8Cj/iBlS+ld8tKsVga7QmFAajWN9yTyyEXHHQ0iboq3PP0j2lt7ZYEnBPQSTI0PqzzxcrsDSkO/uOKAAAFtBAAAAPgGfcXRCvwBuf7hpHskhZ7ElEpE4xe3xd+MWArTzR9KCm1LDA7/b72J/YJ+WKeZ4rhkPYNe3fJ1LwJqAAFlAAAAAPgGfc2pCvwBunTfjHSG5oNY4c7/W1+WscL87mJmLHdWF3VfMHg4DlrSq+CzsDmAa0oVdVWAQQfxVr9KwALKAAAAA2kGbeEmoQWyZTAhf//6MsAFKYT5zEE6vSw70OcxGPoUtsJ9g1XczwgwZpiIJu97x1MmMtRTOCDUD6UHAtdV/fcfVrKaPydu8Oqsybj5Flgz3sEIohpw3lzkWa0tB9TY8QL+eSeX8DkTE4bczqlV/SBFOwRvul4sSK9iyBi4/FKntoMsVnoIJQ4cDQkc0tkU//NzKZZvEW5/unAI3dQOKKYBMy1UD/A92uQTt+ZRKpUKxOZZ7Jegt4iIzCqGc9VWV3dh7q8hT3TkvzuX+daHq6gGfdT3vq4eEG+upAAAARkGflkUVLC//AGmiNO+UGgZaJMKcCw+6PJmRavJSmxQZ3ROWf23XuEIyadj3LFrX+ogKVlCpRZ3PSjHH7etyxR32lSTgA+4AAAA+AZ+1dEK/AG5/uFMBp8TW1P3A2mmAbolOpKhJlkkeWF1ZHpGmRhgWjConV9s7dx0ODLGtNRJ1cFr5jMAAArcAAAAtAZ+3akK/AG6dN+dZNnPrThR4gSxSSmansHZyL8pMIwDp7BDCmJRM6m6UACbhAAAAr0GbvEmoQWyZTAhv//6nhABT8J1Wcq0Cxed5t9EBCXQiEhGIbREyYR96hswedz5Qo73xgyj+Z+qLPg5AQIrrfpWZn9/1F+DwdTN3UYOdzRXI2Ye7/JnBdPBM0Z7t3soLcVMvpOnjmv4nUQvqSgN88dko+txBMkjh1ObVSxrMOmmuNArRnLrGbDuKUQGIZNsHjzEyV4FV9Cyah8E50XP0Iscvm6dvBS6T7Z5QJKYRbkYAAABLQZ/aRRUsL/8AaaI075QbbSVve3yFuZm3rEl2P0Cocxxw//4MSviB45RG43v7GKZ95IjIGwnD98mDnPZoStic4ucaaNnpAiEgAAIfAAAALQGf+XRCvwBuf7hmvu4cyFL9ZjMwoAlDUoIekgVzt+7rSNbmcFf2ZQ1ILAABgQAAACsBn/tqQr8Abp032pGmcpIJQFlFrM7q+QDdHsyPvCxh/hc96hHy0nEAABSRAAAAyUGb4EmoQWyZTAhv//6nhABT8YA62OiCMkMeFxfBKQILQCm87eehF33J3pvCXI7qaX8RnWCt1uFMrtVHQD/Nho5o+xGZ1+8JKZPYQJr4sGnSbbWEVofYWUxmTgrXRS17he6gCWrAZFjWZmwBdHngfveCGUkABFEDutIE09V2leEWPbeEpYOarRT5RxDkDgyJXs2MZq4vkYiC2QdtiMnRdqFXfY6f4g52wIGRxVR8Jn0091a6dFSUiSof8O+sXUJaqqNcUmaPkdyB3wAAADdBnh5FFSwv/wBpojTvlBoZKghdXHOerAq5TJdYTnv1CyYWs9OtYRkY0NNPb92nxRKFgSoAAGzAAAAAKgGePXRCvwBuf66hXDWJdhHbthFc11tIFPsygHUM4VlIp9q56AGCAAAx4AAAACgBnj9qQr8Abp02Yj091ibUxOp9wrwc1InNsbB1bibAcQZdmmgAAHXBAAAAbEGaJEmoQWyZTAhf//6MsAFJrez4DunxeuVprCI4S25g1uM7QlZmtQa4dtjfj97HQZdH9MZBzaO5auy8bk2vsQxmJ5Xv3nPSnEvg3DL/WzEv6I74XJ5PYYiNt3k/AMZVgpT1t2LPEzPYXkAlYAAAADhBnkJFFSwv/wBpojTvlBojGhC7OhaWlEthg2OYdpoV2Vv5CRWfEH6ok+bTIRyySzPUALpdvzAB1wAAAB4BnmF0Qr8Abn+uoV80E+jBY1PslXO9XImJ+SAACpgAAAAaAZ5jakK/AG6dL4rb/1pZRn/Fkl+gWgAAFJEAAADZQZpoSahBbJlMCF///oywAUmvHwQEjS9cF1UMdYayyOZIHt67Afy+pQmDSMaVoGNg89FAwUci7bAvk65c3s9HPhG8qBn5UysV3uspMCfkr+Xu6X/x+wZDYm+K5Te+qp4Efg8HWD9lFLdd6QwiYL8RdvdxzCIEyA82nfkyJ3BQSOFalcLqUTnhZzt0JhuManGWUp6MzpUr7hGaEDKze+qwcBgnJdaEDrwhEIF+k6I6z1KvGHgqZ5vIgdnkBmi9Wy/ztiJDkfN8bG0F1XVwtlNxUUJmdHu/CGx/oQAAADVBnoZFFSwv/wBpojTvlDpF79EB667I83DTtg6X/TpRRsFjGv2txadyjU+wNgHWg5o+KoAJmQAAABUBnqV0Qr8Abn+sZdAJ0nMyNDMAUEEAAAAhAZ6nakK/AG6dOMjgjjmUNfJyeL9PbgMnaJ5/O2LIABqQAAAAskGarEmoQWyZTAhf//6MsAFUOw19BCNU7WG2uXxZoaES5AgnFGhpQLywZDI1YosEoNfYkAhj59+sRBjbG18yjJ0iXYPv39I8niidd1zvLMNz0I6odW485SLKLGpxaUP/fdike8XR6kntV3X0wqU4nnoREyImQHvpuhuecZ1WbZaIcPOI7vm2QQtRM6jABM6KHALccE/gNDhsPyd1UYEVXhXl/9MXXZ8hzwgUnt7mXFSZ8MAAAABLQZ7KRRUsL/8AaaI075Q7d6mGLuai7+oAOxF+WLh+iUaCpjXaSlaQVt+Q6iTgwCOxkPNZdcU7Efz1X6/NZLn44OZba5uKSMAiwAP9AAAAJQGe6XRCvwBuf7lU/sEXllvYCJllRbxGXtbIc3riBl1PIAAADUgAAAAsAZ7rakK/AG6dOMweV7Z07kO+mLbKtEwMjeKMd0oDOkgwf8QiVHWrAAADAQ8AAACsQZrwSahBbJlMCF///oywAVMK0pLvlVaWu/amnQbORAAkco1PNsiWY99pl6vLkcOqCspmgTjQn5Zi2ZcVggbY2VhCa8mu+AIF5/NW+3qFJOd+EhByesmMvB+derRxxuDjViH/gHrc7JPFG8ujSKPTnYNa4aAnf72b98d8Ly2ohpo1fYJvmjRNA71MIxDBWDAjMXyD5BlddyMyAsEdrUue0v5hiJb9erw77WS1gQAAAEVBnw5FFSwv/wBpojTvlDhq6juBNWPEYNW4EBeufVcYcD9qNB9O1iop2FmKfLvkj3Jfm7LOlYtp8FvdFG8c5/EIqUOIAQcAAAAvAZ8tdEK/AG5/rITbmy4VVisCqgp2UmiYNnV3eAaLb2QI3Rv738q5DwyoYggAKSEAAAAyAZ8vakK/AG6dOLt56IiQ8DrTtsLfjFyAmuKI1dM5f03/UMEwuIhhsj+BCunPuDUAAf4AAACsQZs0SahBbJlMCF///oywAVMKz0vgiJz1NtIt3N93z66p6x0g5A7bt4zcTuPpUr1OBQ19dLq/k6QU5/l2kOx8SiIY+PuJBwvhv43iTOOlG11kB6Mwu0irX5qZ7FqWNP/98Ms0Pk8jTLDSrSF8Jrp4XUGmvvMMOuk/f39u1ACsDABq6Q7FI5jS840QKUrKTeTgaZKMf8NSUzymhKQ5MTOUTv42rwLjTPtjl4lHYAAAAERBn1JFFSwv/wBR8jJlClGBdxqbY70wwMavLuOdpehjWVNzRFx+INGtIAmXHKhCMLCznB/4AabI2DdcJTwJPNcTUAAELQAAADEBn3F0Qr8Abn+5WP5bD3I7FtcOUQf0buPQqu4dV9qKEgQ02pAkmjiErCR5VUO5gAPSAAAAMwGfc2pCvwBunTi7eeiIjYvcHB7/zYFylk43SNm8Ge2F5hanBA6CzLy8apHSbR7m7BAC7gAAALlBm3hJqEFsmUwIX//+jLABVJ+XpKk4RuaqQ6NCbQOYgX1UJy+4yYWWGdLdlkPbbYgTVijZ4X0JvWbKf51JwDym1uNSL/y+/uR2x9RhSPiVyWhCWcGaa8ImSvVwlDnqdn4bGTn4reLOVBxOjIfIF/ihj1SrAJ64LqjanCc9BUDGwRLNlf7UAb6jURp7qj3RgUqF6OvW3a5I005tg1B1+AeNZtuxcoxxB8M4qjxcCa3BYuPm3+Smjd/+MQAAAEhBn5ZFFSwv/wBR8jJnh3u9pn5fiE82A1IGDzw3/z2FsZA3Mc9npTEHi+zc8+0X/g3qOdJD3OEfGGXcUsqRAaZez/1GJ5gAa0AAAABBAZ+1dEK/AG5/uW7kb7/Hl1P8g6hiTcqRlyr8qCk1kytGtpCG1uMueQ+DQ+leb12KAUkEWidb1INzMz+ESEhxAkcAAAAzAZ+3akK/AG6dOLt6B/NjRi8nldT94dVB4GwCpONMVhgkuHpS0bBOGVrTffED/QCvAAd1AAAA10GbvEmoQWyZTAhf//6MsAFSpePhXzv1A3jJ5LAATwglEzcBc6GfTqj7geHKvJmNmXx268lYHCkNz2P1rj/XcZt3NSx9s083BlFsQZK7OW/Inf2CZQE+CVFH9D5Hy4r+18llAW/YKwbKptnxIvXfRo5Rmg1Sj3cbmeW2L6DMxpRTlVsoVIUkVCPDsAo1odJkeWhc30Cco24Q23n/jaRUZUdL3B4D0YhW2lBXss2WD0YKP+KRI/pKpN54+aeQ9YkPP0KAOnzLA1oZdn/pOT5afzEHbcDTJ/RYAAAAUkGf2kUVLC//AFHyMmeDPWziexOpelQXZG9znXBBsW3ORvAcLtke8ruu4i3UBbyDE9aBFowCJ0Wflvl07JCZvQpsnFjwhZdp0a7Oz/CUbwAAP8EAAAAzAZ/5dEK/AG5/uWb6JxlDu+S92010YT4Kmg3JnAsF1+frvkpwAVPtRTBJgv5fVGH8AEnAAAAAOAGf+2pCvwBunTjR6FtiL0DbD9+XVkot5tqGKo1tiguEGgg5d3fVmnmwAPd00FVhowT98HUAACbhAAAAuUGb4EmoQWyZTAhf//6MsAFTTIoKJwaaiORiBf97z6gaAxBIH+A4iwfvRcUiSHQh98EABdLyHv2lM4+iNMmRyPBUYC14bGCOUsbtVw8l8D/uzl//0uFHcYC6DEt8mV3QyT/Gp8l4FW+KmFCwvml5ngPejwMtpvI89ZUwXCQrQAgAk3p+aApWg52Iud8CVHXkiRZZNG1dN9asgGLex9Hr9IcZY0XsA3cfyRAiIefxQmEafFzJ+IJX5nZpAAAARkGeHkUVLC//AFHyMmUKUiUg1Cz999RIQt6yHvP7Q/PkcRlTzZaORQubd9z8y1Q9cIDU3DoeEmNUPKBKOLQG1yYvZQAAuIAAAAA0AZ49dEK/AG5/uWdrRx+RwmqWmeFEOqCyCvzEsemJSPelG3jfGfrEA4I50Yr2SYlonOAELAAAADMBnj9qQr8Abp04u3oMXkurRdv21g3VF/l141cSe3Kp/Sa2hzM/prn6V5IDLsC/CTAAUEEAAAC/QZokSahBbJlMCF///oywAVQo+HRGZGbfAht1MLcTjVgAKF3iNVVE95mv+vrul/jk4EYIbtqTGo3CVAj+9dE3L/VqcevvqGkULUavAfPdPI+T1KQMZDCM1g5ilyjZlBA/OUUJ/crnv2VAjuQxmVbg1AqryGrWPNoXlFNp2oDTRM2AdY0TaeuQmNkq4u7jfoNZP8J2RNxfCz6D2vo8pfGYw5gjAmKY97nR66ucg6R1SmTFe+WQCETXSshwkXaQrRgAAAA+QZ5CRRUsL/8AUfIyZQqQY5v/4LDMB3qmKyD2YXtOGx+hPdMF4iSxURO3hvfYsrOgWIMWLV5wPseqdL8AG9EAAAArAZ5hdEK/AG5/uVClOARf8aE685M2N019qpil6mCZIvqjbZOmEoeAAAA7oAAAADABnmNqQr8Abp04tmfxDNWk+x+WIhcu1AZJcq/KH5qDABcY5scuJMm9WUZxp0AADPkAAACtQZpoSahBbJlMCF///oywAVKr4sIrtkwv+upM8iC2YHPLpzp07qsFWD/EFKLWY0978A51wnLakjPZWSQlJm+2IOEQ0bYqL2J7pMt8leY7qutHJ7J/tFmrY9EFDhyqu29y8gziS9073s5qSt2/1fhsQdCDwUayz57eNsjvH6ZfggElPiUsoyfmI64ZlwUfuwn7F2PZEs9HpciOsHKM8L7zzQ6nSpV4wiil4dVz2T0AAABCQZ6GRRUsL/8AUfIyZRq8udKqseyVLcOvYdiigZBsxI1HngQwKMax+gSg98sJ+0TW1qGHBOCy2Iwgplzi+bHgAAMDAAAAJwGepXRCvwBuf665Vm7BDvJbG6q85+0vlAD1YCPy4wK73AF3AAAwIQAAACUBnqdqQr8Abp0vns41cD2eeF5/l3HGCbrAqJGaZyoTANaAABnwAAAAwEGarEmoQWyZTAhf//6MsAFbr7G7i2TinvZlGBZPbPiYCVSJ0BoLgijFrxn1TKcgNr1ZpzgLLXTc96b1+d3VEilLX6RVyJrEtKT1/lfiSH3XmkGzcW9utxldsRX3m3ILXjgoqsf7ebFWIoOpOAxBtYUM8W0UJKpX9oQbjvlFN2aEAz8JIPjf5BsjiMLPQNi17w8h0dJ4+alnhJ3ldK8sjSDrtkktVE3VGhn2Ccwk0HmIHomFX4Y6H14qS53uhWiamgAAADpBnspFFSwv/wBR8jKe63mfZGaAQRGmrXwZ6XfuqR94w2eX63I6e6n/rOUm5ruWM4aDO0ZSRFA8AChhAAAAHAGe6XRCvwBuf6yQwo+3EvYqxIoRwc3Vq+EAARMAAAAhAZ7rakK/AG6dNr+xCuRyvQEMnpm8Y74eRe43zT/IABnwAAAAkkGa8EmoQWyZTAhf//6MsAFcCy9WFcHAA4tBlyBMJnA274E00W2/sw3Fql2G9SUYgaQd9xazhXrfEJvwa3jU8CkjXzYfZ1aB7j9YJIgjUjs3livCKfMZqInefEOwsZOcbZ4F72F7TvdfR06jSCm9GDWNXX72iHWOel6KhwIl4fKPyUMwXRze3O8WabIOs3wWAGLBAAAANUGfDkUVLC//AFHyMqKDqtbjp+XpiCSI/tjwJSOSDsqexPUu9SYldvh4mSAHeHNf0oanwAEjAAAAHwGfLXRCvwBuf7djnOqD8Xn/j/Y7HHzFrkfdVhgAA6cAAAAVAZ8vakK/AG6dLGFcakwVE+tdADMgAAAAs0GbNEmoQWyZTAhf//6MsAFbtQ3OKSwxs6zNPe1jaIdQx1ONMHZ0ORFuaxlT+zk4M6Sgm6n0JbK0jPqE9hxYv4bOeKmTyi9MtkDplE0Eh178CdTRmVPn+zGYK9iof3DTKOpnukLpTSRfpH9fpGENPna++Qg209/rFFjrMCNJLNa+yNlKt8Q2yq+zEVqNok7sO3vt2tx4Kwj0y/M7Aq0wsfbbltdlXJdZi9nl2oRlhbP6JAEnAAAAJ0GfUkUVLC//AFHyL7tbzf0DUXseOxv4YnoCa8BIvnEx2RuiAIAFlQAAABoBn3F0Qr8Abn+skJBDKM9sZatTUFQHAADPgAAAABUBn3NqQr8Abp0sm3GnzBn9nKyALSAAAACIQZt4SahBbJlMCF///oywAVwLpK8tS2yjdvYnUnAM+qBQ/9x5WkTvEAO4FXTdl7uWpHkvASy/NZsuFlnCPLt6CHBy4+RH17zyycN/wwmiCVzyr0qXyx3ZmcWvKREgJ5BSxLhPyx4PfpLvu432v6wnCMpSucTh5e0dBO9n7f4p4VlO1xyUxtAD5wAAAC5Bn5ZFFSwv/wBR8i+7a4k8Y1na7BzyiDRwjUvOSM+CX7H6BKModccRB2k64AUkAAAAFQGftXRCvwBuf6sdCZLjdgJZegC0gQAAABUBn7dqQr8Abp0sodEPiTv1eEEATcEAAADOQZu8SahBbJlMCF///oywAVv16V2xI7YQsrWp7h99p7Bdj/Pbh8g05fmJ2WcamMQfhVW4+lJNo329gSCe9cRAwPA/k+n3lil8y7PU67nhAEqQOb0m6IWP4huIY38rPx8YiOQH8zi+2AUza/DtV1oJxV5QAGLMKuu5lGVW80cCvFlq/Lki9AGYmBBqGzQzRL1Unygs6o2PuHD4/E8ic2TBzLofjf42EmmQKIK5usStCSNA92ApyMDYZqaELkowQ+nQKzDZsPFZ8uEAaN7dTX0AAAArQZ/aRRUsL/8AUfIyM88MNVGt5nB1W2sAtaN29gB2rSwd7dGUyhZzkAAEHQAAABoBn/l0Qr8Abn+skJBC81qRuyOKBOrtgAAFTAAAAB8Bn/tqQr8Abp04vSO2RES79jdAPJKw3StiFaOAAFlBAAAAzUGb4EmoQWyZTAhf//6MsAFbsSwWwlGTpnPkbA2cg0npQ1F7TyxuK1daen6fthMohCdaJjWgalPPwQbt/zyHTaZVCyDUKHbXByYCL1iHxw9JvpJNl4EPuDSsYjzc7ywHAM361Q5UzPmRY7P2B562gZQarC826rT2LnSHpRi46AMyKosqxeE5ivBU+mw8AG9bWkE32uJ7V3tWyFsb3pLPYiBtcGzylnXW+PguJBXKQ5uU5Q/h//NgG/AQrXmU3WVqCXyTp9kwpQbokwsphCEAAAAuQZ4eRRUsL/8AUfIvvdv5EKwFpEWEJ0qHpUSh/0HGA0GcURrrgA1AS4OCI+ABJwAAABcBnj10Qr8Abn+skJA8m6nFW5bIzGADmgAAAB4Bnj9qQr8Abp0tAV7lcEMlwEwBJSLsV7VJqc0AAcEAAADZQZokSahBbJlMCF///oywAVuxK5OCUVlYlTOiBHY9Pag/AfiC4Ch0QV6Fdz5DPfkYdrl617vUpZ7ls2IqzORbxBZwHE9BcWoDwSGFkPjSfKksPMrIVIhaA3HSyAEcpDIb0Onz0z3laZ/ItWQFJchl3fZKNHCdV0O8Cu5wNd2m8+d0XyyKOtLj4oqIBGtmQqGDLmc95zIe8bq7MGiS6ApS3gISi8g2XoIKSMSgPDPx1R/K2jMsZFijwVGzQE38HHJZfLh5V+7njyVyB2S9v19px8KPCSCLtxYmwAAAADlBnkJFFSwv/wBR8jAqcd5wk0kZ0g9mOzQ9XHU7sZQ+xrf18e5Biw1y+ybqSnlP1PCX/Bp5sGAAjYEAAAAbAZ5hdEK/AG5/rqFev33ELn1nmfzA9ZfOAAPSAAAAHQGeY2pCvwBunS3NeMSry9Tkg/7So6N7jkv5AALvAAAAxUGaaEmoQWyZTAhf//6MsAFcC0Im+CHBP8JFG2ZcHVTqKernhGrARaoi+9YpBxPK7Dot/+MO3/ORLmURWb0LNfvtD6+5+Fx/F4tyMdkKApWKVwjvCqatZvkJI9144iwJiNgjHSApHB/b96GX2Iw0nHjzLqQFbq5sYyeosVIdsW45st7BMVzozvPNm2ij7D6vlMgjqoSvvJqZDGq8ZNSb2ZZminCW6f3GZ5C9QkqFWeOU9GW5ZFpO2SNMKl31QbCN26x90WDhAAAAPEGehkUVLC//AFHyMC+iTrSL/jwXOUEszycnReMTpD2EWf/m0tijK8K/MjkLBOdwH7RDqo4r1CORMACkgQAAAB4BnqV0Qr8Abn+q6zlPlPGX0S0/PRMatagaHwAAFbEAAAAfAZ6nakK/AG6dL2IAOCLJOsUeUu8kHkDDfbdpAAAh4AAAALxBmqxJqEFsmUwIX//+jLABXOQeRGQPALjBh1oCg4UhkBsRpQDRELEQdZH+I3Fx8FqToWXliQYiTcCDyEkx6bRqN16MEiY4iClpwD/WLscMU29FsTSvLGwbwigfCbx0FQygqbLrj8mLo9r+CSNe7simL98gDCCSUzgbfyTNZOvPIGXypG2Ucsce6NemwnGZ6srRm3R0tuxrhMNComPT1zc6ZFCMpvdI+lzApUtCuKOqSWjZ8hP8DY2At4K1gAAAAD9BnspFFSwv/wBR8jAvA/I4CZjsleOxzMYo8xOYSiGQ+3fD9Dn2mML1t8A3xFRNpt4dlr+u7r2NE7idv5eAJOEAAAAdAZ7pdEK/AG5/rJCS8omAPUeii0jKoWGvFgAAEfAAAAAlAZ7rakK/AG6dLc1ES1uQ0hJyLEb9tfagFBMcv+kQYCCUbAA9IAAAAMRBmvBJqEFsmUwIX//+jLABW7EohWgmWItzmLABLevlzLnYBBu+Skeep7I/4lVYjDGwQzv5YRvOp5TBi7tFy5OIDcaXFymEO9gXoDw1Mczg/GwYDSLuRhZypAZMw/gZ2IgOv7XdRDp3cxE30XQb/dD5FwTHDsyislD+rb7tD4hs+r44OfIwwi2Vy9zPlY2qta5kAkjQg4KjErdV6ePhWXrMoa9jlCwk8wj/dePwMi/6FSt31kstrSJFX5XhvoqFoEXhv0yBAAAAPkGfDkUVLC//AFHyMmWSDWqNoAiooSGaUHRF+MPAkWMrjn366YWYsPsMJ+DeUOnRThyW5RrhzMHk5ChgAApJAAAAKAGfLXRCvwBuf7hpZspKSuUE355UMn80dSNDSUVpxxvifG49IHAARcEAAAAmAZ8vakK/AG6dL4ncU1dx6VPfgT7HTzaVb4a7NoAypZCAdobwAl4AAADNQZs0SahBbJlMCF///oywAV1gvSKCQBOT73Kd68a1E/Kshx1/ZU0sl5+e1GLqpJrf+USA9na7N3mgokZ22//kGJW37Sc3DL2cHtuFeIFjTfNcsYOCLyX+UdFgbO2aajoYFVruAzVPWOmm7tk3qrFKK1nCtim3q2JiiYIaUJIEztmAm4YfEF22ajelG98nfxQeH7DDV0R0U3u2lUMsMJt/9G4uEcKpXDTLZDpApr/0BMZGlkQUJd89Si1urO1p0rXthx/2gBt00xIPGB+76AAAAEJBn1JFFSwv/wBR8jKe65FjOCNQM91xVOPIjAXxL2O2jyx9s32gPTy7QKJgioBcGRlI/45WEFCD42I9Odan/QAAtoEAAAAgAZ9xdEK/AG5/qyb5fLFIzmgquI2ZmEnpsq9R1KwAZ8AAAAAfAZ9zakK/AG6dLQXd8oGdVFfgos3mOA611QINgAAf4AAAALxBm3hJqEFsmUwIX//+jLABXKrzOGSoYALA/gRBe/RjSFuBNkjA+Yu1pVzdaGo3FUUWGgyAPu9XvX8rfsyrhgGMxMKHc9qme266RGKevNwTkgjFHoX9Rzgi++RuqZ278eIdCt5zEzyFFbTSYC7fQq98nZMcNL3hMyeA5LlgEw/neBZGGGMAddRdRFfTH0ZrgE2aiT7wLGssZU4RsXVS6Pgt2qCSfFV9mvzW+z6P/hoD002z1iWTT+g/b53e8QAAAD1Bn5ZFFSwv/wBuojQSTrnwYiA9SgrNsjfLbBuOABxFn2/g/pmhgqTKlJ9TLVznW6RIrkJFsNPVGjaAAE3AAAAAHAGftXRCvwBuf6uYSzzRnFYDv9aWErEXMAAAyoEAAAAXAZ+3akK/AG6dLFfxfm6zAFBU9nwAJeEAAACqQZu7SahBbJlMCF///oywAVwLoZ4+0+QVyS8jPzILxqUSV2NjFZU/craFLdwOEc4feUbYTrGhUE90YQhkzZ9BHaI9TdFJg68q40cfbMhO4JEZGi7TEm2fxqcbXawiRYoxKJe+YLHay+eby0QDYnWDgulUU9SReL40l22Zmmutkp3jJc9r+rVcHTVNx2mjPmhgVZWsBuKLxpp41i1C66RnFMWsKYA36S4gP8AAAAAiQZ/ZRRUsK/8AHmr0kyuhgwrXIj3+pH2aR4fBy1+MwADugQAAABoBn/pqQr8ABunS1dnMpTt8DHQby8tXKAC2gAAAAJJBm/9JqEFsmUwIX//+jLAC3+5ogbw954nK6UU13uuEbT7Rj7lmrpnQ9n0EWCgr1i7tnScP6iIsOhTMpHychACy9zyhL2GhAuuShMZqv6MMiCWAcgUgDGJ8Tg9YmRSnykbGJfjqJinYtEMOTEqfVPZ6qjyEs/Ni0Lf7eS5+39ozl5+TJjFSroHJEtiZeNTHWAAy4QAAADBBnh1FFSwv/wAWvIv81zP6wYyTXkKclTc/UbRK8HHrwAsHAV2RIFTa/APXUqwAAm8AAAATAZ48dEK/AABR0w00sVpbCQBMwAAAABUBnj5qQr8AA0z/P/K44+xmPCMgDegAAACGQZojSahBbJlMCF///oywAV0vtj9NfghMCf7PyorSGfkFJlTNi/zUCKvjOrxkReLLhwugdHYXKyD26oxhtQ4Gixt6lhod8RY4cga/+TjAIAWoeAv30g8aeu2QljPkjL73ez0bofW89THaMgy7Vl6epX7WNQnUY0z1I1PnUXfD6WARYo8ABi0AAAArQZ5BRRUsL/8AFryL6d/tXlinA7AOFmdMazXn4AV7QNnrRgqhEmcAAAMBUwAAABYBnmB0Qr8AA0wYZGvJ7Ux9+LVBABFxAAAAFwGeYmpCvwADTP9BYf25amdO2ixKAEnAAAAAhEGaZ0moQWyZTAhv//6nhABYYqdf0KEgbgm/Ilv52gMLSWurRHFQbuA7yCG0di6TPlIm+RcqCp4+qNa1lfAyk0t9lMzXtynMHlCUglr4WnJXkzlGyjtD+A5UMac7xLNLJiO+G+BUM+8dyx6DSX01g+TBssBbi4ZPybmm8nVLVV8JXgAu4QAAACZBnoVFFSwv/wAWvIv+6DarFJNAm+ALiFv4iOysFHMczYIHSABmQQAAABMBnqR0Qr8AA0wYe/KpWDPgkATNAAAAFQGepmpCvwADTP9AmTcVKZ1ZvMgC0wAAAIhBmqtJqEFsmUwIb//+p4QAVoZTEAB20EbULubAjYmYfjw4JkPJ0SzI5sCOBTpTYfTFXPIEj3u1T1JiadKqdXYqi4yjq80EpnBDUHD5W/X/DG5qWZtss01guAc2x58YAbxGdRLxcN/rffwd2/byxWHFyNWDTI7+7d7Bxjf3VZlUOaZebmS/Gzf+AAAAIkGeyUUVLC//ABa8i+nf7V5Yr5XNLTcmkEyTsx/oSvkAC2gAAAAVAZ7odEK/AANMGHyZWcEbVj5O6AGZAAAAEQGe6mpCvwAADisvxLdKAEHAAAAAmkGa70moQWyZTAhf//6MsAFbtQHJdCJIK/QIsJA/waEu0Asw/po7FGzzRXZE4D14wDE8RroJugScHOFb71GF2vnbbeMT5dgizBo+KkuAwwUBldSRq7blasA+tnEnSdvaEOoqe8HLqM6gXktxAGPZZGFelmi7GH2BsBXw9JOtG6hxPLgztANdJUvZHCsaPycHU439h6wxpirUmKMAAAAmQZ8NRRUsL/8ANMSDRJPUD5p0cp9Qc84VUOlI8rsmcMQBBqQAO6EAAAATAZ8sdEK/AAbn+q250fpbCQBMwQAAABcBny5qQr8AA0x1euwCsCsCXaKsEAB1QQAAAJBBmzNJqEFsmUwIb//+p4QAWKSEjlbD1k9BGVDkI1hHmLkV4+EkhSG+sGE1X3MAwB7nU1rXQGyW4fkdZxL76VYDSyUn2HqFm029cQmIARQ0aV/sfLBkQiOsE4sFebMaGJC+DA/mRmWXnLiSw23+FDW7z3e3wgzWGFlCf4PlckXxjFf4+kIgY+iCDFbGdh2QAakAAAApQZ9RRRUsL/8AFryL/ulrQQFPEG6giTHjQhMao5q0p/h1U1hijAAAbMAAAAATAZ9wdEK/AACjphiFsVpbCQBMwQAAABUBn3JqQr8AAKPYBY1DQcfq8IIAm4AAAACiQZt2SahBbJlMCGf//p4QAVia8WANFbjO5McSxeSsrvQ0hR1tVTkTLbru7GcLJ6tgP+JiZOc1kEA3U1BgcgPIf+tnz3SOztOXWL6qCJWImTgIVHoZel4QoenryA/byZmOKw5xm0aX9c6/SJCGbMWHQMJhF8GpbNaCBEDkIj2YUN7o34umhGDUTXbf1Fodr8ZF3pn6xbFN95PxEE0lmY/vy0swAAAAJUGflEUVLCv/AB5q9QG6iB1U6UaL91Yl9dNqmypAGhZwDkoAAicAAAATAZ+1akK/AACjtPUM2rP0uQBMwAAAAIxBm7lJqEFsmUwIX//+jLABW40XwAsACF7TaercNC2kh5HTKbnXWZEqiSXO0Vw/pdJJVpoDn7PLmDXXkaH5kEcwNAkAWzQRXbHx7DAzxTmkrG3ztiYffWDhxFAWwLhqU7TsxX6TbKJrhXo59SPdkz35ReddMaY+UuxtokH21z/1QDOjJ5M/j4ArTwBswQAAAB1Bn9dFFSwr/wAeavSTK6ELzCLAPSrUM/KdcAAh4QAAABEBn/hqQr8AAA4rL8S3SgBBwAAAAKFBm/1JqEFsmUwIb//+p4QAWLPJfR7TFAPMwKXbYd9yfSxjSyWkWsXhXFOL2HDW5x6PM4sU8B3t2oRf/6XTlWS5l69Ljo69JZ4NnDY9A+obF//snqKBqLzsonqnGP3BVN0O4eCN6LZ9mZGPFpLBPzedCYT/3Mq3BSboilN2sZDdY0ZN/V2cyGM12u/h4MXnecqkWr00EwPblM3A1Hk1xgB4QQAAACVBnhtFFSwv/wAWvIvn35OrInqrf8/MDWsLW7K19uedqU+0ADMgAAAAFQGeOnRCvwAArKYbW7pVwYJKsgC0gQAAABEBnjxqQr8AAA4rL8S3SgBBwQAAAJJBmiFJqEFsmUwIb//+p4QAWI+JEbMUsL77umFfvOP4AO8NPt2rcpLPPfsLDdacNerYpskl0we6uCc0YVu+xWx1LYjmtmJJqoEImsXEBRR9iA22256o52maifGrjzIOej8gWAsclaeuBKOYK/i2uJQ/LBNjZAmbabMttKFGsPW1gB5w7PZhpzx746Pc+uYTQal3+AAAACVBnl9FFSwv/wAWvIv+6CtOMM1Bmj9fMmKPMswrwF5T+5YoYAGzAAAAEQGefnRCvwAADicHuA2GAGLBAAAAEwGeYGpCvwAAT6v+QGF+yLkATMAAAACgQZplSahBbJlMCF///oywAVu1CgAKdgqPcLQF1rBGNOHUFapec+l53NaWZ+nP558vxs4G5E6/Flm67g4tjZBVnLLcbu3yKwZPCYja5q1qoUTtwt88AbCg+m9/SluCpNYusS1EEEnaSY9URHGjRMSSWrNJPRcYUyxN/UYfO6ZmdUD8VQYnt0S80u7HnTaA4r1kSF3t9l7Uwlx3/gQSIE0BiwAAACJBnoNFFSwv/wAWvIvn35L4ERs4uth+dU7qMYqQNYy8YAGVAAAAEQGeonRCvwAADicHuA2GAGLBAAAAEwGepGpCvwAAo9f6hmF+yLkATMEAAACmQZqpSahBbJlMCHf//qmWACykPQ+ABksaYato4WB1g0bMah1Qk9+Rdgc4K2wE6Bzfhan0CEG4akjrp1YOkZ5a7BHnCFCf3Dl218v1UJt8vlf9euQizoVvVRG03u6UwYYNBDjZiaiJomZyzq6wmlWfzlVkUhyIyZLmByy97iehiCjp+PtnI5FlUY4K7OtbnMLDxYkK52kDx27oCGJVyqGCgoPCK21V4QAAAB9BnsdFFSwv/wAWvIvn35L4KTUpPqW32oysA4sQAEnBAAAAEwGe5nRCvwAAo6YYhbFaWwkATMAAAAATAZ7oakK/AACj1/qGYX7IuQBMwAAAAJJBmu1JqEFsmUwId//+qZYALLoLk/AK1rfejTAAonJieX0RyE1PXhukxBpgzkw30/HUKb/j2SCWW805+9iCXkEqQgKqEyZQeyY17mIMOHnoH7Mik49DiuPRLXzPPKwzlQRVHutgrpSZA8pqyz7z4ucmdlfm4HqlgFcIzfM1zmvOt0WpJ9xP4sQdLetTiJVeWaA9YQAAACFBnwtFFSwv/wAWvIvn35L4KTUpPqW32oytW0iOG3AADugAAAATAZ8qdEK/AACjphiFsVpbCQBMwAAAABMBnyxqQr8AAKPX+oZhfsi5AEzBAAAAekGbMUmoQWyZTAh3//6plgAsu8AD1dvvTaiAlfnIC1h4fWTKdnJv666vfsj29aBA7bLK65AEzbBkOOFPfK1+m7ZrYyY08S3XeD6OFIocu6hzx/335nkzBk83gHbDUeIunZbmXVh90ZW4E7F+YMIofra7+ojHEQyAAG9BAAAAJEGfT0UVLC//ABa8i/7oNYg5SCqhMF1voD0rmweFgA5absACgwAAABYBn250Qr8ABuf6v+JlZ92zwnSngAi4AAAAEwGfcGpCvwAAo9f6hmF+yLkATMAAAAB6QZt1SahBbJlMCHf//qmWACpenDQhbak7aRGte3Uf3B/PZ6cEFBr7COvut7VSQpX6O6FVur70cH/t55G+MSEngu6AGIuv7yl9Auvo9/ufED7JDtAT139F4ktrRD3fL/To/XBmEJDOqDMLkZedlJxzZgZfmG1Fg+wAD5kAAAAhQZ+TRRUsL/8AMkGng/N8GqiEE/Bx71nmRHHYC5V+QAHTAAAAEwGfsnRCvwAAo6YYhbFaWwkATMAAAAATAZ+0akK/AACj1/qGYX7IuQBMwQAAAGNBm7lJqEFsmUwId//+qZYALKe52mu0zX4hzXNn+8A9rdtwMcTShUZME66BgqDU/fAY6kBvhgSX0VN5/snee7Rjenbuv0StsfN0ZkFmTNzyq6EBdg2o4DvxebHRG6UQUMQABqQAAAAiQZ/XRRUsL/8AFryL59+S+CkqYwFpFuGHLcgRXblsPAATcQAAABMBn/Z0Qr8AAKOmGIWxWlsJAEzBAAAAEQGf+GpCvwAADisvxLdKAEHAAAAHcmWIggAEf/73iB8yy2+catdyEeetLq0fUO5GcV6kvf4gAAADAAA9hYRO+pfVHWE/AABDAAG9NX/RGCj/nIBpCOo4fSuiVThjKmdXfvhWbgKp88r9PMxiFzXKI7NV9xBLWBYJQzNl2naCdNCOHuwC8tMHa3GELspNrCXGqrzvIle+h1sdH2FychqD53Au9nTdEU6Sg49m2dY6ESuGYjYpm9CwdhcV6GWjD1E/CPWyJvZUtBA/nmoQ0f/8SApZC+OW4vgtAf0DPFsrfx+mkaQwq9wFFj4ME12Ugepc7eQw+tDAz/9/ap6oWRXLYbb8pfYRyNpgrLOn2jN09A2rS8zcpOdB9NB1eKjwl2tK8rI4omjC1Noh7VrFJnxiBxZYclT/MQfRaDiAmbzk4CYUG4i8IxHU2obcwjutiD0aXge2vAz2Jqimmx5tS/cOB4C+dCCZjs9cOlxCiKOq0TcKNe6ZMewfxAUXHX0dOBrlntl0Sl+oiObSyghrv8lajFCSZfpkv6y1ZqnKr2r1K5OE8hK7YgNc8mdCkYDLibWQ8nIWXvP7Ri06MC0e68aaWMCJ1nYJqPv6+ayAQY4dxStq/Jhz657ZI0xCcae5B4jWOGqayfXBFJtnyukry240aO2EJIC3hkQFQmowU+o/A0eeHGf0kKEQhKZ4FkqmZCzKIXDkU8iOtqjAMQTAA7d7CDQDRHuQSo3MZvw1EQvzAQ5Rnx94oX5tAByRx1HOHJEqohpJAHAJVoQqKXh4sc/9XoaI5PGjUwR91qBmAqeKP6yA15tbdOqsGxzKfx9/8m4ng2nRxI2njCblaYqcM0AEzcLVEnUvUVI7afdeC61L9XNB/DFnfKXgAN9zwJPoh6wDzTrHrCqG8JjPl0Cew6wOFFX4+Jga2hR7EJIIv9QdN4P8kQg2/HpftTnNIi6Le5gPr5koEVN+BNWuFSt6X3u0fv3Z/T2JdoRaMy/anfZougn29XpNQRYJbUyuJBfYWR3mDqdfsZHEAt0F0SShz+V9A+LFPYo0QtOVdVBBBqb+RLaXPHnL/YquxbR9cW6kE1Xbha4py8/NjfEVN6DEi2xqM4W4Zmg6mqW5F4vpQK87weMCdI3UgITOWmAdK7dvSFcSnBrilpsNH0jYzfLOFuAA/jdtJeXlBL0TwbJB5tyGEX8cZAMwnHoa4JkQrRHXESALn7ZAhp18188Cy7W5ZD3wYVMVNKAx8JBHwa+qeZ025CL8Ze8RDiZDweWc2dHOiW7aLYz0p/r7xUwi5qP23b/54+5wuIHXw5+1yrdy82nhpj3lS56nQwOCzoYacv6Sl6mq70q83PpOUxU3vs2sR7cfb/Qn9tPHQvasnXYijuD/77ePGRD7g4zlMr/sXMjXrt6ijRVHW29h5cgBk94zm6yVSKqbFHkgbbM3U4HryRdxhnHtaV/u3o3/ITwwi4/msMP0K+JcKk/ItNxNOOt/EzbOyhcfojp29HGLl4dZiS+lt9hbxRb1oKs3Sd/o6B0WONZCfjQv6VikMIDgJJS95sAp5/1Mc4rLE0e4Penybp1P5Pz0MfsazNC/74Al5LnlBD5/hlQEarLi1oNiuePrHXvsWEms1GM1u5QH8H4Ukltkg5LkkzPU0/utsgEE2f5dodkvqe3w/RicNn/mvX80yR/MIlkDXmctXtDif5J1O/V+dK8dnpMWVKSkWqpTwWQscsnpXYqd9Dy5eNwyfuGAjSHtaS78xMvISj1XU4BPEqc7Ps+3Z7GWvyVJRmvzOCMl/HqaVdCpp9n2gL7WZEIg9pw8EA3Cg5mdX6hjZ7MZTq+5kQ0JjzbpvpNtGNLWNoLBZotA8d8TMSyd1CvUm4BvfsjaNTn57CMaIH/XvBasAZtg0GZwiIhBOAt4YQq9YchskgK3/qGZQd6VL0B4HTTWdWYkCSnDOA8NsE6Y2xaoWth37aj8ghxgmlB17eMqtZcHuLcCKb9sOO0kPmDTIzV9c8v04udagOk7mPYfSDKkNPZalvf0sCkZVeCtMbSWnMErotnG+7+ekeP15OrI/DcB3ea3Xws0cO2dfuSUtIj5JYxj9YgVVOgg0Q9E3KqEqk/z7dU87eUiq9q9jt8p6+TDE1uRjbuPeawjGMRN8WFU7vmUJvUUrWUJzpARNxrpQEHkNNFn3ea7mgqtFCn73K27oCF9pmGGFkKSVatR+cgQAyv8cyfodLteFGBAFxAICSeUIVjmQhIIhpGgyUpHY+q50EBUumR8iaMmHj4ZEUnw4iEACA+9X1GvAMbyRyCreu83P+9srIRWaxmQCPeKvTkwXIcuAcv8rPM8HxwAmUH3t4RdNEpJaWzBMJqug5hmuNgTnbBseni6bT0b4WABgXRR4q1UcxqnLj6CItJxPDXm4hPP3JXGwgovjvnwXrntLqxIS4Sln9TzQNlXBx/ce4qcexaU2uo7/9RM8MUkdrYpvFrkKHSl6ZlBe8SkZBNm4DVbuC+ElggdO7wmEF5VroIf6a16niahqagiZocMAlAACMUyzhpDKAAAAwAAAwAAAwAAAwAAAwAAAwAAGZEAAAA8QZokbEO//qmWACypYHs3X80gJofOAfr1BxpIoZnG5oUtTjnLJqheQN2m+gFoI5RwDQK+9uRRcOAKAAbUAAAADkGeQniFfwAAAwAAAwJvAAAADgGeYXRCvwAAAwAAAwJvAAAADgGeY2pCvwAAAwAAAwJuAAAAX0GaaEmoQWiZTAh3//6plgAUteiwlIBCPXPgG0ErYjf/6/hreRLDhjFQwnKZIGl40F+kYe44d9Lo5g5+lOo3rrwgq/wTrTkOYL2v0LzXUEgYJhzNabDUdgl2EvPBAAKaAAAAFkGehkURLC//AAT5hyA/XgJiCBkAPSEAAAAOAZ6ldEK/AAADAAADAm4AAAAPAZ6nakK/AACxNPFAAJuBAAAAVUGarEmoQWyZTAh3//6plgAsmDppsC/SWdiAkniUiIDiGVsPFNirjALhkzZeC7QkmTgXsvIKSp/cxsb2Z9AFkeJOTdy7/LfpSHmpI2QJEMbHfBgAB0wAAAAYQZ7KRRUsL/8ACoZF16cHTRBzrSBcgArZAAAADgGe6XRCvwAAAwAAAwJvAAAADgGe62pCvwAAAwAAAwJvAAAAbEGa8EmoQWyZTAh3//6plgAszMmfZu3YDNJ9Chd2i3Thx5pybXiF2cV3aX7tESP718z0wc6myBpmTMs/nMGBcxATSq7NHJh0B3IQKv/AFqdalI0wzYbykOCtWGk9X9tLzTKhlkDbVT4S0BIBxwAAABdBnw5FFSwv/wAKhkXz78knHrnBwACtgAAAAA8Bny10Qr8AAA/fAVgAP8AAAAAOAZ8vakK/AAADAAADAm8AAAB1QZs0SahBbJlMCHf//qmWACuyyq+/6C5NTGICAvLn7kxP1WPP1mzbgGGHDzmpNVJdsXl6SBB+Gwb0YoDsUg9p8TtfMEk3OGOlHRWqvBANfm4spx/qRuPrHTpq56fm1ylFFzGzU0VZGNh/cXRoPBVoyJEYKAdUAAAAFkGfUkUVLC//AAqGRfRrPSHIOSaAASsAAAAOAZ9xdEK/AAADAAADAm8AAAAOAZ9zakK/AAADAAADAm8AAACCQZt4SahBbJlMCHf//qmWACysDLgwDUg1ngWBMA4eKxU8co5oC07ahNUN3CwO+o714XhwbCXvLBTYWiO5OhPbFUYXa9ozWuiV+4vJnaH3FKcssJxKdxjJp/nnF/NpYpQAtHvUEtnK4f9vYAdHiksz8a9E7CwDfbHkuVUUbHFIgAAkYQAAACBBn5ZFFSwv/wAKhkXz78nMNfpsNXkXE8p/tIaBQADlgAAAAA4Bn7V0Qr8AAAMAAAMCbgAAAA8Bn7dqQr8AACW6/igAW0EAAABfQZu8SahBbJlMCHf//qmWABSbpj1Ttacy4PL+hn/Nv/Q2DAJksQLtqucA1XApRrr+5yDSX1PiofQAuxeSSAV/+s9Z7ptQu5NaQjI0qLyk//rRVphyGSBrr+QxZtwAJeAAAAAdQZ/aRRUsL/8AGIJBoknqChPpwVOSE7mCQoAABswAAAAPAZ/5dEK/AAAlroWoAFtBAAAADwGf+2pCvwAAJbr+KABbQAAAAFtBm+BJqEFsmUwId//+qZYALJg6YcVWqqAyi1/zy4HCZVge6KHQWpek2rE5Wzj3ZP9g6I4ygjTBT3MbEvCwhdzW+TC5a1cIRYWILUxjLgtI34sO75faH2AgAJOBAAAAGUGeHkUVLC//AAUdis1MT4tYZEagM+uwAXkAAAATAZ49dEK/AAbn/jHGabScoABQwAAAABEBnj9qQr8ABpnSyOK+8gAUkQAAAGBBmiRJqEFsmUwId//+qZYAK3eqtcDkZd1GwH8j2aDpobaGAQoxQp4DQGfKlGvpitLkSyWs/IF01+L7Z0ocYBc6ZKXJbJcH/zwnbW06OpmT8dx75dyddgYYHmfguFgAJGAAAAAZQZ5CRRUsL/8AMkGkQE9oD7wYfOKa5AAk4QAAABEBnmF0Qr8ABpf6sNUpJAAi4QAAABEBnmNqQr8ABpnSyOK+8gAUkAAAAENBmmhJqEFsmUwId//+qZYACYI/v9Rxmlb3e8MQiwDP5dEJ5d+2EQHG349y+ifOBAHYh9HeTjCOVtMs8tkPhFjaYBQQAAAAF0GehkUVLC//AATXzmPiZtnQ9S8WABZxAAAAEQGepXRCvwAGl/qw1SkkACLgAAAAEQGep2pCvwAGmdLI4r7yABSRAAAATEGarEmoQWyZTAh3//6plgAsrceidpS23QCtONJ52CSEZ4Ql728ItkIKjkF4IRnJvj7LlAs+GIK1DZtoC9AOZZY0GKjxPkup7wq8A6YAAAAXQZ7KRRUsL/8ABNfOY+Jm2dD1LxYAFnEAAAARAZ7pdEK/AAaX+rDVKSQAIuEAAAARAZ7rakK/AAaZ0sjivvIAFJEAAAA8QZrwSahBbJlMCHf//qmWACt3m4QE0XHIyzlqQ0kIT4nm+0Oyu3U1BVEAR/QsYq4XiJkCWsjPokKQAFJBAAAAF0GfDkUVLC//AATXzmPiZtnQ9S8WABZwAAAAEQGfLXRCvwAGl/qw1SkkACLgAAAAEQGfL2pCvwAGmdLI4r7yABSRAAAAQ0GbNEmoQWyZTAh3//6plgAUtei/wHbmqtC2XcQs8MECzM94giVCpeBQW1PM7SMcwZUQOtdSEZUyglTPPkOCjxAAAekAAAAXQZ9SRRUsL/8ABNfOY+Jm2dD1LxYAFnAAAAARAZ9xdEK/AAaX+rDVKSQAIuEAAAARAZ9zakK/AAaZ0sjivvIAFJEAAABNQZt4SahBbJlMCHf//qmWACzG/hdAGvqffP8BJ7PzWljwzseG1Pzq64WQW5pd2QV9oWBHY1w8H5qwiSXC/L+hHcEkNyBU4gP2G6AAAV8AAAAZQZ+WRRUsL/8ABNfOY+Jm2dD1L14f/wBSQAAAABEBn7V0Qr8ABpf6sNUpJAAi4AAAABEBn7dqQr8ABpnSyOK+8gAUkQAAAEJBm7xJqEFsmUwId//+qZYACYVciiBfKoUUO+tyHN6PQD0fFa0LqvyOonZUqXji1+oYa2tolRAs7SYY9SSex8+AAtoAAAAXQZ/aRRUsL/8ABNfOY+Jm2dD1LxYAFnAAAAARAZ/5dEK/AAaX+rDVKSQAIuEAAAARAZ/7akK/AAaZ0sjivvIAFJAAAABuQZvgSahBbJlMCHf//qmWACur7VAATfApsPz/KM0457+2n/q8Qdmo0/OIuVLSveAQynmLJPqcrvChawQ/6fb7H8bFTRC6Y+C8UKMPk5JMUcKaIqd817ksiCyniXA9kZ+GISCwficaVq+fAeaAGBEAAAAbQZ4eRRUsL/8ABNfObgmI/N4MB2gkhSNQAKSBAAAAEQGePXRCvwAGl/qw1SkkACLgAAAAEQGeP2pCvwAGmdLI4r7yABSRAAAATUGaJEmoQWyZTAh3//6plgAsq7dE1RyAmi67rYmVu+mNAjzLyaIcd9RTFlXIuICNAar9+Ivo24TmRXSLUEHJeoVJhVHRb+ffl2MCgAGzAAAAGUGeQkUVLC//AAUdiwfN/FqoMPnFNcgAScEAAAATAZ5hdEK/AAbn/jHGabScoABQwQAAABEBnmNqQr8ABpnSyOK+8gAUkAAAAGZBmmhJqEFsmUwId//+qZYALK2mT+h7uuEByd94ycocVj6UFPnd/0OY6Xk4l+fp1aus68gFJN2PU82AQTA1keDlUub7osg9MqJgHmukJfiWY+J2Ys3tMulxuKncPiKl50KonqfABiwAAAAXQZ6GRRUsL/8ABNfOY+Jm2dD1LxYAFnEAAAARAZ6ldEK/AAaX+rDVKSQAIuAAAAARAZ6nakK/AAaZ0sjivvIAFJEAAABBQZqsSahBbJlMCHf//qmWAAkCML7jZ0FYJ+MiBvUkB4Ei9ISLs/HOR4uc2mfloA6TNdDMm62QbhuJ3z/cW0AA6YAAAAAbQZ7KRRUsL/8ABNfOY+Jm2dD1L7JAM+sAAFbBAAAAEQGe6XRCvwAGl/qw1SkkACLhAAAAEQGe62pCvwAGmdLI4r7yABSRAAAASEGa8EmoQWyZTAh3//6plgAUsOeYnVA1LUtdWQMDX6+qjdaAoEB4LvQymOKrapKoNZFH8Njc+HNzWhZgp3G8HCigthuYHIDZgQAAABlBnw5FFSwv/wAE185j4mbZ0PUvJaJvEBQQAAAAEQGfLXRCvwAGl/qw1SkkACLgAAAAEQGfL2pCvwAGmdLI4r7yABSRAAAAVEGbNEmoQWyZTAh3//6plgAsneR4AKHeJTRT3QkbWozMEh7N0CJSRhsvfhFUw5r0vT8CcHCpMLx++gIpJJZB1G7DaEVkCkE8OLKGAOOM4/v+ZJAEbAAAABdBn1JFFSwv/wAE185j4mbZ0PUvFgAWcAAAABEBn3F0Qr8ABpf6sNUpJAAi4QAAABEBn3NqQr8ABpnSyOK+8gAUkQAAADVBm3hJqEFsmUwId//+qZYAE4GchIKnDBX2QSi0vqbCz3WK2J6zinVZMQwv6d+KrAKFVqAu4QAAABdBn5ZFFSwv/wAE185j4mbZ0PUvFgAWcAAAABEBn7V0Qr8ABpf6sNUpJAAi4AAAABMBn7dqQr8AQ1V1CFfJIq++gAg5AAAAP0GbvEmoQWyZTAh3//6plgAUo//EAgXdOFq957qy8TSOAiRAw5XEj3e2jvp8Qudyf12RyxheHSpa2umcN4AOmAAAABtBn9pFFSwv/wAyOjPff08GBjRIQ6hMuUAAN6AAAAARAZ/5dEK/AAaX+rDVKSQAIuEAAAARAZ/7akK/AAaZ0sjivvIAFJAAAAAiQZvgSahBbJlMCHf//qmWABSkjuw8K9mi7DKeC774GwCHgQAAABlBnh5FFSwv/wAyOjPff08GBg0YAW1yABJxAAAAEQGePXRCvwAGl/qw1SkkACLgAAAAEQGeP2pCvwAGmdLI4r7yABSRAAAALEGaJEmoQWyZTAh3//6plgAsxOhPZr4bHwGn5uIk6gLwZ4rEBM/YJHUjAIeAAAAAGUGeQkUVLC//ADI6M99/TwYGDRgBbXIAEnEAAAARAZ5hdEK/AAaX+rDVKSQAIuEAAAARAZ5jakK/AAaZ0sjivvIAFJAAAABGQZpoSahBbJlMCHf//qmWACpbGwkoS9+0Yxk8OGRATGEjsxn8mBiWsyKEL+sgNWSw1l4F5xSjwj0bBaGrtf5NPGpYhngSMAAAABlBnoZFFSwv/wAE185j4mbZ0PUvVh//AFtBAAAAEQGepXRCvwAGl/qw1SkkACLgAAAAEQGep2pCvwAGmdLI4r7yABSRAAAAK0GarEmoQWyZTAh3//6plgAsxv4ngAnXB+kdD5hw3wXrr/yRShv5OG2AekAAAAAXQZ7KRRUsL/8ABNfOY+Jm2dD1LxYAFnEAAAARAZ7pdEK/AAaX+rDVKSQAIuEAAAARAZ7rakK/AAaZ0sjivvIAFJEAAAAzQZrwSahBbJlMCHf//qmWACyd6KQDeG/XKmDNVfGWmufL4engX/xk436A8h3D5MGMgAg5AAAAF0GfDkUVLC//AATXzmPiZtnQ9S8WABZwAAAAEQGfLXRCvwAGl/qw1SkkACLgAAAAEQGfL2pCvwAGmdLI4r7yABSRAAAAOkGbNEmoQWyZTAh3//6plgACAI/wAhD2UcAeQTJhGTYO0JIsasBQERG1mENNUm1kUSl1lAIOelNAGBAAAAAXQZ9SRRUsL/8ABNfOY+Jm2dD1LxYAFnAAAAARAZ9xdEK/AAaX+rDVKSQAIuEAAAARAZ9zakK/AAaZ0sjivvIAFJEAAABAQZt4SahBbJlMCHf//qmWABQTVxRwH7WLjtkstgI0qYzWI0T6ZU0InTne0/Kr5eeS3j0IvAe3KeGB6eDo0CAdMQAAABdBn5ZFFSwv/wAE185j4mbZ0PUvFgAWcAAAABEBn7V0Qr8ABpf6sNUpJAAi4AAAABEBn7dqQr8ABpnSyOK+8gAUkQAAAFZBm7xJqEFsmUwId//+qZYACQI1b1X0ucJATpZ7IZ4y3nyP8J/gENliGSydAyYHdKUuYB9BCpHdzgtZ7w3phFI8znf+SuDagWyQM6pxJXvGcPUhuKAKGAAAABdBn9pFFSwv/wAE185j4mbZ0PUvFgAWcAAAABEBn/l0Qr8ABpf6sNUpJAAi4QAAABEBn/tqQr8ABpnSyOK+8gAUkAAAAD1Bm+BJqEFsmUwId//+qZYAFJ7yPAC70twy7ruH9wQCHL2f6HQJ651bncOSqyl1cIgN/o18uQvYKPfAABBxAAAAF0GeHkUVLC//AATXzmPiZtnQ9S8WABZxAAAAEQGePXRCvwAGl/qw1SkkACLgAAAAEQGeP2pCvwAGmdLI4r7yABSRAAAAN0GaJEmoQWyZTAh3//6plgAEQFTFLjbV0cXHElKAdFmX44PCZXCoJFNykRnSfDsuh+zAoKhQAsoAAAAXQZ5CRRUsL/8ABNfOY+Jm2dD1LxYAFnEAAAARAZ5hdEK/AAaX+rDVKSQAIuEAAAARAZ5jakK/AAaZ0sjivvIAFJAAAAAqQZpoSahBbJlMCHf//qmWAAALJ3x+gMbh7zutKdIjEDINGQo9nq6VHAPWAAAAF0GehkUVLC//AATXzmPiZtnQ9S8WABZxAAAAEQGepXRCvwAGl/qw1SkkACLgAAAAEQGep2pCvwAGmdLI4r7yABSRAAAAMkGarEmoQWyZTAh3//6plgAAMVScNWnXfS6Pdc9WjI3v0pE7SdZ6KTlkEcsO90J0gALKAAAAF0GeykUVLC//AATXzmPiZtnQ9S8WABZxAAAAEQGe6XRCvwAGl/qw1SkkACLhAAAAEQGe62pCvwAGmdLI4r7yABSRAAAAH0Ga8EmoQWyZTAh3//6plgAAAwIAwlpmoIRVQ/6AGfEAAAAXQZ8ORRUsL/8ABNfOY+Jm2dD1LxYAFnAAAAARAZ8tdEK/AAaX+rDVKSQAIuAAAAARAZ8vakK/AAaZ0sjivvIAFJEAAAAdQZs0SahBbJlMCHf//qmWAAmFZPsQBRFYEQAAK2AAAAAXQZ9SRRUsL/8ABNfOY+Jm2dD1LxYAFnAAAAARAZ9xdEK/AAaX+rDVKSQAIuEAAAARAZ9zakK/AAaZ0sjivvIAFJEAAAAZQZt4SahBbJlMCHf//qmWAADeVTvfeAAEXQAAABdBn5ZFFSwv/wAE185j4mbZ0PUvFgAWcAAAABEBn7V0Qr8ABpf6sNUpJAAi4AAAABEBn7dqQr8ABpnSyOK+8gAUkQAAAC9Bm7xJqEFsmUwId//+qZYACP/7n6H3q0yv2wATrZp0x5Qvuxvgh7JNL3cZUHAJmAAAABdBn9pFFSwv/wAE185j4mbZ0PUvFgAWcAAAABEBn/l0Qr8ABpf6sNUpJAAi4QAAABEBn/tqQr8ABpnSyOK+8gAUkAAAACBBm+BJqEFsmUwId//+qZYAADFUnDVpLWyEswJE9SAIeQAAABlBnh5FFSwv/wAE185j4mbZ1EeamFK1QAelAAAAEQGePXRCvwAGl/qw1SkkACLgAAAAEQGeP2pCvwAGmdLI4r7yABSRAAAAJ0GaJEmoQWyZTAh3//6plgAACyd6KQI0aRCLfhQa9FQ9nzsTHwB6wAAAABlBnkJFFSwv/wAE185j4mbZ0PUvqj/+AFBBAAAAEQGeYXRCvwAGl/qw1SkkACLhAAAAEQGeY2pCvwAGmdLI4r7yABSQAAAAMEGaaEmoQWyZTAh3//6plgAEX+zx7mw8KQib0yuAGA5bZQAUEQKy2S0P9vAdv0CRgAAAABhBnoZFFSwv/wAE185j4mbZ1JrPqC7gA1MAAAARAZ6ldEK/AAaX+rDVKSQAIuAAAAARAZ6nakK/AAaZ0sjivvIAFJEAAAA4QZqsSahBbJlMCHf//qmWABOBVnHEt8maYwlIloGXesIDi8ah71ze+pKzFnZFtxWjtS2xMiqgIeAAAAAXQZ7KRRUsL/8ABNfOY+Jm2dD1LxYAFnEAAAARAZ7pdEK/AAaX+rDVKSQAIuEAAAARAZ7rakK/AAaZ0sjivvIAFJEAAAA7QZrwSahBbJlMCHf//qmWACt8bfABzzf2PsRWKVpzK2da6Z342K5x90BL5svm+WbunBdP4d7zTAHqAwMAAAAXQZ8ORRUsL/8ABNfOY+Jm2dD1LxYAFnAAAAARAZ8tdEK/AAaX+rDVKSQAIuAAAAARAZ8vakK/AAaZ0sjivvIAFJEAAAAlQZs0SahBbJlMCHf//qmWAAAxUf4W0UZWJzPvjHpl+hl6PRgHHAAAABdBn1JFFSwv/wAE185j4mbZ0PUvFgAWcAAAABEBn3F0Qr8ABpf6sNUpJAAi4QAAABEBn3NqQr8ABpnSyOK+8gAUkQAAAB5Bm3hJqEFsmUwId//+qZYAAd1PZ7tRLMVaSbSAAwMAAAAXQZ+WRRUsL/8ABNfOY+Jm2dD1LxYAFnAAAAARAZ+1dEK/AAaX+rDVKSQAIuAAAAARAZ+3akK/AAaZ0sjivvIAFJEAAAAeQZu8SahBbJlMCHf//qmWAABqQz2IDlGwt+rTAAQ8AAAAF0Gf2kUVLC//AATXzmPiZtnQ9S8WABZwAAAAEQGf+XRCvwAGl/qw1SkkACLhAAAAEQGf+2pCvwAGmdLI4r7yABSQAAAAIUGb4EmoQWyZTAh3//6plgAJgfWWADlFESUs3z534wAGBQAAABdBnh5FFSwv/wAE185j4mbZ0PUvFgAWcQAAABEBnj10Qr8ABpf6sNUpJAAi4AAAABEBnj9qQr8ABpnSyOK+8gAUkQAAACxBmiRJqEFsmUwId//+qZYACYXpKieUbSmUCYQlAjmuWUP+S3i0pbisnAAUkAAAABdBnkJFFSwv/wAE185j4mbZ0PUvFgAWcQAAABEBnmF0Qr8ABpf6sNUpJAAi4QAAABEBnmNqQr8ABpnSyOK+8gAUkAAAACtBmmhJqEFsmUwId//+qZYAAgCwSAQLUUps/RcolTi/LLw5t3p3o+Y2wBxwAAAAF0GehkUVLC//AATXzmPiZtnQ9S8WABZxAAAAEQGepXRCvwAGl/qw1SkkACLgAAAAEQGep2pCvwAGmdLI4r7yABSRAAAAM0GarEmoQWyZTAh3//6plgACAH1lgBYObbIPQJI/Zt43HOKip5ebsHId0LUuiHHeq1QCkgAAABlBnspFFSwv/wAE185j4mbZ0PUvORWvuAVNAAAAEQGe6XRCvwAGl/qw1SkkACLhAAAAEQGe62pCvwAGmdLI4r7yABSRAAAAJkGa8EmoQWyZTAh3//6plgACAH1lgBYyYzNxOqq/Y1AzxPQtAAN7AAAAF0GfDkUVLC//AATXzmPiZtnQ9S8WABZwAAAAEQGfLXRCvwAGl/qw1SkkACLgAAAAEQGfL2pCvwAGmdLI4r7yABSRAAAAJkGbNEmoQWyZTAh3//6plgACALBXsVXW+QL09nRC8TwY7xyffAG1AAAAF0GfUkUVLC//AATXzmPiZtnQ9S8WABZwAAAAEQGfcXRCvwAGl/qw1SkkACLhAAAAEQGfc2pCvwAGmdLI4r7yABSRAAAALEGbeEmoQWyZTAh3//6plgAUDCYEgWopge+tBqzXUKgEnQHMyeKXPsfb4AFTAAAAF0GflkUVLC//AATXzmPiZtnQ9S8WABZwAAAAEQGftXRCvwAGl/qw1SkkACLgAAAAEQGft2pCvwAGmdLI4r7yABSRAAAAJ0GbvEmoQWyZTAh3//6plgAUDf8IFm5okpaitPRavi2mRo+LZ4AB3QAAABdBn9pFFSwv/wAE185j4mbZ0PUvFgAWcAAAABEBn/l0Qr8ABpf6sNUpJAAi4QAAABEBn/tqQr8ABpnSyOK+8gAUkAAAACRBm+BJqEFsmUwId//+qZYAAGej/CBfj+xY5Qm4rKp+FhAgAQ8AAAAXQZ4eRRUsL/8ABNfOY+Jm2dD1LxYAFnEAAAARAZ49dEK/AAaX+rDVKSQAIuAAAAARAZ4/akK/AAaZ0sjivvIAFJEAAAAlQZokSahBbJlMCHf//qmWAABqHOmjmQL0/lI3+Nnzbp8bAAAEzAAAABdBnkJFFSwv/wAE185j4mbZ0PUvFgAWcQAAABEBnmF0Qr8ABpf6sNUpJAAi4QAAABEBnmNqQr8ABpnSyOK+8gAUkAAAAChBmmhJqEFsmUwId//+qZYAAgB9ZYAWQo2rGGRFoqnxPRI0fFlvgAxoAAAAF0GehkUVLC//AATXzmPiZtnQ9S8WABZxAAAAEQGepXRCvwAGl/qw1SkkACLgAAAAEQGep2pCvwAGmdLI4r7yABSRAAAAM0GarEmoQWyZTAh3//6plgACALBIBAtRRtZD+tPRE142mRo9IkxD/bN1Ub0llvLLnDAI+AAAABdBnspFFSwv/wAE185j4mbZ0PUvFgAWcQAAABEBnul0Qr8ABpf6sNUpJAAi4QAAABEBnutqQr8ABpnSyOK+8gAUkQAAAChBmvBJqEFsmUwId//+qZYAAgB9ZYAWDm2rGGRFoqnxPRI0fFlvgAxpAAAAF0GfDkUVLC//AATXzmPiZtnQ9S8WABZwAAAAEQGfLXRCvwAGl/qw1SkkACLgAAAAEQGfL2pCvwAGmdLI4r7yABSRAAAAKEGbNEmoQWyZTAh3//6plgACAH1lgBZCjasYNauiqfFtMjR8WW+ADGgAAAAXQZ9SRRUsL/8ABNfOY+Jm2dD1LxYAFnAAAAARAZ9xdEK/AAaX+rDVKSQAIuEAAAARAZ9zakK/AAaZ0sjivvIAFJEAAAAoQZt4SahBbJlMCHf//qmWAAIAsEgEC1FG1kQYSdETXh6JGj0iR8AGNQAAABdBn5ZFFSwv/wAE185j4mbZ0PUvFgAWcAAAABEBn7V0Qr8ABpf6sNUpJAAi4AAAABEBn7dqQr8ABpnSyOK+8gAUkQAAABZBm7lJqEFsmUwIV//+OEAAAAMAAC2gAAAIF2WIhAAR//73iB8yy2+catdyEeetLq0fUO5GcV6kvf4gAAADAAA9hYRO+pfVHWE/AABDAAG9NX9v99RLkgApTyaI/1PQs9KMBUh5XvyPSrapqleiyLAhynqcmHtNrnBoBchPHqfWqd3oeyEcHXALkHN/XMapKI4l7CjKjMoXRmKtD4ZBNlCrDpuTHZcyAQ61rsdH+g2JrOJaACotLLoLeE7CCPuzUVmFuA/Rvzv1gFoAcgOlcHwlwW4ltodW/6DHghrxdBDWM24tdAvYkgbUtr97LwLbJ0T/UJwxRCXvptO0g0Ls/XmMFN2rO8j4wUZFat5vexR4yNIfXJvmHcHf/gjXdbUoLFYdxcwdTqSt52zY4JGXfrbHH0Cy94zrVr7980sza9w4ZfLYAJEAg6nuk4+mPeRjRMZ7A6emkziDv8S8oDj1BmmAToSw9Zz0TGGFEtko7nmNsFNlmoicFb9aMnMvls+TuHT7XfHLQz3mFq+ozsLpogGvfvT+AIMD+KitGxIZU33twA6cO4AIXl94dsL0LqFApR4AJbO+LtkVTDBiuksbHHuRR6NMcIDnIYCsg9fbIw7yEe6f6CzEdP/B8uELPIFTuflbwUwopLwgDPZm0GDkO/d3megKsKxfAjcqCgXWHaPmMJnMJrJpgbITH9jYI1H02Sb2H1BdLaQU0tQhzefzSwCec9Kr7bU9gz4rmvQo2gyWyiN+MVf5dknRWevlPkvuNgvS9F3rP6rOoL7xXoinHbNXjPGbV+8/9WURw1TXBHHA7jKIMMlZmlDyGy1OMLN+tgUnQEcdRgpTPEjmJqWujSrt1zKDSwzwUJ+ZWsW6JTfPdHafiHkwz8sa8AlEhlVVx1REJvPkzCTjlqLaZYbheHFT2bGhXqPsLkQzlswNQAwNbtNqBptUSFdWe3kPkvNxuZEnwA2C6Ymai3Sbl+fJQ5BdAlung8B2h5sItCrmd5NaSeeFrvx3AS/+VhsYpAmntjy4T5aAcUpbwfwXZAEHyZTNNZHR2LWhs6gKlmLI2znT67/I27h7mdOePGEoBAP/V6b/dcqR2WM4dMkSmvHubjBzDazvtGC1MoDvHzg4dSkLjlH54y7BJjh2lu0GIh/ClTLSGe+CYeNXE+qrlfx2QI8v6sN3MPtInGsGsyQ2nHTQKxJwVa4yDu3lpOImtgB3fT6t7HssvwNRxXT0p+t01+Zrc40iCRpgBqPeCtfYdm7PLiRSFR45fA+SNEDQl/DmouFzPeUtQiMzmmX69BdGGA6vRSfsL5zEaJfVqigWoATpe+UFgYsbHI68eGYvIwMu9HkD5jTifDoSjCUhLJ+q8/0R7zQQ32Oc9JBkfpWFiZj7ddgXHJmOl0F1kYlE+Ke+mqy3o/4FIo5CAXk2W1PAAcac6buQ/ImEqxIg8tmZiLHS1Vmzy0VbEUBP/mbVAnM8qK/9GXZUqE8k2l5YC3GAVlm1UFtvSJMtWZhvjqWVFRIkusO40pFwgp+UDg9NFXR9n0eUmdlYkMCkftZ41bKPRZafezQmZXSjtulD9yLTjunl+4fzbXamvJKXgYx2OglodeVGox1QgwD4y37pF0Hon5NY21kzIlwWeqMUjmAy91FnHf6ySx91FSpkf1SEL/98jhw9Zj0wvXaBujBZEaFSOCQdL0NvOcjXdcuchl4WQMTFs6R2fM8a9VznZzCtYl4mLQJpcx7Qxp4H9y9ufyGrvIALqs50nlm8aT+BYv4R4R8lD3ZH0eeqvTP1c/sbdURzyKsPVQrclydcRV3LMdI8C7A5Sr8v76X61G7RPdmjeIehpWdcUxm6vlbGtJg+Ux0IzisacfBY81wT8orQboo2j4JOKe4NVpQf7qdTqLPOPmFt0HTbJfcy8SYi29WIZpaQ2SO2Ep0DsC/J8e/Lp0AQfL3K3sX/4ZSfmGprg7wQN09JG8h8MeQX5qB7Mog9EBm8+eOOqy0rw2qxSFYyswQS9l6V588JpvOjUpz7Jy25KkzsJK1zrIzq1AHLG380H7WGUaZ8bjBNo/wqkPnriqsEG34eaYIp/TDOX2MW9brWpixt4btU/VNjFUWf6rGTb3AcqA4RrvV5TTfcZEcs9iuCjg05zsWJ3bE66bB438QGlPGVHkwu2gLJ2XVYMC1Gv/W41zdayx5AMU/UTjUoFf5/vLRLdX+N6vmkA3ycPsCj+PuyQcvdkifxcy8jQTnMh6LoQ9qytleH1Gmmmd91YBluTmH7kADZAiEx8IHGWf/QoqTkdFtxDIIFQ/25iXyH/vJDz13QPo2lZ6mnIV9LSnro/v84wiKj6eZBruGPIKNAnDcjR4RhyHj4TLLpMLBvTLsGN7gOcRA79ksylxRe6qm56gnoPpuDbgXR8yNVkoXH+XzjAzp9hKDQbSq/NM8z72hFCUUdovzcYViZCxjPx4deWNxpR0/F9/m52SavdSJko3kG5LUxMiOh5KRQ0qGixLRAhBcDMLi/BOK+ZvVzs+8QrNdqo76+eGgDqmDHtOW+Pu/TCYvmnwbT5D8+28ySBplV1GFxLiWsWk6q3bCGpVmNB2lQfLu8bZe5f+KuWZEdGL6xJqoWSXrtpG1ilu7d/SKNe1qScBjejSbsQyu+4qPL8aXFDtlvzO323Yne0vXeH4SEXncl7qe+pS7t4w7Ry3uIjHPpHi+TmfWjcnu9mgTLa1YUAwawIYrSQ70CFLFgraFSmQ7nJ1a2YFD65OrnoWpNlJhfTOg9Tm9qj2AAB6mfAAAzgfsBcTgAAAMAAAMAAAMACHgAAAAWQZokbEO//qmWAAADAO6r8IDj6fQBvQAAAA5BnkJ4hf8AAAMAAAMBxwAAAA4BnmF0Qr8AAAMAAAMCbwAAAA4BnmNqQr8AAAMAAAMCbwAAABdBmmhJqEFomUwId//+qZYAAAMAAAMBgwAAABBBnoZFESwv/wAAAwAAAwHHAAAADgGepXRCvwAAAwAAAwJuAAAADgGep2pCvwAAAwAAAwJvAAAAF0GarEmoQWyZTAh3//6plgAAAwAAAwGDAAAAEEGeykUVLC//AAADAAADAccAAAAOAZ7pdEK/AAADAAADAm4AAAAOAZ7rakK/AAADAAADAm8AAAAXQZrwSahBbJlMCHf//qmWAAADAAADAYMAAAAQQZ8ORRUsL/8AAAMAAAMBxwAAAA4Bny10Qr8AAAMAAAMCbgAAAA4Bny9qQr8AAAMAAAMCbwAAABlBmzRJqEFsmUwId//+qZYAAGoc7L7wABJxAAAAEEGfUkUVLC//AAADAAADAccAAAAOAZ9xdEK/AAADAAADAm8AAAAOAZ9zakK/AAADAAADAm4AAAAXQZt4SahBbJlMCHf//qmWAAADAAADAYMAAAAQQZ+WRRUsL/8AAAMAAAMBxwAAAA4Bn7V0Qr8AAAMAAAMCbgAAAA4Bn7dqQr8AAAMAAAMCbgAAABdBm7xJqEFsmUwId//+qZYAAAMAAAMBgwAAABBBn9pFFSwv/wAAAwAAAwHHAAAADgGf+XRCvwAAAwAAAwJvAAAADgGf+2pCvwAAAwAAAwJuAAAAF0Gb4EmoQWyZTAh3//6plgAAAwAAAwGDAAAAEEGeHkUVLC//AAADAAADAccAAAAOAZ49dEK/AAADAAADAm4AAAAOAZ4/akK/AAADAAADAm4AAAAXQZokSahBbJlMCHf//qmWAAADAAADAYMAAAAQQZ5CRRUsL/8AAAMAAAMBxwAAAA4BnmF0Qr8AAAMAAAMCbwAAAA4BnmNqQr8AAAMAAAMCbwAAABdBmmhJqEFsmUwId//+qZYAAAMAAAMBgwAAABBBnoZFFSwv/wAAAwAAAwHHAAAADgGepXRCvwAAAwAAAwJuAAAADgGep2pCvwAAAwAAAwJvAAAAF0GarEmoQWyZTAh3//6plgAAAwAAAwGDAAAAEEGeykUVLC//AAADAAADAccAAAAOAZ7pdEK/AAADAAADAm4AAAAOAZ7rakK/AAADAAADAm8AAAAXQZrwSahBbJlMCHf//qmWAAADAAADAYMAAAAQQZ8ORRUsL/8AAAMAAAMBxwAAAA4Bny10Qr8AAAMAAAMCbgAAAA4Bny9qQr8AAAMAAAMCbwAAABdBmzRJqEFsmUwId//+qZYAAAMAAAMBgwAAABBBn1JFFSwv/wAAAwAAAwHHAAAADgGfcXRCvwAAAwAAAwJvAAAADgGfc2pCvwAAAwAAAwJuAAAAF0GbeEmoQWyZTAh3//6plgAAAwAAAwGDAAAAEEGflkUVLC//AAADAAADAccAAAAOAZ+1dEK/AAADAAADAm4AAAAOAZ+3akK/AAADAAADAm4AAAAXQZu8SahBbJlMCHf//qmWAAADAAADAYMAAAAQQZ/aRRUsL/8AAAMAAAMBxwAAAA4Bn/l0Qr8AAAMAAAMCbwAAAA4Bn/tqQr8AAAMAAAMCbgAAABdBm+BJqEFsmUwId//+qZYAAAMAAAMBgwAAABBBnh5FFSwv/wAAAwAAAwHHAAAADgGePXRCvwAAAwAAAwJuAAAADgGeP2pCvwAAAwAAAwJuAAAAF0GaJEmoQWyZTAh3//6plgAAAwAAAwGDAAAAEEGeQkUVLC//AAADAAADAccAAAAOAZ5hdEK/AAADAAADAm8AAAAOAZ5jakK/AAADAAADAm8AAAAfQZpoSahBbJlMCHf//qmWAAAE4Q9JoC4Havy+u8AGVAAAABFBnoZFFSwv/wAABdGG6QBQQQAAAA4BnqV0Qr8AAAMAAAMCbgAAAA4BnqdqQr8AAAMAAAMCbwAAABdBmqxJqEFsmUwId//+qZYAAAMAAAMBgwAAABBBnspFFSwv/wAAAwAAAwHHAAAADgGe6XRCvwAAAwAAAwJuAAAADgGe62pCvwAAAwAAAwJvAAAAF0Ga8EmoQWyZTAh3//6plgAAAwAAAwGDAAAAEEGfDkUVLC//AAADAAADAccAAAAOAZ8tdEK/AAADAAADAm4AAAAOAZ8vakK/AAADAAADAm8AAAAXQZs0SahBbJlMCHf//qmWAAADAAADAYMAAAAQQZ9SRRUsL/8AAAMAAAMBxwAAAA4Bn3F0Qr8AAAMAAAMCbwAAAA4Bn3NqQr8AAAMAAAMCbgAAABdBm3hJqEFsmUwId//+qZYAAAMAAAMBgwAAABBBn5ZFFSwv/wAAAwAAAwHHAAAADgGftXRCvwAAAwAAAwJuAAAADgGft2pCvwAAAwAAAwJuAAAAF0GbvEmoQWyZTAh3//6plgAAAwAAAwGDAAAAEEGf2kUVLC//AAADAAADAccAAAAOAZ/5dEK/AAADAAADAm8AAAAOAZ/7akK/AAADAAADAm4AAAAXQZvgSahBbJlMCHf//qmWAAADAAADAYMAAAAQQZ4eRRUsL/8AAAMAAAMBxwAAAA4Bnj10Qr8AAAMAAAMCbgAAAA4Bnj9qQr8AAAMAAAMCbgAAABdBmiRJqEFsmUwId//+qZYAAAMAAAMBgwAAABBBnkJFFSwv/wAAAwAAAwHHAAAADgGeYXRCvwAAAwAAAwJvAAAADgGeY2pCvwAAAwAAAwJvAAAAF0GaaEmoQWyZTAh3//6plgAAAwAAAwGDAAAAEEGehkUVLC//AAADAAADAccAAAAOAZ6ldEK/AAADAAADAm4AAAAOAZ6nakK/AAADAAADAm8AAAAXQZqsSahBbJlMCHf//qmWAAADAAADAYMAAAAQQZ7KRRUsL/8AAAMAAAMBxwAAAA4Bnul0Qr8AAAMAAAMCbgAAAA4BnutqQr8AAAMAAAMCbwAAABdBmvBJqEFsmUwId//+qZYAAAMAAAMBgwAAABBBnw5FFSwv/wAAAwAAAwHHAAAADgGfLXRCvwAAAwAAAwJuAAAADgGfL2pCvwAAAwAAAwJvAAAAF0GbNEmoQWyZTAh3//6plgAAAwAAAwGDAAAAEEGfUkUVLC//AAADAAADAccAAAAOAZ9xdEK/AAADAAADAm8AAAAOAZ9zakK/AAADAAADAm4AAAAXQZt4SahBbJlMCHf//qmWAAADAAADAYMAAAAQQZ+WRRUsL/8AAAMAAAMBxwAAAA4Bn7V0Qr8AAAMAAAMCbgAAAA4Bn7dqQr8AAAMAAAMCbgAAABdBm7xJqEFsmUwId//+qZYAAAMAAAMBgwAAABBBn9pFFSwv/wAAAwAAAwHHAAAADgGf+XRCvwAAAwAAAwJvAAAADgGf+2pCvwAAAwAAAwJuAAAAF0Gb4EmoQWyZTAh3//6plgAAAwAAAwGDAAAAEEGeHkUVLC//AAADAAADAccAAAAOAZ49dEK/AAADAAADAm4AAAAOAZ4/akK/AAADAAADAm4AAAAXQZokSahBbJlMCHf//qmWAAADAAADAYMAAAAQQZ5CRRUsL/8AAAMAAAMBxwAAAA4BnmF0Qr8AAAMAAAMCbwAAAA4BnmNqQr8AAAMAAAMCbwAAABdBmmhJqEFsmUwId//+qZYAAAMAAAMBgwAAABBBnoZFFSwv/wAAAwAAAwHHAAAADgGepXRCvwAAAwAAAwJuAAAADgGep2pCvwAAAwAAAwJvAAAAF0GarEmoQWyZTAh3//6plgAAAwAAAwGDAAAAEEGeykUVLC//AAADAAADAccAAAAOAZ7pdEK/AAADAAADAm4AAAAOAZ7rakK/AAADAAADAm8AAAAXQZrwSahBbJlMCHf//qmWAAADAAADAYMAAAAQQZ8ORRUsL/8AAAMAAAMBxwAAAA4Bny10Qr8AAAMAAAMCbgAAAA4Bny9qQr8AAAMAAAMCbwAAABdBmzRJqEFsmUwId//+qZYAAAMAAAMBgwAAABBBn1JFFSwv/wAAAwAAAwHHAAAADgGfcXRCvwAAAwAAAwJvAAAADgGfc2pCvwAAAwAAAwJuAAAAF0GbeEmoQWyZTAh3//6plgAAAwAAAwGDAAAAEEGflkUVLC//AAADAAADAccAAAAOAZ+1dEK/AAADAAADAm4AAAAOAZ+3akK/AAADAAADAm4AAAAXQZu8SahBbJlMCHf//qmWAAADAAADAYMAAAAQQZ/aRRUsL/8AAAMAAAMBxwAAAA4Bn/l0Qr8AAAMAAAMCbwAAAA4Bn/tqQr8AAAMAAAMCbgAAABdBm+BJqEFsmUwId//+qZYAAAMAAAMBgwAAABBBnh5FFSwv/wAAAwAAAwHHAAAADgGePXRCvwAAAwAAAwJuAAAADgGeP2pCvwAAAwAAAwJuAAAAF0GaJEmoQWyZTAh3//6plgAAAwAAAwGDAAAAEEGeQkUVLC//AAADAAADAccAAAAOAZ5hdEK/AAADAAADAm8AAAAOAZ5jakK/AAADAAADAm8AAAAXQZpoSahBbJlMCHf//qmWAAADAAADAYMAAAAQQZ6GRRUsL/8AAAMAAAMBxwAAAA4BnqV0Qr8AAAMAAAMCbgAAAA4BnqdqQr8AAAMAAAMCbwAAABdBmqxJqEFsmUwId//+qZYAAAMAAAMBgwAAABBBnspFFSwv/wAAAwAAAwHHAAAADgGe6XRCvwAAAwAAAwJuAAAADgGe62pCvwAAAwAAAwJvAAAAF0Ga8EmoQWyZTAh3//6plgAAAwAAAwGDAAAAEEGfDkUVLC//AAADAAADAccAAAAOAZ8tdEK/AAADAAADAm4AAAAOAZ8vakK/AAADAAADAm8AAAAXQZs0SahBbJlMCHf//qmWAAADAAADAYMAAAAQQZ9SRRUsL/8AAAMAAAMBxwAAAA4Bn3F0Qr8AAAMAAAMCbwAAAA4Bn3NqQr8AAAMAAAMCbgAAABdBm3hJqEFsmUwId//+qZYAAAMAAAMBgwAAABBBn5ZFFSwv/wAAAwAAAwHHAAAADgGftXRCvwAAAwAAAwJuAAAADgGft2pCvwAAAwAAAwJuAAAAF0GbvEmoQWyZTAh3//6plgAAAwAAAwGDAAAAEEGf2kUVLC//AAADAAADAccAAAAOAZ/5dEK/AAADAAADAm8AAAAOAZ/7akK/AAADAAADAm4AAAAXQZvgSahBbJlMCHf//qmWAAADAAADAYMAAAAQQZ4eRRUsL/8AAAMAAAMBxwAAAA4Bnj10Qr8AAAMAAAMCbgAAAA4Bnj9qQr8AAAMAAAMCbgAAABdBmiRJqEFsmUwId//+qZYAAAMAAAMBgwAAABBBnkJFFSwv/wAAAwAAAwHHAAAADgGeYXRCvwAAAwAAAwJvAAAADgGeY2pCvwAAAwAAAwJvAAAAF0GaaEmoQWyZTAh3//6plgAAAwAAAwGDAAAAEEGehkUVLC//AAADAAADAccAAAAOAZ6ldEK/AAADAAADAm4AAAAOAZ6nakK/AAADAAADAm8AAAAXQZqsSahBbJlMCHf//qmWAAADAAADAYMAAAAQQZ7KRRUsL/8AAAMAAAMBxwAAAA4Bnul0Qr8AAAMAAAMCbgAAAA4BnutqQr8AAAMAAAMCbwAAABdBmvBJqEFsmUwId//+qZYAAAMAAAMBgwAAABBBnw5FFSwv/wAAAwAAAwHHAAAADgGfLXRCvwAAAwAAAwJuAAAADgGfL2pCvwAAAwAAAwJvAAAAF0GbNEmoQWyZTAh3//6plgAAAwAAAwGDAAAAEEGfUkUVLC//AAADAAADAccAAAAOAZ9xdEK/AAADAAADAm8AAAAOAZ9zakK/AAADAAADAm4AAAAXQZt4SahBbJlMCHf//qmWAAADAAADAYMAAAAQQZ+WRRUsL/8AAAMAAAMBxwAAAA4Bn7V0Qr8AAAMAAAMCbgAAAA4Bn7dqQr8AAAMAAAMCbgAAABdBm7xJqEFsmUwId//+qZYAAAMAAAMBgwAAABBBn9pFFSwv/wAAAwAAAwHHAAAADgGf+XRCvwAAAwAAAwJvAAAADgGf+2pCvwAAAwAAAwJuAAAAF0Gb4EmoQWyZTAh3//6plgAAAwAAAwGDAAAAEEGeHkUVLC//AAADAAADAccAAAAOAZ49dEK/AAADAAADAm4AAAAOAZ4/akK/AAADAAADAm4AAAAXQZokSahBbJlMCHf//qmWAAADAAADAYMAAAAQQZ5CRRUsL/8AAAMAAAMBxwAAAA4BnmF0Qr8AAAMAAAMCbwAAAA4BnmNqQr8AAAMAAAMCbwAAABdBmmhJqEFsmUwId//+qZYAAAMAAAMBgwAAABBBnoZFFSwv/wAAAwAAAwHHAAAADgGepXRCvwAAAwAAAwJuAAAADgGep2pCvwAAAwAAAwJvAAAAF0GarEmoQWyZTAh3//6plgAAAwAAAwGDAAAAEEGeykUVLC//AAADAAADAccAAAAOAZ7pdEK/AAADAAADAm4AAAAOAZ7rakK/AAADAAADAm8AAAAXQZrwSahBbJlMCHf//qmWAAADAAADAYMAAAAQQZ8ORRUsL/8AAAMAAAMBxwAAAA4Bny10Qr8AAAMAAAMCbgAAAA4Bny9qQr8AAAMAAAMCbwAAABdBmzRJqEFsmUwId//+qZYAAAMAAAMBgwAAABBBn1JFFSwv/wAAAwAAAwHHAAAADgGfcXRCvwAAAwAAAwJvAAAADgGfc2pCvwAAAwAAAwJuAAAAF0GbeEmoQWyZTAh3//6plgAAAwAAAwGDAAAAEEGflkUVLC//AAADAAADAccAAAAOAZ+1dEK/AAADAAADAm4AAAAOAZ+3akK/AAADAAADAm4AAAAWQZu5SahBbJlMCFf//jhAAAADAAAtoQAACCtliIIABH/+94gfMstvnGrXchHnrS6tH1DuRnFepL3+IAAAAwAAPYWETvqX1R1hPwAAQwABvTV/b/fUS5IAKU8miP9T0LPSjAVIeV78j0q2qapXosiwIcp6nJh7Ta5waAXITx6n1qnd6HshHB1wC5Bzf1zGqSiOJewoyozKF0ZirQ+GQTZQqw83KMgSvepcJ+eUl+Zi2csVRACotLLoLeE7CCPuzUVmFuA/Rvzv1gFoAcuPa2oJbVhYoVhhM7TTaLAdgk5NHI+y0aGtZH+S+2tkzi8p8Bt3MajRQq/NizuWbmhdn68yOVEpC8/PwUE8N86/od9LpEZEO1hnxXDBN8eNI+9+fqWm0JqS5ugOqPWw+2hmjF2sr6B1Sudiaqnt8ALqElOnbNr2pkZN2wAR1ujIdPHCJMpBzOJzHHQIKEpyz/DPkVrlcVzK1Sqce0yRwXa9Sl1XG3JiV/zqdBGaiJwVeEoycy35V/pCHT7jLDZQq1Qk2N6uNv2Q7UMZyYFMgm/LZHLQGmEmPuEwdwMQoIRD+AjfZiCUnXW2wlaPASKfroy+Sqca/eYCprHG/NqX+6VvrpmOez4mV84awq4Z/pAZyPgJIb2eZMrjiWHX84JsBYa2UCZkdg4AIgihtbebgFiXqKVXSfmrMfSAGTZYlfWo3OH+NYPOx4kKeE8EgqECJH9rhNuYp+SxXm+ovSXWa2pRGJXYGEmceMD8EcG1pRCzFOqmaMpSRmL9b8ILAXegjGGxjCCAS49ZLdPfYN3ZZYiVe5jMfi95FggLJBU86+VkcHIuWwKLLeXynRu53Jch+jI5bXlIrkK/A9GYKalcA4vbO2+k0ys2QWf4NakBun5cpnrLOjRv97LHf64sZM9k3k162LqVv9lTcMw6YhBaUTUVFLrSK09IMzP8fxPmYk14PvR54UqXqQOvRpv2hTC995fyVZmUnDo4WhS0JCyBOcG9ZLSjNOn3XAoeSy6nro+jXznt/g9tTOyuUc1ahMMCuGGA1wbgOQDxgwA/Na6EgFw9Dbo7PraNr9YNPuvsI/nFLh0Kp4aCwSglNaDjbRWDO1Mo4zxhnHwpV3n1sygJwZURWv9EPDtIH83zCQobsaqQrQGd0nPXwUW15Vi5bIh8DJRmMYjtB4Rz3brmnyxFiMhgAA/PUKo2DJPII9bZnxnU6DyLpGN3fQWzxBUhbGQkAOdvFLh5SCU/9vjlXLW5xpEEjTADeW2hklE8EfIpfDd31m0elDEVzb8lUHU8xbaK4bOHU9rmjEMhJbRX4tbKeYGUbYyoLwlbUKLkfMUgCazNnC4q1CUp8IkdAKv+QVVav0mqpzqBTnGcpgLN4l/G4JQxE42GjyK8HEnl7gHY/Kzg6WLRWaJatjjvHfr55Fh66eyEpHsdw8yUDrEhyJ5GGPQtoBK+yjaZzrM5cM9YYjSndU/auzhThX+gxlhf1aYmpxs/t3aWHQgae6ber3hLx/smr9w6IopnWdNWWe8BFqIgJZ/iMZh2Uuz99j5GJDOw1X6spQz2w/B4TD4HWMeRE80grui1+GvpoOlibBpZ3D65t3KthcB2Ux//CFHZqP/3269Bq+14jHUOd3UBSdaXJWA60BKjQL9qRodVwVz5W0jfhJal+VOrIo3BQrCwg/2KGgapPw9p/8jwX26HghfqD/eRr9DjkYmNTklfvt70P+7oziX3SMTvcylHRQv9NZttQxO3vrjoImBRHVyHeqHC4Tg0L3dgni6WOpAwAqcDwlBFqcjM1hQ/FNoK5CZlHZSxynnltoapszXxtEHwApNk/VZsuf+3fM/o+woQGGQAr4pOXHAQ105VhSSG4N+v8tWS5QQGIzEo4FJhBMWgZ6BilBZRPhcWFioDyofua2Da34uORr5bnLj88fZBFLB+0u5IUnXTWINvSLll5TjqwSLwDAMPoY7nZWf7jr5GUE+sZ6FW7acRIxATxns70clxeGbZSXawDSQyKd1Skfzdh14Kj6zNQ3KUVJ27H5x2L8ywHX+WY85Eowh17eB6XP3InwYE69YQCoLPTPCkWZZA5iewwfLrjcOpsxrpHbPW6R3wGInlz5fWKmvjPbtYbGy74aXjP5u4tiCLU9oEp662RmRVyjHhy7k+Y0xAGDhYLC7z9dNqyTsi2hW4KIIvJdzkIjwMG7dUkYRNHLwP4WMrJZbDsSQytk5vyqGHKFBiyrbXTdRJtyoeEIS9dvgRBfyhpczqC65SieL9sEDT4KfNAV22PVt9e7qlgwgn+Wyk1k3i5+HtdB4kk9jCEmTzcknywoi0bRJV+LygPsb0nfem8Bne4r6cp6yQAv4b84nX2Jr7f3NUpG/oye74NIexGUIicGbtFSK6CS8TPy70gn96iTnv9QuE6LR1JuVQSJWCAO1qT/QSaC+pzY/tRvFdHf5SXGuAMrephvcOMA1l7h8i/jmpK77VWQ7u24EryHyb4AlKJc2PD5aJFWACzWk7/Dd+FA12eZMUZyiYcOkdm59N4AW9qTD8PF2aowsNxoCREo+6EF2h4nWKHDAWZBgklEhOuB9x3wRtlGnPrJQ7LUoZLfIazUwsyT14Em4U6urz/kOb+MBOAHLb/cHgL3B/1vo5tsP3wZ1u/DMV5q7zQ5NJKvCmy+Voo7iT69Ha19HsxrgEfZMd8owsZGDAh96YsGG/sNDV9ltkvyjBiZyZP6iPERVoOm+AEx1m3mS43uW6xvlHw3hEMw19YPzRsDuWtg+yd2fSxQ/LTUxGBwio5zAZvTWj2NAAB0qIAAADAAADAAADAAADAAADAAADAAADAW0AAAAXQZokbEO//qmWAAADAkB0rWoE+9bwA2cAAAAOQZ5CeIX/AAADAAADAccAAAAOAZ5hdEK/AAADAAADAm4AAAAOAZ5jakK/AAADAAADAm8AAAAcQZpoSahBaJlMCHf//qmWAAADAkBnpQKEf3gBswAAABBBnoZFESwv/wAAAwAAAwHHAAAADgGepXRCvwAAAwAAAwJvAAAADgGep2pCvwAAAwAAAwJuAAAAF0GarEmoQWyZTAh3//6plgAAAwAAAwGDAAAAEEGeykUVLC//AAADAAADAccAAAAOAZ7pdEK/AAADAAADAm4AAAAOAZ7rakK/AAADAAADAm8AAAAXQZrwSahBbJlMCHf//qmWAAADAAADAYMAAAAQQZ8ORRUsL/8AAAMAAAMBxwAAAA4Bny10Qr8AAAMAAAMCbwAAAA4Bny9qQr8AAAMAAAMCbgAAABdBmzRJqEFsmUwId//+qZYAAAMAAAMBgwAAABBBn1JFFSwv/wAAAwAAAwHHAAAADgGfcXRCvwAAAwAAAwJuAAAADgGfc2pCvwAAAwAAAwJvAAAAF0GbeEmoQWyZTAh3//6plgAAAwAAAwGDAAAAEEGflkUVLC//AAADAAADAccAAAAOAZ+1dEK/AAADAAADAm8AAAAOAZ+3akK/AAADAAADAm8AAAAXQZu8SahBbJlMCHf//qmWAAADAAADAYMAAAAQQZ/aRRUsL/8AAAMAAAMBxwAAAA4Bn/l0Qr8AAAMAAAMCbgAAAA4Bn/tqQr8AAAMAAAMCbwAAABdBm+BJqEFsmUwId//+qZYAAAMAAAMBgwAAABBBnh5FFSwv/wAAAwAAAwHHAAAADgGePXRCvwAAAwAAAwJvAAAADgGeP2pCvwAAAwAAAwJvAAAAF0GaJEmoQWyZTAh3//6plgAAAwAAAwGDAAAAEEGeQkUVLC//AAADAAADAccAAAAOAZ5hdEK/AAADAAADAm4AAAAOAZ5jakK/AAADAAADAm8AAAAXQZpoSahBbJlMCHf//qmWAAADAAADAYMAAAAQQZ6GRRUsL/8AAAMAAAMBxwAAAA4BnqV0Qr8AAAMAAAMCbwAAAA4BnqdqQr8AAAMAAAMCbgAAABdBmqxJqEFsmUwId//+qZYAAAMAAAMBgwAAABBBnspFFSwv/wAAAwAAAwHHAAAADgGe6XRCvwAAAwAAAwJuAAAADgGe62pCvwAAAwAAAwJvAAAAF0Ga8EmoQWyZTAh3//6plgAAAwAAAwGDAAAAEEGfDkUVLC//AAADAAADAccAAAAOAZ8tdEK/AAADAAADAm8AAAAOAZ8vakK/AAADAAADAm4AAAAXQZs0SahBbJlMCHf//qmWAAADAAADAYMAAAAQQZ9SRRUsL/8AAAMAAAMBxwAAAA4Bn3F0Qr8AAAMAAAMCbgAAAA4Bn3NqQr8AAAMAAAMCbwAAABdBm3hJqEFsmUwId//+qZYAAAMAAAMBgwAAABBBn5ZFFSwv/wAAAwAAAwHHAAAADgGftXRCvwAAAwAAAwJvAAAADgGft2pCvwAAAwAAAwJvAAAAF0GbvEmoQWyZTAh3//6plgAAAwAAAwGDAAAAEEGf2kUVLC//AAADAAADAccAAAAOAZ/5dEK/AAADAAADAm4AAAAOAZ/7akK/AAADAAADAm8AAAAXQZvgSahBbJlMCHf//qmWAAADAAADAYMAAAAQQZ4eRRUsL/8AAAMAAAMBxwAAAA4Bnj10Qr8AAAMAAAMCbwAAAA4Bnj9qQr8AAAMAAAMCbwAAABdBmiRJqEFsmUwId//+qZYAAAMAAAMBgwAAABBBnkJFFSwv/wAAAwAAAwHHAAAADgGeYXRCvwAAAwAAAwJuAAAADgGeY2pCvwAAAwAAAwJvAAAAF0GaaEmoQWyZTAh3//6plgAAAwAAAwGDAAAAEEGehkUVLC//AAADAAADAccAAAAOAZ6ldEK/AAADAAADAm8AAAAOAZ6nakK/AAADAAADAm4AAAAXQZqsSahBbJlMCHf//qmWAAADAAADAYMAAAAQQZ7KRRUsL/8AAAMAAAMBxwAAAA4Bnul0Qr8AAAMAAAMCbgAAAA4BnutqQr8AAAMAAAMCbwAAABdBmvBJqEFsmUwId//+qZYAAAMAAAMBgwAAABBBnw5FFSwv/wAAAwAAAwHHAAAADgGfLXRCvwAAAwAAAwJvAAAADgGfL2pCvwAAAwAAAwJuAAAAF0GbNEmoQWyZTAh3//6plgAAAwAAAwGDAAAAEEGfUkUVLC//AAADAAADAccAAAAOAZ9xdEK/AAADAAADAm4AAAAOAZ9zakK/AAADAAADAm8AAAAXQZt4SahBbJlMCHf//qmWAAADAAADAYMAAAAQQZ+WRRUsL/8AAAMAAAMBxwAAAA4Bn7V0Qr8AAAMAAAMCbwAAAA4Bn7dqQr8AAAMAAAMCbwAAABdBm7xJqEFsmUwId//+qZYAAAMAAAMBgwAAABBBn9pFFSwv/wAAAwAAAwHHAAAADgGf+XRCvwAAAwAAAwJuAAAADgGf+2pCvwAAAwAAAwJvAAAAF0Gb4EmoQWyZTAh3//6plgAAAwAAAwGDAAAAEEGeHkUVLC//AAADAAADAccAAAAOAZ49dEK/AAADAAADAm8AAAAOAZ4/akK/AAADAAADAm8AAAAXQZokSahBbJlMCHf//qmWAAADAAADAYMAAAAQQZ5CRRUsL/8AAAMAAAMBxwAAAA4BnmF0Qr8AAAMAAAMCbgAAAA4BnmNqQr8AAAMAAAMCbwAAABdBmmhJqEFsmUwId//+qZYAAAMAAAMBgwAAABBBnoZFFSwv/wAAAwAAAwHHAAAADgGepXRCvwAAAwAAAwJvAAAADgGep2pCvwAAAwAAAwJuAAAAF0GarEmoQWyZTAh3//6plgAAAwAAAwGDAAAAEEGeykUVLC//AAADAAADAccAAAAOAZ7pdEK/AAADAAADAm4AAAAOAZ7rakK/AAADAAADAm8AAAAXQZrwSahBbJlMCHf//qmWAAADAAADAYMAAAAQQZ8ORRUsL/8AAAMAAAMBxwAAAA4Bny10Qr8AAAMAAAMCbwAAAA4Bny9qQr8AAAMAAAMCbgAAABdBmzRJqEFsmUwId//+qZYAAAMAAAMBgwAAABBBn1JFFSwv/wAAAwAAAwHHAAAADgGfcXRCvwAAAwAAAwJuAAAADgGfc2pCvwAAAwAAAwJvAAAAF0GbeEmoQWyZTAh3//6plgAAAwAAAwGDAAAAEEGflkUVLC//AAADAAADAccAAAAOAZ+1dEK/AAADAAADAm8AAAAOAZ+3akK/AAADAAADAm8AAAAXQZu8SahBbJlMCHf//qmWAAADAAADAYMAAAAQQZ/aRRUsL/8AAAMAAAMBxwAAAA4Bn/l0Qr8AAAMAAAMCbgAAAA4Bn/tqQr8AAAMAAAMCbwAAABdBm+BJqEFsmUwId//+qZYAAAMAAAMBgwAAABBBnh5FFSwv/wAAAwAAAwHHAAAADgGePXRCvwAAAwAAAwJvAAAADgGeP2pCvwAAAwAAAwJvAAAAF0GaJEmoQWyZTAh3//6plgAAAwAAAwGDAAAAEEGeQkUVLC//AAADAAADAccAAAAOAZ5hdEK/AAADAAADAm4AAAAOAZ5jakK/AAADAAADAm8AAAAXQZpoSahBbJlMCHf//qmWAAADAAADAYMAAAAQQZ6GRRUsL/8AAAMAAAMBxwAAAA4BnqV0Qr8AAAMAAAMCbwAAAA4BnqdqQr8AAAMAAAMCbgAAABdBmqxJqEFsmUwId//+qZYAAAMAAAMBgwAAABBBnspFFSwv/wAAAwAAAwHHAAAADgGe6XRCvwAAAwAAAwJuAAAADgGe62pCvwAAAwAAAwJvAAAAF0Ga8EmoQWyZTAh3//6plgAAAwAAAwGDAAAAEEGfDkUVLC//AAADAAADAccAAAAOAZ8tdEK/AAADAAADAm8AAAAOAZ8vakK/AAADAAADAm4AAAAXQZs0SahBbJlMCHf//qmWAAADAAADAYMAAAAQQZ9SRRUsL/8AAAMAAAMBxwAAAA4Bn3F0Qr8AAAMAAAMCbgAAAA4Bn3NqQr8AAAMAAAMCbwAAABdBm3hJqEFsmUwId//+qZYAAAMAAAMBgwAAABBBn5ZFFSwv/wAAAwAAAwHHAAAADgGftXRCvwAAAwAAAwJvAAAADgGft2pCvwAAAwAAAwJvAAAAF0GbvEmoQWyZTAh3//6plgAAAwAAAwGDAAAAEEGf2kUVLC//AAADAAADAccAAAAOAZ/5dEK/AAADAAADAm4AAAAOAZ/7akK/AAADAAADAm8AAAAXQZvgSahBbJlMCHf//qmWAAADAAADAYMAAAAQQZ4eRRUsL/8AAAMAAAMBxwAAAA4Bnj10Qr8AAAMAAAMCbwAAAA4Bnj9qQr8AAAMAAAMCbwAAABdBmiRJqEFsmUwId//+qZYAAAMAAAMBgwAAABBBnkJFFSwv/wAAAwAAAwHHAAAADgGeYXRCvwAAAwAAAwJuAAAADgGeY2pCvwAAAwAAAwJvAAAAF0GaaEmoQWyZTAh3//6plgAAAwAAAwGDAAAAEEGehkUVLC//AAADAAADAccAAAAOAZ6ldEK/AAADAAADAm8AAAAOAZ6nakK/AAADAAADAm4AAAAXQZqsSahBbJlMCHf//qmWAAADAAADAYMAAAAQQZ7KRRUsL/8AAAMAAAMBxwAAAA4Bnul0Qr8AAAMAAAMCbgAAAA4BnutqQr8AAAMAAAMCbwAAABdBmvBJqEFsmUwId//+qZYAAAMAAAMBgwAAABBBnw5FFSwv/wAAAwAAAwHHAAAADgGfLXRCvwAAAwAAAwJvAAAADgGfL2pCvwAAAwAAAwJuAAAAF0GbNEmoQWyZTAh3//6plgAAAwAAAwGDAAAAEEGfUkUVLC//AAADAAADAccAAAAOAZ9xdEK/AAADAAADAm4AAAAOAZ9zakK/AAADAAADAm8AAAAXQZt4SahBbJlMCHf//qmWAAADAAADAYMAAAAQQZ+WRRUsL/8AAAMAAAMBxwAAAA4Bn7V0Qr8AAAMAAAMCbwAAAA4Bn7dqQr8AAAMAAAMCbwAAABdBm7xJqEFsmUwId//+qZYAAAMAAAMBgwAAABBBn9pFFSwv/wAAAwAAAwHHAAAADgGf+XRCvwAAAwAAAwJuAAAADgGf+2pCvwAAAwAAAwJvAAAAF0Gb4EmoQWyZTAh3//6plgAAAwAAAwGDAAAAEEGeHkUVLC//AAADAAADAccAAAAOAZ49dEK/AAADAAADAm8AAAAOAZ4/akK/AAADAAADAm8AAAAXQZokSahBbJlMCHf//qmWAAADAAADAYMAAAAQQZ5CRRUsL/8AAAMAAAMBxwAAAA4BnmF0Qr8AAAMAAAMCbgAAAA4BnmNqQr8AAAMAAAMCbwAAABdBmmhJqEFsmUwId//+qZYAAAMAAAMBgwAAABBBnoZFFSwv/wAAAwAAAwHHAAAADgGepXRCvwAAAwAAAwJvAAAADgGep2pCvwAAAwAAAwJuAAAAF0GarEmoQWyZTAh3//6plgAAAwAAAwGDAAAAEEGeykUVLC//AAADAAADAccAAAAOAZ7pdEK/AAADAAADAm4AAAAOAZ7rakK/AAADAAADAm8AAAAXQZrwSahBbJlMCHf//qmWAAADAAADAYMAAAAQQZ8ORRUsL/8AAAMAAAMBxwAAAA4Bny10Qr8AAAMAAAMCbwAAAA4Bny9qQr8AAAMAAAMCbgAAABdBmzRJqEFsmUwId//+qZYAAAMAAAMBgwAAABBBn1JFFSwv/wAAAwAAAwHHAAAADgGfcXRCvwAAAwAAAwJuAAAADgGfc2pCvwAAAwAAAwJvAAAAF0GbeEmoQWyZTAh3//6plgAAAwAAAwGDAAAAEEGflkUVLC//AAADAAADAccAAAAOAZ+1dEK/AAADAAADAm8AAAAOAZ+3akK/AAADAAADAm8AAAAXQZu8SahBbJlMCHf//qmWAAADAAADAYMAAAAQQZ/aRRUsL/8AAAMAAAMBxwAAAA4Bn/l0Qr8AAAMAAAMCbgAAAA4Bn/tqQr8AAAMAAAMCbwAAABdBm+BJqEFsmUwId//+qZYAAAMAAAMBgwAAABBBnh5FFSwv/wAAAwAAAwHHAAAADgGePXRCvwAAAwAAAwJvAAAADgGeP2pCvwAAAwAAAwJvAAAAF0GaJEmoQWyZTAh3//6plgAAAwAAAwGDAAAAEEGeQkUVLC//AAADAAADAccAAAAOAZ5hdEK/AAADAAADAm4AAAAOAZ5jakK/AAADAAADAm8AAAAXQZpoSahBbJlMCHf//qmWAAADAAADAYMAAAAQQZ6GRRUsL/8AAAMAAAMBxwAAAA4BnqV0Qr8AAAMAAAMCbwAAAA4BnqdqQr8AAAMAAAMCbgAAABdBmqxJqEFsmUwId//+qZYAAAMAAAMBgwAAABBBnspFFSwv/wAAAwAAAwHHAAAADgGe6XRCvwAAAwAAAwJuAAAADgGe62pCvwAAAwAAAwJvAAAAF0Ga8EmoQWyZTAhv//6nhAAAAwAAAwMCAAAAEEGfDkUVLC//AAADAAADAccAAAAOAZ8tdEK/AAADAAADAm8AAAAOAZ8vakK/AAADAAADAm4AAAAXQZs0SahBbJlMCG///qeEAAADAAADAwIAAAAQQZ9SRRUsL/8AAAMAAAMBxwAAAA4Bn3F0Qr8AAAMAAAMCbgAAAA4Bn3NqQr8AAAMAAAMCbwAAABZBm3hJqEFsmUwIZ//+nhAAAAMAAAu4AAAAEEGflkUVLC//AAADAAADAccAAAAOAZ+1dEK/AAADAAADAm8AAAAOAZ+3akK/AAADAAADAm8AAAAWQZu5SahBbJlMCFf//jhAAAADAAAtoQAAA8NliIQAN//+9vD+BTZWBFCXEc3onTMfvxW4ujQ3vc4AAAMAAAMArrpGmEnz3Nw8AAAFUAAxBp5hEZgBrtusltQSztuBQVq/objlp8oBlSpyK7Q7aqD2IePXX7ViQTXrpx3UDKDt2yumMU39N8QOWBYwdRH2Q9TsImjN+/QM8baZpe4uEWAvuwvNACV5YFO3R93lweEImB/TKjorqjjVj/zP4AjcdBuN0mRDi2mV5p2fUVVUkJRZ3dzaEkJ55KfIsv/+Z849R4iukUikVJAQFH0zGnPhN56yDOYfCO5DyRU381mukqnMMvwOTEybE11nUsYsKE6ghQNfUODcBCvwzYPZcWW8JzkpfXEM4T5PVDjyUH5VpQZF8UbI60B6UBGFME91X2AtGp/CrnEI/SCpgLkR7ccfaNeHJkmqporJPoGRGi6eywMUuEu10gOwP+0Q5g8MHOxU6VsZxFWvwWnqCoZIDN0P7q+PvBUleVG+IiK/zLMaml0F8nRcft8BKlpYbKPWF+xzEEqiSI8zs9AJxrgHi3yeKfqZE+G0tkGq/3vOHQ2CExyDPqC2beH6zxX7BqCnz0Ww+nbNrWY3IHxIsc7h/GT7/qu9mXvJuScKiPD3niBj5/rX2/A1Gw4HgADxXOTCrxRryKnVJOoCjN/G/9dQk/74q9FY3wat1iddnxTw4F9k6dfKbnM5J6kX8deuPZfPMFDui8pW9SXpWiyzw1peXhvQF/BcqPwavThe+zQRlUK/WdEo4md4EX+UbEqkZuzvaBNP7C7FClb18HLjZnrGxebAL1g7jEbzkEAAAAMB/oHo3+yJT8MPDMFCqBER8SGzmDc7HmIlKp0glqU8A+GSqJ/0xO0zsWcvZTUetfRTmXu0KCkfcovxDY9fsx//2vnVYaRvTW8ZcG9rNzSvXGv+/bcnqupDN1wtIwJ3DjO1WxIcneYWZ+0cEutsPSXDy+rI/x5/DmgsGkbRYZnhvQVCDrnGakQfdAaubfUPkDb7riFLWcr+Nj7RBUvn9jC6DFMg4wfJMsriJmmSQEdBDLa747IfvSuRDaVeqblrozxmoVKBBg6Pmb6BMs/8rTbhv/t4wzK6rt2C9TIiDFHrx1zXcVLQxSwMRakP+LB3VymgNWGwOUxaCAAUZI7OWGvx/08LRBt1aAzkWnGBmMpNFaNa/PDVfpNog8IIoYdpI40qyE/lkVohvGmx3Edq9aCkqLXqmSpfwqOtSxFfkO9IoZnuzU24L74QBiBPCDBE4fiy/ONjAE2dD8fAAAADAAADAAADAR0AADH2bW9vdgAAAGxtdmhkAAAAAAAAAAAAAAAAAAAD6AAAnGgAAQAAAQAAAAAAAAAAAAAAAAEAAAAAAAAAAAAAAAAAAAABAAAAAAAAAAAAAAAAAABAAAAAAAAAAAAAAAAAAAAAAAAAAAAAAAAAAAAAAAAAAgAAMSB0cmFrAAAAXHRraGQAAAADAAAAAAAAAAAAAAABAAAAAAAAnGgAAAAAAAAAAAAAAAAAAAAAAAEAAAAAAAAAAAAAAAAAAAABAAAAAAAAAAAAAAAAAABAAAAAAeAAAAHgAAAAAAAkZWR0cwAAABxlbHN0AAAAAAAAAAEAAJxoAAAEAAABAAAAADCYbWRpYQAAACBtZGhkAAAAAAAAAAAAAAAAAAAyAAAH0gBVxAAAAAAALWhkbHIAAAAAAAAAAHZpZGUAAAAAAAAAAAAAAABWaWRlb0hhbmRsZXIAAAAwQ21pbmYAAAAUdm1oZAAAAAEAAAAAAAAAAAAAACRkaW5mAAAAHGRyZWYAAAAAAAAAAQAAAAx1cmwgAAAAAQAAMANzdGJsAAAAr3N0c2QAAAAAAAAAAQAAAJ9hdmMxAAAAAAAAAAEAAAAAAAAAAAAAAAAAAAAAAeAB4ABIAAAASAAAAAAAAAABFUxhdmM2MC4zMS4xMDIgbGlieDI2NAAAAAAAAAAAAAAAGP//AAAANWF2Y0MBZAAe/+EAGGdkAB6s2UHg9oQAAAMABAAAAwDIPFi2WAEABmjr48siwP34+AAAAAAUYnRydAAAAAAAACYPAAAmDwAAABhzdHRzAAAAAAAAAAEAAAPpAAACAAAAACRzdHNzAAAAAAAAAAUAAAABAAAA+wAAAfUAAALvAAAD6QAAHyhjdHRzAAAAAAAAA+MAAAABAAAEAAAAAAEAAAoAAAAAAQAABAAAAAABAAAAAAAAAAEAAAIAAAAAAQAACgAAAAABAAAEAAAAAAEAAAAAAAAAAQAAAgAAAAABAAAKAAAAAAEAAAQAAAAAAQAAAAAAAAABAAACAAAAAAEAAAoAAAAAAQAABAAAAAABAAAAAAAAAAEAAAIAAAAAAQAACgAAAAABAAAEAAAAAAEAAAAAAAAAAQAAAgAAAAABAAAKAAAAAAEAAAQAAAAAAQAAAAAAAAABAAACAAAAAAEAAAoAAAAAAQAABAAAAAABAAAAAAAAAAEAAAIAAAAAAQAACgAAAAABAAAEAAAAAAEAAAAAAAAAAQAAAgAAAAABAAAKAAAAAAEAAAQAAAAAAQAAAAAAAAABAAACAAAAAAEAAAoAAAAAAQAABAAAAAABAAAAAAAAAAEAAAIAAAAAAQAACgAAAAABAAAEAAAAAAEAAAAAAAAAAQAAAgAAAAABAAAKAAAAAAEAAAQAAAAAAQAAAAAAAAABAAACAAAAAAEAAAoAAAAAAQAABAAAAAABAAAAAAAAAAEAAAIAAAAAAQAACgAAAAABAAAEAAAAAAEAAAAAAAAAAQAAAgAAAAABAAAKAAAAAAEAAAQAAAAAAQAAAAAAAAABAAACAAAAAAEAAAoAAAAAAQAABAAAAAABAAAAAAAAAAEAAAIAAAAAAQAACgAAAAABAAAEAAAAAAEAAAAAAAAAAQAAAgAAAAABAAAKAAAAAAEAAAQAAAAAAQAAAAAAAAABAAACAAAAAAEAAAoAAAAAAQAABAAAAAABAAAAAAAAAAEAAAIAAAAAAQAACgAAAAABAAAEAAAAAAEAAAAAAAAAAQAAAgAAAAABAAAKAAAAAAEAAAQAAAAAAQAAAAAAAAABAAACAAAAAAEAAAoAAAAAAQAABAAAAAABAAAAAAAAAAEAAAIAAAAAAQAACgAAAAABAAAEAAAAAAEAAAAAAAAAAQAAAgAAAAABAAAKAAAAAAEAAAQAAAAAAQAAAAAAAAABAAACAAAAAAEAAAoAAAAAAQAABAAAAAABAAAAAAAAAAEAAAIAAAAAAQAACgAAAAABAAAEAAAAAAEAAAAAAAAAAQAAAgAAAAABAAAKAAAAAAEAAAQAAAAAAQAAAAAAAAABAAACAAAAAAEAAAoAAAAAAQAABAAAAAABAAAAAAAAAAEAAAIAAAAAAQAACgAAAAABAAAEAAAAAAEAAAAAAAAAAQAAAgAAAAABAAAKAAAAAAEAAAQAAAAAAQAAAAAAAAABAAACAAAAAAEAAAoAAAAAAQAABAAAAAABAAAAAAAAAAEAAAIAAAAAAQAACgAAAAABAAAEAAAAAAEAAAAAAAAAAQAAAgAAAAABAAAKAAAAAAEAAAQAAAAAAQAAAAAAAAABAAACAAAAAAEAAAoAAAAAAQAABAAAAAABAAAAAAAAAAEAAAIAAAAAAQAACgAAAAABAAAEAAAAAAEAAAAAAAAAAQAAAgAAAAABAAAKAAAAAAEAAAQAAAAAAQAAAAAAAAABAAACAAAAAAEAAAoAAAAAAQAABAAAAAABAAAAAAAAAAEAAAIAAAAAAQAACgAAAAABAAAEAAAAAAEAAAAAAAAAAQAAAgAAAAABAAAKAAAAAAEAAAQAAAAAAQAAAAAAAAABAAACAAAAAAEAAAoAAAAAAQAABAAAAAABAAAAAAAAAAEAAAIAAAAAAQAACgAAAAABAAAEAAAAAAEAAAAAAAAAAQAAAgAAAAABAAAKAAAAAAEAAAQAAAAAAQAAAAAAAAABAAACAAAAAAEAAAoAAAAAAQAABAAAAAABAAAAAAAAAAEAAAIAAAAAAQAACgAAAAABAAAEAAAAAAEAAAAAAAAAAQAAAgAAAAABAAAKAAAAAAEAAAQAAAAAAQAAAAAAAAABAAACAAAAAAEAAAoAAAAAAQAABAAAAAABAAAAAAAAAAEAAAIAAAAAAQAACAAAAAACAAACAAAAAAEAAAoAAAAAAQAABAAAAAABAAAAAAAAAAEAAAIAAAAAAQAACgAAAAABAAAEAAAAAAEAAAAAAAAAAQAAAgAAAAABAAAKAAAAAAEAAAQAAAAAAQAAAAAAAAABAAACAAAAAAEAAAoAAAAAAQAABAAAAAABAAAAAAAAAAEAAAIAAAAAAQAACgAAAAABAAAEAAAAAAEAAAAAAAAAAQAAAgAAAAABAAAKAAAAAAEAAAQAAAAAAQAAAAAAAAABAAACAAAAAAEAAAgAAAAAAgAAAgAAAAABAAAIAAAAAAIAAAIAAAAAAQAACgAAAAABAAAEAAAAAAEAAAAAAAAAAQAAAgAAAAABAAAKAAAAAAEAAAQAAAAAAQAAAAAAAAABAAACAAAAAAEAAAoAAAAAAQAABAAAAAABAAAAAAAAAAEAAAIAAAAAAQAACgAAAAABAAAEAAAAAAEAAAAAAAAAAQAAAgAAAAABAAAKAAAAAAEAAAQAAAAAAQAAAAAAAAABAAACAAAAAAEAAAoAAAAAAQAABAAAAAABAAAAAAAAAAEAAAIAAAAAAQAACgAAAAABAAAEAAAAAAEAAAAAAAAAAQAAAgAAAAABAAAKAAAAAAEAAAQAAAAAAQAAAAAAAAABAAACAAAAAAEAAAQAAAAAAQAACgAAAAABAAAEAAAAAAEAAAAAAAAAAQAAAgAAAAABAAAKAAAAAAEAAAQAAAAAAQAAAAAAAAABAAACAAAAAAEAAAoAAAAAAQAABAAAAAABAAAAAAAAAAEAAAIAAAAAAQAACgAAAAABAAAEAAAAAAEAAAAAAAAAAQAAAgAAAAABAAAKAAAAAAEAAAQAAAAAAQAAAAAAAAABAAACAAAAAAEAAAoAAAAAAQAABAAAAAABAAAAAAAAAAEAAAIAAAAAAQAACgAAAAABAAAEAAAAAAEAAAAAAAAAAQAAAgAAAAABAAAKAAAAAAEAAAQAAAAAAQAAAAAAAAABAAACAAAAAAEAAAoAAAAAAQAABAAAAAABAAAAAAAAAAEAAAIAAAAAAQAACgAAAAABAAAEAAAAAAEAAAAAAAAAAQAAAgAAAAABAAAKAAAAAAEAAAQAAAAAAQAAAAAAAAABAAACAAAAAAEAAAoAAAAAAQAABAAAAAABAAAAAAAAAAEAAAIAAAAAAQAACgAAAAABAAAEAAAAAAEAAAAAAAAAAQAAAgAAAAABAAAKAAAAAAEAAAQAAAAAAQAAAAAAAAABAAACAAAAAAEAAAoAAAAAAQAABAAAAAABAAAAAAAAAAEAAAIAAAAAAQAACgAAAAABAAAEAAAAAAEAAAAAAAAAAQAAAgAAAAABAAAKAAAAAAEAAAQAAAAAAQAAAAAAAAABAAACAAAAAAEAAAoAAAAAAQAABAAAAAABAAAAAAAAAAEAAAIAAAAAAQAACgAAAAABAAAEAAAAAAEAAAAAAAAAAQAAAgAAAAABAAAKAAAAAAEAAAQAAAAAAQAAAAAAAAABAAACAAAAAAEAAAoAAAAAAQAABAAAAAABAAAAAAAAAAEAAAIAAAAAAQAACgAAAAABAAAEAAAAAAEAAAAAAAAAAQAAAgAAAAABAAAKAAAAAAEAAAQAAAAAAQAAAAAAAAABAAACAAAAAAEAAAoAAAAAAQAABAAAAAABAAAAAAAAAAEAAAIAAAAAAQAACgAAAAABAAAEAAAAAAEAAAAAAAAAAQAAAgAAAAABAAAKAAAAAAEAAAQAAAAAAQAAAAAAAAABAAACAAAAAAEAAAoAAAAAAQAABAAAAAABAAAAAAAAAAEAAAIAAAAAAQAACgAAAAABAAAEAAAAAAEAAAAAAAAAAQAAAgAAAAABAAAKAAAAAAEAAAQAAAAAAQAAAAAAAAABAAACAAAAAAEAAAoAAAAAAQAABAAAAAABAAAAAAAAAAEAAAIAAAAAAQAACgAAAAABAAAEAAAAAAEAAAAAAAAAAQAAAgAAAAABAAAKAAAAAAEAAAQAAAAAAQAAAAAAAAABAAACAAAAAAEAAAoAAAAAAQAABAAAAAABAAAAAAAAAAEAAAIAAAAAAQAACgAAAAABAAAEAAAAAAEAAAAAAAAAAQAAAgAAAAABAAAKAAAAAAEAAAQAAAAAAQAAAAAAAAABAAACAAAAAAEAAAoAAAAAAQAABAAAAAABAAAAAAAAAAEAAAIAAAAAAQAACgAAAAABAAAEAAAAAAEAAAAAAAAAAQAAAgAAAAABAAAKAAAAAAEAAAQAAAAAAQAAAAAAAAABAAACAAAAAAEAAAoAAAAAAQAABAAAAAABAAAAAAAAAAEAAAIAAAAAAQAACgAAAAABAAAEAAAAAAEAAAAAAAAAAQAAAgAAAAABAAAKAAAAAAEAAAQAAAAAAQAAAAAAAAABAAACAAAAAAEAAAoAAAAAAQAABAAAAAABAAAAAAAAAAEAAAIAAAAAAQAACgAAAAABAAAEAAAAAAEAAAAAAAAAAQAAAgAAAAABAAAKAAAAAAEAAAQAAAAAAQAAAAAAAAABAAACAAAAAAEAAAoAAAAAAQAABAAAAAABAAAAAAAAAAEAAAIAAAAAAQAACgAAAAABAAAEAAAAAAEAAAAAAAAAAQAAAgAAAAABAAAKAAAAAAEAAAQAAAAAAQAAAAAAAAABAAACAAAAAAEAAAoAAAAAAQAABAAAAAABAAAAAAAAAAEAAAIAAAAAAQAACgAAAAABAAAEAAAAAAEAAAAAAAAAAQAAAgAAAAABAAAKAAAAAAEAAAQAAAAAAQAAAAAAAAABAAACAAAAAAEAAAoAAAAAAQAABAAAAAABAAAAAAAAAAEAAAIAAAAAAQAACgAAAAABAAAEAAAAAAEAAAAAAAAAAQAAAgAAAAABAAAKAAAAAAEAAAQAAAAAAQAAAAAAAAABAAACAAAAAAEAAAoAAAAAAQAABAAAAAABAAAAAAAAAAEAAAIAAAAAAQAACgAAAAABAAAEAAAAAAEAAAAAAAAAAQAAAgAAAAABAAAKAAAAAAEAAAQAAAAAAQAAAAAAAAABAAACAAAAAAEAAAoAAAAAAQAABAAAAAABAAAAAAAAAAEAAAIAAAAAAQAACgAAAAABAAAEAAAAAAEAAAAAAAAAAQAAAgAAAAABAAAKAAAAAAEAAAQAAAAAAQAAAAAAAAABAAACAAAAAAEAAAoAAAAAAQAABAAAAAABAAAAAAAAAAEAAAIAAAAAAQAACgAAAAABAAAEAAAAAAEAAAAAAAAAAQAAAgAAAAABAAAKAAAAAAEAAAQAAAAAAQAAAAAAAAABAAACAAAAAAIAAAQAAAAAAQAACgAAAAABAAAEAAAAAAEAAAAAAAAAAQAAAgAAAAABAAAKAAAAAAEAAAQAAAAAAQAAAAAAAAABAAACAAAAAAEAAAoAAAAAAQAABAAAAAABAAAAAAAAAAEAAAIAAAAAAQAACgAAAAABAAAEAAAAAAEAAAAAAAAAAQAAAgAAAAABAAAKAAAAAAEAAAQAAAAAAQAAAAAAAAABAAACAAAAAAEAAAoAAAAAAQAABAAAAAABAAAAAAAAAAEAAAIAAAAAAQAACgAAAAABAAAEAAAAAAEAAAAAAAAAAQAAAgAAAAABAAAKAAAAAAEAAAQAAAAAAQAAAAAAAAABAAACAAAAAAEAAAoAAAAAAQAABAAAAAABAAAAAAAAAAEAAAIAAAAAAQAACgAAAAABAAAEAAAAAAEAAAAAAAAAAQAAAgAAAAABAAAKAAAAAAEAAAQAAAAAAQAAAAAAAAABAAACAAAAAAEAAAoAAAAAAQAABAAAAAABAAAAAAAAAAEAAAIAAAAAAQAACgAAAAABAAAEAAAAAAEAAAAAAAAAAQAAAgAAAAABAAAKAAAAAAEAAAQAAAAAAQAAAAAAAAABAAACAAAAAAEAAAoAAAAAAQAABAAAAAABAAAAAAAAAAEAAAIAAAAAAQAACgAAAAABAAAEAAAAAAEAAAAAAAAAAQAAAgAAAAABAAAKAAAAAAEAAAQAAAAAAQAAAAAAAAABAAACAAAAAAEAAAoAAAAAAQAABAAAAAABAAAAAAAAAAEAAAIAAAAAAQAACgAAAAABAAAEAAAAAAEAAAAAAAAAAQAAAgAAAAABAAAKAAAAAAEAAAQAAAAAAQAAAAAAAAABAAACAAAAAAEAAAoAAAAAAQAABAAAAAABAAAAAAAAAAEAAAIAAAAAAQAACgAAAAABAAAEAAAAAAEAAAAAAAAAAQAAAgAAAAABAAAKAAAAAAEAAAQAAAAAAQAAAAAAAAABAAACAAAAAAEAAAoAAAAAAQAABAAAAAABAAAAAAAAAAEAAAIAAAAAAQAACgAAAAABAAAEAAAAAAEAAAAAAAAAAQAAAgAAAAABAAAKAAAAAAEAAAQAAAAAAQAAAAAAAAABAAACAAAAAAEAAAoAAAAAAQAABAAAAAABAAAAAAAAAAEAAAIAAAAAAQAACgAAAAABAAAEAAAAAAEAAAAAAAAAAQAAAgAAAAABAAAKAAAAAAEAAAQAAAAAAQAAAAAAAAABAAACAAAAAAEAAAoAAAAAAQAABAAAAAABAAAAAAAAAAEAAAIAAAAAAQAACgAAAAABAAAEAAAAAAEAAAAAAAAAAQAAAgAAAAABAAAKAAAAAAEAAAQAAAAAAQAAAAAAAAABAAACAAAAAAEAAAoAAAAAAQAABAAAAAABAAAAAAAAAAEAAAIAAAAAAQAACgAAAAABAAAEAAAAAAEAAAAAAAAAAQAAAgAAAAABAAAKAAAAAAEAAAQAAAAAAQAAAAAAAAABAAACAAAAAAEAAAoAAAAAAQAABAAAAAABAAAAAAAAAAEAAAIAAAAAAQAACgAAAAABAAAEAAAAAAEAAAAAAAAAAQAAAgAAAAABAAAKAAAAAAEAAAQAAAAAAQAAAAAAAAABAAACAAAAAAEAAAoAAAAAAQAABAAAAAABAAAAAAAAAAEAAAIAAAAAAQAACgAAAAABAAAEAAAAAAEAAAAAAAAAAQAAAgAAAAABAAAKAAAAAAEAAAQAAAAAAQAAAAAAAAABAAACAAAAAAEAAAoAAAAAAQAABAAAAAABAAAAAAAAAAEAAAIAAAAAAQAACgAAAAABAAAEAAAAAAEAAAAAAAAAAQAAAgAAAAABAAAKAAAAAAEAAAQAAAAAAQAAAAAAAAABAAACAAAAAAEAAAoAAAAAAQAABAAAAAABAAAAAAAAAAEAAAIAAAAAAQAACgAAAAABAAAEAAAAAAEAAAAAAAAAAQAAAgAAAAABAAAKAAAAAAEAAAQAAAAAAQAAAAAAAAABAAACAAAAAAEAAAoAAAAAAQAABAAAAAABAAAAAAAAAAEAAAIAAAAAAQAACgAAAAABAAAEAAAAAAEAAAAAAAAAAQAAAgAAAAABAAAKAAAAAAEAAAQAAAAAAQAAAAAAAAABAAACAAAAAAEAAAoAAAAAAQAABAAAAAABAAAAAAAAAAEAAAIAAAAAAQAACgAAAAABAAAEAAAAAAEAAAAAAAAAAQAAAgAAAAABAAAKAAAAAAEAAAQAAAAAAQAAAAAAAAABAAACAAAAAAEAAAoAAAAAAQAABAAAAAABAAAAAAAAAAEAAAIAAAAAAQAACgAAAAABAAAEAAAAAAEAAAAAAAAAAQAAAgAAAAABAAAKAAAAAAEAAAQAAAAAAQAAAAAAAAABAAACAAAAAAEAAAoAAAAAAQAABAAAAAABAAAAAAAAAAEAAAIAAAAAAQAACgAAAAABAAAEAAAAAAEAAAAAAAAAAQAAAgAAAAABAAAKAAAAAAEAAAQAAAAAAQAAAAAAAAABAAACAAAAAAEAAAoAAAAAAQAABAAAAAABAAAAAAAAAAEAAAIAAAAAAQAACgAAAAABAAAEAAAAAAEAAAAAAAAAAQAAAgAAAAABAAAKAAAAAAEAAAQAAAAAAQAAAAAAAAABAAACAAAAAAIAAAQAAAAAAQAACgAAAAABAAAEAAAAAAEAAAAAAAAAAQAAAgAAAAABAAAKAAAAAAEAAAQAAAAAAQAAAAAAAAABAAACAAAAAAEAAAoAAAAAAQAABAAAAAABAAAAAAAAAAEAAAIAAAAAAQAACgAAAAABAAAEAAAAAAEAAAAAAAAAAQAAAgAAAAABAAAKAAAAAAEAAAQAAAAAAQAAAAAAAAABAAACAAAAAAEAAAoAAAAAAQAABAAAAAABAAAAAAAAAAEAAAIAAAAAAQAACgAAAAABAAAEAAAAAAEAAAAAAAAAAQAAAgAAAAABAAAKAAAAAAEAAAQAAAAAAQAAAAAAAAABAAACAAAAAAEAAAoAAAAAAQAABAAAAAABAAAAAAAAAAEAAAIAAAAAAQAACgAAAAABAAAEAAAAAAEAAAAAAAAAAQAAAgAAAAABAAAKAAAAAAEAAAQAAAAAAQAAAAAAAAABAAACAAAAAAEAAAoAAAAAAQAABAAAAAABAAAAAAAAAAEAAAIAAAAAAQAACgAAAAABAAAEAAAAAAEAAAAAAAAAAQAAAgAAAAABAAAKAAAAAAEAAAQAAAAAAQAAAAAAAAABAAACAAAAAAEAAAoAAAAAAQAABAAAAAABAAAAAAAAAAEAAAIAAAAAAQAACgAAAAABAAAEAAAAAAEAAAAAAAAAAQAAAgAAAAABAAAKAAAAAAEAAAQAAAAAAQAAAAAAAAABAAACAAAAAAEAAAoAAAAAAQAABAAAAAABAAAAAAAAAAEAAAIAAAAAAQAACgAAAAABAAAEAAAAAAEAAAAAAAAAAQAAAgAAAAABAAAKAAAAAAEAAAQAAAAAAQAAAAAAAAABAAACAAAAAAEAAAoAAAAAAQAABAAAAAABAAAAAAAAAAEAAAIAAAAAAQAACgAAAAABAAAEAAAAAAEAAAAAAAAAAQAAAgAAAAABAAAKAAAAAAEAAAQAAAAAAQAAAAAAAAABAAACAAAAAAEAAAoAAAAAAQAABAAAAAABAAAAAAAAAAEAAAIAAAAAAQAACgAAAAABAAAEAAAAAAEAAAAAAAAAAQAAAgAAAAABAAAKAAAAAAEAAAQAAAAAAQAAAAAAAAABAAACAAAAAAEAAAoAAAAAAQAABAAAAAABAAAAAAAAAAEAAAIAAAAAAQAACgAAAAABAAAEAAAAAAEAAAAAAAAAAQAAAgAAAAABAAAKAAAAAAEAAAQAAAAAAQAAAAAAAAABAAACAAAAAAEAAAoAAAAAAQAABAAAAAABAAAAAAAAAAEAAAIAAAAAAQAACgAAAAABAAAEAAAAAAEAAAAAAAAAAQAAAgAAAAABAAAKAAAAAAEAAAQAAAAAAQAAAAAAAAABAAACAAAAAAEAAAoAAAAAAQAABAAAAAABAAAAAAAAAAEAAAIAAAAAAQAACgAAAAABAAAEAAAAAAEAAAAAAAAAAQAAAgAAAAABAAAKAAAAAAEAAAQAAAAAAQAAAAAAAAABAAACAAAAAAEAAAoAAAAAAQAABAAAAAABAAAAAAAAAAEAAAIAAAAAAQAACgAAAAABAAAEAAAAAAEAAAAAAAAAAQAAAgAAAAABAAAKAAAAAAEAAAQAAAAAAQAAAAAAAAABAAACAAAAAAEAAAoAAAAAAQAABAAAAAABAAAAAAAAAAEAAAIAAAAAAQAACgAAAAABAAAEAAAAAAEAAAAAAAAAAQAAAgAAAAABAAAKAAAAAAEAAAQAAAAAAQAAAAAAAAABAAACAAAAAAEAAAoAAAAAAQAABAAAAAABAAAAAAAAAAEAAAIAAAAAAQAACgAAAAABAAAEAAAAAAEAAAAAAAAAAQAAAgAAAAABAAAKAAAAAAEAAAQAAAAAAQAAAAAAAAABAAACAAAAAAEAAAoAAAAAAQAABAAAAAABAAAAAAAAAAEAAAIAAAAAAQAACgAAAAABAAAEAAAAAAEAAAAAAAAAAQAAAgAAAAABAAAKAAAAAAEAAAQAAAAAAQAAAAAAAAABAAACAAAAAAEAAAoAAAAAAQAABAAAAAABAAAAAAAAAAEAAAIAAAAAAQAACgAAAAABAAAEAAAAAAEAAAAAAAAAAQAAAgAAAAABAAAKAAAAAAEAAAQAAAAAAQAAAAAAAAABAAACAAAAAAEAAAoAAAAAAQAABAAAAAABAAAAAAAAAAEAAAIAAAAAAQAACgAAAAABAAAEAAAAAAEAAAAAAAAAAQAAAgAAAAABAAAKAAAAAAEAAAQAAAAAAQAAAAAAAAABAAACAAAAAAEAAAoAAAAAAQAABAAAAAABAAAAAAAAAAEAAAIAAAAAAQAACgAAAAABAAAEAAAAAAEAAAAAAAAAAQAAAgAAAAABAAAKAAAAAAEAAAQAAAAAAQAAAAAAAAABAAACAAAAAAEAAAoAAAAAAQAABAAAAAABAAAAAAAAAAEAAAIAAAAAAQAACgAAAAABAAAEAAAAAAEAAAAAAAAAAQAAAgAAAAABAAAKAAAAAAEAAAQAAAAAAQAAAAAAAAABAAACAAAAAAEAAAoAAAAAAQAABAAAAAABAAAAAAAAAAEAAAIAAAAAAQAACgAAAAABAAAEAAAAAAEAAAAAAAAAAQAAAgAAAAABAAAKAAAAAAEAAAQAAAAAAQAAAAAAAAABAAACAAAAAAIAAAQAAAAAHHN0c2MAAAAAAAAAAQAAAAEAAAPpAAAAAQAAD7hzdHN6AAAAAAAAAAAAAAPpAAAHbQAAALkAAABOAAAAPAAAAD8AAADIAAAASQAAADQAAAA2AAAAlQAAAEYAAABCAAAAOAAAAL8AAABRAAAAPQAAAEEAAADlAAAAUQAAAEIAAABCAAABBQAAAFAAAABKAAAAPQAAAQQAAABIAAAASQAAADwAAAE7AAAAVQAAAEQAAAA+AAABDQAAAE0AAABDAAAAPgAAAPYAAABWAAAASQAAAEIAAADzAAAAWQAAAEQAAAA5AAAAwAAAAEoAAAA3AAAAJgAAAKUAAABDAAAAIQAAACIAAACAAAAAUAAAABwAAAAoAAAAwQAAAE0AAAA2AAAARQAAAMkAAABTAAAAOgAAAEcAAADSAAAAXwAAAEgAAABKAAABGAAAAFMAAABIAAAARwAAAO4AAABaAAAATAAAAEUAAAEFAAAASQAAAEYAAABAAAAA7QAAAFEAAABCAAAAQgAAAN4AAABKAAAAQgAAADEAAACzAAAATwAAADEAAAAvAAAAzQAAADsAAAAuAAAALAAAAHAAAAA8AAAAIgAAAB4AAADdAAAAOQAAABkAAAAlAAAAtgAAAE8AAAApAAAAMAAAALAAAABJAAAAMwAAADYAAACwAAAASAAAADUAAAA3AAAAvQAAAEwAAABFAAAANwAAANsAAABWAAAANwAAADwAAAC9AAAASgAAADgAAAA3AAAAwwAAAEIAAAAvAAAANAAAALEAAABGAAAAKwAAACkAAADEAAAAPgAAACAAAAAlAAAAlgAAADkAAAAjAAAAGQAAALcAAAArAAAAHgAAABkAAACMAAAAMgAAABkAAAAZAAAA0gAAAC8AAAAeAAAAIwAAANEAAAAyAAAAGwAAACIAAADdAAAAPQAAAB8AAAAhAAAAyQAAAEAAAAAiAAAAIwAAAMAAAABDAAAAIQAAACkAAADIAAAAQgAAACwAAAAqAAAA0QAAAEYAAAAkAAAAIwAAAMAAAABBAAAAIAAAABsAAACuAAAAJgAAAB4AAACWAAAANAAAABcAAAAZAAAAigAAAC8AAAAaAAAAGwAAAIgAAAAqAAAAFwAAABkAAACMAAAAJgAAABkAAAAVAAAAngAAACoAAAAXAAAAGwAAAJQAAAAtAAAAFwAAABkAAACmAAAAKQAAABcAAACQAAAAIQAAABUAAAClAAAAKQAAABkAAAAVAAAAlgAAACkAAAAVAAAAFwAAAKQAAAAmAAAAFQAAABcAAACqAAAAIwAAABcAAAAXAAAAlgAAACUAAAAXAAAAFwAAAH4AAAAoAAAAGgAAABcAAAB+AAAAJQAAABcAAAAXAAAAZwAAACYAAAAXAAAAFQAAB3YAAABAAAAAEgAAABIAAAASAAAAYwAAABoAAAASAAAAEwAAAFkAAAAcAAAAEgAAABIAAABwAAAAGwAAABMAAAASAAAAeQAAABoAAAASAAAAEgAAAIYAAAAkAAAAEgAAABMAAABjAAAAIQAAABMAAAATAAAAXwAAAB0AAAAXAAAAFQAAAGQAAAAdAAAAFQAAABUAAABHAAAAGwAAABUAAAAVAAAAUAAAABsAAAAVAAAAFQAAAEAAAAAbAAAAFQAAABUAAABHAAAAGwAAABUAAAAVAAAAUQAAAB0AAAAVAAAAFQAAAEYAAAAbAAAAFQAAABUAAAByAAAAHwAAABUAAAAVAAAAUQAAAB0AAAAXAAAAFQAAAGoAAAAbAAAAFQAAABUAAABFAAAAHwAAABUAAAAVAAAATAAAAB0AAAAVAAAAFQAAAFgAAAAbAAAAFQAAABUAAAA5AAAAGwAAABUAAAAXAAAAQwAAAB8AAAAVAAAAFQAAACYAAAAdAAAAFQAAABUAAAAwAAAAHQAAABUAAAAVAAAASgAAAB0AAAAVAAAAFQAAAC8AAAAbAAAAFQAAABUAAAA3AAAAGwAAABUAAAAVAAAAPgAAABsAAAAVAAAAFQAAAEQAAAAbAAAAFQAAABUAAABaAAAAGwAAABUAAAAVAAAAQQAAABsAAAAVAAAAFQAAADsAAAAbAAAAFQAAABUAAAAuAAAAGwAAABUAAAAVAAAANgAAABsAAAAVAAAAFQAAACMAAAAbAAAAFQAAABUAAAAhAAAAGwAAABUAAAAVAAAAHQAAABsAAAAVAAAAFQAAADMAAAAbAAAAFQAAABUAAAAkAAAAHQAAABUAAAAVAAAAKwAAAB0AAAAVAAAAFQAAADQAAAAcAAAAFQAAABUAAAA8AAAAGwAAABUAAAAVAAAAPwAAABsAAAAVAAAAFQAAACkAAAAbAAAAFQAAABUAAAAiAAAAGwAAABUAAAAVAAAAIgAAABsAAAAVAAAAFQAAACUAAAAbAAAAFQAAABUAAAAwAAAAGwAAABUAAAAVAAAALwAAABsAAAAVAAAAFQAAADcAAAAdAAAAFQAAABUAAAAqAAAAGwAAABUAAAAVAAAAKgAAABsAAAAVAAAAFQAAADAAAAAbAAAAFQAAABUAAAArAAAAGwAAABUAAAAVAAAAKAAAABsAAAAVAAAAFQAAACkAAAAbAAAAFQAAABUAAAAsAAAAGwAAABUAAAAVAAAANwAAABsAAAAVAAAAFQAAACwAAAAbAAAAFQAAABUAAAAsAAAAGwAAABUAAAAVAAAALAAAABsAAAAVAAAAFQAAABoAAAgbAAAAGgAAABIAAAASAAAAEgAAABsAAAAUAAAAEgAAABIAAAAbAAAAFAAAABIAAAASAAAAGwAAABQAAAASAAAAEgAAAB0AAAAUAAAAEgAAABIAAAAbAAAAFAAAABIAAAASAAAAGwAAABQAAAASAAAAEgAAABsAAAAUAAAAEgAAABIAAAAbAAAAFAAAABIAAAASAAAAGwAAABQAAAASAAAAEgAAABsAAAAUAAAAEgAAABIAAAAbAAAAFAAAABIAAAASAAAAGwAAABQAAAASAAAAEgAAABsAAAAUAAAAEgAAABIAAAAbAAAAFAAAABIAAAASAAAAGwAAABQAAAASAAAAEgAAABsAAAAUAAAAEgAAABIAAAAjAAAAFQAAABIAAAASAAAAGwAAABQAAAASAAAAEgAAABsAAAAUAAAAEgAAABIAAAAbAAAAFAAAABIAAAASAAAAGwAAABQAAAASAAAAEgAAABsAAAAUAAAAEgAAABIAAAAbAAAAFAAAABIAAAASAAAAGwAAABQAAAASAAAAEgAAABsAAAAUAAAAEgAAABIAAAAbAAAAFAAAABIAAAASAAAAGwAAABQAAAASAAAAEgAAABsAAAAUAAAAEgAAABIAAAAbAAAAFAAAABIAAAASAAAAGwAAABQAAAASAAAAEgAAABsAAAAUAAAAEgAAABIAAAAbAAAAFAAAABIAAAASAAAAGwAAABQAAAASAAAAEgAAABsAAAAUAAAAEgAAABIAAAAbAAAAFAAAABIAAAASAAAAGwAAABQAAAASAAAAEgAAABsAAAAUAAAAEgAAABIAAAAbAAAAFAAAABIAAAASAAAAGwAAABQAAAASAAAAEgAAABsAAAAUAAAAEgAAABIAAAAbAAAAFAAAABIAAAASAAAAGwAAABQAAAASAAAAEgAAABsAAAAUAAAAEgAAABIAAAAbAAAAFAAAABIAAAASAAAAGwAAABQAAAASAAAAEgAAABsAAAAUAAAAEgAAABIAAAAbAAAAFAAAABIAAAASAAAAGwAAABQAAAASAAAAEgAAABsAAAAUAAAAEgAAABIAAAAbAAAAFAAAABIAAAASAAAAGwAAABQAAAASAAAAEgAAABsAAAAUAAAAEgAAABIAAAAbAAAAFAAAABIAAAASAAAAGwAAABQAAAASAAAAEgAAABsAAAAUAAAAEgAAABIAAAAbAAAAFAAAABIAAAASAAAAGwAAABQAAAASAAAAEgAAABsAAAAUAAAAEgAAABIAAAAbAAAAFAAAABIAAAASAAAAGwAAABQAAAASAAAAEgAAABsAAAAUAAAAEgAAABIAAAAaAAAILwAAABsAAAASAAAAEgAAABIAAAAgAAAAFAAAABIAAAASAAAAGwAAABQAAAASAAAAEgAAABsAAAAUAAAAEgAAABIAAAAbAAAAFAAAABIAAAASAAAAGwAAABQAAAASAAAAEgAAABsAAAAUAAAAEgAAABIAAAAbAAAAFAAAABIAAAASAAAAGwAAABQAAAASAAAAEgAAABsAAAAUAAAAEgAAABIAAAAbAAAAFAAAABIAAAASAAAAGwAAABQAAAASAAAAEgAAABsAAAAUAAAAEgAAABIAAAAbAAAAFAAAABIAAAASAAAAGwAAABQAAAASAAAAEgAAABsAAAAUAAAAEgAAABIAAAAbAAAAFAAAABIAAAASAAAAGwAAABQAAAASAAAAEgAAABsAAAAUAAAAEgAAABIAAAAbAAAAFAAAABIAAAASAAAAGwAAABQAAAASAAAAEgAAABsAAAAUAAAAEgAAABIAAAAbAAAAFAAAABIAAAASAAAAGwAAABQAAAASAAAAEgAAABsAAAAUAAAAEgAAABIAAAAbAAAAFAAAABIAAAASAAAAGwAAABQAAAASAAAAEgAAABsAAAAUAAAAEgAAABIAAAAbAAAAFAAAABIAAAASAAAAGwAAABQAAAASAAAAEgAAABsAAAAUAAAAEgAAABIAAAAbAAAAFAAAABIAAAASAAAAGwAAABQAAAASAAAAEgAAABsAAAAUAAAAEgAAABIAAAAbAAAAFAAAABIAAAASAAAAGwAAABQAAAASAAAAEgAAABsAAAAUAAAAEgAAABIAAAAbAAAAFAAAABIAAAASAAAAGwAAABQAAAASAAAAEgAAABsAAAAUAAAAEgAAABIAAAAbAAAAFAAAABIAAAASAAAAGwAAABQAAAASAAAAEgAAABsAAAAUAAAAEgAAABIAAAAbAAAAFAAAABIAAAASAAAAGwAAABQAAAASAAAAEgAAABsAAAAUAAAAEgAAABIAAAAbAAAAFAAAABIAAAASAAAAGwAAABQAAAASAAAAEgAAABsAAAAUAAAAEgAAABIAAAAbAAAAFAAAABIAAAASAAAAGwAAABQAAAASAAAAEgAAABsAAAAUAAAAEgAAABIAAAAbAAAAFAAAABIAAAASAAAAGwAAABQAAAASAAAAEgAAABsAAAAUAAAAEgAAABIAAAAbAAAAFAAAABIAAAASAAAAGwAAABQAAAASAAAAEgAAABsAAAAUAAAAEgAAABIAAAAbAAAAFAAAABIAAAASAAAAGwAAABQAAAASAAAAEgAAABsAAAAUAAAAEgAAABIAAAAaAAAAFAAAABIAAAASAAAAGgAAA8cAAAAUc3RjbwAAAAAAAAABAAAAMAAAAGJ1ZHRhAAAAWm1ldGEAAAAAAAAAIWhkbHIAAAAAAAAAAG1kaXJhcHBsAAAAAAAAAAAAAAAALWlsc3QAAAAlqXRvbwAAAB1kYXRhAAAAAQAAAABMYXZmNjAuMTYuMTAw\" type=\"video/mp4\">\n",
       " Your browser does not support the video tag.\n",
       " </video>"
      ],
      "text/plain": [
       "<IPython.core.display.Video object>"
      ]
     },
     "metadata": {},
     "output_type": "display_data"
    }
   ],
   "source": [
    "if not skip_training:\n",
    "    video = Video(Path().cwd()/'results'/'InvertedPendulum-v4'/'video'/'test'/'ex6-episode-0.mp4',\n",
    "    embed=True, html_attributes=\"loop autoplay\") # Set html_attributes=\"controls\" for video control\n",
    "    display(video)"
   ]
  },
  {
   "cell_type": "code",
   "execution_count": 13,
   "id": "54640b32",
   "metadata": {
    "deletable": false,
    "editable": false,
    "nbgrader": {
     "cell_type": "code",
     "checksum": "f83948189f99f90b4085c2d303b547ad",
     "grade": true,
     "grade_id": "cell-09564874b32375cf",
     "locked": true,
     "points": 2,
     "schema_version": 3,
     "solution": false,
     "task": false
    },
    "tags": []
   },
   "outputs": [],
   "source": [
    "%%capture --no-stdout\n",
    "\"TEST\""
   ]
  },
  {
   "cell_type": "markdown",
   "id": "7d432792",
   "metadata": {
    "deletable": false,
    "editable": false,
    "nbgrader": {
     "cell_type": "markdown",
     "checksum": "13b4216c279dd80ba4512330ce718bdd",
     "grade": false,
     "grade_id": "cell-5db97bc9fe1b8e96",
     "locked": true,
     "schema_version": 3,
     "solution": false,
     "task": false
    }
   },
   "source": [
    "<a id='Q1'></a>\n",
    "<div class=\" alert alert-warning\">\n",
    "    <h3><b>Student Question 1.1</b> Relationship between actor-critic and REINFORCE with baseline (10 points) </h3> \n",
    "\n",
    "What is the relationship between actor-critic and REINFORCE with baseline?\n",
    "            \n",
    "🔝\t<a href='#TOC'><b>Table of Contents</b></a>\n",
    "</div>"
   ]
  },
  {
   "cell_type": "markdown",
   "id": "a7662c12-4b22-48ca-85cc-d389b77dde79",
   "metadata": {
    "deletable": false,
    "editable": false,
    "nbgrader": {
     "cell_type": "markdown",
     "checksum": "9e350ecacc72df859b8ea1279bba8b20",
     "grade": false,
     "grade_id": "cell-af3dccf8c7e41349",
     "locked": true,
     "schema_version": 3,
     "solution": false,
     "task": false
    },
    "tags": []
   },
   "source": [
    "<h5><b>Options</b></h5>\n",
    "\n",
    "1. Both actor-critic and REINFORCE use boostrapping to update their parameters. \n",
    "2. Both methods use Monte-Carlo estimates for updating their parameters.\n",
    "3. The baseline in REINFORCE is the state value function for actor-critic.\n",
    "4. Both methods require full-trajectories before they can update their parameters.\n",
    "5. Both methods can update their parameters during each timestep.\n",
    "6. Actor-critic uses bootstrapping to update its parameters while REINFORCE does not.\n",
    "\n",
    "Select the **two** most appropriate answers. Selecting more than 2 answers results in zero points from this task."
   ]
  },
  {
   "cell_type": "code",
   "execution_count": 14,
   "id": "4875db20-b21d-4c28-b2ca-c7f2e46fffe2",
   "metadata": {
    "tags": []
   },
   "outputs": [],
   "source": [
    "sq1_1 = [3,5] # Select the most approapriate answers"
   ]
  },
  {
   "cell_type": "markdown",
   "id": "6f4810fe-a2b7-44cd-93b1-a1b2d082c2ad",
   "metadata": {
    "deletable": false,
    "editable": false,
    "nbgrader": {
     "cell_type": "markdown",
     "checksum": "3beea4b65c1e4d7a95ab8a1ae1600bb9",
     "grade": false,
     "grade_id": "cell-d838cdbf4808c6ff",
     "locked": true,
     "schema_version": 3,
     "solution": false,
     "task": false
    },
    "tags": []
   },
   "source": [
    "The cells below are used for autograding."
   ]
  },
  {
   "cell_type": "code",
   "execution_count": 15,
   "id": "1a6b3310-7e16-4408-9d74-6555c1fc7ed3",
   "metadata": {
    "deletable": false,
    "editable": false,
    "nbgrader": {
     "cell_type": "code",
     "checksum": "1de4c11b92c17597e4ac9050802b3eaa",
     "grade": true,
     "grade_id": "cell-0e00f76e0960536d",
     "locked": true,
     "points": 0,
     "schema_version": 3,
     "solution": false,
     "task": false
    },
    "tags": []
   },
   "outputs": [],
   "source": [
    "assert 1 <= len(sq1_1) <= 2\n",
    "assert set(sq1_1) < set(range(1, 7))"
   ]
  },
  {
   "cell_type": "code",
   "execution_count": null,
   "id": "950514e5-56e9-488d-a9b6-b231e7d5262e",
   "metadata": {
    "deletable": false,
    "editable": false,
    "nbgrader": {
     "cell_type": "code",
     "checksum": "1702e61d7c49da20be80181b5c9d064e",
     "grade": true,
     "grade_id": "cell-26b1c613a6f06ff9",
     "locked": true,
     "points": 5,
     "schema_version": 3,
     "solution": false,
     "task": false
    },
    "tags": []
   },
   "outputs": [],
   "source": []
  },
  {
   "cell_type": "code",
   "execution_count": null,
   "id": "3a5dfa77-0d04-4384-84df-88f14550d8b4",
   "metadata": {
    "deletable": false,
    "editable": false,
    "nbgrader": {
     "cell_type": "code",
     "checksum": "e76afee0618f7073f2ebef8e947b465b",
     "grade": true,
     "grade_id": "cell-9aa5fe70a03ab88f",
     "locked": true,
     "points": 5,
     "schema_version": 3,
     "solution": false,
     "task": false
    },
    "tags": []
   },
   "outputs": [],
   "source": []
  },
  {
   "cell_type": "markdown",
   "id": "8b88b08e",
   "metadata": {
    "deletable": false,
    "editable": false,
    "nbgrader": {
     "cell_type": "markdown",
     "checksum": "a57b56668c6aed15c3d1dcaa0c5e0be7",
     "grade": false,
     "grade_id": "cell-05a96ed4b54d0a0c",
     "locked": true,
     "schema_version": 3,
     "solution": false,
     "task": false
    },
    "tags": []
   },
   "source": [
    "<a id='Q2'></a>\n",
    "<div class=\" alert alert-warning\">\n",
    "    <h3><b>Student Question 1.2</b> Advantage (5 points) </h3> \n",
    "\n",
    "How can the value of advantage be intuitively interpreted? (Your answer should not be longer than 10 sentences).\n",
    "    \n",
    "🔝\t<a href='#TOC'><b>Table of Contents</b></a>\n",
    "</div>"
   ]
  },
  {
   "cell_type": "markdown",
   "id": "aa3bac64",
   "metadata": {
    "deletable": false,
    "nbgrader": {
     "cell_type": "markdown",
     "checksum": "c97f49161088ab47f866a42e9dd909a4",
     "grade": true,
     "grade_id": "cell-7ea462e5360ad185",
     "locked": false,
     "points": 5,
     "schema_version": 3,
     "solution": true,
     "task": false
    }
   },
   "source": [
    "Intuitively, it can be interpreted as the difference between expected value of taking an action from a given state and expected reward from the same state, to provide an estimate on how much better a specific action performs compared to the average returns."
   ]
  },
  {
   "cell_type": "markdown",
   "id": "a4db6c52",
   "metadata": {
    "deletable": false,
    "editable": false,
    "nbgrader": {
     "cell_type": "markdown",
     "checksum": "c98268593ad7780ce49ad86a1e8f987c",
     "grade": false,
     "grade_id": "cell-9a3f2bca9650b8b5",
     "locked": true,
     "schema_version": 3,
     "solution": false,
     "task": false
    }
   },
   "source": [
    "<a id='Q3'></a>\n",
    "<div class=\" alert alert-warning\">\n",
    "    <h3><b>Student Question 1.3</b> Bias and Variance Analysis (10 points) </h3> \n",
    "\n",
    "How does the implemented actor-critic method compare to REINFORCE in terms of bias and variance of the policy gradient estimation? Explain your answer. (Your answer should not be longer than 10 sentences).\n",
    "    \n",
    "🔝\t<a href='#TOC'><b>Table of Contents</b></a>\n",
    "</div>"
   ]
  },
  {
   "cell_type": "markdown",
   "id": "106d5916",
   "metadata": {
    "deletable": false,
    "nbgrader": {
     "cell_type": "markdown",
     "checksum": "22175d03d3f4b28b443696bddd162af1",
     "grade": true,
     "grade_id": "cell-74f7530fd7c8fef3",
     "locked": false,
     "points": 10,
     "schema_version": 3,
     "solution": true,
     "task": false
    }
   },
   "source": [
    "Investigating bias and variance, REINFORCE has high variance (uncertainty) in gradient estimates, as it uses full episode returns to compute the policy gradient, which fluncuates greatly due to random outcomes during the episodes. In contrast, actor-critic method uses the value function to calculate and estimate returns, updating at each time-step, instead of waiting for the full episode to finish. Furthermore, actor-critic reduces varience, making it more stable, as it does more frequent updates. However, it increases bias as the value function is learned through bootstrapping (can lead to incorrect estimates), especially in early training."
   ]
  },
  {
   "cell_type": "markdown",
   "id": "c0ddf4e7",
   "metadata": {
    "deletable": false,
    "editable": false,
    "nbgrader": {
     "cell_type": "markdown",
     "checksum": "600033db53328bf2d16d465b3aff68b2",
     "grade": false,
     "grade_id": "cell-57372114b7deef34",
     "locked": true,
     "schema_version": 3,
     "solution": false,
     "task": false
    }
   },
   "source": [
    "<a id='Q4'></a>\n",
    "<div class=\" alert alert-warning\">\n",
    "    <h3><b>Student Question 1.4</b> Controlling bias-variance tradeoff (10 points) </h3> \n",
    "\n",
    "How could the bias-variance tradeoff in actor-critic be controlled? (Your answer should not be longer than 10 sentences).\n",
    "    \n",
    "🔝\t<a href='#TOC'><b>Table of Contents</b></a>\n",
    "</div>"
   ]
  },
  {
   "cell_type": "markdown",
   "id": "03501249",
   "metadata": {
    "deletable": false,
    "nbgrader": {
     "cell_type": "markdown",
     "checksum": "719a83ac1efc28a51317240ab20e3168",
     "grade": true,
     "grade_id": "cell-bd37bcc37ef9fff6",
     "locked": false,
     "points": 10,
     "schema_version": 3,
     "solution": true,
     "task": false
    }
   },
   "source": [
    "We can balance the actor-critic method's bias and variance, by modifying its bootstrapping, for example, by using Monte Carlo methods, although this may increase variance while lowering bias. To reduce variance specifically, we calculate advantage terms based on the action-value and compare it to the sum of of the immediate reward and the action-state future estimate. It can also be important to consider the variance of generated random actions, which can be controlled by sigma in the policy network's distribution.<br>\n",
    "There also exists DDPG, which could improve value function approximation, or Soft-Actor Critic, which encourages exploration. Both of these approaches help in slowly updating the critic network, which results in a reduced bias.<br>\n",
    "Alternatively, we can normalize advantages (adjusting them to have zero mean and unit variance) or add a baseline substraction to reduce variance in the advantage estimates."
   ]
  },
  {
   "cell_type": "markdown",
   "id": "edc1e91e-5715-45b9-a2c2-4e8f0fd2fff2",
   "metadata": {
    "deletable": false,
    "editable": false,
    "nbgrader": {
     "cell_type": "markdown",
     "checksum": "2b1c367010d08ca7088a8580a920eb7d",
     "grade": false,
     "grade_id": "cell-5f74898cf5b2c817",
     "locked": true,
     "schema_version": 3,
     "solution": false,
     "task": false
    },
    "tags": []
   },
   "source": [
    "\n",
    "# 3. Submitting <a id='3.'></a>\n",
    "Ensure all tasks and questions (in ```ex6_DDPG.ipynb``` and ```ex6_PG_AC.ipynb```) are answered and the necessary plots are saved in the appropriate locations. The relevant plots and files needed to be submitted for this assignment are:\n",
    "\n",
    "\n",
    "- Training performance plots:\n",
    "  - `pg_ac.png`: Training performance plots in terms of episode and episodic reward\n",
    "<br>\n",
    "\n",
    "  \n",
    "- Model files:\n",
    "  - `InvertedPendulum-v4_params.pt`: Trained model\n",
    "\n",
    "\n",
    "Ensure the model files and plots are saved in correct paths:\n",
    "- ```results/InvertedPendulum-v4/pg_ac.png``` Training result\n",
    "- ```results/InvertedPendulum-v4/model/InvertedPendulum-v4_params.pt``` Training Model\n",
    "\n",
    "\n",
    "<span style=\"color:red\"> **# IMPORTANT: DO NOT FORGET ANOTHER TASK IN ```ex6_DDPG.ipynb```** </span>"
   ]
  },
  {
   "cell_type": "code",
   "execution_count": null,
   "id": "e9269a2b",
   "metadata": {},
   "outputs": [],
   "source": [
    "# Make sure that skip training is set to True before submission\n",
    "assert skip_training == True"
   ]
  },
  {
   "cell_type": "markdown",
   "id": "88b0c6d7-563a-4037-9d4c-ef1422d7b657",
   "metadata": {
    "deletable": false,
    "editable": false,
    "nbgrader": {
     "cell_type": "markdown",
     "checksum": "89e8fd20b8a0b3230d25dc0d69962803",
     "grade": false,
     "grade_id": "cell-99c320f0e224a0c8",
     "locked": true,
     "schema_version": 3,
     "solution": false,
     "task": false
    },
    "tags": []
   },
   "source": [
    "## 3.1 Feedback <a id='3.1'></a>\n",
    "\n",
    "In order to help the staff of the course as well as the forthcoming students, it would be great if you could answer to the following questions in your submission:"
   ]
  },
  {
   "cell_type": "markdown",
   "id": "de2e7c42-211b-419b-a3c9-daeab45597f1",
   "metadata": {
    "deletable": false,
    "editable": false,
    "nbgrader": {
     "cell_type": "markdown",
     "checksum": "016e22b96662eff6447f48f25857a230",
     "grade": false,
     "grade_id": "cell-09e6cdb34c71b984",
     "locked": true,
     "schema_version": 3,
     "solution": false,
     "task": false
    },
    "tags": []
   },
   "source": [
    "1) How much time did you spend solving this exercise? (change the ```hrs``` variable below to a floating point number representing the number of hours taken e.g. 5.43)"
   ]
  },
  {
   "cell_type": "code",
   "execution_count": null,
   "id": "3cfa3e0a-f247-43f4-92cc-5b6e99c79049",
   "metadata": {
    "tags": []
   },
   "outputs": [],
   "source": [
    "hrs = None"
   ]
  },
  {
   "cell_type": "markdown",
   "id": "83e49e4f-0803-4d11-9ac4-9f77bedfa52f",
   "metadata": {
    "deletable": false,
    "editable": false,
    "nbgrader": {
     "cell_type": "markdown",
     "checksum": "7c96fba064ac1fc2b00810fc1dc378a0",
     "grade": false,
     "grade_id": "cell-fa64dd33a8c904ef",
     "locked": true,
     "schema_version": 3,
     "solution": false,
     "task": false
    },
    "tags": []
   },
   "source": [
    "2) Difficulty of each task/question from 1-5 (int or float)"
   ]
  },
  {
   "cell_type": "code",
   "execution_count": null,
   "id": "f8fc5ed4-1957-4c5c-97fb-de2dc7c4362e",
   "metadata": {
    "tags": []
   },
   "outputs": [],
   "source": [
    "T1 = None   # Implementing DDPG (20 points)\n",
    "Q1 = None   # Question 1.1 Relationship between actor-critic and REINFORCE with baseline (10 points)\n",
    "Q2 = None   # Question 1.2 Advantage (5 points)\n",
    "Q3 = None   # Question 1.3 Bias and Variance Analysis (10 points)\n",
    "Q4 = None   # Question 1.4 Controlling bias-variance tradeoff (10 points)"
   ]
  },
  {
   "cell_type": "markdown",
   "id": "a8f6cdd1-ea58-4a06-a81b-1d7cc36f14a2",
   "metadata": {
    "deletable": false,
    "editable": false,
    "nbgrader": {
     "cell_type": "markdown",
     "checksum": "4dab816afcbe55502451543d8a576129",
     "grade": false,
     "grade_id": "cell-69fa22cf9bfa78b8",
     "locked": true,
     "schema_version": 3,
     "solution": false,
     "task": false
    },
    "tags": []
   },
   "source": [
    "3) How well did you understand the content of the task/question from 1-5? (int or float)"
   ]
  },
  {
   "cell_type": "code",
   "execution_count": null,
   "id": "27706e2f-2a35-4a6e-ad07-9af944b96dfe",
   "metadata": {
    "tags": []
   },
   "outputs": [],
   "source": [
    "T1 = None   # Implementing DDPG (20 points)\n",
    "Q1 = None   # Question 1.1 Relationship between actor-critic and REINFORCE with baseline (10 points)\n",
    "Q2 = None   # Question 1.2 Advantage (5 points)\n",
    "Q3 = None   # Question 1.3 Bias and Variance Analysis (10 points)\n",
    "Q4 = None   # Question 1.4 Controlling bias-variance tradeoff (10 points)"
   ]
  },
  {
   "cell_type": "markdown",
   "id": "bc810cc9-ba38-480d-a95e-178f875bc744",
   "metadata": {
    "deletable": false,
    "editable": false,
    "nbgrader": {
     "cell_type": "markdown",
     "checksum": "e0204b1b962a537ae2e40333c7dfdbcb",
     "grade": false,
     "grade_id": "cell-2e02694ca4fcfa78",
     "locked": true,
     "schema_version": 3,
     "solution": false,
     "task": false
    },
    "tags": []
   },
   "source": [
    "4) General feedback. Consider questions like:\n",
    "\n",
    "    - Did the content of the lecture relate well with the assignment?\n",
    "    - To what extent did you find the material to be potentially useful for your research and studies?\n",
    "    \n",
    "Please share any additional feedback, suggestions, or comments you have about the lecture, assignment, or course content. Your input is valuable in helping us improve the learning experience."
   ]
  },
  {
   "cell_type": "markdown",
   "id": "ce6d30ad-8d44-4fe5-a642-121200f920d1",
   "metadata": {
    "tags": []
   },
   "source": [
    "DOUBLE CLICK HERE TO EDIT, CLEAR THIS TEXT AND ANSWER HERE"
   ]
  },
  {
   "cell_type": "markdown",
   "id": "785254f3-48b6-44a6-ace6-0eae136d6396",
   "metadata": {
    "deletable": false,
    "editable": false,
    "nbgrader": {
     "cell_type": "markdown",
     "checksum": "c456a1da33caaefda4a4a4c165be11d6",
     "grade": false,
     "grade_id": "cell-5086c1c7c783ad08",
     "locked": true,
     "schema_version": 3,
     "solution": false,
     "task": false
    },
    "tags": []
   },
   "source": [
    "# References <a id='4.'></a>\n",
    "Please use the following section to record references."
   ]
  },
  {
   "cell_type": "code",
   "execution_count": null,
   "id": "1be24169-8a32-4c87-9e15-3f6eee2364a9",
   "metadata": {},
   "outputs": [],
   "source": []
  }
 ],
 "metadata": {
  "kernelspec": {
   "display_name": "Python 3",
   "language": "python",
   "name": "python3"
  },
  "language_info": {
   "codemirror_mode": {
    "name": "ipython",
    "version": 3
   },
   "file_extension": ".py",
   "mimetype": "text/x-python",
   "name": "python",
   "nbconvert_exporter": "python",
   "pygments_lexer": "ipython3",
   "version": "3.10.12"
  }
 },
 "nbformat": 4,
 "nbformat_minor": 5
}
